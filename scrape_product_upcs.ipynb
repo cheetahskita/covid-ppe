{
 "cells": [
  {
   "cell_type": "code",
   "execution_count": 1,
   "metadata": {},
   "outputs": [],
   "source": [
    "from bs4 import BeautifulSoup\n",
    "import requests\n",
    "import pandas as pd\n",
    "import numpy as np\n",
    "import time\n",
    "import random\n",
    "my_header = {'User-Agent':'Mozilla/5.0 (Windows NT 10.0; Win64; x64) AppleWebKit/537.36 (KHTML, like Gecko) Chrome/86.0.4240.75 Safari/537.36'}"
   ]
  },
  {
   "cell_type": "code",
   "execution_count": 22,
   "metadata": {},
   "outputs": [],
   "source": [
    "products = pd.read_csv('output/df_total.csv')"
   ]
  },
  {
   "cell_type": "code",
   "execution_count": 23,
   "metadata": {},
   "outputs": [
    {
     "data": {
      "text/html": [
       "<div>\n",
       "<style scoped>\n",
       "    .dataframe tbody tr th:only-of-type {\n",
       "        vertical-align: middle;\n",
       "    }\n",
       "\n",
       "    .dataframe tbody tr th {\n",
       "        vertical-align: top;\n",
       "    }\n",
       "\n",
       "    .dataframe thead th {\n",
       "        text-align: right;\n",
       "    }\n",
       "</style>\n",
       "<table border=\"1\" class=\"dataframe\">\n",
       "  <thead>\n",
       "    <tr style=\"text-align: right;\">\n",
       "      <th></th>\n",
       "      <th>group</th>\n",
       "      <th>sub-group</th>\n",
       "      <th>product_line</th>\n",
       "      <th>product_number</th>\n",
       "      <th>description</th>\n",
       "      <th>url</th>\n",
       "    </tr>\n",
       "  </thead>\n",
       "  <tbody>\n",
       "    <tr>\n",
       "      <th>0</th>\n",
       "      <td>Medical Exam Gloves</td>\n",
       "      <td>Nitrile</td>\n",
       "      <td>STERLING ZERO* Nitrile Exam Glove</td>\n",
       "      <td>47459</td>\n",
       "      <td>Size:X-Small</td>\n",
       "      <td>https://products.halyardhealth.com/infection-p...</td>\n",
       "    </tr>\n",
       "    <tr>\n",
       "      <th>1</th>\n",
       "      <td>Medical Exam Gloves</td>\n",
       "      <td>Nitrile</td>\n",
       "      <td>STERLING ZERO* Nitrile Exam Glove</td>\n",
       "      <td>47460</td>\n",
       "      <td>Size:Small</td>\n",
       "      <td>https://products.halyardhealth.com/infection-p...</td>\n",
       "    </tr>\n",
       "    <tr>\n",
       "      <th>2</th>\n",
       "      <td>Medical Exam Gloves</td>\n",
       "      <td>Nitrile</td>\n",
       "      <td>STERLING ZERO* Nitrile Exam Glove</td>\n",
       "      <td>47461</td>\n",
       "      <td>Size:Medium</td>\n",
       "      <td>https://products.halyardhealth.com/infection-p...</td>\n",
       "    </tr>\n",
       "    <tr>\n",
       "      <th>3</th>\n",
       "      <td>Medical Exam Gloves</td>\n",
       "      <td>Nitrile</td>\n",
       "      <td>STERLING ZERO* Nitrile Exam Glove</td>\n",
       "      <td>47462</td>\n",
       "      <td>Size:Large</td>\n",
       "      <td>https://products.halyardhealth.com/infection-p...</td>\n",
       "    </tr>\n",
       "    <tr>\n",
       "      <th>4</th>\n",
       "      <td>Medical Exam Gloves</td>\n",
       "      <td>Nitrile</td>\n",
       "      <td>STERLING ZERO* Nitrile Exam Glove</td>\n",
       "      <td>47463</td>\n",
       "      <td>Size:X-Large</td>\n",
       "      <td>https://products.halyardhealth.com/infection-p...</td>\n",
       "    </tr>\n",
       "  </tbody>\n",
       "</table>\n",
       "</div>"
      ],
      "text/plain": [
       "                 group sub-group                       product_line  \\\n",
       "0  Medical Exam Gloves   Nitrile  STERLING ZERO* Nitrile Exam Glove   \n",
       "1  Medical Exam Gloves   Nitrile  STERLING ZERO* Nitrile Exam Glove   \n",
       "2  Medical Exam Gloves   Nitrile  STERLING ZERO* Nitrile Exam Glove   \n",
       "3  Medical Exam Gloves   Nitrile  STERLING ZERO* Nitrile Exam Glove   \n",
       "4  Medical Exam Gloves   Nitrile  STERLING ZERO* Nitrile Exam Glove   \n",
       "\n",
       "  product_number   description  \\\n",
       "0          47459  Size:X-Small   \n",
       "1          47460    Size:Small   \n",
       "2          47461   Size:Medium   \n",
       "3          47462    Size:Large   \n",
       "4          47463  Size:X-Large   \n",
       "\n",
       "                                                 url  \n",
       "0  https://products.halyardhealth.com/infection-p...  \n",
       "1  https://products.halyardhealth.com/infection-p...  \n",
       "2  https://products.halyardhealth.com/infection-p...  \n",
       "3  https://products.halyardhealth.com/infection-p...  \n",
       "4  https://products.halyardhealth.com/infection-p...  "
      ]
     },
     "execution_count": 23,
     "metadata": {},
     "output_type": "execute_result"
    }
   ],
   "source": [
    "products.head()"
   ]
  },
  {
   "cell_type": "code",
   "execution_count": 25,
   "metadata": {},
   "outputs": [],
   "source": [
    "products['mfg'] = 'Halyard Health'"
   ]
  },
  {
   "cell_type": "code",
   "execution_count": 27,
   "metadata": {},
   "outputs": [
    {
     "name": "stderr",
     "output_type": "stream",
     "text": [
      "D:\\Software\\anaconda3\\lib\\site-packages\\ipykernel_launcher.py:2: SettingWithCopyWarning: \n",
      "A value is trying to be set on a copy of a slice from a DataFrame.\n",
      "Try using .loc[row_indexer,col_indexer] = value instead\n",
      "\n",
      "See the caveats in the documentation: https://pandas.pydata.org/pandas-docs/stable/user_guide/indexing.html#returning-a-view-versus-a-copy\n",
      "  \n",
      "D:\\Software\\anaconda3\\lib\\site-packages\\pandas\\core\\indexing.py:659: SettingWithCopyWarning: \n",
      "A value is trying to be set on a copy of a slice from a DataFrame.\n",
      "Try using .loc[row_indexer,col_indexer] = value instead\n",
      "\n",
      "See the caveats in the documentation: https://pandas.pydata.org/pandas-docs/stable/user_guide/indexing.html#returning-a-view-versus-a-copy\n",
      "  self.obj[k] = np.nan\n",
      "D:\\Software\\anaconda3\\lib\\site-packages\\ipykernel_launcher.py:3: SettingWithCopyWarning: \n",
      "A value is trying to be set on a copy of a slice from a DataFrame.\n",
      "Try using .loc[row_indexer,col_indexer] = value instead\n",
      "\n",
      "See the caveats in the documentation: https://pandas.pydata.org/pandas-docs/stable/user_guide/indexing.html#returning-a-view-versus-a-copy\n",
      "  This is separate from the ipykernel package so we can avoid doing imports until\n",
      "D:\\Software\\anaconda3\\lib\\site-packages\\pandas\\core\\indexing.py:1765: SettingWithCopyWarning: \n",
      "A value is trying to be set on a copy of a slice from a DataFrame.\n",
      "Try using .loc[row_indexer,col_indexer] = value instead\n",
      "\n",
      "See the caveats in the documentation: https://pandas.pydata.org/pandas-docs/stable/user_guide/indexing.html#returning-a-view-versus-a-copy\n",
      "  isetter(loc, value)\n"
     ]
    },
    {
     "data": {
      "text/html": [
       "<div>\n",
       "<style scoped>\n",
       "    .dataframe tbody tr th:only-of-type {\n",
       "        vertical-align: middle;\n",
       "    }\n",
       "\n",
       "    .dataframe tbody tr th {\n",
       "        vertical-align: top;\n",
       "    }\n",
       "\n",
       "    .dataframe thead th {\n",
       "        text-align: right;\n",
       "    }\n",
       "</style>\n",
       "<table border=\"1\" class=\"dataframe\">\n",
       "  <thead>\n",
       "    <tr style=\"text-align: right;\">\n",
       "      <th></th>\n",
       "      <th>mfg</th>\n",
       "      <th>product_number</th>\n",
       "      <th>search</th>\n",
       "      <th>case_gtin</th>\n",
       "      <th>box_gtin</th>\n",
       "    </tr>\n",
       "  </thead>\n",
       "  <tbody>\n",
       "    <tr>\n",
       "      <th>0</th>\n",
       "      <td>Halyard Health</td>\n",
       "      <td>47459</td>\n",
       "      <td>Halyard Health 47459</td>\n",
       "      <td>NaN</td>\n",
       "      <td>NaN</td>\n",
       "    </tr>\n",
       "    <tr>\n",
       "      <th>1</th>\n",
       "      <td>Halyard Health</td>\n",
       "      <td>47460</td>\n",
       "      <td>Halyard Health 47460</td>\n",
       "      <td>NaN</td>\n",
       "      <td>NaN</td>\n",
       "    </tr>\n",
       "    <tr>\n",
       "      <th>2</th>\n",
       "      <td>Halyard Health</td>\n",
       "      <td>47461</td>\n",
       "      <td>Halyard Health 47461</td>\n",
       "      <td>NaN</td>\n",
       "      <td>NaN</td>\n",
       "    </tr>\n",
       "    <tr>\n",
       "      <th>3</th>\n",
       "      <td>Halyard Health</td>\n",
       "      <td>47462</td>\n",
       "      <td>Halyard Health 47462</td>\n",
       "      <td>NaN</td>\n",
       "      <td>NaN</td>\n",
       "    </tr>\n",
       "    <tr>\n",
       "      <th>4</th>\n",
       "      <td>Halyard Health</td>\n",
       "      <td>47463</td>\n",
       "      <td>Halyard Health 47463</td>\n",
       "      <td>NaN</td>\n",
       "      <td>NaN</td>\n",
       "    </tr>\n",
       "  </tbody>\n",
       "</table>\n",
       "</div>"
      ],
      "text/plain": [
       "              mfg product_number                search case_gtin box_gtin\n",
       "0  Halyard Health          47459  Halyard Health 47459       NaN      NaN\n",
       "1  Halyard Health          47460  Halyard Health 47460       NaN      NaN\n",
       "2  Halyard Health          47461  Halyard Health 47461       NaN      NaN\n",
       "3  Halyard Health          47462  Halyard Health 47462       NaN      NaN\n",
       "4  Halyard Health          47463  Halyard Health 47463       NaN      NaN"
      ]
     },
     "execution_count": 27,
     "metadata": {},
     "output_type": "execute_result"
    }
   ],
   "source": [
    "upcs = products[['mfg', 'product_number']]\n",
    "upcs['search'] = upcs['mfg'] + ' ' + upcs['product_number'].astype(str)\n",
    "upcs[['case_gtin', 'box_gtin']] = 'NaN'\n",
    "upcs.head()"
   ]
  },
  {
   "cell_type": "markdown",
   "metadata": {},
   "source": [
    "## First attempt using BarCodeSpider.com"
   ]
  },
  {
   "cell_type": "markdown",
   "metadata": {},
   "source": [
    "Thwarted by captcha... Also, some of the products were missing..."
   ]
  },
  {
   "cell_type": "code",
   "execution_count": null,
   "metadata": {},
   "outputs": [],
   "source": [
    "# case_found = False\n",
    "# box_found = False\n",
    "\n",
    "# for i in range(len(upcs2)):\n",
    "#     search = upcs2.loc[i, 'search']\n",
    "#     print('Searching product: ', search, ' on UPC_Item_DB')\n",
    "    \n",
    "#     search = search.replace(' ','%20')\n",
    "#     url = 'https://www.upcitemdb.com/upc/' + search\n",
    "#     response = requests.get(url, headers=my_header, verify=False)\n",
    "    \n",
    "#     if(response):\n",
    "#         print('\\tProduct found!')\n",
    "        \n",
    "#         text = BeautifulSoup(response.text, 'html.parser')\n",
    "#         text = text.find_all('div', {'class': 'upclist col-xs-12'})\n",
    "#         text = text[0].ul.find_all('li',{'class': ''})\n",
    "#         upc_list = [t.get_text()[0:12] for t in text]\n",
    "\n",
    "#         for upc in upc_list[0:5]:\n",
    "#             print('\\tChecking UPC: ', upc, ' on Barcode Spider')\n",
    "            \n",
    "#             url = 'https://www.barcodespider.com/' + upc\n",
    "#             response = requests.get(url, headers=my_header)\n",
    "#             text = BeautifulSoup(response.text, 'html.parser')\n",
    "#             text = text.get_text().lower()\n",
    "            \n",
    "#             if text.find('model') >= 0:\n",
    "#                 if text.find('case') >= 0:\n",
    "#                     print('\\t\\tCase found!')\n",
    "#                     upcs2.loc[i, 'case_gtin'] = upc\n",
    "#                     case_found = True\n",
    "#                 else:\n",
    "#                     print('\\t\\tBox found!')\n",
    "#                     upcs2.loc[i, 'box_gtin'] = upc\n",
    "#                     box_found = True\n",
    "                    \n",
    "#             elif (text.find('robot') >= 0) or (text.find('captcha') >= 0):\n",
    "#                 print('\\tRobot detected!')\n",
    "                \n",
    "#             else:\n",
    "#                 print('\\tUPC not found.')\n",
    "            \n",
    "#             time.sleep(random.randint(10,15))\n",
    "            \n",
    "#             if case_found and box_found:\n",
    "#                 print('\\tCase and box found! Moving on.')\n",
    "#                 break\n",
    "#     else:\n",
    "#         print('\\tNo UPCs found on UPC_Item_DB.')\n",
    "        \n",
    "#     case_found = False\n",
    "#     box_found = False"
   ]
  },
  {
   "cell_type": "markdown",
   "metadata": {},
   "source": [
    "## Second attempt using only UpcItemDB.com"
   ]
  },
  {
   "cell_type": "code",
   "execution_count": 30,
   "metadata": {
    "scrolled": true
   },
   "outputs": [
    {
     "name": "stdout",
     "output_type": "stream",
     "text": [
      "Searching product:  Halyard Health 47459  on UPC_Item_DB\n"
     ]
    },
    {
     "name": "stderr",
     "output_type": "stream",
     "text": [
      "D:\\Software\\anaconda3\\lib\\site-packages\\urllib3\\connectionpool.py:988: InsecureRequestWarning: Unverified HTTPS request is being made to host 'www.upcitemdb.com'. Adding certificate verification is strongly advised. See: https://urllib3.readthedocs.io/en/latest/advanced-usage.html#ssl-warnings\n",
      "  InsecureRequestWarning,\n"
     ]
    },
    {
     "name": "stdout",
     "output_type": "stream",
     "text": [
      "\tNo UPCs found on UPC_Item_DB.\n",
      "\tUpdated:  NaN\n",
      "\tUpdated:  NaN\n",
      "Searching product:  Halyard Health 47460  on UPC_Item_DB\n"
     ]
    },
    {
     "name": "stderr",
     "output_type": "stream",
     "text": [
      "D:\\Software\\anaconda3\\lib\\site-packages\\urllib3\\connectionpool.py:988: InsecureRequestWarning: Unverified HTTPS request is being made to host 'www.upcitemdb.com'. Adding certificate verification is strongly advised. See: https://urllib3.readthedocs.io/en/latest/advanced-usage.html#ssl-warnings\n",
      "  InsecureRequestWarning,\n"
     ]
    },
    {
     "name": "stdout",
     "output_type": "stream",
     "text": [
      "\tNo UPCs found on UPC_Item_DB.\n",
      "\tUpdated:  NaN\n",
      "\tUpdated:  NaN\n",
      "Searching product:  Halyard Health 47461  on UPC_Item_DB\n"
     ]
    },
    {
     "name": "stderr",
     "output_type": "stream",
     "text": [
      "D:\\Software\\anaconda3\\lib\\site-packages\\urllib3\\connectionpool.py:988: InsecureRequestWarning: Unverified HTTPS request is being made to host 'www.upcitemdb.com'. Adding certificate verification is strongly advised. See: https://urllib3.readthedocs.io/en/latest/advanced-usage.html#ssl-warnings\n",
      "  InsecureRequestWarning,\n"
     ]
    },
    {
     "name": "stdout",
     "output_type": "stream",
     "text": [
      "\tNo UPCs found on UPC_Item_DB.\n",
      "\tUpdated:  NaN\n",
      "\tUpdated:  NaN\n",
      "Searching product:  Halyard Health 47462  on UPC_Item_DB\n"
     ]
    },
    {
     "name": "stderr",
     "output_type": "stream",
     "text": [
      "D:\\Software\\anaconda3\\lib\\site-packages\\urllib3\\connectionpool.py:988: InsecureRequestWarning: Unverified HTTPS request is being made to host 'www.upcitemdb.com'. Adding certificate verification is strongly advised. See: https://urllib3.readthedocs.io/en/latest/advanced-usage.html#ssl-warnings\n",
      "  InsecureRequestWarning,\n"
     ]
    },
    {
     "name": "stdout",
     "output_type": "stream",
     "text": [
      "\tNo UPCs found on UPC_Item_DB.\n",
      "\tUpdated:  NaN\n",
      "\tUpdated:  NaN\n",
      "Searching product:  Halyard Health 47463  on UPC_Item_DB\n"
     ]
    },
    {
     "name": "stderr",
     "output_type": "stream",
     "text": [
      "D:\\Software\\anaconda3\\lib\\site-packages\\urllib3\\connectionpool.py:988: InsecureRequestWarning: Unverified HTTPS request is being made to host 'www.upcitemdb.com'. Adding certificate verification is strongly advised. See: https://urllib3.readthedocs.io/en/latest/advanced-usage.html#ssl-warnings\n",
      "  InsecureRequestWarning,\n"
     ]
    },
    {
     "name": "stdout",
     "output_type": "stream",
     "text": [
      "\tNo UPCs found on UPC_Item_DB.\n",
      "\tUpdated:  NaN\n",
      "\tUpdated:  NaN\n",
      "Searching product:  Halyard Health 14259  on UPC_Item_DB\n"
     ]
    },
    {
     "name": "stderr",
     "output_type": "stream",
     "text": [
      "D:\\Software\\anaconda3\\lib\\site-packages\\urllib3\\connectionpool.py:988: InsecureRequestWarning: Unverified HTTPS request is being made to host 'www.upcitemdb.com'. Adding certificate verification is strongly advised. See: https://urllib3.readthedocs.io/en/latest/advanced-usage.html#ssl-warnings\n",
      "  InsecureRequestWarning,\n"
     ]
    },
    {
     "name": "stdout",
     "output_type": "stream",
     "text": [
      "\tNo UPCs found on UPC_Item_DB.\n",
      "\tUpdated:  NaN\n",
      "\tUpdated:  NaN\n",
      "Searching product:  Halyard Health 44992  on UPC_Item_DB\n"
     ]
    },
    {
     "name": "stderr",
     "output_type": "stream",
     "text": [
      "D:\\Software\\anaconda3\\lib\\site-packages\\urllib3\\connectionpool.py:988: InsecureRequestWarning: Unverified HTTPS request is being made to host 'www.upcitemdb.com'. Adding certificate verification is strongly advised. See: https://urllib3.readthedocs.io/en/latest/advanced-usage.html#ssl-warnings\n",
      "  InsecureRequestWarning,\n"
     ]
    },
    {
     "name": "stdout",
     "output_type": "stream",
     "text": [
      "\tProduct found!\n",
      "\tChecking UPC:  820170072610\n"
     ]
    },
    {
     "name": "stderr",
     "output_type": "stream",
     "text": [
      "D:\\Software\\anaconda3\\lib\\site-packages\\urllib3\\connectionpool.py:988: InsecureRequestWarning: Unverified HTTPS request is being made to host 'www.upcitemdb.com'. Adding certificate verification is strongly advised. See: https://urllib3.readthedocs.io/en/latest/advanced-usage.html#ssl-warnings\n",
      "  InsecureRequestWarning,\n"
     ]
    },
    {
     "name": "stdout",
     "output_type": "stream",
     "text": [
      "\tbox links found:  2\n",
      "\tChecking UPC:  820170072627\n"
     ]
    },
    {
     "name": "stderr",
     "output_type": "stream",
     "text": [
      "D:\\Software\\anaconda3\\lib\\site-packages\\urllib3\\connectionpool.py:988: InsecureRequestWarning: Unverified HTTPS request is being made to host 'www.upcitemdb.com'. Adding certificate verification is strongly advised. See: https://urllib3.readthedocs.io/en/latest/advanced-usage.html#ssl-warnings\n",
      "  InsecureRequestWarning,\n"
     ]
    },
    {
     "name": "stdout",
     "output_type": "stream",
     "text": [
      "\tcase links found:  2\n"
     ]
    },
    {
     "name": "stderr",
     "output_type": "stream",
     "text": [
      "D:\\Software\\anaconda3\\lib\\site-packages\\pandas\\core\\indexing.py:670: SettingWithCopyWarning: \n",
      "A value is trying to be set on a copy of a slice from a DataFrame\n",
      "\n",
      "See the caveats in the documentation: https://pandas.pydata.org/pandas-docs/stable/user_guide/indexing.html#returning-a-view-versus-a-copy\n",
      "  iloc._setitem_with_indexer(indexer, value)\n",
      "D:\\Software\\anaconda3\\lib\\site-packages\\ipykernel_launcher.py:47: SettingWithCopyWarning: \n",
      "A value is trying to be set on a copy of a slice from a DataFrame\n",
      "\n",
      "See the caveats in the documentation: https://pandas.pydata.org/pandas-docs/stable/user_guide/indexing.html#returning-a-view-versus-a-copy\n",
      "D:\\Software\\anaconda3\\lib\\site-packages\\ipykernel_launcher.py:49: SettingWithCopyWarning: \n",
      "A value is trying to be set on a copy of a slice from a DataFrame\n",
      "\n",
      "See the caveats in the documentation: https://pandas.pydata.org/pandas-docs/stable/user_guide/indexing.html#returning-a-view-versus-a-copy\n"
     ]
    },
    {
     "name": "stdout",
     "output_type": "stream",
     "text": [
      "\tUpdated:  820170072627\n",
      "\tUpdated:  820170072610\n",
      "Searching product:  Halyard Health 44993  on UPC_Item_DB\n"
     ]
    },
    {
     "name": "stderr",
     "output_type": "stream",
     "text": [
      "D:\\Software\\anaconda3\\lib\\site-packages\\urllib3\\connectionpool.py:988: InsecureRequestWarning: Unverified HTTPS request is being made to host 'www.upcitemdb.com'. Adding certificate verification is strongly advised. See: https://urllib3.readthedocs.io/en/latest/advanced-usage.html#ssl-warnings\n",
      "  InsecureRequestWarning,\n"
     ]
    },
    {
     "name": "stdout",
     "output_type": "stream",
     "text": [
      "\tProduct found!\n",
      "\tChecking UPC:  820170072634\n"
     ]
    },
    {
     "name": "stderr",
     "output_type": "stream",
     "text": [
      "D:\\Software\\anaconda3\\lib\\site-packages\\urllib3\\connectionpool.py:988: InsecureRequestWarning: Unverified HTTPS request is being made to host 'www.upcitemdb.com'. Adding certificate verification is strongly advised. See: https://urllib3.readthedocs.io/en/latest/advanced-usage.html#ssl-warnings\n",
      "  InsecureRequestWarning,\n"
     ]
    },
    {
     "name": "stdout",
     "output_type": "stream",
     "text": [
      "\tbox links found:  2\n",
      "\tChecking UPC:  820170072641\n"
     ]
    },
    {
     "name": "stderr",
     "output_type": "stream",
     "text": [
      "D:\\Software\\anaconda3\\lib\\site-packages\\urllib3\\connectionpool.py:988: InsecureRequestWarning: Unverified HTTPS request is being made to host 'www.upcitemdb.com'. Adding certificate verification is strongly advised. See: https://urllib3.readthedocs.io/en/latest/advanced-usage.html#ssl-warnings\n",
      "  InsecureRequestWarning,\n"
     ]
    },
    {
     "name": "stdout",
     "output_type": "stream",
     "text": [
      "\tcase links found:  2\n",
      "\tUpdated:  820170072641\n",
      "\tUpdated:  820170072634\n",
      "Searching product:  Halyard Health 44994  on UPC_Item_DB\n"
     ]
    },
    {
     "name": "stderr",
     "output_type": "stream",
     "text": [
      "D:\\Software\\anaconda3\\lib\\site-packages\\urllib3\\connectionpool.py:988: InsecureRequestWarning: Unverified HTTPS request is being made to host 'www.upcitemdb.com'. Adding certificate verification is strongly advised. See: https://urllib3.readthedocs.io/en/latest/advanced-usage.html#ssl-warnings\n",
      "  InsecureRequestWarning,\n"
     ]
    },
    {
     "name": "stdout",
     "output_type": "stream",
     "text": [
      "\tProduct found!\n",
      "\tChecking UPC:  820170072658\n"
     ]
    },
    {
     "name": "stderr",
     "output_type": "stream",
     "text": [
      "D:\\Software\\anaconda3\\lib\\site-packages\\urllib3\\connectionpool.py:988: InsecureRequestWarning: Unverified HTTPS request is being made to host 'www.upcitemdb.com'. Adding certificate verification is strongly advised. See: https://urllib3.readthedocs.io/en/latest/advanced-usage.html#ssl-warnings\n",
      "  InsecureRequestWarning,\n"
     ]
    },
    {
     "name": "stdout",
     "output_type": "stream",
     "text": [
      "\tbox links found:  2\n",
      "\tChecking UPC:  820170072665\n"
     ]
    },
    {
     "name": "stderr",
     "output_type": "stream",
     "text": [
      "D:\\Software\\anaconda3\\lib\\site-packages\\urllib3\\connectionpool.py:988: InsecureRequestWarning: Unverified HTTPS request is being made to host 'www.upcitemdb.com'. Adding certificate verification is strongly advised. See: https://urllib3.readthedocs.io/en/latest/advanced-usage.html#ssl-warnings\n",
      "  InsecureRequestWarning,\n"
     ]
    },
    {
     "name": "stdout",
     "output_type": "stream",
     "text": [
      "\tcase links found:  2\n",
      "\tUpdated:  820170072665\n",
      "\tUpdated:  820170072658\n",
      "Searching product:  Halyard Health 44995  on UPC_Item_DB\n"
     ]
    },
    {
     "name": "stderr",
     "output_type": "stream",
     "text": [
      "D:\\Software\\anaconda3\\lib\\site-packages\\urllib3\\connectionpool.py:988: InsecureRequestWarning: Unverified HTTPS request is being made to host 'www.upcitemdb.com'. Adding certificate verification is strongly advised. See: https://urllib3.readthedocs.io/en/latest/advanced-usage.html#ssl-warnings\n",
      "  InsecureRequestWarning,\n"
     ]
    },
    {
     "name": "stdout",
     "output_type": "stream",
     "text": [
      "\tProduct found!\n",
      "\tChecking UPC:  820170072672\n"
     ]
    },
    {
     "name": "stderr",
     "output_type": "stream",
     "text": [
      "D:\\Software\\anaconda3\\lib\\site-packages\\urllib3\\connectionpool.py:988: InsecureRequestWarning: Unverified HTTPS request is being made to host 'www.upcitemdb.com'. Adding certificate verification is strongly advised. See: https://urllib3.readthedocs.io/en/latest/advanced-usage.html#ssl-warnings\n",
      "  InsecureRequestWarning,\n"
     ]
    },
    {
     "name": "stdout",
     "output_type": "stream",
     "text": [
      "\tbox links found:  2\n",
      "\tChecking UPC:  20680651449959\n"
     ]
    },
    {
     "name": "stderr",
     "output_type": "stream",
     "text": [
      "D:\\Software\\anaconda3\\lib\\site-packages\\urllib3\\connectionpool.py:988: InsecureRequestWarning: Unverified HTTPS request is being made to host 'www.upcitemdb.com'. Adding certificate verification is strongly advised. See: https://urllib3.readthedocs.io/en/latest/advanced-usage.html#ssl-warnings\n",
      "  InsecureRequestWarning,\n"
     ]
    },
    {
     "name": "stdout",
     "output_type": "stream",
     "text": [
      "\tbox links found:  2\n",
      "\tUpdated:  NaN\n",
      "\tUpdated:  820170072672\n",
      "Searching product:  Halyard Health 52816  on UPC_Item_DB\n"
     ]
    },
    {
     "name": "stderr",
     "output_type": "stream",
     "text": [
      "D:\\Software\\anaconda3\\lib\\site-packages\\urllib3\\connectionpool.py:988: InsecureRequestWarning: Unverified HTTPS request is being made to host 'www.upcitemdb.com'. Adding certificate verification is strongly advised. See: https://urllib3.readthedocs.io/en/latest/advanced-usage.html#ssl-warnings\n",
      "  InsecureRequestWarning,\n"
     ]
    },
    {
     "name": "stdout",
     "output_type": "stream",
     "text": [
      "\tProduct found!\n",
      "\tChecking UPC:  820170072931\n"
     ]
    },
    {
     "name": "stderr",
     "output_type": "stream",
     "text": [
      "D:\\Software\\anaconda3\\lib\\site-packages\\urllib3\\connectionpool.py:988: InsecureRequestWarning: Unverified HTTPS request is being made to host 'www.upcitemdb.com'. Adding certificate verification is strongly advised. See: https://urllib3.readthedocs.io/en/latest/advanced-usage.html#ssl-warnings\n",
      "  InsecureRequestWarning,\n"
     ]
    },
    {
     "name": "stdout",
     "output_type": "stream",
     "text": [
      "\tbox links found:  2\n",
      "\tChecking UPC:  820170072948\n"
     ]
    },
    {
     "name": "stderr",
     "output_type": "stream",
     "text": [
      "D:\\Software\\anaconda3\\lib\\site-packages\\urllib3\\connectionpool.py:988: InsecureRequestWarning: Unverified HTTPS request is being made to host 'www.upcitemdb.com'. Adding certificate verification is strongly advised. See: https://urllib3.readthedocs.io/en/latest/advanced-usage.html#ssl-warnings\n",
      "  InsecureRequestWarning,\n"
     ]
    },
    {
     "name": "stdout",
     "output_type": "stream",
     "text": [
      "\tbox links found:  2\n",
      "\tChecking UPC:  689853537651\n"
     ]
    },
    {
     "name": "stderr",
     "output_type": "stream",
     "text": [
      "D:\\Software\\anaconda3\\lib\\site-packages\\urllib3\\connectionpool.py:988: InsecureRequestWarning: Unverified HTTPS request is being made to host 'www.upcitemdb.com'. Adding certificate verification is strongly advised. See: https://urllib3.readthedocs.io/en/latest/advanced-usage.html#ssl-warnings\n",
      "  InsecureRequestWarning,\n"
     ]
    },
    {
     "name": "stdout",
     "output_type": "stream",
     "text": [
      "\tbox links found:  2\n",
      "\tChecking UPC:  795525755084\n"
     ]
    },
    {
     "name": "stderr",
     "output_type": "stream",
     "text": [
      "D:\\Software\\anaconda3\\lib\\site-packages\\urllib3\\connectionpool.py:988: InsecureRequestWarning: Unverified HTTPS request is being made to host 'www.upcitemdb.com'. Adding certificate verification is strongly advised. See: https://urllib3.readthedocs.io/en/latest/advanced-usage.html#ssl-warnings\n",
      "  InsecureRequestWarning,\n"
     ]
    },
    {
     "name": "stdout",
     "output_type": "stream",
     "text": [
      "\tbox links found:  1\n",
      "\tUpdated:  NaN\n",
      "\tUpdated:  820170072931\n",
      "Searching product:  Halyard Health 52817  on UPC_Item_DB\n"
     ]
    },
    {
     "name": "stderr",
     "output_type": "stream",
     "text": [
      "D:\\Software\\anaconda3\\lib\\site-packages\\urllib3\\connectionpool.py:988: InsecureRequestWarning: Unverified HTTPS request is being made to host 'www.upcitemdb.com'. Adding certificate verification is strongly advised. See: https://urllib3.readthedocs.io/en/latest/advanced-usage.html#ssl-warnings\n",
      "  InsecureRequestWarning,\n"
     ]
    },
    {
     "name": "stdout",
     "output_type": "stream",
     "text": [
      "\tProduct found!\n",
      "\tChecking UPC:  680651528179\n"
     ]
    },
    {
     "name": "stderr",
     "output_type": "stream",
     "text": [
      "D:\\Software\\anaconda3\\lib\\site-packages\\urllib3\\connectionpool.py:988: InsecureRequestWarning: Unverified HTTPS request is being made to host 'www.upcitemdb.com'. Adding certificate verification is strongly advised. See: https://urllib3.readthedocs.io/en/latest/advanced-usage.html#ssl-warnings\n",
      "  InsecureRequestWarning,\n"
     ]
    },
    {
     "name": "stdout",
     "output_type": "stream",
     "text": [
      "\tbox links found:  15\n",
      "\tChecking UPC:  820170072962\n"
     ]
    },
    {
     "name": "stderr",
     "output_type": "stream",
     "text": [
      "D:\\Software\\anaconda3\\lib\\site-packages\\urllib3\\connectionpool.py:988: InsecureRequestWarning: Unverified HTTPS request is being made to host 'www.upcitemdb.com'. Adding certificate verification is strongly advised. See: https://urllib3.readthedocs.io/en/latest/advanced-usage.html#ssl-warnings\n",
      "  InsecureRequestWarning,\n"
     ]
    },
    {
     "name": "stdout",
     "output_type": "stream",
     "text": [
      "\tbox links found:  2\n",
      "\tChecking UPC:  036000528176\n"
     ]
    },
    {
     "name": "stderr",
     "output_type": "stream",
     "text": [
      "D:\\Software\\anaconda3\\lib\\site-packages\\urllib3\\connectionpool.py:988: InsecureRequestWarning: Unverified HTTPS request is being made to host 'www.upcitemdb.com'. Adding certificate verification is strongly advised. See: https://urllib3.readthedocs.io/en/latest/advanced-usage.html#ssl-warnings\n",
      "  InsecureRequestWarning,\n"
     ]
    },
    {
     "name": "stdout",
     "output_type": "stream",
     "text": [
      "\tbox links found:  4\n",
      "\tChecking UPC:  820170072955\n"
     ]
    },
    {
     "name": "stderr",
     "output_type": "stream",
     "text": [
      "D:\\Software\\anaconda3\\lib\\site-packages\\urllib3\\connectionpool.py:988: InsecureRequestWarning: Unverified HTTPS request is being made to host 'www.upcitemdb.com'. Adding certificate verification is strongly advised. See: https://urllib3.readthedocs.io/en/latest/advanced-usage.html#ssl-warnings\n",
      "  InsecureRequestWarning,\n"
     ]
    },
    {
     "name": "stdout",
     "output_type": "stream",
     "text": [
      "\tbox links found:  2\n",
      "\tChecking UPC:  818268050701\n"
     ]
    },
    {
     "name": "stderr",
     "output_type": "stream",
     "text": [
      "D:\\Software\\anaconda3\\lib\\site-packages\\urllib3\\connectionpool.py:988: InsecureRequestWarning: Unverified HTTPS request is being made to host 'www.upcitemdb.com'. Adding certificate verification is strongly advised. See: https://urllib3.readthedocs.io/en/latest/advanced-usage.html#ssl-warnings\n",
      "  InsecureRequestWarning,\n"
     ]
    },
    {
     "name": "stdout",
     "output_type": "stream",
     "text": [
      "\tbox links found:  1\n",
      "\tChecking UPC:  689828818624\n"
     ]
    },
    {
     "name": "stderr",
     "output_type": "stream",
     "text": [
      "D:\\Software\\anaconda3\\lib\\site-packages\\urllib3\\connectionpool.py:988: InsecureRequestWarning: Unverified HTTPS request is being made to host 'www.upcitemdb.com'. Adding certificate verification is strongly advised. See: https://urllib3.readthedocs.io/en/latest/advanced-usage.html#ssl-warnings\n",
      "  InsecureRequestWarning,\n"
     ]
    },
    {
     "name": "stdout",
     "output_type": "stream",
     "text": [
      "\tbox links found:  1\n",
      "\tChecking UPC:  691039885074\n"
     ]
    },
    {
     "name": "stderr",
     "output_type": "stream",
     "text": [
      "D:\\Software\\anaconda3\\lib\\site-packages\\urllib3\\connectionpool.py:988: InsecureRequestWarning: Unverified HTTPS request is being made to host 'www.upcitemdb.com'. Adding certificate verification is strongly advised. See: https://urllib3.readthedocs.io/en/latest/advanced-usage.html#ssl-warnings\n",
      "  InsecureRequestWarning,\n"
     ]
    },
    {
     "name": "stdout",
     "output_type": "stream",
     "text": [
      "\tbox links found:  1\n",
      "\tChecking UPC:  696570168174\n"
     ]
    },
    {
     "name": "stderr",
     "output_type": "stream",
     "text": [
      "D:\\Software\\anaconda3\\lib\\site-packages\\urllib3\\connectionpool.py:988: InsecureRequestWarning: Unverified HTTPS request is being made to host 'www.upcitemdb.com'. Adding certificate verification is strongly advised. See: https://urllib3.readthedocs.io/en/latest/advanced-usage.html#ssl-warnings\n",
      "  InsecureRequestWarning,\n"
     ]
    },
    {
     "name": "stdout",
     "output_type": "stream",
     "text": [
      "\tbox links found:  2\n",
      "\tChecking UPC:  696584162410\n"
     ]
    },
    {
     "name": "stderr",
     "output_type": "stream",
     "text": [
      "D:\\Software\\anaconda3\\lib\\site-packages\\urllib3\\connectionpool.py:988: InsecureRequestWarning: Unverified HTTPS request is being made to host 'www.upcitemdb.com'. Adding certificate verification is strongly advised. See: https://urllib3.readthedocs.io/en/latest/advanced-usage.html#ssl-warnings\n",
      "  InsecureRequestWarning,\n"
     ]
    },
    {
     "name": "stdout",
     "output_type": "stream",
     "text": [
      "\tbox links found:  1\n",
      "\tChecking UPC:  7554511136992\n"
     ]
    },
    {
     "name": "stderr",
     "output_type": "stream",
     "text": [
      "D:\\Software\\anaconda3\\lib\\site-packages\\urllib3\\connectionpool.py:988: InsecureRequestWarning: Unverified HTTPS request is being made to host 'www.upcitemdb.com'. Adding certificate verification is strongly advised. See: https://urllib3.readthedocs.io/en/latest/advanced-usage.html#ssl-warnings\n",
      "  InsecureRequestWarning,\n"
     ]
    },
    {
     "name": "stdout",
     "output_type": "stream",
     "text": [
      "\tbox links found:  1\n",
      "\tUpdated:  NaN\n",
      "\tUpdated:  680651528179\n",
      "Searching product:  Halyard Health 52818  on UPC_Item_DB\n"
     ]
    },
    {
     "name": "stderr",
     "output_type": "stream",
     "text": [
      "D:\\Software\\anaconda3\\lib\\site-packages\\urllib3\\connectionpool.py:988: InsecureRequestWarning: Unverified HTTPS request is being made to host 'www.upcitemdb.com'. Adding certificate verification is strongly advised. See: https://urllib3.readthedocs.io/en/latest/advanced-usage.html#ssl-warnings\n",
      "  InsecureRequestWarning,\n"
     ]
    },
    {
     "name": "stdout",
     "output_type": "stream",
     "text": [
      "\tProduct found!\n",
      "\tChecking UPC:  820170072986\n"
     ]
    },
    {
     "name": "stderr",
     "output_type": "stream",
     "text": [
      "D:\\Software\\anaconda3\\lib\\site-packages\\urllib3\\connectionpool.py:988: InsecureRequestWarning: Unverified HTTPS request is being made to host 'www.upcitemdb.com'. Adding certificate verification is strongly advised. See: https://urllib3.readthedocs.io/en/latest/advanced-usage.html#ssl-warnings\n",
      "  InsecureRequestWarning,\n"
     ]
    },
    {
     "name": "stdout",
     "output_type": "stream",
     "text": [
      "\tbox links found:  2\n",
      "\tChecking UPC:  6281370711329\n"
     ]
    },
    {
     "name": "stderr",
     "output_type": "stream",
     "text": [
      "D:\\Software\\anaconda3\\lib\\site-packages\\urllib3\\connectionpool.py:988: InsecureRequestWarning: Unverified HTTPS request is being made to host 'www.upcitemdb.com'. Adding certificate verification is strongly advised. See: https://urllib3.readthedocs.io/en/latest/advanced-usage.html#ssl-warnings\n",
      "  InsecureRequestWarning,\n"
     ]
    },
    {
     "name": "stdout",
     "output_type": "stream",
     "text": [
      "\tbox links found:  1\n",
      "\tChecking UPC:  7445038866854\n"
     ]
    },
    {
     "name": "stderr",
     "output_type": "stream",
     "text": [
      "D:\\Software\\anaconda3\\lib\\site-packages\\urllib3\\connectionpool.py:988: InsecureRequestWarning: Unverified HTTPS request is being made to host 'www.upcitemdb.com'. Adding certificate verification is strongly advised. See: https://urllib3.readthedocs.io/en/latest/advanced-usage.html#ssl-warnings\n",
      "  InsecureRequestWarning,\n"
     ]
    },
    {
     "name": "stdout",
     "output_type": "stream",
     "text": [
      "\tnot relevant\n",
      "\tUpdated:  NaN\n",
      "\tUpdated:  820170072986\n",
      "Searching product:  Halyard Health 52819  on UPC_Item_DB\n"
     ]
    },
    {
     "name": "stderr",
     "output_type": "stream",
     "text": [
      "D:\\Software\\anaconda3\\lib\\site-packages\\urllib3\\connectionpool.py:988: InsecureRequestWarning: Unverified HTTPS request is being made to host 'www.upcitemdb.com'. Adding certificate verification is strongly advised. See: https://urllib3.readthedocs.io/en/latest/advanced-usage.html#ssl-warnings\n",
      "  InsecureRequestWarning,\n"
     ]
    },
    {
     "name": "stdout",
     "output_type": "stream",
     "text": [
      "\tProduct found!\n",
      "\tChecking UPC:  820170073006\n"
     ]
    },
    {
     "name": "stderr",
     "output_type": "stream",
     "text": [
      "D:\\Software\\anaconda3\\lib\\site-packages\\urllib3\\connectionpool.py:988: InsecureRequestWarning: Unverified HTTPS request is being made to host 'www.upcitemdb.com'. Adding certificate verification is strongly advised. See: https://urllib3.readthedocs.io/en/latest/advanced-usage.html#ssl-warnings\n",
      "  InsecureRequestWarning,\n"
     ]
    },
    {
     "name": "stdout",
     "output_type": "stream",
     "text": [
      "\tbox links found:  2\n",
      "\tChecking UPC:  820170072993\n"
     ]
    },
    {
     "name": "stderr",
     "output_type": "stream",
     "text": [
      "D:\\Software\\anaconda3\\lib\\site-packages\\urllib3\\connectionpool.py:988: InsecureRequestWarning: Unverified HTTPS request is being made to host 'www.upcitemdb.com'. Adding certificate verification is strongly advised. See: https://urllib3.readthedocs.io/en/latest/advanced-usage.html#ssl-warnings\n",
      "  InsecureRequestWarning,\n"
     ]
    },
    {
     "name": "stdout",
     "output_type": "stream",
     "text": [
      "\tbox links found:  2\n",
      "\tChecking UPC:  7415908844237\n"
     ]
    },
    {
     "name": "stderr",
     "output_type": "stream",
     "text": [
      "D:\\Software\\anaconda3\\lib\\site-packages\\urllib3\\connectionpool.py:988: InsecureRequestWarning: Unverified HTTPS request is being made to host 'www.upcitemdb.com'. Adding certificate verification is strongly advised. See: https://urllib3.readthedocs.io/en/latest/advanced-usage.html#ssl-warnings\n",
      "  InsecureRequestWarning,\n"
     ]
    },
    {
     "name": "stdout",
     "output_type": "stream",
     "text": [
      "\tbox links found:  1\n",
      "\tChecking UPC:  689829934248\n"
     ]
    },
    {
     "name": "stderr",
     "output_type": "stream",
     "text": [
      "D:\\Software\\anaconda3\\lib\\site-packages\\urllib3\\connectionpool.py:988: InsecureRequestWarning: Unverified HTTPS request is being made to host 'www.upcitemdb.com'. Adding certificate verification is strongly advised. See: https://urllib3.readthedocs.io/en/latest/advanced-usage.html#ssl-warnings\n",
      "  InsecureRequestWarning,\n"
     ]
    },
    {
     "name": "stdout",
     "output_type": "stream",
     "text": [
      "\tbox links found:  2\n",
      "\tChecking UPC:  744759795236\n"
     ]
    },
    {
     "name": "stderr",
     "output_type": "stream",
     "text": [
      "D:\\Software\\anaconda3\\lib\\site-packages\\urllib3\\connectionpool.py:988: InsecureRequestWarning: Unverified HTTPS request is being made to host 'www.upcitemdb.com'. Adding certificate verification is strongly advised. See: https://urllib3.readthedocs.io/en/latest/advanced-usage.html#ssl-warnings\n",
      "  InsecureRequestWarning,\n"
     ]
    },
    {
     "name": "stdout",
     "output_type": "stream",
     "text": [
      "\tnot relevant\n",
      "\tChecking UPC:  7554511135049\n"
     ]
    },
    {
     "name": "stderr",
     "output_type": "stream",
     "text": [
      "D:\\Software\\anaconda3\\lib\\site-packages\\urllib3\\connectionpool.py:988: InsecureRequestWarning: Unverified HTTPS request is being made to host 'www.upcitemdb.com'. Adding certificate verification is strongly advised. See: https://urllib3.readthedocs.io/en/latest/advanced-usage.html#ssl-warnings\n",
      "  InsecureRequestWarning,\n"
     ]
    },
    {
     "name": "stdout",
     "output_type": "stream",
     "text": [
      "\tbox links found:  1\n",
      "\tChecking UPC:  036000528190\n"
     ]
    },
    {
     "name": "stderr",
     "output_type": "stream",
     "text": [
      "D:\\Software\\anaconda3\\lib\\site-packages\\urllib3\\connectionpool.py:988: InsecureRequestWarning: Unverified HTTPS request is being made to host 'www.upcitemdb.com'. Adding certificate verification is strongly advised. See: https://urllib3.readthedocs.io/en/latest/advanced-usage.html#ssl-warnings\n",
      "  InsecureRequestWarning,\n"
     ]
    },
    {
     "name": "stdout",
     "output_type": "stream",
     "text": [
      "\tbox links found:  5\n",
      "\tUpdated:  NaN\n",
      "\tUpdated:  036000528190\n",
      "Searching product:  Halyard Health 52820  on UPC_Item_DB\n"
     ]
    },
    {
     "name": "stderr",
     "output_type": "stream",
     "text": [
      "D:\\Software\\anaconda3\\lib\\site-packages\\urllib3\\connectionpool.py:988: InsecureRequestWarning: Unverified HTTPS request is being made to host 'www.upcitemdb.com'. Adding certificate verification is strongly advised. See: https://urllib3.readthedocs.io/en/latest/advanced-usage.html#ssl-warnings\n",
      "  InsecureRequestWarning,\n"
     ]
    },
    {
     "name": "stdout",
     "output_type": "stream",
     "text": [
      "\tProduct found!\n",
      "\tChecking UPC:  820170073020\n"
     ]
    },
    {
     "name": "stderr",
     "output_type": "stream",
     "text": [
      "D:\\Software\\anaconda3\\lib\\site-packages\\urllib3\\connectionpool.py:988: InsecureRequestWarning: Unverified HTTPS request is being made to host 'www.upcitemdb.com'. Adding certificate verification is strongly advised. See: https://urllib3.readthedocs.io/en/latest/advanced-usage.html#ssl-warnings\n",
      "  InsecureRequestWarning,\n"
     ]
    },
    {
     "name": "stdout",
     "output_type": "stream",
     "text": [
      "\tbox links found:  2\n",
      "\tChecking UPC:  820170073013\n"
     ]
    },
    {
     "name": "stderr",
     "output_type": "stream",
     "text": [
      "D:\\Software\\anaconda3\\lib\\site-packages\\urllib3\\connectionpool.py:988: InsecureRequestWarning: Unverified HTTPS request is being made to host 'www.upcitemdb.com'. Adding certificate verification is strongly advised. See: https://urllib3.readthedocs.io/en/latest/advanced-usage.html#ssl-warnings\n",
      "  InsecureRequestWarning,\n"
     ]
    },
    {
     "name": "stdout",
     "output_type": "stream",
     "text": [
      "\tbox links found:  2\n",
      "\tUpdated:  NaN\n",
      "\tUpdated:  820170073020\n",
      "Searching product:  Halyard Health 44755  on UPC_Item_DB\n"
     ]
    },
    {
     "name": "stderr",
     "output_type": "stream",
     "text": [
      "D:\\Software\\anaconda3\\lib\\site-packages\\urllib3\\connectionpool.py:988: InsecureRequestWarning: Unverified HTTPS request is being made to host 'www.upcitemdb.com'. Adding certificate verification is strongly advised. See: https://urllib3.readthedocs.io/en/latest/advanced-usage.html#ssl-warnings\n",
      "  InsecureRequestWarning,\n"
     ]
    },
    {
     "name": "stdout",
     "output_type": "stream",
     "text": [
      "\tProduct found!\n",
      "\tChecking UPC:  820170072412\n"
     ]
    },
    {
     "name": "stderr",
     "output_type": "stream",
     "text": [
      "D:\\Software\\anaconda3\\lib\\site-packages\\urllib3\\connectionpool.py:988: InsecureRequestWarning: Unverified HTTPS request is being made to host 'www.upcitemdb.com'. Adding certificate verification is strongly advised. See: https://urllib3.readthedocs.io/en/latest/advanced-usage.html#ssl-warnings\n",
      "  InsecureRequestWarning,\n"
     ]
    },
    {
     "name": "stdout",
     "output_type": "stream",
     "text": [
      "\tbox links found:  2\n",
      "\tChecking UPC:  820170072429\n"
     ]
    },
    {
     "name": "stderr",
     "output_type": "stream",
     "text": [
      "D:\\Software\\anaconda3\\lib\\site-packages\\urllib3\\connectionpool.py:988: InsecureRequestWarning: Unverified HTTPS request is being made to host 'www.upcitemdb.com'. Adding certificate verification is strongly advised. See: https://urllib3.readthedocs.io/en/latest/advanced-usage.html#ssl-warnings\n",
      "  InsecureRequestWarning,\n"
     ]
    },
    {
     "name": "stdout",
     "output_type": "stream",
     "text": [
      "\tcase links found:  2\n",
      "\tChecking UPC:  6016148276232\n"
     ]
    },
    {
     "name": "stderr",
     "output_type": "stream",
     "text": [
      "D:\\Software\\anaconda3\\lib\\site-packages\\urllib3\\connectionpool.py:988: InsecureRequestWarning: Unverified HTTPS request is being made to host 'www.upcitemdb.com'. Adding certificate verification is strongly advised. See: https://urllib3.readthedocs.io/en/latest/advanced-usage.html#ssl-warnings\n",
      "  InsecureRequestWarning,\n"
     ]
    },
    {
     "name": "stdout",
     "output_type": "stream",
     "text": [
      "\tbox links found:  1\n",
      "\tChecking UPC:  102757742643\n"
     ]
    },
    {
     "name": "stderr",
     "output_type": "stream",
     "text": [
      "D:\\Software\\anaconda3\\lib\\site-packages\\urllib3\\connectionpool.py:988: InsecureRequestWarning: Unverified HTTPS request is being made to host 'www.upcitemdb.com'. Adding certificate verification is strongly advised. See: https://urllib3.readthedocs.io/en/latest/advanced-usage.html#ssl-warnings\n",
      "  InsecureRequestWarning,\n"
     ]
    },
    {
     "name": "stdout",
     "output_type": "stream",
     "text": [
      "\tbox links found:  1\n",
      "\tUpdated:  820170072429\n",
      "\tUpdated:  820170072412\n",
      "Searching product:  Halyard Health 44756  on UPC_Item_DB\n"
     ]
    },
    {
     "name": "stderr",
     "output_type": "stream",
     "text": [
      "D:\\Software\\anaconda3\\lib\\site-packages\\urllib3\\connectionpool.py:988: InsecureRequestWarning: Unverified HTTPS request is being made to host 'www.upcitemdb.com'. Adding certificate verification is strongly advised. See: https://urllib3.readthedocs.io/en/latest/advanced-usage.html#ssl-warnings\n",
      "  InsecureRequestWarning,\n"
     ]
    },
    {
     "name": "stdout",
     "output_type": "stream",
     "text": [
      "\tProduct found!\n",
      "\tChecking UPC:  820170072436\n"
     ]
    },
    {
     "name": "stderr",
     "output_type": "stream",
     "text": [
      "D:\\Software\\anaconda3\\lib\\site-packages\\urllib3\\connectionpool.py:988: InsecureRequestWarning: Unverified HTTPS request is being made to host 'www.upcitemdb.com'. Adding certificate verification is strongly advised. See: https://urllib3.readthedocs.io/en/latest/advanced-usage.html#ssl-warnings\n",
      "  InsecureRequestWarning,\n"
     ]
    },
    {
     "name": "stdout",
     "output_type": "stream",
     "text": [
      "\tbox links found:  2\n",
      "\tChecking UPC:  820170072443\n",
      "\tcase links found:  2\n"
     ]
    },
    {
     "name": "stderr",
     "output_type": "stream",
     "text": [
      "D:\\Software\\anaconda3\\lib\\site-packages\\urllib3\\connectionpool.py:988: InsecureRequestWarning: Unverified HTTPS request is being made to host 'www.upcitemdb.com'. Adding certificate verification is strongly advised. See: https://urllib3.readthedocs.io/en/latest/advanced-usage.html#ssl-warnings\n",
      "  InsecureRequestWarning,\n"
     ]
    },
    {
     "name": "stdout",
     "output_type": "stream",
     "text": [
      "\tUpdated:  820170072443\n",
      "\tUpdated:  820170072436\n",
      "Searching product:  Halyard Health 44757  on UPC_Item_DB\n"
     ]
    },
    {
     "name": "stderr",
     "output_type": "stream",
     "text": [
      "D:\\Software\\anaconda3\\lib\\site-packages\\urllib3\\connectionpool.py:988: InsecureRequestWarning: Unverified HTTPS request is being made to host 'www.upcitemdb.com'. Adding certificate verification is strongly advised. See: https://urllib3.readthedocs.io/en/latest/advanced-usage.html#ssl-warnings\n",
      "  InsecureRequestWarning,\n"
     ]
    },
    {
     "name": "stdout",
     "output_type": "stream",
     "text": [
      "\tProduct found!\n",
      "\tChecking UPC:  820170072450\n"
     ]
    },
    {
     "name": "stderr",
     "output_type": "stream",
     "text": [
      "D:\\Software\\anaconda3\\lib\\site-packages\\urllib3\\connectionpool.py:988: InsecureRequestWarning: Unverified HTTPS request is being made to host 'www.upcitemdb.com'. Adding certificate verification is strongly advised. See: https://urllib3.readthedocs.io/en/latest/advanced-usage.html#ssl-warnings\n",
      "  InsecureRequestWarning,\n"
     ]
    },
    {
     "name": "stdout",
     "output_type": "stream",
     "text": [
      "\tbox links found:  2\n",
      "\tChecking UPC:  820170072467\n"
     ]
    },
    {
     "name": "stderr",
     "output_type": "stream",
     "text": [
      "D:\\Software\\anaconda3\\lib\\site-packages\\urllib3\\connectionpool.py:988: InsecureRequestWarning: Unverified HTTPS request is being made to host 'www.upcitemdb.com'. Adding certificate verification is strongly advised. See: https://urllib3.readthedocs.io/en/latest/advanced-usage.html#ssl-warnings\n",
      "  InsecureRequestWarning,\n"
     ]
    },
    {
     "name": "stdout",
     "output_type": "stream",
     "text": [
      "\tcase links found:  2\n",
      "\tChecking UPC:  713049534077\n"
     ]
    },
    {
     "name": "stderr",
     "output_type": "stream",
     "text": [
      "D:\\Software\\anaconda3\\lib\\site-packages\\urllib3\\connectionpool.py:988: InsecureRequestWarning: Unverified HTTPS request is being made to host 'www.upcitemdb.com'. Adding certificate verification is strongly advised. See: https://urllib3.readthedocs.io/en/latest/advanced-usage.html#ssl-warnings\n",
      "  InsecureRequestWarning,\n"
     ]
    },
    {
     "name": "stdout",
     "output_type": "stream",
     "text": [
      "\tcase links found:  1\n",
      "\tChecking UPC:  818257371329\n"
     ]
    },
    {
     "name": "stderr",
     "output_type": "stream",
     "text": [
      "D:\\Software\\anaconda3\\lib\\site-packages\\urllib3\\connectionpool.py:988: InsecureRequestWarning: Unverified HTTPS request is being made to host 'www.upcitemdb.com'. Adding certificate verification is strongly advised. See: https://urllib3.readthedocs.io/en/latest/advanced-usage.html#ssl-warnings\n",
      "  InsecureRequestWarning,\n"
     ]
    },
    {
     "name": "stdout",
     "output_type": "stream",
     "text": [
      "\tbox links found:  1\n",
      "\tUpdated:  820170072467\n",
      "\tUpdated:  820170072450\n",
      "Searching product:  Halyard Health 44758  on UPC_Item_DB\n"
     ]
    },
    {
     "name": "stderr",
     "output_type": "stream",
     "text": [
      "D:\\Software\\anaconda3\\lib\\site-packages\\urllib3\\connectionpool.py:988: InsecureRequestWarning: Unverified HTTPS request is being made to host 'www.upcitemdb.com'. Adding certificate verification is strongly advised. See: https://urllib3.readthedocs.io/en/latest/advanced-usage.html#ssl-warnings\n",
      "  InsecureRequestWarning,\n"
     ]
    },
    {
     "name": "stdout",
     "output_type": "stream",
     "text": [
      "\tProduct found!\n",
      "\tChecking UPC:  820170072481\n"
     ]
    },
    {
     "name": "stderr",
     "output_type": "stream",
     "text": [
      "D:\\Software\\anaconda3\\lib\\site-packages\\urllib3\\connectionpool.py:988: InsecureRequestWarning: Unverified HTTPS request is being made to host 'www.upcitemdb.com'. Adding certificate verification is strongly advised. See: https://urllib3.readthedocs.io/en/latest/advanced-usage.html#ssl-warnings\n",
      "  InsecureRequestWarning,\n"
     ]
    },
    {
     "name": "stdout",
     "output_type": "stream",
     "text": [
      "\tcase links found:  2\n",
      "\tChecking UPC:  820170072474\n"
     ]
    },
    {
     "name": "stderr",
     "output_type": "stream",
     "text": [
      "D:\\Software\\anaconda3\\lib\\site-packages\\urllib3\\connectionpool.py:988: InsecureRequestWarning: Unverified HTTPS request is being made to host 'www.upcitemdb.com'. Adding certificate verification is strongly advised. See: https://urllib3.readthedocs.io/en/latest/advanced-usage.html#ssl-warnings\n",
      "  InsecureRequestWarning,\n"
     ]
    },
    {
     "name": "stdout",
     "output_type": "stream",
     "text": [
      "\tbox links found:  2\n",
      "\tUpdated:  820170072481\n",
      "\tUpdated:  820170072474\n",
      "Searching product:  Halyard Health 44759  on UPC_Item_DB\n"
     ]
    },
    {
     "name": "stderr",
     "output_type": "stream",
     "text": [
      "D:\\Software\\anaconda3\\lib\\site-packages\\urllib3\\connectionpool.py:988: InsecureRequestWarning: Unverified HTTPS request is being made to host 'www.upcitemdb.com'. Adding certificate verification is strongly advised. See: https://urllib3.readthedocs.io/en/latest/advanced-usage.html#ssl-warnings\n",
      "  InsecureRequestWarning,\n"
     ]
    },
    {
     "name": "stdout",
     "output_type": "stream",
     "text": [
      "\tProduct found!\n",
      "\tChecking UPC:  820170072504\n"
     ]
    },
    {
     "name": "stderr",
     "output_type": "stream",
     "text": [
      "D:\\Software\\anaconda3\\lib\\site-packages\\urllib3\\connectionpool.py:988: InsecureRequestWarning: Unverified HTTPS request is being made to host 'www.upcitemdb.com'. Adding certificate verification is strongly advised. See: https://urllib3.readthedocs.io/en/latest/advanced-usage.html#ssl-warnings\n",
      "  InsecureRequestWarning,\n"
     ]
    },
    {
     "name": "stdout",
     "output_type": "stream",
     "text": [
      "\tcase links found:  2\n",
      "\tChecking UPC:  820170072498\n"
     ]
    },
    {
     "name": "stderr",
     "output_type": "stream",
     "text": [
      "D:\\Software\\anaconda3\\lib\\site-packages\\urllib3\\connectionpool.py:988: InsecureRequestWarning: Unverified HTTPS request is being made to host 'www.upcitemdb.com'. Adding certificate verification is strongly advised. See: https://urllib3.readthedocs.io/en/latest/advanced-usage.html#ssl-warnings\n",
      "  InsecureRequestWarning,\n"
     ]
    },
    {
     "name": "stdout",
     "output_type": "stream",
     "text": [
      "\tbox links found:  1\n",
      "\tUpdated:  820170072504\n",
      "\tUpdated:  820170072498\n",
      "Searching product:  Halyard Health 43932  on UPC_Item_DB\n"
     ]
    },
    {
     "name": "stderr",
     "output_type": "stream",
     "text": [
      "D:\\Software\\anaconda3\\lib\\site-packages\\urllib3\\connectionpool.py:988: InsecureRequestWarning: Unverified HTTPS request is being made to host 'www.upcitemdb.com'. Adding certificate verification is strongly advised. See: https://urllib3.readthedocs.io/en/latest/advanced-usage.html#ssl-warnings\n",
      "  InsecureRequestWarning,\n"
     ]
    },
    {
     "name": "stdout",
     "output_type": "stream",
     "text": [
      "\tProduct found!\n",
      "\tChecking UPC:  820170072313\n"
     ]
    },
    {
     "name": "stderr",
     "output_type": "stream",
     "text": [
      "D:\\Software\\anaconda3\\lib\\site-packages\\urllib3\\connectionpool.py:988: InsecureRequestWarning: Unverified HTTPS request is being made to host 'www.upcitemdb.com'. Adding certificate verification is strongly advised. See: https://urllib3.readthedocs.io/en/latest/advanced-usage.html#ssl-warnings\n",
      "  InsecureRequestWarning,\n"
     ]
    },
    {
     "name": "stdout",
     "output_type": "stream",
     "text": [
      "\tbox links found:  2\n",
      "\tChecking UPC:  820170072320\n"
     ]
    },
    {
     "name": "stderr",
     "output_type": "stream",
     "text": [
      "D:\\Software\\anaconda3\\lib\\site-packages\\urllib3\\connectionpool.py:988: InsecureRequestWarning: Unverified HTTPS request is being made to host 'www.upcitemdb.com'. Adding certificate verification is strongly advised. See: https://urllib3.readthedocs.io/en/latest/advanced-usage.html#ssl-warnings\n",
      "  InsecureRequestWarning,\n"
     ]
    },
    {
     "name": "stdout",
     "output_type": "stream",
     "text": [
      "\tbox links found:  2\n",
      "\tChecking UPC:  8944366014566\n"
     ]
    },
    {
     "name": "stderr",
     "output_type": "stream",
     "text": [
      "D:\\Software\\anaconda3\\lib\\site-packages\\urllib3\\connectionpool.py:988: InsecureRequestWarning: Unverified HTTPS request is being made to host 'www.upcitemdb.com'. Adding certificate verification is strongly advised. See: https://urllib3.readthedocs.io/en/latest/advanced-usage.html#ssl-warnings\n",
      "  InsecureRequestWarning,\n"
     ]
    },
    {
     "name": "stdout",
     "output_type": "stream",
     "text": [
      "\tbox links found:  1\n",
      "\tChecking UPC:  713049532974\n"
     ]
    },
    {
     "name": "stderr",
     "output_type": "stream",
     "text": [
      "D:\\Software\\anaconda3\\lib\\site-packages\\urllib3\\connectionpool.py:988: InsecureRequestWarning: Unverified HTTPS request is being made to host 'www.upcitemdb.com'. Adding certificate verification is strongly advised. See: https://urllib3.readthedocs.io/en/latest/advanced-usage.html#ssl-warnings\n",
      "  InsecureRequestWarning,\n"
     ]
    },
    {
     "name": "stdout",
     "output_type": "stream",
     "text": [
      "\tcase links found:  1\n",
      "\tUpdated:  713049532974\n",
      "\tUpdated:  820170072313\n",
      "Searching product:  Halyard Health 43933  on UPC_Item_DB\n"
     ]
    },
    {
     "name": "stderr",
     "output_type": "stream",
     "text": [
      "D:\\Software\\anaconda3\\lib\\site-packages\\urllib3\\connectionpool.py:988: InsecureRequestWarning: Unverified HTTPS request is being made to host 'www.upcitemdb.com'. Adding certificate verification is strongly advised. See: https://urllib3.readthedocs.io/en/latest/advanced-usage.html#ssl-warnings\n",
      "  InsecureRequestWarning,\n"
     ]
    },
    {
     "name": "stdout",
     "output_type": "stream",
     "text": [
      "\tProduct found!\n",
      "\tChecking UPC:  820170072344\n"
     ]
    },
    {
     "name": "stderr",
     "output_type": "stream",
     "text": [
      "D:\\Software\\anaconda3\\lib\\site-packages\\urllib3\\connectionpool.py:988: InsecureRequestWarning: Unverified HTTPS request is being made to host 'www.upcitemdb.com'. Adding certificate verification is strongly advised. See: https://urllib3.readthedocs.io/en/latest/advanced-usage.html#ssl-warnings\n",
      "  InsecureRequestWarning,\n"
     ]
    },
    {
     "name": "stdout",
     "output_type": "stream",
     "text": [
      "\tbox links found:  2\n",
      "\tChecking UPC:  820170072337\n"
     ]
    },
    {
     "name": "stderr",
     "output_type": "stream",
     "text": [
      "D:\\Software\\anaconda3\\lib\\site-packages\\urllib3\\connectionpool.py:988: InsecureRequestWarning: Unverified HTTPS request is being made to host 'www.upcitemdb.com'. Adding certificate verification is strongly advised. See: https://urllib3.readthedocs.io/en/latest/advanced-usage.html#ssl-warnings\n",
      "  InsecureRequestWarning,\n"
     ]
    },
    {
     "name": "stdout",
     "output_type": "stream",
     "text": [
      "\tbox links found:  2\n",
      "\tChecking UPC:  8181984050006\n",
      "\tbox links found: "
     ]
    },
    {
     "name": "stderr",
     "output_type": "stream",
     "text": [
      "D:\\Software\\anaconda3\\lib\\site-packages\\urllib3\\connectionpool.py:988: InsecureRequestWarning: Unverified HTTPS request is being made to host 'www.upcitemdb.com'. Adding certificate verification is strongly advised. See: https://urllib3.readthedocs.io/en/latest/advanced-usage.html#ssl-warnings\n",
      "  InsecureRequestWarning,\n"
     ]
    },
    {
     "name": "stdout",
     "output_type": "stream",
     "text": [
      " 1\n",
      "\tChecking UPC:  713049532981\n"
     ]
    },
    {
     "name": "stderr",
     "output_type": "stream",
     "text": [
      "D:\\Software\\anaconda3\\lib\\site-packages\\urllib3\\connectionpool.py:988: InsecureRequestWarning: Unverified HTTPS request is being made to host 'www.upcitemdb.com'. Adding certificate verification is strongly advised. See: https://urllib3.readthedocs.io/en/latest/advanced-usage.html#ssl-warnings\n",
      "  InsecureRequestWarning,\n"
     ]
    },
    {
     "name": "stdout",
     "output_type": "stream",
     "text": [
      "\tcase links found:  1\n",
      "\tUpdated:  713049532981\n",
      "\tUpdated:  820170072344\n",
      "Searching product:  Halyard Health 43934  on UPC_Item_DB\n"
     ]
    },
    {
     "name": "stderr",
     "output_type": "stream",
     "text": [
      "D:\\Software\\anaconda3\\lib\\site-packages\\urllib3\\connectionpool.py:988: InsecureRequestWarning: Unverified HTTPS request is being made to host 'www.upcitemdb.com'. Adding certificate verification is strongly advised. See: https://urllib3.readthedocs.io/en/latest/advanced-usage.html#ssl-warnings\n",
      "  InsecureRequestWarning,\n"
     ]
    },
    {
     "name": "stdout",
     "output_type": "stream",
     "text": [
      "\tProduct found!\n",
      "\tChecking UPC:  696394833661\n"
     ]
    },
    {
     "name": "stderr",
     "output_type": "stream",
     "text": [
      "D:\\Software\\anaconda3\\lib\\site-packages\\urllib3\\connectionpool.py:988: InsecureRequestWarning: Unverified HTTPS request is being made to host 'www.upcitemdb.com'. Adding certificate verification is strongly advised. See: https://urllib3.readthedocs.io/en/latest/advanced-usage.html#ssl-warnings\n",
      "  InsecureRequestWarning,\n"
     ]
    },
    {
     "name": "stdout",
     "output_type": "stream",
     "text": [
      "\tbox links found:  2\n",
      "\tChecking UPC:  820170072368\n"
     ]
    },
    {
     "name": "stderr",
     "output_type": "stream",
     "text": [
      "D:\\Software\\anaconda3\\lib\\site-packages\\urllib3\\connectionpool.py:988: InsecureRequestWarning: Unverified HTTPS request is being made to host 'www.upcitemdb.com'. Adding certificate verification is strongly advised. See: https://urllib3.readthedocs.io/en/latest/advanced-usage.html#ssl-warnings\n",
      "  InsecureRequestWarning,\n"
     ]
    },
    {
     "name": "stdout",
     "output_type": "stream",
     "text": [
      "\tbox links found:  2\n",
      "\tChecking UPC:  820170072351\n"
     ]
    },
    {
     "name": "stderr",
     "output_type": "stream",
     "text": [
      "D:\\Software\\anaconda3\\lib\\site-packages\\urllib3\\connectionpool.py:988: InsecureRequestWarning: Unverified HTTPS request is being made to host 'www.upcitemdb.com'. Adding certificate verification is strongly advised. See: https://urllib3.readthedocs.io/en/latest/advanced-usage.html#ssl-warnings\n",
      "  InsecureRequestWarning,\n"
     ]
    },
    {
     "name": "stdout",
     "output_type": "stream",
     "text": [
      "\tbox links found:  2\n",
      "\tChecking UPC:  818203075455\n"
     ]
    },
    {
     "name": "stderr",
     "output_type": "stream",
     "text": [
      "D:\\Software\\anaconda3\\lib\\site-packages\\urllib3\\connectionpool.py:988: InsecureRequestWarning: Unverified HTTPS request is being made to host 'www.upcitemdb.com'. Adding certificate verification is strongly advised. See: https://urllib3.readthedocs.io/en/latest/advanced-usage.html#ssl-warnings\n",
      "  InsecureRequestWarning,\n"
     ]
    },
    {
     "name": "stdout",
     "output_type": "stream",
     "text": [
      "\tbox links found:  1\n",
      "\tChecking UPC:  713049532998\n"
     ]
    },
    {
     "name": "stderr",
     "output_type": "stream",
     "text": [
      "D:\\Software\\anaconda3\\lib\\site-packages\\urllib3\\connectionpool.py:988: InsecureRequestWarning: Unverified HTTPS request is being made to host 'www.upcitemdb.com'. Adding certificate verification is strongly advised. See: https://urllib3.readthedocs.io/en/latest/advanced-usage.html#ssl-warnings\n",
      "  InsecureRequestWarning,\n"
     ]
    },
    {
     "name": "stdout",
     "output_type": "stream",
     "text": [
      "\tcase links found:  1\n",
      "\tChecking UPC:  8181984047914\n"
     ]
    },
    {
     "name": "stderr",
     "output_type": "stream",
     "text": [
      "D:\\Software\\anaconda3\\lib\\site-packages\\urllib3\\connectionpool.py:988: InsecureRequestWarning: Unverified HTTPS request is being made to host 'www.upcitemdb.com'. Adding certificate verification is strongly advised. See: https://urllib3.readthedocs.io/en/latest/advanced-usage.html#ssl-warnings\n",
      "  InsecureRequestWarning,\n"
     ]
    },
    {
     "name": "stdout",
     "output_type": "stream",
     "text": [
      "\tbox links found:  1\n",
      "\tUpdated:  713049532998\n",
      "\tUpdated:  696394833661\n",
      "Searching product:  Halyard Health 43935  on UPC_Item_DB\n"
     ]
    },
    {
     "name": "stderr",
     "output_type": "stream",
     "text": [
      "D:\\Software\\anaconda3\\lib\\site-packages\\urllib3\\connectionpool.py:988: InsecureRequestWarning: Unverified HTTPS request is being made to host 'www.upcitemdb.com'. Adding certificate verification is strongly advised. See: https://urllib3.readthedocs.io/en/latest/advanced-usage.html#ssl-warnings\n",
      "  InsecureRequestWarning,\n"
     ]
    },
    {
     "name": "stdout",
     "output_type": "stream",
     "text": [
      "\tProduct found!\n",
      "\tChecking UPC:  820170072375\n"
     ]
    },
    {
     "name": "stderr",
     "output_type": "stream",
     "text": [
      "D:\\Software\\anaconda3\\lib\\site-packages\\urllib3\\connectionpool.py:988: InsecureRequestWarning: Unverified HTTPS request is being made to host 'www.upcitemdb.com'. Adding certificate verification is strongly advised. See: https://urllib3.readthedocs.io/en/latest/advanced-usage.html#ssl-warnings\n",
      "  InsecureRequestWarning,\n"
     ]
    },
    {
     "name": "stdout",
     "output_type": "stream",
     "text": [
      "\tbox links found:  2\n",
      "\tChecking UPC:  820170072382\n"
     ]
    },
    {
     "name": "stderr",
     "output_type": "stream",
     "text": [
      "D:\\Software\\anaconda3\\lib\\site-packages\\urllib3\\connectionpool.py:988: InsecureRequestWarning: Unverified HTTPS request is being made to host 'www.upcitemdb.com'. Adding certificate verification is strongly advised. See: https://urllib3.readthedocs.io/en/latest/advanced-usage.html#ssl-warnings\n",
      "  InsecureRequestWarning,\n"
     ]
    },
    {
     "name": "stdout",
     "output_type": "stream",
     "text": [
      "\tbox links found:  2\n",
      "\tChecking UPC:  696591581242\n"
     ]
    },
    {
     "name": "stderr",
     "output_type": "stream",
     "text": [
      "D:\\Software\\anaconda3\\lib\\site-packages\\urllib3\\connectionpool.py:988: InsecureRequestWarning: Unverified HTTPS request is being made to host 'www.upcitemdb.com'. Adding certificate verification is strongly advised. See: https://urllib3.readthedocs.io/en/latest/advanced-usage.html#ssl-warnings\n",
      "  InsecureRequestWarning,\n"
     ]
    },
    {
     "name": "stdout",
     "output_type": "stream",
     "text": [
      "\tbox links found:  1\n",
      "\tChecking UPC:  696584186089\n"
     ]
    },
    {
     "name": "stderr",
     "output_type": "stream",
     "text": [
      "D:\\Software\\anaconda3\\lib\\site-packages\\urllib3\\connectionpool.py:988: InsecureRequestWarning: Unverified HTTPS request is being made to host 'www.upcitemdb.com'. Adding certificate verification is strongly advised. See: https://urllib3.readthedocs.io/en/latest/advanced-usage.html#ssl-warnings\n",
      "  InsecureRequestWarning,\n"
     ]
    },
    {
     "name": "stdout",
     "output_type": "stream",
     "text": [
      "\tbox links found:  1\n",
      "\tChecking UPC:  713049533001\n",
      "\tcase links found:  1\n"
     ]
    },
    {
     "name": "stderr",
     "output_type": "stream",
     "text": [
      "D:\\Software\\anaconda3\\lib\\site-packages\\urllib3\\connectionpool.py:988: InsecureRequestWarning: Unverified HTTPS request is being made to host 'www.upcitemdb.com'. Adding certificate verification is strongly advised. See: https://urllib3.readthedocs.io/en/latest/advanced-usage.html#ssl-warnings\n",
      "  InsecureRequestWarning,\n"
     ]
    },
    {
     "name": "stdout",
     "output_type": "stream",
     "text": [
      "\tUpdated:  713049533001\n",
      "\tUpdated:  820170072375\n",
      "Searching product:  Halyard Health 43936  on UPC_Item_DB\n"
     ]
    },
    {
     "name": "stderr",
     "output_type": "stream",
     "text": [
      "D:\\Software\\anaconda3\\lib\\site-packages\\urllib3\\connectionpool.py:988: InsecureRequestWarning: Unverified HTTPS request is being made to host 'www.upcitemdb.com'. Adding certificate verification is strongly advised. See: https://urllib3.readthedocs.io/en/latest/advanced-usage.html#ssl-warnings\n",
      "  InsecureRequestWarning,\n"
     ]
    },
    {
     "name": "stdout",
     "output_type": "stream",
     "text": [
      "\tProduct found!\n",
      "\tChecking UPC:  820170072399\n"
     ]
    },
    {
     "name": "stderr",
     "output_type": "stream",
     "text": [
      "D:\\Software\\anaconda3\\lib\\site-packages\\urllib3\\connectionpool.py:988: InsecureRequestWarning: Unverified HTTPS request is being made to host 'www.upcitemdb.com'. Adding certificate verification is strongly advised. See: https://urllib3.readthedocs.io/en/latest/advanced-usage.html#ssl-warnings\n",
      "  InsecureRequestWarning,\n"
     ]
    },
    {
     "name": "stdout",
     "output_type": "stream",
     "text": [
      "\tbox links found:  2\n",
      "\tChecking UPC:  820170072405\n",
      "\tbox links found:  2\n"
     ]
    },
    {
     "name": "stderr",
     "output_type": "stream",
     "text": [
      "D:\\Software\\anaconda3\\lib\\site-packages\\urllib3\\connectionpool.py:988: InsecureRequestWarning: Unverified HTTPS request is being made to host 'www.upcitemdb.com'. Adding certificate verification is strongly advised. See: https://urllib3.readthedocs.io/en/latest/advanced-usage.html#ssl-warnings\n",
      "  InsecureRequestWarning,\n"
     ]
    },
    {
     "name": "stdout",
     "output_type": "stream",
     "text": [
      "\tChecking UPC:  713049533018\n",
      "\tcase links found:  1\n"
     ]
    },
    {
     "name": "stderr",
     "output_type": "stream",
     "text": [
      "D:\\Software\\anaconda3\\lib\\site-packages\\urllib3\\connectionpool.py:988: InsecureRequestWarning: Unverified HTTPS request is being made to host 'www.upcitemdb.com'. Adding certificate verification is strongly advised. See: https://urllib3.readthedocs.io/en/latest/advanced-usage.html#ssl-warnings\n",
      "  InsecureRequestWarning,\n"
     ]
    },
    {
     "name": "stdout",
     "output_type": "stream",
     "text": [
      "\tUpdated:  713049533018\n",
      "\tUpdated:  820170072399\n",
      "Searching product:  Halyard Health 33022  on UPC_Item_DB\n"
     ]
    },
    {
     "name": "stderr",
     "output_type": "stream",
     "text": [
      "D:\\Software\\anaconda3\\lib\\site-packages\\urllib3\\connectionpool.py:988: InsecureRequestWarning: Unverified HTTPS request is being made to host 'www.upcitemdb.com'. Adding certificate verification is strongly advised. See: https://urllib3.readthedocs.io/en/latest/advanced-usage.html#ssl-warnings\n",
      "  InsecureRequestWarning,\n"
     ]
    },
    {
     "name": "stdout",
     "output_type": "stream",
     "text": [
      "\tProduct found!\n",
      "\tChecking UPC:  820170071910\n"
     ]
    },
    {
     "name": "stderr",
     "output_type": "stream",
     "text": [
      "D:\\Software\\anaconda3\\lib\\site-packages\\urllib3\\connectionpool.py:988: InsecureRequestWarning: Unverified HTTPS request is being made to host 'www.upcitemdb.com'. Adding certificate verification is strongly advised. See: https://urllib3.readthedocs.io/en/latest/advanced-usage.html#ssl-warnings\n",
      "  InsecureRequestWarning,\n"
     ]
    },
    {
     "name": "stdout",
     "output_type": "stream",
     "text": [
      "\tbox links found:  2\n",
      "\tChecking UPC:  820170071927\n"
     ]
    },
    {
     "name": "stderr",
     "output_type": "stream",
     "text": [
      "D:\\Software\\anaconda3\\lib\\site-packages\\urllib3\\connectionpool.py:988: InsecureRequestWarning: Unverified HTTPS request is being made to host 'www.upcitemdb.com'. Adding certificate verification is strongly advised. See: https://urllib3.readthedocs.io/en/latest/advanced-usage.html#ssl-warnings\n",
      "  InsecureRequestWarning,\n"
     ]
    },
    {
     "name": "stdout",
     "output_type": "stream",
     "text": [
      "\tbox links found:  2\n",
      "\tUpdated:  NaN\n",
      "\tUpdated:  820170071910\n",
      "Searching product:  Halyard Health 47452  on UPC_Item_DB\n"
     ]
    },
    {
     "name": "stderr",
     "output_type": "stream",
     "text": [
      "D:\\Software\\anaconda3\\lib\\site-packages\\urllib3\\connectionpool.py:988: InsecureRequestWarning: Unverified HTTPS request is being made to host 'www.upcitemdb.com'. Adding certificate verification is strongly advised. See: https://urllib3.readthedocs.io/en/latest/advanced-usage.html#ssl-warnings\n",
      "  InsecureRequestWarning,\n"
     ]
    },
    {
     "name": "stdout",
     "output_type": "stream",
     "text": [
      "\tNo UPCs found on UPC_Item_DB.\n",
      "\tUpdated:  NaN\n",
      "\tUpdated:  NaN\n",
      "Searching product:  Halyard Health 47453  on UPC_Item_DB\n"
     ]
    },
    {
     "name": "stderr",
     "output_type": "stream",
     "text": [
      "D:\\Software\\anaconda3\\lib\\site-packages\\urllib3\\connectionpool.py:988: InsecureRequestWarning: Unverified HTTPS request is being made to host 'www.upcitemdb.com'. Adding certificate verification is strongly advised. See: https://urllib3.readthedocs.io/en/latest/advanced-usage.html#ssl-warnings\n",
      "  InsecureRequestWarning,\n"
     ]
    },
    {
     "name": "stdout",
     "output_type": "stream",
     "text": [
      "\tNo UPCs found on UPC_Item_DB.\n",
      "\tUpdated:  NaN\n",
      "\tUpdated:  NaN\n",
      "Searching product:  Halyard Health 47454  on UPC_Item_DB\n"
     ]
    },
    {
     "name": "stderr",
     "output_type": "stream",
     "text": [
      "D:\\Software\\anaconda3\\lib\\site-packages\\urllib3\\connectionpool.py:988: InsecureRequestWarning: Unverified HTTPS request is being made to host 'www.upcitemdb.com'. Adding certificate verification is strongly advised. See: https://urllib3.readthedocs.io/en/latest/advanced-usage.html#ssl-warnings\n",
      "  InsecureRequestWarning,\n"
     ]
    },
    {
     "name": "stdout",
     "output_type": "stream",
     "text": [
      "\tNo UPCs found on UPC_Item_DB.\n",
      "\tUpdated:  NaN\n",
      "\tUpdated:  NaN\n",
      "Searching product:  Halyard Health 47455  on UPC_Item_DB\n"
     ]
    },
    {
     "name": "stderr",
     "output_type": "stream",
     "text": [
      "D:\\Software\\anaconda3\\lib\\site-packages\\urllib3\\connectionpool.py:988: InsecureRequestWarning: Unverified HTTPS request is being made to host 'www.upcitemdb.com'. Adding certificate verification is strongly advised. See: https://urllib3.readthedocs.io/en/latest/advanced-usage.html#ssl-warnings\n",
      "  InsecureRequestWarning,\n"
     ]
    },
    {
     "name": "stdout",
     "output_type": "stream",
     "text": [
      "\tNo UPCs found on UPC_Item_DB.\n",
      "\tUpdated:  NaN\n",
      "\tUpdated:  NaN\n",
      "Searching product:  Halyard Health 47456  on UPC_Item_DB\n"
     ]
    },
    {
     "name": "stderr",
     "output_type": "stream",
     "text": [
      "D:\\Software\\anaconda3\\lib\\site-packages\\urllib3\\connectionpool.py:988: InsecureRequestWarning: Unverified HTTPS request is being made to host 'www.upcitemdb.com'. Adding certificate verification is strongly advised. See: https://urllib3.readthedocs.io/en/latest/advanced-usage.html#ssl-warnings\n",
      "  InsecureRequestWarning,\n"
     ]
    },
    {
     "name": "stdout",
     "output_type": "stream",
     "text": [
      "\tNo UPCs found on UPC_Item_DB.\n",
      "\tUpdated:  NaN\n",
      "\tUpdated:  NaN\n",
      "Searching product:  Halyard Health 55095  on UPC_Item_DB\n"
     ]
    },
    {
     "name": "stderr",
     "output_type": "stream",
     "text": [
      "D:\\Software\\anaconda3\\lib\\site-packages\\urllib3\\connectionpool.py:988: InsecureRequestWarning: Unverified HTTPS request is being made to host 'www.upcitemdb.com'. Adding certificate verification is strongly advised. See: https://urllib3.readthedocs.io/en/latest/advanced-usage.html#ssl-warnings\n",
      "  InsecureRequestWarning,\n"
     ]
    },
    {
     "name": "stdout",
     "output_type": "stream",
     "text": [
      "\tProduct found!\n",
      "\tChecking UPC:  820170073754\n"
     ]
    },
    {
     "name": "stderr",
     "output_type": "stream",
     "text": [
      "D:\\Software\\anaconda3\\lib\\site-packages\\urllib3\\connectionpool.py:988: InsecureRequestWarning: Unverified HTTPS request is being made to host 'www.upcitemdb.com'. Adding certificate verification is strongly advised. See: https://urllib3.readthedocs.io/en/latest/advanced-usage.html#ssl-warnings\n",
      "  InsecureRequestWarning,\n"
     ]
    },
    {
     "name": "stdout",
     "output_type": "stream",
     "text": [
      "\tbox links found:  2\n",
      "\tChecking UPC:  820170073761\n"
     ]
    },
    {
     "name": "stderr",
     "output_type": "stream",
     "text": [
      "D:\\Software\\anaconda3\\lib\\site-packages\\urllib3\\connectionpool.py:988: InsecureRequestWarning: Unverified HTTPS request is being made to host 'www.upcitemdb.com'. Adding certificate verification is strongly advised. See: https://urllib3.readthedocs.io/en/latest/advanced-usage.html#ssl-warnings\n",
      "  InsecureRequestWarning,\n"
     ]
    },
    {
     "name": "stdout",
     "output_type": "stream",
     "text": [
      "\tcase links found:  1\n",
      "\tUpdated:  820170073761\n",
      "\tUpdated:  820170073754\n",
      "Searching product:  Halyard Health 53100  on UPC_Item_DB\n"
     ]
    },
    {
     "name": "stderr",
     "output_type": "stream",
     "text": [
      "D:\\Software\\anaconda3\\lib\\site-packages\\urllib3\\connectionpool.py:988: InsecureRequestWarning: Unverified HTTPS request is being made to host 'www.upcitemdb.com'. Adding certificate verification is strongly advised. See: https://urllib3.readthedocs.io/en/latest/advanced-usage.html#ssl-warnings\n",
      "  InsecureRequestWarning,\n"
     ]
    },
    {
     "name": "stdout",
     "output_type": "stream",
     "text": [
      "\tProduct found!\n",
      "\tChecking UPC:  820170073815\n"
     ]
    },
    {
     "name": "stderr",
     "output_type": "stream",
     "text": [
      "D:\\Software\\anaconda3\\lib\\site-packages\\urllib3\\connectionpool.py:988: InsecureRequestWarning: Unverified HTTPS request is being made to host 'www.upcitemdb.com'. Adding certificate verification is strongly advised. See: https://urllib3.readthedocs.io/en/latest/advanced-usage.html#ssl-warnings\n",
      "  InsecureRequestWarning,\n"
     ]
    },
    {
     "name": "stdout",
     "output_type": "stream",
     "text": [
      "\tbox links found:  1\n",
      "\tChecking UPC:  820170073822\n"
     ]
    },
    {
     "name": "stderr",
     "output_type": "stream",
     "text": [
      "D:\\Software\\anaconda3\\lib\\site-packages\\urllib3\\connectionpool.py:988: InsecureRequestWarning: Unverified HTTPS request is being made to host 'www.upcitemdb.com'. Adding certificate verification is strongly advised. See: https://urllib3.readthedocs.io/en/latest/advanced-usage.html#ssl-warnings\n",
      "  InsecureRequestWarning,\n"
     ]
    },
    {
     "name": "stdout",
     "output_type": "stream",
     "text": [
      "\tbox links found:  1\n",
      "\tChecking UPC:  607885864675\n"
     ]
    },
    {
     "name": "stderr",
     "output_type": "stream",
     "text": [
      "D:\\Software\\anaconda3\\lib\\site-packages\\urllib3\\connectionpool.py:988: InsecureRequestWarning: Unverified HTTPS request is being made to host 'www.upcitemdb.com'. Adding certificate verification is strongly advised. See: https://urllib3.readthedocs.io/en/latest/advanced-usage.html#ssl-warnings\n",
      "  InsecureRequestWarning,\n"
     ]
    },
    {
     "name": "stdout",
     "output_type": "stream",
     "text": [
      "\tbox links found:  1\n",
      "\tUpdated:  NaN\n",
      "\tUpdated:  820170073815\n",
      "Searching product:  Halyard Health 53101  on UPC_Item_DB\n"
     ]
    },
    {
     "name": "stderr",
     "output_type": "stream",
     "text": [
      "D:\\Software\\anaconda3\\lib\\site-packages\\urllib3\\connectionpool.py:988: InsecureRequestWarning: Unverified HTTPS request is being made to host 'www.upcitemdb.com'. Adding certificate verification is strongly advised. See: https://urllib3.readthedocs.io/en/latest/advanced-usage.html#ssl-warnings\n",
      "  InsecureRequestWarning,\n"
     ]
    },
    {
     "name": "stdout",
     "output_type": "stream",
     "text": [
      "\tProduct found!\n",
      "\tChecking UPC:  820170073839\n"
     ]
    },
    {
     "name": "stderr",
     "output_type": "stream",
     "text": [
      "D:\\Software\\anaconda3\\lib\\site-packages\\urllib3\\connectionpool.py:988: InsecureRequestWarning: Unverified HTTPS request is being made to host 'www.upcitemdb.com'. Adding certificate verification is strongly advised. See: https://urllib3.readthedocs.io/en/latest/advanced-usage.html#ssl-warnings\n",
      "  InsecureRequestWarning,\n"
     ]
    },
    {
     "name": "stdout",
     "output_type": "stream",
     "text": [
      "\tbox links found:  1\n",
      "\tChecking UPC:  820170073846\n",
      "\tbox links found:  1\n"
     ]
    },
    {
     "name": "stderr",
     "output_type": "stream",
     "text": [
      "D:\\Software\\anaconda3\\lib\\site-packages\\urllib3\\connectionpool.py:988: InsecureRequestWarning: Unverified HTTPS request is being made to host 'www.upcitemdb.com'. Adding certificate verification is strongly advised. See: https://urllib3.readthedocs.io/en/latest/advanced-usage.html#ssl-warnings\n",
      "  InsecureRequestWarning,\n"
     ]
    },
    {
     "name": "stdout",
     "output_type": "stream",
     "text": [
      "\tUpdated:  NaN\n",
      "\tUpdated:  820170073839\n",
      "Searching product:  Halyard Health 53102  on UPC_Item_DB\n"
     ]
    },
    {
     "name": "stderr",
     "output_type": "stream",
     "text": [
      "D:\\Software\\anaconda3\\lib\\site-packages\\urllib3\\connectionpool.py:988: InsecureRequestWarning: Unverified HTTPS request is being made to host 'www.upcitemdb.com'. Adding certificate verification is strongly advised. See: https://urllib3.readthedocs.io/en/latest/advanced-usage.html#ssl-warnings\n",
      "  InsecureRequestWarning,\n"
     ]
    },
    {
     "name": "stdout",
     "output_type": "stream",
     "text": [
      "\tProduct found!\n",
      "\tChecking UPC:  820170073853\n"
     ]
    },
    {
     "name": "stderr",
     "output_type": "stream",
     "text": [
      "D:\\Software\\anaconda3\\lib\\site-packages\\urllib3\\connectionpool.py:988: InsecureRequestWarning: Unverified HTTPS request is being made to host 'www.upcitemdb.com'. Adding certificate verification is strongly advised. See: https://urllib3.readthedocs.io/en/latest/advanced-usage.html#ssl-warnings\n",
      "  InsecureRequestWarning,\n"
     ]
    },
    {
     "name": "stdout",
     "output_type": "stream",
     "text": [
      "\tbox links found:  1\n",
      "\tChecking UPC:  820170073860\n"
     ]
    },
    {
     "name": "stderr",
     "output_type": "stream",
     "text": [
      "D:\\Software\\anaconda3\\lib\\site-packages\\urllib3\\connectionpool.py:988: InsecureRequestWarning: Unverified HTTPS request is being made to host 'www.upcitemdb.com'. Adding certificate verification is strongly advised. See: https://urllib3.readthedocs.io/en/latest/advanced-usage.html#ssl-warnings\n",
      "  InsecureRequestWarning,\n"
     ]
    },
    {
     "name": "stdout",
     "output_type": "stream",
     "text": [
      "\tbox links found:  1\n",
      "\tUpdated:  NaN\n",
      "\tUpdated:  820170073853\n",
      "Searching product:  Halyard Health 53103  on UPC_Item_DB\n"
     ]
    },
    {
     "name": "stderr",
     "output_type": "stream",
     "text": [
      "D:\\Software\\anaconda3\\lib\\site-packages\\urllib3\\connectionpool.py:988: InsecureRequestWarning: Unverified HTTPS request is being made to host 'www.upcitemdb.com'. Adding certificate verification is strongly advised. See: https://urllib3.readthedocs.io/en/latest/advanced-usage.html#ssl-warnings\n",
      "  InsecureRequestWarning,\n"
     ]
    },
    {
     "name": "stdout",
     "output_type": "stream",
     "text": [
      "\tProduct found!\n",
      "\tChecking UPC:  820170073884\n"
     ]
    },
    {
     "name": "stderr",
     "output_type": "stream",
     "text": [
      "D:\\Software\\anaconda3\\lib\\site-packages\\urllib3\\connectionpool.py:988: InsecureRequestWarning: Unverified HTTPS request is being made to host 'www.upcitemdb.com'. Adding certificate verification is strongly advised. See: https://urllib3.readthedocs.io/en/latest/advanced-usage.html#ssl-warnings\n",
      "  InsecureRequestWarning,\n"
     ]
    },
    {
     "name": "stdout",
     "output_type": "stream",
     "text": [
      "\tbox links found:  1\n",
      "\tChecking UPC:  820170073877\n",
      "\tbox links found:  1"
     ]
    },
    {
     "name": "stderr",
     "output_type": "stream",
     "text": [
      "D:\\Software\\anaconda3\\lib\\site-packages\\urllib3\\connectionpool.py:988: InsecureRequestWarning: Unverified HTTPS request is being made to host 'www.upcitemdb.com'. Adding certificate verification is strongly advised. See: https://urllib3.readthedocs.io/en/latest/advanced-usage.html#ssl-warnings\n",
      "  InsecureRequestWarning,\n"
     ]
    },
    {
     "name": "stdout",
     "output_type": "stream",
     "text": [
      "\n",
      "\tUpdated:  NaN\n",
      "\tUpdated:  820170073884\n",
      "Searching product:  Halyard Health 53104  on UPC_Item_DB\n"
     ]
    },
    {
     "name": "stderr",
     "output_type": "stream",
     "text": [
      "D:\\Software\\anaconda3\\lib\\site-packages\\urllib3\\connectionpool.py:988: InsecureRequestWarning: Unverified HTTPS request is being made to host 'www.upcitemdb.com'. Adding certificate verification is strongly advised. See: https://urllib3.readthedocs.io/en/latest/advanced-usage.html#ssl-warnings\n",
      "  InsecureRequestWarning,\n"
     ]
    },
    {
     "name": "stdout",
     "output_type": "stream",
     "text": [
      "\tProduct found!\n",
      "\tChecking UPC:  820170073891\n"
     ]
    },
    {
     "name": "stderr",
     "output_type": "stream",
     "text": [
      "D:\\Software\\anaconda3\\lib\\site-packages\\urllib3\\connectionpool.py:988: InsecureRequestWarning: Unverified HTTPS request is being made to host 'www.upcitemdb.com'. Adding certificate verification is strongly advised. See: https://urllib3.readthedocs.io/en/latest/advanced-usage.html#ssl-warnings\n",
      "  InsecureRequestWarning,\n"
     ]
    },
    {
     "name": "stdout",
     "output_type": "stream",
     "text": [
      "\tbox links found:  1\n",
      "\tChecking UPC:  820170073907\n",
      "\tbox links found:  1\n"
     ]
    },
    {
     "name": "stderr",
     "output_type": "stream",
     "text": [
      "D:\\Software\\anaconda3\\lib\\site-packages\\urllib3\\connectionpool.py:988: InsecureRequestWarning: Unverified HTTPS request is being made to host 'www.upcitemdb.com'. Adding certificate verification is strongly advised. See: https://urllib3.readthedocs.io/en/latest/advanced-usage.html#ssl-warnings\n",
      "  InsecureRequestWarning,\n"
     ]
    },
    {
     "name": "stdout",
     "output_type": "stream",
     "text": [
      "\tUpdated:  NaN\n",
      "\tUpdated:  820170073891\n",
      "Searching product:  Halyard Health 53430  on UPC_Item_DB\n"
     ]
    },
    {
     "name": "stderr",
     "output_type": "stream",
     "text": [
      "D:\\Software\\anaconda3\\lib\\site-packages\\urllib3\\connectionpool.py:988: InsecureRequestWarning: Unverified HTTPS request is being made to host 'www.upcitemdb.com'. Adding certificate verification is strongly advised. See: https://urllib3.readthedocs.io/en/latest/advanced-usage.html#ssl-warnings\n",
      "  InsecureRequestWarning,\n"
     ]
    },
    {
     "name": "stdout",
     "output_type": "stream",
     "text": [
      "\tProduct found!\n",
      "\tChecking UPC:  820170073297\n"
     ]
    },
    {
     "name": "stderr",
     "output_type": "stream",
     "text": [
      "D:\\Software\\anaconda3\\lib\\site-packages\\urllib3\\connectionpool.py:988: InsecureRequestWarning: Unverified HTTPS request is being made to host 'www.upcitemdb.com'. Adding certificate verification is strongly advised. See: https://urllib3.readthedocs.io/en/latest/advanced-usage.html#ssl-warnings\n",
      "  InsecureRequestWarning,\n"
     ]
    },
    {
     "name": "stdout",
     "output_type": "stream",
     "text": [
      "\tbox links found:  2\n",
      "\tChecking UPC:  820170073303\n"
     ]
    },
    {
     "name": "stderr",
     "output_type": "stream",
     "text": [
      "D:\\Software\\anaconda3\\lib\\site-packages\\urllib3\\connectionpool.py:988: InsecureRequestWarning: Unverified HTTPS request is being made to host 'www.upcitemdb.com'. Adding certificate verification is strongly advised. See: https://urllib3.readthedocs.io/en/latest/advanced-usage.html#ssl-warnings\n",
      "  InsecureRequestWarning,\n"
     ]
    },
    {
     "name": "stdout",
     "output_type": "stream",
     "text": [
      "\tbox links found:  2\n",
      "\tUpdated:  NaN\n",
      "\tUpdated:  820170073297\n",
      "Searching product:  Halyard Health 53431  on UPC_Item_DB\n"
     ]
    },
    {
     "name": "stderr",
     "output_type": "stream",
     "text": [
      "D:\\Software\\anaconda3\\lib\\site-packages\\urllib3\\connectionpool.py:988: InsecureRequestWarning: Unverified HTTPS request is being made to host 'www.upcitemdb.com'. Adding certificate verification is strongly advised. See: https://urllib3.readthedocs.io/en/latest/advanced-usage.html#ssl-warnings\n",
      "  InsecureRequestWarning,\n"
     ]
    },
    {
     "name": "stdout",
     "output_type": "stream",
     "text": [
      "\tProduct found!\n",
      "\tChecking UPC:  820170073310\n"
     ]
    },
    {
     "name": "stderr",
     "output_type": "stream",
     "text": [
      "D:\\Software\\anaconda3\\lib\\site-packages\\urllib3\\connectionpool.py:988: InsecureRequestWarning: Unverified HTTPS request is being made to host 'www.upcitemdb.com'. Adding certificate verification is strongly advised. See: https://urllib3.readthedocs.io/en/latest/advanced-usage.html#ssl-warnings\n",
      "  InsecureRequestWarning,\n"
     ]
    },
    {
     "name": "stdout",
     "output_type": "stream",
     "text": [
      "\tbox links found:  2\n",
      "\tChecking UPC:  820170073327\n"
     ]
    },
    {
     "name": "stderr",
     "output_type": "stream",
     "text": [
      "D:\\Software\\anaconda3\\lib\\site-packages\\urllib3\\connectionpool.py:988: InsecureRequestWarning: Unverified HTTPS request is being made to host 'www.upcitemdb.com'. Adding certificate verification is strongly advised. See: https://urllib3.readthedocs.io/en/latest/advanced-usage.html#ssl-warnings\n",
      "  InsecureRequestWarning,\n"
     ]
    },
    {
     "name": "stdout",
     "output_type": "stream",
     "text": [
      "\tbox links found:  2\n",
      "\tChecking UPC:  313113265281\n"
     ]
    },
    {
     "name": "stderr",
     "output_type": "stream",
     "text": [
      "D:\\Software\\anaconda3\\lib\\site-packages\\urllib3\\connectionpool.py:988: InsecureRequestWarning: Unverified HTTPS request is being made to host 'www.upcitemdb.com'. Adding certificate verification is strongly advised. See: https://urllib3.readthedocs.io/en/latest/advanced-usage.html#ssl-warnings\n",
      "  InsecureRequestWarning,\n"
     ]
    },
    {
     "name": "stdout",
     "output_type": "stream",
     "text": [
      "\tnot relevant\n",
      "\tChecking UPC:  6016154114184\n"
     ]
    },
    {
     "name": "stderr",
     "output_type": "stream",
     "text": [
      "D:\\Software\\anaconda3\\lib\\site-packages\\urllib3\\connectionpool.py:988: InsecureRequestWarning: Unverified HTTPS request is being made to host 'www.upcitemdb.com'. Adding certificate verification is strongly advised. See: https://urllib3.readthedocs.io/en/latest/advanced-usage.html#ssl-warnings\n",
      "  InsecureRequestWarning,\n"
     ]
    },
    {
     "name": "stdout",
     "output_type": "stream",
     "text": [
      "\tbox links found:  1\n",
      "\tUpdated:  NaN\n",
      "\tUpdated:  820170073310\n",
      "Searching product:  Halyard Health 53432  on UPC_Item_DB\n"
     ]
    },
    {
     "name": "stderr",
     "output_type": "stream",
     "text": [
      "D:\\Software\\anaconda3\\lib\\site-packages\\urllib3\\connectionpool.py:988: InsecureRequestWarning: Unverified HTTPS request is being made to host 'www.upcitemdb.com'. Adding certificate verification is strongly advised. See: https://urllib3.readthedocs.io/en/latest/advanced-usage.html#ssl-warnings\n",
      "  InsecureRequestWarning,\n"
     ]
    },
    {
     "name": "stdout",
     "output_type": "stream",
     "text": [
      "\tProduct found!\n",
      "\tChecking UPC:  820170073334\n"
     ]
    },
    {
     "name": "stderr",
     "output_type": "stream",
     "text": [
      "D:\\Software\\anaconda3\\lib\\site-packages\\urllib3\\connectionpool.py:988: InsecureRequestWarning: Unverified HTTPS request is being made to host 'www.upcitemdb.com'. Adding certificate verification is strongly advised. See: https://urllib3.readthedocs.io/en/latest/advanced-usage.html#ssl-warnings\n",
      "  InsecureRequestWarning,\n"
     ]
    },
    {
     "name": "stdout",
     "output_type": "stream",
     "text": [
      "\tbox links found:  2\n",
      "\tChecking UPC:  820170073341\n",
      "\tbox links found:  2\n"
     ]
    },
    {
     "name": "stderr",
     "output_type": "stream",
     "text": [
      "D:\\Software\\anaconda3\\lib\\site-packages\\urllib3\\connectionpool.py:988: InsecureRequestWarning: Unverified HTTPS request is being made to host 'www.upcitemdb.com'. Adding certificate verification is strongly advised. See: https://urllib3.readthedocs.io/en/latest/advanced-usage.html#ssl-warnings\n",
      "  InsecureRequestWarning,\n"
     ]
    },
    {
     "name": "stdout",
     "output_type": "stream",
     "text": [
      "\tChecking UPC:  6016147910915\n"
     ]
    },
    {
     "name": "stderr",
     "output_type": "stream",
     "text": [
      "D:\\Software\\anaconda3\\lib\\site-packages\\urllib3\\connectionpool.py:988: InsecureRequestWarning: Unverified HTTPS request is being made to host 'www.upcitemdb.com'. Adding certificate verification is strongly advised. See: https://urllib3.readthedocs.io/en/latest/advanced-usage.html#ssl-warnings\n",
      "  InsecureRequestWarning,\n"
     ]
    },
    {
     "name": "stdout",
     "output_type": "stream",
     "text": [
      "\tbox links found:  1\n",
      "\tUpdated:  NaN\n",
      "\tUpdated:  820170073334\n",
      "Searching product:  Halyard Health 53433  on UPC_Item_DB\n"
     ]
    },
    {
     "name": "stderr",
     "output_type": "stream",
     "text": [
      "D:\\Software\\anaconda3\\lib\\site-packages\\urllib3\\connectionpool.py:988: InsecureRequestWarning: Unverified HTTPS request is being made to host 'www.upcitemdb.com'. Adding certificate verification is strongly advised. See: https://urllib3.readthedocs.io/en/latest/advanced-usage.html#ssl-warnings\n",
      "  InsecureRequestWarning,\n"
     ]
    },
    {
     "name": "stdout",
     "output_type": "stream",
     "text": [
      "\tProduct found!\n",
      "\tChecking UPC:  820170073358\n"
     ]
    },
    {
     "name": "stderr",
     "output_type": "stream",
     "text": [
      "D:\\Software\\anaconda3\\lib\\site-packages\\urllib3\\connectionpool.py:988: InsecureRequestWarning: Unverified HTTPS request is being made to host 'www.upcitemdb.com'. Adding certificate verification is strongly advised. See: https://urllib3.readthedocs.io/en/latest/advanced-usage.html#ssl-warnings\n",
      "  InsecureRequestWarning,\n"
     ]
    },
    {
     "name": "stdout",
     "output_type": "stream",
     "text": [
      "\tbox links found:  2\n",
      "\tChecking UPC:  820170073365\n",
      "\tbox links found:  2\n"
     ]
    },
    {
     "name": "stderr",
     "output_type": "stream",
     "text": [
      "D:\\Software\\anaconda3\\lib\\site-packages\\urllib3\\connectionpool.py:988: InsecureRequestWarning: Unverified HTTPS request is being made to host 'www.upcitemdb.com'. Adding certificate verification is strongly advised. See: https://urllib3.readthedocs.io/en/latest/advanced-usage.html#ssl-warnings\n",
      "  InsecureRequestWarning,\n"
     ]
    },
    {
     "name": "stdout",
     "output_type": "stream",
     "text": [
      "\tUpdated:  NaN\n",
      "\tUpdated:  820170073358\n",
      "Searching product:  Halyard Health 53434  on UPC_Item_DB\n"
     ]
    },
    {
     "name": "stderr",
     "output_type": "stream",
     "text": [
      "D:\\Software\\anaconda3\\lib\\site-packages\\urllib3\\connectionpool.py:988: InsecureRequestWarning: Unverified HTTPS request is being made to host 'www.upcitemdb.com'. Adding certificate verification is strongly advised. See: https://urllib3.readthedocs.io/en/latest/advanced-usage.html#ssl-warnings\n",
      "  InsecureRequestWarning,\n"
     ]
    },
    {
     "name": "stdout",
     "output_type": "stream",
     "text": [
      "\tProduct found!\n",
      "\tChecking UPC:  820170073372\n"
     ]
    },
    {
     "name": "stderr",
     "output_type": "stream",
     "text": [
      "D:\\Software\\anaconda3\\lib\\site-packages\\urllib3\\connectionpool.py:988: InsecureRequestWarning: Unverified HTTPS request is being made to host 'www.upcitemdb.com'. Adding certificate verification is strongly advised. See: https://urllib3.readthedocs.io/en/latest/advanced-usage.html#ssl-warnings\n",
      "  InsecureRequestWarning,\n"
     ]
    },
    {
     "name": "stdout",
     "output_type": "stream",
     "text": [
      "\tbox links found:  2\n",
      "\tChecking UPC:  820170073389\n"
     ]
    },
    {
     "name": "stderr",
     "output_type": "stream",
     "text": [
      "D:\\Software\\anaconda3\\lib\\site-packages\\urllib3\\connectionpool.py:988: InsecureRequestWarning: Unverified HTTPS request is being made to host 'www.upcitemdb.com'. Adding certificate verification is strongly advised. See: https://urllib3.readthedocs.io/en/latest/advanced-usage.html#ssl-warnings\n",
      "  InsecureRequestWarning,\n"
     ]
    },
    {
     "name": "stdout",
     "output_type": "stream",
     "text": [
      "\tbox links found:  2\n",
      "\tUpdated:  NaN\n",
      "\tUpdated:  820170073372\n",
      "Searching product:  Halyard Health 41662  on UPC_Item_DB\n"
     ]
    },
    {
     "name": "stderr",
     "output_type": "stream",
     "text": [
      "D:\\Software\\anaconda3\\lib\\site-packages\\urllib3\\connectionpool.py:988: InsecureRequestWarning: Unverified HTTPS request is being made to host 'www.upcitemdb.com'. Adding certificate verification is strongly advised. See: https://urllib3.readthedocs.io/en/latest/advanced-usage.html#ssl-warnings\n",
      "  InsecureRequestWarning,\n"
     ]
    },
    {
     "name": "stdout",
     "output_type": "stream",
     "text": [
      "\tProduct found!\n",
      "\tChecking UPC:  820170072306\n"
     ]
    },
    {
     "name": "stderr",
     "output_type": "stream",
     "text": [
      "D:\\Software\\anaconda3\\lib\\site-packages\\urllib3\\connectionpool.py:988: InsecureRequestWarning: Unverified HTTPS request is being made to host 'www.upcitemdb.com'. Adding certificate verification is strongly advised. See: https://urllib3.readthedocs.io/en/latest/advanced-usage.html#ssl-warnings\n",
      "  InsecureRequestWarning,\n"
     ]
    },
    {
     "name": "stdout",
     "output_type": "stream",
     "text": [
      "\tbox links found:  2\n",
      "\tChecking UPC:  820170072290\n"
     ]
    },
    {
     "name": "stderr",
     "output_type": "stream",
     "text": [
      "D:\\Software\\anaconda3\\lib\\site-packages\\urllib3\\connectionpool.py:988: InsecureRequestWarning: Unverified HTTPS request is being made to host 'www.upcitemdb.com'. Adding certificate verification is strongly advised. See: https://urllib3.readthedocs.io/en/latest/advanced-usage.html#ssl-warnings\n",
      "  InsecureRequestWarning,\n"
     ]
    },
    {
     "name": "stdout",
     "output_type": "stream",
     "text": [
      "\tbox links found:  1\n",
      "\tUpdated:  NaN\n",
      "\tUpdated:  820170072306\n",
      "Searching product:  Halyard Health 41660  on UPC_Item_DB\n"
     ]
    },
    {
     "name": "stderr",
     "output_type": "stream",
     "text": [
      "D:\\Software\\anaconda3\\lib\\site-packages\\urllib3\\connectionpool.py:988: InsecureRequestWarning: Unverified HTTPS request is being made to host 'www.upcitemdb.com'. Adding certificate verification is strongly advised. See: https://urllib3.readthedocs.io/en/latest/advanced-usage.html#ssl-warnings\n",
      "  InsecureRequestWarning,\n"
     ]
    },
    {
     "name": "stdout",
     "output_type": "stream",
     "text": [
      "\tProduct found!\n",
      "\tChecking UPC:  820170072276\n"
     ]
    },
    {
     "name": "stderr",
     "output_type": "stream",
     "text": [
      "D:\\Software\\anaconda3\\lib\\site-packages\\urllib3\\connectionpool.py:988: InsecureRequestWarning: Unverified HTTPS request is being made to host 'www.upcitemdb.com'. Adding certificate verification is strongly advised. See: https://urllib3.readthedocs.io/en/latest/advanced-usage.html#ssl-warnings\n",
      "  InsecureRequestWarning,\n"
     ]
    },
    {
     "name": "stdout",
     "output_type": "stream",
     "text": [
      "\tbox links found:  2\n",
      "\tChecking UPC:  820170072283\n",
      "\tbox links found:  2\n"
     ]
    },
    {
     "name": "stderr",
     "output_type": "stream",
     "text": [
      "D:\\Software\\anaconda3\\lib\\site-packages\\urllib3\\connectionpool.py:988: InsecureRequestWarning: Unverified HTTPS request is being made to host 'www.upcitemdb.com'. Adding certificate verification is strongly advised. See: https://urllib3.readthedocs.io/en/latest/advanced-usage.html#ssl-warnings\n",
      "  InsecureRequestWarning,\n"
     ]
    },
    {
     "name": "stdout",
     "output_type": "stream",
     "text": [
      "\tUpdated:  NaN\n",
      "\tUpdated:  820170072276\n",
      "Searching product:  Halyard Health 41659  on UPC_Item_DB\n"
     ]
    },
    {
     "name": "stderr",
     "output_type": "stream",
     "text": [
      "D:\\Software\\anaconda3\\lib\\site-packages\\urllib3\\connectionpool.py:988: InsecureRequestWarning: Unverified HTTPS request is being made to host 'www.upcitemdb.com'. Adding certificate verification is strongly advised. See: https://urllib3.readthedocs.io/en/latest/advanced-usage.html#ssl-warnings\n",
      "  InsecureRequestWarning,\n"
     ]
    },
    {
     "name": "stdout",
     "output_type": "stream",
     "text": [
      "\tProduct found!\n",
      "\tChecking UPC:  820170072252\n"
     ]
    },
    {
     "name": "stderr",
     "output_type": "stream",
     "text": [
      "D:\\Software\\anaconda3\\lib\\site-packages\\urllib3\\connectionpool.py:988: InsecureRequestWarning: Unverified HTTPS request is being made to host 'www.upcitemdb.com'. Adding certificate verification is strongly advised. See: https://urllib3.readthedocs.io/en/latest/advanced-usage.html#ssl-warnings\n",
      "  InsecureRequestWarning,\n"
     ]
    },
    {
     "name": "stdout",
     "output_type": "stream",
     "text": [
      "\tbox links found:  2\n",
      "\tChecking UPC:  820170072269\n"
     ]
    },
    {
     "name": "stderr",
     "output_type": "stream",
     "text": [
      "D:\\Software\\anaconda3\\lib\\site-packages\\urllib3\\connectionpool.py:988: InsecureRequestWarning: Unverified HTTPS request is being made to host 'www.upcitemdb.com'. Adding certificate verification is strongly advised. See: https://urllib3.readthedocs.io/en/latest/advanced-usage.html#ssl-warnings\n",
      "  InsecureRequestWarning,\n"
     ]
    },
    {
     "name": "stdout",
     "output_type": "stream",
     "text": [
      "\tbox links found:  2\n",
      "\tUpdated:  NaN\n",
      "\tUpdated:  820170072252\n",
      "Searching product:  Halyard Health 41658  on UPC_Item_DB\n"
     ]
    },
    {
     "name": "stderr",
     "output_type": "stream",
     "text": [
      "D:\\Software\\anaconda3\\lib\\site-packages\\urllib3\\connectionpool.py:988: InsecureRequestWarning: Unverified HTTPS request is being made to host 'www.upcitemdb.com'. Adding certificate verification is strongly advised. See: https://urllib3.readthedocs.io/en/latest/advanced-usage.html#ssl-warnings\n",
      "  InsecureRequestWarning,\n"
     ]
    },
    {
     "name": "stdout",
     "output_type": "stream",
     "text": [
      "\tProduct found!\n",
      "\tChecking UPC:  820170072238\n"
     ]
    },
    {
     "name": "stderr",
     "output_type": "stream",
     "text": [
      "D:\\Software\\anaconda3\\lib\\site-packages\\urllib3\\connectionpool.py:988: InsecureRequestWarning: Unverified HTTPS request is being made to host 'www.upcitemdb.com'. Adding certificate verification is strongly advised. See: https://urllib3.readthedocs.io/en/latest/advanced-usage.html#ssl-warnings\n",
      "  InsecureRequestWarning,\n"
     ]
    },
    {
     "name": "stdout",
     "output_type": "stream",
     "text": [
      "\tbox links found:  2\n",
      "\tChecking UPC:  820170072245\n"
     ]
    },
    {
     "name": "stderr",
     "output_type": "stream",
     "text": [
      "D:\\Software\\anaconda3\\lib\\site-packages\\urllib3\\connectionpool.py:988: InsecureRequestWarning: Unverified HTTPS request is being made to host 'www.upcitemdb.com'. Adding certificate verification is strongly advised. See: https://urllib3.readthedocs.io/en/latest/advanced-usage.html#ssl-warnings\n",
      "  InsecureRequestWarning,\n"
     ]
    },
    {
     "name": "stdout",
     "output_type": "stream",
     "text": [
      "\tbox links found:  2\n",
      "\tUpdated:  NaN\n",
      "\tUpdated:  820170072238\n",
      "Searching product:  Halyard Health 41657  on UPC_Item_DB\n"
     ]
    },
    {
     "name": "stderr",
     "output_type": "stream",
     "text": [
      "D:\\Software\\anaconda3\\lib\\site-packages\\urllib3\\connectionpool.py:988: InsecureRequestWarning: Unverified HTTPS request is being made to host 'www.upcitemdb.com'. Adding certificate verification is strongly advised. See: https://urllib3.readthedocs.io/en/latest/advanced-usage.html#ssl-warnings\n",
      "  InsecureRequestWarning,\n"
     ]
    },
    {
     "name": "stdout",
     "output_type": "stream",
     "text": [
      "\tProduct found!\n",
      "\tChecking UPC:  820170072214\n"
     ]
    },
    {
     "name": "stderr",
     "output_type": "stream",
     "text": [
      "D:\\Software\\anaconda3\\lib\\site-packages\\urllib3\\connectionpool.py:988: InsecureRequestWarning: Unverified HTTPS request is being made to host 'www.upcitemdb.com'. Adding certificate verification is strongly advised. See: https://urllib3.readthedocs.io/en/latest/advanced-usage.html#ssl-warnings\n",
      "  InsecureRequestWarning,\n"
     ]
    },
    {
     "name": "stdout",
     "output_type": "stream",
     "text": [
      "\tbox links found:  2\n",
      "\tChecking UPC:  820170072221\n"
     ]
    },
    {
     "name": "stderr",
     "output_type": "stream",
     "text": [
      "D:\\Software\\anaconda3\\lib\\site-packages\\urllib3\\connectionpool.py:988: InsecureRequestWarning: Unverified HTTPS request is being made to host 'www.upcitemdb.com'. Adding certificate verification is strongly advised. See: https://urllib3.readthedocs.io/en/latest/advanced-usage.html#ssl-warnings\n",
      "  InsecureRequestWarning,\n"
     ]
    },
    {
     "name": "stdout",
     "output_type": "stream",
     "text": [
      "\tbox links found:  2\n",
      "\tUpdated:  NaN\n",
      "\tUpdated:  820170072214\n",
      "Searching product:  Halyard Health 55030  on UPC_Item_DB\n"
     ]
    },
    {
     "name": "stderr",
     "output_type": "stream",
     "text": [
      "D:\\Software\\anaconda3\\lib\\site-packages\\urllib3\\connectionpool.py:988: InsecureRequestWarning: Unverified HTTPS request is being made to host 'www.upcitemdb.com'. Adding certificate verification is strongly advised. See: https://urllib3.readthedocs.io/en/latest/advanced-usage.html#ssl-warnings\n",
      "  InsecureRequestWarning,\n"
     ]
    },
    {
     "name": "stdout",
     "output_type": "stream",
     "text": [
      "\tProduct found!\n",
      "\tChecking UPC:  820170073396\n"
     ]
    },
    {
     "name": "stderr",
     "output_type": "stream",
     "text": [
      "D:\\Software\\anaconda3\\lib\\site-packages\\urllib3\\connectionpool.py:988: InsecureRequestWarning: Unverified HTTPS request is being made to host 'www.upcitemdb.com'. Adding certificate verification is strongly advised. See: https://urllib3.readthedocs.io/en/latest/advanced-usage.html#ssl-warnings\n",
      "  InsecureRequestWarning,\n"
     ]
    },
    {
     "name": "stdout",
     "output_type": "stream",
     "text": [
      "\tbox links found:  2\n",
      "\tChecking UPC:  820170073402\n"
     ]
    },
    {
     "name": "stderr",
     "output_type": "stream",
     "text": [
      "D:\\Software\\anaconda3\\lib\\site-packages\\urllib3\\connectionpool.py:988: InsecureRequestWarning: Unverified HTTPS request is being made to host 'www.upcitemdb.com'. Adding certificate verification is strongly advised. See: https://urllib3.readthedocs.io/en/latest/advanced-usage.html#ssl-warnings\n",
      "  InsecureRequestWarning,\n"
     ]
    },
    {
     "name": "stdout",
     "output_type": "stream",
     "text": [
      "\tbox links found:  2\n",
      "\tChecking UPC:  713145687042\n"
     ]
    },
    {
     "name": "stderr",
     "output_type": "stream",
     "text": [
      "D:\\Software\\anaconda3\\lib\\site-packages\\urllib3\\connectionpool.py:988: InsecureRequestWarning: Unverified HTTPS request is being made to host 'www.upcitemdb.com'. Adding certificate verification is strongly advised. See: https://urllib3.readthedocs.io/en/latest/advanced-usage.html#ssl-warnings\n",
      "  InsecureRequestWarning,\n"
     ]
    },
    {
     "name": "stdout",
     "output_type": "stream",
     "text": [
      "\tbox links found:  1\n",
      "\tUpdated:  NaN\n",
      "\tUpdated:  820170073396\n",
      "Searching product:  Halyard Health 55031  on UPC_Item_DB\n"
     ]
    },
    {
     "name": "stderr",
     "output_type": "stream",
     "text": [
      "D:\\Software\\anaconda3\\lib\\site-packages\\urllib3\\connectionpool.py:988: InsecureRequestWarning: Unverified HTTPS request is being made to host 'www.upcitemdb.com'. Adding certificate verification is strongly advised. See: https://urllib3.readthedocs.io/en/latest/advanced-usage.html#ssl-warnings\n",
      "  InsecureRequestWarning,\n"
     ]
    },
    {
     "name": "stdout",
     "output_type": "stream",
     "text": [
      "\tProduct found!\n",
      "\tChecking UPC:  820170073419\n"
     ]
    },
    {
     "name": "stderr",
     "output_type": "stream",
     "text": [
      "D:\\Software\\anaconda3\\lib\\site-packages\\urllib3\\connectionpool.py:988: InsecureRequestWarning: Unverified HTTPS request is being made to host 'www.upcitemdb.com'. Adding certificate verification is strongly advised. See: https://urllib3.readthedocs.io/en/latest/advanced-usage.html#ssl-warnings\n",
      "  InsecureRequestWarning,\n"
     ]
    },
    {
     "name": "stdout",
     "output_type": "stream",
     "text": [
      "\tbox links found:  2\n",
      "\tChecking UPC:  820170073426\n"
     ]
    },
    {
     "name": "stderr",
     "output_type": "stream",
     "text": [
      "D:\\Software\\anaconda3\\lib\\site-packages\\urllib3\\connectionpool.py:988: InsecureRequestWarning: Unverified HTTPS request is being made to host 'www.upcitemdb.com'. Adding certificate verification is strongly advised. See: https://urllib3.readthedocs.io/en/latest/advanced-usage.html#ssl-warnings\n",
      "  InsecureRequestWarning,\n"
     ]
    },
    {
     "name": "stdout",
     "output_type": "stream",
     "text": [
      "\tbox links found:  2\n",
      "\tUpdated:  NaN\n",
      "\tUpdated:  820170073419\n",
      "Searching product:  Halyard Health 55032  on UPC_Item_DB\n"
     ]
    },
    {
     "name": "stderr",
     "output_type": "stream",
     "text": [
      "D:\\Software\\anaconda3\\lib\\site-packages\\urllib3\\connectionpool.py:988: InsecureRequestWarning: Unverified HTTPS request is being made to host 'www.upcitemdb.com'. Adding certificate verification is strongly advised. See: https://urllib3.readthedocs.io/en/latest/advanced-usage.html#ssl-warnings\n",
      "  InsecureRequestWarning,\n"
     ]
    },
    {
     "name": "stdout",
     "output_type": "stream",
     "text": [
      "\tProduct found!\n",
      "\tChecking UPC:  820170073433\n"
     ]
    },
    {
     "name": "stderr",
     "output_type": "stream",
     "text": [
      "D:\\Software\\anaconda3\\lib\\site-packages\\urllib3\\connectionpool.py:988: InsecureRequestWarning: Unverified HTTPS request is being made to host 'www.upcitemdb.com'. Adding certificate verification is strongly advised. See: https://urllib3.readthedocs.io/en/latest/advanced-usage.html#ssl-warnings\n",
      "  InsecureRequestWarning,\n"
     ]
    },
    {
     "name": "stdout",
     "output_type": "stream",
     "text": [
      "\tbox links found:  2\n",
      "\tChecking UPC:  820170073440\n",
      "\tbox links found: "
     ]
    },
    {
     "name": "stderr",
     "output_type": "stream",
     "text": [
      "D:\\Software\\anaconda3\\lib\\site-packages\\urllib3\\connectionpool.py:988: InsecureRequestWarning: Unverified HTTPS request is being made to host 'www.upcitemdb.com'. Adding certificate verification is strongly advised. See: https://urllib3.readthedocs.io/en/latest/advanced-usage.html#ssl-warnings\n",
      "  InsecureRequestWarning,\n"
     ]
    },
    {
     "name": "stdout",
     "output_type": "stream",
     "text": [
      " 2\n",
      "\tUpdated:  NaN\n",
      "\tUpdated:  820170073433\n",
      "Searching product:  Halyard Health 55033  on UPC_Item_DB\n"
     ]
    },
    {
     "name": "stderr",
     "output_type": "stream",
     "text": [
      "D:\\Software\\anaconda3\\lib\\site-packages\\urllib3\\connectionpool.py:988: InsecureRequestWarning: Unverified HTTPS request is being made to host 'www.upcitemdb.com'. Adding certificate verification is strongly advised. See: https://urllib3.readthedocs.io/en/latest/advanced-usage.html#ssl-warnings\n",
      "  InsecureRequestWarning,\n"
     ]
    },
    {
     "name": "stdout",
     "output_type": "stream",
     "text": [
      "\tProduct found!\n",
      "\tChecking UPC:  820170073457\n"
     ]
    },
    {
     "name": "stderr",
     "output_type": "stream",
     "text": [
      "D:\\Software\\anaconda3\\lib\\site-packages\\urllib3\\connectionpool.py:988: InsecureRequestWarning: Unverified HTTPS request is being made to host 'www.upcitemdb.com'. Adding certificate verification is strongly advised. See: https://urllib3.readthedocs.io/en/latest/advanced-usage.html#ssl-warnings\n",
      "  InsecureRequestWarning,\n"
     ]
    },
    {
     "name": "stdout",
     "output_type": "stream",
     "text": [
      "\tbox links found:  2\n",
      "\tChecking UPC:  820170073464\n"
     ]
    },
    {
     "name": "stderr",
     "output_type": "stream",
     "text": [
      "D:\\Software\\anaconda3\\lib\\site-packages\\urllib3\\connectionpool.py:988: InsecureRequestWarning: Unverified HTTPS request is being made to host 'www.upcitemdb.com'. Adding certificate verification is strongly advised. See: https://urllib3.readthedocs.io/en/latest/advanced-usage.html#ssl-warnings\n",
      "  InsecureRequestWarning,\n"
     ]
    },
    {
     "name": "stdout",
     "output_type": "stream",
     "text": [
      "\tbox links found:  2\n",
      "\tChecking UPC:  036000550337\n"
     ]
    },
    {
     "name": "stderr",
     "output_type": "stream",
     "text": [
      "D:\\Software\\anaconda3\\lib\\site-packages\\urllib3\\connectionpool.py:988: InsecureRequestWarning: Unverified HTTPS request is being made to host 'www.upcitemdb.com'. Adding certificate verification is strongly advised. See: https://urllib3.readthedocs.io/en/latest/advanced-usage.html#ssl-warnings\n",
      "  InsecureRequestWarning,\n"
     ]
    },
    {
     "name": "stdout",
     "output_type": "stream",
     "text": [
      "\tbox links found:  17\n",
      "\tUpdated:  NaN\n",
      "\tUpdated:  036000550337\n",
      "Searching product:  Halyard Health 55034  on UPC_Item_DB\n"
     ]
    },
    {
     "name": "stderr",
     "output_type": "stream",
     "text": [
      "D:\\Software\\anaconda3\\lib\\site-packages\\urllib3\\connectionpool.py:988: InsecureRequestWarning: Unverified HTTPS request is being made to host 'www.upcitemdb.com'. Adding certificate verification is strongly advised. See: https://urllib3.readthedocs.io/en/latest/advanced-usage.html#ssl-warnings\n",
      "  InsecureRequestWarning,\n"
     ]
    },
    {
     "name": "stdout",
     "output_type": "stream",
     "text": [
      "\tProduct found!\n",
      "\tChecking UPC:  820170073471\n"
     ]
    },
    {
     "name": "stderr",
     "output_type": "stream",
     "text": [
      "D:\\Software\\anaconda3\\lib\\site-packages\\urllib3\\connectionpool.py:988: InsecureRequestWarning: Unverified HTTPS request is being made to host 'www.upcitemdb.com'. Adding certificate verification is strongly advised. See: https://urllib3.readthedocs.io/en/latest/advanced-usage.html#ssl-warnings\n",
      "  InsecureRequestWarning,\n"
     ]
    },
    {
     "name": "stdout",
     "output_type": "stream",
     "text": [
      "\tbox links found:  2\n",
      "\tChecking UPC:  820170073488\n"
     ]
    },
    {
     "name": "stderr",
     "output_type": "stream",
     "text": [
      "D:\\Software\\anaconda3\\lib\\site-packages\\urllib3\\connectionpool.py:988: InsecureRequestWarning: Unverified HTTPS request is being made to host 'www.upcitemdb.com'. Adding certificate verification is strongly advised. See: https://urllib3.readthedocs.io/en/latest/advanced-usage.html#ssl-warnings\n",
      "  InsecureRequestWarning,\n"
     ]
    },
    {
     "name": "stdout",
     "output_type": "stream",
     "text": [
      "\tbox links found:  2\n",
      "\tUpdated:  NaN\n",
      "\tUpdated:  820170073471\n",
      "Searching product:  Halyard Health 50031  on UPC_Item_DB\n"
     ]
    },
    {
     "name": "stderr",
     "output_type": "stream",
     "text": [
      "D:\\Software\\anaconda3\\lib\\site-packages\\urllib3\\connectionpool.py:988: InsecureRequestWarning: Unverified HTTPS request is being made to host 'www.upcitemdb.com'. Adding certificate verification is strongly advised. See: https://urllib3.readthedocs.io/en/latest/advanced-usage.html#ssl-warnings\n",
      "  InsecureRequestWarning,\n"
     ]
    },
    {
     "name": "stdout",
     "output_type": "stream",
     "text": [
      "\tProduct found!\n",
      "\tChecking UPC:  820170072696\n"
     ]
    },
    {
     "name": "stderr",
     "output_type": "stream",
     "text": [
      "D:\\Software\\anaconda3\\lib\\site-packages\\urllib3\\connectionpool.py:988: InsecureRequestWarning: Unverified HTTPS request is being made to host 'www.upcitemdb.com'. Adding certificate verification is strongly advised. See: https://urllib3.readthedocs.io/en/latest/advanced-usage.html#ssl-warnings\n",
      "  InsecureRequestWarning,\n"
     ]
    },
    {
     "name": "stdout",
     "output_type": "stream",
     "text": [
      "\tbox links found:  2\n",
      "\tChecking UPC:  820170072702\n"
     ]
    },
    {
     "name": "stderr",
     "output_type": "stream",
     "text": [
      "D:\\Software\\anaconda3\\lib\\site-packages\\urllib3\\connectionpool.py:988: InsecureRequestWarning: Unverified HTTPS request is being made to host 'www.upcitemdb.com'. Adding certificate verification is strongly advised. See: https://urllib3.readthedocs.io/en/latest/advanced-usage.html#ssl-warnings\n",
      "  InsecureRequestWarning,\n"
     ]
    },
    {
     "name": "stdout",
     "output_type": "stream",
     "text": [
      "\tbox links found:  2\n",
      "\tChecking UPC:  095614766183\n"
     ]
    },
    {
     "name": "stderr",
     "output_type": "stream",
     "text": [
      "D:\\Software\\anaconda3\\lib\\site-packages\\urllib3\\connectionpool.py:988: InsecureRequestWarning: Unverified HTTPS request is being made to host 'www.upcitemdb.com'. Adding certificate verification is strongly advised. See: https://urllib3.readthedocs.io/en/latest/advanced-usage.html#ssl-warnings\n",
      "  InsecureRequestWarning,\n"
     ]
    },
    {
     "name": "stdout",
     "output_type": "stream",
     "text": [
      "\tbox links found:  1\n",
      "\tChecking UPC:  713049530505\n",
      "\tcase links found:  1\n"
     ]
    },
    {
     "name": "stderr",
     "output_type": "stream",
     "text": [
      "D:\\Software\\anaconda3\\lib\\site-packages\\urllib3\\connectionpool.py:988: InsecureRequestWarning: Unverified HTTPS request is being made to host 'www.upcitemdb.com'. Adding certificate verification is strongly advised. See: https://urllib3.readthedocs.io/en/latest/advanced-usage.html#ssl-warnings\n",
      "  InsecureRequestWarning,\n"
     ]
    },
    {
     "name": "stdout",
     "output_type": "stream",
     "text": [
      "\tUpdated:  713049530505\n",
      "\tUpdated:  820170072696\n",
      "Searching product:  Halyard Health 50032  on UPC_Item_DB\n"
     ]
    },
    {
     "name": "stderr",
     "output_type": "stream",
     "text": [
      "D:\\Software\\anaconda3\\lib\\site-packages\\urllib3\\connectionpool.py:988: InsecureRequestWarning: Unverified HTTPS request is being made to host 'www.upcitemdb.com'. Adding certificate verification is strongly advised. See: https://urllib3.readthedocs.io/en/latest/advanced-usage.html#ssl-warnings\n",
      "  InsecureRequestWarning,\n"
     ]
    },
    {
     "name": "stdout",
     "output_type": "stream",
     "text": [
      "\tProduct found!\n",
      "\tChecking UPC:  820170072719\n"
     ]
    },
    {
     "name": "stderr",
     "output_type": "stream",
     "text": [
      "D:\\Software\\anaconda3\\lib\\site-packages\\urllib3\\connectionpool.py:988: InsecureRequestWarning: Unverified HTTPS request is being made to host 'www.upcitemdb.com'. Adding certificate verification is strongly advised. See: https://urllib3.readthedocs.io/en/latest/advanced-usage.html#ssl-warnings\n",
      "  InsecureRequestWarning,\n"
     ]
    },
    {
     "name": "stdout",
     "output_type": "stream",
     "text": [
      "\tbox links found:  2\n",
      "\tChecking UPC:  820170072726\n"
     ]
    },
    {
     "name": "stderr",
     "output_type": "stream",
     "text": [
      "D:\\Software\\anaconda3\\lib\\site-packages\\urllib3\\connectionpool.py:988: InsecureRequestWarning: Unverified HTTPS request is being made to host 'www.upcitemdb.com'. Adding certificate verification is strongly advised. See: https://urllib3.readthedocs.io/en/latest/advanced-usage.html#ssl-warnings\n",
      "  InsecureRequestWarning,\n"
     ]
    },
    {
     "name": "stdout",
     "output_type": "stream",
     "text": [
      "\tbox links found:  2\n",
      "\tUpdated:  NaN\n",
      "\tUpdated:  820170072719\n",
      "Searching product:  Halyard Health 50033  on UPC_Item_DB\n"
     ]
    },
    {
     "name": "stderr",
     "output_type": "stream",
     "text": [
      "D:\\Software\\anaconda3\\lib\\site-packages\\urllib3\\connectionpool.py:988: InsecureRequestWarning: Unverified HTTPS request is being made to host 'www.upcitemdb.com'. Adding certificate verification is strongly advised. See: https://urllib3.readthedocs.io/en/latest/advanced-usage.html#ssl-warnings\n",
      "  InsecureRequestWarning,\n"
     ]
    },
    {
     "name": "stdout",
     "output_type": "stream",
     "text": [
      "\tProduct found!\n",
      "\tChecking UPC:  820170072733\n"
     ]
    },
    {
     "name": "stderr",
     "output_type": "stream",
     "text": [
      "D:\\Software\\anaconda3\\lib\\site-packages\\urllib3\\connectionpool.py:988: InsecureRequestWarning: Unverified HTTPS request is being made to host 'www.upcitemdb.com'. Adding certificate verification is strongly advised. See: https://urllib3.readthedocs.io/en/latest/advanced-usage.html#ssl-warnings\n",
      "  InsecureRequestWarning,\n"
     ]
    },
    {
     "name": "stdout",
     "output_type": "stream",
     "text": [
      "\tbox links found:  2\n",
      "\tChecking UPC:  820170072740\n"
     ]
    },
    {
     "name": "stderr",
     "output_type": "stream",
     "text": [
      "D:\\Software\\anaconda3\\lib\\site-packages\\urllib3\\connectionpool.py:988: InsecureRequestWarning: Unverified HTTPS request is being made to host 'www.upcitemdb.com'. Adding certificate verification is strongly advised. See: https://urllib3.readthedocs.io/en/latest/advanced-usage.html#ssl-warnings\n",
      "  InsecureRequestWarning,\n"
     ]
    },
    {
     "name": "stdout",
     "output_type": "stream",
     "text": [
      "\tbox links found:  2\n",
      "\tUpdated:  NaN\n",
      "\tUpdated:  820170072733\n",
      "Searching product:  Halyard Health 50034  on UPC_Item_DB\n"
     ]
    },
    {
     "name": "stderr",
     "output_type": "stream",
     "text": [
      "D:\\Software\\anaconda3\\lib\\site-packages\\urllib3\\connectionpool.py:988: InsecureRequestWarning: Unverified HTTPS request is being made to host 'www.upcitemdb.com'. Adding certificate verification is strongly advised. See: https://urllib3.readthedocs.io/en/latest/advanced-usage.html#ssl-warnings\n",
      "  InsecureRequestWarning,\n"
     ]
    },
    {
     "name": "stdout",
     "output_type": "stream",
     "text": [
      "\tProduct found!\n",
      "\tChecking UPC:  820170072757\n"
     ]
    },
    {
     "name": "stderr",
     "output_type": "stream",
     "text": [
      "D:\\Software\\anaconda3\\lib\\site-packages\\urllib3\\connectionpool.py:988: InsecureRequestWarning: Unverified HTTPS request is being made to host 'www.upcitemdb.com'. Adding certificate verification is strongly advised. See: https://urllib3.readthedocs.io/en/latest/advanced-usage.html#ssl-warnings\n",
      "  InsecureRequestWarning,\n"
     ]
    },
    {
     "name": "stdout",
     "output_type": "stream",
     "text": [
      "\tbox links found:  2\n",
      "\tChecking UPC:  820170072764\n"
     ]
    },
    {
     "name": "stderr",
     "output_type": "stream",
     "text": [
      "D:\\Software\\anaconda3\\lib\\site-packages\\urllib3\\connectionpool.py:988: InsecureRequestWarning: Unverified HTTPS request is being made to host 'www.upcitemdb.com'. Adding certificate verification is strongly advised. See: https://urllib3.readthedocs.io/en/latest/advanced-usage.html#ssl-warnings\n",
      "  InsecureRequestWarning,\n"
     ]
    },
    {
     "name": "stdout",
     "output_type": "stream",
     "text": [
      "\tbox links found:  2\n",
      "\tUpdated:  NaN\n",
      "\tUpdated:  820170072757\n",
      "Searching product:  Halyard Health 44792  on UPC_Item_DB\n"
     ]
    },
    {
     "name": "stderr",
     "output_type": "stream",
     "text": [
      "D:\\Software\\anaconda3\\lib\\site-packages\\urllib3\\connectionpool.py:988: InsecureRequestWarning: Unverified HTTPS request is being made to host 'www.upcitemdb.com'. Adding certificate verification is strongly advised. See: https://urllib3.readthedocs.io/en/latest/advanced-usage.html#ssl-warnings\n",
      "  InsecureRequestWarning,\n"
     ]
    },
    {
     "name": "stdout",
     "output_type": "stream",
     "text": [
      "\tProduct found!\n",
      "\tChecking UPC:  820140029224\n"
     ]
    },
    {
     "name": "stderr",
     "output_type": "stream",
     "text": [
      "D:\\Software\\anaconda3\\lib\\site-packages\\urllib3\\connectionpool.py:988: InsecureRequestWarning: Unverified HTTPS request is being made to host 'www.upcitemdb.com'. Adding certificate verification is strongly advised. See: https://urllib3.readthedocs.io/en/latest/advanced-usage.html#ssl-warnings\n",
      "  InsecureRequestWarning,\n"
     ]
    },
    {
     "name": "stdout",
     "output_type": "stream",
     "text": [
      "\tbox links found:  4\n",
      "\tChecking UPC:  820170072511\n"
     ]
    },
    {
     "name": "stderr",
     "output_type": "stream",
     "text": [
      "D:\\Software\\anaconda3\\lib\\site-packages\\urllib3\\connectionpool.py:988: InsecureRequestWarning: Unverified HTTPS request is being made to host 'www.upcitemdb.com'. Adding certificate verification is strongly advised. See: https://urllib3.readthedocs.io/en/latest/advanced-usage.html#ssl-warnings\n",
      "  InsecureRequestWarning,\n"
     ]
    },
    {
     "name": "stdout",
     "output_type": "stream",
     "text": [
      "\tbox links found:  2\n",
      "\tChecking UPC:  820170072528\n"
     ]
    },
    {
     "name": "stderr",
     "output_type": "stream",
     "text": [
      "D:\\Software\\anaconda3\\lib\\site-packages\\urllib3\\connectionpool.py:988: InsecureRequestWarning: Unverified HTTPS request is being made to host 'www.upcitemdb.com'. Adding certificate verification is strongly advised. See: https://urllib3.readthedocs.io/en/latest/advanced-usage.html#ssl-warnings\n",
      "  InsecureRequestWarning,\n"
     ]
    },
    {
     "name": "stdout",
     "output_type": "stream",
     "text": [
      "\tcase links found:  2\n",
      "\tChecking UPC:  713049534121\n"
     ]
    },
    {
     "name": "stderr",
     "output_type": "stream",
     "text": [
      "D:\\Software\\anaconda3\\lib\\site-packages\\urllib3\\connectionpool.py:988: InsecureRequestWarning: Unverified HTTPS request is being made to host 'www.upcitemdb.com'. Adding certificate verification is strongly advised. See: https://urllib3.readthedocs.io/en/latest/advanced-usage.html#ssl-warnings\n",
      "  InsecureRequestWarning,\n"
     ]
    },
    {
     "name": "stdout",
     "output_type": "stream",
     "text": [
      "\tcase links found:  1\n",
      "\tUpdated:  820170072528\n",
      "\tUpdated:  820140029224\n",
      "Searching product:  Halyard Health 44793  on UPC_Item_DB\n"
     ]
    },
    {
     "name": "stderr",
     "output_type": "stream",
     "text": [
      "D:\\Software\\anaconda3\\lib\\site-packages\\urllib3\\connectionpool.py:988: InsecureRequestWarning: Unverified HTTPS request is being made to host 'www.upcitemdb.com'. Adding certificate verification is strongly advised. See: https://urllib3.readthedocs.io/en/latest/advanced-usage.html#ssl-warnings\n",
      "  InsecureRequestWarning,\n"
     ]
    },
    {
     "name": "stdout",
     "output_type": "stream",
     "text": [
      "\tProduct found!\n",
      "\tChecking UPC:  820170072535\n"
     ]
    },
    {
     "name": "stderr",
     "output_type": "stream",
     "text": [
      "D:\\Software\\anaconda3\\lib\\site-packages\\urllib3\\connectionpool.py:988: InsecureRequestWarning: Unverified HTTPS request is being made to host 'www.upcitemdb.com'. Adding certificate verification is strongly advised. See: https://urllib3.readthedocs.io/en/latest/advanced-usage.html#ssl-warnings\n",
      "  InsecureRequestWarning,\n"
     ]
    },
    {
     "name": "stdout",
     "output_type": "stream",
     "text": [
      "\tbox links found:  2\n",
      "\tChecking UPC:  820170072542\n",
      "\tcase links found:  2\n"
     ]
    },
    {
     "name": "stderr",
     "output_type": "stream",
     "text": [
      "D:\\Software\\anaconda3\\lib\\site-packages\\urllib3\\connectionpool.py:988: InsecureRequestWarning: Unverified HTTPS request is being made to host 'www.upcitemdb.com'. Adding certificate verification is strongly advised. See: https://urllib3.readthedocs.io/en/latest/advanced-usage.html#ssl-warnings\n",
      "  InsecureRequestWarning,\n"
     ]
    },
    {
     "name": "stdout",
     "output_type": "stream",
     "text": [
      "\tChecking UPC:  820140029231\n"
     ]
    },
    {
     "name": "stderr",
     "output_type": "stream",
     "text": [
      "D:\\Software\\anaconda3\\lib\\site-packages\\urllib3\\connectionpool.py:988: InsecureRequestWarning: Unverified HTTPS request is being made to host 'www.upcitemdb.com'. Adding certificate verification is strongly advised. See: https://urllib3.readthedocs.io/en/latest/advanced-usage.html#ssl-warnings\n",
      "  InsecureRequestWarning,\n"
     ]
    },
    {
     "name": "stdout",
     "output_type": "stream",
     "text": [
      "\tbox links found:  3\n",
      "\tChecking UPC:  713049534138\n"
     ]
    },
    {
     "name": "stderr",
     "output_type": "stream",
     "text": [
      "D:\\Software\\anaconda3\\lib\\site-packages\\urllib3\\connectionpool.py:988: InsecureRequestWarning: Unverified HTTPS request is being made to host 'www.upcitemdb.com'. Adding certificate verification is strongly advised. See: https://urllib3.readthedocs.io/en/latest/advanced-usage.html#ssl-warnings\n",
      "  InsecureRequestWarning,\n"
     ]
    },
    {
     "name": "stdout",
     "output_type": "stream",
     "text": [
      "\tcase links found:  1\n",
      "\tUpdated:  820170072542\n",
      "\tUpdated:  820140029231\n",
      "Searching product:  Halyard Health 44794  on UPC_Item_DB\n"
     ]
    },
    {
     "name": "stderr",
     "output_type": "stream",
     "text": [
      "D:\\Software\\anaconda3\\lib\\site-packages\\urllib3\\connectionpool.py:988: InsecureRequestWarning: Unverified HTTPS request is being made to host 'www.upcitemdb.com'. Adding certificate verification is strongly advised. See: https://urllib3.readthedocs.io/en/latest/advanced-usage.html#ssl-warnings\n",
      "  InsecureRequestWarning,\n"
     ]
    },
    {
     "name": "stdout",
     "output_type": "stream",
     "text": [
      "\tProduct found!\n",
      "\tChecking UPC:  820170072559\n"
     ]
    },
    {
     "name": "stderr",
     "output_type": "stream",
     "text": [
      "D:\\Software\\anaconda3\\lib\\site-packages\\urllib3\\connectionpool.py:988: InsecureRequestWarning: Unverified HTTPS request is being made to host 'www.upcitemdb.com'. Adding certificate verification is strongly advised. See: https://urllib3.readthedocs.io/en/latest/advanced-usage.html#ssl-warnings\n",
      "  InsecureRequestWarning,\n"
     ]
    },
    {
     "name": "stdout",
     "output_type": "stream",
     "text": [
      "\tbox links found:  2\n",
      "\tChecking UPC:  820170072566\n",
      "\tcase links found:  2\n"
     ]
    },
    {
     "name": "stderr",
     "output_type": "stream",
     "text": [
      "D:\\Software\\anaconda3\\lib\\site-packages\\urllib3\\connectionpool.py:988: InsecureRequestWarning: Unverified HTTPS request is being made to host 'www.upcitemdb.com'. Adding certificate verification is strongly advised. See: https://urllib3.readthedocs.io/en/latest/advanced-usage.html#ssl-warnings\n",
      "  InsecureRequestWarning,\n"
     ]
    },
    {
     "name": "stdout",
     "output_type": "stream",
     "text": [
      "\tChecking UPC:  820140029248\n"
     ]
    },
    {
     "name": "stderr",
     "output_type": "stream",
     "text": [
      "D:\\Software\\anaconda3\\lib\\site-packages\\urllib3\\connectionpool.py:988: InsecureRequestWarning: Unverified HTTPS request is being made to host 'www.upcitemdb.com'. Adding certificate verification is strongly advised. See: https://urllib3.readthedocs.io/en/latest/advanced-usage.html#ssl-warnings\n",
      "  InsecureRequestWarning,\n"
     ]
    },
    {
     "name": "stdout",
     "output_type": "stream",
     "text": [
      "\tbox links found:  2\n",
      "\tChecking UPC:  689829005412\n"
     ]
    },
    {
     "name": "stderr",
     "output_type": "stream",
     "text": [
      "D:\\Software\\anaconda3\\lib\\site-packages\\urllib3\\connectionpool.py:988: InsecureRequestWarning: Unverified HTTPS request is being made to host 'www.upcitemdb.com'. Adding certificate verification is strongly advised. See: https://urllib3.readthedocs.io/en/latest/advanced-usage.html#ssl-warnings\n",
      "  InsecureRequestWarning,\n"
     ]
    },
    {
     "name": "stdout",
     "output_type": "stream",
     "text": [
      "\tbox links found:  2\n",
      "\tChecking UPC:  689989809882\n"
     ]
    },
    {
     "name": "stderr",
     "output_type": "stream",
     "text": [
      "D:\\Software\\anaconda3\\lib\\site-packages\\urllib3\\connectionpool.py:988: InsecureRequestWarning: Unverified HTTPS request is being made to host 'www.upcitemdb.com'. Adding certificate verification is strongly advised. See: https://urllib3.readthedocs.io/en/latest/advanced-usage.html#ssl-warnings\n",
      "  InsecureRequestWarning,\n"
     ]
    },
    {
     "name": "stdout",
     "output_type": "stream",
     "text": [
      "\tbox links found:  1\n",
      "\tChecking UPC:  713049534145\n"
     ]
    },
    {
     "name": "stderr",
     "output_type": "stream",
     "text": [
      "D:\\Software\\anaconda3\\lib\\site-packages\\urllib3\\connectionpool.py:988: InsecureRequestWarning: Unverified HTTPS request is being made to host 'www.upcitemdb.com'. Adding certificate verification is strongly advised. See: https://urllib3.readthedocs.io/en/latest/advanced-usage.html#ssl-warnings\n",
      "  InsecureRequestWarning,\n"
     ]
    },
    {
     "name": "stdout",
     "output_type": "stream",
     "text": [
      "\tcase links found:  1\n",
      "\tUpdated:  820170072566\n",
      "\tUpdated:  820170072559\n",
      "Searching product:  Halyard Health 44795  on UPC_Item_DB\n"
     ]
    },
    {
     "name": "stderr",
     "output_type": "stream",
     "text": [
      "D:\\Software\\anaconda3\\lib\\site-packages\\urllib3\\connectionpool.py:988: InsecureRequestWarning: Unverified HTTPS request is being made to host 'www.upcitemdb.com'. Adding certificate verification is strongly advised. See: https://urllib3.readthedocs.io/en/latest/advanced-usage.html#ssl-warnings\n",
      "  InsecureRequestWarning,\n"
     ]
    },
    {
     "name": "stdout",
     "output_type": "stream",
     "text": [
      "\tProduct found!\n",
      "\tChecking UPC:  820140029255\n"
     ]
    },
    {
     "name": "stderr",
     "output_type": "stream",
     "text": [
      "D:\\Software\\anaconda3\\lib\\site-packages\\urllib3\\connectionpool.py:988: InsecureRequestWarning: Unverified HTTPS request is being made to host 'www.upcitemdb.com'. Adding certificate verification is strongly advised. See: https://urllib3.readthedocs.io/en/latest/advanced-usage.html#ssl-warnings\n",
      "  InsecureRequestWarning,\n"
     ]
    },
    {
     "name": "stdout",
     "output_type": "stream",
     "text": [
      "\tbox links found:  4\n",
      "\tChecking UPC:  820170072580\n"
     ]
    },
    {
     "name": "stderr",
     "output_type": "stream",
     "text": [
      "D:\\Software\\anaconda3\\lib\\site-packages\\urllib3\\connectionpool.py:988: InsecureRequestWarning: Unverified HTTPS request is being made to host 'www.upcitemdb.com'. Adding certificate verification is strongly advised. See: https://urllib3.readthedocs.io/en/latest/advanced-usage.html#ssl-warnings\n",
      "  InsecureRequestWarning,\n"
     ]
    },
    {
     "name": "stdout",
     "output_type": "stream",
     "text": [
      "\tcase links found:  2\n",
      "\tChecking UPC:  820170072573\n"
     ]
    },
    {
     "name": "stderr",
     "output_type": "stream",
     "text": [
      "D:\\Software\\anaconda3\\lib\\site-packages\\urllib3\\connectionpool.py:988: InsecureRequestWarning: Unverified HTTPS request is being made to host 'www.upcitemdb.com'. Adding certificate verification is strongly advised. See: https://urllib3.readthedocs.io/en/latest/advanced-usage.html#ssl-warnings\n",
      "  InsecureRequestWarning,\n"
     ]
    },
    {
     "name": "stdout",
     "output_type": "stream",
     "text": [
      "\tbox links found:  2\n",
      "\tChecking UPC:  713049534152\n",
      "\tcase links found:  1\n"
     ]
    },
    {
     "name": "stderr",
     "output_type": "stream",
     "text": [
      "D:\\Software\\anaconda3\\lib\\site-packages\\urllib3\\connectionpool.py:988: InsecureRequestWarning: Unverified HTTPS request is being made to host 'www.upcitemdb.com'. Adding certificate verification is strongly advised. See: https://urllib3.readthedocs.io/en/latest/advanced-usage.html#ssl-warnings\n",
      "  InsecureRequestWarning,\n"
     ]
    },
    {
     "name": "stdout",
     "output_type": "stream",
     "text": [
      "\tUpdated:  820170072580\n",
      "\tUpdated:  820140029255\n",
      "Searching product:  Halyard Health 44796  on UPC_Item_DB\n"
     ]
    },
    {
     "name": "stderr",
     "output_type": "stream",
     "text": [
      "D:\\Software\\anaconda3\\lib\\site-packages\\urllib3\\connectionpool.py:988: InsecureRequestWarning: Unverified HTTPS request is being made to host 'www.upcitemdb.com'. Adding certificate verification is strongly advised. See: https://urllib3.readthedocs.io/en/latest/advanced-usage.html#ssl-warnings\n",
      "  InsecureRequestWarning,\n"
     ]
    },
    {
     "name": "stdout",
     "output_type": "stream",
     "text": [
      "\tProduct found!\n",
      "\tChecking UPC:  820170072597\n"
     ]
    },
    {
     "name": "stderr",
     "output_type": "stream",
     "text": [
      "D:\\Software\\anaconda3\\lib\\site-packages\\urllib3\\connectionpool.py:988: InsecureRequestWarning: Unverified HTTPS request is being made to host 'www.upcitemdb.com'. Adding certificate verification is strongly advised. See: https://urllib3.readthedocs.io/en/latest/advanced-usage.html#ssl-warnings\n",
      "  InsecureRequestWarning,\n"
     ]
    },
    {
     "name": "stdout",
     "output_type": "stream",
     "text": [
      "\tbox links found:  2\n",
      "\tChecking UPC:  820170072603\n"
     ]
    },
    {
     "name": "stderr",
     "output_type": "stream",
     "text": [
      "D:\\Software\\anaconda3\\lib\\site-packages\\urllib3\\connectionpool.py:988: InsecureRequestWarning: Unverified HTTPS request is being made to host 'www.upcitemdb.com'. Adding certificate verification is strongly advised. See: https://urllib3.readthedocs.io/en/latest/advanced-usage.html#ssl-warnings\n",
      "  InsecureRequestWarning,\n"
     ]
    },
    {
     "name": "stdout",
     "output_type": "stream",
     "text": [
      "\tcase links found:  2\n",
      "\tChecking UPC:  820140029262\n",
      "\tbox links found:  2\n"
     ]
    },
    {
     "name": "stderr",
     "output_type": "stream",
     "text": [
      "D:\\Software\\anaconda3\\lib\\site-packages\\urllib3\\connectionpool.py:988: InsecureRequestWarning: Unverified HTTPS request is being made to host 'www.upcitemdb.com'. Adding certificate verification is strongly advised. See: https://urllib3.readthedocs.io/en/latest/advanced-usage.html#ssl-warnings\n",
      "  InsecureRequestWarning,\n"
     ]
    },
    {
     "name": "stdout",
     "output_type": "stream",
     "text": [
      "\tUpdated:  820170072603\n",
      "\tUpdated:  820170072597\n",
      "Searching product:  Halyard Health 59681  on UPC_Item_DB\n"
     ]
    },
    {
     "name": "stderr",
     "output_type": "stream",
     "text": [
      "D:\\Software\\anaconda3\\lib\\site-packages\\urllib3\\connectionpool.py:988: InsecureRequestWarning: Unverified HTTPS request is being made to host 'www.upcitemdb.com'. Adding certificate verification is strongly advised. See: https://urllib3.readthedocs.io/en/latest/advanced-usage.html#ssl-warnings\n",
      "  InsecureRequestWarning,\n"
     ]
    },
    {
     "name": "stdout",
     "output_type": "stream",
     "text": [
      "\tProduct found!\n",
      "\tChecking UPC:  001910528653\n"
     ]
    },
    {
     "name": "stderr",
     "output_type": "stream",
     "text": [
      "D:\\Software\\anaconda3\\lib\\site-packages\\urllib3\\connectionpool.py:988: InsecureRequestWarning: Unverified HTTPS request is being made to host 'www.upcitemdb.com'. Adding certificate verification is strongly advised. See: https://urllib3.readthedocs.io/en/latest/advanced-usage.html#ssl-warnings\n",
      "  InsecureRequestWarning,\n"
     ]
    },
    {
     "name": "stdout",
     "output_type": "stream",
     "text": [
      "\tcase links found:  1\n",
      "\tChecking UPC:  125113285189\n"
     ]
    },
    {
     "name": "stderr",
     "output_type": "stream",
     "text": [
      "D:\\Software\\anaconda3\\lib\\site-packages\\urllib3\\connectionpool.py:988: InsecureRequestWarning: Unverified HTTPS request is being made to host 'www.upcitemdb.com'. Adding certificate verification is strongly advised. See: https://urllib3.readthedocs.io/en/latest/advanced-usage.html#ssl-warnings\n",
      "  InsecureRequestWarning,\n"
     ]
    },
    {
     "name": "stdout",
     "output_type": "stream",
     "text": [
      "\tnot relevant\n",
      "\tUpdated:  001910528653\n",
      "\tUpdated:  NaN\n",
      "Searching product:  Halyard Health 59688  on UPC_Item_DB\n"
     ]
    },
    {
     "name": "stderr",
     "output_type": "stream",
     "text": [
      "D:\\Software\\anaconda3\\lib\\site-packages\\urllib3\\connectionpool.py:988: InsecureRequestWarning: Unverified HTTPS request is being made to host 'www.upcitemdb.com'. Adding certificate verification is strongly advised. See: https://urllib3.readthedocs.io/en/latest/advanced-usage.html#ssl-warnings\n",
      "  InsecureRequestWarning,\n"
     ]
    },
    {
     "name": "stdout",
     "output_type": "stream",
     "text": [
      "\tProduct found!\n",
      "\tChecking UPC:  680651596888\n"
     ]
    },
    {
     "name": "stderr",
     "output_type": "stream",
     "text": [
      "D:\\Software\\anaconda3\\lib\\site-packages\\urllib3\\connectionpool.py:988: InsecureRequestWarning: Unverified HTTPS request is being made to host 'www.upcitemdb.com'. Adding certificate verification is strongly advised. See: https://urllib3.readthedocs.io/en/latest/advanced-usage.html#ssl-warnings\n",
      "  InsecureRequestWarning,\n"
     ]
    },
    {
     "name": "stdout",
     "output_type": "stream",
     "text": [
      "\tcase links found:  16\n",
      "\tChecking UPC:  818228250158\n"
     ]
    },
    {
     "name": "stderr",
     "output_type": "stream",
     "text": [
      "D:\\Software\\anaconda3\\lib\\site-packages\\urllib3\\connectionpool.py:988: InsecureRequestWarning: Unverified HTTPS request is being made to host 'www.upcitemdb.com'. Adding certificate verification is strongly advised. See: https://urllib3.readthedocs.io/en/latest/advanced-usage.html#ssl-warnings\n",
      "  InsecureRequestWarning,\n"
     ]
    },
    {
     "name": "stdout",
     "output_type": "stream",
     "text": [
      "\tcase links found:  1\n",
      "\tChecking UPC:  680398097280\n",
      "\tcase links found: "
     ]
    },
    {
     "name": "stderr",
     "output_type": "stream",
     "text": [
      "D:\\Software\\anaconda3\\lib\\site-packages\\urllib3\\connectionpool.py:988: InsecureRequestWarning: Unverified HTTPS request is being made to host 'www.upcitemdb.com'. Adding certificate verification is strongly advised. See: https://urllib3.readthedocs.io/en/latest/advanced-usage.html#ssl-warnings\n",
      "  InsecureRequestWarning,\n"
     ]
    },
    {
     "name": "stdout",
     "output_type": "stream",
     "text": [
      " 1\n",
      "\tUpdated:  680651596888\n",
      "\tUpdated:  NaN\n",
      "Searching product:  Halyard Health 33101  on UPC_Item_DB\n"
     ]
    },
    {
     "name": "stderr",
     "output_type": "stream",
     "text": [
      "D:\\Software\\anaconda3\\lib\\site-packages\\urllib3\\connectionpool.py:988: InsecureRequestWarning: Unverified HTTPS request is being made to host 'www.upcitemdb.com'. Adding certificate verification is strongly advised. See: https://urllib3.readthedocs.io/en/latest/advanced-usage.html#ssl-warnings\n",
      "  InsecureRequestWarning,\n"
     ]
    },
    {
     "name": "stdout",
     "output_type": "stream",
     "text": [
      "\tNo UPCs found on UPC_Item_DB.\n",
      "\tUpdated:  NaN\n",
      "\tUpdated:  NaN\n",
      "Searching product:  Halyard Health 33495  on UPC_Item_DB\n"
     ]
    },
    {
     "name": "stderr",
     "output_type": "stream",
     "text": [
      "D:\\Software\\anaconda3\\lib\\site-packages\\urllib3\\connectionpool.py:988: InsecureRequestWarning: Unverified HTTPS request is being made to host 'www.upcitemdb.com'. Adding certificate verification is strongly advised. See: https://urllib3.readthedocs.io/en/latest/advanced-usage.html#ssl-warnings\n",
      "  InsecureRequestWarning,\n"
     ]
    },
    {
     "name": "stdout",
     "output_type": "stream",
     "text": [
      "\tNo UPCs found on UPC_Item_DB.\n",
      "\tUpdated:  NaN\n",
      "\tUpdated:  NaN\n",
      "Searching product:  Halyard Health 33500  on UPC_Item_DB\n"
     ]
    },
    {
     "name": "stderr",
     "output_type": "stream",
     "text": [
      "D:\\Software\\anaconda3\\lib\\site-packages\\urllib3\\connectionpool.py:988: InsecureRequestWarning: Unverified HTTPS request is being made to host 'www.upcitemdb.com'. Adding certificate verification is strongly advised. See: https://urllib3.readthedocs.io/en/latest/advanced-usage.html#ssl-warnings\n",
      "  InsecureRequestWarning,\n"
     ]
    },
    {
     "name": "stdout",
     "output_type": "stream",
     "text": [
      "\tProduct found!\n",
      "\tChecking UPC:  696576123337\n"
     ]
    },
    {
     "name": "stderr",
     "output_type": "stream",
     "text": [
      "D:\\Software\\anaconda3\\lib\\site-packages\\urllib3\\connectionpool.py:988: InsecureRequestWarning: Unverified HTTPS request is being made to host 'www.upcitemdb.com'. Adding certificate verification is strongly advised. See: https://urllib3.readthedocs.io/en/latest/advanced-usage.html#ssl-warnings\n",
      "  InsecureRequestWarning,\n"
     ]
    },
    {
     "name": "stdout",
     "output_type": "stream",
     "text": [
      "\tcase links found:  2\n",
      "\tChecking UPC:  818205339425\n"
     ]
    },
    {
     "name": "stderr",
     "output_type": "stream",
     "text": [
      "D:\\Software\\anaconda3\\lib\\site-packages\\urllib3\\connectionpool.py:988: InsecureRequestWarning: Unverified HTTPS request is being made to host 'www.upcitemdb.com'. Adding certificate verification is strongly advised. See: https://urllib3.readthedocs.io/en/latest/advanced-usage.html#ssl-warnings\n",
      "  InsecureRequestWarning,\n"
     ]
    },
    {
     "name": "stdout",
     "output_type": "stream",
     "text": [
      "\tcase links found:  1\n",
      "\tChecking UPC:  973954106633\n",
      "\tcase links found:  1\n"
     ]
    },
    {
     "name": "stderr",
     "output_type": "stream",
     "text": [
      "D:\\Software\\anaconda3\\lib\\site-packages\\urllib3\\connectionpool.py:988: InsecureRequestWarning: Unverified HTTPS request is being made to host 'www.upcitemdb.com'. Adding certificate verification is strongly advised. See: https://urllib3.readthedocs.io/en/latest/advanced-usage.html#ssl-warnings\n",
      "  InsecureRequestWarning,\n"
     ]
    },
    {
     "name": "stdout",
     "output_type": "stream",
     "text": [
      "\tChecking UPC:  696585731028\n",
      "\tcase links found:  1\n"
     ]
    },
    {
     "name": "stderr",
     "output_type": "stream",
     "text": [
      "D:\\Software\\anaconda3\\lib\\site-packages\\urllib3\\connectionpool.py:988: InsecureRequestWarning: Unverified HTTPS request is being made to host 'www.upcitemdb.com'. Adding certificate verification is strongly advised. See: https://urllib3.readthedocs.io/en/latest/advanced-usage.html#ssl-warnings\n",
      "  InsecureRequestWarning,\n"
     ]
    },
    {
     "name": "stdout",
     "output_type": "stream",
     "text": [
      "\tChecking UPC:  696393457158\n"
     ]
    },
    {
     "name": "stderr",
     "output_type": "stream",
     "text": [
      "D:\\Software\\anaconda3\\lib\\site-packages\\urllib3\\connectionpool.py:988: InsecureRequestWarning: Unverified HTTPS request is being made to host 'www.upcitemdb.com'. Adding certificate verification is strongly advised. See: https://urllib3.readthedocs.io/en/latest/advanced-usage.html#ssl-warnings\n",
      "  InsecureRequestWarning,\n"
     ]
    },
    {
     "name": "stdout",
     "output_type": "stream",
     "text": [
      "\tnot relevant\n",
      "\tUpdated:  696576123337\n",
      "\tUpdated:  NaN\n",
      "Searching product:  Halyard Health 33510  on UPC_Item_DB\n"
     ]
    },
    {
     "name": "stderr",
     "output_type": "stream",
     "text": [
      "D:\\Software\\anaconda3\\lib\\site-packages\\urllib3\\connectionpool.py:988: InsecureRequestWarning: Unverified HTTPS request is being made to host 'www.upcitemdb.com'. Adding certificate verification is strongly advised. See: https://urllib3.readthedocs.io/en/latest/advanced-usage.html#ssl-warnings\n",
      "  InsecureRequestWarning,\n"
     ]
    },
    {
     "name": "stdout",
     "output_type": "stream",
     "text": [
      "\tProduct found!\n",
      "\tChecking UPC:  607885864408\n"
     ]
    },
    {
     "name": "stderr",
     "output_type": "stream",
     "text": [
      "D:\\Software\\anaconda3\\lib\\site-packages\\urllib3\\connectionpool.py:988: InsecureRequestWarning: Unverified HTTPS request is being made to host 'www.upcitemdb.com'. Adding certificate verification is strongly advised. See: https://urllib3.readthedocs.io/en/latest/advanced-usage.html#ssl-warnings\n",
      "  InsecureRequestWarning,\n"
     ]
    },
    {
     "name": "stdout",
     "output_type": "stream",
     "text": [
      "\tcase links found:  2\n",
      "\tUpdated:  607885864408\n",
      "\tUpdated:  NaN\n",
      "Searching product:  Halyard Health 33625  on UPC_Item_DB\n"
     ]
    },
    {
     "name": "stderr",
     "output_type": "stream",
     "text": [
      "D:\\Software\\anaconda3\\lib\\site-packages\\urllib3\\connectionpool.py:988: InsecureRequestWarning: Unverified HTTPS request is being made to host 'www.upcitemdb.com'. Adding certificate verification is strongly advised. See: https://urllib3.readthedocs.io/en/latest/advanced-usage.html#ssl-warnings\n",
      "  InsecureRequestWarning,\n"
     ]
    },
    {
     "name": "stdout",
     "output_type": "stream",
     "text": [
      "\tProduct found!\n",
      "\tChecking UPC:  607885864422\n"
     ]
    },
    {
     "name": "stderr",
     "output_type": "stream",
     "text": [
      "D:\\Software\\anaconda3\\lib\\site-packages\\urllib3\\connectionpool.py:988: InsecureRequestWarning: Unverified HTTPS request is being made to host 'www.upcitemdb.com'. Adding certificate verification is strongly advised. See: https://urllib3.readthedocs.io/en/latest/advanced-usage.html#ssl-warnings\n",
      "  InsecureRequestWarning,\n"
     ]
    },
    {
     "name": "stdout",
     "output_type": "stream",
     "text": [
      "\tnot relevant\n",
      "\tUpdated:  NaN\n",
      "\tUpdated:  NaN\n",
      "Searching product:  Halyard Health 33630  on UPC_Item_DB\n"
     ]
    },
    {
     "name": "stderr",
     "output_type": "stream",
     "text": [
      "D:\\Software\\anaconda3\\lib\\site-packages\\urllib3\\connectionpool.py:988: InsecureRequestWarning: Unverified HTTPS request is being made to host 'www.upcitemdb.com'. Adding certificate verification is strongly advised. See: https://urllib3.readthedocs.io/en/latest/advanced-usage.html#ssl-warnings\n",
      "  InsecureRequestWarning,\n"
     ]
    },
    {
     "name": "stdout",
     "output_type": "stream",
     "text": [
      "\tProduct found!\n",
      "\tChecking UPC:  696576118807\n"
     ]
    },
    {
     "name": "stderr",
     "output_type": "stream",
     "text": [
      "D:\\Software\\anaconda3\\lib\\site-packages\\urllib3\\connectionpool.py:988: InsecureRequestWarning: Unverified HTTPS request is being made to host 'www.upcitemdb.com'. Adding certificate verification is strongly advised. See: https://urllib3.readthedocs.io/en/latest/advanced-usage.html#ssl-warnings\n",
      "  InsecureRequestWarning,\n"
     ]
    },
    {
     "name": "stdout",
     "output_type": "stream",
     "text": [
      "\tcase links found:  2\n",
      "\tChecking UPC:  689990616240\n",
      "\tcase links found:  1\n"
     ]
    },
    {
     "name": "stderr",
     "output_type": "stream",
     "text": [
      "D:\\Software\\anaconda3\\lib\\site-packages\\urllib3\\connectionpool.py:988: InsecureRequestWarning: Unverified HTTPS request is being made to host 'www.upcitemdb.com'. Adding certificate verification is strongly advised. See: https://urllib3.readthedocs.io/en/latest/advanced-usage.html#ssl-warnings\n",
      "  InsecureRequestWarning,\n"
     ]
    },
    {
     "name": "stdout",
     "output_type": "stream",
     "text": [
      "\tChecking UPC:  607885864439\n",
      "\tnot relevant\n"
     ]
    },
    {
     "name": "stderr",
     "output_type": "stream",
     "text": [
      "D:\\Software\\anaconda3\\lib\\site-packages\\urllib3\\connectionpool.py:988: InsecureRequestWarning: Unverified HTTPS request is being made to host 'www.upcitemdb.com'. Adding certificate verification is strongly advised. See: https://urllib3.readthedocs.io/en/latest/advanced-usage.html#ssl-warnings\n",
      "  InsecureRequestWarning,\n"
     ]
    },
    {
     "name": "stdout",
     "output_type": "stream",
     "text": [
      "\tUpdated:  696576118807\n",
      "\tUpdated:  NaN\n",
      "Searching product:  Halyard Health 33595  on UPC_Item_DB\n"
     ]
    },
    {
     "name": "stderr",
     "output_type": "stream",
     "text": [
      "D:\\Software\\anaconda3\\lib\\site-packages\\urllib3\\connectionpool.py:988: InsecureRequestWarning: Unverified HTTPS request is being made to host 'www.upcitemdb.com'. Adding certificate verification is strongly advised. See: https://urllib3.readthedocs.io/en/latest/advanced-usage.html#ssl-warnings\n",
      "  InsecureRequestWarning,\n"
     ]
    },
    {
     "name": "stdout",
     "output_type": "stream",
     "text": [
      "\tProduct found!\n",
      "\tChecking UPC:  607885864415\n"
     ]
    },
    {
     "name": "stderr",
     "output_type": "stream",
     "text": [
      "D:\\Software\\anaconda3\\lib\\site-packages\\urllib3\\connectionpool.py:988: InsecureRequestWarning: Unverified HTTPS request is being made to host 'www.upcitemdb.com'. Adding certificate verification is strongly advised. See: https://urllib3.readthedocs.io/en/latest/advanced-usage.html#ssl-warnings\n",
      "  InsecureRequestWarning,\n"
     ]
    },
    {
     "name": "stdout",
     "output_type": "stream",
     "text": [
      "\tnot relevant\n",
      "\tUpdated:  NaN\n",
      "\tUpdated:  NaN\n",
      "Searching product:  Halyard Health 33600  on UPC_Item_DB\n"
     ]
    },
    {
     "name": "stderr",
     "output_type": "stream",
     "text": [
      "D:\\Software\\anaconda3\\lib\\site-packages\\urllib3\\connectionpool.py:988: InsecureRequestWarning: Unverified HTTPS request is being made to host 'www.upcitemdb.com'. Adding certificate verification is strongly advised. See: https://urllib3.readthedocs.io/en/latest/advanced-usage.html#ssl-warnings\n",
      "  InsecureRequestWarning,\n"
     ]
    },
    {
     "name": "stdout",
     "output_type": "stream",
     "text": [
      "\tProduct found!\n",
      "\tChecking UPC:  713145686830\n"
     ]
    },
    {
     "name": "stderr",
     "output_type": "stream",
     "text": [
      "D:\\Software\\anaconda3\\lib\\site-packages\\urllib3\\connectionpool.py:988: InsecureRequestWarning: Unverified HTTPS request is being made to host 'www.upcitemdb.com'. Adding certificate verification is strongly advised. See: https://urllib3.readthedocs.io/en/latest/advanced-usage.html#ssl-warnings\n",
      "  InsecureRequestWarning,\n"
     ]
    },
    {
     "name": "stdout",
     "output_type": "stream",
     "text": [
      "\tnot relevant\n",
      "\tUpdated:  NaN\n",
      "\tUpdated:  NaN\n",
      "Searching product:  Halyard Health 33201  on UPC_Item_DB\n"
     ]
    },
    {
     "name": "stderr",
     "output_type": "stream",
     "text": [
      "D:\\Software\\anaconda3\\lib\\site-packages\\urllib3\\connectionpool.py:988: InsecureRequestWarning: Unverified HTTPS request is being made to host 'www.upcitemdb.com'. Adding certificate verification is strongly advised. See: https://urllib3.readthedocs.io/en/latest/advanced-usage.html#ssl-warnings\n",
      "  InsecureRequestWarning,\n"
     ]
    },
    {
     "name": "stdout",
     "output_type": "stream",
     "text": [
      "\tProduct found!\n",
      "\tChecking UPC:  607885864378\n"
     ]
    },
    {
     "name": "stderr",
     "output_type": "stream",
     "text": [
      "D:\\Software\\anaconda3\\lib\\site-packages\\urllib3\\connectionpool.py:988: InsecureRequestWarning: Unverified HTTPS request is being made to host 'www.upcitemdb.com'. Adding certificate verification is strongly advised. See: https://urllib3.readthedocs.io/en/latest/advanced-usage.html#ssl-warnings\n",
      "  InsecureRequestWarning,\n"
     ]
    },
    {
     "name": "stdout",
     "output_type": "stream",
     "text": [
      "\tnot relevant\n",
      "\tUpdated:  NaN\n",
      "\tUpdated:  NaN\n",
      "Searching product:  Halyard Health 33725  on UPC_Item_DB\n"
     ]
    },
    {
     "name": "stderr",
     "output_type": "stream",
     "text": [
      "D:\\Software\\anaconda3\\lib\\site-packages\\urllib3\\connectionpool.py:988: InsecureRequestWarning: Unverified HTTPS request is being made to host 'www.upcitemdb.com'. Adding certificate verification is strongly advised. See: https://urllib3.readthedocs.io/en/latest/advanced-usage.html#ssl-warnings\n",
      "  InsecureRequestWarning,\n"
     ]
    },
    {
     "name": "stdout",
     "output_type": "stream",
     "text": [
      "\tProduct found!\n",
      "\tChecking UPC:  607885864392\n"
     ]
    },
    {
     "name": "stderr",
     "output_type": "stream",
     "text": [
      "D:\\Software\\anaconda3\\lib\\site-packages\\urllib3\\connectionpool.py:988: InsecureRequestWarning: Unverified HTTPS request is being made to host 'www.upcitemdb.com'. Adding certificate verification is strongly advised. See: https://urllib3.readthedocs.io/en/latest/advanced-usage.html#ssl-warnings\n",
      "  InsecureRequestWarning,\n"
     ]
    },
    {
     "name": "stdout",
     "output_type": "stream",
     "text": [
      "\tcase links found:  2\n",
      "\tUpdated:  607885864392\n",
      "\tUpdated:  NaN\n",
      "Searching product:  Halyard Health 33724  on UPC_Item_DB\n"
     ]
    },
    {
     "name": "stderr",
     "output_type": "stream",
     "text": [
      "D:\\Software\\anaconda3\\lib\\site-packages\\urllib3\\connectionpool.py:988: InsecureRequestWarning: Unverified HTTPS request is being made to host 'www.upcitemdb.com'. Adding certificate verification is strongly advised. See: https://urllib3.readthedocs.io/en/latest/advanced-usage.html#ssl-warnings\n",
      "  InsecureRequestWarning,\n"
     ]
    },
    {
     "name": "stdout",
     "output_type": "stream",
     "text": [
      "\tProduct found!\n",
      "\tChecking UPC:  607885864385\n"
     ]
    },
    {
     "name": "stderr",
     "output_type": "stream",
     "text": [
      "D:\\Software\\anaconda3\\lib\\site-packages\\urllib3\\connectionpool.py:988: InsecureRequestWarning: Unverified HTTPS request is being made to host 'www.upcitemdb.com'. Adding certificate verification is strongly advised. See: https://urllib3.readthedocs.io/en/latest/advanced-usage.html#ssl-warnings\n",
      "  InsecureRequestWarning,\n"
     ]
    },
    {
     "name": "stdout",
     "output_type": "stream",
     "text": [
      "\tcase links found:  2\n",
      "\tUpdated:  607885864385\n",
      "\tUpdated:  NaN\n",
      "Searching product:  Halyard Health 33150  on UPC_Item_DB\n"
     ]
    },
    {
     "name": "stderr",
     "output_type": "stream",
     "text": [
      "D:\\Software\\anaconda3\\lib\\site-packages\\urllib3\\connectionpool.py:988: InsecureRequestWarning: Unverified HTTPS request is being made to host 'www.upcitemdb.com'. Adding certificate verification is strongly advised. See: https://urllib3.readthedocs.io/en/latest/advanced-usage.html#ssl-warnings\n",
      "  InsecureRequestWarning,\n"
     ]
    },
    {
     "name": "stdout",
     "output_type": "stream",
     "text": [
      "\tProduct found!\n",
      "\tChecking UPC:  689854780834\n"
     ]
    },
    {
     "name": "stderr",
     "output_type": "stream",
     "text": [
      "D:\\Software\\anaconda3\\lib\\site-packages\\urllib3\\connectionpool.py:988: InsecureRequestWarning: Unverified HTTPS request is being made to host 'www.upcitemdb.com'. Adding certificate verification is strongly advised. See: https://urllib3.readthedocs.io/en/latest/advanced-usage.html#ssl-warnings\n",
      "  InsecureRequestWarning,\n"
     ]
    },
    {
     "name": "stdout",
     "output_type": "stream",
     "text": [
      "\tnot relevant\n",
      "\tChecking UPC:  691195173497\n"
     ]
    },
    {
     "name": "stderr",
     "output_type": "stream",
     "text": [
      "D:\\Software\\anaconda3\\lib\\site-packages\\urllib3\\connectionpool.py:988: InsecureRequestWarning: Unverified HTTPS request is being made to host 'www.upcitemdb.com'. Adding certificate verification is strongly advised. See: https://urllib3.readthedocs.io/en/latest/advanced-usage.html#ssl-warnings\n",
      "  InsecureRequestWarning,\n"
     ]
    },
    {
     "name": "stdout",
     "output_type": "stream",
     "text": [
      "\tnot relevant\n",
      "\tChecking UPC:  713145687301\n"
     ]
    },
    {
     "name": "stderr",
     "output_type": "stream",
     "text": [
      "D:\\Software\\anaconda3\\lib\\site-packages\\urllib3\\connectionpool.py:988: InsecureRequestWarning: Unverified HTTPS request is being made to host 'www.upcitemdb.com'. Adding certificate verification is strongly advised. See: https://urllib3.readthedocs.io/en/latest/advanced-usage.html#ssl-warnings\n",
      "  InsecureRequestWarning,\n"
     ]
    },
    {
     "name": "stdout",
     "output_type": "stream",
     "text": [
      "\tcase links found:  2\n",
      "\tUpdated:  713145687301\n",
      "\tUpdated:  NaN\n",
      "Searching product:  Halyard Health 29920  on UPC_Item_DB\n"
     ]
    },
    {
     "name": "stderr",
     "output_type": "stream",
     "text": [
      "D:\\Software\\anaconda3\\lib\\site-packages\\urllib3\\connectionpool.py:988: InsecureRequestWarning: Unverified HTTPS request is being made to host 'www.upcitemdb.com'. Adding certificate verification is strongly advised. See: https://urllib3.readthedocs.io/en/latest/advanced-usage.html#ssl-warnings\n",
      "  InsecureRequestWarning,\n"
     ]
    },
    {
     "name": "stdout",
     "output_type": "stream",
     "text": [
      "\tNo UPCs found on UPC_Item_DB.\n",
      "\tUpdated:  NaN\n",
      "\tUpdated:  NaN\n",
      "Searching product:  Halyard Health 29985  on UPC_Item_DB\n"
     ]
    },
    {
     "name": "stderr",
     "output_type": "stream",
     "text": [
      "D:\\Software\\anaconda3\\lib\\site-packages\\urllib3\\connectionpool.py:988: InsecureRequestWarning: Unverified HTTPS request is being made to host 'www.upcitemdb.com'. Adding certificate verification is strongly advised. See: https://urllib3.readthedocs.io/en/latest/advanced-usage.html#ssl-warnings\n",
      "  InsecureRequestWarning,\n"
     ]
    },
    {
     "name": "stdout",
     "output_type": "stream",
     "text": [
      "\tNo UPCs found on UPC_Item_DB.\n",
      "\tUpdated:  NaN\n",
      "\tUpdated:  NaN\n",
      "Searching product:  Halyard Health 29980  on UPC_Item_DB\n"
     ]
    },
    {
     "name": "stderr",
     "output_type": "stream",
     "text": [
      "D:\\Software\\anaconda3\\lib\\site-packages\\urllib3\\connectionpool.py:988: InsecureRequestWarning: Unverified HTTPS request is being made to host 'www.upcitemdb.com'. Adding certificate verification is strongly advised. See: https://urllib3.readthedocs.io/en/latest/advanced-usage.html#ssl-warnings\n",
      "  InsecureRequestWarning,\n"
     ]
    },
    {
     "name": "stdout",
     "output_type": "stream",
     "text": [
      "\tNo UPCs found on UPC_Item_DB.\n",
      "\tUpdated:  NaN\n",
      "\tUpdated:  NaN\n",
      "Searching product:  Halyard Health 29990  on UPC_Item_DB\n"
     ]
    },
    {
     "name": "stderr",
     "output_type": "stream",
     "text": [
      "D:\\Software\\anaconda3\\lib\\site-packages\\urllib3\\connectionpool.py:988: InsecureRequestWarning: Unverified HTTPS request is being made to host 'www.upcitemdb.com'. Adding certificate verification is strongly advised. See: https://urllib3.readthedocs.io/en/latest/advanced-usage.html#ssl-warnings\n",
      "  InsecureRequestWarning,\n"
     ]
    },
    {
     "name": "stdout",
     "output_type": "stream",
     "text": [
      "\tNo UPCs found on UPC_Item_DB.\n",
      "\tUpdated:  NaN\n",
      "\tUpdated:  NaN\n",
      "Searching product:  Halyard Health 29900  on UPC_Item_DB\n"
     ]
    },
    {
     "name": "stderr",
     "output_type": "stream",
     "text": [
      "D:\\Software\\anaconda3\\lib\\site-packages\\urllib3\\connectionpool.py:988: InsecureRequestWarning: Unverified HTTPS request is being made to host 'www.upcitemdb.com'. Adding certificate verification is strongly advised. See: https://urllib3.readthedocs.io/en/latest/advanced-usage.html#ssl-warnings\n",
      "  InsecureRequestWarning,\n"
     ]
    },
    {
     "name": "stdout",
     "output_type": "stream",
     "text": [
      "\tNo UPCs found on UPC_Item_DB.\n",
      "\tUpdated:  NaN\n",
      "\tUpdated:  NaN\n",
      "Searching product:  Halyard Health 29970  on UPC_Item_DB\n"
     ]
    },
    {
     "name": "stderr",
     "output_type": "stream",
     "text": [
      "D:\\Software\\anaconda3\\lib\\site-packages\\urllib3\\connectionpool.py:988: InsecureRequestWarning: Unverified HTTPS request is being made to host 'www.upcitemdb.com'. Adding certificate verification is strongly advised. See: https://urllib3.readthedocs.io/en/latest/advanced-usage.html#ssl-warnings\n",
      "  InsecureRequestWarning,\n"
     ]
    },
    {
     "name": "stdout",
     "output_type": "stream",
     "text": [
      "\tNo UPCs found on UPC_Item_DB.\n",
      "\tUpdated:  NaN\n",
      "\tUpdated:  NaN\n",
      "Searching product:  Halyard Health 29965  on UPC_Item_DB\n"
     ]
    },
    {
     "name": "stderr",
     "output_type": "stream",
     "text": [
      "D:\\Software\\anaconda3\\lib\\site-packages\\urllib3\\connectionpool.py:988: InsecureRequestWarning: Unverified HTTPS request is being made to host 'www.upcitemdb.com'. Adding certificate verification is strongly advised. See: https://urllib3.readthedocs.io/en/latest/advanced-usage.html#ssl-warnings\n",
      "  InsecureRequestWarning,\n"
     ]
    },
    {
     "name": "stdout",
     "output_type": "stream",
     "text": [
      "\tNo UPCs found on UPC_Item_DB.\n",
      "\tUpdated:  NaN\n",
      "\tUpdated:  NaN\n",
      "Searching product:  Halyard Health 29967  on UPC_Item_DB\n"
     ]
    },
    {
     "name": "stderr",
     "output_type": "stream",
     "text": [
      "D:\\Software\\anaconda3\\lib\\site-packages\\urllib3\\connectionpool.py:988: InsecureRequestWarning: Unverified HTTPS request is being made to host 'www.upcitemdb.com'. Adding certificate verification is strongly advised. See: https://urllib3.readthedocs.io/en/latest/advanced-usage.html#ssl-warnings\n",
      "  InsecureRequestWarning,\n"
     ]
    },
    {
     "name": "stdout",
     "output_type": "stream",
     "text": [
      "\tProduct found!\n",
      "\tChecking UPC:  713145686854\n"
     ]
    },
    {
     "name": "stderr",
     "output_type": "stream",
     "text": [
      "D:\\Software\\anaconda3\\lib\\site-packages\\urllib3\\connectionpool.py:988: InsecureRequestWarning: Unverified HTTPS request is being made to host 'www.upcitemdb.com'. Adding certificate verification is strongly advised. See: https://urllib3.readthedocs.io/en/latest/advanced-usage.html#ssl-warnings\n",
      "  InsecureRequestWarning,\n"
     ]
    },
    {
     "name": "stdout",
     "output_type": "stream",
     "text": [
      "\tnot relevant\n",
      "\tUpdated:  NaN\n",
      "\tUpdated:  NaN\n",
      "Searching product:  Halyard Health 10594  on UPC_Item_DB\n"
     ]
    },
    {
     "name": "stderr",
     "output_type": "stream",
     "text": [
      "D:\\Software\\anaconda3\\lib\\site-packages\\urllib3\\connectionpool.py:988: InsecureRequestWarning: Unverified HTTPS request is being made to host 'www.upcitemdb.com'. Adding certificate verification is strongly advised. See: https://urllib3.readthedocs.io/en/latest/advanced-usage.html#ssl-warnings\n",
      "  InsecureRequestWarning,\n"
     ]
    },
    {
     "name": "stdout",
     "output_type": "stream",
     "text": [
      "\tNo UPCs found on UPC_Item_DB.\n",
      "\tUpdated:  NaN\n",
      "\tUpdated:  NaN\n",
      "Searching product:  Halyard Health 37250  on UPC_Item_DB\n"
     ]
    },
    {
     "name": "stderr",
     "output_type": "stream",
     "text": [
      "D:\\Software\\anaconda3\\lib\\site-packages\\urllib3\\connectionpool.py:988: InsecureRequestWarning: Unverified HTTPS request is being made to host 'www.upcitemdb.com'. Adding certificate verification is strongly advised. See: https://urllib3.readthedocs.io/en/latest/advanced-usage.html#ssl-warnings\n",
      "  InsecureRequestWarning,\n"
     ]
    },
    {
     "name": "stdout",
     "output_type": "stream",
     "text": [
      "\tNo UPCs found on UPC_Item_DB.\n",
      "\tUpdated:  NaN\n",
      "\tUpdated:  NaN\n",
      "Searching product:  Halyard Health 37221  on UPC_Item_DB\n"
     ]
    },
    {
     "name": "stderr",
     "output_type": "stream",
     "text": [
      "D:\\Software\\anaconda3\\lib\\site-packages\\urllib3\\connectionpool.py:988: InsecureRequestWarning: Unverified HTTPS request is being made to host 'www.upcitemdb.com'. Adding certificate verification is strongly advised. See: https://urllib3.readthedocs.io/en/latest/advanced-usage.html#ssl-warnings\n",
      "  InsecureRequestWarning,\n"
     ]
    },
    {
     "name": "stdout",
     "output_type": "stream",
     "text": [
      "\tNo UPCs found on UPC_Item_DB.\n",
      "\tUpdated:  NaN\n",
      "\tUpdated:  NaN\n",
      "Searching product:  Halyard Health 10595  on UPC_Item_DB\n"
     ]
    },
    {
     "name": "stderr",
     "output_type": "stream",
     "text": [
      "D:\\Software\\anaconda3\\lib\\site-packages\\urllib3\\connectionpool.py:988: InsecureRequestWarning: Unverified HTTPS request is being made to host 'www.upcitemdb.com'. Adding certificate verification is strongly advised. See: https://urllib3.readthedocs.io/en/latest/advanced-usage.html#ssl-warnings\n",
      "  InsecureRequestWarning,\n"
     ]
    },
    {
     "name": "stdout",
     "output_type": "stream",
     "text": [
      "\tNo UPCs found on UPC_Item_DB.\n",
      "\tUpdated:  NaN\n",
      "\tUpdated:  NaN\n",
      "Searching product:  Halyard Health 62110  on UPC_Item_DB\n"
     ]
    },
    {
     "name": "stderr",
     "output_type": "stream",
     "text": [
      "D:\\Software\\anaconda3\\lib\\site-packages\\urllib3\\connectionpool.py:988: InsecureRequestWarning: Unverified HTTPS request is being made to host 'www.upcitemdb.com'. Adding certificate verification is strongly advised. See: https://urllib3.readthedocs.io/en/latest/advanced-usage.html#ssl-warnings\n",
      "  InsecureRequestWarning,\n"
     ]
    },
    {
     "name": "stdout",
     "output_type": "stream",
     "text": [
      "\tNo UPCs found on UPC_Item_DB.\n",
      "\tUpdated:  NaN\n",
      "\tUpdated:  NaN\n",
      "Searching product:  Halyard Health 37500  on UPC_Item_DB\n"
     ]
    },
    {
     "name": "stderr",
     "output_type": "stream",
     "text": [
      "D:\\Software\\anaconda3\\lib\\site-packages\\urllib3\\connectionpool.py:988: InsecureRequestWarning: Unverified HTTPS request is being made to host 'www.upcitemdb.com'. Adding certificate verification is strongly advised. See: https://urllib3.readthedocs.io/en/latest/advanced-usage.html#ssl-warnings\n",
      "  InsecureRequestWarning,\n"
     ]
    },
    {
     "name": "stdout",
     "output_type": "stream",
     "text": [
      "\tNo UPCs found on UPC_Item_DB.\n",
      "\tUpdated:  NaN\n",
      "\tUpdated:  NaN\n",
      "Searching product:  Halyard Health 67793  on UPC_Item_DB\n"
     ]
    },
    {
     "name": "stderr",
     "output_type": "stream",
     "text": [
      "D:\\Software\\anaconda3\\lib\\site-packages\\urllib3\\connectionpool.py:988: InsecureRequestWarning: Unverified HTTPS request is being made to host 'www.upcitemdb.com'. Adding certificate verification is strongly advised. See: https://urllib3.readthedocs.io/en/latest/advanced-usage.html#ssl-warnings\n",
      "  InsecureRequestWarning,\n"
     ]
    },
    {
     "name": "stdout",
     "output_type": "stream",
     "text": [
      "\tNo UPCs found on UPC_Item_DB.\n",
      "\tUpdated:  NaN\n",
      "\tUpdated:  NaN\n",
      "Searching product:  Halyard Health 67963  on UPC_Item_DB\n"
     ]
    },
    {
     "name": "stderr",
     "output_type": "stream",
     "text": [
      "D:\\Software\\anaconda3\\lib\\site-packages\\urllib3\\connectionpool.py:988: InsecureRequestWarning: Unverified HTTPS request is being made to host 'www.upcitemdb.com'. Adding certificate verification is strongly advised. See: https://urllib3.readthedocs.io/en/latest/advanced-usage.html#ssl-warnings\n",
      "  InsecureRequestWarning,\n"
     ]
    },
    {
     "name": "stdout",
     "output_type": "stream",
     "text": [
      "\tNo UPCs found on UPC_Item_DB.\n",
      "\tUpdated:  NaN\n",
      "\tUpdated:  NaN\n",
      "Searching product:  Halyard Health 67773  on UPC_Item_DB\n"
     ]
    },
    {
     "name": "stderr",
     "output_type": "stream",
     "text": [
      "D:\\Software\\anaconda3\\lib\\site-packages\\urllib3\\connectionpool.py:988: InsecureRequestWarning: Unverified HTTPS request is being made to host 'www.upcitemdb.com'. Adding certificate verification is strongly advised. See: https://urllib3.readthedocs.io/en/latest/advanced-usage.html#ssl-warnings\n",
      "  InsecureRequestWarning,\n"
     ]
    },
    {
     "name": "stdout",
     "output_type": "stream",
     "text": [
      "\tNo UPCs found on UPC_Item_DB.\n",
      "\tUpdated:  NaN\n",
      "\tUpdated:  NaN\n",
      "Searching product:  Halyard Health 67803  on UPC_Item_DB\n"
     ]
    },
    {
     "name": "stderr",
     "output_type": "stream",
     "text": [
      "D:\\Software\\anaconda3\\lib\\site-packages\\urllib3\\connectionpool.py:988: InsecureRequestWarning: Unverified HTTPS request is being made to host 'www.upcitemdb.com'. Adding certificate verification is strongly advised. See: https://urllib3.readthedocs.io/en/latest/advanced-usage.html#ssl-warnings\n",
      "  InsecureRequestWarning,\n"
     ]
    },
    {
     "name": "stdout",
     "output_type": "stream",
     "text": [
      "\tNo UPCs found on UPC_Item_DB.\n",
      "\tUpdated:  NaN\n",
      "\tUpdated:  NaN\n",
      "Searching product:  Halyard Health 67103  on UPC_Item_DB\n"
     ]
    },
    {
     "name": "stderr",
     "output_type": "stream",
     "text": [
      "D:\\Software\\anaconda3\\lib\\site-packages\\urllib3\\connectionpool.py:988: InsecureRequestWarning: Unverified HTTPS request is being made to host 'www.upcitemdb.com'. Adding certificate verification is strongly advised. See: https://urllib3.readthedocs.io/en/latest/advanced-usage.html#ssl-warnings\n",
      "  InsecureRequestWarning,\n"
     ]
    },
    {
     "name": "stdout",
     "output_type": "stream",
     "text": [
      "\tNo UPCs found on UPC_Item_DB.\n",
      "\tUpdated:  NaN\n",
      "\tUpdated:  NaN\n",
      "Searching product:  Halyard Health 67783  on UPC_Item_DB\n"
     ]
    },
    {
     "name": "stderr",
     "output_type": "stream",
     "text": [
      "D:\\Software\\anaconda3\\lib\\site-packages\\urllib3\\connectionpool.py:988: InsecureRequestWarning: Unverified HTTPS request is being made to host 'www.upcitemdb.com'. Adding certificate verification is strongly advised. See: https://urllib3.readthedocs.io/en/latest/advanced-usage.html#ssl-warnings\n",
      "  InsecureRequestWarning,\n"
     ]
    },
    {
     "name": "stdout",
     "output_type": "stream",
     "text": [
      "\tNo UPCs found on UPC_Item_DB.\n",
      "\tUpdated:  NaN\n",
      "\tUpdated:  NaN\n",
      "Searching product:  Halyard Health 71825  on UPC_Item_DB\n"
     ]
    },
    {
     "name": "stderr",
     "output_type": "stream",
     "text": [
      "D:\\Software\\anaconda3\\lib\\site-packages\\urllib3\\connectionpool.py:988: InsecureRequestWarning: Unverified HTTPS request is being made to host 'www.upcitemdb.com'. Adding certificate verification is strongly advised. See: https://urllib3.readthedocs.io/en/latest/advanced-usage.html#ssl-warnings\n",
      "  InsecureRequestWarning,\n"
     ]
    },
    {
     "name": "stdout",
     "output_type": "stream",
     "text": [
      "\tNo UPCs found on UPC_Item_DB.\n",
      "\tUpdated:  NaN\n",
      "\tUpdated:  NaN\n",
      "Searching product:  Halyard Health 71900  on UPC_Item_DB\n"
     ]
    },
    {
     "name": "stderr",
     "output_type": "stream",
     "text": [
      "D:\\Software\\anaconda3\\lib\\site-packages\\urllib3\\connectionpool.py:988: InsecureRequestWarning: Unverified HTTPS request is being made to host 'www.upcitemdb.com'. Adding certificate verification is strongly advised. See: https://urllib3.readthedocs.io/en/latest/advanced-usage.html#ssl-warnings\n",
      "  InsecureRequestWarning,\n"
     ]
    },
    {
     "name": "stdout",
     "output_type": "stream",
     "text": [
      "\tNo UPCs found on UPC_Item_DB.\n",
      "\tUpdated:  NaN\n",
      "\tUpdated:  NaN\n",
      "Searching product:  Halyard Health 71800  on UPC_Item_DB\n"
     ]
    },
    {
     "name": "stderr",
     "output_type": "stream",
     "text": [
      "D:\\Software\\anaconda3\\lib\\site-packages\\urllib3\\connectionpool.py:988: InsecureRequestWarning: Unverified HTTPS request is being made to host 'www.upcitemdb.com'. Adding certificate verification is strongly advised. See: https://urllib3.readthedocs.io/en/latest/advanced-usage.html#ssl-warnings\n",
      "  InsecureRequestWarning,\n"
     ]
    },
    {
     "name": "stdout",
     "output_type": "stream",
     "text": [
      "\tNo UPCs found on UPC_Item_DB.\n",
      "\tUpdated:  NaN\n",
      "\tUpdated:  NaN\n",
      "Searching product:  Halyard Health 41802  on UPC_Item_DB\n"
     ]
    },
    {
     "name": "stderr",
     "output_type": "stream",
     "text": [
      "D:\\Software\\anaconda3\\lib\\site-packages\\urllib3\\connectionpool.py:988: InsecureRequestWarning: Unverified HTTPS request is being made to host 'www.upcitemdb.com'. Adding certificate verification is strongly advised. See: https://urllib3.readthedocs.io/en/latest/advanced-usage.html#ssl-warnings\n",
      "  InsecureRequestWarning,\n"
     ]
    },
    {
     "name": "stdout",
     "output_type": "stream",
     "text": [
      "\tProduct found!\n",
      "\tChecking UPC:  713049532776\n"
     ]
    },
    {
     "name": "stderr",
     "output_type": "stream",
     "text": [
      "D:\\Software\\anaconda3\\lib\\site-packages\\urllib3\\connectionpool.py:988: InsecureRequestWarning: Unverified HTTPS request is being made to host 'www.upcitemdb.com'. Adding certificate verification is strongly advised. See: https://urllib3.readthedocs.io/en/latest/advanced-usage.html#ssl-warnings\n",
      "  InsecureRequestWarning,\n"
     ]
    },
    {
     "name": "stdout",
     "output_type": "stream",
     "text": [
      "\tcase links found:  2\n",
      "\tUpdated:  713049532776\n",
      "\tUpdated:  NaN\n",
      "Searching product:  Halyard Health 47570  on UPC_Item_DB\n"
     ]
    },
    {
     "name": "stderr",
     "output_type": "stream",
     "text": [
      "D:\\Software\\anaconda3\\lib\\site-packages\\urllib3\\connectionpool.py:988: InsecureRequestWarning: Unverified HTTPS request is being made to host 'www.upcitemdb.com'. Adding certificate verification is strongly advised. See: https://urllib3.readthedocs.io/en/latest/advanced-usage.html#ssl-warnings\n",
      "  InsecureRequestWarning,\n"
     ]
    },
    {
     "name": "stdout",
     "output_type": "stream",
     "text": [
      "\tNo UPCs found on UPC_Item_DB.\n",
      "\tUpdated:  NaN\n",
      "\tUpdated:  NaN\n",
      "Searching product:  Halyard Health 47569  on UPC_Item_DB\n"
     ]
    },
    {
     "name": "stderr",
     "output_type": "stream",
     "text": [
      "D:\\Software\\anaconda3\\lib\\site-packages\\urllib3\\connectionpool.py:988: InsecureRequestWarning: Unverified HTTPS request is being made to host 'www.upcitemdb.com'. Adding certificate verification is strongly advised. See: https://urllib3.readthedocs.io/en/latest/advanced-usage.html#ssl-warnings\n",
      "  InsecureRequestWarning,\n"
     ]
    },
    {
     "name": "stdout",
     "output_type": "stream",
     "text": [
      "\tNo UPCs found on UPC_Item_DB.\n",
      "\tUpdated:  NaN\n",
      "\tUpdated:  NaN\n",
      "Searching product:  Halyard Health 47571  on UPC_Item_DB\n"
     ]
    },
    {
     "name": "stderr",
     "output_type": "stream",
     "text": [
      "D:\\Software\\anaconda3\\lib\\site-packages\\urllib3\\connectionpool.py:988: InsecureRequestWarning: Unverified HTTPS request is being made to host 'www.upcitemdb.com'. Adding certificate verification is strongly advised. See: https://urllib3.readthedocs.io/en/latest/advanced-usage.html#ssl-warnings\n",
      "  InsecureRequestWarning,\n"
     ]
    },
    {
     "name": "stdout",
     "output_type": "stream",
     "text": [
      "\tNo UPCs found on UPC_Item_DB.\n",
      "\tUpdated:  NaN\n",
      "\tUpdated:  NaN\n",
      "Searching product:  Halyard Health 47573  on UPC_Item_DB\n"
     ]
    },
    {
     "name": "stderr",
     "output_type": "stream",
     "text": [
      "D:\\Software\\anaconda3\\lib\\site-packages\\urllib3\\connectionpool.py:988: InsecureRequestWarning: Unverified HTTPS request is being made to host 'www.upcitemdb.com'. Adding certificate verification is strongly advised. See: https://urllib3.readthedocs.io/en/latest/advanced-usage.html#ssl-warnings\n",
      "  InsecureRequestWarning,\n"
     ]
    },
    {
     "name": "stdout",
     "output_type": "stream",
     "text": [
      "\tNo UPCs found on UPC_Item_DB.\n",
      "\tUpdated:  NaN\n",
      "\tUpdated:  NaN\n",
      "Searching product:  Halyard Health 47576  on UPC_Item_DB\n"
     ]
    },
    {
     "name": "stderr",
     "output_type": "stream",
     "text": [
      "D:\\Software\\anaconda3\\lib\\site-packages\\urllib3\\connectionpool.py:988: InsecureRequestWarning: Unverified HTTPS request is being made to host 'www.upcitemdb.com'. Adding certificate verification is strongly advised. See: https://urllib3.readthedocs.io/en/latest/advanced-usage.html#ssl-warnings\n",
      "  InsecureRequestWarning,\n"
     ]
    },
    {
     "name": "stdout",
     "output_type": "stream",
     "text": [
      "\tNo UPCs found on UPC_Item_DB.\n",
      "\tUpdated:  NaN\n",
      "\tUpdated:  NaN\n",
      "Searching product:  Halyard Health 47577  on UPC_Item_DB\n"
     ]
    },
    {
     "name": "stderr",
     "output_type": "stream",
     "text": [
      "D:\\Software\\anaconda3\\lib\\site-packages\\urllib3\\connectionpool.py:988: InsecureRequestWarning: Unverified HTTPS request is being made to host 'www.upcitemdb.com'. Adding certificate verification is strongly advised. See: https://urllib3.readthedocs.io/en/latest/advanced-usage.html#ssl-warnings\n",
      "  InsecureRequestWarning,\n"
     ]
    },
    {
     "name": "stdout",
     "output_type": "stream",
     "text": [
      "\tNo UPCs found on UPC_Item_DB.\n",
      "\tUpdated:  NaN\n",
      "\tUpdated:  NaN\n",
      "Searching product:  Halyard Health 47574  on UPC_Item_DB\n"
     ]
    },
    {
     "name": "stderr",
     "output_type": "stream",
     "text": [
      "D:\\Software\\anaconda3\\lib\\site-packages\\urllib3\\connectionpool.py:988: InsecureRequestWarning: Unverified HTTPS request is being made to host 'www.upcitemdb.com'. Adding certificate verification is strongly advised. See: https://urllib3.readthedocs.io/en/latest/advanced-usage.html#ssl-warnings\n",
      "  InsecureRequestWarning,\n"
     ]
    },
    {
     "name": "stdout",
     "output_type": "stream",
     "text": [
      "\tNo UPCs found on UPC_Item_DB.\n",
      "\tUpdated:  NaN\n",
      "\tUpdated:  NaN\n",
      "Searching product:  Halyard Health 47575  on UPC_Item_DB\n"
     ]
    },
    {
     "name": "stderr",
     "output_type": "stream",
     "text": [
      "D:\\Software\\anaconda3\\lib\\site-packages\\urllib3\\connectionpool.py:988: InsecureRequestWarning: Unverified HTTPS request is being made to host 'www.upcitemdb.com'. Adding certificate verification is strongly advised. See: https://urllib3.readthedocs.io/en/latest/advanced-usage.html#ssl-warnings\n",
      "  InsecureRequestWarning,\n"
     ]
    },
    {
     "name": "stdout",
     "output_type": "stream",
     "text": [
      "\tNo UPCs found on UPC_Item_DB.\n",
      "\tUpdated:  NaN\n",
      "\tUpdated:  NaN\n",
      "Searching product:  Halyard Health 47572  on UPC_Item_DB\n"
     ]
    },
    {
     "name": "stderr",
     "output_type": "stream",
     "text": [
      "D:\\Software\\anaconda3\\lib\\site-packages\\urllib3\\connectionpool.py:988: InsecureRequestWarning: Unverified HTTPS request is being made to host 'www.upcitemdb.com'. Adding certificate verification is strongly advised. See: https://urllib3.readthedocs.io/en/latest/advanced-usage.html#ssl-warnings\n",
      "  InsecureRequestWarning,\n"
     ]
    },
    {
     "name": "stdout",
     "output_type": "stream",
     "text": [
      "\tNo UPCs found on UPC_Item_DB.\n",
      "\tUpdated:  NaN\n",
      "\tUpdated:  NaN\n",
      "Searching product:  Halyard Health 47578  on UPC_Item_DB\n"
     ]
    },
    {
     "name": "stderr",
     "output_type": "stream",
     "text": [
      "D:\\Software\\anaconda3\\lib\\site-packages\\urllib3\\connectionpool.py:988: InsecureRequestWarning: Unverified HTTPS request is being made to host 'www.upcitemdb.com'. Adding certificate verification is strongly advised. See: https://urllib3.readthedocs.io/en/latest/advanced-usage.html#ssl-warnings\n",
      "  InsecureRequestWarning,\n"
     ]
    },
    {
     "name": "stdout",
     "output_type": "stream",
     "text": [
      "\tNo UPCs found on UPC_Item_DB.\n",
      "\tUpdated:  NaN\n",
      "\tUpdated:  NaN\n",
      "Searching product:  Halyard Health 47566  on UPC_Item_DB\n"
     ]
    },
    {
     "name": "stderr",
     "output_type": "stream",
     "text": [
      "D:\\Software\\anaconda3\\lib\\site-packages\\urllib3\\connectionpool.py:988: InsecureRequestWarning: Unverified HTTPS request is being made to host 'www.upcitemdb.com'. Adding certificate verification is strongly advised. See: https://urllib3.readthedocs.io/en/latest/advanced-usage.html#ssl-warnings\n",
      "  InsecureRequestWarning,\n"
     ]
    },
    {
     "name": "stdout",
     "output_type": "stream",
     "text": [
      "\tNo UPCs found on UPC_Item_DB.\n",
      "\tUpdated:  NaN\n",
      "\tUpdated:  NaN\n",
      "Searching product:  Halyard Health 47567  on UPC_Item_DB\n"
     ]
    },
    {
     "name": "stderr",
     "output_type": "stream",
     "text": [
      "D:\\Software\\anaconda3\\lib\\site-packages\\urllib3\\connectionpool.py:988: InsecureRequestWarning: Unverified HTTPS request is being made to host 'www.upcitemdb.com'. Adding certificate verification is strongly advised. See: https://urllib3.readthedocs.io/en/latest/advanced-usage.html#ssl-warnings\n",
      "  InsecureRequestWarning,\n"
     ]
    },
    {
     "name": "stdout",
     "output_type": "stream",
     "text": [
      "\tNo UPCs found on UPC_Item_DB.\n",
      "\tUpdated:  NaN\n",
      "\tUpdated:  NaN\n",
      "Searching product:  Halyard Health 47568  on UPC_Item_DB\n"
     ]
    },
    {
     "name": "stderr",
     "output_type": "stream",
     "text": [
      "D:\\Software\\anaconda3\\lib\\site-packages\\urllib3\\connectionpool.py:988: InsecureRequestWarning: Unverified HTTPS request is being made to host 'www.upcitemdb.com'. Adding certificate verification is strongly advised. See: https://urllib3.readthedocs.io/en/latest/advanced-usage.html#ssl-warnings\n",
      "  InsecureRequestWarning,\n"
     ]
    },
    {
     "name": "stdout",
     "output_type": "stream",
     "text": [
      "\tNo UPCs found on UPC_Item_DB.\n",
      "\tUpdated:  NaN\n",
      "\tUpdated:  NaN\n",
      "Searching product:  Halyard Health 39125  on UPC_Item_DB\n"
     ]
    },
    {
     "name": "stderr",
     "output_type": "stream",
     "text": [
      "D:\\Software\\anaconda3\\lib\\site-packages\\urllib3\\connectionpool.py:988: InsecureRequestWarning: Unverified HTTPS request is being made to host 'www.upcitemdb.com'. Adding certificate verification is strongly advised. See: https://urllib3.readthedocs.io/en/latest/advanced-usage.html#ssl-warnings\n",
      "  InsecureRequestWarning,\n"
     ]
    },
    {
     "name": "stdout",
     "output_type": "stream",
     "text": [
      "\tNo UPCs found on UPC_Item_DB.\n",
      "\tUpdated:  NaN\n",
      "\tUpdated:  NaN\n",
      "Searching product:  Halyard Health 39117  on UPC_Item_DB\n"
     ]
    },
    {
     "name": "stderr",
     "output_type": "stream",
     "text": [
      "D:\\Software\\anaconda3\\lib\\site-packages\\urllib3\\connectionpool.py:988: InsecureRequestWarning: Unverified HTTPS request is being made to host 'www.upcitemdb.com'. Adding certificate verification is strongly advised. See: https://urllib3.readthedocs.io/en/latest/advanced-usage.html#ssl-warnings\n",
      "  InsecureRequestWarning,\n"
     ]
    },
    {
     "name": "stdout",
     "output_type": "stream",
     "text": [
      "\tNo UPCs found on UPC_Item_DB.\n",
      "\tUpdated:  NaN\n",
      "\tUpdated:  NaN\n",
      "Searching product:  Halyard Health 39118  on UPC_Item_DB\n"
     ]
    },
    {
     "name": "stderr",
     "output_type": "stream",
     "text": [
      "D:\\Software\\anaconda3\\lib\\site-packages\\urllib3\\connectionpool.py:988: InsecureRequestWarning: Unverified HTTPS request is being made to host 'www.upcitemdb.com'. Adding certificate verification is strongly advised. See: https://urllib3.readthedocs.io/en/latest/advanced-usage.html#ssl-warnings\n",
      "  InsecureRequestWarning,\n"
     ]
    },
    {
     "name": "stdout",
     "output_type": "stream",
     "text": [
      "\tNo UPCs found on UPC_Item_DB.\n",
      "\tUpdated:  NaN\n",
      "\tUpdated:  NaN\n",
      "Searching product:  Halyard Health 39123  on UPC_Item_DB\n"
     ]
    },
    {
     "name": "stderr",
     "output_type": "stream",
     "text": [
      "D:\\Software\\anaconda3\\lib\\site-packages\\urllib3\\connectionpool.py:988: InsecureRequestWarning: Unverified HTTPS request is being made to host 'www.upcitemdb.com'. Adding certificate verification is strongly advised. See: https://urllib3.readthedocs.io/en/latest/advanced-usage.html#ssl-warnings\n",
      "  InsecureRequestWarning,\n"
     ]
    },
    {
     "name": "stdout",
     "output_type": "stream",
     "text": [
      "\tNo UPCs found on UPC_Item_DB.\n",
      "\tUpdated:  NaN\n",
      "\tUpdated:  NaN\n",
      "Searching product:  Halyard Health 47137  on UPC_Item_DB\n"
     ]
    },
    {
     "name": "stderr",
     "output_type": "stream",
     "text": [
      "D:\\Software\\anaconda3\\lib\\site-packages\\urllib3\\connectionpool.py:988: InsecureRequestWarning: Unverified HTTPS request is being made to host 'www.upcitemdb.com'. Adding certificate verification is strongly advised. See: https://urllib3.readthedocs.io/en/latest/advanced-usage.html#ssl-warnings\n",
      "  InsecureRequestWarning,\n"
     ]
    },
    {
     "name": "stdout",
     "output_type": "stream",
     "text": [
      "\tProduct found!\n",
      "\tChecking UPC:  645015908622\n"
     ]
    },
    {
     "name": "stderr",
     "output_type": "stream",
     "text": [
      "D:\\Software\\anaconda3\\lib\\site-packages\\urllib3\\connectionpool.py:988: InsecureRequestWarning: Unverified HTTPS request is being made to host 'www.upcitemdb.com'. Adding certificate verification is strongly advised. See: https://urllib3.readthedocs.io/en/latest/advanced-usage.html#ssl-warnings\n",
      "  InsecureRequestWarning,\n"
     ]
    },
    {
     "name": "stdout",
     "output_type": "stream",
     "text": [
      "\tnot relevant\n",
      "\tUpdated:  NaN\n",
      "\tUpdated:  NaN\n",
      "Searching product:  Halyard Health 47298  on UPC_Item_DB\n"
     ]
    },
    {
     "name": "stderr",
     "output_type": "stream",
     "text": [
      "D:\\Software\\anaconda3\\lib\\site-packages\\urllib3\\connectionpool.py:988: InsecureRequestWarning: Unverified HTTPS request is being made to host 'www.upcitemdb.com'. Adding certificate verification is strongly advised. See: https://urllib3.readthedocs.io/en/latest/advanced-usage.html#ssl-warnings\n",
      "  InsecureRequestWarning,\n"
     ]
    },
    {
     "name": "stdout",
     "output_type": "stream",
     "text": [
      "\tNo UPCs found on UPC_Item_DB.\n",
      "\tUpdated:  NaN\n",
      "\tUpdated:  NaN\n",
      "Searching product:  Halyard Health 00146  on UPC_Item_DB\n"
     ]
    },
    {
     "name": "stderr",
     "output_type": "stream",
     "text": [
      "D:\\Software\\anaconda3\\lib\\site-packages\\urllib3\\connectionpool.py:988: InsecureRequestWarning: Unverified HTTPS request is being made to host 'www.upcitemdb.com'. Adding certificate verification is strongly advised. See: https://urllib3.readthedocs.io/en/latest/advanced-usage.html#ssl-warnings\n",
      "  InsecureRequestWarning,\n"
     ]
    },
    {
     "name": "stdout",
     "output_type": "stream",
     "text": [
      "\tNo UPCs found on UPC_Item_DB.\n",
      "\tUpdated:  NaN\n",
      "\tUpdated:  NaN\n",
      "Searching product:  Halyard Health 47147  on UPC_Item_DB\n"
     ]
    },
    {
     "name": "stderr",
     "output_type": "stream",
     "text": [
      "D:\\Software\\anaconda3\\lib\\site-packages\\urllib3\\connectionpool.py:988: InsecureRequestWarning: Unverified HTTPS request is being made to host 'www.upcitemdb.com'. Adding certificate verification is strongly advised. See: https://urllib3.readthedocs.io/en/latest/advanced-usage.html#ssl-warnings\n",
      "  InsecureRequestWarning,\n"
     ]
    },
    {
     "name": "stdout",
     "output_type": "stream",
     "text": [
      "\tProduct found!\n",
      "\tChecking UPC:  820170092458\n"
     ]
    },
    {
     "name": "stderr",
     "output_type": "stream",
     "text": [
      "D:\\Software\\anaconda3\\lib\\site-packages\\urllib3\\connectionpool.py:988: InsecureRequestWarning: Unverified HTTPS request is being made to host 'www.upcitemdb.com'. Adding certificate verification is strongly advised. See: https://urllib3.readthedocs.io/en/latest/advanced-usage.html#ssl-warnings\n",
      "  InsecureRequestWarning,\n"
     ]
    },
    {
     "name": "stdout",
     "output_type": "stream",
     "text": [
      "\tnot relevant\n",
      "\tUpdated:  NaN\n",
      "\tUpdated:  NaN\n",
      "Searching product:  Halyard Health 47149  on UPC_Item_DB\n"
     ]
    },
    {
     "name": "stderr",
     "output_type": "stream",
     "text": [
      "D:\\Software\\anaconda3\\lib\\site-packages\\urllib3\\connectionpool.py:988: InsecureRequestWarning: Unverified HTTPS request is being made to host 'www.upcitemdb.com'. Adding certificate verification is strongly advised. See: https://urllib3.readthedocs.io/en/latest/advanced-usage.html#ssl-warnings\n",
      "  InsecureRequestWarning,\n"
     ]
    },
    {
     "name": "stdout",
     "output_type": "stream",
     "text": [
      "\tProduct found!\n",
      "\tChecking UPC:  607885865191\n"
     ]
    },
    {
     "name": "stderr",
     "output_type": "stream",
     "text": [
      "D:\\Software\\anaconda3\\lib\\site-packages\\urllib3\\connectionpool.py:988: InsecureRequestWarning: Unverified HTTPS request is being made to host 'www.upcitemdb.com'. Adding certificate verification is strongly advised. See: https://urllib3.readthedocs.io/en/latest/advanced-usage.html#ssl-warnings\n",
      "  InsecureRequestWarning,\n"
     ]
    },
    {
     "name": "stdout",
     "output_type": "stream",
     "text": [
      "\tnot relevant\n",
      "\tUpdated:  NaN\n",
      "\tUpdated:  NaN\n",
      "Searching product:  Halyard Health 28800  on UPC_Item_DB\n"
     ]
    },
    {
     "name": "stderr",
     "output_type": "stream",
     "text": [
      "D:\\Software\\anaconda3\\lib\\site-packages\\urllib3\\connectionpool.py:988: InsecureRequestWarning: Unverified HTTPS request is being made to host 'www.upcitemdb.com'. Adding certificate verification is strongly advised. See: https://urllib3.readthedocs.io/en/latest/advanced-usage.html#ssl-warnings\n",
      "  InsecureRequestWarning,\n"
     ]
    },
    {
     "name": "stdout",
     "output_type": "stream",
     "text": [
      "\tNo UPCs found on UPC_Item_DB.\n",
      "\tUpdated:  NaN\n",
      "\tUpdated:  NaN\n",
      "Searching product:  Halyard Health 28797  on UPC_Item_DB\n"
     ]
    },
    {
     "name": "stderr",
     "output_type": "stream",
     "text": [
      "D:\\Software\\anaconda3\\lib\\site-packages\\urllib3\\connectionpool.py:988: InsecureRequestWarning: Unverified HTTPS request is being made to host 'www.upcitemdb.com'. Adding certificate verification is strongly advised. See: https://urllib3.readthedocs.io/en/latest/advanced-usage.html#ssl-warnings\n",
      "  InsecureRequestWarning,\n"
     ]
    },
    {
     "name": "stdout",
     "output_type": "stream",
     "text": [
      "\tProduct found!\n",
      "\tChecking UPC:  713049531618\n"
     ]
    },
    {
     "name": "stderr",
     "output_type": "stream",
     "text": [
      "D:\\Software\\anaconda3\\lib\\site-packages\\urllib3\\connectionpool.py:988: InsecureRequestWarning: Unverified HTTPS request is being made to host 'www.upcitemdb.com'. Adding certificate verification is strongly advised. See: https://urllib3.readthedocs.io/en/latest/advanced-usage.html#ssl-warnings\n",
      "  InsecureRequestWarning,\n"
     ]
    },
    {
     "name": "stdout",
     "output_type": "stream",
     "text": [
      "\tcase links found:  1\n",
      "\tUpdated:  713049531618\n",
      "\tUpdated:  NaN\n",
      "Searching product:  Halyard Health 00148  on UPC_Item_DB\n"
     ]
    },
    {
     "name": "stderr",
     "output_type": "stream",
     "text": [
      "D:\\Software\\anaconda3\\lib\\site-packages\\urllib3\\connectionpool.py:988: InsecureRequestWarning: Unverified HTTPS request is being made to host 'www.upcitemdb.com'. Adding certificate verification is strongly advised. See: https://urllib3.readthedocs.io/en/latest/advanced-usage.html#ssl-warnings\n",
      "  InsecureRequestWarning,\n"
     ]
    },
    {
     "name": "stdout",
     "output_type": "stream",
     "text": [
      "\tProduct found!\n",
      "\tChecking UPC:  783956289520\n"
     ]
    },
    {
     "name": "stderr",
     "output_type": "stream",
     "text": [
      "D:\\Software\\anaconda3\\lib\\site-packages\\urllib3\\connectionpool.py:988: InsecureRequestWarning: Unverified HTTPS request is being made to host 'www.upcitemdb.com'. Adding certificate verification is strongly advised. See: https://urllib3.readthedocs.io/en/latest/advanced-usage.html#ssl-warnings\n",
      "  InsecureRequestWarning,\n"
     ]
    },
    {
     "name": "stdout",
     "output_type": "stream",
     "text": [
      "\tnot relevant\n",
      "\tChecking UPC:  8181984048652\n"
     ]
    },
    {
     "name": "stderr",
     "output_type": "stream",
     "text": [
      "D:\\Software\\anaconda3\\lib\\site-packages\\urllib3\\connectionpool.py:988: InsecureRequestWarning: Unverified HTTPS request is being made to host 'www.upcitemdb.com'. Adding certificate verification is strongly advised. See: https://urllib3.readthedocs.io/en/latest/advanced-usage.html#ssl-warnings\n",
      "  InsecureRequestWarning,\n"
     ]
    },
    {
     "name": "stdout",
     "output_type": "stream",
     "text": [
      "\tnot relevant\n",
      "\tUpdated:  NaN\n",
      "\tUpdated:  NaN\n",
      "Searching product:  Halyard Health 47297  on UPC_Item_DB\n"
     ]
    },
    {
     "name": "stderr",
     "output_type": "stream",
     "text": [
      "D:\\Software\\anaconda3\\lib\\site-packages\\urllib3\\connectionpool.py:988: InsecureRequestWarning: Unverified HTTPS request is being made to host 'www.upcitemdb.com'. Adding certificate verification is strongly advised. See: https://urllib3.readthedocs.io/en/latest/advanced-usage.html#ssl-warnings\n",
      "  InsecureRequestWarning,\n"
     ]
    },
    {
     "name": "stdout",
     "output_type": "stream",
     "text": [
      "\tNo UPCs found on UPC_Item_DB.\n",
      "\tUpdated:  NaN\n",
      "\tUpdated:  NaN\n",
      "Searching product:  Halyard Health 47107  on UPC_Item_DB\n"
     ]
    },
    {
     "name": "stderr",
     "output_type": "stream",
     "text": [
      "D:\\Software\\anaconda3\\lib\\site-packages\\urllib3\\connectionpool.py:988: InsecureRequestWarning: Unverified HTTPS request is being made to host 'www.upcitemdb.com'. Adding certificate verification is strongly advised. See: https://urllib3.readthedocs.io/en/latest/advanced-usage.html#ssl-warnings\n",
      "  InsecureRequestWarning,\n"
     ]
    },
    {
     "name": "stdout",
     "output_type": "stream",
     "text": [
      "\tProduct found!\n",
      "\tChecking UPC:  820170059604\n"
     ]
    },
    {
     "name": "stderr",
     "output_type": "stream",
     "text": [
      "D:\\Software\\anaconda3\\lib\\site-packages\\urllib3\\connectionpool.py:988: InsecureRequestWarning: Unverified HTTPS request is being made to host 'www.upcitemdb.com'. Adding certificate verification is strongly advised. See: https://urllib3.readthedocs.io/en/latest/advanced-usage.html#ssl-warnings\n",
      "  InsecureRequestWarning,\n"
     ]
    },
    {
     "name": "stdout",
     "output_type": "stream",
     "text": [
      "\tnot relevant\n",
      "\tChecking UPC:  30680651471070\n"
     ]
    },
    {
     "name": "stderr",
     "output_type": "stream",
     "text": [
      "D:\\Software\\anaconda3\\lib\\site-packages\\urllib3\\connectionpool.py:988: InsecureRequestWarning: Unverified HTTPS request is being made to host 'www.upcitemdb.com'. Adding certificate verification is strongly advised. See: https://urllib3.readthedocs.io/en/latest/advanced-usage.html#ssl-warnings\n",
      "  InsecureRequestWarning,\n"
     ]
    },
    {
     "name": "stdout",
     "output_type": "stream",
     "text": [
      "\tnot relevant\n",
      "\tUpdated:  NaN\n",
      "\tUpdated:  NaN\n",
      "Searching product:  Halyard Health 28821  on UPC_Item_DB\n"
     ]
    },
    {
     "name": "stderr",
     "output_type": "stream",
     "text": [
      "D:\\Software\\anaconda3\\lib\\site-packages\\urllib3\\connectionpool.py:988: InsecureRequestWarning: Unverified HTTPS request is being made to host 'www.upcitemdb.com'. Adding certificate verification is strongly advised. See: https://urllib3.readthedocs.io/en/latest/advanced-usage.html#ssl-warnings\n",
      "  InsecureRequestWarning,\n"
     ]
    },
    {
     "name": "stdout",
     "output_type": "stream",
     "text": [
      "\tNo UPCs found on UPC_Item_DB.\n",
      "\tUpdated:  NaN\n",
      "\tUpdated:  NaN\n",
      "Searching product:  Halyard Health 62116  on UPC_Item_DB\n"
     ]
    },
    {
     "name": "stderr",
     "output_type": "stream",
     "text": [
      "D:\\Software\\anaconda3\\lib\\site-packages\\urllib3\\connectionpool.py:988: InsecureRequestWarning: Unverified HTTPS request is being made to host 'www.upcitemdb.com'. Adding certificate verification is strongly advised. See: https://urllib3.readthedocs.io/en/latest/advanced-usage.html#ssl-warnings\n",
      "  InsecureRequestWarning,\n"
     ]
    },
    {
     "name": "stdout",
     "output_type": "stream",
     "text": [
      "\tNo UPCs found on UPC_Item_DB.\n",
      "\tUpdated:  NaN\n",
      "\tUpdated:  NaN\n",
      "Searching product:  Halyard Health 28810  on UPC_Item_DB\n"
     ]
    },
    {
     "name": "stderr",
     "output_type": "stream",
     "text": [
      "D:\\Software\\anaconda3\\lib\\site-packages\\urllib3\\connectionpool.py:988: InsecureRequestWarning: Unverified HTTPS request is being made to host 'www.upcitemdb.com'. Adding certificate verification is strongly advised. See: https://urllib3.readthedocs.io/en/latest/advanced-usage.html#ssl-warnings\n",
      "  InsecureRequestWarning,\n"
     ]
    },
    {
     "name": "stdout",
     "output_type": "stream",
     "text": [
      "\tNo UPCs found on UPC_Item_DB.\n",
      "\tUpdated:  NaN\n",
      "\tUpdated:  NaN\n",
      "Searching product:  Halyard Health 62115  on UPC_Item_DB\n"
     ]
    },
    {
     "name": "stderr",
     "output_type": "stream",
     "text": [
      "D:\\Software\\anaconda3\\lib\\site-packages\\urllib3\\connectionpool.py:988: InsecureRequestWarning: Unverified HTTPS request is being made to host 'www.upcitemdb.com'. Adding certificate verification is strongly advised. See: https://urllib3.readthedocs.io/en/latest/advanced-usage.html#ssl-warnings\n",
      "  InsecureRequestWarning,\n"
     ]
    },
    {
     "name": "stdout",
     "output_type": "stream",
     "text": [
      "\tNo UPCs found on UPC_Item_DB.\n",
      "\tUpdated:  NaN\n",
      "\tUpdated:  NaN\n",
      "Searching product:  Halyard Health 00152  on UPC_Item_DB\n"
     ]
    },
    {
     "name": "stderr",
     "output_type": "stream",
     "text": [
      "D:\\Software\\anaconda3\\lib\\site-packages\\urllib3\\connectionpool.py:988: InsecureRequestWarning: Unverified HTTPS request is being made to host 'www.upcitemdb.com'. Adding certificate verification is strongly advised. See: https://urllib3.readthedocs.io/en/latest/advanced-usage.html#ssl-warnings\n",
      "  InsecureRequestWarning,\n"
     ]
    },
    {
     "name": "stdout",
     "output_type": "stream",
     "text": [
      "\tNo UPCs found on UPC_Item_DB.\n",
      "\tUpdated:  NaN\n",
      "\tUpdated:  NaN\n",
      "Searching product:  Halyard Health 47717  on UPC_Item_DB\n"
     ]
    },
    {
     "name": "stderr",
     "output_type": "stream",
     "text": [
      "D:\\Software\\anaconda3\\lib\\site-packages\\urllib3\\connectionpool.py:988: InsecureRequestWarning: Unverified HTTPS request is being made to host 'www.upcitemdb.com'. Adding certificate verification is strongly advised. See: https://urllib3.readthedocs.io/en/latest/advanced-usage.html#ssl-warnings\n",
      "  InsecureRequestWarning,\n"
     ]
    },
    {
     "name": "stdout",
     "output_type": "stream",
     "text": [
      "\tProduct found!\n",
      "\tChecking UPC:  649664545160\n"
     ]
    },
    {
     "name": "stderr",
     "output_type": "stream",
     "text": [
      "D:\\Software\\anaconda3\\lib\\site-packages\\urllib3\\connectionpool.py:988: InsecureRequestWarning: Unverified HTTPS request is being made to host 'www.upcitemdb.com'. Adding certificate verification is strongly advised. See: https://urllib3.readthedocs.io/en/latest/advanced-usage.html#ssl-warnings\n",
      "  InsecureRequestWarning,\n"
     ]
    },
    {
     "name": "stdout",
     "output_type": "stream",
     "text": [
      "\tnot relevant\n",
      "\tUpdated:  NaN\n",
      "\tUpdated:  NaN\n",
      "Searching product:  Halyard Health 47700  on UPC_Item_DB\n"
     ]
    },
    {
     "name": "stderr",
     "output_type": "stream",
     "text": [
      "D:\\Software\\anaconda3\\lib\\site-packages\\urllib3\\connectionpool.py:988: InsecureRequestWarning: Unverified HTTPS request is being made to host 'www.upcitemdb.com'. Adding certificate verification is strongly advised. See: https://urllib3.readthedocs.io/en/latest/advanced-usage.html#ssl-warnings\n",
      "  InsecureRequestWarning,\n"
     ]
    },
    {
     "name": "stdout",
     "output_type": "stream",
     "text": [
      "\tProduct found!\n",
      "\tChecking UPC:  713145686236\n"
     ]
    },
    {
     "name": "stderr",
     "output_type": "stream",
     "text": [
      "D:\\Software\\anaconda3\\lib\\site-packages\\urllib3\\connectionpool.py:988: InsecureRequestWarning: Unverified HTTPS request is being made to host 'www.upcitemdb.com'. Adding certificate verification is strongly advised. See: https://urllib3.readthedocs.io/en/latest/advanced-usage.html#ssl-warnings\n",
      "  InsecureRequestWarning,\n"
     ]
    },
    {
     "name": "stdout",
     "output_type": "stream",
     "text": [
      "\tnot relevant\n",
      "\tUpdated:  NaN\n",
      "\tUpdated:  NaN\n",
      "Searching product:  Halyard Health 62354  on UPC_Item_DB\n"
     ]
    },
    {
     "name": "stderr",
     "output_type": "stream",
     "text": [
      "D:\\Software\\anaconda3\\lib\\site-packages\\urllib3\\connectionpool.py:988: InsecureRequestWarning: Unverified HTTPS request is being made to host 'www.upcitemdb.com'. Adding certificate verification is strongly advised. See: https://urllib3.readthedocs.io/en/latest/advanced-usage.html#ssl-warnings\n",
      "  InsecureRequestWarning,\n"
     ]
    },
    {
     "name": "stdout",
     "output_type": "stream",
     "text": [
      "\tNo UPCs found on UPC_Item_DB.\n",
      "\tUpdated:  NaN\n",
      "\tUpdated:  NaN\n",
      "Searching product:  Halyard Health 25867  on UPC_Item_DB\n"
     ]
    },
    {
     "name": "stderr",
     "output_type": "stream",
     "text": [
      "D:\\Software\\anaconda3\\lib\\site-packages\\urllib3\\connectionpool.py:988: InsecureRequestWarning: Unverified HTTPS request is being made to host 'www.upcitemdb.com'. Adding certificate verification is strongly advised. See: https://urllib3.readthedocs.io/en/latest/advanced-usage.html#ssl-warnings\n",
      "  InsecureRequestWarning,\n"
     ]
    },
    {
     "name": "stdout",
     "output_type": "stream",
     "text": [
      "\tNo UPCs found on UPC_Item_DB.\n",
      "\tUpdated:  NaN\n",
      "\tUpdated:  NaN\n",
      "Searching product:  Halyard Health 25868  on UPC_Item_DB\n"
     ]
    },
    {
     "name": "stderr",
     "output_type": "stream",
     "text": [
      "D:\\Software\\anaconda3\\lib\\site-packages\\urllib3\\connectionpool.py:988: InsecureRequestWarning: Unverified HTTPS request is being made to host 'www.upcitemdb.com'. Adding certificate verification is strongly advised. See: https://urllib3.readthedocs.io/en/latest/advanced-usage.html#ssl-warnings\n",
      "  InsecureRequestWarning,\n"
     ]
    },
    {
     "name": "stdout",
     "output_type": "stream",
     "text": [
      "\tProduct found!\n",
      "\tChecking UPC:  680351258680\n"
     ]
    },
    {
     "name": "stderr",
     "output_type": "stream",
     "text": [
      "D:\\Software\\anaconda3\\lib\\site-packages\\urllib3\\connectionpool.py:988: InsecureRequestWarning: Unverified HTTPS request is being made to host 'www.upcitemdb.com'. Adding certificate verification is strongly advised. See: https://urllib3.readthedocs.io/en/latest/advanced-usage.html#ssl-warnings\n",
      "  InsecureRequestWarning,\n"
     ]
    },
    {
     "name": "stdout",
     "output_type": "stream",
     "text": [
      "\tnot relevant\n",
      "\tChecking UPC:  8181984049390\n",
      "\tnot relevant\n"
     ]
    },
    {
     "name": "stderr",
     "output_type": "stream",
     "text": [
      "D:\\Software\\anaconda3\\lib\\site-packages\\urllib3\\connectionpool.py:988: InsecureRequestWarning: Unverified HTTPS request is being made to host 'www.upcitemdb.com'. Adding certificate verification is strongly advised. See: https://urllib3.readthedocs.io/en/latest/advanced-usage.html#ssl-warnings\n",
      "  InsecureRequestWarning,\n"
     ]
    },
    {
     "name": "stdout",
     "output_type": "stream",
     "text": [
      "\tUpdated:  NaN\n",
      "\tUpdated:  NaN\n",
      "Searching product:  Halyard Health 25869  on UPC_Item_DB\n"
     ]
    },
    {
     "name": "stderr",
     "output_type": "stream",
     "text": [
      "D:\\Software\\anaconda3\\lib\\site-packages\\urllib3\\connectionpool.py:988: InsecureRequestWarning: Unverified HTTPS request is being made to host 'www.upcitemdb.com'. Adding certificate verification is strongly advised. See: https://urllib3.readthedocs.io/en/latest/advanced-usage.html#ssl-warnings\n",
      "  InsecureRequestWarning,\n"
     ]
    },
    {
     "name": "stdout",
     "output_type": "stream",
     "text": [
      "\tNo UPCs found on UPC_Item_DB.\n",
      "\tUpdated:  NaN\n",
      "\tUpdated:  NaN\n",
      "Searching product:  Halyard Health 62362  on UPC_Item_DB\n"
     ]
    },
    {
     "name": "stderr",
     "output_type": "stream",
     "text": [
      "D:\\Software\\anaconda3\\lib\\site-packages\\urllib3\\connectionpool.py:988: InsecureRequestWarning: Unverified HTTPS request is being made to host 'www.upcitemdb.com'. Adding certificate verification is strongly advised. See: https://urllib3.readthedocs.io/en/latest/advanced-usage.html#ssl-warnings\n",
      "  InsecureRequestWarning,\n"
     ]
    },
    {
     "name": "stdout",
     "output_type": "stream",
     "text": [
      "\tProduct found!\n",
      "\tChecking UPC:  8181984047754\n"
     ]
    },
    {
     "name": "stderr",
     "output_type": "stream",
     "text": [
      "D:\\Software\\anaconda3\\lib\\site-packages\\urllib3\\connectionpool.py:988: InsecureRequestWarning: Unverified HTTPS request is being made to host 'www.upcitemdb.com'. Adding certificate verification is strongly advised. See: https://urllib3.readthedocs.io/en/latest/advanced-usage.html#ssl-warnings\n",
      "  InsecureRequestWarning,\n"
     ]
    },
    {
     "name": "stdout",
     "output_type": "stream",
     "text": [
      "\tnot relevant\n",
      "\tUpdated:  NaN\n",
      "\tUpdated:  NaN\n",
      "Searching product:  Halyard Health 62363  on UPC_Item_DB\n"
     ]
    },
    {
     "name": "stderr",
     "output_type": "stream",
     "text": [
      "D:\\Software\\anaconda3\\lib\\site-packages\\urllib3\\connectionpool.py:988: InsecureRequestWarning: Unverified HTTPS request is being made to host 'www.upcitemdb.com'. Adding certificate verification is strongly advised. See: https://urllib3.readthedocs.io/en/latest/advanced-usage.html#ssl-warnings\n",
      "  InsecureRequestWarning,\n"
     ]
    },
    {
     "name": "stdout",
     "output_type": "stream",
     "text": [
      "\tNo UPCs found on UPC_Item_DB.\n",
      "\tUpdated:  NaN\n",
      "\tUpdated:  NaN\n",
      "Searching product:  Halyard Health 47090  on UPC_Item_DB\n"
     ]
    },
    {
     "name": "stderr",
     "output_type": "stream",
     "text": [
      "D:\\Software\\anaconda3\\lib\\site-packages\\urllib3\\connectionpool.py:988: InsecureRequestWarning: Unverified HTTPS request is being made to host 'www.upcitemdb.com'. Adding certificate verification is strongly advised. See: https://urllib3.readthedocs.io/en/latest/advanced-usage.html#ssl-warnings\n",
      "  InsecureRequestWarning,\n"
     ]
    },
    {
     "name": "stdout",
     "output_type": "stream",
     "text": [
      "\tNo UPCs found on UPC_Item_DB.\n",
      "\tUpdated:  NaN\n",
      "\tUpdated:  NaN\n",
      "Searching product:  Halyard Health 47085  on UPC_Item_DB\n"
     ]
    },
    {
     "name": "stderr",
     "output_type": "stream",
     "text": [
      "D:\\Software\\anaconda3\\lib\\site-packages\\urllib3\\connectionpool.py:988: InsecureRequestWarning: Unverified HTTPS request is being made to host 'www.upcitemdb.com'. Adding certificate verification is strongly advised. See: https://urllib3.readthedocs.io/en/latest/advanced-usage.html#ssl-warnings\n",
      "  InsecureRequestWarning,\n"
     ]
    },
    {
     "name": "stdout",
     "output_type": "stream",
     "text": [
      "\tNo UPCs found on UPC_Item_DB.\n",
      "\tUpdated:  NaN\n",
      "\tUpdated:  NaN\n",
      "Searching product:  Halyard Health 47117  on UPC_Item_DB\n"
     ]
    },
    {
     "name": "stderr",
     "output_type": "stream",
     "text": [
      "D:\\Software\\anaconda3\\lib\\site-packages\\urllib3\\connectionpool.py:988: InsecureRequestWarning: Unverified HTTPS request is being made to host 'www.upcitemdb.com'. Adding certificate verification is strongly advised. See: https://urllib3.readthedocs.io/en/latest/advanced-usage.html#ssl-warnings\n",
      "  InsecureRequestWarning,\n"
     ]
    },
    {
     "name": "stdout",
     "output_type": "stream",
     "text": [
      "\tProduct found!\n",
      "\tChecking UPC:  692618993494\n"
     ]
    },
    {
     "name": "stderr",
     "output_type": "stream",
     "text": [
      "D:\\Software\\anaconda3\\lib\\site-packages\\urllib3\\connectionpool.py:988: InsecureRequestWarning: Unverified HTTPS request is being made to host 'www.upcitemdb.com'. Adding certificate verification is strongly advised. See: https://urllib3.readthedocs.io/en/latest/advanced-usage.html#ssl-warnings\n",
      "  InsecureRequestWarning,\n"
     ]
    },
    {
     "name": "stdout",
     "output_type": "stream",
     "text": [
      "\tnot relevant\n",
      "\tChecking UPC:  885568172532\n"
     ]
    },
    {
     "name": "stderr",
     "output_type": "stream",
     "text": [
      "D:\\Software\\anaconda3\\lib\\site-packages\\urllib3\\connectionpool.py:988: InsecureRequestWarning: Unverified HTTPS request is being made to host 'www.upcitemdb.com'. Adding certificate verification is strongly advised. See: https://urllib3.readthedocs.io/en/latest/advanced-usage.html#ssl-warnings\n",
      "  InsecureRequestWarning,\n"
     ]
    },
    {
     "name": "stdout",
     "output_type": "stream",
     "text": [
      "\tnot relevant\n",
      "\tChecking UPC:  691034162651\n"
     ]
    },
    {
     "name": "stderr",
     "output_type": "stream",
     "text": [
      "D:\\Software\\anaconda3\\lib\\site-packages\\urllib3\\connectionpool.py:988: InsecureRequestWarning: Unverified HTTPS request is being made to host 'www.upcitemdb.com'. Adding certificate verification is strongly advised. See: https://urllib3.readthedocs.io/en/latest/advanced-usage.html#ssl-warnings\n",
      "  InsecureRequestWarning,\n"
     ]
    },
    {
     "name": "stdout",
     "output_type": "stream",
     "text": [
      "\tnot relevant\n",
      "\tChecking UPC:  7554511133465\n",
      "\tnot relevant\n"
     ]
    },
    {
     "name": "stderr",
     "output_type": "stream",
     "text": [
      "D:\\Software\\anaconda3\\lib\\site-packages\\urllib3\\connectionpool.py:988: InsecureRequestWarning: Unverified HTTPS request is being made to host 'www.upcitemdb.com'. Adding certificate verification is strongly advised. See: https://urllib3.readthedocs.io/en/latest/advanced-usage.html#ssl-warnings\n",
      "  InsecureRequestWarning,\n"
     ]
    },
    {
     "name": "stdout",
     "output_type": "stream",
     "text": [
      "\tChecking UPC:  30680651471179\n"
     ]
    },
    {
     "name": "stderr",
     "output_type": "stream",
     "text": [
      "D:\\Software\\anaconda3\\lib\\site-packages\\urllib3\\connectionpool.py:988: InsecureRequestWarning: Unverified HTTPS request is being made to host 'www.upcitemdb.com'. Adding certificate verification is strongly advised. See: https://urllib3.readthedocs.io/en/latest/advanced-usage.html#ssl-warnings\n",
      "  InsecureRequestWarning,\n"
     ]
    },
    {
     "name": "stdout",
     "output_type": "stream",
     "text": [
      "\tnot relevant\n",
      "\tUpdated:  NaN\n",
      "\tUpdated:  NaN\n",
      "Searching product:  Halyard Health 47095  on UPC_Item_DB\n"
     ]
    },
    {
     "name": "stderr",
     "output_type": "stream",
     "text": [
      "D:\\Software\\anaconda3\\lib\\site-packages\\urllib3\\connectionpool.py:988: InsecureRequestWarning: Unverified HTTPS request is being made to host 'www.upcitemdb.com'. Adding certificate verification is strongly advised. See: https://urllib3.readthedocs.io/en/latest/advanced-usage.html#ssl-warnings\n",
      "  InsecureRequestWarning,\n"
     ]
    },
    {
     "name": "stdout",
     "output_type": "stream",
     "text": [
      "\tNo UPCs found on UPC_Item_DB.\n",
      "\tUpdated:  NaN\n",
      "\tUpdated:  NaN\n",
      "Searching product:  Halyard Health 47295  on UPC_Item_DB\n"
     ]
    },
    {
     "name": "stderr",
     "output_type": "stream",
     "text": [
      "D:\\Software\\anaconda3\\lib\\site-packages\\urllib3\\connectionpool.py:988: InsecureRequestWarning: Unverified HTTPS request is being made to host 'www.upcitemdb.com'. Adding certificate verification is strongly advised. See: https://urllib3.readthedocs.io/en/latest/advanced-usage.html#ssl-warnings\n",
      "  InsecureRequestWarning,\n"
     ]
    },
    {
     "name": "stdout",
     "output_type": "stream",
     "text": [
      "\tProduct found!\n",
      "\tChecking UPC:  649664943904\n"
     ]
    },
    {
     "name": "stderr",
     "output_type": "stream",
     "text": [
      "D:\\Software\\anaconda3\\lib\\site-packages\\urllib3\\connectionpool.py:988: InsecureRequestWarning: Unverified HTTPS request is being made to host 'www.upcitemdb.com'. Adding certificate verification is strongly advised. See: https://urllib3.readthedocs.io/en/latest/advanced-usage.html#ssl-warnings\n",
      "  InsecureRequestWarning,\n"
     ]
    },
    {
     "name": "stdout",
     "output_type": "stream",
     "text": [
      "\tnot relevant\n",
      "\tUpdated:  NaN\n",
      "\tUpdated:  NaN\n",
      "Searching product:  Halyard Health 47080  on UPC_Item_DB\n"
     ]
    },
    {
     "name": "stderr",
     "output_type": "stream",
     "text": [
      "D:\\Software\\anaconda3\\lib\\site-packages\\urllib3\\connectionpool.py:988: InsecureRequestWarning: Unverified HTTPS request is being made to host 'www.upcitemdb.com'. Adding certificate verification is strongly advised. See: https://urllib3.readthedocs.io/en/latest/advanced-usage.html#ssl-warnings\n",
      "  InsecureRequestWarning,\n"
     ]
    },
    {
     "name": "stdout",
     "output_type": "stream",
     "text": [
      "\tProduct found!\n",
      "\tChecking UPC:  036000624946\n"
     ]
    },
    {
     "name": "stderr",
     "output_type": "stream",
     "text": [
      "D:\\Software\\anaconda3\\lib\\site-packages\\urllib3\\connectionpool.py:988: InsecureRequestWarning: Unverified HTTPS request is being made to host 'www.upcitemdb.com'. Adding certificate verification is strongly advised. See: https://urllib3.readthedocs.io/en/latest/advanced-usage.html#ssl-warnings\n",
      "  InsecureRequestWarning,\n"
     ]
    },
    {
     "name": "stdout",
     "output_type": "stream",
     "text": [
      "\tnot relevant\n",
      "\tChecking UPC:  791617151000\n"
     ]
    },
    {
     "name": "stderr",
     "output_type": "stream",
     "text": [
      "D:\\Software\\anaconda3\\lib\\site-packages\\urllib3\\connectionpool.py:988: InsecureRequestWarning: Unverified HTTPS request is being made to host 'www.upcitemdb.com'. Adding certificate verification is strongly advised. See: https://urllib3.readthedocs.io/en/latest/advanced-usage.html#ssl-warnings\n",
      "  InsecureRequestWarning,\n"
     ]
    },
    {
     "name": "stdout",
     "output_type": "stream",
     "text": [
      "\tnot relevant\n",
      "\tChecking UPC:  789164175860\n"
     ]
    },
    {
     "name": "stderr",
     "output_type": "stream",
     "text": [
      "D:\\Software\\anaconda3\\lib\\site-packages\\urllib3\\connectionpool.py:988: InsecureRequestWarning: Unverified HTTPS request is being made to host 'www.upcitemdb.com'. Adding certificate verification is strongly advised. See: https://urllib3.readthedocs.io/en/latest/advanced-usage.html#ssl-warnings\n",
      "  InsecureRequestWarning,\n"
     ]
    },
    {
     "name": "stdout",
     "output_type": "stream",
     "text": [
      "\tnot relevant\n",
      "\tChecking UPC:  795525755046\n",
      "\tnot relevant\n"
     ]
    },
    {
     "name": "stderr",
     "output_type": "stream",
     "text": [
      "D:\\Software\\anaconda3\\lib\\site-packages\\urllib3\\connectionpool.py:988: InsecureRequestWarning: Unverified HTTPS request is being made to host 'www.upcitemdb.com'. Adding certificate verification is strongly advised. See: https://urllib3.readthedocs.io/en/latest/advanced-usage.html#ssl-warnings\n",
      "  InsecureRequestWarning,\n"
     ]
    },
    {
     "name": "stdout",
     "output_type": "stream",
     "text": [
      "\tChecking UPC:  713145686298\n"
     ]
    },
    {
     "name": "stderr",
     "output_type": "stream",
     "text": [
      "D:\\Software\\anaconda3\\lib\\site-packages\\urllib3\\connectionpool.py:988: InsecureRequestWarning: Unverified HTTPS request is being made to host 'www.upcitemdb.com'. Adding certificate verification is strongly advised. See: https://urllib3.readthedocs.io/en/latest/advanced-usage.html#ssl-warnings\n",
      "  InsecureRequestWarning,\n"
     ]
    },
    {
     "name": "stdout",
     "output_type": "stream",
     "text": [
      "\tnot relevant\n",
      "\tChecking UPC:  616913740041\n"
     ]
    },
    {
     "name": "stderr",
     "output_type": "stream",
     "text": [
      "D:\\Software\\anaconda3\\lib\\site-packages\\urllib3\\connectionpool.py:988: InsecureRequestWarning: Unverified HTTPS request is being made to host 'www.upcitemdb.com'. Adding certificate verification is strongly advised. See: https://urllib3.readthedocs.io/en/latest/advanced-usage.html#ssl-warnings\n",
      "  InsecureRequestWarning,\n"
     ]
    },
    {
     "name": "stdout",
     "output_type": "stream",
     "text": [
      "\tcase links found:  2\n",
      "\tUpdated:  616913740041\n",
      "\tUpdated:  NaN\n",
      "Searching product:  Halyard Health 49700  on UPC_Item_DB\n"
     ]
    },
    {
     "name": "stderr",
     "output_type": "stream",
     "text": [
      "D:\\Software\\anaconda3\\lib\\site-packages\\urllib3\\connectionpool.py:988: InsecureRequestWarning: Unverified HTTPS request is being made to host 'www.upcitemdb.com'. Adding certificate verification is strongly advised. See: https://urllib3.readthedocs.io/en/latest/advanced-usage.html#ssl-warnings\n",
      "  InsecureRequestWarning,\n"
     ]
    },
    {
     "name": "stdout",
     "output_type": "stream",
     "text": [
      "\tNo UPCs found on UPC_Item_DB.\n",
      "\tUpdated:  NaN\n",
      "\tUpdated:  NaN\n",
      "Searching product:  Halyard Health 47119  on UPC_Item_DB\n"
     ]
    },
    {
     "name": "stderr",
     "output_type": "stream",
     "text": [
      "D:\\Software\\anaconda3\\lib\\site-packages\\urllib3\\connectionpool.py:988: InsecureRequestWarning: Unverified HTTPS request is being made to host 'www.upcitemdb.com'. Adding certificate verification is strongly advised. See: https://urllib3.readthedocs.io/en/latest/advanced-usage.html#ssl-warnings\n",
      "  InsecureRequestWarning,\n"
     ]
    },
    {
     "name": "stdout",
     "output_type": "stream",
     "text": [
      "\tProduct found!\n",
      "\tChecking UPC:  607885865207\n"
     ]
    },
    {
     "name": "stderr",
     "output_type": "stream",
     "text": [
      "D:\\Software\\anaconda3\\lib\\site-packages\\urllib3\\connectionpool.py:988: InsecureRequestWarning: Unverified HTTPS request is being made to host 'www.upcitemdb.com'. Adding certificate verification is strongly advised. See: https://urllib3.readthedocs.io/en/latest/advanced-usage.html#ssl-warnings\n",
      "  InsecureRequestWarning,\n"
     ]
    },
    {
     "name": "stdout",
     "output_type": "stream",
     "text": [
      "\tnot relevant\n",
      "\tUpdated:  NaN\n",
      "\tUpdated:  NaN\n",
      "Searching product:  Halyard Health 62356  on UPC_Item_DB\n"
     ]
    },
    {
     "name": "stderr",
     "output_type": "stream",
     "text": [
      "D:\\Software\\anaconda3\\lib\\site-packages\\urllib3\\connectionpool.py:988: InsecureRequestWarning: Unverified HTTPS request is being made to host 'www.upcitemdb.com'. Adding certificate verification is strongly advised. See: https://urllib3.readthedocs.io/en/latest/advanced-usage.html#ssl-warnings\n",
      "  InsecureRequestWarning,\n"
     ]
    },
    {
     "name": "stdout",
     "output_type": "stream",
     "text": [
      "\tNo UPCs found on UPC_Item_DB.\n",
      "\tUpdated:  NaN\n",
      "\tUpdated:  NaN\n",
      "Searching product:  Halyard Health 62357  on UPC_Item_DB\n"
     ]
    },
    {
     "name": "stderr",
     "output_type": "stream",
     "text": [
      "D:\\Software\\anaconda3\\lib\\site-packages\\urllib3\\connectionpool.py:988: InsecureRequestWarning: Unverified HTTPS request is being made to host 'www.upcitemdb.com'. Adding certificate verification is strongly advised. See: https://urllib3.readthedocs.io/en/latest/advanced-usage.html#ssl-warnings\n",
      "  InsecureRequestWarning,\n"
     ]
    },
    {
     "name": "stdout",
     "output_type": "stream",
     "text": [
      "\tNo UPCs found on UPC_Item_DB.\n",
      "\tUpdated:  NaN\n",
      "\tUpdated:  NaN\n",
      "Searching product:  Halyard Health 48247  on UPC_Item_DB\n"
     ]
    },
    {
     "name": "stderr",
     "output_type": "stream",
     "text": [
      "D:\\Software\\anaconda3\\lib\\site-packages\\urllib3\\connectionpool.py:988: InsecureRequestWarning: Unverified HTTPS request is being made to host 'www.upcitemdb.com'. Adding certificate verification is strongly advised. See: https://urllib3.readthedocs.io/en/latest/advanced-usage.html#ssl-warnings\n",
      "  InsecureRequestWarning,\n"
     ]
    },
    {
     "name": "stdout",
     "output_type": "stream",
     "text": [
      "\tProduct found!\n",
      "\tChecking UPC:  645015908592\n"
     ]
    },
    {
     "name": "stderr",
     "output_type": "stream",
     "text": [
      "D:\\Software\\anaconda3\\lib\\site-packages\\urllib3\\connectionpool.py:988: InsecureRequestWarning: Unverified HTTPS request is being made to host 'www.upcitemdb.com'. Adding certificate verification is strongly advised. See: https://urllib3.readthedocs.io/en/latest/advanced-usage.html#ssl-warnings\n",
      "  InsecureRequestWarning,\n"
     ]
    },
    {
     "name": "stdout",
     "output_type": "stream",
     "text": [
      "\tnot relevant\n",
      "\tUpdated:  NaN\n",
      "\tUpdated:  NaN\n",
      "Searching product:  Halyard Health 48237  on UPC_Item_DB\n"
     ]
    },
    {
     "name": "stderr",
     "output_type": "stream",
     "text": [
      "D:\\Software\\anaconda3\\lib\\site-packages\\urllib3\\connectionpool.py:988: InsecureRequestWarning: Unverified HTTPS request is being made to host 'www.upcitemdb.com'. Adding certificate verification is strongly advised. See: https://urllib3.readthedocs.io/en/latest/advanced-usage.html#ssl-warnings\n",
      "  InsecureRequestWarning,\n"
     ]
    },
    {
     "name": "stdout",
     "output_type": "stream",
     "text": [
      "\tProduct found!\n",
      "\tChecking UPC:  645015908608\n"
     ]
    },
    {
     "name": "stderr",
     "output_type": "stream",
     "text": [
      "D:\\Software\\anaconda3\\lib\\site-packages\\urllib3\\connectionpool.py:988: InsecureRequestWarning: Unverified HTTPS request is being made to host 'www.upcitemdb.com'. Adding certificate verification is strongly advised. See: https://urllib3.readthedocs.io/en/latest/advanced-usage.html#ssl-warnings\n",
      "  InsecureRequestWarning,\n"
     ]
    },
    {
     "name": "stdout",
     "output_type": "stream",
     "text": [
      "\tnot relevant\n",
      "\tUpdated:  NaN\n",
      "\tUpdated:  NaN\n",
      "Searching product:  Halyard Health 28820  on UPC_Item_DB\n"
     ]
    },
    {
     "name": "stderr",
     "output_type": "stream",
     "text": [
      "D:\\Software\\anaconda3\\lib\\site-packages\\urllib3\\connectionpool.py:988: InsecureRequestWarning: Unverified HTTPS request is being made to host 'www.upcitemdb.com'. Adding certificate verification is strongly advised. See: https://urllib3.readthedocs.io/en/latest/advanced-usage.html#ssl-warnings\n",
      "  InsecureRequestWarning,\n"
     ]
    },
    {
     "name": "stdout",
     "output_type": "stream",
     "text": [
      "\tNo UPCs found on UPC_Item_DB.\n",
      "\tUpdated:  NaN\n",
      "\tUpdated:  NaN\n",
      "Searching product:  Halyard Health 48297  on UPC_Item_DB\n"
     ]
    },
    {
     "name": "stderr",
     "output_type": "stream",
     "text": [
      "D:\\Software\\anaconda3\\lib\\site-packages\\urllib3\\connectionpool.py:988: InsecureRequestWarning: Unverified HTTPS request is being made to host 'www.upcitemdb.com'. Adding certificate verification is strongly advised. See: https://urllib3.readthedocs.io/en/latest/advanced-usage.html#ssl-warnings\n",
      "  InsecureRequestWarning,\n"
     ]
    },
    {
     "name": "stdout",
     "output_type": "stream",
     "text": [
      "\tNo UPCs found on UPC_Item_DB.\n",
      "\tUpdated:  NaN\n",
      "\tUpdated:  NaN\n",
      "Searching product:  Halyard Health 48208  on UPC_Item_DB\n"
     ]
    },
    {
     "name": "stderr",
     "output_type": "stream",
     "text": [
      "D:\\Software\\anaconda3\\lib\\site-packages\\urllib3\\connectionpool.py:988: InsecureRequestWarning: Unverified HTTPS request is being made to host 'www.upcitemdb.com'. Adding certificate verification is strongly advised. See: https://urllib3.readthedocs.io/en/latest/advanced-usage.html#ssl-warnings\n",
      "  InsecureRequestWarning,\n"
     ]
    },
    {
     "name": "stdout",
     "output_type": "stream",
     "text": [
      "\tNo UPCs found on UPC_Item_DB.\n",
      "\tUpdated:  NaN\n",
      "\tUpdated:  NaN\n",
      "Searching product:  Halyard Health 48207  on UPC_Item_DB\n"
     ]
    },
    {
     "name": "stderr",
     "output_type": "stream",
     "text": [
      "D:\\Software\\anaconda3\\lib\\site-packages\\urllib3\\connectionpool.py:988: InsecureRequestWarning: Unverified HTTPS request is being made to host 'www.upcitemdb.com'. Adding certificate verification is strongly advised. See: https://urllib3.readthedocs.io/en/latest/advanced-usage.html#ssl-warnings\n",
      "  InsecureRequestWarning,\n"
     ]
    },
    {
     "name": "stdout",
     "output_type": "stream",
     "text": [
      "\tNo UPCs found on UPC_Item_DB.\n",
      "\tUpdated:  NaN\n",
      "\tUpdated:  NaN\n",
      "Searching product:  Halyard Health 48248  on UPC_Item_DB\n"
     ]
    },
    {
     "name": "stderr",
     "output_type": "stream",
     "text": [
      "D:\\Software\\anaconda3\\lib\\site-packages\\urllib3\\connectionpool.py:988: InsecureRequestWarning: Unverified HTTPS request is being made to host 'www.upcitemdb.com'. Adding certificate verification is strongly advised. See: https://urllib3.readthedocs.io/en/latest/advanced-usage.html#ssl-warnings\n",
      "  InsecureRequestWarning,\n"
     ]
    },
    {
     "name": "stdout",
     "output_type": "stream",
     "text": [
      "\tNo UPCs found on UPC_Item_DB.\n",
      "\tUpdated:  NaN\n",
      "\tUpdated:  NaN\n",
      "Searching product:  Halyard Health 28804  on UPC_Item_DB\n"
     ]
    },
    {
     "name": "stderr",
     "output_type": "stream",
     "text": [
      "D:\\Software\\anaconda3\\lib\\site-packages\\urllib3\\connectionpool.py:988: InsecureRequestWarning: Unverified HTTPS request is being made to host 'www.upcitemdb.com'. Adding certificate verification is strongly advised. See: https://urllib3.readthedocs.io/en/latest/advanced-usage.html#ssl-warnings\n",
      "  InsecureRequestWarning,\n"
     ]
    },
    {
     "name": "stdout",
     "output_type": "stream",
     "text": [
      "\tProduct found!\n",
      "\tChecking UPC:  713049529608\n"
     ]
    },
    {
     "name": "stderr",
     "output_type": "stream",
     "text": [
      "D:\\Software\\anaconda3\\lib\\site-packages\\urllib3\\connectionpool.py:988: InsecureRequestWarning: Unverified HTTPS request is being made to host 'www.upcitemdb.com'. Adding certificate verification is strongly advised. See: https://urllib3.readthedocs.io/en/latest/advanced-usage.html#ssl-warnings\n",
      "  InsecureRequestWarning,\n"
     ]
    },
    {
     "name": "stdout",
     "output_type": "stream",
     "text": [
      "\tnot relevant\n",
      "\tUpdated:  NaN\n",
      "\tUpdated:  NaN\n",
      "Searching product:  Halyard Health 49216  on UPC_Item_DB\n"
     ]
    },
    {
     "name": "stderr",
     "output_type": "stream",
     "text": [
      "D:\\Software\\anaconda3\\lib\\site-packages\\urllib3\\connectionpool.py:988: InsecureRequestWarning: Unverified HTTPS request is being made to host 'www.upcitemdb.com'. Adding certificate verification is strongly advised. See: https://urllib3.readthedocs.io/en/latest/advanced-usage.html#ssl-warnings\n",
      "  InsecureRequestWarning,\n"
     ]
    },
    {
     "name": "stdout",
     "output_type": "stream",
     "text": [
      "\tNo UPCs found on UPC_Item_DB.\n",
      "\tUpdated:  NaN\n",
      "\tUpdated:  NaN\n",
      "Searching product:  Halyard Health 37525  on UPC_Item_DB\n"
     ]
    },
    {
     "name": "stderr",
     "output_type": "stream",
     "text": [
      "D:\\Software\\anaconda3\\lib\\site-packages\\urllib3\\connectionpool.py:988: InsecureRequestWarning: Unverified HTTPS request is being made to host 'www.upcitemdb.com'. Adding certificate verification is strongly advised. See: https://urllib3.readthedocs.io/en/latest/advanced-usage.html#ssl-warnings\n",
      "  InsecureRequestWarning,\n"
     ]
    },
    {
     "name": "stdout",
     "output_type": "stream",
     "text": [
      "\tNo UPCs found on UPC_Item_DB.\n",
      "\tUpdated:  NaN\n",
      "\tUpdated:  NaN\n",
      "Searching product:  Halyard Health 48220  on UPC_Item_DB\n"
     ]
    },
    {
     "name": "stderr",
     "output_type": "stream",
     "text": [
      "D:\\Software\\anaconda3\\lib\\site-packages\\urllib3\\connectionpool.py:988: InsecureRequestWarning: Unverified HTTPS request is being made to host 'www.upcitemdb.com'. Adding certificate verification is strongly advised. See: https://urllib3.readthedocs.io/en/latest/advanced-usage.html#ssl-warnings\n",
      "  InsecureRequestWarning,\n"
     ]
    },
    {
     "name": "stdout",
     "output_type": "stream",
     "text": [
      "\tNo UPCs found on UPC_Item_DB.\n",
      "\tUpdated:  NaN\n",
      "\tUpdated:  NaN\n",
      "Searching product:  Halyard Health 28809  on UPC_Item_DB\n"
     ]
    },
    {
     "name": "stderr",
     "output_type": "stream",
     "text": [
      "D:\\Software\\anaconda3\\lib\\site-packages\\urllib3\\connectionpool.py:988: InsecureRequestWarning: Unverified HTTPS request is being made to host 'www.upcitemdb.com'. Adding certificate verification is strongly advised. See: https://urllib3.readthedocs.io/en/latest/advanced-usage.html#ssl-warnings\n",
      "  InsecureRequestWarning,\n"
     ]
    },
    {
     "name": "stdout",
     "output_type": "stream",
     "text": [
      "\tNo UPCs found on UPC_Item_DB.\n",
      "\tUpdated:  NaN\n",
      "\tUpdated:  NaN\n",
      "Searching product:  Halyard Health 62114  on UPC_Item_DB\n"
     ]
    },
    {
     "name": "stderr",
     "output_type": "stream",
     "text": [
      "D:\\Software\\anaconda3\\lib\\site-packages\\urllib3\\connectionpool.py:988: InsecureRequestWarning: Unverified HTTPS request is being made to host 'www.upcitemdb.com'. Adding certificate verification is strongly advised. See: https://urllib3.readthedocs.io/en/latest/advanced-usage.html#ssl-warnings\n",
      "  InsecureRequestWarning,\n"
     ]
    },
    {
     "name": "stdout",
     "output_type": "stream",
     "text": [
      "\tProduct found!\n",
      "\tChecking UPC:  645015908554\n"
     ]
    },
    {
     "name": "stderr",
     "output_type": "stream",
     "text": [
      "D:\\Software\\anaconda3\\lib\\site-packages\\urllib3\\connectionpool.py:988: InsecureRequestWarning: Unverified HTTPS request is being made to host 'www.upcitemdb.com'. Adding certificate verification is strongly advised. See: https://urllib3.readthedocs.io/en/latest/advanced-usage.html#ssl-warnings\n",
      "  InsecureRequestWarning,\n"
     ]
    },
    {
     "name": "stdout",
     "output_type": "stream",
     "text": [
      "\tnot relevant\n",
      "\tUpdated:  NaN\n",
      "\tUpdated:  NaN\n",
      "Searching product:  Halyard Health 28808  on UPC_Item_DB\n"
     ]
    },
    {
     "name": "stderr",
     "output_type": "stream",
     "text": [
      "D:\\Software\\anaconda3\\lib\\site-packages\\urllib3\\connectionpool.py:988: InsecureRequestWarning: Unverified HTTPS request is being made to host 'www.upcitemdb.com'. Adding certificate verification is strongly advised. See: https://urllib3.readthedocs.io/en/latest/advanced-usage.html#ssl-warnings\n",
      "  InsecureRequestWarning,\n"
     ]
    },
    {
     "name": "stdout",
     "output_type": "stream",
     "text": [
      "\tProduct found!\n",
      "\tChecking UPC:  713049529561\n"
     ]
    },
    {
     "name": "stderr",
     "output_type": "stream",
     "text": [
      "D:\\Software\\anaconda3\\lib\\site-packages\\urllib3\\connectionpool.py:988: InsecureRequestWarning: Unverified HTTPS request is being made to host 'www.upcitemdb.com'. Adding certificate verification is strongly advised. See: https://urllib3.readthedocs.io/en/latest/advanced-usage.html#ssl-warnings\n",
      "  InsecureRequestWarning,\n"
     ]
    },
    {
     "name": "stdout",
     "output_type": "stream",
     "text": [
      "\tnot relevant\n",
      "\tUpdated:  NaN\n",
      "\tUpdated:  NaN\n",
      "Searching product:  Halyard Health 62113  on UPC_Item_DB\n"
     ]
    },
    {
     "name": "stderr",
     "output_type": "stream",
     "text": [
      "D:\\Software\\anaconda3\\lib\\site-packages\\urllib3\\connectionpool.py:988: InsecureRequestWarning: Unverified HTTPS request is being made to host 'www.upcitemdb.com'. Adding certificate verification is strongly advised. See: https://urllib3.readthedocs.io/en/latest/advanced-usage.html#ssl-warnings\n",
      "  InsecureRequestWarning,\n"
     ]
    },
    {
     "name": "stdout",
     "output_type": "stream",
     "text": [
      "\tNo UPCs found on UPC_Item_DB.\n",
      "\tUpdated:  NaN\n",
      "\tUpdated:  NaN\n",
      "Searching product:  Halyard Health 28806  on UPC_Item_DB\n"
     ]
    },
    {
     "name": "stderr",
     "output_type": "stream",
     "text": [
      "D:\\Software\\anaconda3\\lib\\site-packages\\urllib3\\connectionpool.py:988: InsecureRequestWarning: Unverified HTTPS request is being made to host 'www.upcitemdb.com'. Adding certificate verification is strongly advised. See: https://urllib3.readthedocs.io/en/latest/advanced-usage.html#ssl-warnings\n",
      "  InsecureRequestWarning,\n"
     ]
    },
    {
     "name": "stdout",
     "output_type": "stream",
     "text": [
      "\tProduct found!\n",
      "\tChecking UPC:  713049529530\n"
     ]
    },
    {
     "name": "stderr",
     "output_type": "stream",
     "text": [
      "D:\\Software\\anaconda3\\lib\\site-packages\\urllib3\\connectionpool.py:988: InsecureRequestWarning: Unverified HTTPS request is being made to host 'www.upcitemdb.com'. Adding certificate verification is strongly advised. See: https://urllib3.readthedocs.io/en/latest/advanced-usage.html#ssl-warnings\n",
      "  InsecureRequestWarning,\n"
     ]
    },
    {
     "name": "stdout",
     "output_type": "stream",
     "text": [
      "\tnot relevant\n",
      "\tUpdated:  NaN\n",
      "\tUpdated:  NaN\n",
      "Searching product:  Halyard Health 41805  on UPC_Item_DB\n"
     ]
    },
    {
     "name": "stderr",
     "output_type": "stream",
     "text": [
      "D:\\Software\\anaconda3\\lib\\site-packages\\urllib3\\connectionpool.py:988: InsecureRequestWarning: Unverified HTTPS request is being made to host 'www.upcitemdb.com'. Adding certificate verification is strongly advised. See: https://urllib3.readthedocs.io/en/latest/advanced-usage.html#ssl-warnings\n",
      "  InsecureRequestWarning,\n"
     ]
    },
    {
     "name": "stdout",
     "output_type": "stream",
     "text": [
      "\tNo UPCs found on UPC_Item_DB.\n",
      "\tUpdated:  NaN\n",
      "\tUpdated:  NaN\n",
      "Searching product:  Halyard Health 49701  on UPC_Item_DB\n"
     ]
    },
    {
     "name": "stderr",
     "output_type": "stream",
     "text": [
      "D:\\Software\\anaconda3\\lib\\site-packages\\urllib3\\connectionpool.py:988: InsecureRequestWarning: Unverified HTTPS request is being made to host 'www.upcitemdb.com'. Adding certificate verification is strongly advised. See: https://urllib3.readthedocs.io/en/latest/advanced-usage.html#ssl-warnings\n",
      "  InsecureRequestWarning,\n"
     ]
    },
    {
     "name": "stdout",
     "output_type": "stream",
     "text": [
      "\tProduct found!\n",
      "\tChecking UPC:  607885864705\n"
     ]
    },
    {
     "name": "stderr",
     "output_type": "stream",
     "text": [
      "D:\\Software\\anaconda3\\lib\\site-packages\\urllib3\\connectionpool.py:988: InsecureRequestWarning: Unverified HTTPS request is being made to host 'www.upcitemdb.com'. Adding certificate verification is strongly advised. See: https://urllib3.readthedocs.io/en/latest/advanced-usage.html#ssl-warnings\n",
      "  InsecureRequestWarning,\n"
     ]
    },
    {
     "name": "stdout",
     "output_type": "stream",
     "text": [
      "\tnot relevant\n",
      "\tUpdated:  NaN\n",
      "\tUpdated:  NaN\n",
      "Searching product:  Halyard Health 48210  on UPC_Item_DB\n"
     ]
    },
    {
     "name": "stderr",
     "output_type": "stream",
     "text": [
      "D:\\Software\\anaconda3\\lib\\site-packages\\urllib3\\connectionpool.py:988: InsecureRequestWarning: Unverified HTTPS request is being made to host 'www.upcitemdb.com'. Adding certificate verification is strongly advised. See: https://urllib3.readthedocs.io/en/latest/advanced-usage.html#ssl-warnings\n",
      "  InsecureRequestWarning,\n"
     ]
    },
    {
     "name": "stdout",
     "output_type": "stream",
     "text": [
      "\tNo UPCs found on UPC_Item_DB.\n",
      "\tUpdated:  NaN\n",
      "\tUpdated:  NaN\n",
      "Searching product:  Halyard Health 48296  on UPC_Item_DB\n"
     ]
    },
    {
     "name": "stderr",
     "output_type": "stream",
     "text": [
      "D:\\Software\\anaconda3\\lib\\site-packages\\urllib3\\connectionpool.py:988: InsecureRequestWarning: Unverified HTTPS request is being made to host 'www.upcitemdb.com'. Adding certificate verification is strongly advised. See: https://urllib3.readthedocs.io/en/latest/advanced-usage.html#ssl-warnings\n",
      "  InsecureRequestWarning,\n"
     ]
    },
    {
     "name": "stdout",
     "output_type": "stream",
     "text": [
      "\tNo UPCs found on UPC_Item_DB.\n",
      "\tUpdated:  NaN\n",
      "\tUpdated:  NaN\n",
      "Searching product:  Halyard Health 48390  on UPC_Item_DB\n"
     ]
    },
    {
     "name": "stderr",
     "output_type": "stream",
     "text": [
      "D:\\Software\\anaconda3\\lib\\site-packages\\urllib3\\connectionpool.py:988: InsecureRequestWarning: Unverified HTTPS request is being made to host 'www.upcitemdb.com'. Adding certificate verification is strongly advised. See: https://urllib3.readthedocs.io/en/latest/advanced-usage.html#ssl-warnings\n",
      "  InsecureRequestWarning,\n"
     ]
    },
    {
     "name": "stdout",
     "output_type": "stream",
     "text": [
      "\tNo UPCs found on UPC_Item_DB.\n",
      "\tUpdated:  NaN\n",
      "\tUpdated:  NaN\n",
      "Searching product:  Halyard Health 48201  on UPC_Item_DB\n"
     ]
    },
    {
     "name": "stderr",
     "output_type": "stream",
     "text": [
      "D:\\Software\\anaconda3\\lib\\site-packages\\urllib3\\connectionpool.py:988: InsecureRequestWarning: Unverified HTTPS request is being made to host 'www.upcitemdb.com'. Adding certificate verification is strongly advised. See: https://urllib3.readthedocs.io/en/latest/advanced-usage.html#ssl-warnings\n",
      "  InsecureRequestWarning,\n"
     ]
    },
    {
     "name": "stdout",
     "output_type": "stream",
     "text": [
      "\tProduct found!\n",
      "\tChecking UPC:  649664943928\n"
     ]
    },
    {
     "name": "stderr",
     "output_type": "stream",
     "text": [
      "D:\\Software\\anaconda3\\lib\\site-packages\\urllib3\\connectionpool.py:988: InsecureRequestWarning: Unverified HTTPS request is being made to host 'www.upcitemdb.com'. Adding certificate verification is strongly advised. See: https://urllib3.readthedocs.io/en/latest/advanced-usage.html#ssl-warnings\n",
      "  InsecureRequestWarning,\n"
     ]
    },
    {
     "name": "stdout",
     "output_type": "stream",
     "text": [
      "\tnot relevant\n",
      "\tUpdated:  NaN\n",
      "\tUpdated:  NaN\n",
      "Searching product:  Halyard Health 59928  on UPC_Item_DB\n"
     ]
    },
    {
     "name": "stderr",
     "output_type": "stream",
     "text": [
      "D:\\Software\\anaconda3\\lib\\site-packages\\urllib3\\connectionpool.py:988: InsecureRequestWarning: Unverified HTTPS request is being made to host 'www.upcitemdb.com'. Adding certificate verification is strongly advised. See: https://urllib3.readthedocs.io/en/latest/advanced-usage.html#ssl-warnings\n",
      "  InsecureRequestWarning,\n"
     ]
    },
    {
     "name": "stdout",
     "output_type": "stream",
     "text": [
      "\tNo UPCs found on UPC_Item_DB.\n",
      "\tUpdated:  NaN\n",
      "\tUpdated:  NaN\n",
      "Searching product:  Halyard Health 49310  on UPC_Item_DB\n"
     ]
    },
    {
     "name": "stderr",
     "output_type": "stream",
     "text": [
      "D:\\Software\\anaconda3\\lib\\site-packages\\urllib3\\connectionpool.py:988: InsecureRequestWarning: Unverified HTTPS request is being made to host 'www.upcitemdb.com'. Adding certificate verification is strongly advised. See: https://urllib3.readthedocs.io/en/latest/advanced-usage.html#ssl-warnings\n",
      "  InsecureRequestWarning,\n"
     ]
    },
    {
     "name": "stdout",
     "output_type": "stream",
     "text": [
      "\tProduct found!\n",
      "\tChecking UPC:  645015908561\n"
     ]
    },
    {
     "name": "stderr",
     "output_type": "stream",
     "text": [
      "D:\\Software\\anaconda3\\lib\\site-packages\\urllib3\\connectionpool.py:988: InsecureRequestWarning: Unverified HTTPS request is being made to host 'www.upcitemdb.com'. Adding certificate verification is strongly advised. See: https://urllib3.readthedocs.io/en/latest/advanced-usage.html#ssl-warnings\n",
      "  InsecureRequestWarning,\n"
     ]
    },
    {
     "name": "stdout",
     "output_type": "stream",
     "text": [
      "\tnot relevant\n",
      "\tUpdated:  NaN\n",
      "\tUpdated:  NaN\n",
      "Searching product:  Halyard Health 49214  on UPC_Item_DB\n"
     ]
    },
    {
     "name": "stderr",
     "output_type": "stream",
     "text": [
      "D:\\Software\\anaconda3\\lib\\site-packages\\urllib3\\connectionpool.py:988: InsecureRequestWarning: Unverified HTTPS request is being made to host 'www.upcitemdb.com'. Adding certificate verification is strongly advised. See: https://urllib3.readthedocs.io/en/latest/advanced-usage.html#ssl-warnings\n",
      "  InsecureRequestWarning,\n"
     ]
    },
    {
     "name": "stdout",
     "output_type": "stream",
     "text": [
      "\tNo UPCs found on UPC_Item_DB.\n",
      "\tUpdated:  NaN\n",
      "\tUpdated:  NaN\n",
      "Searching product:  Halyard Health 47650  on UPC_Item_DB\n"
     ]
    },
    {
     "name": "stderr",
     "output_type": "stream",
     "text": [
      "D:\\Software\\anaconda3\\lib\\site-packages\\urllib3\\connectionpool.py:988: InsecureRequestWarning: Unverified HTTPS request is being made to host 'www.upcitemdb.com'. Adding certificate verification is strongly advised. See: https://urllib3.readthedocs.io/en/latest/advanced-usage.html#ssl-warnings\n",
      "  InsecureRequestWarning,\n"
     ]
    },
    {
     "name": "stdout",
     "output_type": "stream",
     "text": [
      "\tNo UPCs found on UPC_Item_DB.\n",
      "\tUpdated:  NaN\n",
      "\tUpdated:  NaN\n",
      "Searching product:  Halyard Health 47625  on UPC_Item_DB\n"
     ]
    },
    {
     "name": "stderr",
     "output_type": "stream",
     "text": [
      "D:\\Software\\anaconda3\\lib\\site-packages\\urllib3\\connectionpool.py:988: InsecureRequestWarning: Unverified HTTPS request is being made to host 'www.upcitemdb.com'. Adding certificate verification is strongly advised. See: https://urllib3.readthedocs.io/en/latest/advanced-usage.html#ssl-warnings\n",
      "  InsecureRequestWarning,\n"
     ]
    },
    {
     "name": "stdout",
     "output_type": "stream",
     "text": [
      "\tNo UPCs found on UPC_Item_DB.\n",
      "\tUpdated:  NaN\n",
      "\tUpdated:  NaN\n",
      "Searching product:  Halyard Health 49235  on UPC_Item_DB\n"
     ]
    },
    {
     "name": "stderr",
     "output_type": "stream",
     "text": [
      "D:\\Software\\anaconda3\\lib\\site-packages\\urllib3\\connectionpool.py:988: InsecureRequestWarning: Unverified HTTPS request is being made to host 'www.upcitemdb.com'. Adding certificate verification is strongly advised. See: https://urllib3.readthedocs.io/en/latest/advanced-usage.html#ssl-warnings\n",
      "  InsecureRequestWarning,\n"
     ]
    },
    {
     "name": "stdout",
     "output_type": "stream",
     "text": [
      "\tNo UPCs found on UPC_Item_DB.\n",
      "\tUpdated:  NaN\n",
      "\tUpdated:  NaN\n",
      "Searching product:  Halyard Health 49215  on UPC_Item_DB\n"
     ]
    },
    {
     "name": "stderr",
     "output_type": "stream",
     "text": [
      "D:\\Software\\anaconda3\\lib\\site-packages\\urllib3\\connectionpool.py:988: InsecureRequestWarning: Unverified HTTPS request is being made to host 'www.upcitemdb.com'. Adding certificate verification is strongly advised. See: https://urllib3.readthedocs.io/en/latest/advanced-usage.html#ssl-warnings\n",
      "  InsecureRequestWarning,\n"
     ]
    },
    {
     "name": "stdout",
     "output_type": "stream",
     "text": [
      "\tProduct found!\n",
      "\tChecking UPC:  649664943935\n"
     ]
    },
    {
     "name": "stderr",
     "output_type": "stream",
     "text": [
      "D:\\Software\\anaconda3\\lib\\site-packages\\urllib3\\connectionpool.py:988: InsecureRequestWarning: Unverified HTTPS request is being made to host 'www.upcitemdb.com'. Adding certificate verification is strongly advised. See: https://urllib3.readthedocs.io/en/latest/advanced-usage.html#ssl-warnings\n",
      "  InsecureRequestWarning,\n"
     ]
    },
    {
     "name": "stdout",
     "output_type": "stream",
     "text": [
      "\tnot relevant\n",
      "\tChecking UPC:  637813407803\n"
     ]
    },
    {
     "name": "stderr",
     "output_type": "stream",
     "text": [
      "D:\\Software\\anaconda3\\lib\\site-packages\\urllib3\\connectionpool.py:988: InsecureRequestWarning: Unverified HTTPS request is being made to host 'www.upcitemdb.com'. Adding certificate verification is strongly advised. See: https://urllib3.readthedocs.io/en/latest/advanced-usage.html#ssl-warnings\n",
      "  InsecureRequestWarning,\n"
     ]
    },
    {
     "name": "stdout",
     "output_type": "stream",
     "text": [
      "\tcase links found:  4\n",
      "\tUpdated:  637813407803\n",
      "\tUpdated:  NaN\n",
      "Searching product:  Halyard Health 47500  on UPC_Item_DB\n"
     ]
    },
    {
     "name": "stderr",
     "output_type": "stream",
     "text": [
      "D:\\Software\\anaconda3\\lib\\site-packages\\urllib3\\connectionpool.py:988: InsecureRequestWarning: Unverified HTTPS request is being made to host 'www.upcitemdb.com'. Adding certificate verification is strongly advised. See: https://urllib3.readthedocs.io/en/latest/advanced-usage.html#ssl-warnings\n",
      "  InsecureRequestWarning,\n"
     ]
    },
    {
     "name": "stdout",
     "output_type": "stream",
     "text": [
      "\tProduct found!\n",
      "\tChecking UPC:  968767116580\n"
     ]
    },
    {
     "name": "stderr",
     "output_type": "stream",
     "text": [
      "D:\\Software\\anaconda3\\lib\\site-packages\\urllib3\\connectionpool.py:988: InsecureRequestWarning: Unverified HTTPS request is being made to host 'www.upcitemdb.com'. Adding certificate verification is strongly advised. See: https://urllib3.readthedocs.io/en/latest/advanced-usage.html#ssl-warnings\n",
      "  InsecureRequestWarning,\n"
     ]
    },
    {
     "name": "stdout",
     "output_type": "stream",
     "text": [
      "\tnot relevant\n",
      "\tUpdated:  NaN\n",
      "\tUpdated:  NaN\n",
      "Searching product:  Halyard Health 48105  on UPC_Item_DB\n"
     ]
    },
    {
     "name": "stderr",
     "output_type": "stream",
     "text": [
      "D:\\Software\\anaconda3\\lib\\site-packages\\urllib3\\connectionpool.py:988: InsecureRequestWarning: Unverified HTTPS request is being made to host 'www.upcitemdb.com'. Adding certificate verification is strongly advised. See: https://urllib3.readthedocs.io/en/latest/advanced-usage.html#ssl-warnings\n",
      "  InsecureRequestWarning,\n"
     ]
    },
    {
     "name": "stdout",
     "output_type": "stream",
     "text": [
      "\tNo UPCs found on UPC_Item_DB.\n",
      "\tUpdated:  NaN\n",
      "\tUpdated:  NaN\n",
      "Searching product:  Halyard Health 62367  on UPC_Item_DB\n"
     ]
    },
    {
     "name": "stderr",
     "output_type": "stream",
     "text": [
      "D:\\Software\\anaconda3\\lib\\site-packages\\urllib3\\connectionpool.py:988: InsecureRequestWarning: Unverified HTTPS request is being made to host 'www.upcitemdb.com'. Adding certificate verification is strongly advised. See: https://urllib3.readthedocs.io/en/latest/advanced-usage.html#ssl-warnings\n",
      "  InsecureRequestWarning,\n"
     ]
    },
    {
     "name": "stdout",
     "output_type": "stream",
     "text": [
      "\tNo UPCs found on UPC_Item_DB.\n",
      "\tUpdated:  NaN\n",
      "\tUpdated:  NaN\n",
      "Searching product:  Halyard Health 48100  on UPC_Item_DB\n"
     ]
    },
    {
     "name": "stderr",
     "output_type": "stream",
     "text": [
      "D:\\Software\\anaconda3\\lib\\site-packages\\urllib3\\connectionpool.py:988: InsecureRequestWarning: Unverified HTTPS request is being made to host 'www.upcitemdb.com'. Adding certificate verification is strongly advised. See: https://urllib3.readthedocs.io/en/latest/advanced-usage.html#ssl-warnings\n",
      "  InsecureRequestWarning,\n"
     ]
    },
    {
     "name": "stdout",
     "output_type": "stream",
     "text": [
      "\tNo UPCs found on UPC_Item_DB.\n",
      "\tUpdated:  NaN\n",
      "\tUpdated:  NaN\n",
      "Searching product:  Halyard Health 62126  on UPC_Item_DB\n"
     ]
    },
    {
     "name": "stderr",
     "output_type": "stream",
     "text": [
      "D:\\Software\\anaconda3\\lib\\site-packages\\urllib3\\connectionpool.py:988: InsecureRequestWarning: Unverified HTTPS request is being made to host 'www.upcitemdb.com'. Adding certificate verification is strongly advised. See: https://urllib3.readthedocs.io/en/latest/advanced-usage.html#ssl-warnings\n",
      "  InsecureRequestWarning,\n"
     ]
    },
    {
     "name": "stdout",
     "output_type": "stream",
     "text": [
      "\tProduct found!\n",
      "\tChecking UPC:  713145686465\n"
     ]
    },
    {
     "name": "stderr",
     "output_type": "stream",
     "text": [
      "D:\\Software\\anaconda3\\lib\\site-packages\\urllib3\\connectionpool.py:988: InsecureRequestWarning: Unverified HTTPS request is being made to host 'www.upcitemdb.com'. Adding certificate verification is strongly advised. See: https://urllib3.readthedocs.io/en/latest/advanced-usage.html#ssl-warnings\n",
      "  InsecureRequestWarning,\n"
     ]
    },
    {
     "name": "stdout",
     "output_type": "stream",
     "text": [
      "\tnot relevant\n",
      "\tUpdated:  NaN\n",
      "\tUpdated:  NaN\n",
      "Searching product:  Halyard Health 62355  on UPC_Item_DB\n"
     ]
    },
    {
     "name": "stderr",
     "output_type": "stream",
     "text": [
      "D:\\Software\\anaconda3\\lib\\site-packages\\urllib3\\connectionpool.py:988: InsecureRequestWarning: Unverified HTTPS request is being made to host 'www.upcitemdb.com'. Adding certificate verification is strongly advised. See: https://urllib3.readthedocs.io/en/latest/advanced-usage.html#ssl-warnings\n",
      "  InsecureRequestWarning,\n"
     ]
    },
    {
     "name": "stdout",
     "output_type": "stream",
     "text": [
      "\tNo UPCs found on UPC_Item_DB.\n",
      "\tUpdated:  NaN\n",
      "\tUpdated:  NaN\n",
      "Searching product:  Halyard Health 46828  on UPC_Item_DB\n"
     ]
    },
    {
     "name": "stderr",
     "output_type": "stream",
     "text": [
      "D:\\Software\\anaconda3\\lib\\site-packages\\urllib3\\connectionpool.py:988: InsecureRequestWarning: Unverified HTTPS request is being made to host 'www.upcitemdb.com'. Adding certificate verification is strongly advised. See: https://urllib3.readthedocs.io/en/latest/advanced-usage.html#ssl-warnings\n",
      "  InsecureRequestWarning,\n"
     ]
    },
    {
     "name": "stdout",
     "output_type": "stream",
     "text": [
      "\tNo UPCs found on UPC_Item_DB.\n",
      "\tUpdated:  NaN\n",
      "\tUpdated:  NaN\n",
      "Searching product:  Halyard Health 46728  on UPC_Item_DB\n"
     ]
    },
    {
     "name": "stderr",
     "output_type": "stream",
     "text": [
      "D:\\Software\\anaconda3\\lib\\site-packages\\urllib3\\connectionpool.py:988: InsecureRequestWarning: Unverified HTTPS request is being made to host 'www.upcitemdb.com'. Adding certificate verification is strongly advised. See: https://urllib3.readthedocs.io/en/latest/advanced-usage.html#ssl-warnings\n",
      "  InsecureRequestWarning,\n"
     ]
    },
    {
     "name": "stdout",
     "output_type": "stream",
     "text": [
      "\tNo UPCs found on UPC_Item_DB.\n",
      "\tUpdated:  NaN\n",
      "\tUpdated:  NaN\n",
      "Searching product:  Halyard Health 46827  on UPC_Item_DB\n"
     ]
    },
    {
     "name": "stderr",
     "output_type": "stream",
     "text": [
      "D:\\Software\\anaconda3\\lib\\site-packages\\urllib3\\connectionpool.py:988: InsecureRequestWarning: Unverified HTTPS request is being made to host 'www.upcitemdb.com'. Adding certificate verification is strongly advised. See: https://urllib3.readthedocs.io/en/latest/advanced-usage.html#ssl-warnings\n",
      "  InsecureRequestWarning,\n"
     ]
    },
    {
     "name": "stdout",
     "output_type": "stream",
     "text": [
      "\tProduct found!\n",
      "\tChecking UPC:  696584130037\n"
     ]
    },
    {
     "name": "stderr",
     "output_type": "stream",
     "text": [
      "D:\\Software\\anaconda3\\lib\\site-packages\\urllib3\\connectionpool.py:988: InsecureRequestWarning: Unverified HTTPS request is being made to host 'www.upcitemdb.com'. Adding certificate verification is strongly advised. See: https://urllib3.readthedocs.io/en/latest/advanced-usage.html#ssl-warnings\n",
      "  InsecureRequestWarning,\n"
     ]
    },
    {
     "name": "stdout",
     "output_type": "stream",
     "text": [
      "\tnot relevant\n",
      "\tUpdated:  NaN\n",
      "\tUpdated:  NaN\n",
      "Searching product:  Halyard Health 46727  on UPC_Item_DB\n"
     ]
    },
    {
     "name": "stderr",
     "output_type": "stream",
     "text": [
      "D:\\Software\\anaconda3\\lib\\site-packages\\urllib3\\connectionpool.py:988: InsecureRequestWarning: Unverified HTTPS request is being made to host 'www.upcitemdb.com'. Adding certificate verification is strongly advised. See: https://urllib3.readthedocs.io/en/latest/advanced-usage.html#ssl-warnings\n",
      "  InsecureRequestWarning,\n"
     ]
    },
    {
     "name": "stdout",
     "output_type": "stream",
     "text": [
      "\tProduct found!\n",
      "\tChecking UPC:  692618638456\n"
     ]
    },
    {
     "name": "stderr",
     "output_type": "stream",
     "text": [
      "D:\\Software\\anaconda3\\lib\\site-packages\\urllib3\\connectionpool.py:988: InsecureRequestWarning: Unverified HTTPS request is being made to host 'www.upcitemdb.com'. Adding certificate verification is strongly advised. See: https://urllib3.readthedocs.io/en/latest/advanced-usage.html#ssl-warnings\n",
      "  InsecureRequestWarning,\n"
     ]
    },
    {
     "name": "stdout",
     "output_type": "stream",
     "text": [
      "\tnot relevant\n",
      "\tChecking UPC:  696584132536\n"
     ]
    },
    {
     "name": "stderr",
     "output_type": "stream",
     "text": [
      "D:\\Software\\anaconda3\\lib\\site-packages\\urllib3\\connectionpool.py:988: InsecureRequestWarning: Unverified HTTPS request is being made to host 'www.upcitemdb.com'. Adding certificate verification is strongly advised. See: https://urllib3.readthedocs.io/en/latest/advanced-usage.html#ssl-warnings\n",
      "  InsecureRequestWarning,\n"
     ]
    },
    {
     "name": "stdout",
     "output_type": "stream",
     "text": [
      "\tnot relevant\n",
      "\tChecking UPC:  696577501776\n"
     ]
    },
    {
     "name": "stderr",
     "output_type": "stream",
     "text": [
      "D:\\Software\\anaconda3\\lib\\site-packages\\urllib3\\connectionpool.py:988: InsecureRequestWarning: Unverified HTTPS request is being made to host 'www.upcitemdb.com'. Adding certificate verification is strongly advised. See: https://urllib3.readthedocs.io/en/latest/advanced-usage.html#ssl-warnings\n",
      "  InsecureRequestWarning,\n"
     ]
    },
    {
     "name": "stdout",
     "output_type": "stream",
     "text": [
      "\tnot relevant\n",
      "\tUpdated:  NaN\n",
      "\tUpdated:  NaN\n",
      "Searching product:  Halyard Health 46867  on UPC_Item_DB\n"
     ]
    },
    {
     "name": "stderr",
     "output_type": "stream",
     "text": [
      "D:\\Software\\anaconda3\\lib\\site-packages\\urllib3\\connectionpool.py:988: InsecureRequestWarning: Unverified HTTPS request is being made to host 'www.upcitemdb.com'. Adding certificate verification is strongly advised. See: https://urllib3.readthedocs.io/en/latest/advanced-usage.html#ssl-warnings\n",
      "  InsecureRequestWarning,\n"
     ]
    },
    {
     "name": "stdout",
     "output_type": "stream",
     "text": [
      "\tProduct found!\n",
      "\tChecking UPC:  713145686458\n"
     ]
    },
    {
     "name": "stderr",
     "output_type": "stream",
     "text": [
      "D:\\Software\\anaconda3\\lib\\site-packages\\urllib3\\connectionpool.py:988: InsecureRequestWarning: Unverified HTTPS request is being made to host 'www.upcitemdb.com'. Adding certificate verification is strongly advised. See: https://urllib3.readthedocs.io/en/latest/advanced-usage.html#ssl-warnings\n",
      "  InsecureRequestWarning,\n"
     ]
    },
    {
     "name": "stdout",
     "output_type": "stream",
     "text": [
      "\tnot relevant\n",
      "\tUpdated:  NaN\n",
      "\tUpdated:  NaN\n",
      "Searching product:  Halyard Health 46767  on UPC_Item_DB\n"
     ]
    },
    {
     "name": "stderr",
     "output_type": "stream",
     "text": [
      "D:\\Software\\anaconda3\\lib\\site-packages\\urllib3\\connectionpool.py:988: InsecureRequestWarning: Unverified HTTPS request is being made to host 'www.upcitemdb.com'. Adding certificate verification is strongly advised. See: https://urllib3.readthedocs.io/en/latest/advanced-usage.html#ssl-warnings\n",
      "  InsecureRequestWarning,\n"
     ]
    },
    {
     "name": "stdout",
     "output_type": "stream",
     "text": [
      "\tNo UPCs found on UPC_Item_DB.\n",
      "\tUpdated:  NaN\n",
      "\tUpdated:  NaN\n",
      "Searching product:  Halyard Health 37525  on UPC_Item_DB\n"
     ]
    },
    {
     "name": "stderr",
     "output_type": "stream",
     "text": [
      "D:\\Software\\anaconda3\\lib\\site-packages\\urllib3\\connectionpool.py:988: InsecureRequestWarning: Unverified HTTPS request is being made to host 'www.upcitemdb.com'. Adding certificate verification is strongly advised. See: https://urllib3.readthedocs.io/en/latest/advanced-usage.html#ssl-warnings\n",
      "  InsecureRequestWarning,\n"
     ]
    },
    {
     "name": "stdout",
     "output_type": "stream",
     "text": [
      "\tNo UPCs found on UPC_Item_DB.\n",
      "\tUpdated:  NaN\n",
      "\tUpdated:  NaN\n",
      "Searching product:  Halyard Health 48220  on UPC_Item_DB\n"
     ]
    },
    {
     "name": "stderr",
     "output_type": "stream",
     "text": [
      "D:\\Software\\anaconda3\\lib\\site-packages\\urllib3\\connectionpool.py:988: InsecureRequestWarning: Unverified HTTPS request is being made to host 'www.upcitemdb.com'. Adding certificate verification is strongly advised. See: https://urllib3.readthedocs.io/en/latest/advanced-usage.html#ssl-warnings\n",
      "  InsecureRequestWarning,\n"
     ]
    },
    {
     "name": "stdout",
     "output_type": "stream",
     "text": [
      "\tNo UPCs found on UPC_Item_DB.\n",
      "\tUpdated:  NaN\n",
      "\tUpdated:  NaN\n",
      "Searching product:  Halyard Health 49216  on UPC_Item_DB\n"
     ]
    },
    {
     "name": "stderr",
     "output_type": "stream",
     "text": [
      "D:\\Software\\anaconda3\\lib\\site-packages\\urllib3\\connectionpool.py:988: InsecureRequestWarning: Unverified HTTPS request is being made to host 'www.upcitemdb.com'. Adding certificate verification is strongly advised. See: https://urllib3.readthedocs.io/en/latest/advanced-usage.html#ssl-warnings\n",
      "  InsecureRequestWarning,\n"
     ]
    },
    {
     "name": "stdout",
     "output_type": "stream",
     "text": [
      "\tNo UPCs found on UPC_Item_DB.\n",
      "\tUpdated:  NaN\n",
      "\tUpdated:  NaN\n",
      "Searching product:  Halyard Health 32856  on UPC_Item_DB\n"
     ]
    },
    {
     "name": "stderr",
     "output_type": "stream",
     "text": [
      "D:\\Software\\anaconda3\\lib\\site-packages\\urllib3\\connectionpool.py:988: InsecureRequestWarning: Unverified HTTPS request is being made to host 'www.upcitemdb.com'. Adding certificate verification is strongly advised. See: https://urllib3.readthedocs.io/en/latest/advanced-usage.html#ssl-warnings\n",
      "  InsecureRequestWarning,\n"
     ]
    },
    {
     "name": "stdout",
     "output_type": "stream",
     "text": [
      "\tProduct found!\n",
      "\tChecking UPC:  713049529660\n"
     ]
    },
    {
     "name": "stderr",
     "output_type": "stream",
     "text": [
      "D:\\Software\\anaconda3\\lib\\site-packages\\urllib3\\connectionpool.py:988: InsecureRequestWarning: Unverified HTTPS request is being made to host 'www.upcitemdb.com'. Adding certificate verification is strongly advised. See: https://urllib3.readthedocs.io/en/latest/advanced-usage.html#ssl-warnings\n",
      "  InsecureRequestWarning,\n"
     ]
    },
    {
     "name": "stdout",
     "output_type": "stream",
     "text": [
      "\tcase links found:  4\n",
      "\tUpdated:  713049529660\n",
      "\tUpdated:  NaN\n",
      "Searching product:  Halyard Health 41204  on UPC_Item_DB\n"
     ]
    },
    {
     "name": "stderr",
     "output_type": "stream",
     "text": [
      "D:\\Software\\anaconda3\\lib\\site-packages\\urllib3\\connectionpool.py:988: InsecureRequestWarning: Unverified HTTPS request is being made to host 'www.upcitemdb.com'. Adding certificate verification is strongly advised. See: https://urllib3.readthedocs.io/en/latest/advanced-usage.html#ssl-warnings\n",
      "  InsecureRequestWarning,\n"
     ]
    },
    {
     "name": "stdout",
     "output_type": "stream",
     "text": [
      "\tNo UPCs found on UPC_Item_DB.\n",
      "\tUpdated:  NaN\n",
      "\tUpdated:  NaN\n",
      "Searching product:  Halyard Health 41205  on UPC_Item_DB\n"
     ]
    },
    {
     "name": "stderr",
     "output_type": "stream",
     "text": [
      "D:\\Software\\anaconda3\\lib\\site-packages\\urllib3\\connectionpool.py:988: InsecureRequestWarning: Unverified HTTPS request is being made to host 'www.upcitemdb.com'. Adding certificate verification is strongly advised. See: https://urllib3.readthedocs.io/en/latest/advanced-usage.html#ssl-warnings\n",
      "  InsecureRequestWarning,\n"
     ]
    },
    {
     "name": "stdout",
     "output_type": "stream",
     "text": [
      "\tProduct found!\n",
      "\tChecking UPC:  713145686496\n"
     ]
    },
    {
     "name": "stderr",
     "output_type": "stream",
     "text": [
      "D:\\Software\\anaconda3\\lib\\site-packages\\urllib3\\connectionpool.py:988: InsecureRequestWarning: Unverified HTTPS request is being made to host 'www.upcitemdb.com'. Adding certificate verification is strongly advised. See: https://urllib3.readthedocs.io/en/latest/advanced-usage.html#ssl-warnings\n",
      "  InsecureRequestWarning,\n"
     ]
    },
    {
     "name": "stdout",
     "output_type": "stream",
     "text": [
      "\tcase links found:  2\n",
      "\tUpdated:  713145686496\n",
      "\tUpdated:  NaN\n",
      "Searching product:  Halyard Health SV50A  on UPC_Item_DB\n"
     ]
    },
    {
     "name": "stderr",
     "output_type": "stream",
     "text": [
      "D:\\Software\\anaconda3\\lib\\site-packages\\urllib3\\connectionpool.py:988: InsecureRequestWarning: Unverified HTTPS request is being made to host 'www.upcitemdb.com'. Adding certificate verification is strongly advised. See: https://urllib3.readthedocs.io/en/latest/advanced-usage.html#ssl-warnings\n",
      "  InsecureRequestWarning,\n"
     ]
    },
    {
     "name": "stdout",
     "output_type": "stream",
     "text": [
      "\tNo UPCs found on UPC_Item_DB.\n",
      "\tUpdated:  NaN\n",
      "\tUpdated:  NaN\n",
      "Searching product:  Halyard Health SV100F  on UPC_Item_DB\n"
     ]
    },
    {
     "name": "stderr",
     "output_type": "stream",
     "text": [
      "D:\\Software\\anaconda3\\lib\\site-packages\\urllib3\\connectionpool.py:988: InsecureRequestWarning: Unverified HTTPS request is being made to host 'www.upcitemdb.com'. Adding certificate verification is strongly advised. See: https://urllib3.readthedocs.io/en/latest/advanced-usage.html#ssl-warnings\n",
      "  InsecureRequestWarning,\n"
     ]
    },
    {
     "name": "stdout",
     "output_type": "stream",
     "text": [
      "\tProduct found!\n",
      "\tChecking UPC:  30680651500022\n"
     ]
    },
    {
     "name": "stderr",
     "output_type": "stream",
     "text": [
      "D:\\Software\\anaconda3\\lib\\site-packages\\urllib3\\connectionpool.py:988: InsecureRequestWarning: Unverified HTTPS request is being made to host 'www.upcitemdb.com'. Adding certificate verification is strongly advised. See: https://urllib3.readthedocs.io/en/latest/advanced-usage.html#ssl-warnings\n",
      "  InsecureRequestWarning,\n"
     ]
    },
    {
     "name": "stdout",
     "output_type": "stream",
     "text": [
      "\tnot relevant\n",
      "\tUpdated:  NaN\n",
      "\tUpdated:  NaN\n",
      "Searching product:  Halyard Health SV250L  on UPC_Item_DB\n"
     ]
    },
    {
     "name": "stderr",
     "output_type": "stream",
     "text": [
      "D:\\Software\\anaconda3\\lib\\site-packages\\urllib3\\connectionpool.py:988: InsecureRequestWarning: Unverified HTTPS request is being made to host 'www.upcitemdb.com'. Adding certificate verification is strongly advised. See: https://urllib3.readthedocs.io/en/latest/advanced-usage.html#ssl-warnings\n",
      "  InsecureRequestWarning,\n"
     ]
    },
    {
     "name": "stdout",
     "output_type": "stream",
     "text": [
      "\tNo UPCs found on UPC_Item_DB.\n",
      "\tUpdated:  NaN\n",
      "\tUpdated:  NaN\n",
      "Searching product:  Halyard Health 39124  on UPC_Item_DB\n"
     ]
    },
    {
     "name": "stderr",
     "output_type": "stream",
     "text": [
      "D:\\Software\\anaconda3\\lib\\site-packages\\urllib3\\connectionpool.py:988: InsecureRequestWarning: Unverified HTTPS request is being made to host 'www.upcitemdb.com'. Adding certificate verification is strongly advised. See: https://urllib3.readthedocs.io/en/latest/advanced-usage.html#ssl-warnings\n",
      "  InsecureRequestWarning,\n"
     ]
    },
    {
     "name": "stdout",
     "output_type": "stream",
     "text": [
      "\tNo UPCs found on UPC_Item_DB.\n",
      "\tUpdated:  NaN\n",
      "\tUpdated:  NaN\n",
      "Searching product:  Halyard Health 99181  on UPC_Item_DB\n"
     ]
    },
    {
     "name": "stderr",
     "output_type": "stream",
     "text": [
      "D:\\Software\\anaconda3\\lib\\site-packages\\urllib3\\connectionpool.py:988: InsecureRequestWarning: Unverified HTTPS request is being made to host 'www.upcitemdb.com'. Adding certificate verification is strongly advised. See: https://urllib3.readthedocs.io/en/latest/advanced-usage.html#ssl-warnings\n",
      "  InsecureRequestWarning,\n"
     ]
    },
    {
     "name": "stdout",
     "output_type": "stream",
     "text": [
      "\tNo UPCs found on UPC_Item_DB.\n",
      "\tUpdated:  NaN\n",
      "\tUpdated:  NaN\n",
      "Searching product:  Halyard Health 99175  on UPC_Item_DB\n"
     ]
    },
    {
     "name": "stderr",
     "output_type": "stream",
     "text": [
      "D:\\Software\\anaconda3\\lib\\site-packages\\urllib3\\connectionpool.py:988: InsecureRequestWarning: Unverified HTTPS request is being made to host 'www.upcitemdb.com'. Adding certificate verification is strongly advised. See: https://urllib3.readthedocs.io/en/latest/advanced-usage.html#ssl-warnings\n",
      "  InsecureRequestWarning,\n"
     ]
    },
    {
     "name": "stdout",
     "output_type": "stream",
     "text": [
      "\tNo UPCs found on UPC_Item_DB.\n",
      "\tUpdated:  NaN\n",
      "\tUpdated:  NaN\n",
      "Searching product:  Halyard Health 99184  on UPC_Item_DB\n"
     ]
    },
    {
     "name": "stderr",
     "output_type": "stream",
     "text": [
      "D:\\Software\\anaconda3\\lib\\site-packages\\urllib3\\connectionpool.py:988: InsecureRequestWarning: Unverified HTTPS request is being made to host 'www.upcitemdb.com'. Adding certificate verification is strongly advised. See: https://urllib3.readthedocs.io/en/latest/advanced-usage.html#ssl-warnings\n",
      "  InsecureRequestWarning,\n"
     ]
    },
    {
     "name": "stdout",
     "output_type": "stream",
     "text": [
      "\tNo UPCs found on UPC_Item_DB.\n",
      "\tUpdated:  NaN\n",
      "\tUpdated:  NaN\n",
      "Searching product:  Halyard Health 99178  on UPC_Item_DB\n"
     ]
    },
    {
     "name": "stderr",
     "output_type": "stream",
     "text": [
      "D:\\Software\\anaconda3\\lib\\site-packages\\urllib3\\connectionpool.py:988: InsecureRequestWarning: Unverified HTTPS request is being made to host 'www.upcitemdb.com'. Adding certificate verification is strongly advised. See: https://urllib3.readthedocs.io/en/latest/advanced-usage.html#ssl-warnings\n",
      "  InsecureRequestWarning,\n"
     ]
    },
    {
     "name": "stdout",
     "output_type": "stream",
     "text": [
      "\tNo UPCs found on UPC_Item_DB.\n",
      "\tUpdated:  NaN\n",
      "\tUpdated:  NaN\n",
      "Searching product:  Halyard Health 47950  on UPC_Item_DB\n"
     ]
    },
    {
     "name": "stderr",
     "output_type": "stream",
     "text": [
      "D:\\Software\\anaconda3\\lib\\site-packages\\urllib3\\connectionpool.py:988: InsecureRequestWarning: Unverified HTTPS request is being made to host 'www.upcitemdb.com'. Adding certificate verification is strongly advised. See: https://urllib3.readthedocs.io/en/latest/advanced-usage.html#ssl-warnings\n",
      "  InsecureRequestWarning,\n"
     ]
    },
    {
     "name": "stdout",
     "output_type": "stream",
     "text": [
      "\tNo UPCs found on UPC_Item_DB.\n",
      "\tUpdated:  NaN\n",
      "\tUpdated:  NaN\n",
      "Searching product:  Halyard Health 99003  on UPC_Item_DB\n"
     ]
    },
    {
     "name": "stderr",
     "output_type": "stream",
     "text": [
      "D:\\Software\\anaconda3\\lib\\site-packages\\urllib3\\connectionpool.py:988: InsecureRequestWarning: Unverified HTTPS request is being made to host 'www.upcitemdb.com'. Adding certificate verification is strongly advised. See: https://urllib3.readthedocs.io/en/latest/advanced-usage.html#ssl-warnings\n",
      "  InsecureRequestWarning,\n"
     ]
    },
    {
     "name": "stdout",
     "output_type": "stream",
     "text": [
      "\tNo UPCs found on UPC_Item_DB.\n",
      "\tUpdated:  NaN\n",
      "\tUpdated:  NaN\n",
      "Searching product:  Halyard Health 99009  on UPC_Item_DB\n"
     ]
    },
    {
     "name": "stderr",
     "output_type": "stream",
     "text": [
      "D:\\Software\\anaconda3\\lib\\site-packages\\urllib3\\connectionpool.py:988: InsecureRequestWarning: Unverified HTTPS request is being made to host 'www.upcitemdb.com'. Adding certificate verification is strongly advised. See: https://urllib3.readthedocs.io/en/latest/advanced-usage.html#ssl-warnings\n",
      "  InsecureRequestWarning,\n"
     ]
    },
    {
     "name": "stdout",
     "output_type": "stream",
     "text": [
      "\tNo UPCs found on UPC_Item_DB.\n",
      "\tUpdated:  NaN\n",
      "\tUpdated:  NaN\n",
      "Searching product:  Halyard Health 99018  on UPC_Item_DB\n"
     ]
    },
    {
     "name": "stderr",
     "output_type": "stream",
     "text": [
      "D:\\Software\\anaconda3\\lib\\site-packages\\urllib3\\connectionpool.py:988: InsecureRequestWarning: Unverified HTTPS request is being made to host 'www.upcitemdb.com'. Adding certificate verification is strongly advised. See: https://urllib3.readthedocs.io/en/latest/advanced-usage.html#ssl-warnings\n",
      "  InsecureRequestWarning,\n"
     ]
    },
    {
     "name": "stdout",
     "output_type": "stream",
     "text": [
      "\tNo UPCs found on UPC_Item_DB.\n",
      "\tUpdated:  NaN\n",
      "\tUpdated:  NaN\n",
      "Searching product:  Halyard Health 99010  on UPC_Item_DB\n"
     ]
    },
    {
     "name": "stderr",
     "output_type": "stream",
     "text": [
      "D:\\Software\\anaconda3\\lib\\site-packages\\urllib3\\connectionpool.py:988: InsecureRequestWarning: Unverified HTTPS request is being made to host 'www.upcitemdb.com'. Adding certificate verification is strongly advised. See: https://urllib3.readthedocs.io/en/latest/advanced-usage.html#ssl-warnings\n",
      "  InsecureRequestWarning,\n"
     ]
    },
    {
     "name": "stdout",
     "output_type": "stream",
     "text": [
      "\tNo UPCs found on UPC_Item_DB.\n",
      "\tUpdated:  NaN\n",
      "\tUpdated:  NaN\n",
      "Searching product:  Halyard Health 99015  on UPC_Item_DB\n"
     ]
    },
    {
     "name": "stderr",
     "output_type": "stream",
     "text": [
      "D:\\Software\\anaconda3\\lib\\site-packages\\urllib3\\connectionpool.py:988: InsecureRequestWarning: Unverified HTTPS request is being made to host 'www.upcitemdb.com'. Adding certificate verification is strongly advised. See: https://urllib3.readthedocs.io/en/latest/advanced-usage.html#ssl-warnings\n",
      "  InsecureRequestWarning,\n"
     ]
    },
    {
     "name": "stdout",
     "output_type": "stream",
     "text": [
      "\tNo UPCs found on UPC_Item_DB.\n",
      "\tUpdated:  NaN\n",
      "\tUpdated:  NaN\n",
      "Searching product:  Halyard Health 69766  on UPC_Item_DB\n"
     ]
    },
    {
     "name": "stderr",
     "output_type": "stream",
     "text": [
      "D:\\Software\\anaconda3\\lib\\site-packages\\urllib3\\connectionpool.py:988: InsecureRequestWarning: Unverified HTTPS request is being made to host 'www.upcitemdb.com'. Adding certificate verification is strongly advised. See: https://urllib3.readthedocs.io/en/latest/advanced-usage.html#ssl-warnings\n",
      "  InsecureRequestWarning,\n"
     ]
    },
    {
     "name": "stdout",
     "output_type": "stream",
     "text": [
      "\tNo UPCs found on UPC_Item_DB.\n",
      "\tUpdated:  NaN\n",
      "\tUpdated:  NaN\n",
      "Searching product:  Halyard Health 79002  on UPC_Item_DB\n"
     ]
    },
    {
     "name": "stderr",
     "output_type": "stream",
     "text": [
      "D:\\Software\\anaconda3\\lib\\site-packages\\urllib3\\connectionpool.py:988: InsecureRequestWarning: Unverified HTTPS request is being made to host 'www.upcitemdb.com'. Adding certificate verification is strongly advised. See: https://urllib3.readthedocs.io/en/latest/advanced-usage.html#ssl-warnings\n",
      "  InsecureRequestWarning,\n"
     ]
    },
    {
     "name": "stdout",
     "output_type": "stream",
     "text": [
      "\tNo UPCs found on UPC_Item_DB.\n",
      "\tUpdated:  NaN\n",
      "\tUpdated:  NaN\n",
      "Searching product:  Halyard Health 90947  on UPC_Item_DB\n"
     ]
    },
    {
     "name": "stderr",
     "output_type": "stream",
     "text": [
      "D:\\Software\\anaconda3\\lib\\site-packages\\urllib3\\connectionpool.py:988: InsecureRequestWarning: Unverified HTTPS request is being made to host 'www.upcitemdb.com'. Adding certificate verification is strongly advised. See: https://urllib3.readthedocs.io/en/latest/advanced-usage.html#ssl-warnings\n",
      "  InsecureRequestWarning,\n"
     ]
    },
    {
     "name": "stdout",
     "output_type": "stream",
     "text": [
      "\tNo UPCs found on UPC_Item_DB.\n",
      "\tUpdated:  NaN\n",
      "\tUpdated:  NaN\n",
      "Searching product:  Halyard Health 90963  on UPC_Item_DB\n"
     ]
    },
    {
     "name": "stderr",
     "output_type": "stream",
     "text": [
      "D:\\Software\\anaconda3\\lib\\site-packages\\urllib3\\connectionpool.py:988: InsecureRequestWarning: Unverified HTTPS request is being made to host 'www.upcitemdb.com'. Adding certificate verification is strongly advised. See: https://urllib3.readthedocs.io/en/latest/advanced-usage.html#ssl-warnings\n",
      "  InsecureRequestWarning,\n"
     ]
    },
    {
     "name": "stdout",
     "output_type": "stream",
     "text": [
      "\tNo UPCs found on UPC_Item_DB.\n",
      "\tUpdated:  NaN\n",
      "\tUpdated:  NaN\n",
      "Searching product:  Halyard Health 54100  on UPC_Item_DB\n"
     ]
    },
    {
     "name": "stderr",
     "output_type": "stream",
     "text": [
      "D:\\Software\\anaconda3\\lib\\site-packages\\urllib3\\connectionpool.py:988: InsecureRequestWarning: Unverified HTTPS request is being made to host 'www.upcitemdb.com'. Adding certificate verification is strongly advised. See: https://urllib3.readthedocs.io/en/latest/advanced-usage.html#ssl-warnings\n",
      "  InsecureRequestWarning,\n"
     ]
    },
    {
     "name": "stdout",
     "output_type": "stream",
     "text": [
      "\tProduct found!\n",
      "\tChecking UPC:  607885865344\n"
     ]
    },
    {
     "name": "stderr",
     "output_type": "stream",
     "text": [
      "D:\\Software\\anaconda3\\lib\\site-packages\\urllib3\\connectionpool.py:988: InsecureRequestWarning: Unverified HTTPS request is being made to host 'www.upcitemdb.com'. Adding certificate verification is strongly advised. See: https://urllib3.readthedocs.io/en/latest/advanced-usage.html#ssl-warnings\n",
      "  InsecureRequestWarning,\n"
     ]
    },
    {
     "name": "stdout",
     "output_type": "stream",
     "text": [
      "\tcase links found:  1\n",
      "\tUpdated:  607885865344\n",
      "\tUpdated:  NaN\n",
      "Searching product:  Halyard Health 54101  on UPC_Item_DB\n"
     ]
    },
    {
     "name": "stderr",
     "output_type": "stream",
     "text": [
      "D:\\Software\\anaconda3\\lib\\site-packages\\urllib3\\connectionpool.py:988: InsecureRequestWarning: Unverified HTTPS request is being made to host 'www.upcitemdb.com'. Adding certificate verification is strongly advised. See: https://urllib3.readthedocs.io/en/latest/advanced-usage.html#ssl-warnings\n",
      "  InsecureRequestWarning,\n"
     ]
    },
    {
     "name": "stdout",
     "output_type": "stream",
     "text": [
      "\tProduct found!\n",
      "\tChecking UPC:  607885865351\n"
     ]
    },
    {
     "name": "stderr",
     "output_type": "stream",
     "text": [
      "D:\\Software\\anaconda3\\lib\\site-packages\\urllib3\\connectionpool.py:988: InsecureRequestWarning: Unverified HTTPS request is being made to host 'www.upcitemdb.com'. Adding certificate verification is strongly advised. See: https://urllib3.readthedocs.io/en/latest/advanced-usage.html#ssl-warnings\n",
      "  InsecureRequestWarning,\n"
     ]
    },
    {
     "name": "stdout",
     "output_type": "stream",
     "text": [
      "\tcase links found:  1\n",
      "\tUpdated:  607885865351\n",
      "\tUpdated:  NaN\n",
      "Searching product:  Halyard Health 54110  on UPC_Item_DB\n"
     ]
    },
    {
     "name": "stderr",
     "output_type": "stream",
     "text": [
      "D:\\Software\\anaconda3\\lib\\site-packages\\urllib3\\connectionpool.py:988: InsecureRequestWarning: Unverified HTTPS request is being made to host 'www.upcitemdb.com'. Adding certificate verification is strongly advised. See: https://urllib3.readthedocs.io/en/latest/advanced-usage.html#ssl-warnings\n",
      "  InsecureRequestWarning,\n"
     ]
    },
    {
     "name": "stdout",
     "output_type": "stream",
     "text": [
      "\tProduct found!\n",
      "\tChecking UPC:  607885865368\n"
     ]
    },
    {
     "name": "stderr",
     "output_type": "stream",
     "text": [
      "D:\\Software\\anaconda3\\lib\\site-packages\\urllib3\\connectionpool.py:988: InsecureRequestWarning: Unverified HTTPS request is being made to host 'www.upcitemdb.com'. Adding certificate verification is strongly advised. See: https://urllib3.readthedocs.io/en/latest/advanced-usage.html#ssl-warnings\n",
      "  InsecureRequestWarning,\n"
     ]
    },
    {
     "name": "stdout",
     "output_type": "stream",
     "text": [
      "\tcase links found:  1\n",
      "\tUpdated:  607885865368\n",
      "\tUpdated:  NaN\n",
      "Searching product:  Halyard Health 54111  on UPC_Item_DB\n"
     ]
    },
    {
     "name": "stderr",
     "output_type": "stream",
     "text": [
      "D:\\Software\\anaconda3\\lib\\site-packages\\urllib3\\connectionpool.py:988: InsecureRequestWarning: Unverified HTTPS request is being made to host 'www.upcitemdb.com'. Adding certificate verification is strongly advised. See: https://urllib3.readthedocs.io/en/latest/advanced-usage.html#ssl-warnings\n",
      "  InsecureRequestWarning,\n"
     ]
    },
    {
     "name": "stdout",
     "output_type": "stream",
     "text": [
      "\tNo UPCs found on UPC_Item_DB.\n",
      "\tUpdated:  NaN\n",
      "\tUpdated:  NaN\n",
      "Searching product:  Halyard Health 46946  on UPC_Item_DB\n"
     ]
    },
    {
     "name": "stderr",
     "output_type": "stream",
     "text": [
      "D:\\Software\\anaconda3\\lib\\site-packages\\urllib3\\connectionpool.py:988: InsecureRequestWarning: Unverified HTTPS request is being made to host 'www.upcitemdb.com'. Adding certificate verification is strongly advised. See: https://urllib3.readthedocs.io/en/latest/advanced-usage.html#ssl-warnings\n",
      "  InsecureRequestWarning,\n"
     ]
    },
    {
     "name": "stdout",
     "output_type": "stream",
     "text": [
      "\tNo UPCs found on UPC_Item_DB.\n",
      "\tUpdated:  NaN\n",
      "\tUpdated:  NaN\n",
      "Searching product:  Halyard Health 46947  on UPC_Item_DB\n"
     ]
    },
    {
     "name": "stderr",
     "output_type": "stream",
     "text": [
      "D:\\Software\\anaconda3\\lib\\site-packages\\urllib3\\connectionpool.py:988: InsecureRequestWarning: Unverified HTTPS request is being made to host 'www.upcitemdb.com'. Adding certificate verification is strongly advised. See: https://urllib3.readthedocs.io/en/latest/advanced-usage.html#ssl-warnings\n",
      "  InsecureRequestWarning,\n"
     ]
    },
    {
     "name": "stdout",
     "output_type": "stream",
     "text": [
      "\tNo UPCs found on UPC_Item_DB.\n",
      "\tUpdated:  NaN\n",
      "\tUpdated:  NaN\n",
      "Searching product:  Halyard Health 69105  on UPC_Item_DB\n"
     ]
    },
    {
     "name": "stderr",
     "output_type": "stream",
     "text": [
      "D:\\Software\\anaconda3\\lib\\site-packages\\urllib3\\connectionpool.py:988: InsecureRequestWarning: Unverified HTTPS request is being made to host 'www.upcitemdb.com'. Adding certificate verification is strongly advised. See: https://urllib3.readthedocs.io/en/latest/advanced-usage.html#ssl-warnings\n",
      "  InsecureRequestWarning,\n"
     ]
    },
    {
     "name": "stdout",
     "output_type": "stream",
     "text": [
      "\tNo UPCs found on UPC_Item_DB.\n",
      "\tUpdated:  NaN\n",
      "\tUpdated:  NaN\n",
      "Searching product:  Halyard Health 69106  on UPC_Item_DB\n"
     ]
    },
    {
     "name": "stderr",
     "output_type": "stream",
     "text": [
      "D:\\Software\\anaconda3\\lib\\site-packages\\urllib3\\connectionpool.py:988: InsecureRequestWarning: Unverified HTTPS request is being made to host 'www.upcitemdb.com'. Adding certificate verification is strongly advised. See: https://urllib3.readthedocs.io/en/latest/advanced-usage.html#ssl-warnings\n",
      "  InsecureRequestWarning,\n"
     ]
    },
    {
     "name": "stdout",
     "output_type": "stream",
     "text": [
      "\tNo UPCs found on UPC_Item_DB.\n",
      "\tUpdated:  NaN\n",
      "\tUpdated:  NaN\n",
      "Searching product:  Halyard Health 44715  on UPC_Item_DB\n"
     ]
    },
    {
     "name": "stderr",
     "output_type": "stream",
     "text": [
      "D:\\Software\\anaconda3\\lib\\site-packages\\urllib3\\connectionpool.py:988: InsecureRequestWarning: Unverified HTTPS request is being made to host 'www.upcitemdb.com'. Adding certificate verification is strongly advised. See: https://urllib3.readthedocs.io/en/latest/advanced-usage.html#ssl-warnings\n",
      "  InsecureRequestWarning,\n"
     ]
    },
    {
     "name": "stdout",
     "output_type": "stream",
     "text": [
      "\tNo UPCs found on UPC_Item_DB.\n",
      "\tUpdated:  NaN\n",
      "\tUpdated:  NaN\n",
      "Searching product:  Halyard Health 44717  on UPC_Item_DB\n"
     ]
    },
    {
     "name": "stderr",
     "output_type": "stream",
     "text": [
      "D:\\Software\\anaconda3\\lib\\site-packages\\urllib3\\connectionpool.py:988: InsecureRequestWarning: Unverified HTTPS request is being made to host 'www.upcitemdb.com'. Adding certificate verification is strongly advised. See: https://urllib3.readthedocs.io/en/latest/advanced-usage.html#ssl-warnings\n",
      "  InsecureRequestWarning,\n"
     ]
    },
    {
     "name": "stdout",
     "output_type": "stream",
     "text": [
      "\tNo UPCs found on UPC_Item_DB.\n",
      "\tUpdated:  NaN\n",
      "\tUpdated:  NaN\n",
      "Searching product:  Halyard Health 44719  on UPC_Item_DB\n"
     ]
    },
    {
     "name": "stderr",
     "output_type": "stream",
     "text": [
      "D:\\Software\\anaconda3\\lib\\site-packages\\urllib3\\connectionpool.py:988: InsecureRequestWarning: Unverified HTTPS request is being made to host 'www.upcitemdb.com'. Adding certificate verification is strongly advised. See: https://urllib3.readthedocs.io/en/latest/advanced-usage.html#ssl-warnings\n",
      "  InsecureRequestWarning,\n"
     ]
    },
    {
     "name": "stdout",
     "output_type": "stream",
     "text": [
      "\tNo UPCs found on UPC_Item_DB.\n",
      "\tUpdated:  NaN\n",
      "\tUpdated:  NaN\n",
      "Searching product:  Halyard Health 43007  on UPC_Item_DB\n"
     ]
    },
    {
     "name": "stderr",
     "output_type": "stream",
     "text": [
      "D:\\Software\\anaconda3\\lib\\site-packages\\urllib3\\connectionpool.py:988: InsecureRequestWarning: Unverified HTTPS request is being made to host 'www.upcitemdb.com'. Adding certificate verification is strongly advised. See: https://urllib3.readthedocs.io/en/latest/advanced-usage.html#ssl-warnings\n",
      "  InsecureRequestWarning,\n"
     ]
    },
    {
     "name": "stdout",
     "output_type": "stream",
     "text": [
      "\tNo UPCs found on UPC_Item_DB.\n",
      "\tUpdated:  NaN\n",
      "\tUpdated:  NaN\n",
      "Searching product:  Halyard Health 43008  on UPC_Item_DB\n"
     ]
    },
    {
     "name": "stderr",
     "output_type": "stream",
     "text": [
      "D:\\Software\\anaconda3\\lib\\site-packages\\urllib3\\connectionpool.py:988: InsecureRequestWarning: Unverified HTTPS request is being made to host 'www.upcitemdb.com'. Adding certificate verification is strongly advised. See: https://urllib3.readthedocs.io/en/latest/advanced-usage.html#ssl-warnings\n",
      "  InsecureRequestWarning,\n"
     ]
    },
    {
     "name": "stdout",
     "output_type": "stream",
     "text": [
      "\tNo UPCs found on UPC_Item_DB.\n",
      "\tUpdated:  NaN\n",
      "\tUpdated:  NaN\n",
      "Searching product:  Halyard Health 43009  on UPC_Item_DB\n"
     ]
    },
    {
     "name": "stderr",
     "output_type": "stream",
     "text": [
      "D:\\Software\\anaconda3\\lib\\site-packages\\urllib3\\connectionpool.py:988: InsecureRequestWarning: Unverified HTTPS request is being made to host 'www.upcitemdb.com'. Adding certificate verification is strongly advised. See: https://urllib3.readthedocs.io/en/latest/advanced-usage.html#ssl-warnings\n",
      "  InsecureRequestWarning,\n"
     ]
    },
    {
     "name": "stdout",
     "output_type": "stream",
     "text": [
      "\tNo UPCs found on UPC_Item_DB.\n",
      "\tUpdated:  NaN\n",
      "\tUpdated:  NaN\n",
      "Searching product:  Halyard Health 47003  on UPC_Item_DB\n"
     ]
    },
    {
     "name": "stderr",
     "output_type": "stream",
     "text": [
      "D:\\Software\\anaconda3\\lib\\site-packages\\urllib3\\connectionpool.py:988: InsecureRequestWarning: Unverified HTTPS request is being made to host 'www.upcitemdb.com'. Adding certificate verification is strongly advised. See: https://urllib3.readthedocs.io/en/latest/advanced-usage.html#ssl-warnings\n",
      "  InsecureRequestWarning,\n"
     ]
    },
    {
     "name": "stdout",
     "output_type": "stream",
     "text": [
      "\tNo UPCs found on UPC_Item_DB.\n",
      "\tUpdated:  NaN\n",
      "\tUpdated:  NaN\n",
      "Searching product:  Halyard Health 47004  on UPC_Item_DB\n"
     ]
    },
    {
     "name": "stderr",
     "output_type": "stream",
     "text": [
      "D:\\Software\\anaconda3\\lib\\site-packages\\urllib3\\connectionpool.py:988: InsecureRequestWarning: Unverified HTTPS request is being made to host 'www.upcitemdb.com'. Adding certificate verification is strongly advised. See: https://urllib3.readthedocs.io/en/latest/advanced-usage.html#ssl-warnings\n",
      "  InsecureRequestWarning,\n"
     ]
    },
    {
     "name": "stdout",
     "output_type": "stream",
     "text": [
      "\tNo UPCs found on UPC_Item_DB.\n",
      "\tUpdated:  NaN\n",
      "\tUpdated:  NaN\n",
      "Searching product:  Halyard Health 32500  on UPC_Item_DB\n"
     ]
    },
    {
     "name": "stderr",
     "output_type": "stream",
     "text": [
      "D:\\Software\\anaconda3\\lib\\site-packages\\urllib3\\connectionpool.py:988: InsecureRequestWarning: Unverified HTTPS request is being made to host 'www.upcitemdb.com'. Adding certificate verification is strongly advised. See: https://urllib3.readthedocs.io/en/latest/advanced-usage.html#ssl-warnings\n",
      "  InsecureRequestWarning,\n"
     ]
    },
    {
     "name": "stdout",
     "output_type": "stream",
     "text": [
      "\tNo UPCs found on UPC_Item_DB.\n",
      "\tUpdated:  NaN\n",
      "\tUpdated:  NaN\n",
      "Searching product:  Halyard Health 32501  on UPC_Item_DB\n"
     ]
    },
    {
     "name": "stderr",
     "output_type": "stream",
     "text": [
      "D:\\Software\\anaconda3\\lib\\site-packages\\urllib3\\connectionpool.py:988: InsecureRequestWarning: Unverified HTTPS request is being made to host 'www.upcitemdb.com'. Adding certificate verification is strongly advised. See: https://urllib3.readthedocs.io/en/latest/advanced-usage.html#ssl-warnings\n",
      "  InsecureRequestWarning,\n"
     ]
    },
    {
     "name": "stdout",
     "output_type": "stream",
     "text": [
      "\tNo UPCs found on UPC_Item_DB.\n",
      "\tUpdated:  NaN\n",
      "\tUpdated:  NaN\n",
      "Searching product:  Halyard Health 32502  on UPC_Item_DB\n"
     ]
    },
    {
     "name": "stderr",
     "output_type": "stream",
     "text": [
      "D:\\Software\\anaconda3\\lib\\site-packages\\urllib3\\connectionpool.py:988: InsecureRequestWarning: Unverified HTTPS request is being made to host 'www.upcitemdb.com'. Adding certificate verification is strongly advised. See: https://urllib3.readthedocs.io/en/latest/advanced-usage.html#ssl-warnings\n",
      "  InsecureRequestWarning,\n"
     ]
    },
    {
     "name": "stdout",
     "output_type": "stream",
     "text": [
      "\tNo UPCs found on UPC_Item_DB.\n",
      "\tUpdated:  NaN\n",
      "\tUpdated:  NaN\n",
      "Searching product:  Halyard Health 32503  on UPC_Item_DB\n"
     ]
    },
    {
     "name": "stderr",
     "output_type": "stream",
     "text": [
      "D:\\Software\\anaconda3\\lib\\site-packages\\urllib3\\connectionpool.py:988: InsecureRequestWarning: Unverified HTTPS request is being made to host 'www.upcitemdb.com'. Adding certificate verification is strongly advised. See: https://urllib3.readthedocs.io/en/latest/advanced-usage.html#ssl-warnings\n",
      "  InsecureRequestWarning,\n"
     ]
    },
    {
     "name": "stdout",
     "output_type": "stream",
     "text": [
      "\tNo UPCs found on UPC_Item_DB.\n",
      "\tUpdated:  NaN\n",
      "\tUpdated:  NaN\n",
      "Searching product:  Halyard Health 47001  on UPC_Item_DB\n"
     ]
    },
    {
     "name": "stderr",
     "output_type": "stream",
     "text": [
      "D:\\Software\\anaconda3\\lib\\site-packages\\urllib3\\connectionpool.py:988: InsecureRequestWarning: Unverified HTTPS request is being made to host 'www.upcitemdb.com'. Adding certificate verification is strongly advised. See: https://urllib3.readthedocs.io/en/latest/advanced-usage.html#ssl-warnings\n",
      "  InsecureRequestWarning,\n"
     ]
    },
    {
     "name": "stdout",
     "output_type": "stream",
     "text": [
      "\tNo UPCs found on UPC_Item_DB.\n",
      "\tUpdated:  NaN\n",
      "\tUpdated:  NaN\n",
      "Searching product:  Halyard Health 47002  on UPC_Item_DB\n"
     ]
    },
    {
     "name": "stderr",
     "output_type": "stream",
     "text": [
      "D:\\Software\\anaconda3\\lib\\site-packages\\urllib3\\connectionpool.py:988: InsecureRequestWarning: Unverified HTTPS request is being made to host 'www.upcitemdb.com'. Adding certificate verification is strongly advised. See: https://urllib3.readthedocs.io/en/latest/advanced-usage.html#ssl-warnings\n",
      "  InsecureRequestWarning,\n"
     ]
    },
    {
     "name": "stdout",
     "output_type": "stream",
     "text": [
      "\tNo UPCs found on UPC_Item_DB.\n",
      "\tUpdated:  NaN\n",
      "\tUpdated:  NaN\n",
      "Searching product:  Halyard Health 69606  on UPC_Item_DB\n"
     ]
    },
    {
     "name": "stderr",
     "output_type": "stream",
     "text": [
      "D:\\Software\\anaconda3\\lib\\site-packages\\urllib3\\connectionpool.py:988: InsecureRequestWarning: Unverified HTTPS request is being made to host 'www.upcitemdb.com'. Adding certificate verification is strongly advised. See: https://urllib3.readthedocs.io/en/latest/advanced-usage.html#ssl-warnings\n",
      "  InsecureRequestWarning,\n"
     ]
    },
    {
     "name": "stdout",
     "output_type": "stream",
     "text": [
      "\tProduct found!\n",
      "\tChecking UPC:  607885865016\n"
     ]
    },
    {
     "name": "stderr",
     "output_type": "stream",
     "text": [
      "D:\\Software\\anaconda3\\lib\\site-packages\\urllib3\\connectionpool.py:988: InsecureRequestWarning: Unverified HTTPS request is being made to host 'www.upcitemdb.com'. Adding certificate verification is strongly advised. See: https://urllib3.readthedocs.io/en/latest/advanced-usage.html#ssl-warnings\n",
      "  InsecureRequestWarning,\n"
     ]
    },
    {
     "name": "stdout",
     "output_type": "stream",
     "text": [
      "\tnot relevant\n",
      "\tUpdated:  NaN\n",
      "\tUpdated:  NaN\n",
      "Searching product:  Halyard Health 37284  on UPC_Item_DB\n"
     ]
    },
    {
     "name": "stderr",
     "output_type": "stream",
     "text": [
      "D:\\Software\\anaconda3\\lib\\site-packages\\urllib3\\connectionpool.py:988: InsecureRequestWarning: Unverified HTTPS request is being made to host 'www.upcitemdb.com'. Adding certificate verification is strongly advised. See: https://urllib3.readthedocs.io/en/latest/advanced-usage.html#ssl-warnings\n",
      "  InsecureRequestWarning,\n"
     ]
    },
    {
     "name": "stdout",
     "output_type": "stream",
     "text": [
      "\tNo UPCs found on UPC_Item_DB.\n",
      "\tUpdated:  NaN\n",
      "\tUpdated:  NaN\n",
      "Searching product:  Halyard Health 35460  on UPC_Item_DB\n"
     ]
    },
    {
     "name": "stderr",
     "output_type": "stream",
     "text": [
      "D:\\Software\\anaconda3\\lib\\site-packages\\urllib3\\connectionpool.py:988: InsecureRequestWarning: Unverified HTTPS request is being made to host 'www.upcitemdb.com'. Adding certificate verification is strongly advised. See: https://urllib3.readthedocs.io/en/latest/advanced-usage.html#ssl-warnings\n",
      "  InsecureRequestWarning,\n"
     ]
    },
    {
     "name": "stdout",
     "output_type": "stream",
     "text": [
      "\tProduct found!\n",
      "\tChecking UPC:  713049529387\n"
     ]
    },
    {
     "name": "stderr",
     "output_type": "stream",
     "text": [
      "D:\\Software\\anaconda3\\lib\\site-packages\\urllib3\\connectionpool.py:988: InsecureRequestWarning: Unverified HTTPS request is being made to host 'www.upcitemdb.com'. Adding certificate verification is strongly advised. See: https://urllib3.readthedocs.io/en/latest/advanced-usage.html#ssl-warnings\n",
      "  InsecureRequestWarning,\n"
     ]
    },
    {
     "name": "stdout",
     "output_type": "stream",
     "text": [
      "\tcase links found:  1\n",
      "\tUpdated:  713049529387\n",
      "\tUpdated:  NaN\n",
      "Searching product:  Halyard Health 69979  on UPC_Item_DB\n"
     ]
    },
    {
     "name": "stderr",
     "output_type": "stream",
     "text": [
      "D:\\Software\\anaconda3\\lib\\site-packages\\urllib3\\connectionpool.py:988: InsecureRequestWarning: Unverified HTTPS request is being made to host 'www.upcitemdb.com'. Adding certificate verification is strongly advised. See: https://urllib3.readthedocs.io/en/latest/advanced-usage.html#ssl-warnings\n",
      "  InsecureRequestWarning,\n"
     ]
    },
    {
     "name": "stdout",
     "output_type": "stream",
     "text": [
      "\tNo UPCs found on UPC_Item_DB.\n",
      "\tUpdated:  NaN\n",
      "\tUpdated:  NaN\n",
      "Searching product:  Halyard Health 69981  on UPC_Item_DB\n"
     ]
    },
    {
     "name": "stderr",
     "output_type": "stream",
     "text": [
      "D:\\Software\\anaconda3\\lib\\site-packages\\urllib3\\connectionpool.py:988: InsecureRequestWarning: Unverified HTTPS request is being made to host 'www.upcitemdb.com'. Adding certificate verification is strongly advised. See: https://urllib3.readthedocs.io/en/latest/advanced-usage.html#ssl-warnings\n",
      "  InsecureRequestWarning,\n"
     ]
    },
    {
     "name": "stdout",
     "output_type": "stream",
     "text": [
      "\tNo UPCs found on UPC_Item_DB.\n",
      "\tUpdated:  NaN\n",
      "\tUpdated:  NaN\n",
      "Searching product:  Halyard Health 69986  on UPC_Item_DB\n"
     ]
    },
    {
     "name": "stderr",
     "output_type": "stream",
     "text": [
      "D:\\Software\\anaconda3\\lib\\site-packages\\urllib3\\connectionpool.py:988: InsecureRequestWarning: Unverified HTTPS request is being made to host 'www.upcitemdb.com'. Adding certificate verification is strongly advised. See: https://urllib3.readthedocs.io/en/latest/advanced-usage.html#ssl-warnings\n",
      "  InsecureRequestWarning,\n"
     ]
    },
    {
     "name": "stdout",
     "output_type": "stream",
     "text": [
      "\tProduct found!\n",
      "\tChecking UPC:  607885865436\n"
     ]
    },
    {
     "name": "stderr",
     "output_type": "stream",
     "text": [
      "D:\\Software\\anaconda3\\lib\\site-packages\\urllib3\\connectionpool.py:988: InsecureRequestWarning: Unverified HTTPS request is being made to host 'www.upcitemdb.com'. Adding certificate verification is strongly advised. See: https://urllib3.readthedocs.io/en/latest/advanced-usage.html#ssl-warnings\n",
      "  InsecureRequestWarning,\n"
     ]
    },
    {
     "name": "stdout",
     "output_type": "stream",
     "text": [
      "\tnot relevant\n",
      "\tUpdated:  NaN\n",
      "\tUpdated:  NaN\n",
      "Searching product:  Halyard Health 69987  on UPC_Item_DB\n"
     ]
    },
    {
     "name": "stderr",
     "output_type": "stream",
     "text": [
      "D:\\Software\\anaconda3\\lib\\site-packages\\urllib3\\connectionpool.py:988: InsecureRequestWarning: Unverified HTTPS request is being made to host 'www.upcitemdb.com'. Adding certificate verification is strongly advised. See: https://urllib3.readthedocs.io/en/latest/advanced-usage.html#ssl-warnings\n",
      "  InsecureRequestWarning,\n"
     ]
    },
    {
     "name": "stdout",
     "output_type": "stream",
     "text": [
      "\tNo UPCs found on UPC_Item_DB.\n",
      "\tUpdated:  NaN\n",
      "\tUpdated:  NaN\n",
      "Searching product:  Halyard Health 69988  on UPC_Item_DB\n"
     ]
    },
    {
     "name": "stderr",
     "output_type": "stream",
     "text": [
      "D:\\Software\\anaconda3\\lib\\site-packages\\urllib3\\connectionpool.py:988: InsecureRequestWarning: Unverified HTTPS request is being made to host 'www.upcitemdb.com'. Adding certificate verification is strongly advised. See: https://urllib3.readthedocs.io/en/latest/advanced-usage.html#ssl-warnings\n",
      "  InsecureRequestWarning,\n"
     ]
    },
    {
     "name": "stdout",
     "output_type": "stream",
     "text": [
      "\tProduct found!\n",
      "\tChecking UPC:  713145685758\n"
     ]
    },
    {
     "name": "stderr",
     "output_type": "stream",
     "text": [
      "D:\\Software\\anaconda3\\lib\\site-packages\\urllib3\\connectionpool.py:988: InsecureRequestWarning: Unverified HTTPS request is being made to host 'www.upcitemdb.com'. Adding certificate verification is strongly advised. See: https://urllib3.readthedocs.io/en/latest/advanced-usage.html#ssl-warnings\n",
      "  InsecureRequestWarning,\n"
     ]
    },
    {
     "name": "stdout",
     "output_type": "stream",
     "text": [
      "\tcase links found:  1\n",
      "\tUpdated:  713145685758\n",
      "\tUpdated:  NaN\n",
      "Searching product:  Halyard Health 69971  on UPC_Item_DB\n"
     ]
    },
    {
     "name": "stderr",
     "output_type": "stream",
     "text": [
      "D:\\Software\\anaconda3\\lib\\site-packages\\urllib3\\connectionpool.py:988: InsecureRequestWarning: Unverified HTTPS request is being made to host 'www.upcitemdb.com'. Adding certificate verification is strongly advised. See: https://urllib3.readthedocs.io/en/latest/advanced-usage.html#ssl-warnings\n",
      "  InsecureRequestWarning,\n"
     ]
    },
    {
     "name": "stdout",
     "output_type": "stream",
     "text": [
      "\tNo UPCs found on UPC_Item_DB.\n",
      "\tUpdated:  NaN\n",
      "\tUpdated:  NaN\n",
      "Searching product:  Halyard Health 37660  on UPC_Item_DB\n"
     ]
    },
    {
     "name": "stderr",
     "output_type": "stream",
     "text": [
      "D:\\Software\\anaconda3\\lib\\site-packages\\urllib3\\connectionpool.py:988: InsecureRequestWarning: Unverified HTTPS request is being made to host 'www.upcitemdb.com'. Adding certificate verification is strongly advised. See: https://urllib3.readthedocs.io/en/latest/advanced-usage.html#ssl-warnings\n",
      "  InsecureRequestWarning,\n"
     ]
    },
    {
     "name": "stdout",
     "output_type": "stream",
     "text": [
      "\tNo UPCs found on UPC_Item_DB.\n",
      "\tUpdated:  NaN\n",
      "\tUpdated:  NaN\n",
      "Searching product:  Halyard Health 37661  on UPC_Item_DB\n"
     ]
    },
    {
     "name": "stderr",
     "output_type": "stream",
     "text": [
      "D:\\Software\\anaconda3\\lib\\site-packages\\urllib3\\connectionpool.py:988: InsecureRequestWarning: Unverified HTTPS request is being made to host 'www.upcitemdb.com'. Adding certificate verification is strongly advised. See: https://urllib3.readthedocs.io/en/latest/advanced-usage.html#ssl-warnings\n",
      "  InsecureRequestWarning,\n"
     ]
    },
    {
     "name": "stdout",
     "output_type": "stream",
     "text": [
      "\tNo UPCs found on UPC_Item_DB.\n",
      "\tUpdated:  NaN\n",
      "\tUpdated:  NaN\n",
      "Searching product:  Halyard Health 43148  on UPC_Item_DB\n"
     ]
    },
    {
     "name": "stderr",
     "output_type": "stream",
     "text": [
      "D:\\Software\\anaconda3\\lib\\site-packages\\urllib3\\connectionpool.py:988: InsecureRequestWarning: Unverified HTTPS request is being made to host 'www.upcitemdb.com'. Adding certificate verification is strongly advised. See: https://urllib3.readthedocs.io/en/latest/advanced-usage.html#ssl-warnings\n",
      "  InsecureRequestWarning,\n"
     ]
    },
    {
     "name": "stdout",
     "output_type": "stream",
     "text": [
      "\tNo UPCs found on UPC_Item_DB.\n",
      "\tUpdated:  NaN\n",
      "\tUpdated:  NaN\n",
      "Searching product:  Halyard Health 43149  on UPC_Item_DB\n"
     ]
    },
    {
     "name": "stderr",
     "output_type": "stream",
     "text": [
      "D:\\Software\\anaconda3\\lib\\site-packages\\urllib3\\connectionpool.py:988: InsecureRequestWarning: Unverified HTTPS request is being made to host 'www.upcitemdb.com'. Adding certificate verification is strongly advised. See: https://urllib3.readthedocs.io/en/latest/advanced-usage.html#ssl-warnings\n",
      "  InsecureRequestWarning,\n"
     ]
    },
    {
     "name": "stdout",
     "output_type": "stream",
     "text": [
      "\tNo UPCs found on UPC_Item_DB.\n",
      "\tUpdated:  NaN\n",
      "\tUpdated:  NaN\n",
      "Searching product:  Halyard Health 43146  on UPC_Item_DB\n"
     ]
    },
    {
     "name": "stderr",
     "output_type": "stream",
     "text": [
      "D:\\Software\\anaconda3\\lib\\site-packages\\urllib3\\connectionpool.py:988: InsecureRequestWarning: Unverified HTTPS request is being made to host 'www.upcitemdb.com'. Adding certificate verification is strongly advised. See: https://urllib3.readthedocs.io/en/latest/advanced-usage.html#ssl-warnings\n",
      "  InsecureRequestWarning,\n"
     ]
    },
    {
     "name": "stdout",
     "output_type": "stream",
     "text": [
      "\tNo UPCs found on UPC_Item_DB.\n",
      "\tUpdated:  NaN\n",
      "\tUpdated:  NaN\n",
      "Searching product:  Halyard Health 43147  on UPC_Item_DB\n"
     ]
    },
    {
     "name": "stderr",
     "output_type": "stream",
     "text": [
      "D:\\Software\\anaconda3\\lib\\site-packages\\urllib3\\connectionpool.py:988: InsecureRequestWarning: Unverified HTTPS request is being made to host 'www.upcitemdb.com'. Adding certificate verification is strongly advised. See: https://urllib3.readthedocs.io/en/latest/advanced-usage.html#ssl-warnings\n",
      "  InsecureRequestWarning,\n"
     ]
    },
    {
     "name": "stdout",
     "output_type": "stream",
     "text": [
      "\tNo UPCs found on UPC_Item_DB.\n",
      "\tUpdated:  NaN\n",
      "\tUpdated:  NaN\n",
      "Searching product:  Halyard Health 54310  on UPC_Item_DB\n"
     ]
    },
    {
     "name": "stderr",
     "output_type": "stream",
     "text": [
      "D:\\Software\\anaconda3\\lib\\site-packages\\urllib3\\connectionpool.py:988: InsecureRequestWarning: Unverified HTTPS request is being made to host 'www.upcitemdb.com'. Adding certificate verification is strongly advised. See: https://urllib3.readthedocs.io/en/latest/advanced-usage.html#ssl-warnings\n",
      "  InsecureRequestWarning,\n"
     ]
    },
    {
     "name": "stdout",
     "output_type": "stream",
     "text": [
      "\tProduct found!\n",
      "\tChecking UPC:  607885865399\n"
     ]
    },
    {
     "name": "stderr",
     "output_type": "stream",
     "text": [
      "D:\\Software\\anaconda3\\lib\\site-packages\\urllib3\\connectionpool.py:988: InsecureRequestWarning: Unverified HTTPS request is being made to host 'www.upcitemdb.com'. Adding certificate verification is strongly advised. See: https://urllib3.readthedocs.io/en/latest/advanced-usage.html#ssl-warnings\n",
      "  InsecureRequestWarning,\n"
     ]
    },
    {
     "name": "stdout",
     "output_type": "stream",
     "text": [
      "\tcase links found:  1\n",
      "\tUpdated:  607885865399\n",
      "\tUpdated:  NaN\n",
      "Searching product:  Halyard Health 54311  on UPC_Item_DB\n"
     ]
    },
    {
     "name": "stderr",
     "output_type": "stream",
     "text": [
      "D:\\Software\\anaconda3\\lib\\site-packages\\urllib3\\connectionpool.py:988: InsecureRequestWarning: Unverified HTTPS request is being made to host 'www.upcitemdb.com'. Adding certificate verification is strongly advised. See: https://urllib3.readthedocs.io/en/latest/advanced-usage.html#ssl-warnings\n",
      "  InsecureRequestWarning,\n"
     ]
    },
    {
     "name": "stdout",
     "output_type": "stream",
     "text": [
      "\tNo UPCs found on UPC_Item_DB.\n",
      "\tUpdated:  NaN\n",
      "\tUpdated:  NaN\n",
      "Searching product:  Halyard Health 69124  on UPC_Item_DB\n"
     ]
    },
    {
     "name": "stderr",
     "output_type": "stream",
     "text": [
      "D:\\Software\\anaconda3\\lib\\site-packages\\urllib3\\connectionpool.py:988: InsecureRequestWarning: Unverified HTTPS request is being made to host 'www.upcitemdb.com'. Adding certificate verification is strongly advised. See: https://urllib3.readthedocs.io/en/latest/advanced-usage.html#ssl-warnings\n",
      "  InsecureRequestWarning,\n"
     ]
    },
    {
     "name": "stdout",
     "output_type": "stream",
     "text": [
      "\tProduct found!\n",
      "\tChecking UPC:  607885864576\n"
     ]
    },
    {
     "name": "stderr",
     "output_type": "stream",
     "text": [
      "D:\\Software\\anaconda3\\lib\\site-packages\\urllib3\\connectionpool.py:988: InsecureRequestWarning: Unverified HTTPS request is being made to host 'www.upcitemdb.com'. Adding certificate verification is strongly advised. See: https://urllib3.readthedocs.io/en/latest/advanced-usage.html#ssl-warnings\n",
      "  InsecureRequestWarning,\n"
     ]
    },
    {
     "name": "stdout",
     "output_type": "stream",
     "text": [
      "\tnot relevant\n",
      "\tUpdated:  NaN\n",
      "\tUpdated:  NaN\n",
      "Searching product:  Halyard Health 69125  on UPC_Item_DB\n"
     ]
    },
    {
     "name": "stderr",
     "output_type": "stream",
     "text": [
      "D:\\Software\\anaconda3\\lib\\site-packages\\urllib3\\connectionpool.py:988: InsecureRequestWarning: Unverified HTTPS request is being made to host 'www.upcitemdb.com'. Adding certificate verification is strongly advised. See: https://urllib3.readthedocs.io/en/latest/advanced-usage.html#ssl-warnings\n",
      "  InsecureRequestWarning,\n"
     ]
    },
    {
     "name": "stdout",
     "output_type": "stream",
     "text": [
      "\tProduct found!\n",
      "\tChecking UPC:  607885864583\n"
     ]
    },
    {
     "name": "stderr",
     "output_type": "stream",
     "text": [
      "D:\\Software\\anaconda3\\lib\\site-packages\\urllib3\\connectionpool.py:988: InsecureRequestWarning: Unverified HTTPS request is being made to host 'www.upcitemdb.com'. Adding certificate verification is strongly advised. See: https://urllib3.readthedocs.io/en/latest/advanced-usage.html#ssl-warnings\n",
      "  InsecureRequestWarning,\n"
     ]
    },
    {
     "name": "stdout",
     "output_type": "stream",
     "text": [
      "\tnot relevant\n",
      "\tUpdated:  NaN\n",
      "\tUpdated:  NaN\n",
      "Searching product:  Halyard Health 69127  on UPC_Item_DB\n"
     ]
    },
    {
     "name": "stderr",
     "output_type": "stream",
     "text": [
      "D:\\Software\\anaconda3\\lib\\site-packages\\urllib3\\connectionpool.py:988: InsecureRequestWarning: Unverified HTTPS request is being made to host 'www.upcitemdb.com'. Adding certificate verification is strongly advised. See: https://urllib3.readthedocs.io/en/latest/advanced-usage.html#ssl-warnings\n",
      "  InsecureRequestWarning,\n"
     ]
    },
    {
     "name": "stdout",
     "output_type": "stream",
     "text": [
      "\tProduct found!\n",
      "\tChecking UPC:  607885864590\n"
     ]
    },
    {
     "name": "stderr",
     "output_type": "stream",
     "text": [
      "D:\\Software\\anaconda3\\lib\\site-packages\\urllib3\\connectionpool.py:988: InsecureRequestWarning: Unverified HTTPS request is being made to host 'www.upcitemdb.com'. Adding certificate verification is strongly advised. See: https://urllib3.readthedocs.io/en/latest/advanced-usage.html#ssl-warnings\n",
      "  InsecureRequestWarning,\n"
     ]
    },
    {
     "name": "stdout",
     "output_type": "stream",
     "text": [
      "\tnot relevant\n",
      "\tUpdated:  NaN\n",
      "\tUpdated:  NaN\n",
      "Searching product:  Halyard Health 69129  on UPC_Item_DB\n"
     ]
    },
    {
     "name": "stderr",
     "output_type": "stream",
     "text": [
      "D:\\Software\\anaconda3\\lib\\site-packages\\urllib3\\connectionpool.py:988: InsecureRequestWarning: Unverified HTTPS request is being made to host 'www.upcitemdb.com'. Adding certificate verification is strongly advised. See: https://urllib3.readthedocs.io/en/latest/advanced-usage.html#ssl-warnings\n",
      "  InsecureRequestWarning,\n"
     ]
    },
    {
     "name": "stdout",
     "output_type": "stream",
     "text": [
      "\tNo UPCs found on UPC_Item_DB.\n",
      "\tUpdated:  NaN\n",
      "\tUpdated:  NaN\n",
      "Searching product:  Halyard Health 69455  on UPC_Item_DB\n"
     ]
    },
    {
     "name": "stderr",
     "output_type": "stream",
     "text": [
      "D:\\Software\\anaconda3\\lib\\site-packages\\urllib3\\connectionpool.py:988: InsecureRequestWarning: Unverified HTTPS request is being made to host 'www.upcitemdb.com'. Adding certificate verification is strongly advised. See: https://urllib3.readthedocs.io/en/latest/advanced-usage.html#ssl-warnings\n",
      "  InsecureRequestWarning,\n"
     ]
    },
    {
     "name": "stdout",
     "output_type": "stream",
     "text": [
      "\tProduct found!\n",
      "\tChecking UPC:  713145685826\n"
     ]
    },
    {
     "name": "stderr",
     "output_type": "stream",
     "text": [
      "D:\\Software\\anaconda3\\lib\\site-packages\\urllib3\\connectionpool.py:988: InsecureRequestWarning: Unverified HTTPS request is being made to host 'www.upcitemdb.com'. Adding certificate verification is strongly advised. See: https://urllib3.readthedocs.io/en/latest/advanced-usage.html#ssl-warnings\n",
      "  InsecureRequestWarning,\n"
     ]
    },
    {
     "name": "stdout",
     "output_type": "stream",
     "text": [
      "\tnot relevant\n",
      "\tUpdated:  NaN\n",
      "\tUpdated:  NaN\n",
      "Searching product:  Halyard Health 69316  on UPC_Item_DB\n"
     ]
    },
    {
     "name": "stderr",
     "output_type": "stream",
     "text": [
      "D:\\Software\\anaconda3\\lib\\site-packages\\urllib3\\connectionpool.py:988: InsecureRequestWarning: Unverified HTTPS request is being made to host 'www.upcitemdb.com'. Adding certificate verification is strongly advised. See: https://urllib3.readthedocs.io/en/latest/advanced-usage.html#ssl-warnings\n",
      "  InsecureRequestWarning,\n"
     ]
    },
    {
     "name": "stdout",
     "output_type": "stream",
     "text": [
      "\tNo UPCs found on UPC_Item_DB.\n",
      "\tUpdated:  NaN\n",
      "\tUpdated:  NaN\n",
      "Searching product:  Halyard Health 69490  on UPC_Item_DB\n"
     ]
    },
    {
     "name": "stderr",
     "output_type": "stream",
     "text": [
      "D:\\Software\\anaconda3\\lib\\site-packages\\urllib3\\connectionpool.py:988: InsecureRequestWarning: Unverified HTTPS request is being made to host 'www.upcitemdb.com'. Adding certificate verification is strongly advised. See: https://urllib3.readthedocs.io/en/latest/advanced-usage.html#ssl-warnings\n",
      "  InsecureRequestWarning,\n"
     ]
    },
    {
     "name": "stdout",
     "output_type": "stream",
     "text": [
      "\tNo UPCs found on UPC_Item_DB.\n",
      "\tUpdated:  NaN\n",
      "\tUpdated:  NaN\n",
      "Searching product:  Halyard Health 69025  on UPC_Item_DB\n"
     ]
    },
    {
     "name": "stderr",
     "output_type": "stream",
     "text": [
      "D:\\Software\\anaconda3\\lib\\site-packages\\urllib3\\connectionpool.py:988: InsecureRequestWarning: Unverified HTTPS request is being made to host 'www.upcitemdb.com'. Adding certificate verification is strongly advised. See: https://urllib3.readthedocs.io/en/latest/advanced-usage.html#ssl-warnings\n",
      "  InsecureRequestWarning,\n"
     ]
    },
    {
     "name": "stdout",
     "output_type": "stream",
     "text": [
      "\tNo UPCs found on UPC_Item_DB.\n",
      "\tUpdated:  NaN\n",
      "\tUpdated:  NaN\n",
      "Searching product:  Halyard Health 69028  on UPC_Item_DB\n"
     ]
    },
    {
     "name": "stderr",
     "output_type": "stream",
     "text": [
      "D:\\Software\\anaconda3\\lib\\site-packages\\urllib3\\connectionpool.py:988: InsecureRequestWarning: Unverified HTTPS request is being made to host 'www.upcitemdb.com'. Adding certificate verification is strongly advised. See: https://urllib3.readthedocs.io/en/latest/advanced-usage.html#ssl-warnings\n",
      "  InsecureRequestWarning,\n"
     ]
    },
    {
     "name": "stdout",
     "output_type": "stream",
     "text": [
      "\tNo UPCs found on UPC_Item_DB.\n",
      "\tUpdated:  NaN\n",
      "\tUpdated:  NaN\n",
      "Searching product:  Halyard Health 69600  on UPC_Item_DB\n"
     ]
    },
    {
     "name": "stderr",
     "output_type": "stream",
     "text": [
      "D:\\Software\\anaconda3\\lib\\site-packages\\urllib3\\connectionpool.py:988: InsecureRequestWarning: Unverified HTTPS request is being made to host 'www.upcitemdb.com'. Adding certificate verification is strongly advised. See: https://urllib3.readthedocs.io/en/latest/advanced-usage.html#ssl-warnings\n",
      "  InsecureRequestWarning,\n"
     ]
    },
    {
     "name": "stdout",
     "output_type": "stream",
     "text": [
      "\tNo UPCs found on UPC_Item_DB.\n",
      "\tUpdated:  NaN\n",
      "\tUpdated:  NaN\n",
      "Searching product:  Halyard Health 69601  on UPC_Item_DB\n"
     ]
    },
    {
     "name": "stderr",
     "output_type": "stream",
     "text": [
      "D:\\Software\\anaconda3\\lib\\site-packages\\urllib3\\connectionpool.py:988: InsecureRequestWarning: Unverified HTTPS request is being made to host 'www.upcitemdb.com'. Adding certificate verification is strongly advised. See: https://urllib3.readthedocs.io/en/latest/advanced-usage.html#ssl-warnings\n",
      "  InsecureRequestWarning,\n"
     ]
    },
    {
     "name": "stdout",
     "output_type": "stream",
     "text": [
      "\tNo UPCs found on UPC_Item_DB.\n",
      "\tUpdated:  NaN\n",
      "\tUpdated:  NaN\n",
      "Searching product:  Halyard Health 69602  on UPC_Item_DB\n"
     ]
    },
    {
     "name": "stderr",
     "output_type": "stream",
     "text": [
      "D:\\Software\\anaconda3\\lib\\site-packages\\urllib3\\connectionpool.py:988: InsecureRequestWarning: Unverified HTTPS request is being made to host 'www.upcitemdb.com'. Adding certificate verification is strongly advised. See: https://urllib3.readthedocs.io/en/latest/advanced-usage.html#ssl-warnings\n",
      "  InsecureRequestWarning,\n"
     ]
    },
    {
     "name": "stdout",
     "output_type": "stream",
     "text": [
      "\tNo UPCs found on UPC_Item_DB.\n",
      "\tUpdated:  NaN\n",
      "\tUpdated:  NaN\n",
      "Searching product:  Halyard Health 69603  on UPC_Item_DB\n"
     ]
    },
    {
     "name": "stderr",
     "output_type": "stream",
     "text": [
      "D:\\Software\\anaconda3\\lib\\site-packages\\urllib3\\connectionpool.py:988: InsecureRequestWarning: Unverified HTTPS request is being made to host 'www.upcitemdb.com'. Adding certificate verification is strongly advised. See: https://urllib3.readthedocs.io/en/latest/advanced-usage.html#ssl-warnings\n",
      "  InsecureRequestWarning,\n"
     ]
    },
    {
     "name": "stdout",
     "output_type": "stream",
     "text": [
      "\tNo UPCs found on UPC_Item_DB.\n",
      "\tUpdated:  NaN\n",
      "\tUpdated:  NaN\n",
      "Searching product:  Halyard Health 13961  on UPC_Item_DB\n"
     ]
    },
    {
     "name": "stderr",
     "output_type": "stream",
     "text": [
      "D:\\Software\\anaconda3\\lib\\site-packages\\urllib3\\connectionpool.py:988: InsecureRequestWarning: Unverified HTTPS request is being made to host 'www.upcitemdb.com'. Adding certificate verification is strongly advised. See: https://urllib3.readthedocs.io/en/latest/advanced-usage.html#ssl-warnings\n",
      "  InsecureRequestWarning,\n"
     ]
    },
    {
     "name": "stdout",
     "output_type": "stream",
     "text": [
      "\tNo UPCs found on UPC_Item_DB.\n",
      "\tUpdated:  NaN\n",
      "\tUpdated:  NaN\n",
      "Searching product:  Halyard Health 13962  on UPC_Item_DB\n"
     ]
    },
    {
     "name": "stderr",
     "output_type": "stream",
     "text": [
      "D:\\Software\\anaconda3\\lib\\site-packages\\urllib3\\connectionpool.py:988: InsecureRequestWarning: Unverified HTTPS request is being made to host 'www.upcitemdb.com'. Adding certificate verification is strongly advised. See: https://urllib3.readthedocs.io/en/latest/advanced-usage.html#ssl-warnings\n",
      "  InsecureRequestWarning,\n"
     ]
    },
    {
     "name": "stdout",
     "output_type": "stream",
     "text": [
      "\tNo UPCs found on UPC_Item_DB.\n",
      "\tUpdated:  NaN\n",
      "\tUpdated:  NaN\n",
      "Searching product:  Halyard Health 29516  on UPC_Item_DB\n"
     ]
    },
    {
     "name": "stderr",
     "output_type": "stream",
     "text": [
      "D:\\Software\\anaconda3\\lib\\site-packages\\urllib3\\connectionpool.py:988: InsecureRequestWarning: Unverified HTTPS request is being made to host 'www.upcitemdb.com'. Adding certificate verification is strongly advised. See: https://urllib3.readthedocs.io/en/latest/advanced-usage.html#ssl-warnings\n",
      "  InsecureRequestWarning,\n"
     ]
    },
    {
     "name": "stdout",
     "output_type": "stream",
     "text": [
      "\tNo UPCs found on UPC_Item_DB.\n",
      "\tUpdated:  NaN\n",
      "\tUpdated:  NaN\n",
      "Searching product:  Halyard Health 29549  on UPC_Item_DB\n"
     ]
    },
    {
     "name": "stderr",
     "output_type": "stream",
     "text": [
      "D:\\Software\\anaconda3\\lib\\site-packages\\urllib3\\connectionpool.py:988: InsecureRequestWarning: Unverified HTTPS request is being made to host 'www.upcitemdb.com'. Adding certificate verification is strongly advised. See: https://urllib3.readthedocs.io/en/latest/advanced-usage.html#ssl-warnings\n",
      "  InsecureRequestWarning,\n"
     ]
    },
    {
     "name": "stdout",
     "output_type": "stream",
     "text": [
      "\tNo UPCs found on UPC_Item_DB.\n",
      "\tUpdated:  NaN\n",
      "\tUpdated:  NaN\n",
      "Searching product:  Halyard Health 32572  on UPC_Item_DB\n"
     ]
    },
    {
     "name": "stderr",
     "output_type": "stream",
     "text": [
      "D:\\Software\\anaconda3\\lib\\site-packages\\urllib3\\connectionpool.py:988: InsecureRequestWarning: Unverified HTTPS request is being made to host 'www.upcitemdb.com'. Adding certificate verification is strongly advised. See: https://urllib3.readthedocs.io/en/latest/advanced-usage.html#ssl-warnings\n",
      "  InsecureRequestWarning,\n"
     ]
    },
    {
     "name": "stdout",
     "output_type": "stream",
     "text": [
      "\tNo UPCs found on UPC_Item_DB.\n",
      "\tUpdated:  NaN\n",
      "\tUpdated:  NaN\n",
      "Searching product:  Halyard Health 32574  on UPC_Item_DB\n"
     ]
    },
    {
     "name": "stderr",
     "output_type": "stream",
     "text": [
      "D:\\Software\\anaconda3\\lib\\site-packages\\urllib3\\connectionpool.py:988: InsecureRequestWarning: Unverified HTTPS request is being made to host 'www.upcitemdb.com'. Adding certificate verification is strongly advised. See: https://urllib3.readthedocs.io/en/latest/advanced-usage.html#ssl-warnings\n",
      "  InsecureRequestWarning,\n"
     ]
    },
    {
     "name": "stdout",
     "output_type": "stream",
     "text": [
      "\tNo UPCs found on UPC_Item_DB.\n",
      "\tUpdated:  NaN\n",
      "\tUpdated:  NaN\n",
      "Searching product:  Halyard Health 47346  on UPC_Item_DB\n"
     ]
    },
    {
     "name": "stderr",
     "output_type": "stream",
     "text": [
      "D:\\Software\\anaconda3\\lib\\site-packages\\urllib3\\connectionpool.py:988: InsecureRequestWarning: Unverified HTTPS request is being made to host 'www.upcitemdb.com'. Adding certificate verification is strongly advised. See: https://urllib3.readthedocs.io/en/latest/advanced-usage.html#ssl-warnings\n",
      "  InsecureRequestWarning,\n"
     ]
    },
    {
     "name": "stdout",
     "output_type": "stream",
     "text": [
      "\tNo UPCs found on UPC_Item_DB.\n",
      "\tUpdated:  NaN\n",
      "\tUpdated:  NaN\n",
      "Searching product:  Halyard Health 47347  on UPC_Item_DB\n"
     ]
    },
    {
     "name": "stderr",
     "output_type": "stream",
     "text": [
      "D:\\Software\\anaconda3\\lib\\site-packages\\urllib3\\connectionpool.py:988: InsecureRequestWarning: Unverified HTTPS request is being made to host 'www.upcitemdb.com'. Adding certificate verification is strongly advised. See: https://urllib3.readthedocs.io/en/latest/advanced-usage.html#ssl-warnings\n",
      "  InsecureRequestWarning,\n"
     ]
    },
    {
     "name": "stdout",
     "output_type": "stream",
     "text": [
      "\tNo UPCs found on UPC_Item_DB.\n",
      "\tUpdated:  NaN\n",
      "\tUpdated:  NaN\n",
      "Searching product:  Halyard Health 69110  on UPC_Item_DB\n"
     ]
    },
    {
     "name": "stderr",
     "output_type": "stream",
     "text": [
      "D:\\Software\\anaconda3\\lib\\site-packages\\urllib3\\connectionpool.py:988: InsecureRequestWarning: Unverified HTTPS request is being made to host 'www.upcitemdb.com'. Adding certificate verification is strongly advised. See: https://urllib3.readthedocs.io/en/latest/advanced-usage.html#ssl-warnings\n",
      "  InsecureRequestWarning,\n"
     ]
    },
    {
     "name": "stdout",
     "output_type": "stream",
     "text": [
      "\tNo UPCs found on UPC_Item_DB.\n",
      "\tUpdated:  NaN\n",
      "\tUpdated:  NaN\n",
      "Searching product:  Halyard Health 69083  on UPC_Item_DB\n"
     ]
    },
    {
     "name": "stderr",
     "output_type": "stream",
     "text": [
      "D:\\Software\\anaconda3\\lib\\site-packages\\urllib3\\connectionpool.py:988: InsecureRequestWarning: Unverified HTTPS request is being made to host 'www.upcitemdb.com'. Adding certificate verification is strongly advised. See: https://urllib3.readthedocs.io/en/latest/advanced-usage.html#ssl-warnings\n",
      "  InsecureRequestWarning,\n"
     ]
    },
    {
     "name": "stdout",
     "output_type": "stream",
     "text": [
      "\tNo UPCs found on UPC_Item_DB.\n",
      "\tUpdated:  NaN\n",
      "\tUpdated:  NaN\n",
      "Searching product:  Halyard Health 69086  on UPC_Item_DB\n"
     ]
    },
    {
     "name": "stderr",
     "output_type": "stream",
     "text": [
      "D:\\Software\\anaconda3\\lib\\site-packages\\urllib3\\connectionpool.py:988: InsecureRequestWarning: Unverified HTTPS request is being made to host 'www.upcitemdb.com'. Adding certificate verification is strongly advised. See: https://urllib3.readthedocs.io/en/latest/advanced-usage.html#ssl-warnings\n",
      "  InsecureRequestWarning,\n"
     ]
    },
    {
     "name": "stdout",
     "output_type": "stream",
     "text": [
      "\tNo UPCs found on UPC_Item_DB.\n",
      "\tUpdated:  NaN\n",
      "\tUpdated:  NaN\n",
      "Searching product:  Halyard Health 69088  on UPC_Item_DB\n"
     ]
    },
    {
     "name": "stderr",
     "output_type": "stream",
     "text": [
      "D:\\Software\\anaconda3\\lib\\site-packages\\urllib3\\connectionpool.py:988: InsecureRequestWarning: Unverified HTTPS request is being made to host 'www.upcitemdb.com'. Adding certificate verification is strongly advised. See: https://urllib3.readthedocs.io/en/latest/advanced-usage.html#ssl-warnings\n",
      "  InsecureRequestWarning,\n"
     ]
    },
    {
     "name": "stdout",
     "output_type": "stream",
     "text": [
      "\tNo UPCs found on UPC_Item_DB.\n",
      "\tUpdated:  NaN\n",
      "\tUpdated:  NaN\n",
      "Searching product:  Halyard Health 69240  on UPC_Item_DB\n"
     ]
    },
    {
     "name": "stderr",
     "output_type": "stream",
     "text": [
      "D:\\Software\\anaconda3\\lib\\site-packages\\urllib3\\connectionpool.py:988: InsecureRequestWarning: Unverified HTTPS request is being made to host 'www.upcitemdb.com'. Adding certificate verification is strongly advised. See: https://urllib3.readthedocs.io/en/latest/advanced-usage.html#ssl-warnings\n",
      "  InsecureRequestWarning,\n"
     ]
    },
    {
     "name": "stdout",
     "output_type": "stream",
     "text": [
      "\tNo UPCs found on UPC_Item_DB.\n",
      "\tUpdated:  NaN\n",
      "\tUpdated:  NaN\n",
      "Searching product:  Halyard Health 69520  on UPC_Item_DB\n"
     ]
    },
    {
     "name": "stderr",
     "output_type": "stream",
     "text": [
      "D:\\Software\\anaconda3\\lib\\site-packages\\urllib3\\connectionpool.py:988: InsecureRequestWarning: Unverified HTTPS request is being made to host 'www.upcitemdb.com'. Adding certificate verification is strongly advised. See: https://urllib3.readthedocs.io/en/latest/advanced-usage.html#ssl-warnings\n",
      "  InsecureRequestWarning,\n"
     ]
    },
    {
     "name": "stdout",
     "output_type": "stream",
     "text": [
      "\tNo UPCs found on UPC_Item_DB.\n",
      "\tUpdated:  NaN\n",
      "\tUpdated:  NaN\n",
      "Searching product:  Halyard Health 44648  on UPC_Item_DB\n"
     ]
    },
    {
     "name": "stderr",
     "output_type": "stream",
     "text": [
      "D:\\Software\\anaconda3\\lib\\site-packages\\urllib3\\connectionpool.py:988: InsecureRequestWarning: Unverified HTTPS request is being made to host 'www.upcitemdb.com'. Adding certificate verification is strongly advised. See: https://urllib3.readthedocs.io/en/latest/advanced-usage.html#ssl-warnings\n",
      "  InsecureRequestWarning,\n"
     ]
    },
    {
     "name": "stdout",
     "output_type": "stream",
     "text": [
      "\tNo UPCs found on UPC_Item_DB.\n",
      "\tUpdated:  NaN\n",
      "\tUpdated:  NaN\n",
      "Searching product:  Halyard Health 69801  on UPC_Item_DB\n"
     ]
    },
    {
     "name": "stderr",
     "output_type": "stream",
     "text": [
      "D:\\Software\\anaconda3\\lib\\site-packages\\urllib3\\connectionpool.py:988: InsecureRequestWarning: Unverified HTTPS request is being made to host 'www.upcitemdb.com'. Adding certificate verification is strongly advised. See: https://urllib3.readthedocs.io/en/latest/advanced-usage.html#ssl-warnings\n",
      "  InsecureRequestWarning,\n"
     ]
    },
    {
     "name": "stdout",
     "output_type": "stream",
     "text": [
      "\tNo UPCs found on UPC_Item_DB.\n",
      "\tUpdated:  NaN\n",
      "\tUpdated:  NaN\n",
      "Searching product:  Halyard Health 69802  on UPC_Item_DB\n"
     ]
    },
    {
     "name": "stderr",
     "output_type": "stream",
     "text": [
      "D:\\Software\\anaconda3\\lib\\site-packages\\urllib3\\connectionpool.py:988: InsecureRequestWarning: Unverified HTTPS request is being made to host 'www.upcitemdb.com'. Adding certificate verification is strongly advised. See: https://urllib3.readthedocs.io/en/latest/advanced-usage.html#ssl-warnings\n",
      "  InsecureRequestWarning,\n"
     ]
    },
    {
     "name": "stdout",
     "output_type": "stream",
     "text": [
      "\tNo UPCs found on UPC_Item_DB.\n",
      "\tUpdated:  NaN\n",
      "\tUpdated:  NaN\n",
      "Searching product:  Halyard Health 69803  on UPC_Item_DB\n"
     ]
    },
    {
     "name": "stderr",
     "output_type": "stream",
     "text": [
      "D:\\Software\\anaconda3\\lib\\site-packages\\urllib3\\connectionpool.py:988: InsecureRequestWarning: Unverified HTTPS request is being made to host 'www.upcitemdb.com'. Adding certificate verification is strongly advised. See: https://urllib3.readthedocs.io/en/latest/advanced-usage.html#ssl-warnings\n",
      "  InsecureRequestWarning,\n"
     ]
    },
    {
     "name": "stdout",
     "output_type": "stream",
     "text": [
      "\tNo UPCs found on UPC_Item_DB.\n",
      "\tUpdated:  NaN\n",
      "\tUpdated:  NaN\n",
      "Searching product:  Halyard Health 47323  on UPC_Item_DB\n"
     ]
    },
    {
     "name": "stderr",
     "output_type": "stream",
     "text": [
      "D:\\Software\\anaconda3\\lib\\site-packages\\urllib3\\connectionpool.py:988: InsecureRequestWarning: Unverified HTTPS request is being made to host 'www.upcitemdb.com'. Adding certificate verification is strongly advised. See: https://urllib3.readthedocs.io/en/latest/advanced-usage.html#ssl-warnings\n",
      "  InsecureRequestWarning,\n"
     ]
    },
    {
     "name": "stdout",
     "output_type": "stream",
     "text": [
      "\tNo UPCs found on UPC_Item_DB.\n",
      "\tUpdated:  NaN\n",
      "\tUpdated:  NaN\n",
      "Searching product:  Halyard Health 47322  on UPC_Item_DB\n"
     ]
    },
    {
     "name": "stderr",
     "output_type": "stream",
     "text": [
      "D:\\Software\\anaconda3\\lib\\site-packages\\urllib3\\connectionpool.py:988: InsecureRequestWarning: Unverified HTTPS request is being made to host 'www.upcitemdb.com'. Adding certificate verification is strongly advised. See: https://urllib3.readthedocs.io/en/latest/advanced-usage.html#ssl-warnings\n",
      "  InsecureRequestWarning,\n"
     ]
    },
    {
     "name": "stdout",
     "output_type": "stream",
     "text": [
      "\tNo UPCs found on UPC_Item_DB.\n",
      "\tUpdated:  NaN\n",
      "\tUpdated:  NaN\n",
      "Searching product:  Halyard Health 47318  on UPC_Item_DB\n"
     ]
    },
    {
     "name": "stderr",
     "output_type": "stream",
     "text": [
      "D:\\Software\\anaconda3\\lib\\site-packages\\urllib3\\connectionpool.py:988: InsecureRequestWarning: Unverified HTTPS request is being made to host 'www.upcitemdb.com'. Adding certificate verification is strongly advised. See: https://urllib3.readthedocs.io/en/latest/advanced-usage.html#ssl-warnings\n",
      "  InsecureRequestWarning,\n"
     ]
    },
    {
     "name": "stdout",
     "output_type": "stream",
     "text": [
      "\tNo UPCs found on UPC_Item_DB.\n",
      "\tUpdated:  NaN\n",
      "\tUpdated:  NaN\n",
      "Searching product:  Halyard Health 47317  on UPC_Item_DB\n"
     ]
    },
    {
     "name": "stderr",
     "output_type": "stream",
     "text": [
      "D:\\Software\\anaconda3\\lib\\site-packages\\urllib3\\connectionpool.py:988: InsecureRequestWarning: Unverified HTTPS request is being made to host 'www.upcitemdb.com'. Adding certificate verification is strongly advised. See: https://urllib3.readthedocs.io/en/latest/advanced-usage.html#ssl-warnings\n",
      "  InsecureRequestWarning,\n"
     ]
    },
    {
     "name": "stdout",
     "output_type": "stream",
     "text": [
      "\tNo UPCs found on UPC_Item_DB.\n",
      "\tUpdated:  NaN\n",
      "\tUpdated:  NaN\n",
      "Searching product:  Halyard Health 69551  on UPC_Item_DB\n"
     ]
    },
    {
     "name": "stderr",
     "output_type": "stream",
     "text": [
      "D:\\Software\\anaconda3\\lib\\site-packages\\urllib3\\connectionpool.py:988: InsecureRequestWarning: Unverified HTTPS request is being made to host 'www.upcitemdb.com'. Adding certificate verification is strongly advised. See: https://urllib3.readthedocs.io/en/latest/advanced-usage.html#ssl-warnings\n",
      "  InsecureRequestWarning,\n"
     ]
    },
    {
     "name": "stdout",
     "output_type": "stream",
     "text": [
      "\tNo UPCs found on UPC_Item_DB.\n",
      "\tUpdated:  NaN\n",
      "\tUpdated:  NaN\n",
      "Searching product:  Halyard Health 69114  on UPC_Item_DB\n"
     ]
    },
    {
     "name": "stderr",
     "output_type": "stream",
     "text": [
      "D:\\Software\\anaconda3\\lib\\site-packages\\urllib3\\connectionpool.py:988: InsecureRequestWarning: Unverified HTTPS request is being made to host 'www.upcitemdb.com'. Adding certificate verification is strongly advised. See: https://urllib3.readthedocs.io/en/latest/advanced-usage.html#ssl-warnings\n",
      "  InsecureRequestWarning,\n"
     ]
    },
    {
     "name": "stdout",
     "output_type": "stream",
     "text": [
      "\tNo UPCs found on UPC_Item_DB.\n",
      "\tUpdated:  NaN\n",
      "\tUpdated:  NaN\n",
      "Searching product:  Halyard Health 69121  on UPC_Item_DB\n"
     ]
    },
    {
     "name": "stderr",
     "output_type": "stream",
     "text": [
      "D:\\Software\\anaconda3\\lib\\site-packages\\urllib3\\connectionpool.py:988: InsecureRequestWarning: Unverified HTTPS request is being made to host 'www.upcitemdb.com'. Adding certificate verification is strongly advised. See: https://urllib3.readthedocs.io/en/latest/advanced-usage.html#ssl-warnings\n",
      "  InsecureRequestWarning,\n"
     ]
    },
    {
     "name": "stdout",
     "output_type": "stream",
     "text": [
      "\tNo UPCs found on UPC_Item_DB.\n",
      "\tUpdated:  NaN\n",
      "\tUpdated:  NaN\n",
      "Searching product:  Halyard Health 69254  on UPC_Item_DB\n"
     ]
    },
    {
     "name": "stderr",
     "output_type": "stream",
     "text": [
      "D:\\Software\\anaconda3\\lib\\site-packages\\urllib3\\connectionpool.py:988: InsecureRequestWarning: Unverified HTTPS request is being made to host 'www.upcitemdb.com'. Adding certificate verification is strongly advised. See: https://urllib3.readthedocs.io/en/latest/advanced-usage.html#ssl-warnings\n",
      "  InsecureRequestWarning,\n"
     ]
    },
    {
     "name": "stdout",
     "output_type": "stream",
     "text": [
      "\tNo UPCs found on UPC_Item_DB.\n",
      "\tUpdated:  NaN\n",
      "\tUpdated:  NaN\n",
      "Searching product:  Halyard Health 69252  on UPC_Item_DB\n"
     ]
    },
    {
     "name": "stderr",
     "output_type": "stream",
     "text": [
      "D:\\Software\\anaconda3\\lib\\site-packages\\urllib3\\connectionpool.py:988: InsecureRequestWarning: Unverified HTTPS request is being made to host 'www.upcitemdb.com'. Adding certificate verification is strongly advised. See: https://urllib3.readthedocs.io/en/latest/advanced-usage.html#ssl-warnings\n",
      "  InsecureRequestWarning,\n"
     ]
    },
    {
     "name": "stdout",
     "output_type": "stream",
     "text": [
      "\tNo UPCs found on UPC_Item_DB.\n",
      "\tUpdated:  NaN\n",
      "\tUpdated:  NaN\n",
      "Searching product:  Halyard Health 69353  on UPC_Item_DB\n"
     ]
    },
    {
     "name": "stderr",
     "output_type": "stream",
     "text": [
      "D:\\Software\\anaconda3\\lib\\site-packages\\urllib3\\connectionpool.py:988: InsecureRequestWarning: Unverified HTTPS request is being made to host 'www.upcitemdb.com'. Adding certificate verification is strongly advised. See: https://urllib3.readthedocs.io/en/latest/advanced-usage.html#ssl-warnings\n",
      "  InsecureRequestWarning,\n"
     ]
    },
    {
     "name": "stdout",
     "output_type": "stream",
     "text": [
      "\tNo UPCs found on UPC_Item_DB.\n",
      "\tUpdated:  NaN\n",
      "\tUpdated:  NaN\n",
      "Searching product:  Halyard Health 69253  on UPC_Item_DB\n"
     ]
    },
    {
     "name": "stderr",
     "output_type": "stream",
     "text": [
      "D:\\Software\\anaconda3\\lib\\site-packages\\urllib3\\connectionpool.py:988: InsecureRequestWarning: Unverified HTTPS request is being made to host 'www.upcitemdb.com'. Adding certificate verification is strongly advised. See: https://urllib3.readthedocs.io/en/latest/advanced-usage.html#ssl-warnings\n",
      "  InsecureRequestWarning,\n"
     ]
    },
    {
     "name": "stdout",
     "output_type": "stream",
     "text": [
      "\tNo UPCs found on UPC_Item_DB.\n",
      "\tUpdated:  NaN\n",
      "\tUpdated:  NaN\n",
      "Searching product:  Halyard Health 69571  on UPC_Item_DB\n"
     ]
    },
    {
     "name": "stderr",
     "output_type": "stream",
     "text": [
      "D:\\Software\\anaconda3\\lib\\site-packages\\urllib3\\connectionpool.py:988: InsecureRequestWarning: Unverified HTTPS request is being made to host 'www.upcitemdb.com'. Adding certificate verification is strongly advised. See: https://urllib3.readthedocs.io/en/latest/advanced-usage.html#ssl-warnings\n",
      "  InsecureRequestWarning,\n"
     ]
    },
    {
     "name": "stdout",
     "output_type": "stream",
     "text": [
      "\tNo UPCs found on UPC_Item_DB.\n",
      "\tUpdated:  NaN\n",
      "\tUpdated:  NaN\n",
      "Searching product:  Halyard Health 69671  on UPC_Item_DB\n"
     ]
    },
    {
     "name": "stderr",
     "output_type": "stream",
     "text": [
      "D:\\Software\\anaconda3\\lib\\site-packages\\urllib3\\connectionpool.py:988: InsecureRequestWarning: Unverified HTTPS request is being made to host 'www.upcitemdb.com'. Adding certificate verification is strongly advised. See: https://urllib3.readthedocs.io/en/latest/advanced-usage.html#ssl-warnings\n",
      "  InsecureRequestWarning,\n"
     ]
    },
    {
     "name": "stdout",
     "output_type": "stream",
     "text": [
      "\tNo UPCs found on UPC_Item_DB.\n",
      "\tUpdated:  NaN\n",
      "\tUpdated:  NaN\n",
      "Searching product:  Halyard Health 69572  on UPC_Item_DB\n"
     ]
    },
    {
     "name": "stderr",
     "output_type": "stream",
     "text": [
      "D:\\Software\\anaconda3\\lib\\site-packages\\urllib3\\connectionpool.py:988: InsecureRequestWarning: Unverified HTTPS request is being made to host 'www.upcitemdb.com'. Adding certificate verification is strongly advised. See: https://urllib3.readthedocs.io/en/latest/advanced-usage.html#ssl-warnings\n",
      "  InsecureRequestWarning,\n"
     ]
    },
    {
     "name": "stdout",
     "output_type": "stream",
     "text": [
      "\tNo UPCs found on UPC_Item_DB.\n",
      "\tUpdated:  NaN\n",
      "\tUpdated:  NaN\n",
      "Searching product:  Halyard Health 69672  on UPC_Item_DB\n"
     ]
    },
    {
     "name": "stderr",
     "output_type": "stream",
     "text": [
      "D:\\Software\\anaconda3\\lib\\site-packages\\urllib3\\connectionpool.py:988: InsecureRequestWarning: Unverified HTTPS request is being made to host 'www.upcitemdb.com'. Adding certificate verification is strongly advised. See: https://urllib3.readthedocs.io/en/latest/advanced-usage.html#ssl-warnings\n",
      "  InsecureRequestWarning,\n"
     ]
    },
    {
     "name": "stdout",
     "output_type": "stream",
     "text": [
      "\tNo UPCs found on UPC_Item_DB.\n",
      "\tUpdated:  NaN\n",
      "\tUpdated:  NaN\n",
      "Searching product:  Halyard Health 10120  on UPC_Item_DB\n"
     ]
    },
    {
     "name": "stderr",
     "output_type": "stream",
     "text": [
      "D:\\Software\\anaconda3\\lib\\site-packages\\urllib3\\connectionpool.py:988: InsecureRequestWarning: Unverified HTTPS request is being made to host 'www.upcitemdb.com'. Adding certificate verification is strongly advised. See: https://urllib3.readthedocs.io/en/latest/advanced-usage.html#ssl-warnings\n",
      "  InsecureRequestWarning,\n"
     ]
    },
    {
     "name": "stdout",
     "output_type": "stream",
     "text": [
      "\tNo UPCs found on UPC_Item_DB.\n",
      "\tUpdated:  NaN\n",
      "\tUpdated:  NaN\n",
      "Searching product:  Halyard Health 10121  on UPC_Item_DB\n"
     ]
    },
    {
     "name": "stderr",
     "output_type": "stream",
     "text": [
      "D:\\Software\\anaconda3\\lib\\site-packages\\urllib3\\connectionpool.py:988: InsecureRequestWarning: Unverified HTTPS request is being made to host 'www.upcitemdb.com'. Adding certificate verification is strongly advised. See: https://urllib3.readthedocs.io/en/latest/advanced-usage.html#ssl-warnings\n",
      "  InsecureRequestWarning,\n"
     ]
    },
    {
     "name": "stdout",
     "output_type": "stream",
     "text": [
      "\tNo UPCs found on UPC_Item_DB.\n",
      "\tUpdated:  NaN\n",
      "\tUpdated:  NaN\n",
      "Searching product:  Halyard Health 10122  on UPC_Item_DB\n"
     ]
    },
    {
     "name": "stderr",
     "output_type": "stream",
     "text": [
      "D:\\Software\\anaconda3\\lib\\site-packages\\urllib3\\connectionpool.py:988: InsecureRequestWarning: Unverified HTTPS request is being made to host 'www.upcitemdb.com'. Adding certificate verification is strongly advised. See: https://urllib3.readthedocs.io/en/latest/advanced-usage.html#ssl-warnings\n",
      "  InsecureRequestWarning,\n"
     ]
    },
    {
     "name": "stdout",
     "output_type": "stream",
     "text": [
      "\tNo UPCs found on UPC_Item_DB.\n",
      "\tUpdated:  NaN\n",
      "\tUpdated:  NaN\n",
      "Searching product:  Halyard Health 10123  on UPC_Item_DB\n"
     ]
    },
    {
     "name": "stderr",
     "output_type": "stream",
     "text": [
      "D:\\Software\\anaconda3\\lib\\site-packages\\urllib3\\connectionpool.py:988: InsecureRequestWarning: Unverified HTTPS request is being made to host 'www.upcitemdb.com'. Adding certificate verification is strongly advised. See: https://urllib3.readthedocs.io/en/latest/advanced-usage.html#ssl-warnings\n",
      "  InsecureRequestWarning,\n"
     ]
    },
    {
     "name": "stdout",
     "output_type": "stream",
     "text": [
      "\tNo UPCs found on UPC_Item_DB.\n",
      "\tUpdated:  NaN\n",
      "\tUpdated:  NaN\n",
      "Searching product:  Halyard Health 10124  on UPC_Item_DB\n"
     ]
    },
    {
     "name": "stderr",
     "output_type": "stream",
     "text": [
      "D:\\Software\\anaconda3\\lib\\site-packages\\urllib3\\connectionpool.py:988: InsecureRequestWarning: Unverified HTTPS request is being made to host 'www.upcitemdb.com'. Adding certificate verification is strongly advised. See: https://urllib3.readthedocs.io/en/latest/advanced-usage.html#ssl-warnings\n",
      "  InsecureRequestWarning,\n"
     ]
    },
    {
     "name": "stdout",
     "output_type": "stream",
     "text": [
      "\tNo UPCs found on UPC_Item_DB.\n",
      "\tUpdated:  NaN\n",
      "\tUpdated:  NaN\n",
      "Searching product:  Halyard Health 10157  on UPC_Item_DB\n"
     ]
    },
    {
     "name": "stderr",
     "output_type": "stream",
     "text": [
      "D:\\Software\\anaconda3\\lib\\site-packages\\urllib3\\connectionpool.py:988: InsecureRequestWarning: Unverified HTTPS request is being made to host 'www.upcitemdb.com'. Adding certificate verification is strongly advised. See: https://urllib3.readthedocs.io/en/latest/advanced-usage.html#ssl-warnings\n",
      "  InsecureRequestWarning,\n"
     ]
    },
    {
     "name": "stdout",
     "output_type": "stream",
     "text": [
      "\tNo UPCs found on UPC_Item_DB.\n",
      "\tUpdated:  NaN\n",
      "\tUpdated:  NaN\n",
      "Searching product:  Halyard Health 10020  on UPC_Item_DB\n"
     ]
    },
    {
     "name": "stderr",
     "output_type": "stream",
     "text": [
      "D:\\Software\\anaconda3\\lib\\site-packages\\urllib3\\connectionpool.py:988: InsecureRequestWarning: Unverified HTTPS request is being made to host 'www.upcitemdb.com'. Adding certificate verification is strongly advised. See: https://urllib3.readthedocs.io/en/latest/advanced-usage.html#ssl-warnings\n",
      "  InsecureRequestWarning,\n"
     ]
    },
    {
     "name": "stdout",
     "output_type": "stream",
     "text": [
      "\tNo UPCs found on UPC_Item_DB.\n",
      "\tUpdated:  NaN\n",
      "\tUpdated:  NaN\n",
      "Searching product:  Halyard Health 10040  on UPC_Item_DB\n"
     ]
    },
    {
     "name": "stderr",
     "output_type": "stream",
     "text": [
      "D:\\Software\\anaconda3\\lib\\site-packages\\urllib3\\connectionpool.py:988: InsecureRequestWarning: Unverified HTTPS request is being made to host 'www.upcitemdb.com'. Adding certificate verification is strongly advised. See: https://urllib3.readthedocs.io/en/latest/advanced-usage.html#ssl-warnings\n",
      "  InsecureRequestWarning,\n"
     ]
    },
    {
     "name": "stdout",
     "output_type": "stream",
     "text": [
      "\tNo UPCs found on UPC_Item_DB.\n",
      "\tUpdated:  NaN\n",
      "\tUpdated:  NaN\n",
      "Searching product:  Halyard Health 10067  on UPC_Item_DB\n"
     ]
    },
    {
     "name": "stderr",
     "output_type": "stream",
     "text": [
      "D:\\Software\\anaconda3\\lib\\site-packages\\urllib3\\connectionpool.py:988: InsecureRequestWarning: Unverified HTTPS request is being made to host 'www.upcitemdb.com'. Adding certificate verification is strongly advised. See: https://urllib3.readthedocs.io/en/latest/advanced-usage.html#ssl-warnings\n",
      "  InsecureRequestWarning,\n"
     ]
    },
    {
     "name": "stdout",
     "output_type": "stream",
     "text": [
      "\tNo UPCs found on UPC_Item_DB.\n",
      "\tUpdated:  NaN\n",
      "\tUpdated:  NaN\n",
      "Searching product:  Halyard Health 10078  on UPC_Item_DB\n"
     ]
    },
    {
     "name": "stderr",
     "output_type": "stream",
     "text": [
      "D:\\Software\\anaconda3\\lib\\site-packages\\urllib3\\connectionpool.py:988: InsecureRequestWarning: Unverified HTTPS request is being made to host 'www.upcitemdb.com'. Adding certificate verification is strongly advised. See: https://urllib3.readthedocs.io/en/latest/advanced-usage.html#ssl-warnings\n",
      "  InsecureRequestWarning,\n"
     ]
    },
    {
     "name": "stdout",
     "output_type": "stream",
     "text": [
      "\tNo UPCs found on UPC_Item_DB.\n",
      "\tUpdated:  NaN\n",
      "\tUpdated:  NaN\n",
      "Searching product:  Halyard Health 10087  on UPC_Item_DB\n"
     ]
    },
    {
     "name": "stderr",
     "output_type": "stream",
     "text": [
      "D:\\Software\\anaconda3\\lib\\site-packages\\urllib3\\connectionpool.py:988: InsecureRequestWarning: Unverified HTTPS request is being made to host 'www.upcitemdb.com'. Adding certificate verification is strongly advised. See: https://urllib3.readthedocs.io/en/latest/advanced-usage.html#ssl-warnings\n",
      "  InsecureRequestWarning,\n"
     ]
    },
    {
     "name": "stdout",
     "output_type": "stream",
     "text": [
      "\tNo UPCs found on UPC_Item_DB.\n",
      "\tUpdated:  NaN\n",
      "\tUpdated:  NaN\n",
      "Searching product:  Halyard Health 10069  on UPC_Item_DB\n"
     ]
    },
    {
     "name": "stderr",
     "output_type": "stream",
     "text": [
      "D:\\Software\\anaconda3\\lib\\site-packages\\urllib3\\connectionpool.py:988: InsecureRequestWarning: Unverified HTTPS request is being made to host 'www.upcitemdb.com'. Adding certificate verification is strongly advised. See: https://urllib3.readthedocs.io/en/latest/advanced-usage.html#ssl-warnings\n",
      "  InsecureRequestWarning,\n"
     ]
    },
    {
     "name": "stdout",
     "output_type": "stream",
     "text": [
      "\tNo UPCs found on UPC_Item_DB.\n",
      "\tUpdated:  NaN\n",
      "\tUpdated:  NaN\n",
      "Searching product:  Halyard Health 10071  on UPC_Item_DB\n"
     ]
    },
    {
     "name": "stderr",
     "output_type": "stream",
     "text": [
      "D:\\Software\\anaconda3\\lib\\site-packages\\urllib3\\connectionpool.py:988: InsecureRequestWarning: Unverified HTTPS request is being made to host 'www.upcitemdb.com'. Adding certificate verification is strongly advised. See: https://urllib3.readthedocs.io/en/latest/advanced-usage.html#ssl-warnings\n",
      "  InsecureRequestWarning,\n"
     ]
    },
    {
     "name": "stdout",
     "output_type": "stream",
     "text": [
      "\tNo UPCs found on UPC_Item_DB.\n",
      "\tUpdated:  NaN\n",
      "\tUpdated:  NaN\n",
      "Searching product:  Halyard Health 10072  on UPC_Item_DB\n"
     ]
    },
    {
     "name": "stderr",
     "output_type": "stream",
     "text": [
      "D:\\Software\\anaconda3\\lib\\site-packages\\urllib3\\connectionpool.py:988: InsecureRequestWarning: Unverified HTTPS request is being made to host 'www.upcitemdb.com'. Adding certificate verification is strongly advised. See: https://urllib3.readthedocs.io/en/latest/advanced-usage.html#ssl-warnings\n",
      "  InsecureRequestWarning,\n"
     ]
    },
    {
     "name": "stdout",
     "output_type": "stream",
     "text": [
      "\tNo UPCs found on UPC_Item_DB.\n",
      "\tUpdated:  NaN\n",
      "\tUpdated:  NaN\n",
      "Searching product:  Halyard Health 10073  on UPC_Item_DB\n"
     ]
    },
    {
     "name": "stderr",
     "output_type": "stream",
     "text": [
      "D:\\Software\\anaconda3\\lib\\site-packages\\urllib3\\connectionpool.py:988: InsecureRequestWarning: Unverified HTTPS request is being made to host 'www.upcitemdb.com'. Adding certificate verification is strongly advised. See: https://urllib3.readthedocs.io/en/latest/advanced-usage.html#ssl-warnings\n",
      "  InsecureRequestWarning,\n"
     ]
    },
    {
     "name": "stdout",
     "output_type": "stream",
     "text": [
      "\tNo UPCs found on UPC_Item_DB.\n",
      "\tUpdated:  NaN\n",
      "\tUpdated:  NaN\n",
      "Searching product:  Halyard Health 10231  on UPC_Item_DB\n"
     ]
    },
    {
     "name": "stderr",
     "output_type": "stream",
     "text": [
      "D:\\Software\\anaconda3\\lib\\site-packages\\urllib3\\connectionpool.py:988: InsecureRequestWarning: Unverified HTTPS request is being made to host 'www.upcitemdb.com'. Adding certificate verification is strongly advised. See: https://urllib3.readthedocs.io/en/latest/advanced-usage.html#ssl-warnings\n",
      "  InsecureRequestWarning,\n"
     ]
    },
    {
     "name": "stdout",
     "output_type": "stream",
     "text": [
      "\tNo UPCs found on UPC_Item_DB.\n",
      "\tUpdated:  NaN\n",
      "\tUpdated:  NaN\n",
      "Searching product:  Halyard Health 10232  on UPC_Item_DB\n"
     ]
    },
    {
     "name": "stderr",
     "output_type": "stream",
     "text": [
      "D:\\Software\\anaconda3\\lib\\site-packages\\urllib3\\connectionpool.py:988: InsecureRequestWarning: Unverified HTTPS request is being made to host 'www.upcitemdb.com'. Adding certificate verification is strongly advised. See: https://urllib3.readthedocs.io/en/latest/advanced-usage.html#ssl-warnings\n",
      "  InsecureRequestWarning,\n"
     ]
    },
    {
     "name": "stdout",
     "output_type": "stream",
     "text": [
      "\tNo UPCs found on UPC_Item_DB.\n",
      "\tUpdated:  NaN\n",
      "\tUpdated:  NaN\n",
      "Searching product:  Halyard Health 10233  on UPC_Item_DB\n"
     ]
    },
    {
     "name": "stderr",
     "output_type": "stream",
     "text": [
      "D:\\Software\\anaconda3\\lib\\site-packages\\urllib3\\connectionpool.py:988: InsecureRequestWarning: Unverified HTTPS request is being made to host 'www.upcitemdb.com'. Adding certificate verification is strongly advised. See: https://urllib3.readthedocs.io/en/latest/advanced-usage.html#ssl-warnings\n",
      "  InsecureRequestWarning,\n"
     ]
    },
    {
     "name": "stdout",
     "output_type": "stream",
     "text": [
      "\tNo UPCs found on UPC_Item_DB.\n",
      "\tUpdated:  NaN\n",
      "\tUpdated:  NaN\n",
      "Searching product:  Halyard Health 10234  on UPC_Item_DB\n"
     ]
    },
    {
     "name": "stderr",
     "output_type": "stream",
     "text": [
      "D:\\Software\\anaconda3\\lib\\site-packages\\urllib3\\connectionpool.py:988: InsecureRequestWarning: Unverified HTTPS request is being made to host 'www.upcitemdb.com'. Adding certificate verification is strongly advised. See: https://urllib3.readthedocs.io/en/latest/advanced-usage.html#ssl-warnings\n",
      "  InsecureRequestWarning,\n"
     ]
    },
    {
     "name": "stdout",
     "output_type": "stream",
     "text": [
      "\tNo UPCs found on UPC_Item_DB.\n",
      "\tUpdated:  NaN\n",
      "\tUpdated:  NaN\n",
      "Searching product:  Halyard Health 10235  on UPC_Item_DB\n"
     ]
    },
    {
     "name": "stderr",
     "output_type": "stream",
     "text": [
      "D:\\Software\\anaconda3\\lib\\site-packages\\urllib3\\connectionpool.py:988: InsecureRequestWarning: Unverified HTTPS request is being made to host 'www.upcitemdb.com'. Adding certificate verification is strongly advised. See: https://urllib3.readthedocs.io/en/latest/advanced-usage.html#ssl-warnings\n",
      "  InsecureRequestWarning,\n"
     ]
    },
    {
     "name": "stdout",
     "output_type": "stream",
     "text": [
      "\tNo UPCs found on UPC_Item_DB.\n",
      "\tUpdated:  NaN\n",
      "\tUpdated:  NaN\n",
      "Searching product:  Halyard Health 10334  on UPC_Item_DB\n"
     ]
    },
    {
     "name": "stderr",
     "output_type": "stream",
     "text": [
      "D:\\Software\\anaconda3\\lib\\site-packages\\urllib3\\connectionpool.py:988: InsecureRequestWarning: Unverified HTTPS request is being made to host 'www.upcitemdb.com'. Adding certificate verification is strongly advised. See: https://urllib3.readthedocs.io/en/latest/advanced-usage.html#ssl-warnings\n",
      "  InsecureRequestWarning,\n"
     ]
    },
    {
     "name": "stdout",
     "output_type": "stream",
     "text": [
      "\tNo UPCs found on UPC_Item_DB.\n",
      "\tUpdated:  NaN\n",
      "\tUpdated:  NaN\n",
      "Searching product:  Halyard Health 10335  on UPC_Item_DB\n"
     ]
    },
    {
     "name": "stderr",
     "output_type": "stream",
     "text": [
      "D:\\Software\\anaconda3\\lib\\site-packages\\urllib3\\connectionpool.py:988: InsecureRequestWarning: Unverified HTTPS request is being made to host 'www.upcitemdb.com'. Adding certificate verification is strongly advised. See: https://urllib3.readthedocs.io/en/latest/advanced-usage.html#ssl-warnings\n",
      "  InsecureRequestWarning,\n"
     ]
    },
    {
     "name": "stdout",
     "output_type": "stream",
     "text": [
      "\tNo UPCs found on UPC_Item_DB.\n",
      "\tUpdated:  NaN\n",
      "\tUpdated:  NaN\n",
      "Searching product:  Halyard Health 10336  on UPC_Item_DB\n"
     ]
    },
    {
     "name": "stderr",
     "output_type": "stream",
     "text": [
      "D:\\Software\\anaconda3\\lib\\site-packages\\urllib3\\connectionpool.py:988: InsecureRequestWarning: Unverified HTTPS request is being made to host 'www.upcitemdb.com'. Adding certificate verification is strongly advised. See: https://urllib3.readthedocs.io/en/latest/advanced-usage.html#ssl-warnings\n",
      "  InsecureRequestWarning,\n"
     ]
    },
    {
     "name": "stdout",
     "output_type": "stream",
     "text": [
      "\tNo UPCs found on UPC_Item_DB.\n",
      "\tUpdated:  NaN\n",
      "\tUpdated:  NaN\n",
      "Searching product:  Halyard Health 10337  on UPC_Item_DB\n"
     ]
    },
    {
     "name": "stderr",
     "output_type": "stream",
     "text": [
      "D:\\Software\\anaconda3\\lib\\site-packages\\urllib3\\connectionpool.py:988: InsecureRequestWarning: Unverified HTTPS request is being made to host 'www.upcitemdb.com'. Adding certificate verification is strongly advised. See: https://urllib3.readthedocs.io/en/latest/advanced-usage.html#ssl-warnings\n",
      "  InsecureRequestWarning,\n"
     ]
    },
    {
     "name": "stdout",
     "output_type": "stream",
     "text": [
      "\tNo UPCs found on UPC_Item_DB.\n",
      "\tUpdated:  NaN\n",
      "\tUpdated:  NaN\n",
      "Searching product:  Halyard Health 10338  on UPC_Item_DB\n"
     ]
    },
    {
     "name": "stderr",
     "output_type": "stream",
     "text": [
      "D:\\Software\\anaconda3\\lib\\site-packages\\urllib3\\connectionpool.py:988: InsecureRequestWarning: Unverified HTTPS request is being made to host 'www.upcitemdb.com'. Adding certificate verification is strongly advised. See: https://urllib3.readthedocs.io/en/latest/advanced-usage.html#ssl-warnings\n",
      "  InsecureRequestWarning,\n"
     ]
    },
    {
     "name": "stdout",
     "output_type": "stream",
     "text": [
      "\tNo UPCs found on UPC_Item_DB.\n",
      "\tUpdated:  NaN\n",
      "\tUpdated:  NaN\n",
      "Searching product:  Halyard Health 75631  on UPC_Item_DB\n"
     ]
    },
    {
     "name": "stderr",
     "output_type": "stream",
     "text": [
      "D:\\Software\\anaconda3\\lib\\site-packages\\urllib3\\connectionpool.py:988: InsecureRequestWarning: Unverified HTTPS request is being made to host 'www.upcitemdb.com'. Adding certificate verification is strongly advised. See: https://urllib3.readthedocs.io/en/latest/advanced-usage.html#ssl-warnings\n",
      "  InsecureRequestWarning,\n"
     ]
    },
    {
     "name": "stdout",
     "output_type": "stream",
     "text": [
      "\tNo UPCs found on UPC_Item_DB.\n",
      "\tUpdated:  NaN\n",
      "\tUpdated:  NaN\n",
      "Searching product:  Halyard Health 75641  on UPC_Item_DB\n"
     ]
    },
    {
     "name": "stderr",
     "output_type": "stream",
     "text": [
      "D:\\Software\\anaconda3\\lib\\site-packages\\urllib3\\connectionpool.py:988: InsecureRequestWarning: Unverified HTTPS request is being made to host 'www.upcitemdb.com'. Adding certificate verification is strongly advised. See: https://urllib3.readthedocs.io/en/latest/advanced-usage.html#ssl-warnings\n",
      "  InsecureRequestWarning,\n"
     ]
    },
    {
     "name": "stdout",
     "output_type": "stream",
     "text": [
      "\tNo UPCs found on UPC_Item_DB.\n",
      "\tUpdated:  NaN\n",
      "\tUpdated:  NaN\n",
      "Searching product:  Halyard Health 75651  on UPC_Item_DB\n"
     ]
    },
    {
     "name": "stderr",
     "output_type": "stream",
     "text": [
      "D:\\Software\\anaconda3\\lib\\site-packages\\urllib3\\connectionpool.py:988: InsecureRequestWarning: Unverified HTTPS request is being made to host 'www.upcitemdb.com'. Adding certificate verification is strongly advised. See: https://urllib3.readthedocs.io/en/latest/advanced-usage.html#ssl-warnings\n",
      "  InsecureRequestWarning,\n"
     ]
    },
    {
     "name": "stdout",
     "output_type": "stream",
     "text": [
      "\tNo UPCs found on UPC_Item_DB.\n",
      "\tUpdated:  NaN\n",
      "\tUpdated:  NaN\n",
      "Searching product:  Halyard Health 10075  on UPC_Item_DB\n"
     ]
    },
    {
     "name": "stderr",
     "output_type": "stream",
     "text": [
      "D:\\Software\\anaconda3\\lib\\site-packages\\urllib3\\connectionpool.py:988: InsecureRequestWarning: Unverified HTTPS request is being made to host 'www.upcitemdb.com'. Adding certificate verification is strongly advised. See: https://urllib3.readthedocs.io/en/latest/advanced-usage.html#ssl-warnings\n",
      "  InsecureRequestWarning,\n"
     ]
    },
    {
     "name": "stdout",
     "output_type": "stream",
     "text": [
      "\tNo UPCs found on UPC_Item_DB.\n",
      "\tUpdated:  NaN\n",
      "\tUpdated:  NaN\n",
      "Searching product:  Halyard Health 10096  on UPC_Item_DB\n"
     ]
    },
    {
     "name": "stderr",
     "output_type": "stream",
     "text": [
      "D:\\Software\\anaconda3\\lib\\site-packages\\urllib3\\connectionpool.py:988: InsecureRequestWarning: Unverified HTTPS request is being made to host 'www.upcitemdb.com'. Adding certificate verification is strongly advised. See: https://urllib3.readthedocs.io/en/latest/advanced-usage.html#ssl-warnings\n",
      "  InsecureRequestWarning,\n"
     ]
    },
    {
     "name": "stdout",
     "output_type": "stream",
     "text": [
      "\tNo UPCs found on UPC_Item_DB.\n",
      "\tUpdated:  NaN\n",
      "\tUpdated:  NaN\n",
      "Searching product:  Halyard Health 10085  on UPC_Item_DB\n"
     ]
    },
    {
     "name": "stderr",
     "output_type": "stream",
     "text": [
      "D:\\Software\\anaconda3\\lib\\site-packages\\urllib3\\connectionpool.py:988: InsecureRequestWarning: Unverified HTTPS request is being made to host 'www.upcitemdb.com'. Adding certificate verification is strongly advised. See: https://urllib3.readthedocs.io/en/latest/advanced-usage.html#ssl-warnings\n",
      "  InsecureRequestWarning,\n"
     ]
    },
    {
     "name": "stdout",
     "output_type": "stream",
     "text": [
      "\tNo UPCs found on UPC_Item_DB.\n",
      "\tUpdated:  NaN\n",
      "\tUpdated:  NaN\n",
      "Searching product:  Halyard Health 10095  on UPC_Item_DB\n"
     ]
    },
    {
     "name": "stderr",
     "output_type": "stream",
     "text": [
      "D:\\Software\\anaconda3\\lib\\site-packages\\urllib3\\connectionpool.py:988: InsecureRequestWarning: Unverified HTTPS request is being made to host 'www.upcitemdb.com'. Adding certificate verification is strongly advised. See: https://urllib3.readthedocs.io/en/latest/advanced-usage.html#ssl-warnings\n",
      "  InsecureRequestWarning,\n"
     ]
    },
    {
     "name": "stdout",
     "output_type": "stream",
     "text": [
      "\tNo UPCs found on UPC_Item_DB.\n",
      "\tUpdated:  NaN\n",
      "\tUpdated:  NaN\n",
      "Searching product:  Halyard Health 69350  on UPC_Item_DB\n"
     ]
    },
    {
     "name": "stderr",
     "output_type": "stream",
     "text": [
      "D:\\Software\\anaconda3\\lib\\site-packages\\urllib3\\connectionpool.py:988: InsecureRequestWarning: Unverified HTTPS request is being made to host 'www.upcitemdb.com'. Adding certificate verification is strongly advised. See: https://urllib3.readthedocs.io/en/latest/advanced-usage.html#ssl-warnings\n",
      "  InsecureRequestWarning,\n"
     ]
    },
    {
     "name": "stdout",
     "output_type": "stream",
     "text": [
      "\tNo UPCs found on UPC_Item_DB.\n",
      "\tUpdated:  NaN\n",
      "\tUpdated:  NaN\n",
      "Searching product:  Halyard Health 69711  on UPC_Item_DB\n"
     ]
    },
    {
     "name": "stderr",
     "output_type": "stream",
     "text": [
      "D:\\Software\\anaconda3\\lib\\site-packages\\urllib3\\connectionpool.py:988: InsecureRequestWarning: Unverified HTTPS request is being made to host 'www.upcitemdb.com'. Adding certificate verification is strongly advised. See: https://urllib3.readthedocs.io/en/latest/advanced-usage.html#ssl-warnings\n",
      "  InsecureRequestWarning,\n"
     ]
    },
    {
     "name": "stdout",
     "output_type": "stream",
     "text": [
      "\tNo UPCs found on UPC_Item_DB.\n",
      "\tUpdated:  NaN\n",
      "\tUpdated:  NaN\n",
      "Searching product:  Halyard Health 69712  on UPC_Item_DB\n"
     ]
    },
    {
     "name": "stderr",
     "output_type": "stream",
     "text": [
      "D:\\Software\\anaconda3\\lib\\site-packages\\urllib3\\connectionpool.py:988: InsecureRequestWarning: Unverified HTTPS request is being made to host 'www.upcitemdb.com'. Adding certificate verification is strongly advised. See: https://urllib3.readthedocs.io/en/latest/advanced-usage.html#ssl-warnings\n",
      "  InsecureRequestWarning,\n"
     ]
    },
    {
     "name": "stdout",
     "output_type": "stream",
     "text": [
      "\tNo UPCs found on UPC_Item_DB.\n",
      "\tUpdated:  NaN\n",
      "\tUpdated:  NaN\n",
      "Searching product:  Halyard Health 69713  on UPC_Item_DB\n"
     ]
    },
    {
     "name": "stderr",
     "output_type": "stream",
     "text": [
      "D:\\Software\\anaconda3\\lib\\site-packages\\urllib3\\connectionpool.py:988: InsecureRequestWarning: Unverified HTTPS request is being made to host 'www.upcitemdb.com'. Adding certificate verification is strongly advised. See: https://urllib3.readthedocs.io/en/latest/advanced-usage.html#ssl-warnings\n",
      "  InsecureRequestWarning,\n"
     ]
    },
    {
     "name": "stdout",
     "output_type": "stream",
     "text": [
      "\tNo UPCs found on UPC_Item_DB.\n",
      "\tUpdated:  NaN\n",
      "\tUpdated:  NaN\n",
      "Searching product:  Halyard Health 69714  on UPC_Item_DB\n"
     ]
    },
    {
     "name": "stderr",
     "output_type": "stream",
     "text": [
      "D:\\Software\\anaconda3\\lib\\site-packages\\urllib3\\connectionpool.py:988: InsecureRequestWarning: Unverified HTTPS request is being made to host 'www.upcitemdb.com'. Adding certificate verification is strongly advised. See: https://urllib3.readthedocs.io/en/latest/advanced-usage.html#ssl-warnings\n",
      "  InsecureRequestWarning,\n"
     ]
    },
    {
     "name": "stdout",
     "output_type": "stream",
     "text": [
      "\tNo UPCs found on UPC_Item_DB.\n",
      "\tUpdated:  NaN\n",
      "\tUpdated:  NaN\n",
      "Searching product:  Halyard Health 69701  on UPC_Item_DB\n"
     ]
    },
    {
     "name": "stderr",
     "output_type": "stream",
     "text": [
      "D:\\Software\\anaconda3\\lib\\site-packages\\urllib3\\connectionpool.py:988: InsecureRequestWarning: Unverified HTTPS request is being made to host 'www.upcitemdb.com'. Adding certificate verification is strongly advised. See: https://urllib3.readthedocs.io/en/latest/advanced-usage.html#ssl-warnings\n",
      "  InsecureRequestWarning,\n"
     ]
    },
    {
     "name": "stdout",
     "output_type": "stream",
     "text": [
      "\tNo UPCs found on UPC_Item_DB.\n",
      "\tUpdated:  NaN\n",
      "\tUpdated:  NaN\n",
      "Searching product:  Halyard Health 69702  on UPC_Item_DB\n"
     ]
    },
    {
     "name": "stderr",
     "output_type": "stream",
     "text": [
      "D:\\Software\\anaconda3\\lib\\site-packages\\urllib3\\connectionpool.py:988: InsecureRequestWarning: Unverified HTTPS request is being made to host 'www.upcitemdb.com'. Adding certificate verification is strongly advised. See: https://urllib3.readthedocs.io/en/latest/advanced-usage.html#ssl-warnings\n",
      "  InsecureRequestWarning,\n"
     ]
    },
    {
     "name": "stdout",
     "output_type": "stream",
     "text": [
      "\tNo UPCs found on UPC_Item_DB.\n",
      "\tUpdated:  NaN\n",
      "\tUpdated:  NaN\n",
      "Searching product:  Halyard Health 69703  on UPC_Item_DB\n"
     ]
    },
    {
     "name": "stderr",
     "output_type": "stream",
     "text": [
      "D:\\Software\\anaconda3\\lib\\site-packages\\urllib3\\connectionpool.py:988: InsecureRequestWarning: Unverified HTTPS request is being made to host 'www.upcitemdb.com'. Adding certificate verification is strongly advised. See: https://urllib3.readthedocs.io/en/latest/advanced-usage.html#ssl-warnings\n",
      "  InsecureRequestWarning,\n"
     ]
    },
    {
     "name": "stdout",
     "output_type": "stream",
     "text": [
      "\tNo UPCs found on UPC_Item_DB.\n",
      "\tUpdated:  NaN\n",
      "\tUpdated:  NaN\n",
      "Searching product:  Halyard Health 69704  on UPC_Item_DB\n"
     ]
    },
    {
     "name": "stderr",
     "output_type": "stream",
     "text": [
      "D:\\Software\\anaconda3\\lib\\site-packages\\urllib3\\connectionpool.py:988: InsecureRequestWarning: Unverified HTTPS request is being made to host 'www.upcitemdb.com'. Adding certificate verification is strongly advised. See: https://urllib3.readthedocs.io/en/latest/advanced-usage.html#ssl-warnings\n",
      "  InsecureRequestWarning,\n"
     ]
    },
    {
     "name": "stdout",
     "output_type": "stream",
     "text": [
      "\tNo UPCs found on UPC_Item_DB.\n",
      "\tUpdated:  NaN\n",
      "\tUpdated:  NaN\n",
      "Wall time: 2h 28min 51s\n"
     ]
    }
   ],
   "source": [
    "%%time\n",
    "case_list = {}\n",
    "box_list = {}\n",
    "start = 0\n",
    "\n",
    "for i in range(start, len(upcs)):    # for each product\n",
    "    search = upcs.loc[i, 'search']\n",
    "    print('Searching product: ', search, ' on UPC_Item_DB')\n",
    "    \n",
    "    search = search.replace(' ','%20')\n",
    "    url = 'https://www.upcitemdb.com/upc/' + search\n",
    "    response = requests.get(url, headers=my_header, verify=False)\n",
    "    time.sleep(0.1)\n",
    "    \n",
    "    if(response):\n",
    "        print('\\tProduct found!')\n",
    "        \n",
    "        text = BeautifulSoup(response.text, 'html.parser')\n",
    "        text = text.find_all('div', {'class': 'upclist col-xs-12'})\n",
    "        text = text[0].ul.find_all('div',{'class': 'rImage'})\n",
    "        upc_list = [t.a.get_text() for t in text]\n",
    "\n",
    "        for upc in upc_list:   # count number of shoppping options for each upc\n",
    "            print('\\tChecking UPC: ', upc)\n",
    "            \n",
    "            url = 'https://www.upcitemdb.com/upc/' + upc\n",
    "            response = requests.get(url, headers=my_header, verify=False)\n",
    "            time.sleep(0.01)\n",
    "            text = BeautifulSoup(response.text, 'html.parser')\n",
    "            \n",
    "            descr = text.find('div',{'class':'col-sm-12'}).get_text().lower()\n",
    "            num_options = len(text.find('div',{'class':'tabcon-compare box row'}).find_all('tr')) - 1\n",
    "            if (descr.find('case') >= 0) or (descr.find('cart') >= 0):\n",
    "                print('\\tcase links found: ', num_options)\n",
    "                case_list[upc] = num_options\n",
    "            elif descr.find('glove') >= 0:\n",
    "                print('\\tbox links found: ', num_options)\n",
    "                box_list[upc] = num_options\n",
    "            else:\n",
    "                print('\\tnot relevant')\n",
    "            \n",
    "            time.sleep(random.randint(10, 20))\n",
    "    else:\n",
    "        print('\\tNo UPCs found on UPC_Item_DB.')\n",
    "    \n",
    "    # use max number of options to select best UPC\n",
    "    if case_list:\n",
    "        upcs.loc[i, 'case_gtin'] = sorted(case_list.items(), key=lambda x: x[1], reverse=True)[0][0]\n",
    "    if box_list:\n",
    "        upcs.loc[i, 'box_gtin'] = sorted(box_list.items(), key=lambda x: x[1], reverse=True)[0][0]\n",
    "#     print('Updated table:')\n",
    "    print('\\tUpdated: ', upcs.iloc[i].case_gtin)\n",
    "    print('\\tUpdated: ', upcs.iloc[i].box_gtin)\n",
    "    \n",
    "    case_list = {}\n",
    "    box_list = {}\n",
    "    \n",
    "    time.sleep(random.randint(10, 20))\n",
    "#     break"
   ]
  },
  {
   "cell_type": "code",
   "execution_count": 34,
   "metadata": {},
   "outputs": [
    {
     "data": {
      "text/plain": [
       "\"\\n\\n\\n\\n\\n\\nUPC 713145685826 - Halyard Health KIM 69455 Impervious Knit Cuffs Open Back Gown - Blue Large - 60  | upcitemdb.com \\n\\n\\n\\n\\n\\n\\n\\n\\n\\n\\n\\n\\n\\n\\n\\n\\n\\n\\n\\n\\n\\n\\nToggle navigation\\nupcitemdb\\n\\n\\n\\n\\n\\n\\n\\n\\n\\t\\t\\t\\t\\t\\t\\t\\t\\t\\t\\tUPC \\n\\nUPCProduct NameBook  TitleValidator \\n\\n\\n\\n\\n\\n\\n\\nAPI\\nDocumentation\\n\\n\\n\\n\\n\\n\\n\\nUPC 713145685826\\n\\n        UPC 713145685826 is associated with Halyard Health KIM 69455 Impervious Knit Cuffs Open Back Gown - Blue Large - 60   \\n\\n\\n\\nBusiness & Industrial > Medical > Hospital Gowns\\n\\n\\n \\n\\n\\n\\n\\n\\n\\n\\n ZOOM\\n\\n  UPC 713145685826 has following Product Name Variations:\\n\\nHalyard Health KIM 69455 Impervious Knit Cuffs Open Back Gown - Blue Large - 60    \\n\\n\\n\\n\\n\\n\\nMore Info\\n\\n\\n\\nUPC-A:7 13145 68582 6\\nEAN-13:0 713145 685826\\nCountry of Registration:United States\\nBrand:                    \\t\\t\\tHalyard Health                        \\nModel #:KIM 69455\\nLast Scanned:2017-10-25 10:50:45\\n\\n\\n\\n\\n\\n \\n\\n\\n \\n\\n \\nShopping Info\\nProducts with UPC 713145685826 were listed on the following websites. Product prices are accurate as of the date/time indicated and are subject to change.\\n\\n\\n\\n\\n\\n\\nStores\\nProduct Info\\nPrice\\nLast Updated\\n\\n\\n\\n\\n UnbeatableSale.com \\nHalyard Health KIM 69455 Impervious Knit Cuffs Open Back Gown - Blue Large - 60 \\n$196.12\\n2017-10-25 10:50:45\\n\\n\\n\\n\\n\\n\\n\\nSimilar UPC Numbers\\n\\n\\n\\n\\n713145015036\\nCade Washclothes,100% Cotton, Commercial Grade, Appropriate for use in Bathroom,\\n\\n\\n\\n\\n\\n713145015043\\nCade Digital Kitchen Timer, Cooking Timer with Large Display Screen, Loud Soundi\\n\\n\\n\\n\\n\\n713145015050\\nCade Digital Kitchen Timer, Cooking Timer with Large Display Screen, Loud Soundi\\n\\n\\n\\n\\n\\n713145015098\\nCade Digital Meat Thermometer , Instant Read, Talking, Back Light, Collapsible P\\n\\n\\n\\n\\n\\n713145015104\\nCade Digital Meat Thermometer , Instant Read, Talking, Back Light, Collapsible P\\n\\n\\n\\n\\n\\n713145015111\\nCade Digital Meat Thermometer , Instant Read, Talking, Back Light, Collapsible P\\n\\n\\n\\n\\n\\n713145015128\\nCade Digital Meat Thermometer , Instant Read, Talking, Back Light, Collapsible P\\n\\n\\n\\n\\n\\n713145015135\\nCade Portable Travel High Chair Booster - Baby Safe Seating Wrap -Toddler Safety\\n\\n\\n\\n\\n\\n713145015142\\nCade Portable Travel High Chair Booster - Baby Safe Seating Wrap -Toddler Safety\\n\\n\\n\\n\\n\\n713145015159\\nCade Portable Travel High Chair Booster - Baby Safe Seating Wrap -Toddler Safety\\n\\n\\n\\n\\n\\n\\n\\n    \\t\\t\\t\\t    \\t\\t\\t\\t\\tDo you find this info accurate?\\n    \\t\\t\\t\\t    \\t\\t\\t\\t\\n Oh Yes\\n Hell No\\n\\n\\n\\n\\n\\n    \\t\\t\\t\\t\\t\\tDescription  Edit it if you can enhance the content.\\n\\n\\nHalyard Health KIM 69455 Impervious Knit Cuffs Open Back Gown - Blue Large - 60 \\n\\nSubmit\\nCancel\\nThanks for your input! We will check it out.\\n\\n\\n\\n\\n\\n\\n\\n\\n\\n\\n×\\n \\n\\n\\n\\n\\n\\n\\n\\n\\n\\nPrivacy\\nTerms\\nAPI\\nFees & Billing\\n\\n© 2020 UPCitemdb.com\\nContact\\n\\n\\n\\n\\n\\n\\n\\n\\nDisclaimer: The information is all provided as-is, with no guarantees on availability or accuracy of the results. We'll certainly do our best to make the service highly-available though, and the results accurate.\\n\\t\\t\\t\\tDisclosure: We may earn a commission when you use one of our links to make a purchase.\\t\\t\\t\\tCopyright @ 2020 upcitemdb.com. All rights reserved.\\n\\n\\n\\n\\n\\n\\n\\n\\n\\n\\n\\n\\n\\n\\n\\n\\n\\n\\n\""
      ]
     },
     "execution_count": 34,
     "metadata": {},
     "output_type": "execute_result"
    }
   ],
   "source": [
    "text.get_text()"
   ]
  },
  {
   "cell_type": "code",
   "execution_count": 49,
   "metadata": {},
   "outputs": [],
   "source": [
    "upcs = products.merge(upcs[['product_number', 'case_gtin', 'box_gtin']], on='product_number')"
   ]
  },
  {
   "cell_type": "code",
   "execution_count": 21,
   "metadata": {},
   "outputs": [],
   "source": [
    "products.to_csv('output/sterile_gloves_gtin.csv')"
   ]
  },
  {
   "cell_type": "code",
   "execution_count": null,
   "metadata": {},
   "outputs": [],
   "source": []
  },
  {
   "cell_type": "code",
   "execution_count": null,
   "metadata": {},
   "outputs": [],
   "source": []
  },
  {
   "cell_type": "code",
   "execution_count": null,
   "metadata": {},
   "outputs": [],
   "source": []
  },
  {
   "cell_type": "markdown",
   "metadata": {},
   "source": [
    "# Debug"
   ]
  },
  {
   "cell_type": "code",
   "execution_count": 299,
   "metadata": {},
   "outputs": [
    {
     "name": "stderr",
     "output_type": "stream",
     "text": [
      "D:\\Software\\anaconda3\\lib\\site-packages\\urllib3\\connectionpool.py:988: InsecureRequestWarning: Unverified HTTPS request is being made to host 'www.upcitemdb.com'. Adding certificate verification is strongly advised. See: https://urllib3.readthedocs.io/en/latest/advanced-usage.html#ssl-warnings\n",
      "  InsecureRequestWarning,\n"
     ]
    }
   ],
   "source": [
    "url = 'https://www.upcitemdb.com/upc/30680651550812'\n",
    "response = requests.get(url, headers=my_header, verify=False)"
   ]
  },
  {
   "cell_type": "code",
   "execution_count": 304,
   "metadata": {
    "scrolled": true
   },
   "outputs": [
    {
     "data": {
      "text/plain": [
       "102"
      ]
     },
     "execution_count": 304,
     "metadata": {},
     "output_type": "execute_result"
    }
   ],
   "source": [
    "text = BeautifulSoup(response.text, 'html.parser')\n",
    "text.get_text().lower().find('cart')"
   ]
  },
  {
   "cell_type": "code",
   "execution_count": 287,
   "metadata": {},
   "outputs": [
    {
     "data": {
      "text/html": [
       "<div>\n",
       "<style scoped>\n",
       "    .dataframe tbody tr th:only-of-type {\n",
       "        vertical-align: middle;\n",
       "    }\n",
       "\n",
       "    .dataframe tbody tr th {\n",
       "        vertical-align: top;\n",
       "    }\n",
       "\n",
       "    .dataframe thead th {\n",
       "        text-align: right;\n",
       "    }\n",
       "</style>\n",
       "<table border=\"1\" class=\"dataframe\">\n",
       "  <thead>\n",
       "    <tr style=\"text-align: right;\">\n",
       "      <th></th>\n",
       "      <th>mfg</th>\n",
       "      <th>product</th>\n",
       "      <th>search</th>\n",
       "      <th>case_gtin</th>\n",
       "      <th>box_gtin</th>\n",
       "    </tr>\n",
       "  </thead>\n",
       "  <tbody>\n",
       "    <tr>\n",
       "      <th>0</th>\n",
       "      <td>Halyard Health</td>\n",
       "      <td>50852</td>\n",
       "      <td>Halyard Health 50852</td>\n",
       "      <td>000000000000</td>\n",
       "      <td>000000000000</td>\n",
       "    </tr>\n",
       "    <tr>\n",
       "      <th>1</th>\n",
       "      <td>Halyard Health</td>\n",
       "      <td>50853</td>\n",
       "      <td>Halyard Health 50853</td>\n",
       "      <td>000000000000</td>\n",
       "      <td>000000000000</td>\n",
       "    </tr>\n",
       "    <tr>\n",
       "      <th>2</th>\n",
       "      <td>Halyard Health</td>\n",
       "      <td>55080</td>\n",
       "      <td>Halyard Health 55080</td>\n",
       "      <td>000000000000</td>\n",
       "      <td>036000550801</td>\n",
       "    </tr>\n",
       "    <tr>\n",
       "      <th>3</th>\n",
       "      <td>Halyard Health</td>\n",
       "      <td>52101</td>\n",
       "      <td>Halyard Health 52101</td>\n",
       "      <td>000000000000</td>\n",
       "      <td>820170072870</td>\n",
       "    </tr>\n",
       "    <tr>\n",
       "      <th>4</th>\n",
       "      <td>Halyard Health</td>\n",
       "      <td>52102</td>\n",
       "      <td>Halyard Health 52102</td>\n",
       "      <td>000000000000</td>\n",
       "      <td>820170072894</td>\n",
       "    </tr>\n",
       "    <tr>\n",
       "      <th>5</th>\n",
       "      <td>Halyard Health</td>\n",
       "      <td>52103</td>\n",
       "      <td>Halyard Health 52103</td>\n",
       "      <td>713049530543</td>\n",
       "      <td>820170072917</td>\n",
       "    </tr>\n",
       "    <tr>\n",
       "      <th>6</th>\n",
       "      <td>Halyard Health</td>\n",
       "      <td>55091</td>\n",
       "      <td>Halyard Health 55091</td>\n",
       "      <td>820170073709</td>\n",
       "      <td>820170073693</td>\n",
       "    </tr>\n",
       "    <tr>\n",
       "      <th>7</th>\n",
       "      <td>Halyard Health</td>\n",
       "      <td>55092</td>\n",
       "      <td>Halyard Health 55092</td>\n",
       "      <td>820170073723</td>\n",
       "      <td>073598346935</td>\n",
       "    </tr>\n",
       "    <tr>\n",
       "      <th>8</th>\n",
       "      <td>Halyard Health</td>\n",
       "      <td>55093</td>\n",
       "      <td>Halyard Health 55093</td>\n",
       "      <td>820170073747</td>\n",
       "      <td>820170073730</td>\n",
       "    </tr>\n",
       "    <tr>\n",
       "      <th>9</th>\n",
       "      <td>Halyard Health</td>\n",
       "      <td>47459</td>\n",
       "      <td>Halyard Health 47459</td>\n",
       "      <td>000000000000</td>\n",
       "      <td>000000000000</td>\n",
       "    </tr>\n",
       "  </tbody>\n",
       "</table>\n",
       "</div>"
      ],
      "text/plain": [
       "              mfg  product                search     case_gtin      box_gtin\n",
       "0  Halyard Health    50852  Halyard Health 50852  000000000000  000000000000\n",
       "1  Halyard Health    50853  Halyard Health 50853  000000000000  000000000000\n",
       "2  Halyard Health    55080  Halyard Health 55080  000000000000  036000550801\n",
       "3  Halyard Health    52101  Halyard Health 52101  000000000000  820170072870\n",
       "4  Halyard Health    52102  Halyard Health 52102  000000000000  820170072894\n",
       "5  Halyard Health    52103  Halyard Health 52103  713049530543  820170072917\n",
       "6  Halyard Health    55091  Halyard Health 55091  820170073709  820170073693\n",
       "7  Halyard Health    55092  Halyard Health 55092  820170073723  073598346935\n",
       "8  Halyard Health    55093  Halyard Health 55093  820170073747  820170073730\n",
       "9  Halyard Health    47459  Halyard Health 47459  000000000000  000000000000"
      ]
     },
     "execution_count": 287,
     "metadata": {},
     "output_type": "execute_result"
    }
   ],
   "source": [
    "upcs2"
   ]
  },
  {
   "cell_type": "code",
   "execution_count": 280,
   "metadata": {
    "scrolled": true
   },
   "outputs": [
    {
     "data": {
      "text/html": [
       "<div>\n",
       "<style scoped>\n",
       "    .dataframe tbody tr th:only-of-type {\n",
       "        vertical-align: middle;\n",
       "    }\n",
       "\n",
       "    .dataframe tbody tr th {\n",
       "        vertical-align: top;\n",
       "    }\n",
       "\n",
       "    .dataframe thead th {\n",
       "        text-align: right;\n",
       "    }\n",
       "</style>\n",
       "<table border=\"1\" class=\"dataframe\">\n",
       "  <thead>\n",
       "    <tr style=\"text-align: right;\">\n",
       "      <th></th>\n",
       "      <th>mfg</th>\n",
       "      <th>product</th>\n",
       "      <th>search</th>\n",
       "      <th>case_gtin</th>\n",
       "      <th>box_gtin</th>\n",
       "    </tr>\n",
       "  </thead>\n",
       "  <tbody>\n",
       "    <tr>\n",
       "      <th>0</th>\n",
       "      <td>Halyard Health</td>\n",
       "      <td>55081</td>\n",
       "      <td>Halyard Health 55081</td>\n",
       "      <td>823019646171</td>\n",
       "      <td>036000550818</td>\n",
       "    </tr>\n",
       "    <tr>\n",
       "      <th>1</th>\n",
       "      <td>Halyard Health</td>\n",
       "      <td>55082</td>\n",
       "      <td>Halyard Health 55082</td>\n",
       "      <td>30680651550829</td>\n",
       "      <td>036000550825</td>\n",
       "    </tr>\n",
       "    <tr>\n",
       "      <th>2</th>\n",
       "      <td>Halyard Health</td>\n",
       "      <td>55083</td>\n",
       "      <td>Halyard Health 55083</td>\n",
       "      <td>30680651550836</td>\n",
       "      <td>816687292108</td>\n",
       "    </tr>\n",
       "    <tr>\n",
       "      <th>3</th>\n",
       "      <td>Halyard Health</td>\n",
       "      <td>55084</td>\n",
       "      <td>Halyard Health 55084</td>\n",
       "      <td>30680651550843</td>\n",
       "      <td>741360082212</td>\n",
       "    </tr>\n",
       "    <tr>\n",
       "      <th>4</th>\n",
       "      <td>Halyard Health</td>\n",
       "      <td>50852</td>\n",
       "      <td>Halyard Health 50852</td>\n",
       "      <td>000000000000</td>\n",
       "      <td>000000000000</td>\n",
       "    </tr>\n",
       "    <tr>\n",
       "      <th>...</th>\n",
       "      <td>...</td>\n",
       "      <td>...</td>\n",
       "      <td>...</td>\n",
       "      <td>...</td>\n",
       "      <td>...</td>\n",
       "    </tr>\n",
       "    <tr>\n",
       "      <th>103</th>\n",
       "      <td>Halyard Health</td>\n",
       "      <td>44792</td>\n",
       "      <td>Halyard Health 44792</td>\n",
       "      <td>000000000000</td>\n",
       "      <td>000000000000</td>\n",
       "    </tr>\n",
       "    <tr>\n",
       "      <th>104</th>\n",
       "      <td>Halyard Health</td>\n",
       "      <td>44793</td>\n",
       "      <td>Halyard Health 44793</td>\n",
       "      <td>000000000000</td>\n",
       "      <td>000000000000</td>\n",
       "    </tr>\n",
       "    <tr>\n",
       "      <th>105</th>\n",
       "      <td>Halyard Health</td>\n",
       "      <td>44794</td>\n",
       "      <td>Halyard Health 44794</td>\n",
       "      <td>000000000000</td>\n",
       "      <td>000000000000</td>\n",
       "    </tr>\n",
       "    <tr>\n",
       "      <th>106</th>\n",
       "      <td>Halyard Health</td>\n",
       "      <td>44795</td>\n",
       "      <td>Halyard Health 44795</td>\n",
       "      <td>000000000000</td>\n",
       "      <td>000000000000</td>\n",
       "    </tr>\n",
       "    <tr>\n",
       "      <th>107</th>\n",
       "      <td>Halyard Health</td>\n",
       "      <td>44796</td>\n",
       "      <td>Halyard Health 44796</td>\n",
       "      <td>000000000000</td>\n",
       "      <td>000000000000</td>\n",
       "    </tr>\n",
       "  </tbody>\n",
       "</table>\n",
       "<p>108 rows × 5 columns</p>\n",
       "</div>"
      ],
      "text/plain": [
       "                mfg  product                search       case_gtin  \\\n",
       "0    Halyard Health    55081  Halyard Health 55081    823019646171   \n",
       "1    Halyard Health    55082  Halyard Health 55082  30680651550829   \n",
       "2    Halyard Health    55083  Halyard Health 55083  30680651550836   \n",
       "3    Halyard Health    55084  Halyard Health 55084  30680651550843   \n",
       "4    Halyard Health    50852  Halyard Health 50852    000000000000   \n",
       "..              ...      ...                   ...             ...   \n",
       "103  Halyard Health    44792  Halyard Health 44792    000000000000   \n",
       "104  Halyard Health    44793  Halyard Health 44793    000000000000   \n",
       "105  Halyard Health    44794  Halyard Health 44794    000000000000   \n",
       "106  Halyard Health    44795  Halyard Health 44795    000000000000   \n",
       "107  Halyard Health    44796  Halyard Health 44796    000000000000   \n",
       "\n",
       "         box_gtin  \n",
       "0    036000550818  \n",
       "1    036000550825  \n",
       "2    816687292108  \n",
       "3    741360082212  \n",
       "4    000000000000  \n",
       "..            ...  \n",
       "103  000000000000  \n",
       "104  000000000000  \n",
       "105  000000000000  \n",
       "106  000000000000  \n",
       "107  000000000000  \n",
       "\n",
       "[108 rows x 5 columns]"
      ]
     },
     "execution_count": 280,
     "metadata": {},
     "output_type": "execute_result"
    }
   ],
   "source": [
    "upcs"
   ]
  },
  {
   "cell_type": "code",
   "execution_count": 288,
   "metadata": {},
   "outputs": [
    {
     "name": "stderr",
     "output_type": "stream",
     "text": [
      "D:\\Software\\anaconda3\\lib\\site-packages\\pandas\\core\\indexing.py:1717: SettingWithCopyWarning: \n",
      "A value is trying to be set on a copy of a slice from a DataFrame.\n",
      "Try using .loc[row_indexer,col_indexer] = value instead\n",
      "\n",
      "See the caveats in the documentation: https://pandas.pydata.org/pandas-docs/stable/user_guide/indexing.html#returning-a-view-versus-a-copy\n",
      "  isetter(loc, v)\n"
     ]
    }
   ],
   "source": [
    "upcs.iloc[4:14] = upcs2.iloc[0:10]"
   ]
  },
  {
   "cell_type": "code",
   "execution_count": 292,
   "metadata": {},
   "outputs": [
    {
     "data": {
      "text/html": [
       "<div>\n",
       "<style scoped>\n",
       "    .dataframe tbody tr th:only-of-type {\n",
       "        vertical-align: middle;\n",
       "    }\n",
       "\n",
       "    .dataframe tbody tr th {\n",
       "        vertical-align: top;\n",
       "    }\n",
       "\n",
       "    .dataframe thead th {\n",
       "        text-align: right;\n",
       "    }\n",
       "</style>\n",
       "<table border=\"1\" class=\"dataframe\">\n",
       "  <thead>\n",
       "    <tr style=\"text-align: right;\">\n",
       "      <th></th>\n",
       "      <th>mfg</th>\n",
       "      <th>product</th>\n",
       "      <th>search</th>\n",
       "      <th>case_gtin</th>\n",
       "      <th>box_gtin</th>\n",
       "    </tr>\n",
       "  </thead>\n",
       "  <tbody>\n",
       "    <tr>\n",
       "      <th>3</th>\n",
       "      <td>Halyard Health</td>\n",
       "      <td>55084.0</td>\n",
       "      <td>Halyard Health 55084</td>\n",
       "      <td>30680651550843</td>\n",
       "      <td>741360082212</td>\n",
       "    </tr>\n",
       "    <tr>\n",
       "      <th>4</th>\n",
       "      <td>Halyard Health</td>\n",
       "      <td>52102.0</td>\n",
       "      <td>Halyard Health 52102</td>\n",
       "      <td>000000000000</td>\n",
       "      <td>820170072894</td>\n",
       "    </tr>\n",
       "    <tr>\n",
       "      <th>5</th>\n",
       "      <td>Halyard Health</td>\n",
       "      <td>52103.0</td>\n",
       "      <td>Halyard Health 52103</td>\n",
       "      <td>713049530543</td>\n",
       "      <td>820170072917</td>\n",
       "    </tr>\n",
       "    <tr>\n",
       "      <th>6</th>\n",
       "      <td>Halyard Health</td>\n",
       "      <td>55091.0</td>\n",
       "      <td>Halyard Health 55091</td>\n",
       "      <td>820170073709</td>\n",
       "      <td>820170073693</td>\n",
       "    </tr>\n",
       "    <tr>\n",
       "      <th>7</th>\n",
       "      <td>Halyard Health</td>\n",
       "      <td>55092.0</td>\n",
       "      <td>Halyard Health 55092</td>\n",
       "      <td>820170073723</td>\n",
       "      <td>073598346935</td>\n",
       "    </tr>\n",
       "    <tr>\n",
       "      <th>8</th>\n",
       "      <td>Halyard Health</td>\n",
       "      <td>55093.0</td>\n",
       "      <td>Halyard Health 55093</td>\n",
       "      <td>820170073747</td>\n",
       "      <td>820170073730</td>\n",
       "    </tr>\n",
       "    <tr>\n",
       "      <th>9</th>\n",
       "      <td>Halyard Health</td>\n",
       "      <td>47459.0</td>\n",
       "      <td>Halyard Health 47459</td>\n",
       "      <td>000000000000</td>\n",
       "      <td>000000000000</td>\n",
       "    </tr>\n",
       "    <tr>\n",
       "      <th>10</th>\n",
       "      <td>NaN</td>\n",
       "      <td>NaN</td>\n",
       "      <td>NaN</td>\n",
       "      <td>NaN</td>\n",
       "      <td>NaN</td>\n",
       "    </tr>\n",
       "    <tr>\n",
       "      <th>11</th>\n",
       "      <td>NaN</td>\n",
       "      <td>NaN</td>\n",
       "      <td>NaN</td>\n",
       "      <td>NaN</td>\n",
       "      <td>NaN</td>\n",
       "    </tr>\n",
       "    <tr>\n",
       "      <th>12</th>\n",
       "      <td>NaN</td>\n",
       "      <td>NaN</td>\n",
       "      <td>NaN</td>\n",
       "      <td>NaN</td>\n",
       "      <td>NaN</td>\n",
       "    </tr>\n",
       "    <tr>\n",
       "      <th>13</th>\n",
       "      <td>NaN</td>\n",
       "      <td>NaN</td>\n",
       "      <td>NaN</td>\n",
       "      <td>NaN</td>\n",
       "      <td>NaN</td>\n",
       "    </tr>\n",
       "    <tr>\n",
       "      <th>14</th>\n",
       "      <td>Halyard Health</td>\n",
       "      <td>47460.0</td>\n",
       "      <td>Halyard Health 47460</td>\n",
       "      <td>000000000000</td>\n",
       "      <td>000000000000</td>\n",
       "    </tr>\n",
       "    <tr>\n",
       "      <th>15</th>\n",
       "      <td>Halyard Health</td>\n",
       "      <td>47461.0</td>\n",
       "      <td>Halyard Health 47461</td>\n",
       "      <td>000000000000</td>\n",
       "      <td>000000000000</td>\n",
       "    </tr>\n",
       "    <tr>\n",
       "      <th>16</th>\n",
       "      <td>Halyard Health</td>\n",
       "      <td>47462.0</td>\n",
       "      <td>Halyard Health 47462</td>\n",
       "      <td>000000000000</td>\n",
       "      <td>000000000000</td>\n",
       "    </tr>\n",
       "    <tr>\n",
       "      <th>17</th>\n",
       "      <td>Halyard Health</td>\n",
       "      <td>47463.0</td>\n",
       "      <td>Halyard Health 47463</td>\n",
       "      <td>000000000000</td>\n",
       "      <td>000000000000</td>\n",
       "    </tr>\n",
       "    <tr>\n",
       "      <th>18</th>\n",
       "      <td>Halyard Health</td>\n",
       "      <td>14259.0</td>\n",
       "      <td>Halyard Health 14259</td>\n",
       "      <td>000000000000</td>\n",
       "      <td>000000000000</td>\n",
       "    </tr>\n",
       "    <tr>\n",
       "      <th>19</th>\n",
       "      <td>Halyard Health</td>\n",
       "      <td>14260.0</td>\n",
       "      <td>Halyard Health 14260</td>\n",
       "      <td>000000000000</td>\n",
       "      <td>000000000000</td>\n",
       "    </tr>\n",
       "  </tbody>\n",
       "</table>\n",
       "</div>"
      ],
      "text/plain": [
       "               mfg  product                search       case_gtin  \\\n",
       "3   Halyard Health  55084.0  Halyard Health 55084  30680651550843   \n",
       "4   Halyard Health  52102.0  Halyard Health 52102    000000000000   \n",
       "5   Halyard Health  52103.0  Halyard Health 52103    713049530543   \n",
       "6   Halyard Health  55091.0  Halyard Health 55091    820170073709   \n",
       "7   Halyard Health  55092.0  Halyard Health 55092    820170073723   \n",
       "8   Halyard Health  55093.0  Halyard Health 55093    820170073747   \n",
       "9   Halyard Health  47459.0  Halyard Health 47459    000000000000   \n",
       "10             NaN      NaN                   NaN             NaN   \n",
       "11             NaN      NaN                   NaN             NaN   \n",
       "12             NaN      NaN                   NaN             NaN   \n",
       "13             NaN      NaN                   NaN             NaN   \n",
       "14  Halyard Health  47460.0  Halyard Health 47460    000000000000   \n",
       "15  Halyard Health  47461.0  Halyard Health 47461    000000000000   \n",
       "16  Halyard Health  47462.0  Halyard Health 47462    000000000000   \n",
       "17  Halyard Health  47463.0  Halyard Health 47463    000000000000   \n",
       "18  Halyard Health  14259.0  Halyard Health 14259    000000000000   \n",
       "19  Halyard Health  14260.0  Halyard Health 14260    000000000000   \n",
       "\n",
       "        box_gtin  \n",
       "3   741360082212  \n",
       "4   820170072894  \n",
       "5   820170072917  \n",
       "6   820170073693  \n",
       "7   073598346935  \n",
       "8   820170073730  \n",
       "9   000000000000  \n",
       "10           NaN  \n",
       "11           NaN  \n",
       "12           NaN  \n",
       "13           NaN  \n",
       "14  000000000000  \n",
       "15  000000000000  \n",
       "16  000000000000  \n",
       "17  000000000000  \n",
       "18  000000000000  \n",
       "19  000000000000  "
      ]
     },
     "execution_count": 292,
     "metadata": {},
     "output_type": "execute_result"
    }
   ],
   "source": [
    "upcs.iloc[3:20]"
   ]
  },
  {
   "cell_type": "code",
   "execution_count": 282,
   "metadata": {
    "scrolled": true
   },
   "outputs": [
    {
     "data": {
      "text/html": [
       "<div>\n",
       "<style scoped>\n",
       "    .dataframe tbody tr th:only-of-type {\n",
       "        vertical-align: middle;\n",
       "    }\n",
       "\n",
       "    .dataframe tbody tr th {\n",
       "        vertical-align: top;\n",
       "    }\n",
       "\n",
       "    .dataframe thead th {\n",
       "        text-align: right;\n",
       "    }\n",
       "</style>\n",
       "<table border=\"1\" class=\"dataframe\">\n",
       "  <thead>\n",
       "    <tr style=\"text-align: right;\">\n",
       "      <th></th>\n",
       "      <th>mfg</th>\n",
       "      <th>product</th>\n",
       "      <th>search</th>\n",
       "      <th>case_gtin</th>\n",
       "      <th>box_gtin</th>\n",
       "    </tr>\n",
       "  </thead>\n",
       "  <tbody>\n",
       "    <tr>\n",
       "      <th>0</th>\n",
       "      <td>Halyard Health</td>\n",
       "      <td>50852</td>\n",
       "      <td>Halyard Health 50852</td>\n",
       "      <td>000000000000</td>\n",
       "      <td>000000000000</td>\n",
       "    </tr>\n",
       "    <tr>\n",
       "      <th>1</th>\n",
       "      <td>Halyard Health</td>\n",
       "      <td>50853</td>\n",
       "      <td>Halyard Health 50853</td>\n",
       "      <td>000000000000</td>\n",
       "      <td>000000000000</td>\n",
       "    </tr>\n",
       "    <tr>\n",
       "      <th>2</th>\n",
       "      <td>Halyard Health</td>\n",
       "      <td>55080</td>\n",
       "      <td>Halyard Health 55080</td>\n",
       "      <td>000000000000</td>\n",
       "      <td>000000000000</td>\n",
       "    </tr>\n",
       "    <tr>\n",
       "      <th>3</th>\n",
       "      <td>Halyard Health</td>\n",
       "      <td>52101</td>\n",
       "      <td>Halyard Health 52101</td>\n",
       "      <td>000000000000</td>\n",
       "      <td>000000000000</td>\n",
       "    </tr>\n",
       "    <tr>\n",
       "      <th>4</th>\n",
       "      <td>Halyard Health</td>\n",
       "      <td>52102</td>\n",
       "      <td>Halyard Health 52102</td>\n",
       "      <td>000000000000</td>\n",
       "      <td>000000000000</td>\n",
       "    </tr>\n",
       "    <tr>\n",
       "      <th>5</th>\n",
       "      <td>Halyard Health</td>\n",
       "      <td>52103</td>\n",
       "      <td>Halyard Health 52103</td>\n",
       "      <td>000000000000</td>\n",
       "      <td>000000000000</td>\n",
       "    </tr>\n",
       "    <tr>\n",
       "      <th>6</th>\n",
       "      <td>Halyard Health</td>\n",
       "      <td>55091</td>\n",
       "      <td>Halyard Health 55091</td>\n",
       "      <td>000000000000</td>\n",
       "      <td>000000000000</td>\n",
       "    </tr>\n",
       "    <tr>\n",
       "      <th>7</th>\n",
       "      <td>Halyard Health</td>\n",
       "      <td>55092</td>\n",
       "      <td>Halyard Health 55092</td>\n",
       "      <td>000000000000</td>\n",
       "      <td>000000000000</td>\n",
       "    </tr>\n",
       "    <tr>\n",
       "      <th>8</th>\n",
       "      <td>Halyard Health</td>\n",
       "      <td>55093</td>\n",
       "      <td>Halyard Health 55093</td>\n",
       "      <td>000000000000</td>\n",
       "      <td>000000000000</td>\n",
       "    </tr>\n",
       "    <tr>\n",
       "      <th>9</th>\n",
       "      <td>Halyard Health</td>\n",
       "      <td>47459</td>\n",
       "      <td>Halyard Health 47459</td>\n",
       "      <td>000000000000</td>\n",
       "      <td>000000000000</td>\n",
       "    </tr>\n",
       "  </tbody>\n",
       "</table>\n",
       "</div>"
      ],
      "text/plain": [
       "              mfg  product                search     case_gtin      box_gtin\n",
       "0  Halyard Health    50852  Halyard Health 50852  000000000000  000000000000\n",
       "1  Halyard Health    50853  Halyard Health 50853  000000000000  000000000000\n",
       "2  Halyard Health    55080  Halyard Health 55080  000000000000  000000000000\n",
       "3  Halyard Health    52101  Halyard Health 52101  000000000000  000000000000\n",
       "4  Halyard Health    52102  Halyard Health 52102  000000000000  000000000000\n",
       "5  Halyard Health    52103  Halyard Health 52103  000000000000  000000000000\n",
       "6  Halyard Health    55091  Halyard Health 55091  000000000000  000000000000\n",
       "7  Halyard Health    55092  Halyard Health 55092  000000000000  000000000000\n",
       "8  Halyard Health    55093  Halyard Health 55093  000000000000  000000000000\n",
       "9  Halyard Health    47459  Halyard Health 47459  000000000000  000000000000"
      ]
     },
     "execution_count": 282,
     "metadata": {},
     "output_type": "execute_result"
    }
   ],
   "source": [
    "upcs2 = upcs.iloc[4:14].reset_index(drop=True)\n",
    "upcs2"
   ]
  },
  {
   "cell_type": "markdown",
   "metadata": {},
   "source": [
    "# Merge Results with New Table"
   ]
  },
  {
   "cell_type": "code",
   "execution_count": 70,
   "metadata": {},
   "outputs": [],
   "source": [
    "pd.set_option('max_rows', 400)        # display at least 400 rows when max is exceeded\n",
    "pd.set_option('display.width', 160)   # set max width to 80 characters"
   ]
  },
  {
   "cell_type": "code",
   "execution_count": 57,
   "metadata": {},
   "outputs": [],
   "source": [
    "df_total = pd.read_csv('output/df_total.csv', dtype=str)\n",
    "df_total2 = pd.read_csv('output/df_total2.csv', dtype=str)\n",
    "upcs2 = pd.read_csv('output/sterile_gloves_gtin.csv', index_col=0, dtype=str)"
   ]
  },
  {
   "cell_type": "code",
   "execution_count": 50,
   "metadata": {},
   "outputs": [
    {
     "data": {
      "text/html": [
       "<div>\n",
       "<style scoped>\n",
       "    .dataframe tbody tr th:only-of-type {\n",
       "        vertical-align: middle;\n",
       "    }\n",
       "\n",
       "    .dataframe tbody tr th {\n",
       "        vertical-align: top;\n",
       "    }\n",
       "\n",
       "    .dataframe thead th {\n",
       "        text-align: right;\n",
       "    }\n",
       "</style>\n",
       "<table border=\"1\" class=\"dataframe\">\n",
       "  <thead>\n",
       "    <tr style=\"text-align: right;\">\n",
       "      <th></th>\n",
       "      <th>group</th>\n",
       "      <th>sub-group</th>\n",
       "      <th>product_line</th>\n",
       "      <th>product_number</th>\n",
       "      <th>description</th>\n",
       "      <th>url</th>\n",
       "      <th>mfg</th>\n",
       "      <th>case_gtin</th>\n",
       "      <th>box_gtin</th>\n",
       "    </tr>\n",
       "  </thead>\n",
       "  <tbody>\n",
       "    <tr>\n",
       "      <th>0</th>\n",
       "      <td>Medical Exam Gloves</td>\n",
       "      <td>Nitrile</td>\n",
       "      <td>STERLING ZERO* Nitrile Exam Glove</td>\n",
       "      <td>47459</td>\n",
       "      <td>Size:X-Small</td>\n",
       "      <td>https://products.halyardhealth.com/infection-p...</td>\n",
       "      <td>Halyard Health</td>\n",
       "      <td>NaN</td>\n",
       "      <td>NaN</td>\n",
       "    </tr>\n",
       "    <tr>\n",
       "      <th>1</th>\n",
       "      <td>Medical Exam Gloves</td>\n",
       "      <td>Nitrile</td>\n",
       "      <td>STERLING ZERO* Nitrile Exam Glove</td>\n",
       "      <td>47460</td>\n",
       "      <td>Size:Small</td>\n",
       "      <td>https://products.halyardhealth.com/infection-p...</td>\n",
       "      <td>Halyard Health</td>\n",
       "      <td>NaN</td>\n",
       "      <td>NaN</td>\n",
       "    </tr>\n",
       "    <tr>\n",
       "      <th>2</th>\n",
       "      <td>Medical Exam Gloves</td>\n",
       "      <td>Nitrile</td>\n",
       "      <td>STERLING ZERO* Nitrile Exam Glove</td>\n",
       "      <td>47461</td>\n",
       "      <td>Size:Medium</td>\n",
       "      <td>https://products.halyardhealth.com/infection-p...</td>\n",
       "      <td>Halyard Health</td>\n",
       "      <td>NaN</td>\n",
       "      <td>NaN</td>\n",
       "    </tr>\n",
       "    <tr>\n",
       "      <th>3</th>\n",
       "      <td>Medical Exam Gloves</td>\n",
       "      <td>Nitrile</td>\n",
       "      <td>STERLING ZERO* Nitrile Exam Glove</td>\n",
       "      <td>47462</td>\n",
       "      <td>Size:Large</td>\n",
       "      <td>https://products.halyardhealth.com/infection-p...</td>\n",
       "      <td>Halyard Health</td>\n",
       "      <td>NaN</td>\n",
       "      <td>NaN</td>\n",
       "    </tr>\n",
       "    <tr>\n",
       "      <th>4</th>\n",
       "      <td>Medical Exam Gloves</td>\n",
       "      <td>Nitrile</td>\n",
       "      <td>STERLING ZERO* Nitrile Exam Glove</td>\n",
       "      <td>47463</td>\n",
       "      <td>Size:X-Large</td>\n",
       "      <td>https://products.halyardhealth.com/infection-p...</td>\n",
       "      <td>Halyard Health</td>\n",
       "      <td>NaN</td>\n",
       "      <td>NaN</td>\n",
       "    </tr>\n",
       "  </tbody>\n",
       "</table>\n",
       "</div>"
      ],
      "text/plain": [
       "                 group sub-group                       product_line  \\\n",
       "0  Medical Exam Gloves   Nitrile  STERLING ZERO* Nitrile Exam Glove   \n",
       "1  Medical Exam Gloves   Nitrile  STERLING ZERO* Nitrile Exam Glove   \n",
       "2  Medical Exam Gloves   Nitrile  STERLING ZERO* Nitrile Exam Glove   \n",
       "3  Medical Exam Gloves   Nitrile  STERLING ZERO* Nitrile Exam Glove   \n",
       "4  Medical Exam Gloves   Nitrile  STERLING ZERO* Nitrile Exam Glove   \n",
       "\n",
       "  product_number   description  \\\n",
       "0          47459  Size:X-Small   \n",
       "1          47460    Size:Small   \n",
       "2          47461   Size:Medium   \n",
       "3          47462    Size:Large   \n",
       "4          47463  Size:X-Large   \n",
       "\n",
       "                                                 url             mfg  \\\n",
       "0  https://products.halyardhealth.com/infection-p...  Halyard Health   \n",
       "1  https://products.halyardhealth.com/infection-p...  Halyard Health   \n",
       "2  https://products.halyardhealth.com/infection-p...  Halyard Health   \n",
       "3  https://products.halyardhealth.com/infection-p...  Halyard Health   \n",
       "4  https://products.halyardhealth.com/infection-p...  Halyard Health   \n",
       "\n",
       "  case_gtin box_gtin  \n",
       "0       NaN      NaN  \n",
       "1       NaN      NaN  \n",
       "2       NaN      NaN  \n",
       "3       NaN      NaN  \n",
       "4       NaN      NaN  "
      ]
     },
     "execution_count": 50,
     "metadata": {},
     "output_type": "execute_result"
    }
   ],
   "source": [
    "upcs.head()"
   ]
  },
  {
   "cell_type": "code",
   "execution_count": 95,
   "metadata": {},
   "outputs": [
    {
     "data": {
      "text/html": [
       "<div>\n",
       "<style scoped>\n",
       "    .dataframe tbody tr th:only-of-type {\n",
       "        vertical-align: middle;\n",
       "    }\n",
       "\n",
       "    .dataframe tbody tr th {\n",
       "        vertical-align: top;\n",
       "    }\n",
       "\n",
       "    .dataframe thead th {\n",
       "        text-align: right;\n",
       "    }\n",
       "</style>\n",
       "<table border=\"1\" class=\"dataframe\">\n",
       "  <thead>\n",
       "    <tr style=\"text-align: right;\">\n",
       "      <th></th>\n",
       "      <th>mfg</th>\n",
       "      <th>product</th>\n",
       "      <th>style</th>\n",
       "      <th>description</th>\n",
       "      <th>url</th>\n",
       "      <th>case_gtin</th>\n",
       "      <th>box_gtin</th>\n",
       "    </tr>\n",
       "  </thead>\n",
       "  <tbody>\n",
       "    <tr>\n",
       "      <th>0</th>\n",
       "      <td>Halyard Health</td>\n",
       "      <td>55081</td>\n",
       "      <td>PURPLE NITRILE* Exam Glove</td>\n",
       "      <td>Size:Small, Cleared for Use with Chemotherapy ...</td>\n",
       "      <td>https://products.halyardhealth.com/infection-p...</td>\n",
       "      <td>30680651550812</td>\n",
       "      <td>094718114470</td>\n",
       "    </tr>\n",
       "    <tr>\n",
       "      <th>1</th>\n",
       "      <td>Halyard Health</td>\n",
       "      <td>55082</td>\n",
       "      <td>PURPLE NITRILE* Exam Glove</td>\n",
       "      <td>Size:Medium, Cleared for Use with Chemotherapy...</td>\n",
       "      <td>https://products.halyardhealth.com/infection-p...</td>\n",
       "      <td>30680651550829</td>\n",
       "      <td>036000055085</td>\n",
       "    </tr>\n",
       "    <tr>\n",
       "      <th>2</th>\n",
       "      <td>Halyard Health</td>\n",
       "      <td>55083</td>\n",
       "      <td>PURPLE NITRILE* Exam Glove</td>\n",
       "      <td>Size:Large, Cleared for Use with Chemotherapy ...</td>\n",
       "      <td>https://products.halyardhealth.com/infection-p...</td>\n",
       "      <td>30680651550836</td>\n",
       "      <td>816687292108</td>\n",
       "    </tr>\n",
       "    <tr>\n",
       "      <th>3</th>\n",
       "      <td>Halyard Health</td>\n",
       "      <td>55084</td>\n",
       "      <td>PURPLE NITRILE* Exam Glove</td>\n",
       "      <td>Size:X-Large, Cleared for Use with Chemotherap...</td>\n",
       "      <td>https://products.halyardhealth.com/infection-p...</td>\n",
       "      <td>30680651550843</td>\n",
       "      <td>741360082212</td>\n",
       "    </tr>\n",
       "    <tr>\n",
       "      <th>4</th>\n",
       "      <td>Halyard Health</td>\n",
       "      <td>50852</td>\n",
       "      <td>PURPLE NITRILE* Exam Glove</td>\n",
       "      <td>Size:Medium, Cleared for Use with Chemotherapy...</td>\n",
       "      <td>https://products.halyardhealth.com/infection-p...</td>\n",
       "      <td>NaN</td>\n",
       "      <td>NaN</td>\n",
       "    </tr>\n",
       "  </tbody>\n",
       "</table>\n",
       "</div>"
      ],
      "text/plain": [
       "              mfg product                       style                                        description                                                url  \\\n",
       "0  Halyard Health   55081  PURPLE NITRILE* Exam Glove  Size:Small, Cleared for Use with Chemotherapy ...  https://products.halyardhealth.com/infection-p...   \n",
       "1  Halyard Health   55082  PURPLE NITRILE* Exam Glove  Size:Medium, Cleared for Use with Chemotherapy...  https://products.halyardhealth.com/infection-p...   \n",
       "2  Halyard Health   55083  PURPLE NITRILE* Exam Glove  Size:Large, Cleared for Use with Chemotherapy ...  https://products.halyardhealth.com/infection-p...   \n",
       "3  Halyard Health   55084  PURPLE NITRILE* Exam Glove  Size:X-Large, Cleared for Use with Chemotherap...  https://products.halyardhealth.com/infection-p...   \n",
       "4  Halyard Health   50852  PURPLE NITRILE* Exam Glove  Size:Medium, Cleared for Use with Chemotherapy...  https://products.halyardhealth.com/infection-p...   \n",
       "\n",
       "        case_gtin      box_gtin  \n",
       "0  30680651550812  094718114470  \n",
       "1  30680651550829  036000055085  \n",
       "2  30680651550836  816687292108  \n",
       "3  30680651550843  741360082212  \n",
       "4             NaN           NaN  "
      ]
     },
     "execution_count": 95,
     "metadata": {},
     "output_type": "execute_result"
    }
   ],
   "source": [
    "upcs2.head()"
   ]
  },
  {
   "cell_type": "code",
   "execution_count": 56,
   "metadata": {},
   "outputs": [
    {
     "data": {
      "text/html": [
       "<div>\n",
       "<style scoped>\n",
       "    .dataframe tbody tr th:only-of-type {\n",
       "        vertical-align: middle;\n",
       "    }\n",
       "\n",
       "    .dataframe tbody tr th {\n",
       "        vertical-align: top;\n",
       "    }\n",
       "\n",
       "    .dataframe thead th {\n",
       "        text-align: right;\n",
       "    }\n",
       "</style>\n",
       "<table border=\"1\" class=\"dataframe\">\n",
       "  <thead>\n",
       "    <tr style=\"text-align: right;\">\n",
       "      <th></th>\n",
       "      <th>group</th>\n",
       "      <th>sub-group</th>\n",
       "      <th>product_line</th>\n",
       "      <th>product_number</th>\n",
       "      <th>description</th>\n",
       "      <th>url</th>\n",
       "    </tr>\n",
       "  </thead>\n",
       "  <tbody>\n",
       "    <tr>\n",
       "      <th>0</th>\n",
       "      <td>Medical Exam Gloves</td>\n",
       "      <td>Nitrile</td>\n",
       "      <td>STERLING ZERO* Nitrile Exam Glove</td>\n",
       "      <td>47459</td>\n",
       "      <td>Size:X-Small</td>\n",
       "      <td>https://products.halyardhealth.com/infection-p...</td>\n",
       "    </tr>\n",
       "    <tr>\n",
       "      <th>1</th>\n",
       "      <td>Medical Exam Gloves</td>\n",
       "      <td>Nitrile</td>\n",
       "      <td>STERLING ZERO* Nitrile Exam Glove</td>\n",
       "      <td>47460</td>\n",
       "      <td>Size:Small</td>\n",
       "      <td>https://products.halyardhealth.com/infection-p...</td>\n",
       "    </tr>\n",
       "    <tr>\n",
       "      <th>2</th>\n",
       "      <td>Medical Exam Gloves</td>\n",
       "      <td>Nitrile</td>\n",
       "      <td>STERLING ZERO* Nitrile Exam Glove</td>\n",
       "      <td>47461</td>\n",
       "      <td>Size:Medium</td>\n",
       "      <td>https://products.halyardhealth.com/infection-p...</td>\n",
       "    </tr>\n",
       "    <tr>\n",
       "      <th>3</th>\n",
       "      <td>Medical Exam Gloves</td>\n",
       "      <td>Nitrile</td>\n",
       "      <td>STERLING ZERO* Nitrile Exam Glove</td>\n",
       "      <td>47462</td>\n",
       "      <td>Size:Large</td>\n",
       "      <td>https://products.halyardhealth.com/infection-p...</td>\n",
       "    </tr>\n",
       "    <tr>\n",
       "      <th>4</th>\n",
       "      <td>Medical Exam Gloves</td>\n",
       "      <td>Nitrile</td>\n",
       "      <td>STERLING ZERO* Nitrile Exam Glove</td>\n",
       "      <td>47463</td>\n",
       "      <td>Size:X-Large</td>\n",
       "      <td>https://products.halyardhealth.com/infection-p...</td>\n",
       "    </tr>\n",
       "  </tbody>\n",
       "</table>\n",
       "</div>"
      ],
      "text/plain": [
       "                 group sub-group                       product_line  \\\n",
       "0  Medical Exam Gloves   Nitrile  STERLING ZERO* Nitrile Exam Glove   \n",
       "1  Medical Exam Gloves   Nitrile  STERLING ZERO* Nitrile Exam Glove   \n",
       "2  Medical Exam Gloves   Nitrile  STERLING ZERO* Nitrile Exam Glove   \n",
       "3  Medical Exam Gloves   Nitrile  STERLING ZERO* Nitrile Exam Glove   \n",
       "4  Medical Exam Gloves   Nitrile  STERLING ZERO* Nitrile Exam Glove   \n",
       "\n",
       "  product_number   description  \\\n",
       "0          47459  Size:X-Small   \n",
       "1          47460    Size:Small   \n",
       "2          47461   Size:Medium   \n",
       "3          47462    Size:Large   \n",
       "4          47463  Size:X-Large   \n",
       "\n",
       "                                                 url  \n",
       "0  https://products.halyardhealth.com/infection-p...  \n",
       "1  https://products.halyardhealth.com/infection-p...  \n",
       "2  https://products.halyardhealth.com/infection-p...  \n",
       "3  https://products.halyardhealth.com/infection-p...  \n",
       "4  https://products.halyardhealth.com/infection-p...  "
      ]
     },
     "execution_count": 56,
     "metadata": {},
     "output_type": "execute_result"
    }
   ],
   "source": [
    "df_total.head()"
   ]
  },
  {
   "cell_type": "code",
   "execution_count": 58,
   "metadata": {},
   "outputs": [
    {
     "data": {
      "text/html": [
       "<div>\n",
       "<style scoped>\n",
       "    .dataframe tbody tr th:only-of-type {\n",
       "        vertical-align: middle;\n",
       "    }\n",
       "\n",
       "    .dataframe tbody tr th {\n",
       "        vertical-align: top;\n",
       "    }\n",
       "\n",
       "    .dataframe thead th {\n",
       "        text-align: right;\n",
       "    }\n",
       "</style>\n",
       "<table border=\"1\" class=\"dataframe\">\n",
       "  <thead>\n",
       "    <tr style=\"text-align: right;\">\n",
       "      <th></th>\n",
       "      <th>mfg</th>\n",
       "      <th>group</th>\n",
       "      <th>sub-group</th>\n",
       "      <th>product_line</th>\n",
       "      <th>product_number</th>\n",
       "      <th>description</th>\n",
       "      <th>url</th>\n",
       "    </tr>\n",
       "  </thead>\n",
       "  <tbody>\n",
       "    <tr>\n",
       "      <th>0</th>\n",
       "      <td>Halyard Health</td>\n",
       "      <td>Medical Exam Gloves</td>\n",
       "      <td>Nitrile</td>\n",
       "      <td>STERLING ZERO* Nitrile Exam Glove</td>\n",
       "      <td>47459</td>\n",
       "      <td>Size:X-Small, Brand:STERLING ZERO*, Color:Ster...</td>\n",
       "      <td>https://products.halyardhealth.com/infection-p...</td>\n",
       "    </tr>\n",
       "    <tr>\n",
       "      <th>1</th>\n",
       "      <td>Halyard Health</td>\n",
       "      <td>Medical Exam Gloves</td>\n",
       "      <td>Nitrile</td>\n",
       "      <td>STERLING ZERO* Nitrile Exam Glove</td>\n",
       "      <td>47460</td>\n",
       "      <td>Size:Small, Brand:STERLING ZERO*, Color:Sterli...</td>\n",
       "      <td>https://products.halyardhealth.com/infection-p...</td>\n",
       "    </tr>\n",
       "    <tr>\n",
       "      <th>2</th>\n",
       "      <td>Halyard Health</td>\n",
       "      <td>Medical Exam Gloves</td>\n",
       "      <td>Nitrile</td>\n",
       "      <td>STERLING ZERO* Nitrile Exam Glove</td>\n",
       "      <td>47461</td>\n",
       "      <td>Size:Medium, Brand:STERLING ZERO*, Color:Sterl...</td>\n",
       "      <td>https://products.halyardhealth.com/infection-p...</td>\n",
       "    </tr>\n",
       "    <tr>\n",
       "      <th>3</th>\n",
       "      <td>Halyard Health</td>\n",
       "      <td>Medical Exam Gloves</td>\n",
       "      <td>Nitrile</td>\n",
       "      <td>STERLING ZERO* Nitrile Exam Glove</td>\n",
       "      <td>47462</td>\n",
       "      <td>Size:Large, Brand:STERLING ZERO*, Color:Sterli...</td>\n",
       "      <td>https://products.halyardhealth.com/infection-p...</td>\n",
       "    </tr>\n",
       "    <tr>\n",
       "      <th>4</th>\n",
       "      <td>Halyard Health</td>\n",
       "      <td>Medical Exam Gloves</td>\n",
       "      <td>Nitrile</td>\n",
       "      <td>STERLING ZERO* Nitrile Exam Glove</td>\n",
       "      <td>47463</td>\n",
       "      <td>Size:X-Large, Brand:STERLING ZERO*, Color:Ster...</td>\n",
       "      <td>https://products.halyardhealth.com/infection-p...</td>\n",
       "    </tr>\n",
       "  </tbody>\n",
       "</table>\n",
       "</div>"
      ],
      "text/plain": [
       "              mfg                group sub-group  \\\n",
       "0  Halyard Health  Medical Exam Gloves   Nitrile   \n",
       "1  Halyard Health  Medical Exam Gloves   Nitrile   \n",
       "2  Halyard Health  Medical Exam Gloves   Nitrile   \n",
       "3  Halyard Health  Medical Exam Gloves   Nitrile   \n",
       "4  Halyard Health  Medical Exam Gloves   Nitrile   \n",
       "\n",
       "                        product_line product_number  \\\n",
       "0  STERLING ZERO* Nitrile Exam Glove          47459   \n",
       "1  STERLING ZERO* Nitrile Exam Glove          47460   \n",
       "2  STERLING ZERO* Nitrile Exam Glove          47461   \n",
       "3  STERLING ZERO* Nitrile Exam Glove          47462   \n",
       "4  STERLING ZERO* Nitrile Exam Glove          47463   \n",
       "\n",
       "                                         description  \\\n",
       "0  Size:X-Small, Brand:STERLING ZERO*, Color:Ster...   \n",
       "1  Size:Small, Brand:STERLING ZERO*, Color:Sterli...   \n",
       "2  Size:Medium, Brand:STERLING ZERO*, Color:Sterl...   \n",
       "3  Size:Large, Brand:STERLING ZERO*, Color:Sterli...   \n",
       "4  Size:X-Large, Brand:STERLING ZERO*, Color:Ster...   \n",
       "\n",
       "                                                 url  \n",
       "0  https://products.halyardhealth.com/infection-p...  \n",
       "1  https://products.halyardhealth.com/infection-p...  \n",
       "2  https://products.halyardhealth.com/infection-p...  \n",
       "3  https://products.halyardhealth.com/infection-p...  \n",
       "4  https://products.halyardhealth.com/infection-p...  "
      ]
     },
     "execution_count": 58,
     "metadata": {},
     "output_type": "execute_result"
    }
   ],
   "source": [
    "df_total2.head()"
   ]
  },
  {
   "cell_type": "code",
   "execution_count": 60,
   "metadata": {},
   "outputs": [
    {
     "data": {
      "text/html": [
       "<div>\n",
       "<style scoped>\n",
       "    .dataframe tbody tr th:only-of-type {\n",
       "        vertical-align: middle;\n",
       "    }\n",
       "\n",
       "    .dataframe tbody tr th {\n",
       "        vertical-align: top;\n",
       "    }\n",
       "\n",
       "    .dataframe thead th {\n",
       "        text-align: right;\n",
       "    }\n",
       "</style>\n",
       "<table border=\"1\" class=\"dataframe\">\n",
       "  <thead>\n",
       "    <tr style=\"text-align: right;\">\n",
       "      <th></th>\n",
       "      <th>product_number</th>\n",
       "      <th>case_gtin_2</th>\n",
       "      <th>box_gtin_2</th>\n",
       "      <th>product</th>\n",
       "      <th>case_gtin_1</th>\n",
       "      <th>box_gtin_1</th>\n",
       "    </tr>\n",
       "  </thead>\n",
       "  <tbody>\n",
       "    <tr>\n",
       "      <th>0</th>\n",
       "      <td>47459</td>\n",
       "      <td>NaN</td>\n",
       "      <td>NaN</td>\n",
       "      <td>47459</td>\n",
       "      <td>NaN</td>\n",
       "      <td>NaN</td>\n",
       "    </tr>\n",
       "    <tr>\n",
       "      <th>1</th>\n",
       "      <td>47460</td>\n",
       "      <td>NaN</td>\n",
       "      <td>NaN</td>\n",
       "      <td>47460</td>\n",
       "      <td>NaN</td>\n",
       "      <td>NaN</td>\n",
       "    </tr>\n",
       "    <tr>\n",
       "      <th>2</th>\n",
       "      <td>47461</td>\n",
       "      <td>NaN</td>\n",
       "      <td>NaN</td>\n",
       "      <td>47461</td>\n",
       "      <td>NaN</td>\n",
       "      <td>NaN</td>\n",
       "    </tr>\n",
       "    <tr>\n",
       "      <th>3</th>\n",
       "      <td>47462</td>\n",
       "      <td>NaN</td>\n",
       "      <td>NaN</td>\n",
       "      <td>47462</td>\n",
       "      <td>NaN</td>\n",
       "      <td>NaN</td>\n",
       "    </tr>\n",
       "    <tr>\n",
       "      <th>4</th>\n",
       "      <td>47463</td>\n",
       "      <td>NaN</td>\n",
       "      <td>NaN</td>\n",
       "      <td>47463</td>\n",
       "      <td>NaN</td>\n",
       "      <td>NaN</td>\n",
       "    </tr>\n",
       "  </tbody>\n",
       "</table>\n",
       "</div>"
      ],
      "text/plain": [
       "  product_number case_gtin_2 box_gtin_2 product case_gtin_1 box_gtin_1\n",
       "0          47459         NaN        NaN   47459         NaN        NaN\n",
       "1          47460         NaN        NaN   47460         NaN        NaN\n",
       "2          47461         NaN        NaN   47461         NaN        NaN\n",
       "3          47462         NaN        NaN   47462         NaN        NaN\n",
       "4          47463         NaN        NaN   47463         NaN        NaN"
      ]
     },
     "execution_count": 60,
     "metadata": {},
     "output_type": "execute_result"
    }
   ],
   "source": [
    "a = upcs[['product_number', 'case_gtin', 'box_gtin']]\n",
    "b = upcs2[['product', 'case_gtin', 'box_gtin']]\n",
    "\n",
    "upc_merge = pd.merge(a, b, how='outer', left_on='product_number', right_on='product', suffixes=('_2', '_1'))\n",
    "upc_merge.head()"
   ]
  },
  {
   "cell_type": "code",
   "execution_count": 71,
   "metadata": {},
   "outputs": [
    {
     "data": {
      "text/html": [
       "<div>\n",
       "<style scoped>\n",
       "    .dataframe tbody tr th:only-of-type {\n",
       "        vertical-align: middle;\n",
       "    }\n",
       "\n",
       "    .dataframe tbody tr th {\n",
       "        vertical-align: top;\n",
       "    }\n",
       "\n",
       "    .dataframe thead th {\n",
       "        text-align: right;\n",
       "    }\n",
       "</style>\n",
       "<table border=\"1\" class=\"dataframe\">\n",
       "  <thead>\n",
       "    <tr style=\"text-align: right;\">\n",
       "      <th></th>\n",
       "      <th>product_1</th>\n",
       "      <th>case_gtin_1</th>\n",
       "      <th>box_gtin_1</th>\n",
       "      <th>product_2</th>\n",
       "      <th>case_gtin_2</th>\n",
       "      <th>box_gtin_2</th>\n",
       "    </tr>\n",
       "  </thead>\n",
       "  <tbody>\n",
       "    <tr>\n",
       "      <th>0</th>\n",
       "      <td>47459</td>\n",
       "      <td>NaN</td>\n",
       "      <td>NaN</td>\n",
       "      <td>47459</td>\n",
       "      <td>NaN</td>\n",
       "      <td>NaN</td>\n",
       "    </tr>\n",
       "    <tr>\n",
       "      <th>1</th>\n",
       "      <td>47460</td>\n",
       "      <td>NaN</td>\n",
       "      <td>NaN</td>\n",
       "      <td>47460</td>\n",
       "      <td>NaN</td>\n",
       "      <td>NaN</td>\n",
       "    </tr>\n",
       "    <tr>\n",
       "      <th>2</th>\n",
       "      <td>47461</td>\n",
       "      <td>NaN</td>\n",
       "      <td>NaN</td>\n",
       "      <td>47461</td>\n",
       "      <td>NaN</td>\n",
       "      <td>NaN</td>\n",
       "    </tr>\n",
       "    <tr>\n",
       "      <th>3</th>\n",
       "      <td>47462</td>\n",
       "      <td>NaN</td>\n",
       "      <td>NaN</td>\n",
       "      <td>47462</td>\n",
       "      <td>NaN</td>\n",
       "      <td>NaN</td>\n",
       "    </tr>\n",
       "    <tr>\n",
       "      <th>4</th>\n",
       "      <td>47463</td>\n",
       "      <td>NaN</td>\n",
       "      <td>NaN</td>\n",
       "      <td>47463</td>\n",
       "      <td>NaN</td>\n",
       "      <td>NaN</td>\n",
       "    </tr>\n",
       "    <tr>\n",
       "      <th>5</th>\n",
       "      <td>14259</td>\n",
       "      <td>NaN</td>\n",
       "      <td>NaN</td>\n",
       "      <td>14259</td>\n",
       "      <td>NaN</td>\n",
       "      <td>NaN</td>\n",
       "    </tr>\n",
       "    <tr>\n",
       "      <th>6</th>\n",
       "      <td>44992</td>\n",
       "      <td>820170072627</td>\n",
       "      <td>820170072610</td>\n",
       "      <td>44992</td>\n",
       "      <td>820170072627</td>\n",
       "      <td>820170072610</td>\n",
       "    </tr>\n",
       "    <tr>\n",
       "      <th>7</th>\n",
       "      <td>44993</td>\n",
       "      <td>820170072641</td>\n",
       "      <td>820170072634</td>\n",
       "      <td>44993</td>\n",
       "      <td>820170072641</td>\n",
       "      <td>820170072634</td>\n",
       "    </tr>\n",
       "    <tr>\n",
       "      <th>8</th>\n",
       "      <td>44994</td>\n",
       "      <td>820170072665</td>\n",
       "      <td>820170072658</td>\n",
       "      <td>44994</td>\n",
       "      <td>820170072665</td>\n",
       "      <td>820170072658</td>\n",
       "    </tr>\n",
       "    <tr>\n",
       "      <th>9</th>\n",
       "      <td>44995</td>\n",
       "      <td>NaN</td>\n",
       "      <td>820170072672</td>\n",
       "      <td>44995</td>\n",
       "      <td>NaN</td>\n",
       "      <td>820170072672</td>\n",
       "    </tr>\n",
       "    <tr>\n",
       "      <th>10</th>\n",
       "      <td>52816</td>\n",
       "      <td>NaN</td>\n",
       "      <td>820170072931</td>\n",
       "      <td>52816</td>\n",
       "      <td>NaN</td>\n",
       "      <td>820170072931</td>\n",
       "    </tr>\n",
       "    <tr>\n",
       "      <th>11</th>\n",
       "      <td>52817</td>\n",
       "      <td>NaN</td>\n",
       "      <td>680651528179</td>\n",
       "      <td>52817</td>\n",
       "      <td>NaN</td>\n",
       "      <td>680651528179</td>\n",
       "    </tr>\n",
       "    <tr>\n",
       "      <th>12</th>\n",
       "      <td>52818</td>\n",
       "      <td>NaN</td>\n",
       "      <td>820170072986</td>\n",
       "      <td>52818</td>\n",
       "      <td>NaN</td>\n",
       "      <td>820170072986</td>\n",
       "    </tr>\n",
       "    <tr>\n",
       "      <th>13</th>\n",
       "      <td>52819</td>\n",
       "      <td>NaN</td>\n",
       "      <td>036000528190</td>\n",
       "      <td>52819</td>\n",
       "      <td>NaN</td>\n",
       "      <td>036000528190</td>\n",
       "    </tr>\n",
       "    <tr>\n",
       "      <th>14</th>\n",
       "      <td>52820</td>\n",
       "      <td>NaN</td>\n",
       "      <td>820170073020</td>\n",
       "      <td>52820</td>\n",
       "      <td>NaN</td>\n",
       "      <td>820170073020</td>\n",
       "    </tr>\n",
       "    <tr>\n",
       "      <th>15</th>\n",
       "      <td>44755</td>\n",
       "      <td>820170072429</td>\n",
       "      <td>820170072412</td>\n",
       "      <td>44755</td>\n",
       "      <td>820170072429</td>\n",
       "      <td>820170072412</td>\n",
       "    </tr>\n",
       "    <tr>\n",
       "      <th>16</th>\n",
       "      <td>44756</td>\n",
       "      <td>820170072443</td>\n",
       "      <td>820170072436</td>\n",
       "      <td>44756</td>\n",
       "      <td>820170072443</td>\n",
       "      <td>820170072436</td>\n",
       "    </tr>\n",
       "    <tr>\n",
       "      <th>17</th>\n",
       "      <td>44757</td>\n",
       "      <td>820170072467</td>\n",
       "      <td>820170072450</td>\n",
       "      <td>44757</td>\n",
       "      <td>820170072467</td>\n",
       "      <td>820170072450</td>\n",
       "    </tr>\n",
       "    <tr>\n",
       "      <th>18</th>\n",
       "      <td>44758</td>\n",
       "      <td>820170072481</td>\n",
       "      <td>820170072474</td>\n",
       "      <td>44758</td>\n",
       "      <td>820170072481</td>\n",
       "      <td>820170072474</td>\n",
       "    </tr>\n",
       "    <tr>\n",
       "      <th>19</th>\n",
       "      <td>44759</td>\n",
       "      <td>820170072504</td>\n",
       "      <td>820170072498</td>\n",
       "      <td>44759</td>\n",
       "      <td>820170072504</td>\n",
       "      <td>820170072498</td>\n",
       "    </tr>\n",
       "    <tr>\n",
       "      <th>20</th>\n",
       "      <td>43932</td>\n",
       "      <td>713049532974</td>\n",
       "      <td>820170072313</td>\n",
       "      <td>43932</td>\n",
       "      <td>713049532974</td>\n",
       "      <td>820170072313</td>\n",
       "    </tr>\n",
       "    <tr>\n",
       "      <th>21</th>\n",
       "      <td>43933</td>\n",
       "      <td>713049532981</td>\n",
       "      <td>820170072344</td>\n",
       "      <td>43933</td>\n",
       "      <td>713049532981</td>\n",
       "      <td>820170072344</td>\n",
       "    </tr>\n",
       "    <tr>\n",
       "      <th>22</th>\n",
       "      <td>43934</td>\n",
       "      <td>713049532998</td>\n",
       "      <td>696394833661</td>\n",
       "      <td>43934</td>\n",
       "      <td>713049532998</td>\n",
       "      <td>696394833661</td>\n",
       "    </tr>\n",
       "    <tr>\n",
       "      <th>23</th>\n",
       "      <td>43935</td>\n",
       "      <td>713049533001</td>\n",
       "      <td>820170072375</td>\n",
       "      <td>43935</td>\n",
       "      <td>713049533001</td>\n",
       "      <td>820170072375</td>\n",
       "    </tr>\n",
       "    <tr>\n",
       "      <th>24</th>\n",
       "      <td>43936</td>\n",
       "      <td>713049533018</td>\n",
       "      <td>820170072399</td>\n",
       "      <td>43936</td>\n",
       "      <td>713049533018</td>\n",
       "      <td>820170072399</td>\n",
       "    </tr>\n",
       "    <tr>\n",
       "      <th>25</th>\n",
       "      <td>33022</td>\n",
       "      <td>NaN</td>\n",
       "      <td>820170071910</td>\n",
       "      <td>33022</td>\n",
       "      <td>NaN</td>\n",
       "      <td>820170071910</td>\n",
       "    </tr>\n",
       "    <tr>\n",
       "      <th>26</th>\n",
       "      <td>47452</td>\n",
       "      <td>NaN</td>\n",
       "      <td>NaN</td>\n",
       "      <td>47452</td>\n",
       "      <td>NaN</td>\n",
       "      <td>NaN</td>\n",
       "    </tr>\n",
       "    <tr>\n",
       "      <th>27</th>\n",
       "      <td>47453</td>\n",
       "      <td>NaN</td>\n",
       "      <td>NaN</td>\n",
       "      <td>47453</td>\n",
       "      <td>NaN</td>\n",
       "      <td>NaN</td>\n",
       "    </tr>\n",
       "    <tr>\n",
       "      <th>28</th>\n",
       "      <td>47454</td>\n",
       "      <td>NaN</td>\n",
       "      <td>NaN</td>\n",
       "      <td>47454</td>\n",
       "      <td>NaN</td>\n",
       "      <td>NaN</td>\n",
       "    </tr>\n",
       "    <tr>\n",
       "      <th>29</th>\n",
       "      <td>47455</td>\n",
       "      <td>NaN</td>\n",
       "      <td>NaN</td>\n",
       "      <td>47455</td>\n",
       "      <td>NaN</td>\n",
       "      <td>NaN</td>\n",
       "    </tr>\n",
       "    <tr>\n",
       "      <th>30</th>\n",
       "      <td>47456</td>\n",
       "      <td>NaN</td>\n",
       "      <td>NaN</td>\n",
       "      <td>47456</td>\n",
       "      <td>NaN</td>\n",
       "      <td>NaN</td>\n",
       "    </tr>\n",
       "    <tr>\n",
       "      <th>31</th>\n",
       "      <td>55095</td>\n",
       "      <td>820170073761</td>\n",
       "      <td>820170073754</td>\n",
       "      <td>55095</td>\n",
       "      <td>820170073761</td>\n",
       "      <td>820170073754</td>\n",
       "    </tr>\n",
       "    <tr>\n",
       "      <th>32</th>\n",
       "      <td>53100</td>\n",
       "      <td>NaN</td>\n",
       "      <td>820170073815</td>\n",
       "      <td>53100</td>\n",
       "      <td>NaN</td>\n",
       "      <td>820170073815</td>\n",
       "    </tr>\n",
       "    <tr>\n",
       "      <th>33</th>\n",
       "      <td>53101</td>\n",
       "      <td>NaN</td>\n",
       "      <td>820170073839</td>\n",
       "      <td>53101</td>\n",
       "      <td>NaN</td>\n",
       "      <td>820170073839</td>\n",
       "    </tr>\n",
       "    <tr>\n",
       "      <th>34</th>\n",
       "      <td>53102</td>\n",
       "      <td>NaN</td>\n",
       "      <td>820170073853</td>\n",
       "      <td>53102</td>\n",
       "      <td>NaN</td>\n",
       "      <td>820170073853</td>\n",
       "    </tr>\n",
       "    <tr>\n",
       "      <th>35</th>\n",
       "      <td>53103</td>\n",
       "      <td>NaN</td>\n",
       "      <td>820170073884</td>\n",
       "      <td>53103</td>\n",
       "      <td>NaN</td>\n",
       "      <td>820170073884</td>\n",
       "    </tr>\n",
       "    <tr>\n",
       "      <th>36</th>\n",
       "      <td>53104</td>\n",
       "      <td>NaN</td>\n",
       "      <td>820170073891</td>\n",
       "      <td>53104</td>\n",
       "      <td>NaN</td>\n",
       "      <td>820170073891</td>\n",
       "    </tr>\n",
       "    <tr>\n",
       "      <th>37</th>\n",
       "      <td>53430</td>\n",
       "      <td>NaN</td>\n",
       "      <td>820170073297</td>\n",
       "      <td>53430</td>\n",
       "      <td>NaN</td>\n",
       "      <td>820170073297</td>\n",
       "    </tr>\n",
       "    <tr>\n",
       "      <th>38</th>\n",
       "      <td>53431</td>\n",
       "      <td>NaN</td>\n",
       "      <td>820170073310</td>\n",
       "      <td>53431</td>\n",
       "      <td>NaN</td>\n",
       "      <td>820170073310</td>\n",
       "    </tr>\n",
       "    <tr>\n",
       "      <th>39</th>\n",
       "      <td>53432</td>\n",
       "      <td>NaN</td>\n",
       "      <td>820170073334</td>\n",
       "      <td>53432</td>\n",
       "      <td>NaN</td>\n",
       "      <td>820170073334</td>\n",
       "    </tr>\n",
       "    <tr>\n",
       "      <th>40</th>\n",
       "      <td>53433</td>\n",
       "      <td>NaN</td>\n",
       "      <td>820170073358</td>\n",
       "      <td>53433</td>\n",
       "      <td>NaN</td>\n",
       "      <td>820170073358</td>\n",
       "    </tr>\n",
       "    <tr>\n",
       "      <th>41</th>\n",
       "      <td>53434</td>\n",
       "      <td>NaN</td>\n",
       "      <td>820170073372</td>\n",
       "      <td>53434</td>\n",
       "      <td>NaN</td>\n",
       "      <td>820170073372</td>\n",
       "    </tr>\n",
       "    <tr>\n",
       "      <th>42</th>\n",
       "      <td>41662</td>\n",
       "      <td>NaN</td>\n",
       "      <td>820170072306</td>\n",
       "      <td>41662</td>\n",
       "      <td>NaN</td>\n",
       "      <td>820170072306</td>\n",
       "    </tr>\n",
       "    <tr>\n",
       "      <th>43</th>\n",
       "      <td>41660</td>\n",
       "      <td>NaN</td>\n",
       "      <td>820170072276</td>\n",
       "      <td>41660</td>\n",
       "      <td>NaN</td>\n",
       "      <td>820170072276</td>\n",
       "    </tr>\n",
       "    <tr>\n",
       "      <th>44</th>\n",
       "      <td>41659</td>\n",
       "      <td>NaN</td>\n",
       "      <td>820170072252</td>\n",
       "      <td>41659</td>\n",
       "      <td>NaN</td>\n",
       "      <td>820170072252</td>\n",
       "    </tr>\n",
       "    <tr>\n",
       "      <th>45</th>\n",
       "      <td>41658</td>\n",
       "      <td>NaN</td>\n",
       "      <td>820170072238</td>\n",
       "      <td>41658</td>\n",
       "      <td>NaN</td>\n",
       "      <td>820170072238</td>\n",
       "    </tr>\n",
       "    <tr>\n",
       "      <th>46</th>\n",
       "      <td>41657</td>\n",
       "      <td>NaN</td>\n",
       "      <td>820170072214</td>\n",
       "      <td>41657</td>\n",
       "      <td>NaN</td>\n",
       "      <td>820170072214</td>\n",
       "    </tr>\n",
       "    <tr>\n",
       "      <th>47</th>\n",
       "      <td>55030</td>\n",
       "      <td>NaN</td>\n",
       "      <td>820170073396</td>\n",
       "      <td>55030</td>\n",
       "      <td>NaN</td>\n",
       "      <td>820170073396</td>\n",
       "    </tr>\n",
       "    <tr>\n",
       "      <th>48</th>\n",
       "      <td>55031</td>\n",
       "      <td>NaN</td>\n",
       "      <td>820170073419</td>\n",
       "      <td>55031</td>\n",
       "      <td>NaN</td>\n",
       "      <td>820170073419</td>\n",
       "    </tr>\n",
       "    <tr>\n",
       "      <th>49</th>\n",
       "      <td>55032</td>\n",
       "      <td>NaN</td>\n",
       "      <td>820170073433</td>\n",
       "      <td>55032</td>\n",
       "      <td>NaN</td>\n",
       "      <td>820170073433</td>\n",
       "    </tr>\n",
       "    <tr>\n",
       "      <th>50</th>\n",
       "      <td>55033</td>\n",
       "      <td>NaN</td>\n",
       "      <td>036000550337</td>\n",
       "      <td>55033</td>\n",
       "      <td>NaN</td>\n",
       "      <td>036000550337</td>\n",
       "    </tr>\n",
       "    <tr>\n",
       "      <th>51</th>\n",
       "      <td>55034</td>\n",
       "      <td>NaN</td>\n",
       "      <td>820170073471</td>\n",
       "      <td>55034</td>\n",
       "      <td>NaN</td>\n",
       "      <td>820170073471</td>\n",
       "    </tr>\n",
       "    <tr>\n",
       "      <th>52</th>\n",
       "      <td>50031</td>\n",
       "      <td>713049530505</td>\n",
       "      <td>820170072696</td>\n",
       "      <td>50031</td>\n",
       "      <td>713049530505</td>\n",
       "      <td>820170072696</td>\n",
       "    </tr>\n",
       "    <tr>\n",
       "      <th>53</th>\n",
       "      <td>50032</td>\n",
       "      <td>NaN</td>\n",
       "      <td>820170072719</td>\n",
       "      <td>50032</td>\n",
       "      <td>NaN</td>\n",
       "      <td>820170072719</td>\n",
       "    </tr>\n",
       "    <tr>\n",
       "      <th>54</th>\n",
       "      <td>50033</td>\n",
       "      <td>NaN</td>\n",
       "      <td>820170072733</td>\n",
       "      <td>50033</td>\n",
       "      <td>NaN</td>\n",
       "      <td>820170072733</td>\n",
       "    </tr>\n",
       "    <tr>\n",
       "      <th>55</th>\n",
       "      <td>50034</td>\n",
       "      <td>NaN</td>\n",
       "      <td>820170072757</td>\n",
       "      <td>50034</td>\n",
       "      <td>NaN</td>\n",
       "      <td>820170072757</td>\n",
       "    </tr>\n",
       "    <tr>\n",
       "      <th>56</th>\n",
       "      <td>44792</td>\n",
       "      <td>820170072528</td>\n",
       "      <td>820140029224</td>\n",
       "      <td>44792</td>\n",
       "      <td>820170072528</td>\n",
       "      <td>820140029224</td>\n",
       "    </tr>\n",
       "    <tr>\n",
       "      <th>57</th>\n",
       "      <td>44793</td>\n",
       "      <td>820170072542</td>\n",
       "      <td>820140029231</td>\n",
       "      <td>44793</td>\n",
       "      <td>820170072542</td>\n",
       "      <td>820140029231</td>\n",
       "    </tr>\n",
       "    <tr>\n",
       "      <th>58</th>\n",
       "      <td>44794</td>\n",
       "      <td>820170072566</td>\n",
       "      <td>820170072559</td>\n",
       "      <td>44794</td>\n",
       "      <td>820170072566</td>\n",
       "      <td>820170072559</td>\n",
       "    </tr>\n",
       "    <tr>\n",
       "      <th>59</th>\n",
       "      <td>44795</td>\n",
       "      <td>820170072580</td>\n",
       "      <td>820140029255</td>\n",
       "      <td>44795</td>\n",
       "      <td>820170072580</td>\n",
       "      <td>820140029255</td>\n",
       "    </tr>\n",
       "    <tr>\n",
       "      <th>60</th>\n",
       "      <td>44796</td>\n",
       "      <td>820170072603</td>\n",
       "      <td>820170072597</td>\n",
       "      <td>44796</td>\n",
       "      <td>820170072603</td>\n",
       "      <td>820170072597</td>\n",
       "    </tr>\n",
       "    <tr>\n",
       "      <th>61</th>\n",
       "      <td>NaN</td>\n",
       "      <td>NaN</td>\n",
       "      <td>NaN</td>\n",
       "      <td>59681</td>\n",
       "      <td>001910528653</td>\n",
       "      <td>NaN</td>\n",
       "    </tr>\n",
       "    <tr>\n",
       "      <th>62</th>\n",
       "      <td>NaN</td>\n",
       "      <td>NaN</td>\n",
       "      <td>NaN</td>\n",
       "      <td>59688</td>\n",
       "      <td>680651596888</td>\n",
       "      <td>NaN</td>\n",
       "    </tr>\n",
       "    <tr>\n",
       "      <th>63</th>\n",
       "      <td>NaN</td>\n",
       "      <td>NaN</td>\n",
       "      <td>NaN</td>\n",
       "      <td>33101</td>\n",
       "      <td>NaN</td>\n",
       "      <td>NaN</td>\n",
       "    </tr>\n",
       "    <tr>\n",
       "      <th>64</th>\n",
       "      <td>NaN</td>\n",
       "      <td>NaN</td>\n",
       "      <td>NaN</td>\n",
       "      <td>33495</td>\n",
       "      <td>NaN</td>\n",
       "      <td>NaN</td>\n",
       "    </tr>\n",
       "    <tr>\n",
       "      <th>65</th>\n",
       "      <td>NaN</td>\n",
       "      <td>NaN</td>\n",
       "      <td>NaN</td>\n",
       "      <td>33500</td>\n",
       "      <td>696576123337</td>\n",
       "      <td>NaN</td>\n",
       "    </tr>\n",
       "    <tr>\n",
       "      <th>66</th>\n",
       "      <td>NaN</td>\n",
       "      <td>NaN</td>\n",
       "      <td>NaN</td>\n",
       "      <td>33510</td>\n",
       "      <td>607885864408</td>\n",
       "      <td>NaN</td>\n",
       "    </tr>\n",
       "    <tr>\n",
       "      <th>67</th>\n",
       "      <td>NaN</td>\n",
       "      <td>NaN</td>\n",
       "      <td>NaN</td>\n",
       "      <td>33625</td>\n",
       "      <td>NaN</td>\n",
       "      <td>NaN</td>\n",
       "    </tr>\n",
       "    <tr>\n",
       "      <th>68</th>\n",
       "      <td>NaN</td>\n",
       "      <td>NaN</td>\n",
       "      <td>NaN</td>\n",
       "      <td>33630</td>\n",
       "      <td>696576118807</td>\n",
       "      <td>NaN</td>\n",
       "    </tr>\n",
       "    <tr>\n",
       "      <th>69</th>\n",
       "      <td>NaN</td>\n",
       "      <td>NaN</td>\n",
       "      <td>NaN</td>\n",
       "      <td>33595</td>\n",
       "      <td>NaN</td>\n",
       "      <td>NaN</td>\n",
       "    </tr>\n",
       "    <tr>\n",
       "      <th>70</th>\n",
       "      <td>NaN</td>\n",
       "      <td>NaN</td>\n",
       "      <td>NaN</td>\n",
       "      <td>33600</td>\n",
       "      <td>NaN</td>\n",
       "      <td>NaN</td>\n",
       "    </tr>\n",
       "    <tr>\n",
       "      <th>71</th>\n",
       "      <td>NaN</td>\n",
       "      <td>NaN</td>\n",
       "      <td>NaN</td>\n",
       "      <td>33201</td>\n",
       "      <td>NaN</td>\n",
       "      <td>NaN</td>\n",
       "    </tr>\n",
       "    <tr>\n",
       "      <th>72</th>\n",
       "      <td>NaN</td>\n",
       "      <td>NaN</td>\n",
       "      <td>NaN</td>\n",
       "      <td>33725</td>\n",
       "      <td>607885864392</td>\n",
       "      <td>NaN</td>\n",
       "    </tr>\n",
       "    <tr>\n",
       "      <th>73</th>\n",
       "      <td>NaN</td>\n",
       "      <td>NaN</td>\n",
       "      <td>NaN</td>\n",
       "      <td>33724</td>\n",
       "      <td>607885864385</td>\n",
       "      <td>NaN</td>\n",
       "    </tr>\n",
       "    <tr>\n",
       "      <th>74</th>\n",
       "      <td>NaN</td>\n",
       "      <td>NaN</td>\n",
       "      <td>NaN</td>\n",
       "      <td>33150</td>\n",
       "      <td>713145687301</td>\n",
       "      <td>NaN</td>\n",
       "    </tr>\n",
       "    <tr>\n",
       "      <th>75</th>\n",
       "      <td>NaN</td>\n",
       "      <td>NaN</td>\n",
       "      <td>NaN</td>\n",
       "      <td>29920</td>\n",
       "      <td>NaN</td>\n",
       "      <td>NaN</td>\n",
       "    </tr>\n",
       "    <tr>\n",
       "      <th>76</th>\n",
       "      <td>NaN</td>\n",
       "      <td>NaN</td>\n",
       "      <td>NaN</td>\n",
       "      <td>29985</td>\n",
       "      <td>NaN</td>\n",
       "      <td>NaN</td>\n",
       "    </tr>\n",
       "    <tr>\n",
       "      <th>77</th>\n",
       "      <td>NaN</td>\n",
       "      <td>NaN</td>\n",
       "      <td>NaN</td>\n",
       "      <td>29980</td>\n",
       "      <td>NaN</td>\n",
       "      <td>NaN</td>\n",
       "    </tr>\n",
       "    <tr>\n",
       "      <th>78</th>\n",
       "      <td>NaN</td>\n",
       "      <td>NaN</td>\n",
       "      <td>NaN</td>\n",
       "      <td>29990</td>\n",
       "      <td>NaN</td>\n",
       "      <td>NaN</td>\n",
       "    </tr>\n",
       "    <tr>\n",
       "      <th>79</th>\n",
       "      <td>NaN</td>\n",
       "      <td>NaN</td>\n",
       "      <td>NaN</td>\n",
       "      <td>29900</td>\n",
       "      <td>NaN</td>\n",
       "      <td>NaN</td>\n",
       "    </tr>\n",
       "    <tr>\n",
       "      <th>80</th>\n",
       "      <td>NaN</td>\n",
       "      <td>NaN</td>\n",
       "      <td>NaN</td>\n",
       "      <td>29970</td>\n",
       "      <td>NaN</td>\n",
       "      <td>NaN</td>\n",
       "    </tr>\n",
       "    <tr>\n",
       "      <th>81</th>\n",
       "      <td>NaN</td>\n",
       "      <td>NaN</td>\n",
       "      <td>NaN</td>\n",
       "      <td>29965</td>\n",
       "      <td>NaN</td>\n",
       "      <td>NaN</td>\n",
       "    </tr>\n",
       "    <tr>\n",
       "      <th>82</th>\n",
       "      <td>NaN</td>\n",
       "      <td>NaN</td>\n",
       "      <td>NaN</td>\n",
       "      <td>29967</td>\n",
       "      <td>NaN</td>\n",
       "      <td>NaN</td>\n",
       "    </tr>\n",
       "    <tr>\n",
       "      <th>83</th>\n",
       "      <td>NaN</td>\n",
       "      <td>NaN</td>\n",
       "      <td>NaN</td>\n",
       "      <td>10594</td>\n",
       "      <td>NaN</td>\n",
       "      <td>NaN</td>\n",
       "    </tr>\n",
       "    <tr>\n",
       "      <th>84</th>\n",
       "      <td>NaN</td>\n",
       "      <td>NaN</td>\n",
       "      <td>NaN</td>\n",
       "      <td>37250</td>\n",
       "      <td>NaN</td>\n",
       "      <td>NaN</td>\n",
       "    </tr>\n",
       "    <tr>\n",
       "      <th>85</th>\n",
       "      <td>NaN</td>\n",
       "      <td>NaN</td>\n",
       "      <td>NaN</td>\n",
       "      <td>37221</td>\n",
       "      <td>NaN</td>\n",
       "      <td>NaN</td>\n",
       "    </tr>\n",
       "    <tr>\n",
       "      <th>86</th>\n",
       "      <td>NaN</td>\n",
       "      <td>NaN</td>\n",
       "      <td>NaN</td>\n",
       "      <td>10595</td>\n",
       "      <td>NaN</td>\n",
       "      <td>NaN</td>\n",
       "    </tr>\n",
       "    <tr>\n",
       "      <th>87</th>\n",
       "      <td>NaN</td>\n",
       "      <td>NaN</td>\n",
       "      <td>NaN</td>\n",
       "      <td>62110</td>\n",
       "      <td>NaN</td>\n",
       "      <td>NaN</td>\n",
       "    </tr>\n",
       "    <tr>\n",
       "      <th>88</th>\n",
       "      <td>NaN</td>\n",
       "      <td>NaN</td>\n",
       "      <td>NaN</td>\n",
       "      <td>37500</td>\n",
       "      <td>NaN</td>\n",
       "      <td>NaN</td>\n",
       "    </tr>\n",
       "    <tr>\n",
       "      <th>89</th>\n",
       "      <td>NaN</td>\n",
       "      <td>NaN</td>\n",
       "      <td>NaN</td>\n",
       "      <td>67793</td>\n",
       "      <td>NaN</td>\n",
       "      <td>NaN</td>\n",
       "    </tr>\n",
       "    <tr>\n",
       "      <th>90</th>\n",
       "      <td>NaN</td>\n",
       "      <td>NaN</td>\n",
       "      <td>NaN</td>\n",
       "      <td>67963</td>\n",
       "      <td>NaN</td>\n",
       "      <td>NaN</td>\n",
       "    </tr>\n",
       "    <tr>\n",
       "      <th>91</th>\n",
       "      <td>NaN</td>\n",
       "      <td>NaN</td>\n",
       "      <td>NaN</td>\n",
       "      <td>67773</td>\n",
       "      <td>NaN</td>\n",
       "      <td>NaN</td>\n",
       "    </tr>\n",
       "    <tr>\n",
       "      <th>92</th>\n",
       "      <td>NaN</td>\n",
       "      <td>NaN</td>\n",
       "      <td>NaN</td>\n",
       "      <td>67803</td>\n",
       "      <td>NaN</td>\n",
       "      <td>NaN</td>\n",
       "    </tr>\n",
       "    <tr>\n",
       "      <th>93</th>\n",
       "      <td>NaN</td>\n",
       "      <td>NaN</td>\n",
       "      <td>NaN</td>\n",
       "      <td>67103</td>\n",
       "      <td>NaN</td>\n",
       "      <td>NaN</td>\n",
       "    </tr>\n",
       "    <tr>\n",
       "      <th>94</th>\n",
       "      <td>NaN</td>\n",
       "      <td>NaN</td>\n",
       "      <td>NaN</td>\n",
       "      <td>67783</td>\n",
       "      <td>NaN</td>\n",
       "      <td>NaN</td>\n",
       "    </tr>\n",
       "    <tr>\n",
       "      <th>95</th>\n",
       "      <td>NaN</td>\n",
       "      <td>NaN</td>\n",
       "      <td>NaN</td>\n",
       "      <td>71825</td>\n",
       "      <td>NaN</td>\n",
       "      <td>NaN</td>\n",
       "    </tr>\n",
       "    <tr>\n",
       "      <th>96</th>\n",
       "      <td>NaN</td>\n",
       "      <td>NaN</td>\n",
       "      <td>NaN</td>\n",
       "      <td>71900</td>\n",
       "      <td>NaN</td>\n",
       "      <td>NaN</td>\n",
       "    </tr>\n",
       "    <tr>\n",
       "      <th>97</th>\n",
       "      <td>NaN</td>\n",
       "      <td>NaN</td>\n",
       "      <td>NaN</td>\n",
       "      <td>71800</td>\n",
       "      <td>NaN</td>\n",
       "      <td>NaN</td>\n",
       "    </tr>\n",
       "    <tr>\n",
       "      <th>98</th>\n",
       "      <td>NaN</td>\n",
       "      <td>NaN</td>\n",
       "      <td>NaN</td>\n",
       "      <td>41802</td>\n",
       "      <td>713049532776</td>\n",
       "      <td>NaN</td>\n",
       "    </tr>\n",
       "    <tr>\n",
       "      <th>99</th>\n",
       "      <td>NaN</td>\n",
       "      <td>NaN</td>\n",
       "      <td>NaN</td>\n",
       "      <td>47570</td>\n",
       "      <td>NaN</td>\n",
       "      <td>NaN</td>\n",
       "    </tr>\n",
       "    <tr>\n",
       "      <th>100</th>\n",
       "      <td>NaN</td>\n",
       "      <td>NaN</td>\n",
       "      <td>NaN</td>\n",
       "      <td>47569</td>\n",
       "      <td>NaN</td>\n",
       "      <td>NaN</td>\n",
       "    </tr>\n",
       "    <tr>\n",
       "      <th>101</th>\n",
       "      <td>NaN</td>\n",
       "      <td>NaN</td>\n",
       "      <td>NaN</td>\n",
       "      <td>47571</td>\n",
       "      <td>NaN</td>\n",
       "      <td>NaN</td>\n",
       "    </tr>\n",
       "    <tr>\n",
       "      <th>102</th>\n",
       "      <td>NaN</td>\n",
       "      <td>NaN</td>\n",
       "      <td>NaN</td>\n",
       "      <td>47573</td>\n",
       "      <td>NaN</td>\n",
       "      <td>NaN</td>\n",
       "    </tr>\n",
       "    <tr>\n",
       "      <th>103</th>\n",
       "      <td>NaN</td>\n",
       "      <td>NaN</td>\n",
       "      <td>NaN</td>\n",
       "      <td>47576</td>\n",
       "      <td>NaN</td>\n",
       "      <td>NaN</td>\n",
       "    </tr>\n",
       "    <tr>\n",
       "      <th>104</th>\n",
       "      <td>NaN</td>\n",
       "      <td>NaN</td>\n",
       "      <td>NaN</td>\n",
       "      <td>47577</td>\n",
       "      <td>NaN</td>\n",
       "      <td>NaN</td>\n",
       "    </tr>\n",
       "    <tr>\n",
       "      <th>105</th>\n",
       "      <td>NaN</td>\n",
       "      <td>NaN</td>\n",
       "      <td>NaN</td>\n",
       "      <td>47574</td>\n",
       "      <td>NaN</td>\n",
       "      <td>NaN</td>\n",
       "    </tr>\n",
       "    <tr>\n",
       "      <th>106</th>\n",
       "      <td>NaN</td>\n",
       "      <td>NaN</td>\n",
       "      <td>NaN</td>\n",
       "      <td>47575</td>\n",
       "      <td>NaN</td>\n",
       "      <td>NaN</td>\n",
       "    </tr>\n",
       "    <tr>\n",
       "      <th>107</th>\n",
       "      <td>NaN</td>\n",
       "      <td>NaN</td>\n",
       "      <td>NaN</td>\n",
       "      <td>47572</td>\n",
       "      <td>NaN</td>\n",
       "      <td>NaN</td>\n",
       "    </tr>\n",
       "    <tr>\n",
       "      <th>108</th>\n",
       "      <td>NaN</td>\n",
       "      <td>NaN</td>\n",
       "      <td>NaN</td>\n",
       "      <td>47578</td>\n",
       "      <td>NaN</td>\n",
       "      <td>NaN</td>\n",
       "    </tr>\n",
       "    <tr>\n",
       "      <th>109</th>\n",
       "      <td>NaN</td>\n",
       "      <td>NaN</td>\n",
       "      <td>NaN</td>\n",
       "      <td>47566</td>\n",
       "      <td>NaN</td>\n",
       "      <td>NaN</td>\n",
       "    </tr>\n",
       "    <tr>\n",
       "      <th>110</th>\n",
       "      <td>NaN</td>\n",
       "      <td>NaN</td>\n",
       "      <td>NaN</td>\n",
       "      <td>47567</td>\n",
       "      <td>NaN</td>\n",
       "      <td>NaN</td>\n",
       "    </tr>\n",
       "    <tr>\n",
       "      <th>111</th>\n",
       "      <td>NaN</td>\n",
       "      <td>NaN</td>\n",
       "      <td>NaN</td>\n",
       "      <td>47568</td>\n",
       "      <td>NaN</td>\n",
       "      <td>NaN</td>\n",
       "    </tr>\n",
       "    <tr>\n",
       "      <th>112</th>\n",
       "      <td>NaN</td>\n",
       "      <td>NaN</td>\n",
       "      <td>NaN</td>\n",
       "      <td>39125</td>\n",
       "      <td>NaN</td>\n",
       "      <td>NaN</td>\n",
       "    </tr>\n",
       "    <tr>\n",
       "      <th>113</th>\n",
       "      <td>NaN</td>\n",
       "      <td>NaN</td>\n",
       "      <td>NaN</td>\n",
       "      <td>39117</td>\n",
       "      <td>NaN</td>\n",
       "      <td>NaN</td>\n",
       "    </tr>\n",
       "    <tr>\n",
       "      <th>114</th>\n",
       "      <td>NaN</td>\n",
       "      <td>NaN</td>\n",
       "      <td>NaN</td>\n",
       "      <td>39118</td>\n",
       "      <td>NaN</td>\n",
       "      <td>NaN</td>\n",
       "    </tr>\n",
       "    <tr>\n",
       "      <th>115</th>\n",
       "      <td>NaN</td>\n",
       "      <td>NaN</td>\n",
       "      <td>NaN</td>\n",
       "      <td>39123</td>\n",
       "      <td>NaN</td>\n",
       "      <td>NaN</td>\n",
       "    </tr>\n",
       "    <tr>\n",
       "      <th>116</th>\n",
       "      <td>NaN</td>\n",
       "      <td>NaN</td>\n",
       "      <td>NaN</td>\n",
       "      <td>47137</td>\n",
       "      <td>NaN</td>\n",
       "      <td>NaN</td>\n",
       "    </tr>\n",
       "    <tr>\n",
       "      <th>117</th>\n",
       "      <td>NaN</td>\n",
       "      <td>NaN</td>\n",
       "      <td>NaN</td>\n",
       "      <td>47298</td>\n",
       "      <td>NaN</td>\n",
       "      <td>NaN</td>\n",
       "    </tr>\n",
       "    <tr>\n",
       "      <th>118</th>\n",
       "      <td>NaN</td>\n",
       "      <td>NaN</td>\n",
       "      <td>NaN</td>\n",
       "      <td>00146</td>\n",
       "      <td>NaN</td>\n",
       "      <td>NaN</td>\n",
       "    </tr>\n",
       "    <tr>\n",
       "      <th>119</th>\n",
       "      <td>NaN</td>\n",
       "      <td>NaN</td>\n",
       "      <td>NaN</td>\n",
       "      <td>47147</td>\n",
       "      <td>NaN</td>\n",
       "      <td>NaN</td>\n",
       "    </tr>\n",
       "    <tr>\n",
       "      <th>120</th>\n",
       "      <td>NaN</td>\n",
       "      <td>NaN</td>\n",
       "      <td>NaN</td>\n",
       "      <td>47149</td>\n",
       "      <td>NaN</td>\n",
       "      <td>NaN</td>\n",
       "    </tr>\n",
       "    <tr>\n",
       "      <th>121</th>\n",
       "      <td>NaN</td>\n",
       "      <td>NaN</td>\n",
       "      <td>NaN</td>\n",
       "      <td>28800</td>\n",
       "      <td>NaN</td>\n",
       "      <td>NaN</td>\n",
       "    </tr>\n",
       "    <tr>\n",
       "      <th>122</th>\n",
       "      <td>NaN</td>\n",
       "      <td>NaN</td>\n",
       "      <td>NaN</td>\n",
       "      <td>28797</td>\n",
       "      <td>713049531618</td>\n",
       "      <td>NaN</td>\n",
       "    </tr>\n",
       "    <tr>\n",
       "      <th>123</th>\n",
       "      <td>NaN</td>\n",
       "      <td>NaN</td>\n",
       "      <td>NaN</td>\n",
       "      <td>00148</td>\n",
       "      <td>NaN</td>\n",
       "      <td>NaN</td>\n",
       "    </tr>\n",
       "    <tr>\n",
       "      <th>124</th>\n",
       "      <td>NaN</td>\n",
       "      <td>NaN</td>\n",
       "      <td>NaN</td>\n",
       "      <td>47297</td>\n",
       "      <td>NaN</td>\n",
       "      <td>NaN</td>\n",
       "    </tr>\n",
       "    <tr>\n",
       "      <th>125</th>\n",
       "      <td>NaN</td>\n",
       "      <td>NaN</td>\n",
       "      <td>NaN</td>\n",
       "      <td>47107</td>\n",
       "      <td>NaN</td>\n",
       "      <td>NaN</td>\n",
       "    </tr>\n",
       "    <tr>\n",
       "      <th>126</th>\n",
       "      <td>NaN</td>\n",
       "      <td>NaN</td>\n",
       "      <td>NaN</td>\n",
       "      <td>28821</td>\n",
       "      <td>NaN</td>\n",
       "      <td>NaN</td>\n",
       "    </tr>\n",
       "    <tr>\n",
       "      <th>127</th>\n",
       "      <td>NaN</td>\n",
       "      <td>NaN</td>\n",
       "      <td>NaN</td>\n",
       "      <td>62116</td>\n",
       "      <td>NaN</td>\n",
       "      <td>NaN</td>\n",
       "    </tr>\n",
       "    <tr>\n",
       "      <th>128</th>\n",
       "      <td>NaN</td>\n",
       "      <td>NaN</td>\n",
       "      <td>NaN</td>\n",
       "      <td>28810</td>\n",
       "      <td>NaN</td>\n",
       "      <td>NaN</td>\n",
       "    </tr>\n",
       "    <tr>\n",
       "      <th>129</th>\n",
       "      <td>NaN</td>\n",
       "      <td>NaN</td>\n",
       "      <td>NaN</td>\n",
       "      <td>62115</td>\n",
       "      <td>NaN</td>\n",
       "      <td>NaN</td>\n",
       "    </tr>\n",
       "    <tr>\n",
       "      <th>130</th>\n",
       "      <td>NaN</td>\n",
       "      <td>NaN</td>\n",
       "      <td>NaN</td>\n",
       "      <td>00152</td>\n",
       "      <td>NaN</td>\n",
       "      <td>NaN</td>\n",
       "    </tr>\n",
       "    <tr>\n",
       "      <th>131</th>\n",
       "      <td>NaN</td>\n",
       "      <td>NaN</td>\n",
       "      <td>NaN</td>\n",
       "      <td>47717</td>\n",
       "      <td>NaN</td>\n",
       "      <td>NaN</td>\n",
       "    </tr>\n",
       "    <tr>\n",
       "      <th>132</th>\n",
       "      <td>NaN</td>\n",
       "      <td>NaN</td>\n",
       "      <td>NaN</td>\n",
       "      <td>47700</td>\n",
       "      <td>NaN</td>\n",
       "      <td>NaN</td>\n",
       "    </tr>\n",
       "    <tr>\n",
       "      <th>133</th>\n",
       "      <td>NaN</td>\n",
       "      <td>NaN</td>\n",
       "      <td>NaN</td>\n",
       "      <td>62354</td>\n",
       "      <td>NaN</td>\n",
       "      <td>NaN</td>\n",
       "    </tr>\n",
       "    <tr>\n",
       "      <th>134</th>\n",
       "      <td>NaN</td>\n",
       "      <td>NaN</td>\n",
       "      <td>NaN</td>\n",
       "      <td>25867</td>\n",
       "      <td>NaN</td>\n",
       "      <td>NaN</td>\n",
       "    </tr>\n",
       "    <tr>\n",
       "      <th>135</th>\n",
       "      <td>NaN</td>\n",
       "      <td>NaN</td>\n",
       "      <td>NaN</td>\n",
       "      <td>25868</td>\n",
       "      <td>NaN</td>\n",
       "      <td>NaN</td>\n",
       "    </tr>\n",
       "    <tr>\n",
       "      <th>136</th>\n",
       "      <td>NaN</td>\n",
       "      <td>NaN</td>\n",
       "      <td>NaN</td>\n",
       "      <td>25869</td>\n",
       "      <td>NaN</td>\n",
       "      <td>NaN</td>\n",
       "    </tr>\n",
       "    <tr>\n",
       "      <th>137</th>\n",
       "      <td>NaN</td>\n",
       "      <td>NaN</td>\n",
       "      <td>NaN</td>\n",
       "      <td>62362</td>\n",
       "      <td>NaN</td>\n",
       "      <td>NaN</td>\n",
       "    </tr>\n",
       "    <tr>\n",
       "      <th>138</th>\n",
       "      <td>NaN</td>\n",
       "      <td>NaN</td>\n",
       "      <td>NaN</td>\n",
       "      <td>62363</td>\n",
       "      <td>NaN</td>\n",
       "      <td>NaN</td>\n",
       "    </tr>\n",
       "    <tr>\n",
       "      <th>139</th>\n",
       "      <td>NaN</td>\n",
       "      <td>NaN</td>\n",
       "      <td>NaN</td>\n",
       "      <td>47090</td>\n",
       "      <td>NaN</td>\n",
       "      <td>NaN</td>\n",
       "    </tr>\n",
       "    <tr>\n",
       "      <th>140</th>\n",
       "      <td>NaN</td>\n",
       "      <td>NaN</td>\n",
       "      <td>NaN</td>\n",
       "      <td>47085</td>\n",
       "      <td>NaN</td>\n",
       "      <td>NaN</td>\n",
       "    </tr>\n",
       "    <tr>\n",
       "      <th>141</th>\n",
       "      <td>NaN</td>\n",
       "      <td>NaN</td>\n",
       "      <td>NaN</td>\n",
       "      <td>47117</td>\n",
       "      <td>NaN</td>\n",
       "      <td>NaN</td>\n",
       "    </tr>\n",
       "    <tr>\n",
       "      <th>142</th>\n",
       "      <td>NaN</td>\n",
       "      <td>NaN</td>\n",
       "      <td>NaN</td>\n",
       "      <td>47095</td>\n",
       "      <td>NaN</td>\n",
       "      <td>NaN</td>\n",
       "    </tr>\n",
       "    <tr>\n",
       "      <th>143</th>\n",
       "      <td>NaN</td>\n",
       "      <td>NaN</td>\n",
       "      <td>NaN</td>\n",
       "      <td>47295</td>\n",
       "      <td>NaN</td>\n",
       "      <td>NaN</td>\n",
       "    </tr>\n",
       "    <tr>\n",
       "      <th>144</th>\n",
       "      <td>NaN</td>\n",
       "      <td>NaN</td>\n",
       "      <td>NaN</td>\n",
       "      <td>47080</td>\n",
       "      <td>616913740041</td>\n",
       "      <td>NaN</td>\n",
       "    </tr>\n",
       "    <tr>\n",
       "      <th>145</th>\n",
       "      <td>NaN</td>\n",
       "      <td>NaN</td>\n",
       "      <td>NaN</td>\n",
       "      <td>49700</td>\n",
       "      <td>NaN</td>\n",
       "      <td>NaN</td>\n",
       "    </tr>\n",
       "    <tr>\n",
       "      <th>146</th>\n",
       "      <td>NaN</td>\n",
       "      <td>NaN</td>\n",
       "      <td>NaN</td>\n",
       "      <td>47119</td>\n",
       "      <td>NaN</td>\n",
       "      <td>NaN</td>\n",
       "    </tr>\n",
       "    <tr>\n",
       "      <th>147</th>\n",
       "      <td>NaN</td>\n",
       "      <td>NaN</td>\n",
       "      <td>NaN</td>\n",
       "      <td>62356</td>\n",
       "      <td>NaN</td>\n",
       "      <td>NaN</td>\n",
       "    </tr>\n",
       "    <tr>\n",
       "      <th>148</th>\n",
       "      <td>NaN</td>\n",
       "      <td>NaN</td>\n",
       "      <td>NaN</td>\n",
       "      <td>62357</td>\n",
       "      <td>NaN</td>\n",
       "      <td>NaN</td>\n",
       "    </tr>\n",
       "    <tr>\n",
       "      <th>149</th>\n",
       "      <td>NaN</td>\n",
       "      <td>NaN</td>\n",
       "      <td>NaN</td>\n",
       "      <td>48247</td>\n",
       "      <td>NaN</td>\n",
       "      <td>NaN</td>\n",
       "    </tr>\n",
       "    <tr>\n",
       "      <th>150</th>\n",
       "      <td>NaN</td>\n",
       "      <td>NaN</td>\n",
       "      <td>NaN</td>\n",
       "      <td>48237</td>\n",
       "      <td>NaN</td>\n",
       "      <td>NaN</td>\n",
       "    </tr>\n",
       "    <tr>\n",
       "      <th>151</th>\n",
       "      <td>NaN</td>\n",
       "      <td>NaN</td>\n",
       "      <td>NaN</td>\n",
       "      <td>28820</td>\n",
       "      <td>NaN</td>\n",
       "      <td>NaN</td>\n",
       "    </tr>\n",
       "    <tr>\n",
       "      <th>152</th>\n",
       "      <td>NaN</td>\n",
       "      <td>NaN</td>\n",
       "      <td>NaN</td>\n",
       "      <td>48297</td>\n",
       "      <td>NaN</td>\n",
       "      <td>NaN</td>\n",
       "    </tr>\n",
       "    <tr>\n",
       "      <th>153</th>\n",
       "      <td>NaN</td>\n",
       "      <td>NaN</td>\n",
       "      <td>NaN</td>\n",
       "      <td>48208</td>\n",
       "      <td>NaN</td>\n",
       "      <td>NaN</td>\n",
       "    </tr>\n",
       "    <tr>\n",
       "      <th>154</th>\n",
       "      <td>NaN</td>\n",
       "      <td>NaN</td>\n",
       "      <td>NaN</td>\n",
       "      <td>48207</td>\n",
       "      <td>NaN</td>\n",
       "      <td>NaN</td>\n",
       "    </tr>\n",
       "    <tr>\n",
       "      <th>155</th>\n",
       "      <td>NaN</td>\n",
       "      <td>NaN</td>\n",
       "      <td>NaN</td>\n",
       "      <td>48248</td>\n",
       "      <td>NaN</td>\n",
       "      <td>NaN</td>\n",
       "    </tr>\n",
       "    <tr>\n",
       "      <th>156</th>\n",
       "      <td>NaN</td>\n",
       "      <td>NaN</td>\n",
       "      <td>NaN</td>\n",
       "      <td>28804</td>\n",
       "      <td>NaN</td>\n",
       "      <td>NaN</td>\n",
       "    </tr>\n",
       "    <tr>\n",
       "      <th>157</th>\n",
       "      <td>NaN</td>\n",
       "      <td>NaN</td>\n",
       "      <td>NaN</td>\n",
       "      <td>49216</td>\n",
       "      <td>NaN</td>\n",
       "      <td>NaN</td>\n",
       "    </tr>\n",
       "    <tr>\n",
       "      <th>158</th>\n",
       "      <td>NaN</td>\n",
       "      <td>NaN</td>\n",
       "      <td>NaN</td>\n",
       "      <td>49216</td>\n",
       "      <td>NaN</td>\n",
       "      <td>NaN</td>\n",
       "    </tr>\n",
       "    <tr>\n",
       "      <th>159</th>\n",
       "      <td>NaN</td>\n",
       "      <td>NaN</td>\n",
       "      <td>NaN</td>\n",
       "      <td>49216</td>\n",
       "      <td>NaN</td>\n",
       "      <td>NaN</td>\n",
       "    </tr>\n",
       "    <tr>\n",
       "      <th>160</th>\n",
       "      <td>NaN</td>\n",
       "      <td>NaN</td>\n",
       "      <td>NaN</td>\n",
       "      <td>49216</td>\n",
       "      <td>NaN</td>\n",
       "      <td>NaN</td>\n",
       "    </tr>\n",
       "    <tr>\n",
       "      <th>161</th>\n",
       "      <td>NaN</td>\n",
       "      <td>NaN</td>\n",
       "      <td>NaN</td>\n",
       "      <td>37525</td>\n",
       "      <td>NaN</td>\n",
       "      <td>NaN</td>\n",
       "    </tr>\n",
       "    <tr>\n",
       "      <th>162</th>\n",
       "      <td>NaN</td>\n",
       "      <td>NaN</td>\n",
       "      <td>NaN</td>\n",
       "      <td>37525</td>\n",
       "      <td>NaN</td>\n",
       "      <td>NaN</td>\n",
       "    </tr>\n",
       "    <tr>\n",
       "      <th>163</th>\n",
       "      <td>NaN</td>\n",
       "      <td>NaN</td>\n",
       "      <td>NaN</td>\n",
       "      <td>37525</td>\n",
       "      <td>NaN</td>\n",
       "      <td>NaN</td>\n",
       "    </tr>\n",
       "    <tr>\n",
       "      <th>164</th>\n",
       "      <td>NaN</td>\n",
       "      <td>NaN</td>\n",
       "      <td>NaN</td>\n",
       "      <td>37525</td>\n",
       "      <td>NaN</td>\n",
       "      <td>NaN</td>\n",
       "    </tr>\n",
       "    <tr>\n",
       "      <th>165</th>\n",
       "      <td>NaN</td>\n",
       "      <td>NaN</td>\n",
       "      <td>NaN</td>\n",
       "      <td>48220</td>\n",
       "      <td>NaN</td>\n",
       "      <td>NaN</td>\n",
       "    </tr>\n",
       "    <tr>\n",
       "      <th>166</th>\n",
       "      <td>NaN</td>\n",
       "      <td>NaN</td>\n",
       "      <td>NaN</td>\n",
       "      <td>48220</td>\n",
       "      <td>NaN</td>\n",
       "      <td>NaN</td>\n",
       "    </tr>\n",
       "    <tr>\n",
       "      <th>167</th>\n",
       "      <td>NaN</td>\n",
       "      <td>NaN</td>\n",
       "      <td>NaN</td>\n",
       "      <td>48220</td>\n",
       "      <td>NaN</td>\n",
       "      <td>NaN</td>\n",
       "    </tr>\n",
       "    <tr>\n",
       "      <th>168</th>\n",
       "      <td>NaN</td>\n",
       "      <td>NaN</td>\n",
       "      <td>NaN</td>\n",
       "      <td>48220</td>\n",
       "      <td>NaN</td>\n",
       "      <td>NaN</td>\n",
       "    </tr>\n",
       "    <tr>\n",
       "      <th>169</th>\n",
       "      <td>NaN</td>\n",
       "      <td>NaN</td>\n",
       "      <td>NaN</td>\n",
       "      <td>28809</td>\n",
       "      <td>NaN</td>\n",
       "      <td>NaN</td>\n",
       "    </tr>\n",
       "    <tr>\n",
       "      <th>170</th>\n",
       "      <td>NaN</td>\n",
       "      <td>NaN</td>\n",
       "      <td>NaN</td>\n",
       "      <td>62114</td>\n",
       "      <td>NaN</td>\n",
       "      <td>NaN</td>\n",
       "    </tr>\n",
       "    <tr>\n",
       "      <th>171</th>\n",
       "      <td>NaN</td>\n",
       "      <td>NaN</td>\n",
       "      <td>NaN</td>\n",
       "      <td>28808</td>\n",
       "      <td>NaN</td>\n",
       "      <td>NaN</td>\n",
       "    </tr>\n",
       "    <tr>\n",
       "      <th>172</th>\n",
       "      <td>NaN</td>\n",
       "      <td>NaN</td>\n",
       "      <td>NaN</td>\n",
       "      <td>62113</td>\n",
       "      <td>NaN</td>\n",
       "      <td>NaN</td>\n",
       "    </tr>\n",
       "    <tr>\n",
       "      <th>173</th>\n",
       "      <td>NaN</td>\n",
       "      <td>NaN</td>\n",
       "      <td>NaN</td>\n",
       "      <td>28806</td>\n",
       "      <td>NaN</td>\n",
       "      <td>NaN</td>\n",
       "    </tr>\n",
       "    <tr>\n",
       "      <th>174</th>\n",
       "      <td>NaN</td>\n",
       "      <td>NaN</td>\n",
       "      <td>NaN</td>\n",
       "      <td>41805</td>\n",
       "      <td>NaN</td>\n",
       "      <td>NaN</td>\n",
       "    </tr>\n",
       "    <tr>\n",
       "      <th>175</th>\n",
       "      <td>NaN</td>\n",
       "      <td>NaN</td>\n",
       "      <td>NaN</td>\n",
       "      <td>49701</td>\n",
       "      <td>NaN</td>\n",
       "      <td>NaN</td>\n",
       "    </tr>\n",
       "    <tr>\n",
       "      <th>176</th>\n",
       "      <td>NaN</td>\n",
       "      <td>NaN</td>\n",
       "      <td>NaN</td>\n",
       "      <td>48210</td>\n",
       "      <td>NaN</td>\n",
       "      <td>NaN</td>\n",
       "    </tr>\n",
       "    <tr>\n",
       "      <th>177</th>\n",
       "      <td>NaN</td>\n",
       "      <td>NaN</td>\n",
       "      <td>NaN</td>\n",
       "      <td>48296</td>\n",
       "      <td>NaN</td>\n",
       "      <td>NaN</td>\n",
       "    </tr>\n",
       "    <tr>\n",
       "      <th>178</th>\n",
       "      <td>NaN</td>\n",
       "      <td>NaN</td>\n",
       "      <td>NaN</td>\n",
       "      <td>48390</td>\n",
       "      <td>NaN</td>\n",
       "      <td>NaN</td>\n",
       "    </tr>\n",
       "    <tr>\n",
       "      <th>179</th>\n",
       "      <td>NaN</td>\n",
       "      <td>NaN</td>\n",
       "      <td>NaN</td>\n",
       "      <td>48201</td>\n",
       "      <td>NaN</td>\n",
       "      <td>NaN</td>\n",
       "    </tr>\n",
       "    <tr>\n",
       "      <th>180</th>\n",
       "      <td>NaN</td>\n",
       "      <td>NaN</td>\n",
       "      <td>NaN</td>\n",
       "      <td>59928</td>\n",
       "      <td>NaN</td>\n",
       "      <td>NaN</td>\n",
       "    </tr>\n",
       "    <tr>\n",
       "      <th>181</th>\n",
       "      <td>NaN</td>\n",
       "      <td>NaN</td>\n",
       "      <td>NaN</td>\n",
       "      <td>49310</td>\n",
       "      <td>NaN</td>\n",
       "      <td>NaN</td>\n",
       "    </tr>\n",
       "    <tr>\n",
       "      <th>182</th>\n",
       "      <td>NaN</td>\n",
       "      <td>NaN</td>\n",
       "      <td>NaN</td>\n",
       "      <td>49214</td>\n",
       "      <td>NaN</td>\n",
       "      <td>NaN</td>\n",
       "    </tr>\n",
       "    <tr>\n",
       "      <th>183</th>\n",
       "      <td>NaN</td>\n",
       "      <td>NaN</td>\n",
       "      <td>NaN</td>\n",
       "      <td>47650</td>\n",
       "      <td>NaN</td>\n",
       "      <td>NaN</td>\n",
       "    </tr>\n",
       "    <tr>\n",
       "      <th>184</th>\n",
       "      <td>NaN</td>\n",
       "      <td>NaN</td>\n",
       "      <td>NaN</td>\n",
       "      <td>47625</td>\n",
       "      <td>NaN</td>\n",
       "      <td>NaN</td>\n",
       "    </tr>\n",
       "    <tr>\n",
       "      <th>185</th>\n",
       "      <td>NaN</td>\n",
       "      <td>NaN</td>\n",
       "      <td>NaN</td>\n",
       "      <td>49235</td>\n",
       "      <td>NaN</td>\n",
       "      <td>NaN</td>\n",
       "    </tr>\n",
       "    <tr>\n",
       "      <th>186</th>\n",
       "      <td>NaN</td>\n",
       "      <td>NaN</td>\n",
       "      <td>NaN</td>\n",
       "      <td>49215</td>\n",
       "      <td>637813407803</td>\n",
       "      <td>NaN</td>\n",
       "    </tr>\n",
       "    <tr>\n",
       "      <th>187</th>\n",
       "      <td>NaN</td>\n",
       "      <td>NaN</td>\n",
       "      <td>NaN</td>\n",
       "      <td>47500</td>\n",
       "      <td>NaN</td>\n",
       "      <td>NaN</td>\n",
       "    </tr>\n",
       "    <tr>\n",
       "      <th>188</th>\n",
       "      <td>NaN</td>\n",
       "      <td>NaN</td>\n",
       "      <td>NaN</td>\n",
       "      <td>48105</td>\n",
       "      <td>NaN</td>\n",
       "      <td>NaN</td>\n",
       "    </tr>\n",
       "    <tr>\n",
       "      <th>189</th>\n",
       "      <td>NaN</td>\n",
       "      <td>NaN</td>\n",
       "      <td>NaN</td>\n",
       "      <td>62367</td>\n",
       "      <td>NaN</td>\n",
       "      <td>NaN</td>\n",
       "    </tr>\n",
       "    <tr>\n",
       "      <th>190</th>\n",
       "      <td>NaN</td>\n",
       "      <td>NaN</td>\n",
       "      <td>NaN</td>\n",
       "      <td>48100</td>\n",
       "      <td>NaN</td>\n",
       "      <td>NaN</td>\n",
       "    </tr>\n",
       "    <tr>\n",
       "      <th>191</th>\n",
       "      <td>NaN</td>\n",
       "      <td>NaN</td>\n",
       "      <td>NaN</td>\n",
       "      <td>62126</td>\n",
       "      <td>NaN</td>\n",
       "      <td>NaN</td>\n",
       "    </tr>\n",
       "    <tr>\n",
       "      <th>192</th>\n",
       "      <td>NaN</td>\n",
       "      <td>NaN</td>\n",
       "      <td>NaN</td>\n",
       "      <td>62355</td>\n",
       "      <td>NaN</td>\n",
       "      <td>NaN</td>\n",
       "    </tr>\n",
       "    <tr>\n",
       "      <th>193</th>\n",
       "      <td>NaN</td>\n",
       "      <td>NaN</td>\n",
       "      <td>NaN</td>\n",
       "      <td>46828</td>\n",
       "      <td>NaN</td>\n",
       "      <td>NaN</td>\n",
       "    </tr>\n",
       "    <tr>\n",
       "      <th>194</th>\n",
       "      <td>NaN</td>\n",
       "      <td>NaN</td>\n",
       "      <td>NaN</td>\n",
       "      <td>46728</td>\n",
       "      <td>NaN</td>\n",
       "      <td>NaN</td>\n",
       "    </tr>\n",
       "    <tr>\n",
       "      <th>195</th>\n",
       "      <td>NaN</td>\n",
       "      <td>NaN</td>\n",
       "      <td>NaN</td>\n",
       "      <td>46827</td>\n",
       "      <td>NaN</td>\n",
       "      <td>NaN</td>\n",
       "    </tr>\n",
       "    <tr>\n",
       "      <th>196</th>\n",
       "      <td>NaN</td>\n",
       "      <td>NaN</td>\n",
       "      <td>NaN</td>\n",
       "      <td>46727</td>\n",
       "      <td>NaN</td>\n",
       "      <td>NaN</td>\n",
       "    </tr>\n",
       "    <tr>\n",
       "      <th>197</th>\n",
       "      <td>NaN</td>\n",
       "      <td>NaN</td>\n",
       "      <td>NaN</td>\n",
       "      <td>46867</td>\n",
       "      <td>NaN</td>\n",
       "      <td>NaN</td>\n",
       "    </tr>\n",
       "    <tr>\n",
       "      <th>198</th>\n",
       "      <td>NaN</td>\n",
       "      <td>NaN</td>\n",
       "      <td>NaN</td>\n",
       "      <td>46767</td>\n",
       "      <td>NaN</td>\n",
       "      <td>NaN</td>\n",
       "    </tr>\n",
       "    <tr>\n",
       "      <th>199</th>\n",
       "      <td>NaN</td>\n",
       "      <td>NaN</td>\n",
       "      <td>NaN</td>\n",
       "      <td>32856</td>\n",
       "      <td>713049529660</td>\n",
       "      <td>NaN</td>\n",
       "    </tr>\n",
       "    <tr>\n",
       "      <th>200</th>\n",
       "      <td>NaN</td>\n",
       "      <td>NaN</td>\n",
       "      <td>NaN</td>\n",
       "      <td>41204</td>\n",
       "      <td>NaN</td>\n",
       "      <td>NaN</td>\n",
       "    </tr>\n",
       "    <tr>\n",
       "      <th>201</th>\n",
       "      <td>NaN</td>\n",
       "      <td>NaN</td>\n",
       "      <td>NaN</td>\n",
       "      <td>41205</td>\n",
       "      <td>713145686496</td>\n",
       "      <td>NaN</td>\n",
       "    </tr>\n",
       "    <tr>\n",
       "      <th>202</th>\n",
       "      <td>NaN</td>\n",
       "      <td>NaN</td>\n",
       "      <td>NaN</td>\n",
       "      <td>SV50A</td>\n",
       "      <td>NaN</td>\n",
       "      <td>NaN</td>\n",
       "    </tr>\n",
       "    <tr>\n",
       "      <th>203</th>\n",
       "      <td>NaN</td>\n",
       "      <td>NaN</td>\n",
       "      <td>NaN</td>\n",
       "      <td>SV100F</td>\n",
       "      <td>NaN</td>\n",
       "      <td>NaN</td>\n",
       "    </tr>\n",
       "    <tr>\n",
       "      <th>204</th>\n",
       "      <td>NaN</td>\n",
       "      <td>NaN</td>\n",
       "      <td>NaN</td>\n",
       "      <td>SV250L</td>\n",
       "      <td>NaN</td>\n",
       "      <td>NaN</td>\n",
       "    </tr>\n",
       "    <tr>\n",
       "      <th>205</th>\n",
       "      <td>NaN</td>\n",
       "      <td>NaN</td>\n",
       "      <td>NaN</td>\n",
       "      <td>39124</td>\n",
       "      <td>NaN</td>\n",
       "      <td>NaN</td>\n",
       "    </tr>\n",
       "    <tr>\n",
       "      <th>206</th>\n",
       "      <td>NaN</td>\n",
       "      <td>NaN</td>\n",
       "      <td>NaN</td>\n",
       "      <td>99181</td>\n",
       "      <td>NaN</td>\n",
       "      <td>NaN</td>\n",
       "    </tr>\n",
       "    <tr>\n",
       "      <th>207</th>\n",
       "      <td>NaN</td>\n",
       "      <td>NaN</td>\n",
       "      <td>NaN</td>\n",
       "      <td>99175</td>\n",
       "      <td>NaN</td>\n",
       "      <td>NaN</td>\n",
       "    </tr>\n",
       "    <tr>\n",
       "      <th>208</th>\n",
       "      <td>NaN</td>\n",
       "      <td>NaN</td>\n",
       "      <td>NaN</td>\n",
       "      <td>99184</td>\n",
       "      <td>NaN</td>\n",
       "      <td>NaN</td>\n",
       "    </tr>\n",
       "    <tr>\n",
       "      <th>209</th>\n",
       "      <td>NaN</td>\n",
       "      <td>NaN</td>\n",
       "      <td>NaN</td>\n",
       "      <td>99178</td>\n",
       "      <td>NaN</td>\n",
       "      <td>NaN</td>\n",
       "    </tr>\n",
       "    <tr>\n",
       "      <th>210</th>\n",
       "      <td>NaN</td>\n",
       "      <td>NaN</td>\n",
       "      <td>NaN</td>\n",
       "      <td>47950</td>\n",
       "      <td>NaN</td>\n",
       "      <td>NaN</td>\n",
       "    </tr>\n",
       "    <tr>\n",
       "      <th>211</th>\n",
       "      <td>NaN</td>\n",
       "      <td>NaN</td>\n",
       "      <td>NaN</td>\n",
       "      <td>99003</td>\n",
       "      <td>NaN</td>\n",
       "      <td>NaN</td>\n",
       "    </tr>\n",
       "    <tr>\n",
       "      <th>212</th>\n",
       "      <td>NaN</td>\n",
       "      <td>NaN</td>\n",
       "      <td>NaN</td>\n",
       "      <td>99009</td>\n",
       "      <td>NaN</td>\n",
       "      <td>NaN</td>\n",
       "    </tr>\n",
       "    <tr>\n",
       "      <th>213</th>\n",
       "      <td>NaN</td>\n",
       "      <td>NaN</td>\n",
       "      <td>NaN</td>\n",
       "      <td>99018</td>\n",
       "      <td>NaN</td>\n",
       "      <td>NaN</td>\n",
       "    </tr>\n",
       "    <tr>\n",
       "      <th>214</th>\n",
       "      <td>NaN</td>\n",
       "      <td>NaN</td>\n",
       "      <td>NaN</td>\n",
       "      <td>99010</td>\n",
       "      <td>NaN</td>\n",
       "      <td>NaN</td>\n",
       "    </tr>\n",
       "    <tr>\n",
       "      <th>215</th>\n",
       "      <td>NaN</td>\n",
       "      <td>NaN</td>\n",
       "      <td>NaN</td>\n",
       "      <td>99015</td>\n",
       "      <td>NaN</td>\n",
       "      <td>NaN</td>\n",
       "    </tr>\n",
       "    <tr>\n",
       "      <th>216</th>\n",
       "      <td>NaN</td>\n",
       "      <td>NaN</td>\n",
       "      <td>NaN</td>\n",
       "      <td>69766</td>\n",
       "      <td>NaN</td>\n",
       "      <td>NaN</td>\n",
       "    </tr>\n",
       "    <tr>\n",
       "      <th>217</th>\n",
       "      <td>NaN</td>\n",
       "      <td>NaN</td>\n",
       "      <td>NaN</td>\n",
       "      <td>79002</td>\n",
       "      <td>NaN</td>\n",
       "      <td>NaN</td>\n",
       "    </tr>\n",
       "    <tr>\n",
       "      <th>218</th>\n",
       "      <td>NaN</td>\n",
       "      <td>NaN</td>\n",
       "      <td>NaN</td>\n",
       "      <td>90947</td>\n",
       "      <td>NaN</td>\n",
       "      <td>NaN</td>\n",
       "    </tr>\n",
       "    <tr>\n",
       "      <th>219</th>\n",
       "      <td>NaN</td>\n",
       "      <td>NaN</td>\n",
       "      <td>NaN</td>\n",
       "      <td>90963</td>\n",
       "      <td>NaN</td>\n",
       "      <td>NaN</td>\n",
       "    </tr>\n",
       "    <tr>\n",
       "      <th>220</th>\n",
       "      <td>NaN</td>\n",
       "      <td>NaN</td>\n",
       "      <td>NaN</td>\n",
       "      <td>54100</td>\n",
       "      <td>607885865344</td>\n",
       "      <td>NaN</td>\n",
       "    </tr>\n",
       "    <tr>\n",
       "      <th>221</th>\n",
       "      <td>NaN</td>\n",
       "      <td>NaN</td>\n",
       "      <td>NaN</td>\n",
       "      <td>54101</td>\n",
       "      <td>607885865351</td>\n",
       "      <td>NaN</td>\n",
       "    </tr>\n",
       "    <tr>\n",
       "      <th>222</th>\n",
       "      <td>NaN</td>\n",
       "      <td>NaN</td>\n",
       "      <td>NaN</td>\n",
       "      <td>54110</td>\n",
       "      <td>607885865368</td>\n",
       "      <td>NaN</td>\n",
       "    </tr>\n",
       "    <tr>\n",
       "      <th>223</th>\n",
       "      <td>NaN</td>\n",
       "      <td>NaN</td>\n",
       "      <td>NaN</td>\n",
       "      <td>54111</td>\n",
       "      <td>NaN</td>\n",
       "      <td>NaN</td>\n",
       "    </tr>\n",
       "    <tr>\n",
       "      <th>224</th>\n",
       "      <td>NaN</td>\n",
       "      <td>NaN</td>\n",
       "      <td>NaN</td>\n",
       "      <td>46946</td>\n",
       "      <td>NaN</td>\n",
       "      <td>NaN</td>\n",
       "    </tr>\n",
       "    <tr>\n",
       "      <th>225</th>\n",
       "      <td>NaN</td>\n",
       "      <td>NaN</td>\n",
       "      <td>NaN</td>\n",
       "      <td>46947</td>\n",
       "      <td>NaN</td>\n",
       "      <td>NaN</td>\n",
       "    </tr>\n",
       "    <tr>\n",
       "      <th>226</th>\n",
       "      <td>NaN</td>\n",
       "      <td>NaN</td>\n",
       "      <td>NaN</td>\n",
       "      <td>69105</td>\n",
       "      <td>NaN</td>\n",
       "      <td>NaN</td>\n",
       "    </tr>\n",
       "    <tr>\n",
       "      <th>227</th>\n",
       "      <td>NaN</td>\n",
       "      <td>NaN</td>\n",
       "      <td>NaN</td>\n",
       "      <td>69106</td>\n",
       "      <td>NaN</td>\n",
       "      <td>NaN</td>\n",
       "    </tr>\n",
       "    <tr>\n",
       "      <th>228</th>\n",
       "      <td>NaN</td>\n",
       "      <td>NaN</td>\n",
       "      <td>NaN</td>\n",
       "      <td>44715</td>\n",
       "      <td>NaN</td>\n",
       "      <td>NaN</td>\n",
       "    </tr>\n",
       "    <tr>\n",
       "      <th>229</th>\n",
       "      <td>NaN</td>\n",
       "      <td>NaN</td>\n",
       "      <td>NaN</td>\n",
       "      <td>44717</td>\n",
       "      <td>NaN</td>\n",
       "      <td>NaN</td>\n",
       "    </tr>\n",
       "    <tr>\n",
       "      <th>230</th>\n",
       "      <td>NaN</td>\n",
       "      <td>NaN</td>\n",
       "      <td>NaN</td>\n",
       "      <td>44719</td>\n",
       "      <td>NaN</td>\n",
       "      <td>NaN</td>\n",
       "    </tr>\n",
       "    <tr>\n",
       "      <th>231</th>\n",
       "      <td>NaN</td>\n",
       "      <td>NaN</td>\n",
       "      <td>NaN</td>\n",
       "      <td>43007</td>\n",
       "      <td>NaN</td>\n",
       "      <td>NaN</td>\n",
       "    </tr>\n",
       "    <tr>\n",
       "      <th>232</th>\n",
       "      <td>NaN</td>\n",
       "      <td>NaN</td>\n",
       "      <td>NaN</td>\n",
       "      <td>43008</td>\n",
       "      <td>NaN</td>\n",
       "      <td>NaN</td>\n",
       "    </tr>\n",
       "    <tr>\n",
       "      <th>233</th>\n",
       "      <td>NaN</td>\n",
       "      <td>NaN</td>\n",
       "      <td>NaN</td>\n",
       "      <td>43009</td>\n",
       "      <td>NaN</td>\n",
       "      <td>NaN</td>\n",
       "    </tr>\n",
       "    <tr>\n",
       "      <th>234</th>\n",
       "      <td>NaN</td>\n",
       "      <td>NaN</td>\n",
       "      <td>NaN</td>\n",
       "      <td>47003</td>\n",
       "      <td>NaN</td>\n",
       "      <td>NaN</td>\n",
       "    </tr>\n",
       "    <tr>\n",
       "      <th>235</th>\n",
       "      <td>NaN</td>\n",
       "      <td>NaN</td>\n",
       "      <td>NaN</td>\n",
       "      <td>47004</td>\n",
       "      <td>NaN</td>\n",
       "      <td>NaN</td>\n",
       "    </tr>\n",
       "    <tr>\n",
       "      <th>236</th>\n",
       "      <td>NaN</td>\n",
       "      <td>NaN</td>\n",
       "      <td>NaN</td>\n",
       "      <td>32500</td>\n",
       "      <td>NaN</td>\n",
       "      <td>NaN</td>\n",
       "    </tr>\n",
       "    <tr>\n",
       "      <th>237</th>\n",
       "      <td>NaN</td>\n",
       "      <td>NaN</td>\n",
       "      <td>NaN</td>\n",
       "      <td>32501</td>\n",
       "      <td>NaN</td>\n",
       "      <td>NaN</td>\n",
       "    </tr>\n",
       "    <tr>\n",
       "      <th>238</th>\n",
       "      <td>NaN</td>\n",
       "      <td>NaN</td>\n",
       "      <td>NaN</td>\n",
       "      <td>32502</td>\n",
       "      <td>NaN</td>\n",
       "      <td>NaN</td>\n",
       "    </tr>\n",
       "    <tr>\n",
       "      <th>239</th>\n",
       "      <td>NaN</td>\n",
       "      <td>NaN</td>\n",
       "      <td>NaN</td>\n",
       "      <td>32503</td>\n",
       "      <td>NaN</td>\n",
       "      <td>NaN</td>\n",
       "    </tr>\n",
       "    <tr>\n",
       "      <th>240</th>\n",
       "      <td>NaN</td>\n",
       "      <td>NaN</td>\n",
       "      <td>NaN</td>\n",
       "      <td>47001</td>\n",
       "      <td>NaN</td>\n",
       "      <td>NaN</td>\n",
       "    </tr>\n",
       "    <tr>\n",
       "      <th>241</th>\n",
       "      <td>NaN</td>\n",
       "      <td>NaN</td>\n",
       "      <td>NaN</td>\n",
       "      <td>47002</td>\n",
       "      <td>NaN</td>\n",
       "      <td>NaN</td>\n",
       "    </tr>\n",
       "    <tr>\n",
       "      <th>242</th>\n",
       "      <td>NaN</td>\n",
       "      <td>NaN</td>\n",
       "      <td>NaN</td>\n",
       "      <td>69606</td>\n",
       "      <td>NaN</td>\n",
       "      <td>NaN</td>\n",
       "    </tr>\n",
       "    <tr>\n",
       "      <th>243</th>\n",
       "      <td>NaN</td>\n",
       "      <td>NaN</td>\n",
       "      <td>NaN</td>\n",
       "      <td>37284</td>\n",
       "      <td>NaN</td>\n",
       "      <td>NaN</td>\n",
       "    </tr>\n",
       "    <tr>\n",
       "      <th>244</th>\n",
       "      <td>NaN</td>\n",
       "      <td>NaN</td>\n",
       "      <td>NaN</td>\n",
       "      <td>35460</td>\n",
       "      <td>713049529387</td>\n",
       "      <td>NaN</td>\n",
       "    </tr>\n",
       "    <tr>\n",
       "      <th>245</th>\n",
       "      <td>NaN</td>\n",
       "      <td>NaN</td>\n",
       "      <td>NaN</td>\n",
       "      <td>69979</td>\n",
       "      <td>NaN</td>\n",
       "      <td>NaN</td>\n",
       "    </tr>\n",
       "    <tr>\n",
       "      <th>246</th>\n",
       "      <td>NaN</td>\n",
       "      <td>NaN</td>\n",
       "      <td>NaN</td>\n",
       "      <td>69981</td>\n",
       "      <td>NaN</td>\n",
       "      <td>NaN</td>\n",
       "    </tr>\n",
       "    <tr>\n",
       "      <th>247</th>\n",
       "      <td>NaN</td>\n",
       "      <td>NaN</td>\n",
       "      <td>NaN</td>\n",
       "      <td>69986</td>\n",
       "      <td>NaN</td>\n",
       "      <td>NaN</td>\n",
       "    </tr>\n",
       "    <tr>\n",
       "      <th>248</th>\n",
       "      <td>NaN</td>\n",
       "      <td>NaN</td>\n",
       "      <td>NaN</td>\n",
       "      <td>69987</td>\n",
       "      <td>NaN</td>\n",
       "      <td>NaN</td>\n",
       "    </tr>\n",
       "    <tr>\n",
       "      <th>249</th>\n",
       "      <td>NaN</td>\n",
       "      <td>NaN</td>\n",
       "      <td>NaN</td>\n",
       "      <td>69988</td>\n",
       "      <td>713145685758</td>\n",
       "      <td>NaN</td>\n",
       "    </tr>\n",
       "    <tr>\n",
       "      <th>250</th>\n",
       "      <td>NaN</td>\n",
       "      <td>NaN</td>\n",
       "      <td>NaN</td>\n",
       "      <td>69971</td>\n",
       "      <td>NaN</td>\n",
       "      <td>NaN</td>\n",
       "    </tr>\n",
       "    <tr>\n",
       "      <th>251</th>\n",
       "      <td>NaN</td>\n",
       "      <td>NaN</td>\n",
       "      <td>NaN</td>\n",
       "      <td>37660</td>\n",
       "      <td>NaN</td>\n",
       "      <td>NaN</td>\n",
       "    </tr>\n",
       "    <tr>\n",
       "      <th>252</th>\n",
       "      <td>NaN</td>\n",
       "      <td>NaN</td>\n",
       "      <td>NaN</td>\n",
       "      <td>37661</td>\n",
       "      <td>NaN</td>\n",
       "      <td>NaN</td>\n",
       "    </tr>\n",
       "    <tr>\n",
       "      <th>253</th>\n",
       "      <td>NaN</td>\n",
       "      <td>NaN</td>\n",
       "      <td>NaN</td>\n",
       "      <td>43148</td>\n",
       "      <td>NaN</td>\n",
       "      <td>NaN</td>\n",
       "    </tr>\n",
       "    <tr>\n",
       "      <th>254</th>\n",
       "      <td>NaN</td>\n",
       "      <td>NaN</td>\n",
       "      <td>NaN</td>\n",
       "      <td>43149</td>\n",
       "      <td>NaN</td>\n",
       "      <td>NaN</td>\n",
       "    </tr>\n",
       "    <tr>\n",
       "      <th>255</th>\n",
       "      <td>NaN</td>\n",
       "      <td>NaN</td>\n",
       "      <td>NaN</td>\n",
       "      <td>43146</td>\n",
       "      <td>NaN</td>\n",
       "      <td>NaN</td>\n",
       "    </tr>\n",
       "    <tr>\n",
       "      <th>256</th>\n",
       "      <td>NaN</td>\n",
       "      <td>NaN</td>\n",
       "      <td>NaN</td>\n",
       "      <td>43147</td>\n",
       "      <td>NaN</td>\n",
       "      <td>NaN</td>\n",
       "    </tr>\n",
       "    <tr>\n",
       "      <th>257</th>\n",
       "      <td>NaN</td>\n",
       "      <td>NaN</td>\n",
       "      <td>NaN</td>\n",
       "      <td>54310</td>\n",
       "      <td>607885865399</td>\n",
       "      <td>NaN</td>\n",
       "    </tr>\n",
       "    <tr>\n",
       "      <th>258</th>\n",
       "      <td>NaN</td>\n",
       "      <td>NaN</td>\n",
       "      <td>NaN</td>\n",
       "      <td>54311</td>\n",
       "      <td>NaN</td>\n",
       "      <td>NaN</td>\n",
       "    </tr>\n",
       "    <tr>\n",
       "      <th>259</th>\n",
       "      <td>NaN</td>\n",
       "      <td>NaN</td>\n",
       "      <td>NaN</td>\n",
       "      <td>69124</td>\n",
       "      <td>NaN</td>\n",
       "      <td>NaN</td>\n",
       "    </tr>\n",
       "    <tr>\n",
       "      <th>260</th>\n",
       "      <td>NaN</td>\n",
       "      <td>NaN</td>\n",
       "      <td>NaN</td>\n",
       "      <td>69125</td>\n",
       "      <td>NaN</td>\n",
       "      <td>NaN</td>\n",
       "    </tr>\n",
       "    <tr>\n",
       "      <th>261</th>\n",
       "      <td>NaN</td>\n",
       "      <td>NaN</td>\n",
       "      <td>NaN</td>\n",
       "      <td>69127</td>\n",
       "      <td>NaN</td>\n",
       "      <td>NaN</td>\n",
       "    </tr>\n",
       "    <tr>\n",
       "      <th>262</th>\n",
       "      <td>NaN</td>\n",
       "      <td>NaN</td>\n",
       "      <td>NaN</td>\n",
       "      <td>69129</td>\n",
       "      <td>NaN</td>\n",
       "      <td>NaN</td>\n",
       "    </tr>\n",
       "    <tr>\n",
       "      <th>263</th>\n",
       "      <td>NaN</td>\n",
       "      <td>NaN</td>\n",
       "      <td>NaN</td>\n",
       "      <td>69455</td>\n",
       "      <td>NaN</td>\n",
       "      <td>NaN</td>\n",
       "    </tr>\n",
       "    <tr>\n",
       "      <th>264</th>\n",
       "      <td>NaN</td>\n",
       "      <td>NaN</td>\n",
       "      <td>NaN</td>\n",
       "      <td>69316</td>\n",
       "      <td>NaN</td>\n",
       "      <td>NaN</td>\n",
       "    </tr>\n",
       "    <tr>\n",
       "      <th>265</th>\n",
       "      <td>NaN</td>\n",
       "      <td>NaN</td>\n",
       "      <td>NaN</td>\n",
       "      <td>69490</td>\n",
       "      <td>NaN</td>\n",
       "      <td>NaN</td>\n",
       "    </tr>\n",
       "    <tr>\n",
       "      <th>266</th>\n",
       "      <td>NaN</td>\n",
       "      <td>NaN</td>\n",
       "      <td>NaN</td>\n",
       "      <td>69025</td>\n",
       "      <td>NaN</td>\n",
       "      <td>NaN</td>\n",
       "    </tr>\n",
       "    <tr>\n",
       "      <th>267</th>\n",
       "      <td>NaN</td>\n",
       "      <td>NaN</td>\n",
       "      <td>NaN</td>\n",
       "      <td>69028</td>\n",
       "      <td>NaN</td>\n",
       "      <td>NaN</td>\n",
       "    </tr>\n",
       "    <tr>\n",
       "      <th>268</th>\n",
       "      <td>NaN</td>\n",
       "      <td>NaN</td>\n",
       "      <td>NaN</td>\n",
       "      <td>69600</td>\n",
       "      <td>NaN</td>\n",
       "      <td>NaN</td>\n",
       "    </tr>\n",
       "    <tr>\n",
       "      <th>269</th>\n",
       "      <td>NaN</td>\n",
       "      <td>NaN</td>\n",
       "      <td>NaN</td>\n",
       "      <td>69601</td>\n",
       "      <td>NaN</td>\n",
       "      <td>NaN</td>\n",
       "    </tr>\n",
       "    <tr>\n",
       "      <th>270</th>\n",
       "      <td>NaN</td>\n",
       "      <td>NaN</td>\n",
       "      <td>NaN</td>\n",
       "      <td>69602</td>\n",
       "      <td>NaN</td>\n",
       "      <td>NaN</td>\n",
       "    </tr>\n",
       "    <tr>\n",
       "      <th>271</th>\n",
       "      <td>NaN</td>\n",
       "      <td>NaN</td>\n",
       "      <td>NaN</td>\n",
       "      <td>69603</td>\n",
       "      <td>NaN</td>\n",
       "      <td>NaN</td>\n",
       "    </tr>\n",
       "    <tr>\n",
       "      <th>272</th>\n",
       "      <td>NaN</td>\n",
       "      <td>NaN</td>\n",
       "      <td>NaN</td>\n",
       "      <td>13961</td>\n",
       "      <td>NaN</td>\n",
       "      <td>NaN</td>\n",
       "    </tr>\n",
       "    <tr>\n",
       "      <th>273</th>\n",
       "      <td>NaN</td>\n",
       "      <td>NaN</td>\n",
       "      <td>NaN</td>\n",
       "      <td>13962</td>\n",
       "      <td>NaN</td>\n",
       "      <td>NaN</td>\n",
       "    </tr>\n",
       "    <tr>\n",
       "      <th>274</th>\n",
       "      <td>NaN</td>\n",
       "      <td>NaN</td>\n",
       "      <td>NaN</td>\n",
       "      <td>29516</td>\n",
       "      <td>NaN</td>\n",
       "      <td>NaN</td>\n",
       "    </tr>\n",
       "    <tr>\n",
       "      <th>275</th>\n",
       "      <td>NaN</td>\n",
       "      <td>NaN</td>\n",
       "      <td>NaN</td>\n",
       "      <td>29549</td>\n",
       "      <td>NaN</td>\n",
       "      <td>NaN</td>\n",
       "    </tr>\n",
       "    <tr>\n",
       "      <th>276</th>\n",
       "      <td>NaN</td>\n",
       "      <td>NaN</td>\n",
       "      <td>NaN</td>\n",
       "      <td>32572</td>\n",
       "      <td>NaN</td>\n",
       "      <td>NaN</td>\n",
       "    </tr>\n",
       "    <tr>\n",
       "      <th>277</th>\n",
       "      <td>NaN</td>\n",
       "      <td>NaN</td>\n",
       "      <td>NaN</td>\n",
       "      <td>32574</td>\n",
       "      <td>NaN</td>\n",
       "      <td>NaN</td>\n",
       "    </tr>\n",
       "    <tr>\n",
       "      <th>278</th>\n",
       "      <td>NaN</td>\n",
       "      <td>NaN</td>\n",
       "      <td>NaN</td>\n",
       "      <td>47346</td>\n",
       "      <td>NaN</td>\n",
       "      <td>NaN</td>\n",
       "    </tr>\n",
       "    <tr>\n",
       "      <th>279</th>\n",
       "      <td>NaN</td>\n",
       "      <td>NaN</td>\n",
       "      <td>NaN</td>\n",
       "      <td>47347</td>\n",
       "      <td>NaN</td>\n",
       "      <td>NaN</td>\n",
       "    </tr>\n",
       "    <tr>\n",
       "      <th>280</th>\n",
       "      <td>NaN</td>\n",
       "      <td>NaN</td>\n",
       "      <td>NaN</td>\n",
       "      <td>69110</td>\n",
       "      <td>NaN</td>\n",
       "      <td>NaN</td>\n",
       "    </tr>\n",
       "    <tr>\n",
       "      <th>281</th>\n",
       "      <td>NaN</td>\n",
       "      <td>NaN</td>\n",
       "      <td>NaN</td>\n",
       "      <td>69083</td>\n",
       "      <td>NaN</td>\n",
       "      <td>NaN</td>\n",
       "    </tr>\n",
       "    <tr>\n",
       "      <th>282</th>\n",
       "      <td>NaN</td>\n",
       "      <td>NaN</td>\n",
       "      <td>NaN</td>\n",
       "      <td>69086</td>\n",
       "      <td>NaN</td>\n",
       "      <td>NaN</td>\n",
       "    </tr>\n",
       "    <tr>\n",
       "      <th>283</th>\n",
       "      <td>NaN</td>\n",
       "      <td>NaN</td>\n",
       "      <td>NaN</td>\n",
       "      <td>69088</td>\n",
       "      <td>NaN</td>\n",
       "      <td>NaN</td>\n",
       "    </tr>\n",
       "    <tr>\n",
       "      <th>284</th>\n",
       "      <td>NaN</td>\n",
       "      <td>NaN</td>\n",
       "      <td>NaN</td>\n",
       "      <td>69240</td>\n",
       "      <td>NaN</td>\n",
       "      <td>NaN</td>\n",
       "    </tr>\n",
       "    <tr>\n",
       "      <th>285</th>\n",
       "      <td>NaN</td>\n",
       "      <td>NaN</td>\n",
       "      <td>NaN</td>\n",
       "      <td>69520</td>\n",
       "      <td>NaN</td>\n",
       "      <td>NaN</td>\n",
       "    </tr>\n",
       "    <tr>\n",
       "      <th>286</th>\n",
       "      <td>NaN</td>\n",
       "      <td>NaN</td>\n",
       "      <td>NaN</td>\n",
       "      <td>44648</td>\n",
       "      <td>NaN</td>\n",
       "      <td>NaN</td>\n",
       "    </tr>\n",
       "    <tr>\n",
       "      <th>287</th>\n",
       "      <td>NaN</td>\n",
       "      <td>NaN</td>\n",
       "      <td>NaN</td>\n",
       "      <td>69801</td>\n",
       "      <td>NaN</td>\n",
       "      <td>NaN</td>\n",
       "    </tr>\n",
       "    <tr>\n",
       "      <th>288</th>\n",
       "      <td>NaN</td>\n",
       "      <td>NaN</td>\n",
       "      <td>NaN</td>\n",
       "      <td>69802</td>\n",
       "      <td>NaN</td>\n",
       "      <td>NaN</td>\n",
       "    </tr>\n",
       "    <tr>\n",
       "      <th>289</th>\n",
       "      <td>NaN</td>\n",
       "      <td>NaN</td>\n",
       "      <td>NaN</td>\n",
       "      <td>69803</td>\n",
       "      <td>NaN</td>\n",
       "      <td>NaN</td>\n",
       "    </tr>\n",
       "    <tr>\n",
       "      <th>290</th>\n",
       "      <td>NaN</td>\n",
       "      <td>NaN</td>\n",
       "      <td>NaN</td>\n",
       "      <td>47323</td>\n",
       "      <td>NaN</td>\n",
       "      <td>NaN</td>\n",
       "    </tr>\n",
       "    <tr>\n",
       "      <th>291</th>\n",
       "      <td>NaN</td>\n",
       "      <td>NaN</td>\n",
       "      <td>NaN</td>\n",
       "      <td>47322</td>\n",
       "      <td>NaN</td>\n",
       "      <td>NaN</td>\n",
       "    </tr>\n",
       "    <tr>\n",
       "      <th>292</th>\n",
       "      <td>NaN</td>\n",
       "      <td>NaN</td>\n",
       "      <td>NaN</td>\n",
       "      <td>47318</td>\n",
       "      <td>NaN</td>\n",
       "      <td>NaN</td>\n",
       "    </tr>\n",
       "    <tr>\n",
       "      <th>293</th>\n",
       "      <td>NaN</td>\n",
       "      <td>NaN</td>\n",
       "      <td>NaN</td>\n",
       "      <td>47317</td>\n",
       "      <td>NaN</td>\n",
       "      <td>NaN</td>\n",
       "    </tr>\n",
       "    <tr>\n",
       "      <th>294</th>\n",
       "      <td>NaN</td>\n",
       "      <td>NaN</td>\n",
       "      <td>NaN</td>\n",
       "      <td>69551</td>\n",
       "      <td>NaN</td>\n",
       "      <td>NaN</td>\n",
       "    </tr>\n",
       "    <tr>\n",
       "      <th>295</th>\n",
       "      <td>NaN</td>\n",
       "      <td>NaN</td>\n",
       "      <td>NaN</td>\n",
       "      <td>69114</td>\n",
       "      <td>NaN</td>\n",
       "      <td>NaN</td>\n",
       "    </tr>\n",
       "    <tr>\n",
       "      <th>296</th>\n",
       "      <td>NaN</td>\n",
       "      <td>NaN</td>\n",
       "      <td>NaN</td>\n",
       "      <td>69121</td>\n",
       "      <td>NaN</td>\n",
       "      <td>NaN</td>\n",
       "    </tr>\n",
       "    <tr>\n",
       "      <th>297</th>\n",
       "      <td>NaN</td>\n",
       "      <td>NaN</td>\n",
       "      <td>NaN</td>\n",
       "      <td>69254</td>\n",
       "      <td>NaN</td>\n",
       "      <td>NaN</td>\n",
       "    </tr>\n",
       "    <tr>\n",
       "      <th>298</th>\n",
       "      <td>NaN</td>\n",
       "      <td>NaN</td>\n",
       "      <td>NaN</td>\n",
       "      <td>69252</td>\n",
       "      <td>NaN</td>\n",
       "      <td>NaN</td>\n",
       "    </tr>\n",
       "    <tr>\n",
       "      <th>299</th>\n",
       "      <td>NaN</td>\n",
       "      <td>NaN</td>\n",
       "      <td>NaN</td>\n",
       "      <td>69353</td>\n",
       "      <td>NaN</td>\n",
       "      <td>NaN</td>\n",
       "    </tr>\n",
       "    <tr>\n",
       "      <th>300</th>\n",
       "      <td>NaN</td>\n",
       "      <td>NaN</td>\n",
       "      <td>NaN</td>\n",
       "      <td>69253</td>\n",
       "      <td>NaN</td>\n",
       "      <td>NaN</td>\n",
       "    </tr>\n",
       "    <tr>\n",
       "      <th>301</th>\n",
       "      <td>NaN</td>\n",
       "      <td>NaN</td>\n",
       "      <td>NaN</td>\n",
       "      <td>69571</td>\n",
       "      <td>NaN</td>\n",
       "      <td>NaN</td>\n",
       "    </tr>\n",
       "    <tr>\n",
       "      <th>302</th>\n",
       "      <td>NaN</td>\n",
       "      <td>NaN</td>\n",
       "      <td>NaN</td>\n",
       "      <td>69671</td>\n",
       "      <td>NaN</td>\n",
       "      <td>NaN</td>\n",
       "    </tr>\n",
       "    <tr>\n",
       "      <th>303</th>\n",
       "      <td>NaN</td>\n",
       "      <td>NaN</td>\n",
       "      <td>NaN</td>\n",
       "      <td>69572</td>\n",
       "      <td>NaN</td>\n",
       "      <td>NaN</td>\n",
       "    </tr>\n",
       "    <tr>\n",
       "      <th>304</th>\n",
       "      <td>NaN</td>\n",
       "      <td>NaN</td>\n",
       "      <td>NaN</td>\n",
       "      <td>69672</td>\n",
       "      <td>NaN</td>\n",
       "      <td>NaN</td>\n",
       "    </tr>\n",
       "    <tr>\n",
       "      <th>305</th>\n",
       "      <td>NaN</td>\n",
       "      <td>NaN</td>\n",
       "      <td>NaN</td>\n",
       "      <td>10120</td>\n",
       "      <td>NaN</td>\n",
       "      <td>NaN</td>\n",
       "    </tr>\n",
       "    <tr>\n",
       "      <th>306</th>\n",
       "      <td>NaN</td>\n",
       "      <td>NaN</td>\n",
       "      <td>NaN</td>\n",
       "      <td>10121</td>\n",
       "      <td>NaN</td>\n",
       "      <td>NaN</td>\n",
       "    </tr>\n",
       "    <tr>\n",
       "      <th>307</th>\n",
       "      <td>NaN</td>\n",
       "      <td>NaN</td>\n",
       "      <td>NaN</td>\n",
       "      <td>10122</td>\n",
       "      <td>NaN</td>\n",
       "      <td>NaN</td>\n",
       "    </tr>\n",
       "    <tr>\n",
       "      <th>308</th>\n",
       "      <td>NaN</td>\n",
       "      <td>NaN</td>\n",
       "      <td>NaN</td>\n",
       "      <td>10123</td>\n",
       "      <td>NaN</td>\n",
       "      <td>NaN</td>\n",
       "    </tr>\n",
       "    <tr>\n",
       "      <th>309</th>\n",
       "      <td>NaN</td>\n",
       "      <td>NaN</td>\n",
       "      <td>NaN</td>\n",
       "      <td>10124</td>\n",
       "      <td>NaN</td>\n",
       "      <td>NaN</td>\n",
       "    </tr>\n",
       "    <tr>\n",
       "      <th>310</th>\n",
       "      <td>NaN</td>\n",
       "      <td>NaN</td>\n",
       "      <td>NaN</td>\n",
       "      <td>10157</td>\n",
       "      <td>NaN</td>\n",
       "      <td>NaN</td>\n",
       "    </tr>\n",
       "    <tr>\n",
       "      <th>311</th>\n",
       "      <td>NaN</td>\n",
       "      <td>NaN</td>\n",
       "      <td>NaN</td>\n",
       "      <td>10020</td>\n",
       "      <td>NaN</td>\n",
       "      <td>NaN</td>\n",
       "    </tr>\n",
       "    <tr>\n",
       "      <th>312</th>\n",
       "      <td>NaN</td>\n",
       "      <td>NaN</td>\n",
       "      <td>NaN</td>\n",
       "      <td>10040</td>\n",
       "      <td>NaN</td>\n",
       "      <td>NaN</td>\n",
       "    </tr>\n",
       "    <tr>\n",
       "      <th>313</th>\n",
       "      <td>NaN</td>\n",
       "      <td>NaN</td>\n",
       "      <td>NaN</td>\n",
       "      <td>10067</td>\n",
       "      <td>NaN</td>\n",
       "      <td>NaN</td>\n",
       "    </tr>\n",
       "    <tr>\n",
       "      <th>314</th>\n",
       "      <td>NaN</td>\n",
       "      <td>NaN</td>\n",
       "      <td>NaN</td>\n",
       "      <td>10078</td>\n",
       "      <td>NaN</td>\n",
       "      <td>NaN</td>\n",
       "    </tr>\n",
       "    <tr>\n",
       "      <th>315</th>\n",
       "      <td>NaN</td>\n",
       "      <td>NaN</td>\n",
       "      <td>NaN</td>\n",
       "      <td>10087</td>\n",
       "      <td>NaN</td>\n",
       "      <td>NaN</td>\n",
       "    </tr>\n",
       "    <tr>\n",
       "      <th>316</th>\n",
       "      <td>NaN</td>\n",
       "      <td>NaN</td>\n",
       "      <td>NaN</td>\n",
       "      <td>10069</td>\n",
       "      <td>NaN</td>\n",
       "      <td>NaN</td>\n",
       "    </tr>\n",
       "    <tr>\n",
       "      <th>317</th>\n",
       "      <td>NaN</td>\n",
       "      <td>NaN</td>\n",
       "      <td>NaN</td>\n",
       "      <td>10071</td>\n",
       "      <td>NaN</td>\n",
       "      <td>NaN</td>\n",
       "    </tr>\n",
       "    <tr>\n",
       "      <th>318</th>\n",
       "      <td>NaN</td>\n",
       "      <td>NaN</td>\n",
       "      <td>NaN</td>\n",
       "      <td>10072</td>\n",
       "      <td>NaN</td>\n",
       "      <td>NaN</td>\n",
       "    </tr>\n",
       "    <tr>\n",
       "      <th>319</th>\n",
       "      <td>NaN</td>\n",
       "      <td>NaN</td>\n",
       "      <td>NaN</td>\n",
       "      <td>10073</td>\n",
       "      <td>NaN</td>\n",
       "      <td>NaN</td>\n",
       "    </tr>\n",
       "    <tr>\n",
       "      <th>320</th>\n",
       "      <td>NaN</td>\n",
       "      <td>NaN</td>\n",
       "      <td>NaN</td>\n",
       "      <td>10231</td>\n",
       "      <td>NaN</td>\n",
       "      <td>NaN</td>\n",
       "    </tr>\n",
       "    <tr>\n",
       "      <th>321</th>\n",
       "      <td>NaN</td>\n",
       "      <td>NaN</td>\n",
       "      <td>NaN</td>\n",
       "      <td>10232</td>\n",
       "      <td>NaN</td>\n",
       "      <td>NaN</td>\n",
       "    </tr>\n",
       "    <tr>\n",
       "      <th>322</th>\n",
       "      <td>NaN</td>\n",
       "      <td>NaN</td>\n",
       "      <td>NaN</td>\n",
       "      <td>10233</td>\n",
       "      <td>NaN</td>\n",
       "      <td>NaN</td>\n",
       "    </tr>\n",
       "    <tr>\n",
       "      <th>323</th>\n",
       "      <td>NaN</td>\n",
       "      <td>NaN</td>\n",
       "      <td>NaN</td>\n",
       "      <td>10234</td>\n",
       "      <td>NaN</td>\n",
       "      <td>NaN</td>\n",
       "    </tr>\n",
       "    <tr>\n",
       "      <th>324</th>\n",
       "      <td>NaN</td>\n",
       "      <td>NaN</td>\n",
       "      <td>NaN</td>\n",
       "      <td>10235</td>\n",
       "      <td>NaN</td>\n",
       "      <td>NaN</td>\n",
       "    </tr>\n",
       "    <tr>\n",
       "      <th>325</th>\n",
       "      <td>NaN</td>\n",
       "      <td>NaN</td>\n",
       "      <td>NaN</td>\n",
       "      <td>10334</td>\n",
       "      <td>NaN</td>\n",
       "      <td>NaN</td>\n",
       "    </tr>\n",
       "    <tr>\n",
       "      <th>326</th>\n",
       "      <td>NaN</td>\n",
       "      <td>NaN</td>\n",
       "      <td>NaN</td>\n",
       "      <td>10335</td>\n",
       "      <td>NaN</td>\n",
       "      <td>NaN</td>\n",
       "    </tr>\n",
       "    <tr>\n",
       "      <th>327</th>\n",
       "      <td>NaN</td>\n",
       "      <td>NaN</td>\n",
       "      <td>NaN</td>\n",
       "      <td>10336</td>\n",
       "      <td>NaN</td>\n",
       "      <td>NaN</td>\n",
       "    </tr>\n",
       "    <tr>\n",
       "      <th>328</th>\n",
       "      <td>NaN</td>\n",
       "      <td>NaN</td>\n",
       "      <td>NaN</td>\n",
       "      <td>10337</td>\n",
       "      <td>NaN</td>\n",
       "      <td>NaN</td>\n",
       "    </tr>\n",
       "    <tr>\n",
       "      <th>329</th>\n",
       "      <td>NaN</td>\n",
       "      <td>NaN</td>\n",
       "      <td>NaN</td>\n",
       "      <td>10338</td>\n",
       "      <td>NaN</td>\n",
       "      <td>NaN</td>\n",
       "    </tr>\n",
       "    <tr>\n",
       "      <th>330</th>\n",
       "      <td>NaN</td>\n",
       "      <td>NaN</td>\n",
       "      <td>NaN</td>\n",
       "      <td>75631</td>\n",
       "      <td>NaN</td>\n",
       "      <td>NaN</td>\n",
       "    </tr>\n",
       "    <tr>\n",
       "      <th>331</th>\n",
       "      <td>NaN</td>\n",
       "      <td>NaN</td>\n",
       "      <td>NaN</td>\n",
       "      <td>75641</td>\n",
       "      <td>NaN</td>\n",
       "      <td>NaN</td>\n",
       "    </tr>\n",
       "    <tr>\n",
       "      <th>332</th>\n",
       "      <td>NaN</td>\n",
       "      <td>NaN</td>\n",
       "      <td>NaN</td>\n",
       "      <td>75651</td>\n",
       "      <td>NaN</td>\n",
       "      <td>NaN</td>\n",
       "    </tr>\n",
       "    <tr>\n",
       "      <th>333</th>\n",
       "      <td>NaN</td>\n",
       "      <td>NaN</td>\n",
       "      <td>NaN</td>\n",
       "      <td>10075</td>\n",
       "      <td>NaN</td>\n",
       "      <td>NaN</td>\n",
       "    </tr>\n",
       "    <tr>\n",
       "      <th>334</th>\n",
       "      <td>NaN</td>\n",
       "      <td>NaN</td>\n",
       "      <td>NaN</td>\n",
       "      <td>10096</td>\n",
       "      <td>NaN</td>\n",
       "      <td>NaN</td>\n",
       "    </tr>\n",
       "    <tr>\n",
       "      <th>335</th>\n",
       "      <td>NaN</td>\n",
       "      <td>NaN</td>\n",
       "      <td>NaN</td>\n",
       "      <td>10085</td>\n",
       "      <td>NaN</td>\n",
       "      <td>NaN</td>\n",
       "    </tr>\n",
       "    <tr>\n",
       "      <th>336</th>\n",
       "      <td>NaN</td>\n",
       "      <td>NaN</td>\n",
       "      <td>NaN</td>\n",
       "      <td>10095</td>\n",
       "      <td>NaN</td>\n",
       "      <td>NaN</td>\n",
       "    </tr>\n",
       "    <tr>\n",
       "      <th>337</th>\n",
       "      <td>NaN</td>\n",
       "      <td>NaN</td>\n",
       "      <td>NaN</td>\n",
       "      <td>69350</td>\n",
       "      <td>NaN</td>\n",
       "      <td>NaN</td>\n",
       "    </tr>\n",
       "    <tr>\n",
       "      <th>338</th>\n",
       "      <td>NaN</td>\n",
       "      <td>NaN</td>\n",
       "      <td>NaN</td>\n",
       "      <td>69711</td>\n",
       "      <td>NaN</td>\n",
       "      <td>NaN</td>\n",
       "    </tr>\n",
       "    <tr>\n",
       "      <th>339</th>\n",
       "      <td>NaN</td>\n",
       "      <td>NaN</td>\n",
       "      <td>NaN</td>\n",
       "      <td>69712</td>\n",
       "      <td>NaN</td>\n",
       "      <td>NaN</td>\n",
       "    </tr>\n",
       "    <tr>\n",
       "      <th>340</th>\n",
       "      <td>NaN</td>\n",
       "      <td>NaN</td>\n",
       "      <td>NaN</td>\n",
       "      <td>69713</td>\n",
       "      <td>NaN</td>\n",
       "      <td>NaN</td>\n",
       "    </tr>\n",
       "    <tr>\n",
       "      <th>341</th>\n",
       "      <td>NaN</td>\n",
       "      <td>NaN</td>\n",
       "      <td>NaN</td>\n",
       "      <td>69714</td>\n",
       "      <td>NaN</td>\n",
       "      <td>NaN</td>\n",
       "    </tr>\n",
       "    <tr>\n",
       "      <th>342</th>\n",
       "      <td>NaN</td>\n",
       "      <td>NaN</td>\n",
       "      <td>NaN</td>\n",
       "      <td>69701</td>\n",
       "      <td>NaN</td>\n",
       "      <td>NaN</td>\n",
       "    </tr>\n",
       "    <tr>\n",
       "      <th>343</th>\n",
       "      <td>NaN</td>\n",
       "      <td>NaN</td>\n",
       "      <td>NaN</td>\n",
       "      <td>69702</td>\n",
       "      <td>NaN</td>\n",
       "      <td>NaN</td>\n",
       "    </tr>\n",
       "    <tr>\n",
       "      <th>344</th>\n",
       "      <td>NaN</td>\n",
       "      <td>NaN</td>\n",
       "      <td>NaN</td>\n",
       "      <td>69703</td>\n",
       "      <td>NaN</td>\n",
       "      <td>NaN</td>\n",
       "    </tr>\n",
       "    <tr>\n",
       "      <th>345</th>\n",
       "      <td>NaN</td>\n",
       "      <td>NaN</td>\n",
       "      <td>NaN</td>\n",
       "      <td>69704</td>\n",
       "      <td>NaN</td>\n",
       "      <td>NaN</td>\n",
       "    </tr>\n",
       "    <tr>\n",
       "      <th>346</th>\n",
       "      <td>55081</td>\n",
       "      <td>30680651550812</td>\n",
       "      <td>094718114470</td>\n",
       "      <td>NaN</td>\n",
       "      <td>NaN</td>\n",
       "      <td>NaN</td>\n",
       "    </tr>\n",
       "    <tr>\n",
       "      <th>347</th>\n",
       "      <td>55082</td>\n",
       "      <td>30680651550829</td>\n",
       "      <td>036000055085</td>\n",
       "      <td>NaN</td>\n",
       "      <td>NaN</td>\n",
       "      <td>NaN</td>\n",
       "    </tr>\n",
       "    <tr>\n",
       "      <th>348</th>\n",
       "      <td>55083</td>\n",
       "      <td>30680651550836</td>\n",
       "      <td>816687292108</td>\n",
       "      <td>NaN</td>\n",
       "      <td>NaN</td>\n",
       "      <td>NaN</td>\n",
       "    </tr>\n",
       "    <tr>\n",
       "      <th>349</th>\n",
       "      <td>55084</td>\n",
       "      <td>30680651550843</td>\n",
       "      <td>741360082212</td>\n",
       "      <td>NaN</td>\n",
       "      <td>NaN</td>\n",
       "      <td>NaN</td>\n",
       "    </tr>\n",
       "    <tr>\n",
       "      <th>350</th>\n",
       "      <td>50852</td>\n",
       "      <td>NaN</td>\n",
       "      <td>NaN</td>\n",
       "      <td>NaN</td>\n",
       "      <td>NaN</td>\n",
       "      <td>NaN</td>\n",
       "    </tr>\n",
       "    <tr>\n",
       "      <th>351</th>\n",
       "      <td>50853</td>\n",
       "      <td>NaN</td>\n",
       "      <td>NaN</td>\n",
       "      <td>NaN</td>\n",
       "      <td>NaN</td>\n",
       "      <td>NaN</td>\n",
       "    </tr>\n",
       "    <tr>\n",
       "      <th>352</th>\n",
       "      <td>55080</td>\n",
       "      <td>NaN</td>\n",
       "      <td>036000550801</td>\n",
       "      <td>NaN</td>\n",
       "      <td>NaN</td>\n",
       "      <td>NaN</td>\n",
       "    </tr>\n",
       "    <tr>\n",
       "      <th>353</th>\n",
       "      <td>52101</td>\n",
       "      <td>NaN</td>\n",
       "      <td>820170072870</td>\n",
       "      <td>NaN</td>\n",
       "      <td>NaN</td>\n",
       "      <td>NaN</td>\n",
       "    </tr>\n",
       "    <tr>\n",
       "      <th>354</th>\n",
       "      <td>52102</td>\n",
       "      <td>NaN</td>\n",
       "      <td>820170072894</td>\n",
       "      <td>NaN</td>\n",
       "      <td>NaN</td>\n",
       "      <td>NaN</td>\n",
       "    </tr>\n",
       "    <tr>\n",
       "      <th>355</th>\n",
       "      <td>52103</td>\n",
       "      <td>713049530543</td>\n",
       "      <td>820170072917</td>\n",
       "      <td>NaN</td>\n",
       "      <td>NaN</td>\n",
       "      <td>NaN</td>\n",
       "    </tr>\n",
       "    <tr>\n",
       "      <th>356</th>\n",
       "      <td>55091</td>\n",
       "      <td>820170073709</td>\n",
       "      <td>820170073693</td>\n",
       "      <td>NaN</td>\n",
       "      <td>NaN</td>\n",
       "      <td>NaN</td>\n",
       "    </tr>\n",
       "    <tr>\n",
       "      <th>357</th>\n",
       "      <td>55092</td>\n",
       "      <td>820170073723</td>\n",
       "      <td>073598346935</td>\n",
       "      <td>NaN</td>\n",
       "      <td>NaN</td>\n",
       "      <td>NaN</td>\n",
       "    </tr>\n",
       "    <tr>\n",
       "      <th>358</th>\n",
       "      <td>55093</td>\n",
       "      <td>820170073747</td>\n",
       "      <td>820170073730</td>\n",
       "      <td>NaN</td>\n",
       "      <td>NaN</td>\n",
       "      <td>NaN</td>\n",
       "    </tr>\n",
       "    <tr>\n",
       "      <th>359</th>\n",
       "      <td>14260</td>\n",
       "      <td>NaN</td>\n",
       "      <td>820170071835</td>\n",
       "      <td>NaN</td>\n",
       "      <td>NaN</td>\n",
       "      <td>NaN</td>\n",
       "    </tr>\n",
       "    <tr>\n",
       "      <th>360</th>\n",
       "      <td>14261</td>\n",
       "      <td>NaN</td>\n",
       "      <td>820170071859</td>\n",
       "      <td>NaN</td>\n",
       "      <td>NaN</td>\n",
       "      <td>NaN</td>\n",
       "    </tr>\n",
       "    <tr>\n",
       "      <th>361</th>\n",
       "      <td>14262</td>\n",
       "      <td>NaN</td>\n",
       "      <td>820170071880</td>\n",
       "      <td>NaN</td>\n",
       "      <td>NaN</td>\n",
       "      <td>NaN</td>\n",
       "    </tr>\n",
       "    <tr>\n",
       "      <th>362</th>\n",
       "      <td>14263</td>\n",
       "      <td>NaN</td>\n",
       "      <td>820170071903</td>\n",
       "      <td>NaN</td>\n",
       "      <td>NaN</td>\n",
       "      <td>NaN</td>\n",
       "    </tr>\n",
       "    <tr>\n",
       "      <th>363</th>\n",
       "      <td>50601</td>\n",
       "      <td>NaN</td>\n",
       "      <td>820170073624</td>\n",
       "      <td>NaN</td>\n",
       "      <td>NaN</td>\n",
       "      <td>NaN</td>\n",
       "    </tr>\n",
       "    <tr>\n",
       "      <th>364</th>\n",
       "      <td>50602</td>\n",
       "      <td>NaN</td>\n",
       "      <td>820170073648</td>\n",
       "      <td>NaN</td>\n",
       "      <td>NaN</td>\n",
       "      <td>NaN</td>\n",
       "    </tr>\n",
       "    <tr>\n",
       "      <th>365</th>\n",
       "      <td>50603</td>\n",
       "      <td>NaN</td>\n",
       "      <td>680651506030</td>\n",
       "      <td>NaN</td>\n",
       "      <td>NaN</td>\n",
       "      <td>NaN</td>\n",
       "    </tr>\n",
       "    <tr>\n",
       "      <th>366</th>\n",
       "      <td>50604</td>\n",
       "      <td>036000506044</td>\n",
       "      <td>820170073679</td>\n",
       "      <td>NaN</td>\n",
       "      <td>NaN</td>\n",
       "      <td>NaN</td>\n",
       "    </tr>\n",
       "    <tr>\n",
       "      <th>367</th>\n",
       "      <td>55090</td>\n",
       "      <td>NaN</td>\n",
       "      <td>820170073594</td>\n",
       "      <td>NaN</td>\n",
       "      <td>NaN</td>\n",
       "      <td>NaN</td>\n",
       "    </tr>\n",
       "    <tr>\n",
       "      <th>368</th>\n",
       "      <td>33023</td>\n",
       "      <td>NaN</td>\n",
       "      <td>820170071934</td>\n",
       "      <td>NaN</td>\n",
       "      <td>NaN</td>\n",
       "      <td>NaN</td>\n",
       "    </tr>\n",
       "    <tr>\n",
       "      <th>369</th>\n",
       "      <td>33024</td>\n",
       "      <td>NaN</td>\n",
       "      <td>820170071958</td>\n",
       "      <td>NaN</td>\n",
       "      <td>NaN</td>\n",
       "      <td>NaN</td>\n",
       "    </tr>\n",
       "    <tr>\n",
       "      <th>370</th>\n",
       "      <td>33025</td>\n",
       "      <td>NaN</td>\n",
       "      <td>820170071989</td>\n",
       "      <td>NaN</td>\n",
       "      <td>NaN</td>\n",
       "      <td>NaN</td>\n",
       "    </tr>\n",
       "    <tr>\n",
       "      <th>371</th>\n",
       "      <td>33026</td>\n",
       "      <td>NaN</td>\n",
       "      <td>820170071996</td>\n",
       "      <td>NaN</td>\n",
       "      <td>NaN</td>\n",
       "      <td>NaN</td>\n",
       "    </tr>\n",
       "    <tr>\n",
       "      <th>372</th>\n",
       "      <td>33027</td>\n",
       "      <td>NaN</td>\n",
       "      <td>820170072023</td>\n",
       "      <td>NaN</td>\n",
       "      <td>NaN</td>\n",
       "      <td>NaN</td>\n",
       "    </tr>\n",
       "    <tr>\n",
       "      <th>373</th>\n",
       "      <td>33028</td>\n",
       "      <td>NaN</td>\n",
       "      <td>820170072047</td>\n",
       "      <td>NaN</td>\n",
       "      <td>NaN</td>\n",
       "      <td>NaN</td>\n",
       "    </tr>\n",
       "    <tr>\n",
       "      <th>374</th>\n",
       "      <td>33029</td>\n",
       "      <td>NaN</td>\n",
       "      <td>820170072054</td>\n",
       "      <td>NaN</td>\n",
       "      <td>NaN</td>\n",
       "      <td>NaN</td>\n",
       "    </tr>\n",
       "    <tr>\n",
       "      <th>375</th>\n",
       "      <td>33030</td>\n",
       "      <td>NaN</td>\n",
       "      <td>820170072085</td>\n",
       "      <td>NaN</td>\n",
       "      <td>NaN</td>\n",
       "      <td>NaN</td>\n",
       "    </tr>\n",
       "    <tr>\n",
       "      <th>376</th>\n",
       "      <td>53137</td>\n",
       "      <td>820170073204</td>\n",
       "      <td>820170073198</td>\n",
       "      <td>NaN</td>\n",
       "      <td>NaN</td>\n",
       "      <td>NaN</td>\n",
       "    </tr>\n",
       "    <tr>\n",
       "      <th>377</th>\n",
       "      <td>53138</td>\n",
       "      <td>820170073228</td>\n",
       "      <td>820170073211</td>\n",
       "      <td>NaN</td>\n",
       "      <td>NaN</td>\n",
       "      <td>NaN</td>\n",
       "    </tr>\n",
       "    <tr>\n",
       "      <th>378</th>\n",
       "      <td>53139</td>\n",
       "      <td>820170073242</td>\n",
       "      <td>820170073235</td>\n",
       "      <td>NaN</td>\n",
       "      <td>NaN</td>\n",
       "      <td>NaN</td>\n",
       "    </tr>\n",
       "    <tr>\n",
       "      <th>379</th>\n",
       "      <td>53140</td>\n",
       "      <td>820170073266</td>\n",
       "      <td>820170073259</td>\n",
       "      <td>NaN</td>\n",
       "      <td>NaN</td>\n",
       "      <td>NaN</td>\n",
       "    </tr>\n",
       "    <tr>\n",
       "      <th>380</th>\n",
       "      <td>53141</td>\n",
       "      <td>820170073280</td>\n",
       "      <td>820170073273</td>\n",
       "      <td>NaN</td>\n",
       "      <td>NaN</td>\n",
       "      <td>NaN</td>\n",
       "    </tr>\n",
       "    <tr>\n",
       "      <th>381</th>\n",
       "      <td>55096</td>\n",
       "      <td>820170073785</td>\n",
       "      <td>820170073778</td>\n",
       "      <td>NaN</td>\n",
       "      <td>NaN</td>\n",
       "      <td>NaN</td>\n",
       "    </tr>\n",
       "    <tr>\n",
       "      <th>382</th>\n",
       "      <td>55097</td>\n",
       "      <td>820170073808</td>\n",
       "      <td>820170073792</td>\n",
       "      <td>NaN</td>\n",
       "      <td>NaN</td>\n",
       "      <td>NaN</td>\n",
       "    </tr>\n",
       "    <tr>\n",
       "      <th>383</th>\n",
       "      <td>50709</td>\n",
       "      <td>NaN</td>\n",
       "      <td>036000507096</td>\n",
       "      <td>NaN</td>\n",
       "      <td>NaN</td>\n",
       "      <td>NaN</td>\n",
       "    </tr>\n",
       "    <tr>\n",
       "      <th>384</th>\n",
       "      <td>50705</td>\n",
       "      <td>036000507058</td>\n",
       "      <td>640206423045</td>\n",
       "      <td>NaN</td>\n",
       "      <td>NaN</td>\n",
       "      <td>NaN</td>\n",
       "    </tr>\n",
       "    <tr>\n",
       "      <th>385</th>\n",
       "      <td>50706</td>\n",
       "      <td>713049529066</td>\n",
       "      <td>641438169329</td>\n",
       "      <td>NaN</td>\n",
       "      <td>NaN</td>\n",
       "      <td>NaN</td>\n",
       "    </tr>\n",
       "    <tr>\n",
       "      <th>386</th>\n",
       "      <td>50707</td>\n",
       "      <td>NaN</td>\n",
       "      <td>820170072825</td>\n",
       "      <td>NaN</td>\n",
       "      <td>NaN</td>\n",
       "      <td>NaN</td>\n",
       "    </tr>\n",
       "    <tr>\n",
       "      <th>387</th>\n",
       "      <td>50708</td>\n",
       "      <td>713049529080</td>\n",
       "      <td>641438177089</td>\n",
       "      <td>NaN</td>\n",
       "      <td>NaN</td>\n",
       "      <td>NaN</td>\n",
       "    </tr>\n",
       "    <tr>\n",
       "      <th>388</th>\n",
       "      <td>53130</td>\n",
       "      <td>820170073143</td>\n",
       "      <td>820170073136</td>\n",
       "      <td>NaN</td>\n",
       "      <td>NaN</td>\n",
       "      <td>NaN</td>\n",
       "    </tr>\n",
       "    <tr>\n",
       "      <th>389</th>\n",
       "      <td>53131</td>\n",
       "      <td>820170073167</td>\n",
       "      <td>820170073150</td>\n",
       "      <td>NaN</td>\n",
       "      <td>NaN</td>\n",
       "      <td>NaN</td>\n",
       "    </tr>\n",
       "    <tr>\n",
       "      <th>390</th>\n",
       "      <td>53132</td>\n",
       "      <td>820170073181</td>\n",
       "      <td>820170073174</td>\n",
       "      <td>NaN</td>\n",
       "      <td>NaN</td>\n",
       "      <td>NaN</td>\n",
       "    </tr>\n",
       "    <tr>\n",
       "      <th>391</th>\n",
       "      <td>44620</td>\n",
       "      <td>NaN</td>\n",
       "      <td>NaN</td>\n",
       "      <td>NaN</td>\n",
       "      <td>NaN</td>\n",
       "      <td>NaN</td>\n",
       "    </tr>\n",
       "    <tr>\n",
       "      <th>392</th>\n",
       "      <td>44621</td>\n",
       "      <td>NaN</td>\n",
       "      <td>NaN</td>\n",
       "      <td>NaN</td>\n",
       "      <td>NaN</td>\n",
       "      <td>NaN</td>\n",
       "    </tr>\n",
       "  </tbody>\n",
       "</table>\n",
       "</div>"
      ],
      "text/plain": [
       "    product_1     case_gtin_1    box_gtin_1 product_2   case_gtin_2    box_gtin_2\n",
       "0       47459             NaN           NaN     47459           NaN           NaN\n",
       "1       47460             NaN           NaN     47460           NaN           NaN\n",
       "2       47461             NaN           NaN     47461           NaN           NaN\n",
       "3       47462             NaN           NaN     47462           NaN           NaN\n",
       "4       47463             NaN           NaN     47463           NaN           NaN\n",
       "5       14259             NaN           NaN     14259           NaN           NaN\n",
       "6       44992    820170072627  820170072610     44992  820170072627  820170072610\n",
       "7       44993    820170072641  820170072634     44993  820170072641  820170072634\n",
       "8       44994    820170072665  820170072658     44994  820170072665  820170072658\n",
       "9       44995             NaN  820170072672     44995           NaN  820170072672\n",
       "10      52816             NaN  820170072931     52816           NaN  820170072931\n",
       "11      52817             NaN  680651528179     52817           NaN  680651528179\n",
       "12      52818             NaN  820170072986     52818           NaN  820170072986\n",
       "13      52819             NaN  036000528190     52819           NaN  036000528190\n",
       "14      52820             NaN  820170073020     52820           NaN  820170073020\n",
       "15      44755    820170072429  820170072412     44755  820170072429  820170072412\n",
       "16      44756    820170072443  820170072436     44756  820170072443  820170072436\n",
       "17      44757    820170072467  820170072450     44757  820170072467  820170072450\n",
       "18      44758    820170072481  820170072474     44758  820170072481  820170072474\n",
       "19      44759    820170072504  820170072498     44759  820170072504  820170072498\n",
       "20      43932    713049532974  820170072313     43932  713049532974  820170072313\n",
       "21      43933    713049532981  820170072344     43933  713049532981  820170072344\n",
       "22      43934    713049532998  696394833661     43934  713049532998  696394833661\n",
       "23      43935    713049533001  820170072375     43935  713049533001  820170072375\n",
       "24      43936    713049533018  820170072399     43936  713049533018  820170072399\n",
       "25      33022             NaN  820170071910     33022           NaN  820170071910\n",
       "26      47452             NaN           NaN     47452           NaN           NaN\n",
       "27      47453             NaN           NaN     47453           NaN           NaN\n",
       "28      47454             NaN           NaN     47454           NaN           NaN\n",
       "29      47455             NaN           NaN     47455           NaN           NaN\n",
       "30      47456             NaN           NaN     47456           NaN           NaN\n",
       "31      55095    820170073761  820170073754     55095  820170073761  820170073754\n",
       "32      53100             NaN  820170073815     53100           NaN  820170073815\n",
       "33      53101             NaN  820170073839     53101           NaN  820170073839\n",
       "34      53102             NaN  820170073853     53102           NaN  820170073853\n",
       "35      53103             NaN  820170073884     53103           NaN  820170073884\n",
       "36      53104             NaN  820170073891     53104           NaN  820170073891\n",
       "37      53430             NaN  820170073297     53430           NaN  820170073297\n",
       "38      53431             NaN  820170073310     53431           NaN  820170073310\n",
       "39      53432             NaN  820170073334     53432           NaN  820170073334\n",
       "40      53433             NaN  820170073358     53433           NaN  820170073358\n",
       "41      53434             NaN  820170073372     53434           NaN  820170073372\n",
       "42      41662             NaN  820170072306     41662           NaN  820170072306\n",
       "43      41660             NaN  820170072276     41660           NaN  820170072276\n",
       "44      41659             NaN  820170072252     41659           NaN  820170072252\n",
       "45      41658             NaN  820170072238     41658           NaN  820170072238\n",
       "46      41657             NaN  820170072214     41657           NaN  820170072214\n",
       "47      55030             NaN  820170073396     55030           NaN  820170073396\n",
       "48      55031             NaN  820170073419     55031           NaN  820170073419\n",
       "49      55032             NaN  820170073433     55032           NaN  820170073433\n",
       "50      55033             NaN  036000550337     55033           NaN  036000550337\n",
       "51      55034             NaN  820170073471     55034           NaN  820170073471\n",
       "52      50031    713049530505  820170072696     50031  713049530505  820170072696\n",
       "53      50032             NaN  820170072719     50032           NaN  820170072719\n",
       "54      50033             NaN  820170072733     50033           NaN  820170072733\n",
       "55      50034             NaN  820170072757     50034           NaN  820170072757\n",
       "56      44792    820170072528  820140029224     44792  820170072528  820140029224\n",
       "57      44793    820170072542  820140029231     44793  820170072542  820140029231\n",
       "58      44794    820170072566  820170072559     44794  820170072566  820170072559\n",
       "59      44795    820170072580  820140029255     44795  820170072580  820140029255\n",
       "60      44796    820170072603  820170072597     44796  820170072603  820170072597\n",
       "61        NaN             NaN           NaN     59681  001910528653           NaN\n",
       "62        NaN             NaN           NaN     59688  680651596888           NaN\n",
       "63        NaN             NaN           NaN     33101           NaN           NaN\n",
       "64        NaN             NaN           NaN     33495           NaN           NaN\n",
       "65        NaN             NaN           NaN     33500  696576123337           NaN\n",
       "66        NaN             NaN           NaN     33510  607885864408           NaN\n",
       "67        NaN             NaN           NaN     33625           NaN           NaN\n",
       "68        NaN             NaN           NaN     33630  696576118807           NaN\n",
       "69        NaN             NaN           NaN     33595           NaN           NaN\n",
       "70        NaN             NaN           NaN     33600           NaN           NaN\n",
       "71        NaN             NaN           NaN     33201           NaN           NaN\n",
       "72        NaN             NaN           NaN     33725  607885864392           NaN\n",
       "73        NaN             NaN           NaN     33724  607885864385           NaN\n",
       "74        NaN             NaN           NaN     33150  713145687301           NaN\n",
       "75        NaN             NaN           NaN     29920           NaN           NaN\n",
       "76        NaN             NaN           NaN     29985           NaN           NaN\n",
       "77        NaN             NaN           NaN     29980           NaN           NaN\n",
       "78        NaN             NaN           NaN     29990           NaN           NaN\n",
       "79        NaN             NaN           NaN     29900           NaN           NaN\n",
       "80        NaN             NaN           NaN     29970           NaN           NaN\n",
       "81        NaN             NaN           NaN     29965           NaN           NaN\n",
       "82        NaN             NaN           NaN     29967           NaN           NaN\n",
       "83        NaN             NaN           NaN     10594           NaN           NaN\n",
       "84        NaN             NaN           NaN     37250           NaN           NaN\n",
       "85        NaN             NaN           NaN     37221           NaN           NaN\n",
       "86        NaN             NaN           NaN     10595           NaN           NaN\n",
       "87        NaN             NaN           NaN     62110           NaN           NaN\n",
       "88        NaN             NaN           NaN     37500           NaN           NaN\n",
       "89        NaN             NaN           NaN     67793           NaN           NaN\n",
       "90        NaN             NaN           NaN     67963           NaN           NaN\n",
       "91        NaN             NaN           NaN     67773           NaN           NaN\n",
       "92        NaN             NaN           NaN     67803           NaN           NaN\n",
       "93        NaN             NaN           NaN     67103           NaN           NaN\n",
       "94        NaN             NaN           NaN     67783           NaN           NaN\n",
       "95        NaN             NaN           NaN     71825           NaN           NaN\n",
       "96        NaN             NaN           NaN     71900           NaN           NaN\n",
       "97        NaN             NaN           NaN     71800           NaN           NaN\n",
       "98        NaN             NaN           NaN     41802  713049532776           NaN\n",
       "99        NaN             NaN           NaN     47570           NaN           NaN\n",
       "100       NaN             NaN           NaN     47569           NaN           NaN\n",
       "101       NaN             NaN           NaN     47571           NaN           NaN\n",
       "102       NaN             NaN           NaN     47573           NaN           NaN\n",
       "103       NaN             NaN           NaN     47576           NaN           NaN\n",
       "104       NaN             NaN           NaN     47577           NaN           NaN\n",
       "105       NaN             NaN           NaN     47574           NaN           NaN\n",
       "106       NaN             NaN           NaN     47575           NaN           NaN\n",
       "107       NaN             NaN           NaN     47572           NaN           NaN\n",
       "108       NaN             NaN           NaN     47578           NaN           NaN\n",
       "109       NaN             NaN           NaN     47566           NaN           NaN\n",
       "110       NaN             NaN           NaN     47567           NaN           NaN\n",
       "111       NaN             NaN           NaN     47568           NaN           NaN\n",
       "112       NaN             NaN           NaN     39125           NaN           NaN\n",
       "113       NaN             NaN           NaN     39117           NaN           NaN\n",
       "114       NaN             NaN           NaN     39118           NaN           NaN\n",
       "115       NaN             NaN           NaN     39123           NaN           NaN\n",
       "116       NaN             NaN           NaN     47137           NaN           NaN\n",
       "117       NaN             NaN           NaN     47298           NaN           NaN\n",
       "118       NaN             NaN           NaN     00146           NaN           NaN\n",
       "119       NaN             NaN           NaN     47147           NaN           NaN\n",
       "120       NaN             NaN           NaN     47149           NaN           NaN\n",
       "121       NaN             NaN           NaN     28800           NaN           NaN\n",
       "122       NaN             NaN           NaN     28797  713049531618           NaN\n",
       "123       NaN             NaN           NaN     00148           NaN           NaN\n",
       "124       NaN             NaN           NaN     47297           NaN           NaN\n",
       "125       NaN             NaN           NaN     47107           NaN           NaN\n",
       "126       NaN             NaN           NaN     28821           NaN           NaN\n",
       "127       NaN             NaN           NaN     62116           NaN           NaN\n",
       "128       NaN             NaN           NaN     28810           NaN           NaN\n",
       "129       NaN             NaN           NaN     62115           NaN           NaN\n",
       "130       NaN             NaN           NaN     00152           NaN           NaN\n",
       "131       NaN             NaN           NaN     47717           NaN           NaN\n",
       "132       NaN             NaN           NaN     47700           NaN           NaN\n",
       "133       NaN             NaN           NaN     62354           NaN           NaN\n",
       "134       NaN             NaN           NaN     25867           NaN           NaN\n",
       "135       NaN             NaN           NaN     25868           NaN           NaN\n",
       "136       NaN             NaN           NaN     25869           NaN           NaN\n",
       "137       NaN             NaN           NaN     62362           NaN           NaN\n",
       "138       NaN             NaN           NaN     62363           NaN           NaN\n",
       "139       NaN             NaN           NaN     47090           NaN           NaN\n",
       "140       NaN             NaN           NaN     47085           NaN           NaN\n",
       "141       NaN             NaN           NaN     47117           NaN           NaN\n",
       "142       NaN             NaN           NaN     47095           NaN           NaN\n",
       "143       NaN             NaN           NaN     47295           NaN           NaN\n",
       "144       NaN             NaN           NaN     47080  616913740041           NaN\n",
       "145       NaN             NaN           NaN     49700           NaN           NaN\n",
       "146       NaN             NaN           NaN     47119           NaN           NaN\n",
       "147       NaN             NaN           NaN     62356           NaN           NaN\n",
       "148       NaN             NaN           NaN     62357           NaN           NaN\n",
       "149       NaN             NaN           NaN     48247           NaN           NaN\n",
       "150       NaN             NaN           NaN     48237           NaN           NaN\n",
       "151       NaN             NaN           NaN     28820           NaN           NaN\n",
       "152       NaN             NaN           NaN     48297           NaN           NaN\n",
       "153       NaN             NaN           NaN     48208           NaN           NaN\n",
       "154       NaN             NaN           NaN     48207           NaN           NaN\n",
       "155       NaN             NaN           NaN     48248           NaN           NaN\n",
       "156       NaN             NaN           NaN     28804           NaN           NaN\n",
       "157       NaN             NaN           NaN     49216           NaN           NaN\n",
       "158       NaN             NaN           NaN     49216           NaN           NaN\n",
       "159       NaN             NaN           NaN     49216           NaN           NaN\n",
       "160       NaN             NaN           NaN     49216           NaN           NaN\n",
       "161       NaN             NaN           NaN     37525           NaN           NaN\n",
       "162       NaN             NaN           NaN     37525           NaN           NaN\n",
       "163       NaN             NaN           NaN     37525           NaN           NaN\n",
       "164       NaN             NaN           NaN     37525           NaN           NaN\n",
       "165       NaN             NaN           NaN     48220           NaN           NaN\n",
       "166       NaN             NaN           NaN     48220           NaN           NaN\n",
       "167       NaN             NaN           NaN     48220           NaN           NaN\n",
       "168       NaN             NaN           NaN     48220           NaN           NaN\n",
       "169       NaN             NaN           NaN     28809           NaN           NaN\n",
       "170       NaN             NaN           NaN     62114           NaN           NaN\n",
       "171       NaN             NaN           NaN     28808           NaN           NaN\n",
       "172       NaN             NaN           NaN     62113           NaN           NaN\n",
       "173       NaN             NaN           NaN     28806           NaN           NaN\n",
       "174       NaN             NaN           NaN     41805           NaN           NaN\n",
       "175       NaN             NaN           NaN     49701           NaN           NaN\n",
       "176       NaN             NaN           NaN     48210           NaN           NaN\n",
       "177       NaN             NaN           NaN     48296           NaN           NaN\n",
       "178       NaN             NaN           NaN     48390           NaN           NaN\n",
       "179       NaN             NaN           NaN     48201           NaN           NaN\n",
       "180       NaN             NaN           NaN     59928           NaN           NaN\n",
       "181       NaN             NaN           NaN     49310           NaN           NaN\n",
       "182       NaN             NaN           NaN     49214           NaN           NaN\n",
       "183       NaN             NaN           NaN     47650           NaN           NaN\n",
       "184       NaN             NaN           NaN     47625           NaN           NaN\n",
       "185       NaN             NaN           NaN     49235           NaN           NaN\n",
       "186       NaN             NaN           NaN     49215  637813407803           NaN\n",
       "187       NaN             NaN           NaN     47500           NaN           NaN\n",
       "188       NaN             NaN           NaN     48105           NaN           NaN\n",
       "189       NaN             NaN           NaN     62367           NaN           NaN\n",
       "190       NaN             NaN           NaN     48100           NaN           NaN\n",
       "191       NaN             NaN           NaN     62126           NaN           NaN\n",
       "192       NaN             NaN           NaN     62355           NaN           NaN\n",
       "193       NaN             NaN           NaN     46828           NaN           NaN\n",
       "194       NaN             NaN           NaN     46728           NaN           NaN\n",
       "195       NaN             NaN           NaN     46827           NaN           NaN\n",
       "196       NaN             NaN           NaN     46727           NaN           NaN\n",
       "197       NaN             NaN           NaN     46867           NaN           NaN\n",
       "198       NaN             NaN           NaN     46767           NaN           NaN\n",
       "199       NaN             NaN           NaN     32856  713049529660           NaN\n",
       "200       NaN             NaN           NaN     41204           NaN           NaN\n",
       "201       NaN             NaN           NaN     41205  713145686496           NaN\n",
       "202       NaN             NaN           NaN     SV50A           NaN           NaN\n",
       "203       NaN             NaN           NaN    SV100F           NaN           NaN\n",
       "204       NaN             NaN           NaN    SV250L           NaN           NaN\n",
       "205       NaN             NaN           NaN     39124           NaN           NaN\n",
       "206       NaN             NaN           NaN     99181           NaN           NaN\n",
       "207       NaN             NaN           NaN     99175           NaN           NaN\n",
       "208       NaN             NaN           NaN     99184           NaN           NaN\n",
       "209       NaN             NaN           NaN     99178           NaN           NaN\n",
       "210       NaN             NaN           NaN     47950           NaN           NaN\n",
       "211       NaN             NaN           NaN     99003           NaN           NaN\n",
       "212       NaN             NaN           NaN     99009           NaN           NaN\n",
       "213       NaN             NaN           NaN     99018           NaN           NaN\n",
       "214       NaN             NaN           NaN     99010           NaN           NaN\n",
       "215       NaN             NaN           NaN     99015           NaN           NaN\n",
       "216       NaN             NaN           NaN     69766           NaN           NaN\n",
       "217       NaN             NaN           NaN     79002           NaN           NaN\n",
       "218       NaN             NaN           NaN     90947           NaN           NaN\n",
       "219       NaN             NaN           NaN     90963           NaN           NaN\n",
       "220       NaN             NaN           NaN     54100  607885865344           NaN\n",
       "221       NaN             NaN           NaN     54101  607885865351           NaN\n",
       "222       NaN             NaN           NaN     54110  607885865368           NaN\n",
       "223       NaN             NaN           NaN     54111           NaN           NaN\n",
       "224       NaN             NaN           NaN     46946           NaN           NaN\n",
       "225       NaN             NaN           NaN     46947           NaN           NaN\n",
       "226       NaN             NaN           NaN     69105           NaN           NaN\n",
       "227       NaN             NaN           NaN     69106           NaN           NaN\n",
       "228       NaN             NaN           NaN     44715           NaN           NaN\n",
       "229       NaN             NaN           NaN     44717           NaN           NaN\n",
       "230       NaN             NaN           NaN     44719           NaN           NaN\n",
       "231       NaN             NaN           NaN     43007           NaN           NaN\n",
       "232       NaN             NaN           NaN     43008           NaN           NaN\n",
       "233       NaN             NaN           NaN     43009           NaN           NaN\n",
       "234       NaN             NaN           NaN     47003           NaN           NaN\n",
       "235       NaN             NaN           NaN     47004           NaN           NaN\n",
       "236       NaN             NaN           NaN     32500           NaN           NaN\n",
       "237       NaN             NaN           NaN     32501           NaN           NaN\n",
       "238       NaN             NaN           NaN     32502           NaN           NaN\n",
       "239       NaN             NaN           NaN     32503           NaN           NaN\n",
       "240       NaN             NaN           NaN     47001           NaN           NaN\n",
       "241       NaN             NaN           NaN     47002           NaN           NaN\n",
       "242       NaN             NaN           NaN     69606           NaN           NaN\n",
       "243       NaN             NaN           NaN     37284           NaN           NaN\n",
       "244       NaN             NaN           NaN     35460  713049529387           NaN\n",
       "245       NaN             NaN           NaN     69979           NaN           NaN\n",
       "246       NaN             NaN           NaN     69981           NaN           NaN\n",
       "247       NaN             NaN           NaN     69986           NaN           NaN\n",
       "248       NaN             NaN           NaN     69987           NaN           NaN\n",
       "249       NaN             NaN           NaN     69988  713145685758           NaN\n",
       "250       NaN             NaN           NaN     69971           NaN           NaN\n",
       "251       NaN             NaN           NaN     37660           NaN           NaN\n",
       "252       NaN             NaN           NaN     37661           NaN           NaN\n",
       "253       NaN             NaN           NaN     43148           NaN           NaN\n",
       "254       NaN             NaN           NaN     43149           NaN           NaN\n",
       "255       NaN             NaN           NaN     43146           NaN           NaN\n",
       "256       NaN             NaN           NaN     43147           NaN           NaN\n",
       "257       NaN             NaN           NaN     54310  607885865399           NaN\n",
       "258       NaN             NaN           NaN     54311           NaN           NaN\n",
       "259       NaN             NaN           NaN     69124           NaN           NaN\n",
       "260       NaN             NaN           NaN     69125           NaN           NaN\n",
       "261       NaN             NaN           NaN     69127           NaN           NaN\n",
       "262       NaN             NaN           NaN     69129           NaN           NaN\n",
       "263       NaN             NaN           NaN     69455           NaN           NaN\n",
       "264       NaN             NaN           NaN     69316           NaN           NaN\n",
       "265       NaN             NaN           NaN     69490           NaN           NaN\n",
       "266       NaN             NaN           NaN     69025           NaN           NaN\n",
       "267       NaN             NaN           NaN     69028           NaN           NaN\n",
       "268       NaN             NaN           NaN     69600           NaN           NaN\n",
       "269       NaN             NaN           NaN     69601           NaN           NaN\n",
       "270       NaN             NaN           NaN     69602           NaN           NaN\n",
       "271       NaN             NaN           NaN     69603           NaN           NaN\n",
       "272       NaN             NaN           NaN     13961           NaN           NaN\n",
       "273       NaN             NaN           NaN     13962           NaN           NaN\n",
       "274       NaN             NaN           NaN     29516           NaN           NaN\n",
       "275       NaN             NaN           NaN     29549           NaN           NaN\n",
       "276       NaN             NaN           NaN     32572           NaN           NaN\n",
       "277       NaN             NaN           NaN     32574           NaN           NaN\n",
       "278       NaN             NaN           NaN     47346           NaN           NaN\n",
       "279       NaN             NaN           NaN     47347           NaN           NaN\n",
       "280       NaN             NaN           NaN     69110           NaN           NaN\n",
       "281       NaN             NaN           NaN     69083           NaN           NaN\n",
       "282       NaN             NaN           NaN     69086           NaN           NaN\n",
       "283       NaN             NaN           NaN     69088           NaN           NaN\n",
       "284       NaN             NaN           NaN     69240           NaN           NaN\n",
       "285       NaN             NaN           NaN     69520           NaN           NaN\n",
       "286       NaN             NaN           NaN     44648           NaN           NaN\n",
       "287       NaN             NaN           NaN     69801           NaN           NaN\n",
       "288       NaN             NaN           NaN     69802           NaN           NaN\n",
       "289       NaN             NaN           NaN     69803           NaN           NaN\n",
       "290       NaN             NaN           NaN     47323           NaN           NaN\n",
       "291       NaN             NaN           NaN     47322           NaN           NaN\n",
       "292       NaN             NaN           NaN     47318           NaN           NaN\n",
       "293       NaN             NaN           NaN     47317           NaN           NaN\n",
       "294       NaN             NaN           NaN     69551           NaN           NaN\n",
       "295       NaN             NaN           NaN     69114           NaN           NaN\n",
       "296       NaN             NaN           NaN     69121           NaN           NaN\n",
       "297       NaN             NaN           NaN     69254           NaN           NaN\n",
       "298       NaN             NaN           NaN     69252           NaN           NaN\n",
       "299       NaN             NaN           NaN     69353           NaN           NaN\n",
       "300       NaN             NaN           NaN     69253           NaN           NaN\n",
       "301       NaN             NaN           NaN     69571           NaN           NaN\n",
       "302       NaN             NaN           NaN     69671           NaN           NaN\n",
       "303       NaN             NaN           NaN     69572           NaN           NaN\n",
       "304       NaN             NaN           NaN     69672           NaN           NaN\n",
       "305       NaN             NaN           NaN     10120           NaN           NaN\n",
       "306       NaN             NaN           NaN     10121           NaN           NaN\n",
       "307       NaN             NaN           NaN     10122           NaN           NaN\n",
       "308       NaN             NaN           NaN     10123           NaN           NaN\n",
       "309       NaN             NaN           NaN     10124           NaN           NaN\n",
       "310       NaN             NaN           NaN     10157           NaN           NaN\n",
       "311       NaN             NaN           NaN     10020           NaN           NaN\n",
       "312       NaN             NaN           NaN     10040           NaN           NaN\n",
       "313       NaN             NaN           NaN     10067           NaN           NaN\n",
       "314       NaN             NaN           NaN     10078           NaN           NaN\n",
       "315       NaN             NaN           NaN     10087           NaN           NaN\n",
       "316       NaN             NaN           NaN     10069           NaN           NaN\n",
       "317       NaN             NaN           NaN     10071           NaN           NaN\n",
       "318       NaN             NaN           NaN     10072           NaN           NaN\n",
       "319       NaN             NaN           NaN     10073           NaN           NaN\n",
       "320       NaN             NaN           NaN     10231           NaN           NaN\n",
       "321       NaN             NaN           NaN     10232           NaN           NaN\n",
       "322       NaN             NaN           NaN     10233           NaN           NaN\n",
       "323       NaN             NaN           NaN     10234           NaN           NaN\n",
       "324       NaN             NaN           NaN     10235           NaN           NaN\n",
       "325       NaN             NaN           NaN     10334           NaN           NaN\n",
       "326       NaN             NaN           NaN     10335           NaN           NaN\n",
       "327       NaN             NaN           NaN     10336           NaN           NaN\n",
       "328       NaN             NaN           NaN     10337           NaN           NaN\n",
       "329       NaN             NaN           NaN     10338           NaN           NaN\n",
       "330       NaN             NaN           NaN     75631           NaN           NaN\n",
       "331       NaN             NaN           NaN     75641           NaN           NaN\n",
       "332       NaN             NaN           NaN     75651           NaN           NaN\n",
       "333       NaN             NaN           NaN     10075           NaN           NaN\n",
       "334       NaN             NaN           NaN     10096           NaN           NaN\n",
       "335       NaN             NaN           NaN     10085           NaN           NaN\n",
       "336       NaN             NaN           NaN     10095           NaN           NaN\n",
       "337       NaN             NaN           NaN     69350           NaN           NaN\n",
       "338       NaN             NaN           NaN     69711           NaN           NaN\n",
       "339       NaN             NaN           NaN     69712           NaN           NaN\n",
       "340       NaN             NaN           NaN     69713           NaN           NaN\n",
       "341       NaN             NaN           NaN     69714           NaN           NaN\n",
       "342       NaN             NaN           NaN     69701           NaN           NaN\n",
       "343       NaN             NaN           NaN     69702           NaN           NaN\n",
       "344       NaN             NaN           NaN     69703           NaN           NaN\n",
       "345       NaN             NaN           NaN     69704           NaN           NaN\n",
       "346     55081  30680651550812  094718114470       NaN           NaN           NaN\n",
       "347     55082  30680651550829  036000055085       NaN           NaN           NaN\n",
       "348     55083  30680651550836  816687292108       NaN           NaN           NaN\n",
       "349     55084  30680651550843  741360082212       NaN           NaN           NaN\n",
       "350     50852             NaN           NaN       NaN           NaN           NaN\n",
       "351     50853             NaN           NaN       NaN           NaN           NaN\n",
       "352     55080             NaN  036000550801       NaN           NaN           NaN\n",
       "353     52101             NaN  820170072870       NaN           NaN           NaN\n",
       "354     52102             NaN  820170072894       NaN           NaN           NaN\n",
       "355     52103    713049530543  820170072917       NaN           NaN           NaN\n",
       "356     55091    820170073709  820170073693       NaN           NaN           NaN\n",
       "357     55092    820170073723  073598346935       NaN           NaN           NaN\n",
       "358     55093    820170073747  820170073730       NaN           NaN           NaN\n",
       "359     14260             NaN  820170071835       NaN           NaN           NaN\n",
       "360     14261             NaN  820170071859       NaN           NaN           NaN\n",
       "361     14262             NaN  820170071880       NaN           NaN           NaN\n",
       "362     14263             NaN  820170071903       NaN           NaN           NaN\n",
       "363     50601             NaN  820170073624       NaN           NaN           NaN\n",
       "364     50602             NaN  820170073648       NaN           NaN           NaN\n",
       "365     50603             NaN  680651506030       NaN           NaN           NaN\n",
       "366     50604    036000506044  820170073679       NaN           NaN           NaN\n",
       "367     55090             NaN  820170073594       NaN           NaN           NaN\n",
       "368     33023             NaN  820170071934       NaN           NaN           NaN\n",
       "369     33024             NaN  820170071958       NaN           NaN           NaN\n",
       "370     33025             NaN  820170071989       NaN           NaN           NaN\n",
       "371     33026             NaN  820170071996       NaN           NaN           NaN\n",
       "372     33027             NaN  820170072023       NaN           NaN           NaN\n",
       "373     33028             NaN  820170072047       NaN           NaN           NaN\n",
       "374     33029             NaN  820170072054       NaN           NaN           NaN\n",
       "375     33030             NaN  820170072085       NaN           NaN           NaN\n",
       "376     53137    820170073204  820170073198       NaN           NaN           NaN\n",
       "377     53138    820170073228  820170073211       NaN           NaN           NaN\n",
       "378     53139    820170073242  820170073235       NaN           NaN           NaN\n",
       "379     53140    820170073266  820170073259       NaN           NaN           NaN\n",
       "380     53141    820170073280  820170073273       NaN           NaN           NaN\n",
       "381     55096    820170073785  820170073778       NaN           NaN           NaN\n",
       "382     55097    820170073808  820170073792       NaN           NaN           NaN\n",
       "383     50709             NaN  036000507096       NaN           NaN           NaN\n",
       "384     50705    036000507058  640206423045       NaN           NaN           NaN\n",
       "385     50706    713049529066  641438169329       NaN           NaN           NaN\n",
       "386     50707             NaN  820170072825       NaN           NaN           NaN\n",
       "387     50708    713049529080  641438177089       NaN           NaN           NaN\n",
       "388     53130    820170073143  820170073136       NaN           NaN           NaN\n",
       "389     53131    820170073167  820170073150       NaN           NaN           NaN\n",
       "390     53132    820170073181  820170073174       NaN           NaN           NaN\n",
       "391     44620             NaN           NaN       NaN           NaN           NaN\n",
       "392     44621             NaN           NaN       NaN           NaN           NaN"
      ]
     },
     "execution_count": 71,
     "metadata": {},
     "output_type": "execute_result"
    }
   ],
   "source": [
    "# upc_merge = upc_merge[['product', 'case_gtin_1', 'box_gtin_1', 'product_number', 'case_gtin_2', 'box_gtin_2']]\n",
    "# upc_merge = upc_merge.rename(columns={'product':'product_1', 'product_number':'product_2'})\n",
    "upc_merge"
   ]
  },
  {
   "cell_type": "code",
   "execution_count": 93,
   "metadata": {},
   "outputs": [
    {
     "data": {
      "text/plain": [
       "float"
      ]
     },
     "execution_count": 93,
     "metadata": {},
     "output_type": "execute_result"
    }
   ],
   "source": [
    "upc_compare = upc_merge[np.logical_and((upc_merge.box_gtin_1 != 'NaN'), (upc_merge.box_gtin_2 != 'NaN'))]\n",
    "upc_compare[(upc_compare.box_gtin_1 != upc_compare.box_gtin_2)]\n",
    "type(upc_compare.loc[350, :].box_gtin_2) #== upc_compare.loc[350, :].box_gtin_2"
   ]
  },
  {
   "cell_type": "code",
   "execution_count": 108,
   "metadata": {},
   "outputs": [],
   "source": [
    "# upcs2 = upcs2.rename(columns={'product':'product_number'})\n",
    "# slice_ = ['product_number', 'box_gtin', 'case_gtin']\n",
    "df_total2 = df_total2.merge(upcs2[slice_], how='left', on='product_number')\n",
    "# upcs2[~upcs2.product_number.isin(df_total2.product_number)]"
   ]
  },
  {
   "cell_type": "code",
   "execution_count": 109,
   "metadata": {},
   "outputs": [
    {
     "data": {
      "text/html": [
       "<div>\n",
       "<style scoped>\n",
       "    .dataframe tbody tr th:only-of-type {\n",
       "        vertical-align: middle;\n",
       "    }\n",
       "\n",
       "    .dataframe tbody tr th {\n",
       "        vertical-align: top;\n",
       "    }\n",
       "\n",
       "    .dataframe thead th {\n",
       "        text-align: right;\n",
       "    }\n",
       "</style>\n",
       "<table border=\"1\" class=\"dataframe\">\n",
       "  <thead>\n",
       "    <tr style=\"text-align: right;\">\n",
       "      <th></th>\n",
       "      <th>mfg</th>\n",
       "      <th>group</th>\n",
       "      <th>sub-group</th>\n",
       "      <th>product_line</th>\n",
       "      <th>product_number</th>\n",
       "      <th>description</th>\n",
       "      <th>url</th>\n",
       "      <th>box_gtin</th>\n",
       "      <th>case_gtin</th>\n",
       "    </tr>\n",
       "  </thead>\n",
       "  <tbody>\n",
       "    <tr>\n",
       "      <th>0</th>\n",
       "      <td>Halyard Health</td>\n",
       "      <td>Medical Exam Gloves</td>\n",
       "      <td>Nitrile</td>\n",
       "      <td>STERLING ZERO* Nitrile Exam Glove</td>\n",
       "      <td>47459</td>\n",
       "      <td>Size:X-Small, Brand:STERLING ZERO*, Color:Ster...</td>\n",
       "      <td>https://products.halyardhealth.com/infection-p...</td>\n",
       "      <td>NaN</td>\n",
       "      <td>NaN</td>\n",
       "    </tr>\n",
       "    <tr>\n",
       "      <th>1</th>\n",
       "      <td>Halyard Health</td>\n",
       "      <td>Medical Exam Gloves</td>\n",
       "      <td>Nitrile</td>\n",
       "      <td>STERLING ZERO* Nitrile Exam Glove</td>\n",
       "      <td>47460</td>\n",
       "      <td>Size:Small, Brand:STERLING ZERO*, Color:Sterli...</td>\n",
       "      <td>https://products.halyardhealth.com/infection-p...</td>\n",
       "      <td>NaN</td>\n",
       "      <td>NaN</td>\n",
       "    </tr>\n",
       "    <tr>\n",
       "      <th>2</th>\n",
       "      <td>Halyard Health</td>\n",
       "      <td>Medical Exam Gloves</td>\n",
       "      <td>Nitrile</td>\n",
       "      <td>STERLING ZERO* Nitrile Exam Glove</td>\n",
       "      <td>47461</td>\n",
       "      <td>Size:Medium, Brand:STERLING ZERO*, Color:Sterl...</td>\n",
       "      <td>https://products.halyardhealth.com/infection-p...</td>\n",
       "      <td>NaN</td>\n",
       "      <td>NaN</td>\n",
       "    </tr>\n",
       "    <tr>\n",
       "      <th>3</th>\n",
       "      <td>Halyard Health</td>\n",
       "      <td>Medical Exam Gloves</td>\n",
       "      <td>Nitrile</td>\n",
       "      <td>STERLING ZERO* Nitrile Exam Glove</td>\n",
       "      <td>47462</td>\n",
       "      <td>Size:Large, Brand:STERLING ZERO*, Color:Sterli...</td>\n",
       "      <td>https://products.halyardhealth.com/infection-p...</td>\n",
       "      <td>NaN</td>\n",
       "      <td>NaN</td>\n",
       "    </tr>\n",
       "    <tr>\n",
       "      <th>4</th>\n",
       "      <td>Halyard Health</td>\n",
       "      <td>Medical Exam Gloves</td>\n",
       "      <td>Nitrile</td>\n",
       "      <td>STERLING ZERO* Nitrile Exam Glove</td>\n",
       "      <td>47463</td>\n",
       "      <td>Size:X-Large, Brand:STERLING ZERO*, Color:Ster...</td>\n",
       "      <td>https://products.halyardhealth.com/infection-p...</td>\n",
       "      <td>NaN</td>\n",
       "      <td>NaN</td>\n",
       "    </tr>\n",
       "    <tr>\n",
       "      <th>5</th>\n",
       "      <td>Halyard Health</td>\n",
       "      <td>Medical Exam Gloves</td>\n",
       "      <td>Nitrile</td>\n",
       "      <td>PURPLE NITRILE-XTRA* Exam Glove</td>\n",
       "      <td>14259</td>\n",
       "      <td>Size:X-Small, Fit Type:Paired, Sterile:Yes, Cu...</td>\n",
       "      <td>https://products.halyardhealth.com/infection-p...</td>\n",
       "      <td>NaN</td>\n",
       "      <td>NaN</td>\n",
       "    </tr>\n",
       "    <tr>\n",
       "      <th>6</th>\n",
       "      <td>Halyard Health</td>\n",
       "      <td>Medical Exam Gloves</td>\n",
       "      <td>Nitrile</td>\n",
       "      <td>PURPLE NITRILE* MAX Exam Glove</td>\n",
       "      <td>44992</td>\n",
       "      <td>Size:Small, Brand:PURPLE NITRILE*, Brand:HALYA...</td>\n",
       "      <td>https://products.halyardhealth.com/infection-p...</td>\n",
       "      <td>820170072610</td>\n",
       "      <td>820170072627</td>\n",
       "    </tr>\n",
       "    <tr>\n",
       "      <th>7</th>\n",
       "      <td>Halyard Health</td>\n",
       "      <td>Medical Exam Gloves</td>\n",
       "      <td>Nitrile</td>\n",
       "      <td>PURPLE NITRILE* MAX Exam Glove</td>\n",
       "      <td>44993</td>\n",
       "      <td>Size:Medium, Brand:PURPLE NITRILE*, Brand:HALY...</td>\n",
       "      <td>https://products.halyardhealth.com/infection-p...</td>\n",
       "      <td>820170072634</td>\n",
       "      <td>820170072641</td>\n",
       "    </tr>\n",
       "    <tr>\n",
       "      <th>8</th>\n",
       "      <td>Halyard Health</td>\n",
       "      <td>Medical Exam Gloves</td>\n",
       "      <td>Nitrile</td>\n",
       "      <td>PURPLE NITRILE* MAX Exam Glove</td>\n",
       "      <td>44994</td>\n",
       "      <td>Size:Large, Brand:PURPLE NITRILE*, Brand:HALYA...</td>\n",
       "      <td>https://products.halyardhealth.com/infection-p...</td>\n",
       "      <td>820170072658</td>\n",
       "      <td>820170072665</td>\n",
       "    </tr>\n",
       "    <tr>\n",
       "      <th>9</th>\n",
       "      <td>Halyard Health</td>\n",
       "      <td>Medical Exam Gloves</td>\n",
       "      <td>Nitrile</td>\n",
       "      <td>PURPLE NITRILE* MAX Exam Glove</td>\n",
       "      <td>44995</td>\n",
       "      <td>Size:X-Large, Brand:PURPLE NITRILE*, Brand:HAL...</td>\n",
       "      <td>https://products.halyardhealth.com/infection-p...</td>\n",
       "      <td>820170072672</td>\n",
       "      <td>NaN</td>\n",
       "    </tr>\n",
       "    <tr>\n",
       "      <th>10</th>\n",
       "      <td>Halyard Health</td>\n",
       "      <td>Medical Exam Gloves</td>\n",
       "      <td>Nitrile</td>\n",
       "      <td>LAVENDER* Nitrile Exam Glove</td>\n",
       "      <td>52816</td>\n",
       "      <td>Size:X-Small, Brand:LAVENDER NITRILE*, Color:L...</td>\n",
       "      <td>https://products.halyardhealth.com/infection-p...</td>\n",
       "      <td>820170072931</td>\n",
       "      <td>NaN</td>\n",
       "    </tr>\n",
       "    <tr>\n",
       "      <th>11</th>\n",
       "      <td>Halyard Health</td>\n",
       "      <td>Medical Exam Gloves</td>\n",
       "      <td>Nitrile</td>\n",
       "      <td>LAVENDER* Nitrile Exam Glove</td>\n",
       "      <td>52817</td>\n",
       "      <td>Size:Small, Brand:LAVENDER NITRILE*, Color:Lav...</td>\n",
       "      <td>https://products.halyardhealth.com/infection-p...</td>\n",
       "      <td>680651528179</td>\n",
       "      <td>NaN</td>\n",
       "    </tr>\n",
       "    <tr>\n",
       "      <th>12</th>\n",
       "      <td>Halyard Health</td>\n",
       "      <td>Medical Exam Gloves</td>\n",
       "      <td>Nitrile</td>\n",
       "      <td>LAVENDER* Nitrile Exam Glove</td>\n",
       "      <td>52818</td>\n",
       "      <td>Size:Medium, Brand:LAVENDER NITRILE*, Color:La...</td>\n",
       "      <td>https://products.halyardhealth.com/infection-p...</td>\n",
       "      <td>820170072986</td>\n",
       "      <td>NaN</td>\n",
       "    </tr>\n",
       "    <tr>\n",
       "      <th>13</th>\n",
       "      <td>Halyard Health</td>\n",
       "      <td>Medical Exam Gloves</td>\n",
       "      <td>Nitrile</td>\n",
       "      <td>LAVENDER* Nitrile Exam Glove</td>\n",
       "      <td>52819</td>\n",
       "      <td>Size:Large, Brand:LAVENDER NITRILE*, Color:Lav...</td>\n",
       "      <td>https://products.halyardhealth.com/infection-p...</td>\n",
       "      <td>036000528190</td>\n",
       "      <td>NaN</td>\n",
       "    </tr>\n",
       "    <tr>\n",
       "      <th>14</th>\n",
       "      <td>Halyard Health</td>\n",
       "      <td>Medical Exam Gloves</td>\n",
       "      <td>Nitrile</td>\n",
       "      <td>LAVENDER* Nitrile Exam Glove</td>\n",
       "      <td>52820</td>\n",
       "      <td>Size:X-Large, Brand:LAVENDER NITRILE*, Color:L...</td>\n",
       "      <td>https://products.halyardhealth.com/infection-p...</td>\n",
       "      <td>820170073020</td>\n",
       "      <td>NaN</td>\n",
       "    </tr>\n",
       "    <tr>\n",
       "      <th>15</th>\n",
       "      <td>Halyard Health</td>\n",
       "      <td>Medical Exam Gloves</td>\n",
       "      <td>Nitrile</td>\n",
       "      <td>HALYARD* BLACK-FIRE* Nitrile Exam Gloves</td>\n",
       "      <td>44755</td>\n",
       "      <td>Size:X-Small, Brand:HALYARD*, Brand:HALYARD*, ...</td>\n",
       "      <td>https://products.halyardhealth.com/infection-p...</td>\n",
       "      <td>820170072412</td>\n",
       "      <td>820170072429</td>\n",
       "    </tr>\n",
       "    <tr>\n",
       "      <th>16</th>\n",
       "      <td>Halyard Health</td>\n",
       "      <td>Medical Exam Gloves</td>\n",
       "      <td>Nitrile</td>\n",
       "      <td>HALYARD* BLACK-FIRE* Nitrile Exam Gloves</td>\n",
       "      <td>44756</td>\n",
       "      <td>Size:Small, Brand:HALYARD*, Brand:HALYARD*, UN...</td>\n",
       "      <td>https://products.halyardhealth.com/infection-p...</td>\n",
       "      <td>820170072436</td>\n",
       "      <td>820170072443</td>\n",
       "    </tr>\n",
       "    <tr>\n",
       "      <th>17</th>\n",
       "      <td>Halyard Health</td>\n",
       "      <td>Medical Exam Gloves</td>\n",
       "      <td>Nitrile</td>\n",
       "      <td>HALYARD* BLACK-FIRE* Nitrile Exam Gloves</td>\n",
       "      <td>44757</td>\n",
       "      <td>Size:Medium, Brand:HALYARD*, Brand:HALYARD*, U...</td>\n",
       "      <td>https://products.halyardhealth.com/infection-p...</td>\n",
       "      <td>820170072450</td>\n",
       "      <td>820170072467</td>\n",
       "    </tr>\n",
       "    <tr>\n",
       "      <th>18</th>\n",
       "      <td>Halyard Health</td>\n",
       "      <td>Medical Exam Gloves</td>\n",
       "      <td>Nitrile</td>\n",
       "      <td>HALYARD* BLACK-FIRE* Nitrile Exam Gloves</td>\n",
       "      <td>44758</td>\n",
       "      <td>Size:Large, Brand:HALYARD*, Brand:HALYARD*, UN...</td>\n",
       "      <td>https://products.halyardhealth.com/infection-p...</td>\n",
       "      <td>820170072474</td>\n",
       "      <td>820170072481</td>\n",
       "    </tr>\n",
       "    <tr>\n",
       "      <th>19</th>\n",
       "      <td>Halyard Health</td>\n",
       "      <td>Medical Exam Gloves</td>\n",
       "      <td>Nitrile</td>\n",
       "      <td>HALYARD* BLACK-FIRE* Nitrile Exam Gloves</td>\n",
       "      <td>44759</td>\n",
       "      <td>Size:X-Large, Brand:HALYARD*, Brand:HALYARD*, ...</td>\n",
       "      <td>https://products.halyardhealth.com/infection-p...</td>\n",
       "      <td>820170072498</td>\n",
       "      <td>820170072504</td>\n",
       "    </tr>\n",
       "    <tr>\n",
       "      <th>20</th>\n",
       "      <td>Halyard Health</td>\n",
       "      <td>Medical Exam Gloves</td>\n",
       "      <td>Nitrile</td>\n",
       "      <td>HALYARD* AQUASOFT* Nitrile Exam Glove</td>\n",
       "      <td>43932</td>\n",
       "      <td>Size:X-Small, Brand:HALYARD*, UNSPSC Classific...</td>\n",
       "      <td>https://products.halyardhealth.com/infection-p...</td>\n",
       "      <td>820170072313</td>\n",
       "      <td>713049532974</td>\n",
       "    </tr>\n",
       "    <tr>\n",
       "      <th>21</th>\n",
       "      <td>Halyard Health</td>\n",
       "      <td>Medical Exam Gloves</td>\n",
       "      <td>Nitrile</td>\n",
       "      <td>HALYARD* AQUASOFT* Nitrile Exam Glove</td>\n",
       "      <td>43933</td>\n",
       "      <td>Size:Small, Brand:HALYARD*, UNSPSC Classificat...</td>\n",
       "      <td>https://products.halyardhealth.com/infection-p...</td>\n",
       "      <td>820170072344</td>\n",
       "      <td>713049532981</td>\n",
       "    </tr>\n",
       "    <tr>\n",
       "      <th>22</th>\n",
       "      <td>Halyard Health</td>\n",
       "      <td>Medical Exam Gloves</td>\n",
       "      <td>Nitrile</td>\n",
       "      <td>HALYARD* AQUASOFT* Nitrile Exam Glove</td>\n",
       "      <td>43934</td>\n",
       "      <td>Size:Medium, Brand:HALYARD*, UNSPSC Classifica...</td>\n",
       "      <td>https://products.halyardhealth.com/infection-p...</td>\n",
       "      <td>696394833661</td>\n",
       "      <td>713049532998</td>\n",
       "    </tr>\n",
       "    <tr>\n",
       "      <th>23</th>\n",
       "      <td>Halyard Health</td>\n",
       "      <td>Medical Exam Gloves</td>\n",
       "      <td>Nitrile</td>\n",
       "      <td>HALYARD* AQUASOFT* Nitrile Exam Glove</td>\n",
       "      <td>43935</td>\n",
       "      <td>Size:Large, Brand:HALYARD*, UNSPSC Classificat...</td>\n",
       "      <td>https://products.halyardhealth.com/infection-p...</td>\n",
       "      <td>820170072375</td>\n",
       "      <td>713049533001</td>\n",
       "    </tr>\n",
       "    <tr>\n",
       "      <th>24</th>\n",
       "      <td>Halyard Health</td>\n",
       "      <td>Medical Exam Gloves</td>\n",
       "      <td>Nitrile</td>\n",
       "      <td>HALYARD* AQUASOFT* Nitrile Exam Glove</td>\n",
       "      <td>43936</td>\n",
       "      <td>Size:X-Large, Brand:HALYARD*, UNSPSC Classific...</td>\n",
       "      <td>https://products.halyardhealth.com/infection-p...</td>\n",
       "      <td>820170072399</td>\n",
       "      <td>713049533018</td>\n",
       "    </tr>\n",
       "    <tr>\n",
       "      <th>25</th>\n",
       "      <td>Halyard Health</td>\n",
       "      <td>Medical Exam Gloves</td>\n",
       "      <td>Nitrile</td>\n",
       "      <td>STERLING-XTRA* Exam Glove</td>\n",
       "      <td>33022</td>\n",
       "      <td>Size:X-Small, Cuff:Beaded Cuff, Fit Type:Paire...</td>\n",
       "      <td>https://products.halyardhealth.com/infection-p...</td>\n",
       "      <td>820170071910</td>\n",
       "      <td>NaN</td>\n",
       "    </tr>\n",
       "    <tr>\n",
       "      <th>26</th>\n",
       "      <td>Halyard Health</td>\n",
       "      <td>Medical Exam Gloves</td>\n",
       "      <td>Nitrile</td>\n",
       "      <td>PINK UNDERGUARD* Nitrile Exam Gloves</td>\n",
       "      <td>47452</td>\n",
       "      <td>Size:X-Small, Color:Pink, Dispenser:Single Per...</td>\n",
       "      <td>https://products.halyardhealth.com/infection-p...</td>\n",
       "      <td>NaN</td>\n",
       "      <td>NaN</td>\n",
       "    </tr>\n",
       "    <tr>\n",
       "      <th>27</th>\n",
       "      <td>Halyard Health</td>\n",
       "      <td>Medical Exam Gloves</td>\n",
       "      <td>Nitrile</td>\n",
       "      <td>PINK UNDERGUARD* Nitrile Exam Gloves</td>\n",
       "      <td>47453</td>\n",
       "      <td>Size:Small, Color:Pink, Dispenser:Single Perfo...</td>\n",
       "      <td>https://products.halyardhealth.com/infection-p...</td>\n",
       "      <td>NaN</td>\n",
       "      <td>NaN</td>\n",
       "    </tr>\n",
       "    <tr>\n",
       "      <th>28</th>\n",
       "      <td>Halyard Health</td>\n",
       "      <td>Medical Exam Gloves</td>\n",
       "      <td>Nitrile</td>\n",
       "      <td>PINK UNDERGUARD* Nitrile Exam Gloves</td>\n",
       "      <td>47454</td>\n",
       "      <td>Size:Medium, Color:Pink, Dispenser:Single Perf...</td>\n",
       "      <td>https://products.halyardhealth.com/infection-p...</td>\n",
       "      <td>NaN</td>\n",
       "      <td>NaN</td>\n",
       "    </tr>\n",
       "    <tr>\n",
       "      <th>29</th>\n",
       "      <td>Halyard Health</td>\n",
       "      <td>Medical Exam Gloves</td>\n",
       "      <td>Nitrile</td>\n",
       "      <td>PINK UNDERGUARD* Nitrile Exam Gloves</td>\n",
       "      <td>47455</td>\n",
       "      <td>Size:Large, Color:Pink, Dispenser:Single Perfo...</td>\n",
       "      <td>https://products.halyardhealth.com/infection-p...</td>\n",
       "      <td>NaN</td>\n",
       "      <td>NaN</td>\n",
       "    </tr>\n",
       "    <tr>\n",
       "      <th>30</th>\n",
       "      <td>Halyard Health</td>\n",
       "      <td>Medical Exam Gloves</td>\n",
       "      <td>Nitrile</td>\n",
       "      <td>PINK UNDERGUARD* Nitrile Exam Gloves</td>\n",
       "      <td>47456</td>\n",
       "      <td>Size:X-Large, Color:Pink, Dispenser:Single Per...</td>\n",
       "      <td>https://products.halyardhealth.com/infection-p...</td>\n",
       "      <td>NaN</td>\n",
       "      <td>NaN</td>\n",
       "    </tr>\n",
       "    <tr>\n",
       "      <th>31</th>\n",
       "      <td>Halyard Health</td>\n",
       "      <td>Medical Exam Gloves</td>\n",
       "      <td>Nitrile</td>\n",
       "      <td>STERLING* Nitrile Exam Glove</td>\n",
       "      <td>55095</td>\n",
       "      <td>Size:Small, Cleared for Use with Chemotherapy ...</td>\n",
       "      <td>https://products.halyardhealth.com/infection-p...</td>\n",
       "      <td>820170073754</td>\n",
       "      <td>820170073761</td>\n",
       "    </tr>\n",
       "    <tr>\n",
       "      <th>32</th>\n",
       "      <td>Halyard Health</td>\n",
       "      <td>Medical Exam Gloves</td>\n",
       "      <td>Nitrile</td>\n",
       "      <td>HALYARD* BLUE NITRILE* Exam Glove</td>\n",
       "      <td>53100</td>\n",
       "      <td>Size:X-Small, Brand:HALYARD*, Brand:HALYARD*, ...</td>\n",
       "      <td>https://products.halyardhealth.com/infection-p...</td>\n",
       "      <td>820170073815</td>\n",
       "      <td>NaN</td>\n",
       "    </tr>\n",
       "    <tr>\n",
       "      <th>33</th>\n",
       "      <td>Halyard Health</td>\n",
       "      <td>Medical Exam Gloves</td>\n",
       "      <td>Nitrile</td>\n",
       "      <td>HALYARD* BLUE NITRILE* Exam Glove</td>\n",
       "      <td>53101</td>\n",
       "      <td>Size:Small, Brand:HALYARD*, Brand:HALYARD*, UN...</td>\n",
       "      <td>https://products.halyardhealth.com/infection-p...</td>\n",
       "      <td>820170073839</td>\n",
       "      <td>NaN</td>\n",
       "    </tr>\n",
       "    <tr>\n",
       "      <th>34</th>\n",
       "      <td>Halyard Health</td>\n",
       "      <td>Medical Exam Gloves</td>\n",
       "      <td>Nitrile</td>\n",
       "      <td>HALYARD* BLUE NITRILE* Exam Glove</td>\n",
       "      <td>53102</td>\n",
       "      <td>Size:Medium, Brand:HALYARD*, Brand:HALYARD*, U...</td>\n",
       "      <td>https://products.halyardhealth.com/infection-p...</td>\n",
       "      <td>820170073853</td>\n",
       "      <td>NaN</td>\n",
       "    </tr>\n",
       "    <tr>\n",
       "      <th>35</th>\n",
       "      <td>Halyard Health</td>\n",
       "      <td>Medical Exam Gloves</td>\n",
       "      <td>Nitrile</td>\n",
       "      <td>HALYARD* BLUE NITRILE* Exam Glove</td>\n",
       "      <td>53103</td>\n",
       "      <td>Size:Large, Brand:HALYARD*, Brand:HALYARD*, UN...</td>\n",
       "      <td>https://products.halyardhealth.com/infection-p...</td>\n",
       "      <td>820170073884</td>\n",
       "      <td>NaN</td>\n",
       "    </tr>\n",
       "    <tr>\n",
       "      <th>36</th>\n",
       "      <td>Halyard Health</td>\n",
       "      <td>Medical Exam Gloves</td>\n",
       "      <td>Nitrile</td>\n",
       "      <td>HALYARD* BLUE NITRILE* Exam Glove</td>\n",
       "      <td>53104</td>\n",
       "      <td>Size:X-Large, Brand:HALYARD*, Brand:HALYARD*, ...</td>\n",
       "      <td>https://products.halyardhealth.com/infection-p...</td>\n",
       "      <td>820170073891</td>\n",
       "      <td>NaN</td>\n",
       "    </tr>\n",
       "    <tr>\n",
       "      <th>37</th>\n",
       "      <td>Halyard Health</td>\n",
       "      <td>Medical Exam Gloves</td>\n",
       "      <td>Nitrile</td>\n",
       "      <td>PURPLE NITRILE* Dental Exam Glove</td>\n",
       "      <td>53430</td>\n",
       "      <td>Size:X-Small, Brand:PURPLE NITRILE*, UNSPSC Cl...</td>\n",
       "      <td>https://products.halyardhealth.com/infection-p...</td>\n",
       "      <td>820170073297</td>\n",
       "      <td>NaN</td>\n",
       "    </tr>\n",
       "    <tr>\n",
       "      <th>38</th>\n",
       "      <td>Halyard Health</td>\n",
       "      <td>Medical Exam Gloves</td>\n",
       "      <td>Nitrile</td>\n",
       "      <td>PURPLE NITRILE* Dental Exam Glove</td>\n",
       "      <td>53431</td>\n",
       "      <td>Size:Small, Brand:PURPLE NITRILE*, UNSPSC Clas...</td>\n",
       "      <td>https://products.halyardhealth.com/infection-p...</td>\n",
       "      <td>820170073310</td>\n",
       "      <td>NaN</td>\n",
       "    </tr>\n",
       "    <tr>\n",
       "      <th>39</th>\n",
       "      <td>Halyard Health</td>\n",
       "      <td>Medical Exam Gloves</td>\n",
       "      <td>Nitrile</td>\n",
       "      <td>PURPLE NITRILE* Dental Exam Glove</td>\n",
       "      <td>53432</td>\n",
       "      <td>Size:Medium, Brand:PURPLE NITRILE*, UNSPSC Cla...</td>\n",
       "      <td>https://products.halyardhealth.com/infection-p...</td>\n",
       "      <td>820170073334</td>\n",
       "      <td>NaN</td>\n",
       "    </tr>\n",
       "    <tr>\n",
       "      <th>40</th>\n",
       "      <td>Halyard Health</td>\n",
       "      <td>Medical Exam Gloves</td>\n",
       "      <td>Nitrile</td>\n",
       "      <td>PURPLE NITRILE* Dental Exam Glove</td>\n",
       "      <td>53433</td>\n",
       "      <td>Size:Large, Brand:PURPLE NITRILE*, UNSPSC Clas...</td>\n",
       "      <td>https://products.halyardhealth.com/infection-p...</td>\n",
       "      <td>820170073358</td>\n",
       "      <td>NaN</td>\n",
       "    </tr>\n",
       "    <tr>\n",
       "      <th>41</th>\n",
       "      <td>Halyard Health</td>\n",
       "      <td>Medical Exam Gloves</td>\n",
       "      <td>Nitrile</td>\n",
       "      <td>PURPLE NITRILE* Dental Exam Glove</td>\n",
       "      <td>53434</td>\n",
       "      <td>Size:X-Large, Brand:PURPLE NITRILE*, UNSPSC Cl...</td>\n",
       "      <td>https://products.halyardhealth.com/infection-p...</td>\n",
       "      <td>820170073372</td>\n",
       "      <td>NaN</td>\n",
       "    </tr>\n",
       "    <tr>\n",
       "      <th>42</th>\n",
       "      <td>Halyard Health</td>\n",
       "      <td>Medical Exam Gloves</td>\n",
       "      <td>Nitrile</td>\n",
       "      <td>STERLING SG* Nitrile Exam Glove</td>\n",
       "      <td>41662</td>\n",
       "      <td>Size:X-Large, Glove Length:9.5 in., Fit Type:A...</td>\n",
       "      <td>https://products.halyardhealth.com/infection-p...</td>\n",
       "      <td>820170072306</td>\n",
       "      <td>NaN</td>\n",
       "    </tr>\n",
       "    <tr>\n",
       "      <th>43</th>\n",
       "      <td>Halyard Health</td>\n",
       "      <td>Medical Exam Gloves</td>\n",
       "      <td>Nitrile</td>\n",
       "      <td>STERLING SG* Nitrile Exam Glove</td>\n",
       "      <td>41660</td>\n",
       "      <td>Size:Large, Glove Length:9.5 in., Fit Type:Amb...</td>\n",
       "      <td>https://products.halyardhealth.com/infection-p...</td>\n",
       "      <td>820170072276</td>\n",
       "      <td>NaN</td>\n",
       "    </tr>\n",
       "    <tr>\n",
       "      <th>44</th>\n",
       "      <td>Halyard Health</td>\n",
       "      <td>Medical Exam Gloves</td>\n",
       "      <td>Nitrile</td>\n",
       "      <td>STERLING SG* Nitrile Exam Glove</td>\n",
       "      <td>41659</td>\n",
       "      <td>Size:Medium, Glove Length:9.5 in., Fit Type:Am...</td>\n",
       "      <td>https://products.halyardhealth.com/infection-p...</td>\n",
       "      <td>820170072252</td>\n",
       "      <td>NaN</td>\n",
       "    </tr>\n",
       "    <tr>\n",
       "      <th>45</th>\n",
       "      <td>Halyard Health</td>\n",
       "      <td>Medical Exam Gloves</td>\n",
       "      <td>Nitrile</td>\n",
       "      <td>STERLING SG* Nitrile Exam Glove</td>\n",
       "      <td>41658</td>\n",
       "      <td>Size:Small, Glove Length:9.5 in., Fit Type:Amb...</td>\n",
       "      <td>https://products.halyardhealth.com/infection-p...</td>\n",
       "      <td>820170072238</td>\n",
       "      <td>NaN</td>\n",
       "    </tr>\n",
       "    <tr>\n",
       "      <th>46</th>\n",
       "      <td>Halyard Health</td>\n",
       "      <td>Medical Exam Gloves</td>\n",
       "      <td>Nitrile</td>\n",
       "      <td>STERLING SG* Nitrile Exam Glove</td>\n",
       "      <td>41657</td>\n",
       "      <td>Size:X-Small, Glove Length:9.5 in., Fit Type:A...</td>\n",
       "      <td>https://products.halyardhealth.com/infection-p...</td>\n",
       "      <td>820170072214</td>\n",
       "      <td>NaN</td>\n",
       "    </tr>\n",
       "    <tr>\n",
       "      <th>47</th>\n",
       "      <td>Halyard Health</td>\n",
       "      <td>Medical Exam Gloves</td>\n",
       "      <td>Vinyl</td>\n",
       "      <td>Synthetic Vinyl Exam Glove</td>\n",
       "      <td>55030</td>\n",
       "      <td>Size:X-Small, Color:Clear, UNSPSC Classificati...</td>\n",
       "      <td>https://products.halyardhealth.com/infection-p...</td>\n",
       "      <td>820170073396</td>\n",
       "      <td>NaN</td>\n",
       "    </tr>\n",
       "    <tr>\n",
       "      <th>48</th>\n",
       "      <td>Halyard Health</td>\n",
       "      <td>Medical Exam Gloves</td>\n",
       "      <td>Vinyl</td>\n",
       "      <td>Synthetic Vinyl Exam Glove</td>\n",
       "      <td>55031</td>\n",
       "      <td>Size:Small, Color:Clear, UNSPSC Classification...</td>\n",
       "      <td>https://products.halyardhealth.com/infection-p...</td>\n",
       "      <td>820170073419</td>\n",
       "      <td>NaN</td>\n",
       "    </tr>\n",
       "    <tr>\n",
       "      <th>49</th>\n",
       "      <td>Halyard Health</td>\n",
       "      <td>Medical Exam Gloves</td>\n",
       "      <td>Vinyl</td>\n",
       "      <td>Synthetic Vinyl Exam Glove</td>\n",
       "      <td>55032</td>\n",
       "      <td>Size:Medium, Color:Clear, UNSPSC Classificatio...</td>\n",
       "      <td>https://products.halyardhealth.com/infection-p...</td>\n",
       "      <td>820170073433</td>\n",
       "      <td>NaN</td>\n",
       "    </tr>\n",
       "    <tr>\n",
       "      <th>50</th>\n",
       "      <td>Halyard Health</td>\n",
       "      <td>Medical Exam Gloves</td>\n",
       "      <td>Vinyl</td>\n",
       "      <td>Synthetic Vinyl Exam Glove</td>\n",
       "      <td>55033</td>\n",
       "      <td>Size:Large, Color:Clear, UNSPSC Classification...</td>\n",
       "      <td>https://products.halyardhealth.com/infection-p...</td>\n",
       "      <td>036000550337</td>\n",
       "      <td>NaN</td>\n",
       "    </tr>\n",
       "    <tr>\n",
       "      <th>51</th>\n",
       "      <td>Halyard Health</td>\n",
       "      <td>Medical Exam Gloves</td>\n",
       "      <td>Vinyl</td>\n",
       "      <td>Synthetic Vinyl Exam Glove</td>\n",
       "      <td>55034</td>\n",
       "      <td>Size:X-Large, Color:Clear, UNSPSC Classificati...</td>\n",
       "      <td>https://products.halyardhealth.com/infection-p...</td>\n",
       "      <td>820170073471</td>\n",
       "      <td>NaN</td>\n",
       "    </tr>\n",
       "    <tr>\n",
       "      <th>52</th>\n",
       "      <td>Halyard Health</td>\n",
       "      <td>Medical Exam Gloves</td>\n",
       "      <td>Vinyl</td>\n",
       "      <td>Synthetic Vinyl Exam Glove</td>\n",
       "      <td>50031</td>\n",
       "      <td>Size:Small, Color:White, UNSPSC Classification...</td>\n",
       "      <td>https://products.halyardhealth.com/infection-p...</td>\n",
       "      <td>820170072696</td>\n",
       "      <td>713049530505</td>\n",
       "    </tr>\n",
       "    <tr>\n",
       "      <th>53</th>\n",
       "      <td>Halyard Health</td>\n",
       "      <td>Medical Exam Gloves</td>\n",
       "      <td>Vinyl</td>\n",
       "      <td>Synthetic Vinyl Exam Glove</td>\n",
       "      <td>50032</td>\n",
       "      <td>Size:Medium, Color:White, UNSPSC Classificatio...</td>\n",
       "      <td>https://products.halyardhealth.com/infection-p...</td>\n",
       "      <td>820170072719</td>\n",
       "      <td>NaN</td>\n",
       "    </tr>\n",
       "    <tr>\n",
       "      <th>54</th>\n",
       "      <td>Halyard Health</td>\n",
       "      <td>Medical Exam Gloves</td>\n",
       "      <td>Vinyl</td>\n",
       "      <td>Synthetic Vinyl Exam Glove</td>\n",
       "      <td>50033</td>\n",
       "      <td>Size:Large, Color:White, UNSPSC Classification...</td>\n",
       "      <td>https://products.halyardhealth.com/infection-p...</td>\n",
       "      <td>820170072733</td>\n",
       "      <td>NaN</td>\n",
       "    </tr>\n",
       "    <tr>\n",
       "      <th>55</th>\n",
       "      <td>Halyard Health</td>\n",
       "      <td>Medical Exam Gloves</td>\n",
       "      <td>Vinyl</td>\n",
       "      <td>Synthetic Vinyl Exam Glove</td>\n",
       "      <td>50034</td>\n",
       "      <td>Size:X-Large, Color:White, UNSPSC Classificati...</td>\n",
       "      <td>https://products.halyardhealth.com/infection-p...</td>\n",
       "      <td>820170072757</td>\n",
       "      <td>NaN</td>\n",
       "    </tr>\n",
       "    <tr>\n",
       "      <th>56</th>\n",
       "      <td>Halyard Health</td>\n",
       "      <td>Medical Exam Gloves</td>\n",
       "      <td>Chloroprene</td>\n",
       "      <td>FLEXAPRENE* GREEN Exam Gloves</td>\n",
       "      <td>44792</td>\n",
       "      <td>Size:X-Small, Color:Green, Dispenser:SMARTPULL...</td>\n",
       "      <td>https://products.halyardhealth.com/infection-p...</td>\n",
       "      <td>820140029224</td>\n",
       "      <td>820170072528</td>\n",
       "    </tr>\n",
       "    <tr>\n",
       "      <th>57</th>\n",
       "      <td>Halyard Health</td>\n",
       "      <td>Medical Exam Gloves</td>\n",
       "      <td>Chloroprene</td>\n",
       "      <td>FLEXAPRENE* GREEN Exam Gloves</td>\n",
       "      <td>44793</td>\n",
       "      <td>Size:Small, Color:Green, Dispenser:SMARTPULL*,...</td>\n",
       "      <td>https://products.halyardhealth.com/infection-p...</td>\n",
       "      <td>820140029231</td>\n",
       "      <td>820170072542</td>\n",
       "    </tr>\n",
       "    <tr>\n",
       "      <th>58</th>\n",
       "      <td>Halyard Health</td>\n",
       "      <td>Medical Exam Gloves</td>\n",
       "      <td>Chloroprene</td>\n",
       "      <td>FLEXAPRENE* GREEN Exam Gloves</td>\n",
       "      <td>44794</td>\n",
       "      <td>Size:Medium, Color:Green, Dispenser:SMARTPULL*...</td>\n",
       "      <td>https://products.halyardhealth.com/infection-p...</td>\n",
       "      <td>820170072559</td>\n",
       "      <td>820170072566</td>\n",
       "    </tr>\n",
       "    <tr>\n",
       "      <th>59</th>\n",
       "      <td>Halyard Health</td>\n",
       "      <td>Medical Exam Gloves</td>\n",
       "      <td>Chloroprene</td>\n",
       "      <td>FLEXAPRENE* GREEN Exam Gloves</td>\n",
       "      <td>44795</td>\n",
       "      <td>Size:Large, Color:Green, Dispenser:SMARTPULL*,...</td>\n",
       "      <td>https://products.halyardhealth.com/infection-p...</td>\n",
       "      <td>820140029255</td>\n",
       "      <td>820170072580</td>\n",
       "    </tr>\n",
       "    <tr>\n",
       "      <th>60</th>\n",
       "      <td>Halyard Health</td>\n",
       "      <td>Medical Exam Gloves</td>\n",
       "      <td>Chloroprene</td>\n",
       "      <td>FLEXAPRENE* GREEN Exam Gloves</td>\n",
       "      <td>44796</td>\n",
       "      <td>Size:X-Large, Color:Green, Dispenser:SMARTPULL...</td>\n",
       "      <td>https://products.halyardhealth.com/infection-p...</td>\n",
       "      <td>820170072597</td>\n",
       "      <td>820170072603</td>\n",
       "    </tr>\n",
       "    <tr>\n",
       "      <th>61</th>\n",
       "      <td>Halyard Health</td>\n",
       "      <td>Patient Care</td>\n",
       "      <td>Cold Therapy</td>\n",
       "      <td>Instant Cold Packs</td>\n",
       "      <td>59681</td>\n",
       "      <td>Size:Small, Length (in.):4, Width (in.):10, UN...</td>\n",
       "      <td>https://products.halyardhealth.com/infection-p...</td>\n",
       "      <td>NaN</td>\n",
       "      <td>NaN</td>\n",
       "    </tr>\n",
       "    <tr>\n",
       "      <th>62</th>\n",
       "      <td>Halyard Health</td>\n",
       "      <td>Patient Care</td>\n",
       "      <td>Cold Therapy</td>\n",
       "      <td>Instant Cold Packs</td>\n",
       "      <td>59688</td>\n",
       "      <td>Size:Large, Length (in.):6.25, Width (in.):8.5...</td>\n",
       "      <td>https://products.halyardhealth.com/infection-p...</td>\n",
       "      <td>NaN</td>\n",
       "      <td>NaN</td>\n",
       "    </tr>\n",
       "    <tr>\n",
       "      <th>63</th>\n",
       "      <td>Halyard Health</td>\n",
       "      <td>Patient Care</td>\n",
       "      <td>Cold Therapy</td>\n",
       "      <td>Bilateral Facial Ice Pack</td>\n",
       "      <td>33101</td>\n",
       "      <td>, UNSPSC Classification:42142101, Sterile:No, ...</td>\n",
       "      <td>https://products.halyardhealth.com/infection-p...</td>\n",
       "      <td>NaN</td>\n",
       "      <td>NaN</td>\n",
       "    </tr>\n",
       "    <tr>\n",
       "      <th>64</th>\n",
       "      <td>Halyard Health</td>\n",
       "      <td>Patient Care</td>\n",
       "      <td>Cold Therapy</td>\n",
       "      <td>STAY-DRY* Ice Packs</td>\n",
       "      <td>33495</td>\n",
       "      <td>Size:Small, Length (in.):5, UK SKU:P3349507, W...</td>\n",
       "      <td>https://products.halyardhealth.com/infection-p...</td>\n",
       "      <td>NaN</td>\n",
       "      <td>NaN</td>\n",
       "    </tr>\n",
       "    <tr>\n",
       "      <th>65</th>\n",
       "      <td>Halyard Health</td>\n",
       "      <td>Patient Care</td>\n",
       "      <td>Cold Therapy</td>\n",
       "      <td>STAY-DRY* Ice Packs</td>\n",
       "      <td>33500</td>\n",
       "      <td>Size:Large, Length (in.):6.5, UK SKU:P3350001,...</td>\n",
       "      <td>https://products.halyardhealth.com/infection-p...</td>\n",
       "      <td>NaN</td>\n",
       "      <td>NaN</td>\n",
       "    </tr>\n",
       "    <tr>\n",
       "      <th>66</th>\n",
       "      <td>Halyard Health</td>\n",
       "      <td>Patient Care</td>\n",
       "      <td>Cold Therapy</td>\n",
       "      <td>Standard Ice Packs</td>\n",
       "      <td>33510</td>\n",
       "      <td>, UNSPSC Classification:42142101, Natural Rubb...</td>\n",
       "      <td>https://products.halyardhealth.com/infection-p...</td>\n",
       "      <td>NaN</td>\n",
       "      <td>NaN</td>\n",
       "    </tr>\n",
       "    <tr>\n",
       "      <th>67</th>\n",
       "      <td>Halyard Health</td>\n",
       "      <td>Patient Care</td>\n",
       "      <td>Cold Therapy</td>\n",
       "      <td>SOFT 'N COLD* Ice Packs</td>\n",
       "      <td>33625</td>\n",
       "      <td>Size:Small, Length (in.):4.5, Width (in.):10.5...</td>\n",
       "      <td>https://products.halyardhealth.com/infection-p...</td>\n",
       "      <td>NaN</td>\n",
       "      <td>NaN</td>\n",
       "    </tr>\n",
       "    <tr>\n",
       "      <th>68</th>\n",
       "      <td>Halyard Health</td>\n",
       "      <td>Patient Care</td>\n",
       "      <td>Cold Therapy</td>\n",
       "      <td>SOFT 'N COLD* Ice Packs</td>\n",
       "      <td>33630</td>\n",
       "      <td>Size:Large, Length (in.):6.25, Width (in.):9.5...</td>\n",
       "      <td>https://products.halyardhealth.com/infection-p...</td>\n",
       "      <td>NaN</td>\n",
       "      <td>NaN</td>\n",
       "    </tr>\n",
       "    <tr>\n",
       "      <th>69</th>\n",
       "      <td>Halyard Health</td>\n",
       "      <td>Patient Care</td>\n",
       "      <td>Cold Therapy</td>\n",
       "      <td>SECURE-ALL* Ice Packs</td>\n",
       "      <td>33595</td>\n",
       "      <td>Size:Small, Length (in.):5.5, UK SKU:P3359507,...</td>\n",
       "      <td>https://products.halyardhealth.com/infection-p...</td>\n",
       "      <td>NaN</td>\n",
       "      <td>NaN</td>\n",
       "    </tr>\n",
       "    <tr>\n",
       "      <th>70</th>\n",
       "      <td>Halyard Health</td>\n",
       "      <td>Patient Care</td>\n",
       "      <td>Cold Therapy</td>\n",
       "      <td>SECURE-ALL* Ice Packs</td>\n",
       "      <td>33600</td>\n",
       "      <td>Size:Large, Length (in.):6, UK SKU:P3360007, W...</td>\n",
       "      <td>https://products.halyardhealth.com/infection-p...</td>\n",
       "      <td>NaN</td>\n",
       "      <td>NaN</td>\n",
       "    </tr>\n",
       "    <tr>\n",
       "      <th>71</th>\n",
       "      <td>Halyard Health</td>\n",
       "      <td>Patient Care</td>\n",
       "      <td>Cold Therapy</td>\n",
       "      <td>Perineal Ice Pack</td>\n",
       "      <td>33201</td>\n",
       "      <td>, UNSPSC Classification:42142101, Natural Rubb...</td>\n",
       "      <td>https://products.halyardhealth.com/infection-p...</td>\n",
       "      <td>NaN</td>\n",
       "      <td>NaN</td>\n",
       "    </tr>\n",
       "    <tr>\n",
       "      <th>72</th>\n",
       "      <td>Halyard Health</td>\n",
       "      <td>Patient Care</td>\n",
       "      <td>Cold Therapy</td>\n",
       "      <td>JUMBO-PLUS* Replacement Bladder</td>\n",
       "      <td>33725</td>\n",
       "      <td>, UNSPSC Classification:42142101, Natural Rubb...</td>\n",
       "      <td>https://products.halyardhealth.com/infection-p...</td>\n",
       "      <td>NaN</td>\n",
       "      <td>NaN</td>\n",
       "    </tr>\n",
       "    <tr>\n",
       "      <th>73</th>\n",
       "      <td>Halyard Health</td>\n",
       "      <td>Patient Care</td>\n",
       "      <td>Cold Therapy</td>\n",
       "      <td>JUMBO-PLUS* Ice Pack, Dual Chamber</td>\n",
       "      <td>33724</td>\n",
       "      <td>, UNSPSC Classification:42142101, Natural Rubb...</td>\n",
       "      <td>https://products.halyardhealth.com/infection-p...</td>\n",
       "      <td>NaN</td>\n",
       "      <td>NaN</td>\n",
       "    </tr>\n",
       "    <tr>\n",
       "      <th>74</th>\n",
       "      <td>Halyard Health</td>\n",
       "      <td>Patient Care</td>\n",
       "      <td>Cold Therapy</td>\n",
       "      <td>Eyecare EENT Ice Pack</td>\n",
       "      <td>33150</td>\n",
       "      <td>, UNSPSC Classification:42142101, Sterile:No, ...</td>\n",
       "      <td>https://products.halyardhealth.com/infection-p...</td>\n",
       "      <td>NaN</td>\n",
       "      <td>NaN</td>\n",
       "    </tr>\n",
       "    <tr>\n",
       "      <th>75</th>\n",
       "      <td>Halyard Health</td>\n",
       "      <td>Patient Care</td>\n",
       "      <td>IV Therapy</td>\n",
       "      <td>Antecubital IV Support</td>\n",
       "      <td>29920</td>\n",
       "      <td>, UNSPSC Classification:42143609, Sterile:No, ...</td>\n",
       "      <td>https://products.halyardhealth.com/infection-p...</td>\n",
       "      <td>NaN</td>\n",
       "      <td>NaN</td>\n",
       "    </tr>\n",
       "    <tr>\n",
       "      <th>76</th>\n",
       "      <td>Halyard Health</td>\n",
       "      <td>Patient Care</td>\n",
       "      <td>IV Therapy</td>\n",
       "      <td>HAND-AID* Arterial Replacement Straps, Pad &amp; S...</td>\n",
       "      <td>29985</td>\n",
       "      <td>, UNSPSC Classification:42143609, Natural Rubb...</td>\n",
       "      <td>https://products.halyardhealth.com/infection-p...</td>\n",
       "      <td>NaN</td>\n",
       "      <td>NaN</td>\n",
       "    </tr>\n",
       "    <tr>\n",
       "      <th>77</th>\n",
       "      <td>Halyard Health</td>\n",
       "      <td>Patient Care</td>\n",
       "      <td>IV Therapy</td>\n",
       "      <td>HAND-AID* Arterial Wrist Support</td>\n",
       "      <td>29980</td>\n",
       "      <td>Size:Adult, Length (in.):9, UK SKU:P2998007, W...</td>\n",
       "      <td>https://products.halyardhealth.com/infection-p...</td>\n",
       "      <td>NaN</td>\n",
       "      <td>NaN</td>\n",
       "    </tr>\n",
       "    <tr>\n",
       "      <th>78</th>\n",
       "      <td>Halyard Health</td>\n",
       "      <td>Patient Care</td>\n",
       "      <td>IV Therapy</td>\n",
       "      <td>HAND-AID* Arterial Wrist Support</td>\n",
       "      <td>29990</td>\n",
       "      <td>Size:Pediatric, Length (in.):6.5, Width (in.):...</td>\n",
       "      <td>https://products.halyardhealth.com/infection-p...</td>\n",
       "      <td>NaN</td>\n",
       "      <td>NaN</td>\n",
       "    </tr>\n",
       "    <tr>\n",
       "      <th>79</th>\n",
       "      <td>Halyard Health</td>\n",
       "      <td>Patient Care</td>\n",
       "      <td>IV Therapy</td>\n",
       "      <td>HAND-AID* IV Wrist Support</td>\n",
       "      <td>29900</td>\n",
       "      <td>Packaging:Pouch, Size:Adult, UK SKU:P2990007, ...</td>\n",
       "      <td>https://products.halyardhealth.com/infection-p...</td>\n",
       "      <td>NaN</td>\n",
       "      <td>NaN</td>\n",
       "    </tr>\n",
       "    <tr>\n",
       "      <th>80</th>\n",
       "      <td>Halyard Health</td>\n",
       "      <td>Patient Care</td>\n",
       "      <td>IV Therapy</td>\n",
       "      <td>HAND-AID* IV Wrist Support</td>\n",
       "      <td>29970</td>\n",
       "      <td>Packaging:Poly Bag, Size:Pediatric, UK SKU:P29...</td>\n",
       "      <td>https://products.halyardhealth.com/infection-p...</td>\n",
       "      <td>NaN</td>\n",
       "      <td>NaN</td>\n",
       "    </tr>\n",
       "    <tr>\n",
       "      <th>81</th>\n",
       "      <td>Halyard Health</td>\n",
       "      <td>Patient Care</td>\n",
       "      <td>IV Therapy</td>\n",
       "      <td>IV Support</td>\n",
       "      <td>29965</td>\n",
       "      <td>Size:Neonatal, Length (in.):3.5, UK SKU:P29965...</td>\n",
       "      <td>https://products.halyardhealth.com/infection-p...</td>\n",
       "      <td>NaN</td>\n",
       "      <td>NaN</td>\n",
       "    </tr>\n",
       "    <tr>\n",
       "      <th>82</th>\n",
       "      <td>Halyard Health</td>\n",
       "      <td>Patient Care</td>\n",
       "      <td>IV Therapy</td>\n",
       "      <td>IV Support</td>\n",
       "      <td>29967</td>\n",
       "      <td>Size:Infant/Child, Length (in.):6.25, UK SKU:P...</td>\n",
       "      <td>https://products.halyardhealth.com/infection-p...</td>\n",
       "      <td>NaN</td>\n",
       "      <td>NaN</td>\n",
       "    </tr>\n",
       "    <tr>\n",
       "      <th>83</th>\n",
       "      <td>Halyard Health</td>\n",
       "      <td>Patient Care</td>\n",
       "      <td>Infant Care</td>\n",
       "      <td>Baby Beanie</td>\n",
       "      <td>10594</td>\n",
       "      <td>, UNSPSC Classification:42131512, Natural Rubb...</td>\n",
       "      <td>https://products.halyardhealth.com/infection-p...</td>\n",
       "      <td>NaN</td>\n",
       "      <td>NaN</td>\n",
       "    </tr>\n",
       "    <tr>\n",
       "      <th>84</th>\n",
       "      <td>Halyard Health</td>\n",
       "      <td>Patient Care</td>\n",
       "      <td>Infant Care</td>\n",
       "      <td>Fetal Monitor Security Strap</td>\n",
       "      <td>37250</td>\n",
       "      <td>, Natural Rubber Latex-Free:No, Name:Fetal Mon...</td>\n",
       "      <td>https://products.halyardhealth.com/infection-p...</td>\n",
       "      <td>NaN</td>\n",
       "      <td>NaN</td>\n",
       "    </tr>\n",
       "    <tr>\n",
       "      <th>85</th>\n",
       "      <td>Halyard Health</td>\n",
       "      <td>Patient Care</td>\n",
       "      <td>Infant Care</td>\n",
       "      <td>Fetal Monitor Security Strap, Buttonhole Closure</td>\n",
       "      <td>37221</td>\n",
       "      <td>, UNSPSC Classification:42143609, Natural Rubb...</td>\n",
       "      <td>https://products.halyardhealth.com/infection-p...</td>\n",
       "      <td>NaN</td>\n",
       "      <td>NaN</td>\n",
       "    </tr>\n",
       "    <tr>\n",
       "      <th>86</th>\n",
       "      <td>Halyard Health</td>\n",
       "      <td>Patient Care</td>\n",
       "      <td>Infant Care</td>\n",
       "      <td>Infant Shirt</td>\n",
       "      <td>10595</td>\n",
       "      <td>, UNSPSC Classification:42131512, Natural Rubb...</td>\n",
       "      <td>https://products.halyardhealth.com/infection-p...</td>\n",
       "      <td>NaN</td>\n",
       "      <td>NaN</td>\n",
       "    </tr>\n",
       "    <tr>\n",
       "      <th>87</th>\n",
       "      <td>Halyard Health</td>\n",
       "      <td>Patient Care</td>\n",
       "      <td>Infant Care</td>\n",
       "      <td>Receiving Blanket</td>\n",
       "      <td>62110</td>\n",
       "      <td>, UNSPSC Classification:42131512, Natural Rubb...</td>\n",
       "      <td>https://products.halyardhealth.com/infection-p...</td>\n",
       "      <td>NaN</td>\n",
       "      <td>NaN</td>\n",
       "    </tr>\n",
       "    <tr>\n",
       "      <th>88</th>\n",
       "      <td>Halyard Health</td>\n",
       "      <td>Patient Care</td>\n",
       "      <td>Infant Care</td>\n",
       "      <td>Soft Circumcision Strap</td>\n",
       "      <td>37500</td>\n",
       "      <td>, UNSPSC Classification:42143609, Natural Rubb...</td>\n",
       "      <td>https://products.halyardhealth.com/infection-p...</td>\n",
       "      <td>NaN</td>\n",
       "      <td>NaN</td>\n",
       "    </tr>\n",
       "    <tr>\n",
       "      <th>89</th>\n",
       "      <td>Halyard Health</td>\n",
       "      <td>Patient Care</td>\n",
       "      <td>Patient Linens</td>\n",
       "      <td>Exam Sheet</td>\n",
       "      <td>67793</td>\n",
       "      <td>, UNSPSC Classification:42132105, Natural Rubb...</td>\n",
       "      <td>https://products.halyardhealth.com/infection-p...</td>\n",
       "      <td>NaN</td>\n",
       "      <td>NaN</td>\n",
       "    </tr>\n",
       "    <tr>\n",
       "      <th>90</th>\n",
       "      <td>Halyard Health</td>\n",
       "      <td>Patient Care</td>\n",
       "      <td>Patient Linens</td>\n",
       "      <td>Flat Top Sheet</td>\n",
       "      <td>67963</td>\n",
       "      <td>, UNSPSC Classification:42132105, Natural Rubb...</td>\n",
       "      <td>https://products.halyardhealth.com/infection-p...</td>\n",
       "      <td>NaN</td>\n",
       "      <td>NaN</td>\n",
       "    </tr>\n",
       "    <tr>\n",
       "      <th>91</th>\n",
       "      <td>Halyard Health</td>\n",
       "      <td>Patient Care</td>\n",
       "      <td>Patient Linens</td>\n",
       "      <td>Half Sheet</td>\n",
       "      <td>67773</td>\n",
       "      <td>, UNSPSC Classification:42132105, Natural Rubb...</td>\n",
       "      <td>https://products.halyardhealth.com/infection-p...</td>\n",
       "      <td>NaN</td>\n",
       "      <td>NaN</td>\n",
       "    </tr>\n",
       "    <tr>\n",
       "      <th>92</th>\n",
       "      <td>Halyard Health</td>\n",
       "      <td>Patient Care</td>\n",
       "      <td>Patient Linens</td>\n",
       "      <td>Pillowcase</td>\n",
       "      <td>67803</td>\n",
       "      <td>, UNSPSC Classification:42192102, Natural Rubb...</td>\n",
       "      <td>https://products.halyardhealth.com/infection-p...</td>\n",
       "      <td>NaN</td>\n",
       "      <td>NaN</td>\n",
       "    </tr>\n",
       "    <tr>\n",
       "      <th>93</th>\n",
       "      <td>Halyard Health</td>\n",
       "      <td>Patient Care</td>\n",
       "      <td>Patient Linens</td>\n",
       "      <td>Stretcher Sheet</td>\n",
       "      <td>67103</td>\n",
       "      <td>Width (in.):96, UNSPSC Classification:42132105...</td>\n",
       "      <td>https://products.halyardhealth.com/infection-p...</td>\n",
       "      <td>NaN</td>\n",
       "      <td>NaN</td>\n",
       "    </tr>\n",
       "    <tr>\n",
       "      <th>94</th>\n",
       "      <td>Halyard Health</td>\n",
       "      <td>Patient Care</td>\n",
       "      <td>Patient Linens</td>\n",
       "      <td>Stretcher Sheet</td>\n",
       "      <td>67783</td>\n",
       "      <td>Width (in.):84, UNSPSC Classification:42132105...</td>\n",
       "      <td>https://products.halyardhealth.com/infection-p...</td>\n",
       "      <td>NaN</td>\n",
       "      <td>NaN</td>\n",
       "    </tr>\n",
       "    <tr>\n",
       "      <th>95</th>\n",
       "      <td>Halyard Health</td>\n",
       "      <td>Patient Care</td>\n",
       "      <td>Telemetry Unit Pouches</td>\n",
       "      <td>Telemetry Unit Pouch</td>\n",
       "      <td>71825</td>\n",
       "      <td>, UNSPSC Classification:42181719, Natural Rubb...</td>\n",
       "      <td>https://products.halyardhealth.com/infection-p...</td>\n",
       "      <td>NaN</td>\n",
       "      <td>NaN</td>\n",
       "    </tr>\n",
       "    <tr>\n",
       "      <th>96</th>\n",
       "      <td>Halyard Health</td>\n",
       "      <td>Patient Care</td>\n",
       "      <td>Telemetry Unit Pouches</td>\n",
       "      <td>CLEARVIEW* Telemetry Unit Pouch</td>\n",
       "      <td>71900</td>\n",
       "      <td>, UNSPSC Classification:42181719, Natural Rubb...</td>\n",
       "      <td>https://products.halyardhealth.com/infection-p...</td>\n",
       "      <td>NaN</td>\n",
       "      <td>NaN</td>\n",
       "    </tr>\n",
       "    <tr>\n",
       "      <th>97</th>\n",
       "      <td>Halyard Health</td>\n",
       "      <td>Patient Care</td>\n",
       "      <td>Telemetry Unit Pouches</td>\n",
       "      <td>Telemetry Unit Pouch, Hook and Loop</td>\n",
       "      <td>71800</td>\n",
       "      <td>, UNSPSC Classification:42181719, Natural Rubb...</td>\n",
       "      <td>https://products.halyardhealth.com/infection-p...</td>\n",
       "      <td>NaN</td>\n",
       "      <td>NaN</td>\n",
       "    </tr>\n",
       "    <tr>\n",
       "      <th>98</th>\n",
       "      <td>Halyard Health</td>\n",
       "      <td>Facial &amp; Respiratory Protection</td>\n",
       "      <td>Masks &amp; Respirators</td>\n",
       "      <td>FLUIDSHIELD* Level 1 Fog-Free Procedure Mask w...</td>\n",
       "      <td>41802</td>\n",
       "      <td>Style:Pleat, SPLASH RESISTANCE (80,120,160):80...</td>\n",
       "      <td>https://products.halyardhealth.com/infection-p...</td>\n",
       "      <td>NaN</td>\n",
       "      <td>NaN</td>\n",
       "    </tr>\n",
       "    <tr>\n",
       "      <th>99</th>\n",
       "      <td>Halyard Health</td>\n",
       "      <td>Facial &amp; Respiratory Protection</td>\n",
       "      <td>Masks &amp; Respirators</td>\n",
       "      <td>HALYARD* Blue Level 1 Surgical Mask with Horiz...</td>\n",
       "      <td>47570</td>\n",
       "      <td>Color:Blue, Brand:HALYARD*, Sterile:No, Level ...</td>\n",
       "      <td>https://products.halyardhealth.com/infection-p...</td>\n",
       "      <td>NaN</td>\n",
       "      <td>NaN</td>\n",
       "    </tr>\n",
       "    <tr>\n",
       "      <th>100</th>\n",
       "      <td>Halyard Health</td>\n",
       "      <td>Facial &amp; Respiratory Protection</td>\n",
       "      <td>Masks &amp; Respirators</td>\n",
       "      <td>HALYARD* Aqua Level 3 Anti-fog Procedure Mask ...</td>\n",
       "      <td>47569</td>\n",
       "      <td>Color:Blue, Brand:HALYARD*, Sterile:No, Level ...</td>\n",
       "      <td>https://products.halyardhealth.com/infection-p...</td>\n",
       "      <td>NaN</td>\n",
       "      <td>NaN</td>\n",
       "    </tr>\n",
       "    <tr>\n",
       "      <th>101</th>\n",
       "      <td>Halyard Health</td>\n",
       "      <td>Facial &amp; Respiratory Protection</td>\n",
       "      <td>Masks &amp; Respirators</td>\n",
       "      <td>HALYARD* Level 1 Surgical Mask with Expanded C...</td>\n",
       "      <td>47571</td>\n",
       "      <td>Color:Blue, Brand:HALYARD*, Sterile:No, Level ...</td>\n",
       "      <td>https://products.halyardhealth.com/infection-p...</td>\n",
       "      <td>NaN</td>\n",
       "      <td>NaN</td>\n",
       "    </tr>\n",
       "    <tr>\n",
       "      <th>102</th>\n",
       "      <td>Halyard Health</td>\n",
       "      <td>Facial &amp; Respiratory Protection</td>\n",
       "      <td>Masks &amp; Respirators</td>\n",
       "      <td>HALYARD* Blue Level 2 Procedure Mask with Earl...</td>\n",
       "      <td>47573</td>\n",
       "      <td>Color:Blue, Brand:HALYARD*, Sterile:No, Level ...</td>\n",
       "      <td>https://products.halyardhealth.com/infection-p...</td>\n",
       "      <td>NaN</td>\n",
       "      <td>NaN</td>\n",
       "    </tr>\n",
       "    <tr>\n",
       "      <th>103</th>\n",
       "      <td>Halyard Health</td>\n",
       "      <td>Facial &amp; Respiratory Protection</td>\n",
       "      <td>Masks &amp; Respirators</td>\n",
       "      <td>HALYARD* Level 1 Procedure Mask with Longer Ea...</td>\n",
       "      <td>47576</td>\n",
       "      <td>Color:Yellow, Brand:HALYARD*, Sterile:No, Leve...</td>\n",
       "      <td>https://products.halyardhealth.com/infection-p...</td>\n",
       "      <td>NaN</td>\n",
       "      <td>NaN</td>\n",
       "    </tr>\n",
       "    <tr>\n",
       "      <th>104</th>\n",
       "      <td>Halyard Health</td>\n",
       "      <td>Facial &amp; Respiratory Protection</td>\n",
       "      <td>Masks &amp; Respirators</td>\n",
       "      <td>HALYARD* Level 1 Procedure Mask with Longer Ea...</td>\n",
       "      <td>47577</td>\n",
       "      <td>Color:Blue, Brand:HALYARD*, Sterile:No, Level ...</td>\n",
       "      <td>https://products.halyardhealth.com/infection-p...</td>\n",
       "      <td>NaN</td>\n",
       "      <td>NaN</td>\n",
       "    </tr>\n",
       "    <tr>\n",
       "      <th>105</th>\n",
       "      <td>Halyard Health</td>\n",
       "      <td>Facial &amp; Respiratory Protection</td>\n",
       "      <td>Masks &amp; Respirators</td>\n",
       "      <td>HALYARD* Aqua Level 3 Surgical Mask</td>\n",
       "      <td>47574</td>\n",
       "      <td>Fog Resistance:N/A, Brand:HALYARD*, Sterile:No...</td>\n",
       "      <td>https://products.halyardhealth.com/infection-p...</td>\n",
       "      <td>NaN</td>\n",
       "      <td>NaN</td>\n",
       "    </tr>\n",
       "    <tr>\n",
       "      <th>106</th>\n",
       "      <td>Halyard Health</td>\n",
       "      <td>Facial &amp; Respiratory Protection</td>\n",
       "      <td>Masks &amp; Respirators</td>\n",
       "      <td>HALYARD* Aqua Level 3 Surgical Mask</td>\n",
       "      <td>47575</td>\n",
       "      <td>Fog Resistance:Fog-Free with Foam Strip, Brand...</td>\n",
       "      <td>https://products.halyardhealth.com/infection-p...</td>\n",
       "      <td>NaN</td>\n",
       "      <td>NaN</td>\n",
       "    </tr>\n",
       "    <tr>\n",
       "      <th>107</th>\n",
       "      <td>Halyard Health</td>\n",
       "      <td>Facial &amp; Respiratory Protection</td>\n",
       "      <td>Masks &amp; Respirators</td>\n",
       "      <td>HALYARD* Level 1 Sugical Mask</td>\n",
       "      <td>47572</td>\n",
       "      <td>Color:Blue, Brand:HALYARD*, Sterile:No, Level ...</td>\n",
       "      <td>https://products.halyardhealth.com/infection-p...</td>\n",
       "      <td>NaN</td>\n",
       "      <td>NaN</td>\n",
       "    </tr>\n",
       "    <tr>\n",
       "      <th>108</th>\n",
       "      <td>Halyard Health</td>\n",
       "      <td>Facial &amp; Respiratory Protection</td>\n",
       "      <td>Masks &amp; Respirators</td>\n",
       "      <td>HALYARD* Level 1 Sugical Mask</td>\n",
       "      <td>47578</td>\n",
       "      <td>Color:White, Brand:HALYARD*, Sterile:No, Level...</td>\n",
       "      <td>https://products.halyardhealth.com/infection-p...</td>\n",
       "      <td>NaN</td>\n",
       "      <td>NaN</td>\n",
       "    </tr>\n",
       "    <tr>\n",
       "      <th>109</th>\n",
       "      <td>Halyard Health</td>\n",
       "      <td>Facial &amp; Respiratory Protection</td>\n",
       "      <td>Masks &amp; Respirators</td>\n",
       "      <td>HALYARD* Level 1 Procedure Mask</td>\n",
       "      <td>47566</td>\n",
       "      <td>Color:White, Brand:HALYARD*, Sterile:No, Level...</td>\n",
       "      <td>https://products.halyardhealth.com/infection-p...</td>\n",
       "      <td>NaN</td>\n",
       "      <td>NaN</td>\n",
       "    </tr>\n",
       "    <tr>\n",
       "      <th>110</th>\n",
       "      <td>Halyard Health</td>\n",
       "      <td>Facial &amp; Respiratory Protection</td>\n",
       "      <td>Masks &amp; Respirators</td>\n",
       "      <td>HALYARD* Level 1 Procedure Mask</td>\n",
       "      <td>47567</td>\n",
       "      <td>Color:Yellow, Brand:HALYARD*, Sterile:No, Leve...</td>\n",
       "      <td>https://products.halyardhealth.com/infection-p...</td>\n",
       "      <td>NaN</td>\n",
       "      <td>NaN</td>\n",
       "    </tr>\n",
       "    <tr>\n",
       "      <th>111</th>\n",
       "      <td>Halyard Health</td>\n",
       "      <td>Facial &amp; Respiratory Protection</td>\n",
       "      <td>Masks &amp; Respirators</td>\n",
       "      <td>HALYARD* Level 1 Procedure Mask</td>\n",
       "      <td>47568</td>\n",
       "      <td>Color:Blue, Brand:HALYARD*, Sterile:No, Level ...</td>\n",
       "      <td>https://products.halyardhealth.com/infection-p...</td>\n",
       "      <td>NaN</td>\n",
       "      <td>NaN</td>\n",
       "    </tr>\n",
       "    <tr>\n",
       "      <th>112</th>\n",
       "      <td>Halyard Health</td>\n",
       "      <td>Facial &amp; Respiratory Protection</td>\n",
       "      <td>Masks &amp; Respirators</td>\n",
       "      <td>FLUIDSHIELD* Level 1 Anti-Fog Surgical Mask wi...</td>\n",
       "      <td>39125</td>\n",
       "      <td>Color:Green, STRIKE THROUGH ASTM (80,120,160):...</td>\n",
       "      <td>https://products.halyardhealth.com/infection-p...</td>\n",
       "      <td>NaN</td>\n",
       "      <td>NaN</td>\n",
       "    </tr>\n",
       "    <tr>\n",
       "      <th>113</th>\n",
       "      <td>Halyard Health</td>\n",
       "      <td>Facial &amp; Respiratory Protection</td>\n",
       "      <td>Masks &amp; Respirators</td>\n",
       "      <td>FLUIDSHIELD* Level 1 Surgical Mask with SO SOF...</td>\n",
       "      <td>39117</td>\n",
       "      <td>FLUIDSHIELD* :Yes, SO SOFT* Lining:Yes, Protec...</td>\n",
       "      <td>https://products.halyardhealth.com/infection-p...</td>\n",
       "      <td>NaN</td>\n",
       "      <td>NaN</td>\n",
       "    </tr>\n",
       "    <tr>\n",
       "      <th>114</th>\n",
       "      <td>Halyard Health</td>\n",
       "      <td>Facial &amp; Respiratory Protection</td>\n",
       "      <td>Masks &amp; Respirators</td>\n",
       "      <td>FLUIDSHIELD* Level 1 Surgical Mask with SO SOF...</td>\n",
       "      <td>39118</td>\n",
       "      <td>FLUIDSHIELD* :Yes, SO SOFT* Lining:Yes, Protec...</td>\n",
       "      <td>https://products.halyardhealth.com/infection-p...</td>\n",
       "      <td>NaN</td>\n",
       "      <td>NaN</td>\n",
       "    </tr>\n",
       "    <tr>\n",
       "      <th>115</th>\n",
       "      <td>Halyard Health</td>\n",
       "      <td>Facial &amp; Respiratory Protection</td>\n",
       "      <td>Masks &amp; Respirators</td>\n",
       "      <td>FLUIDSHIELD* Level 2 Expanded Chamber Surgical...</td>\n",
       "      <td>39123</td>\n",
       "      <td>, Brand:FLUIDSHIELD*, Sterile:No, Color:Blue a...</td>\n",
       "      <td>https://products.halyardhealth.com/infection-p...</td>\n",
       "      <td>NaN</td>\n",
       "      <td>NaN</td>\n",
       "    </tr>\n",
       "    <tr>\n",
       "      <th>116</th>\n",
       "      <td>Halyard Health</td>\n",
       "      <td>Facial &amp; Respiratory Protection</td>\n",
       "      <td>Masks &amp; Respirators</td>\n",
       "      <td>FLUIDSHIELD* Level 3 Fog-Free Procedure Mask w...</td>\n",
       "      <td>47137</td>\n",
       "      <td>, Brand:FLUIDSHIELD* Level 3, UNSPSC Classific...</td>\n",
       "      <td>https://products.halyardhealth.com/infection-p...</td>\n",
       "      <td>NaN</td>\n",
       "      <td>NaN</td>\n",
       "    </tr>\n",
       "    <tr>\n",
       "      <th>117</th>\n",
       "      <td>Halyard Health</td>\n",
       "      <td>Facial &amp; Respiratory Protection</td>\n",
       "      <td>Masks &amp; Respirators</td>\n",
       "      <td>FLUIDSHIELD* Level 3 Fog-Free Procedure Mask, ...</td>\n",
       "      <td>47298</td>\n",
       "      <td>Color:White with Pink &amp; Blue Teddy Bears, Bran...</td>\n",
       "      <td>https://products.halyardhealth.com/infection-p...</td>\n",
       "      <td>NaN</td>\n",
       "      <td>NaN</td>\n",
       "    </tr>\n",
       "    <tr>\n",
       "      <th>118</th>\n",
       "      <td>Halyard Health</td>\n",
       "      <td>Facial &amp; Respiratory Protection</td>\n",
       "      <td>Masks &amp; Respirators</td>\n",
       "      <td>FLUIDSHIELD* Level 3 Fog-Free Procedure Mask, ...</td>\n",
       "      <td>00146</td>\n",
       "      <td>Color:Blue, Brand:FLUIDSHIELD* Level 3, UNSPSC...</td>\n",
       "      <td>https://products.halyardhealth.com/infection-p...</td>\n",
       "      <td>NaN</td>\n",
       "      <td>NaN</td>\n",
       "    </tr>\n",
       "    <tr>\n",
       "      <th>119</th>\n",
       "      <td>Halyard Health</td>\n",
       "      <td>Facial &amp; Respiratory Protection</td>\n",
       "      <td>Masks &amp; Respirators</td>\n",
       "      <td>FLUIDSHIELD* Level 3 Fog-Free Procedure Mask, ...</td>\n",
       "      <td>47147</td>\n",
       "      <td>Color:Orange, Brand:FLUIDSHIELD* Level 3, UNSP...</td>\n",
       "      <td>https://products.halyardhealth.com/infection-p...</td>\n",
       "      <td>NaN</td>\n",
       "      <td>NaN</td>\n",
       "    </tr>\n",
       "    <tr>\n",
       "      <th>120</th>\n",
       "      <td>Halyard Health</td>\n",
       "      <td>Facial &amp; Respiratory Protection</td>\n",
       "      <td>Masks &amp; Respirators</td>\n",
       "      <td>FLUIDSHIELD* Level 3 Fog-Free Procedure Mask, ...</td>\n",
       "      <td>47149</td>\n",
       "      <td>Color:Green, Brand:FLUIDSHIELD* Level 3, UNSPS...</td>\n",
       "      <td>https://products.halyardhealth.com/infection-p...</td>\n",
       "      <td>NaN</td>\n",
       "      <td>NaN</td>\n",
       "    </tr>\n",
       "    <tr>\n",
       "      <th>121</th>\n",
       "      <td>Halyard Health</td>\n",
       "      <td>Facial &amp; Respiratory Protection</td>\n",
       "      <td>Masks &amp; Respirators</td>\n",
       "      <td>FLUIDSHIELD* Level 3 Fog-Free Procedure Mask, ...</td>\n",
       "      <td>28800</td>\n",
       "      <td>Color:Orange, Brand:FLUIDSHIELD* Level 3, UNSP...</td>\n",
       "      <td>https://products.halyardhealth.com/infection-p...</td>\n",
       "      <td>NaN</td>\n",
       "      <td>NaN</td>\n",
       "    </tr>\n",
       "    <tr>\n",
       "      <th>122</th>\n",
       "      <td>Halyard Health</td>\n",
       "      <td>Facial &amp; Respiratory Protection</td>\n",
       "      <td>Masks &amp; Respirators</td>\n",
       "      <td>FLUIDSHIELD* Level 3 Fog-Free Procedure Mask</td>\n",
       "      <td>28797</td>\n",
       "      <td>Color:Orange, SO SOFT* Lining:No, UK SKU:P2879...</td>\n",
       "      <td>https://products.halyardhealth.com/infection-p...</td>\n",
       "      <td>NaN</td>\n",
       "      <td>NaN</td>\n",
       "    </tr>\n",
       "    <tr>\n",
       "      <th>123</th>\n",
       "      <td>Halyard Health</td>\n",
       "      <td>Facial &amp; Respiratory Protection</td>\n",
       "      <td>Masks &amp; Respirators</td>\n",
       "      <td>FLUIDSHIELD* Level 3 Fog-Free Procedure Mask</td>\n",
       "      <td>00148</td>\n",
       "      <td>Color:Blue, SO SOFT* Lining:Yes, Fog Resistanc...</td>\n",
       "      <td>https://products.halyardhealth.com/infection-p...</td>\n",
       "      <td>NaN</td>\n",
       "      <td>NaN</td>\n",
       "    </tr>\n",
       "    <tr>\n",
       "      <th>124</th>\n",
       "      <td>Halyard Health</td>\n",
       "      <td>Facial &amp; Respiratory Protection</td>\n",
       "      <td>Masks &amp; Respirators</td>\n",
       "      <td>FLUIDSHIELD* Level 3 Fog-Free Procedure Mask</td>\n",
       "      <td>47297</td>\n",
       "      <td>Color:White with Pink &amp; Blue Teddy Bears, SO S...</td>\n",
       "      <td>https://products.halyardhealth.com/infection-p...</td>\n",
       "      <td>NaN</td>\n",
       "      <td>NaN</td>\n",
       "    </tr>\n",
       "    <tr>\n",
       "      <th>125</th>\n",
       "      <td>Halyard Health</td>\n",
       "      <td>Facial &amp; Respiratory Protection</td>\n",
       "      <td>Masks &amp; Respirators</td>\n",
       "      <td>FLUIDSHIELD* Level 3 Fog-Free Procedure Mask</td>\n",
       "      <td>47107</td>\n",
       "      <td>Color:Orange, SO SOFT* Lining:Yes, UK SKU:P471...</td>\n",
       "      <td>https://products.halyardhealth.com/infection-p...</td>\n",
       "      <td>NaN</td>\n",
       "      <td>NaN</td>\n",
       "    </tr>\n",
       "    <tr>\n",
       "      <th>126</th>\n",
       "      <td>Halyard Health</td>\n",
       "      <td>Facial &amp; Respiratory Protection</td>\n",
       "      <td>Masks &amp; Respirators</td>\n",
       "      <td>FLUIDSHIELD* Level 2 Fog-Free Procedure Mask, ...</td>\n",
       "      <td>28821</td>\n",
       "      <td>Level of Protection:Level 2, FLUIDSHIELD* :N/A...</td>\n",
       "      <td>https://products.halyardhealth.com/infection-p...</td>\n",
       "      <td>NaN</td>\n",
       "      <td>NaN</td>\n",
       "    </tr>\n",
       "    <tr>\n",
       "      <th>127</th>\n",
       "      <td>Halyard Health</td>\n",
       "      <td>Facial &amp; Respiratory Protection</td>\n",
       "      <td>Masks &amp; Respirators</td>\n",
       "      <td>FLUIDSHIELD* Level 2 Fog-Free Procedure Mask, ...</td>\n",
       "      <td>62116</td>\n",
       "      <td>, Brand:FLUIDSHIELD* Level 2, UNSPSC Classific...</td>\n",
       "      <td>https://products.halyardhealth.com/infection-p...</td>\n",
       "      <td>NaN</td>\n",
       "      <td>NaN</td>\n",
       "    </tr>\n",
       "    <tr>\n",
       "      <th>128</th>\n",
       "      <td>Halyard Health</td>\n",
       "      <td>Facial &amp; Respiratory Protection</td>\n",
       "      <td>Masks &amp; Respirators</td>\n",
       "      <td>FLUIDSHIELD* Level 2 Procedure Mask</td>\n",
       "      <td>28810</td>\n",
       "      <td>PFE (.1):99.1%, BFE (3):99.9%, UK SKU:P2881002...</td>\n",
       "      <td>https://products.halyardhealth.com/infection-p...</td>\n",
       "      <td>NaN</td>\n",
       "      <td>NaN</td>\n",
       "    </tr>\n",
       "    <tr>\n",
       "      <th>129</th>\n",
       "      <td>Halyard Health</td>\n",
       "      <td>Facial &amp; Respiratory Protection</td>\n",
       "      <td>Masks &amp; Respirators</td>\n",
       "      <td>FLUIDSHIELD* Level 2 Procedure Mask</td>\n",
       "      <td>62115</td>\n",
       "      <td>PFE (.1):≥ 98%, BFE (3):≥ 98%, Brand:FLUIDSHIE...</td>\n",
       "      <td>https://products.halyardhealth.com/infection-p...</td>\n",
       "      <td>NaN</td>\n",
       "      <td>NaN</td>\n",
       "    </tr>\n",
       "    <tr>\n",
       "      <th>130</th>\n",
       "      <td>Halyard Health</td>\n",
       "      <td>Facial &amp; Respiratory Protection</td>\n",
       "      <td>Masks &amp; Respirators</td>\n",
       "      <td>Standard Cone Mask with Headband, Blue</td>\n",
       "      <td>00152</td>\n",
       "      <td>, Brand:HALYARD*, UNSPSC Classification:421316...</td>\n",
       "      <td>https://products.halyardhealth.com/infection-p...</td>\n",
       "      <td>NaN</td>\n",
       "      <td>NaN</td>\n",
       "    </tr>\n",
       "    <tr>\n",
       "      <th>131</th>\n",
       "      <td>Halyard Health</td>\n",
       "      <td>Facial &amp; Respiratory Protection</td>\n",
       "      <td>Masks &amp; Respirators</td>\n",
       "      <td>Pouch Style Mask with SO SOFT* Lining</td>\n",
       "      <td>47717</td>\n",
       "      <td>Color:Yellow, Brand:HALYARD*, UNSPSC Classific...</td>\n",
       "      <td>https://products.halyardhealth.com/infection-p...</td>\n",
       "      <td>NaN</td>\n",
       "      <td>NaN</td>\n",
       "    </tr>\n",
       "    <tr>\n",
       "      <th>132</th>\n",
       "      <td>Halyard Health</td>\n",
       "      <td>Facial &amp; Respiratory Protection</td>\n",
       "      <td>Masks &amp; Respirators</td>\n",
       "      <td>Pouch Style Mask with SO SOFT* Lining</td>\n",
       "      <td>47700</td>\n",
       "      <td>Color:Blue, Brand:HALYARD*, UNSPSC Classificat...</td>\n",
       "      <td>https://products.halyardhealth.com/infection-p...</td>\n",
       "      <td>NaN</td>\n",
       "      <td>NaN</td>\n",
       "    </tr>\n",
       "    <tr>\n",
       "      <th>133</th>\n",
       "      <td>Halyard Health</td>\n",
       "      <td>Facial &amp; Respiratory Protection</td>\n",
       "      <td>Masks &amp; Respirators</td>\n",
       "      <td>PFR P1 Filtering Half Mask</td>\n",
       "      <td>62354</td>\n",
       "      <td>, Brand:HALYARD*, UNSPSC Classification:421316...</td>\n",
       "      <td>https://products.halyardhealth.com/infection-p...</td>\n",
       "      <td>NaN</td>\n",
       "      <td>NaN</td>\n",
       "    </tr>\n",
       "    <tr>\n",
       "      <th>134</th>\n",
       "      <td>Halyard Health</td>\n",
       "      <td>Facial &amp; Respiratory Protection</td>\n",
       "      <td>Masks &amp; Respirators</td>\n",
       "      <td>FLUIDSHIELD* Level 1 Procedure Mask</td>\n",
       "      <td>25867</td>\n",
       "      <td>Level of Protection:Level 1, Color:Yellow, UK ...</td>\n",
       "      <td>https://products.halyardhealth.com/infection-p...</td>\n",
       "      <td>NaN</td>\n",
       "      <td>NaN</td>\n",
       "    </tr>\n",
       "    <tr>\n",
       "      <th>135</th>\n",
       "      <td>Halyard Health</td>\n",
       "      <td>Facial &amp; Respiratory Protection</td>\n",
       "      <td>Masks &amp; Respirators</td>\n",
       "      <td>FLUIDSHIELD* Level 1 Procedure Mask</td>\n",
       "      <td>25868</td>\n",
       "      <td>Level of Protection:Level 1, Color:Lavender, S...</td>\n",
       "      <td>https://products.halyardhealth.com/infection-p...</td>\n",
       "      <td>NaN</td>\n",
       "      <td>NaN</td>\n",
       "    </tr>\n",
       "    <tr>\n",
       "      <th>136</th>\n",
       "      <td>Halyard Health</td>\n",
       "      <td>Facial &amp; Respiratory Protection</td>\n",
       "      <td>Masks &amp; Respirators</td>\n",
       "      <td>FLUIDSHIELD* Level 1 Procedure Mask</td>\n",
       "      <td>25869</td>\n",
       "      <td>Level of Protection:Level 1, Color:Blue, UK SK...</td>\n",
       "      <td>https://products.halyardhealth.com/infection-p...</td>\n",
       "      <td>NaN</td>\n",
       "      <td>NaN</td>\n",
       "    </tr>\n",
       "    <tr>\n",
       "      <th>137</th>\n",
       "      <td>Halyard Health</td>\n",
       "      <td>Facial &amp; Respiratory Protection</td>\n",
       "      <td>Masks &amp; Respirators</td>\n",
       "      <td>Fog-Free Procedure Mask</td>\n",
       "      <td>62362</td>\n",
       "      <td>Color:Blue, SO SOFT* Lining:No, UK SKU:P623621...</td>\n",
       "      <td>https://products.halyardhealth.com/infection-p...</td>\n",
       "      <td>NaN</td>\n",
       "      <td>NaN</td>\n",
       "    </tr>\n",
       "    <tr>\n",
       "      <th>138</th>\n",
       "      <td>Halyard Health</td>\n",
       "      <td>Facial &amp; Respiratory Protection</td>\n",
       "      <td>Masks &amp; Respirators</td>\n",
       "      <td>Fog-Free Procedure Mask</td>\n",
       "      <td>62363</td>\n",
       "      <td>, Brand:HALYARD*, Sterile:No, Name:Fog-Free Pr...</td>\n",
       "      <td>https://products.halyardhealth.com/infection-p...</td>\n",
       "      <td>NaN</td>\n",
       "      <td>NaN</td>\n",
       "    </tr>\n",
       "    <tr>\n",
       "      <th>139</th>\n",
       "      <td>Halyard Health</td>\n",
       "      <td>Facial &amp; Respiratory Protection</td>\n",
       "      <td>Masks &amp; Respirators</td>\n",
       "      <td>Procedure Mask</td>\n",
       "      <td>47090</td>\n",
       "      <td>Color:White, SO SOFT* Lining:No, UK SKU:P47090...</td>\n",
       "      <td>https://products.halyardhealth.com/infection-p...</td>\n",
       "      <td>NaN</td>\n",
       "      <td>NaN</td>\n",
       "    </tr>\n",
       "    <tr>\n",
       "      <th>140</th>\n",
       "      <td>Halyard Health</td>\n",
       "      <td>Facial &amp; Respiratory Protection</td>\n",
       "      <td>Masks &amp; Respirators</td>\n",
       "      <td>Procedure Mask</td>\n",
       "      <td>47085</td>\n",
       "      <td>Color:Green, SO SOFT* Lining:No, UK SKU:P47085...</td>\n",
       "      <td>https://products.halyardhealth.com/infection-p...</td>\n",
       "      <td>NaN</td>\n",
       "      <td>NaN</td>\n",
       "    </tr>\n",
       "    <tr>\n",
       "      <th>141</th>\n",
       "      <td>Halyard Health</td>\n",
       "      <td>Facial &amp; Respiratory Protection</td>\n",
       "      <td>Masks &amp; Respirators</td>\n",
       "      <td>Procedure Mask</td>\n",
       "      <td>47117</td>\n",
       "      <td>Color:Tissue Yellow, SO SOFT* Lining:No, UK SK...</td>\n",
       "      <td>https://products.halyardhealth.com/infection-p...</td>\n",
       "      <td>NaN</td>\n",
       "      <td>NaN</td>\n",
       "    </tr>\n",
       "    <tr>\n",
       "      <th>142</th>\n",
       "      <td>Halyard Health</td>\n",
       "      <td>Facial &amp; Respiratory Protection</td>\n",
       "      <td>Masks &amp; Respirators</td>\n",
       "      <td>Procedure Mask</td>\n",
       "      <td>47095</td>\n",
       "      <td>Color:Pink, SO SOFT* Lining:No, UK SKU:P470950...</td>\n",
       "      <td>https://products.halyardhealth.com/infection-p...</td>\n",
       "      <td>NaN</td>\n",
       "      <td>NaN</td>\n",
       "    </tr>\n",
       "    <tr>\n",
       "      <th>143</th>\n",
       "      <td>Halyard Health</td>\n",
       "      <td>Facial &amp; Respiratory Protection</td>\n",
       "      <td>Masks &amp; Respirators</td>\n",
       "      <td>Procedure Mask</td>\n",
       "      <td>47295</td>\n",
       "      <td>Color:White with Pink &amp; Blue Teddy Bears, SO S...</td>\n",
       "      <td>https://products.halyardhealth.com/infection-p...</td>\n",
       "      <td>NaN</td>\n",
       "      <td>NaN</td>\n",
       "    </tr>\n",
       "    <tr>\n",
       "      <th>144</th>\n",
       "      <td>Halyard Health</td>\n",
       "      <td>Facial &amp; Respiratory Protection</td>\n",
       "      <td>Masks &amp; Respirators</td>\n",
       "      <td>Procedure Mask</td>\n",
       "      <td>47080</td>\n",
       "      <td>Color:Tissue Blue, SO SOFT* Lining:No, UK SKU:...</td>\n",
       "      <td>https://products.halyardhealth.com/infection-p...</td>\n",
       "      <td>NaN</td>\n",
       "      <td>NaN</td>\n",
       "    </tr>\n",
       "    <tr>\n",
       "      <th>145</th>\n",
       "      <td>Halyard Health</td>\n",
       "      <td>Facial &amp; Respiratory Protection</td>\n",
       "      <td>Masks &amp; Respirators</td>\n",
       "      <td>Procedure Mask</td>\n",
       "      <td>49700</td>\n",
       "      <td>Color:Blue, SO SOFT* Lining:No, UK SKU:P497000...</td>\n",
       "      <td>https://products.halyardhealth.com/infection-p...</td>\n",
       "      <td>NaN</td>\n",
       "      <td>NaN</td>\n",
       "    </tr>\n",
       "    <tr>\n",
       "      <th>146</th>\n",
       "      <td>Halyard Health</td>\n",
       "      <td>Facial &amp; Respiratory Protection</td>\n",
       "      <td>Masks &amp; Respirators</td>\n",
       "      <td>Procedure Mask</td>\n",
       "      <td>47119</td>\n",
       "      <td>Color:Yellow, SO SOFT* Lining:No, PFE (.1):≥ 9...</td>\n",
       "      <td>https://products.halyardhealth.com/infection-p...</td>\n",
       "      <td>NaN</td>\n",
       "      <td>NaN</td>\n",
       "    </tr>\n",
       "    <tr>\n",
       "      <th>147</th>\n",
       "      <td>Halyard Health</td>\n",
       "      <td>Facial &amp; Respiratory Protection</td>\n",
       "      <td>Masks &amp; Respirators</td>\n",
       "      <td>THE LITE ONE* Procedure Mask</td>\n",
       "      <td>62356</td>\n",
       "      <td>Color:Blue, Brand:THE LITE ONE*, UNSPSC Classi...</td>\n",
       "      <td>https://products.halyardhealth.com/infection-p...</td>\n",
       "      <td>NaN</td>\n",
       "      <td>NaN</td>\n",
       "    </tr>\n",
       "    <tr>\n",
       "      <th>148</th>\n",
       "      <td>Halyard Health</td>\n",
       "      <td>Facial &amp; Respiratory Protection</td>\n",
       "      <td>Masks &amp; Respirators</td>\n",
       "      <td>THE LITE ONE* Procedure Mask</td>\n",
       "      <td>62357</td>\n",
       "      <td>Color:Green, Brand:THE LITE ONE*, UNSPSC Class...</td>\n",
       "      <td>https://products.halyardhealth.com/infection-p...</td>\n",
       "      <td>NaN</td>\n",
       "      <td>NaN</td>\n",
       "    </tr>\n",
       "    <tr>\n",
       "      <th>149</th>\n",
       "      <td>Halyard Health</td>\n",
       "      <td>Facial &amp; Respiratory Protection</td>\n",
       "      <td>Masks &amp; Respirators</td>\n",
       "      <td>FLUIDSHIELD* Level 3 Fog-Free Surgical Mask wi...</td>\n",
       "      <td>48247</td>\n",
       "      <td>, Brand:FLUIDSHIELD* Level 3, Color:Orange, Le...</td>\n",
       "      <td>https://products.halyardhealth.com/infection-p...</td>\n",
       "      <td>NaN</td>\n",
       "      <td>NaN</td>\n",
       "    </tr>\n",
       "    <tr>\n",
       "      <th>150</th>\n",
       "      <td>Halyard Health</td>\n",
       "      <td>Facial &amp; Respiratory Protection</td>\n",
       "      <td>Masks &amp; Respirators</td>\n",
       "      <td>FLUIDSHIELD* Level 3 Fog-Free Surgical Mask wi...</td>\n",
       "      <td>48237</td>\n",
       "      <td>, Brand:FLUIDSHIELD* Level 3, UNSPSC Classific...</td>\n",
       "      <td>https://products.halyardhealth.com/infection-p...</td>\n",
       "      <td>NaN</td>\n",
       "      <td>NaN</td>\n",
       "    </tr>\n",
       "    <tr>\n",
       "      <th>151</th>\n",
       "      <td>Halyard Health</td>\n",
       "      <td>Facial &amp; Respiratory Protection</td>\n",
       "      <td>Masks &amp; Respirators</td>\n",
       "      <td>FLUIDSHIELD* Level 3 Fog-Free Surgical Mask</td>\n",
       "      <td>28820</td>\n",
       "      <td>Color:Orange, SO SOFT* Lining:No, UK SKU:P2882...</td>\n",
       "      <td>https://products.halyardhealth.com/infection-p...</td>\n",
       "      <td>NaN</td>\n",
       "      <td>NaN</td>\n",
       "    </tr>\n",
       "    <tr>\n",
       "      <th>152</th>\n",
       "      <td>Halyard Health</td>\n",
       "      <td>Facial &amp; Respiratory Protection</td>\n",
       "      <td>Masks &amp; Respirators</td>\n",
       "      <td>FLUIDSHIELD* Level 3 Fog-Free Surgical Mask</td>\n",
       "      <td>48297</td>\n",
       "      <td>Color:White with Pink &amp; Blue Teddy Bears, SO S...</td>\n",
       "      <td>https://products.halyardhealth.com/infection-p...</td>\n",
       "      <td>NaN</td>\n",
       "      <td>NaN</td>\n",
       "    </tr>\n",
       "    <tr>\n",
       "      <th>153</th>\n",
       "      <td>Halyard Health</td>\n",
       "      <td>Facial &amp; Respiratory Protection</td>\n",
       "      <td>Masks &amp; Respirators</td>\n",
       "      <td>FLUIDSHIELD* Level 3 Fog-Free Surgical Mask</td>\n",
       "      <td>48208</td>\n",
       "      <td>Color:Orange, SO SOFT* Lining:Yes, UK SKU:P482...</td>\n",
       "      <td>https://products.halyardhealth.com/infection-p...</td>\n",
       "      <td>NaN</td>\n",
       "      <td>NaN</td>\n",
       "    </tr>\n",
       "    <tr>\n",
       "      <th>154</th>\n",
       "      <td>Halyard Health</td>\n",
       "      <td>Facial &amp; Respiratory Protection</td>\n",
       "      <td>Masks &amp; Respirators</td>\n",
       "      <td>FLUIDSHIELD* Level 3 Fog-Free Surgical Mask</td>\n",
       "      <td>48207</td>\n",
       "      <td>Color:Orange, SO SOFT* Lining:Yes, UK SKU:P482...</td>\n",
       "      <td>https://products.halyardhealth.com/infection-p...</td>\n",
       "      <td>NaN</td>\n",
       "      <td>NaN</td>\n",
       "    </tr>\n",
       "    <tr>\n",
       "      <th>155</th>\n",
       "      <td>Halyard Health</td>\n",
       "      <td>Facial &amp; Respiratory Protection</td>\n",
       "      <td>Masks &amp; Respirators</td>\n",
       "      <td>FLUIDSHIELD* Level 3 Fog-Free Surgical Mask, W...</td>\n",
       "      <td>48248</td>\n",
       "      <td>Protection Visor Type:Wraparound Visor, PFE (....</td>\n",
       "      <td>https://products.halyardhealth.com/infection-p...</td>\n",
       "      <td>NaN</td>\n",
       "      <td>NaN</td>\n",
       "    </tr>\n",
       "    <tr>\n",
       "      <th>156</th>\n",
       "      <td>Halyard Health</td>\n",
       "      <td>Facial &amp; Respiratory Protection</td>\n",
       "      <td>Masks &amp; Respirators</td>\n",
       "      <td>FLUIDSHIELD* Level 3 Fog-Free Surgical Mask, W...</td>\n",
       "      <td>28804</td>\n",
       "      <td>Protection Visor Type:Wraparound Visor, PFE (....</td>\n",
       "      <td>https://products.halyardhealth.com/infection-p...</td>\n",
       "      <td>NaN</td>\n",
       "      <td>NaN</td>\n",
       "    </tr>\n",
       "    <tr>\n",
       "      <th>157</th>\n",
       "      <td>Halyard Health</td>\n",
       "      <td>Facial &amp; Respiratory Protection</td>\n",
       "      <td>Masks &amp; Respirators</td>\n",
       "      <td>FLUIDSHIELD* Level 3 Duckbill Surgical Mask wi...</td>\n",
       "      <td>49216</td>\n",
       "      <td>, Brand:HALYARD*, UNSPSC Classification:421316...</td>\n",
       "      <td>https://products.halyardhealth.com/infection-p...</td>\n",
       "      <td>NaN</td>\n",
       "      <td>NaN</td>\n",
       "    </tr>\n",
       "    <tr>\n",
       "      <th>158</th>\n",
       "      <td>Halyard Health</td>\n",
       "      <td>Facial &amp; Respiratory Protection</td>\n",
       "      <td>Masks &amp; Respirators</td>\n",
       "      <td>FLUIDSHIELD* Level 3 Duckbill Surgical Mask wi...</td>\n",
       "      <td>37525</td>\n",
       "      <td>Color:Green, Brand:HALYARD*, UNSPSC Classifica...</td>\n",
       "      <td>https://products.halyardhealth.com/infection-p...</td>\n",
       "      <td>NaN</td>\n",
       "      <td>NaN</td>\n",
       "    </tr>\n",
       "    <tr>\n",
       "      <th>159</th>\n",
       "      <td>Halyard Health</td>\n",
       "      <td>Facial &amp; Respiratory Protection</td>\n",
       "      <td>Masks &amp; Respirators</td>\n",
       "      <td>FLUIDSHIELD* Level 3 Duckbill Surgical Mask wi...</td>\n",
       "      <td>48220</td>\n",
       "      <td>Color:Blue, Brand:HALYARD*, UNSPSC Classificat...</td>\n",
       "      <td>https://products.halyardhealth.com/infection-p...</td>\n",
       "      <td>NaN</td>\n",
       "      <td>NaN</td>\n",
       "    </tr>\n",
       "    <tr>\n",
       "      <th>160</th>\n",
       "      <td>Halyard Health</td>\n",
       "      <td>Facial &amp; Respiratory Protection</td>\n",
       "      <td>Masks &amp; Respirators</td>\n",
       "      <td>FLUIDSHIELD* Level 2 Fog-Free Surgical Mask, W...</td>\n",
       "      <td>28809</td>\n",
       "      <td>FLUIDSHIELD* :N/A, DELTA P:4.5, UK SKU:P288090...</td>\n",
       "      <td>https://products.halyardhealth.com/infection-p...</td>\n",
       "      <td>NaN</td>\n",
       "      <td>NaN</td>\n",
       "    </tr>\n",
       "    <tr>\n",
       "      <th>161</th>\n",
       "      <td>Halyard Health</td>\n",
       "      <td>Facial &amp; Respiratory Protection</td>\n",
       "      <td>Masks &amp; Respirators</td>\n",
       "      <td>FLUIDSHIELD* Level 2 Fog-Free Surgical Mask, W...</td>\n",
       "      <td>62114</td>\n",
       "      <td>FLUIDSHIELD* :N/A, BFE (3):≥ 98%, UK SKU:P6211...</td>\n",
       "      <td>https://products.halyardhealth.com/infection-p...</td>\n",
       "      <td>NaN</td>\n",
       "      <td>NaN</td>\n",
       "    </tr>\n",
       "    <tr>\n",
       "      <th>162</th>\n",
       "      <td>Halyard Health</td>\n",
       "      <td>Facial &amp; Respiratory Protection</td>\n",
       "      <td>Masks &amp; Respirators</td>\n",
       "      <td>FLUIDSHIELD* Level 2 Fog-Free Surgical Mask</td>\n",
       "      <td>28808</td>\n",
       "      <td>PFE (.1):99.1%, BFE (3):99.9%, UK SKU:P2880802...</td>\n",
       "      <td>https://products.halyardhealth.com/infection-p...</td>\n",
       "      <td>NaN</td>\n",
       "      <td>NaN</td>\n",
       "    </tr>\n",
       "    <tr>\n",
       "      <th>163</th>\n",
       "      <td>Halyard Health</td>\n",
       "      <td>Facial &amp; Respiratory Protection</td>\n",
       "      <td>Masks &amp; Respirators</td>\n",
       "      <td>FLUIDSHIELD* Level 2 Fog-Free Surgical Mask</td>\n",
       "      <td>62113</td>\n",
       "      <td>PFE (.1):≥ 98%, BFE (3):≥ 98%, Brand:FLUIDSHIE...</td>\n",
       "      <td>https://products.halyardhealth.com/infection-p...</td>\n",
       "      <td>NaN</td>\n",
       "      <td>NaN</td>\n",
       "    </tr>\n",
       "    <tr>\n",
       "      <th>164</th>\n",
       "      <td>Halyard Health</td>\n",
       "      <td>Facial &amp; Respiratory Protection</td>\n",
       "      <td>Masks &amp; Respirators</td>\n",
       "      <td>FLUIDSHIELD* Level 1 Fog-Free Surgical Mask wi...</td>\n",
       "      <td>28806</td>\n",
       "      <td>Level of Protection:Level 1, Color:Green, UK S...</td>\n",
       "      <td>https://products.halyardhealth.com/infection-p...</td>\n",
       "      <td>NaN</td>\n",
       "      <td>NaN</td>\n",
       "    </tr>\n",
       "    <tr>\n",
       "      <th>165</th>\n",
       "      <td>Halyard Health</td>\n",
       "      <td>Facial &amp; Respiratory Protection</td>\n",
       "      <td>Masks &amp; Respirators</td>\n",
       "      <td>FLUIDSHIELD* Level 1 Surgical Mask with SO SOF...</td>\n",
       "      <td>41805</td>\n",
       "      <td>FLUIDSHIELD* :N/A, SPLASH RESISTANCE (80,120,1...</td>\n",
       "      <td>https://products.halyardhealth.com/infection-p...</td>\n",
       "      <td>NaN</td>\n",
       "      <td>NaN</td>\n",
       "    </tr>\n",
       "    <tr>\n",
       "      <th>166</th>\n",
       "      <td>Halyard Health</td>\n",
       "      <td>Facial &amp; Respiratory Protection</td>\n",
       "      <td>Masks &amp; Respirators</td>\n",
       "      <td>Surgical Mask</td>\n",
       "      <td>49701</td>\n",
       "      <td>Color:Blue, PFE (.1):≥ 97%, Brand:HALYARD*, St...</td>\n",
       "      <td>https://products.halyardhealth.com/infection-p...</td>\n",
       "      <td>NaN</td>\n",
       "      <td>NaN</td>\n",
       "    </tr>\n",
       "    <tr>\n",
       "      <th>167</th>\n",
       "      <td>Halyard Health</td>\n",
       "      <td>Facial &amp; Respiratory Protection</td>\n",
       "      <td>Masks &amp; Respirators</td>\n",
       "      <td>Surgical Mask</td>\n",
       "      <td>48210</td>\n",
       "      <td>Color:Blue with Heart Symbol, PFE (.1):≥ 98%, ...</td>\n",
       "      <td>https://products.halyardhealth.com/infection-p...</td>\n",
       "      <td>NaN</td>\n",
       "      <td>NaN</td>\n",
       "    </tr>\n",
       "    <tr>\n",
       "      <th>168</th>\n",
       "      <td>Halyard Health</td>\n",
       "      <td>Facial &amp; Respiratory Protection</td>\n",
       "      <td>Masks &amp; Respirators</td>\n",
       "      <td>Surgical Mask</td>\n",
       "      <td>48296</td>\n",
       "      <td>Color:White with Pink &amp; Blue Teddy Bears, PFE ...</td>\n",
       "      <td>https://products.halyardhealth.com/infection-p...</td>\n",
       "      <td>NaN</td>\n",
       "      <td>NaN</td>\n",
       "    </tr>\n",
       "    <tr>\n",
       "      <th>169</th>\n",
       "      <td>Halyard Health</td>\n",
       "      <td>Facial &amp; Respiratory Protection</td>\n",
       "      <td>Masks &amp; Respirators</td>\n",
       "      <td>Surgical Mask</td>\n",
       "      <td>48390</td>\n",
       "      <td>Color:White, PFE (.1):≥ 97%, Brand:HALYARD*, S...</td>\n",
       "      <td>https://products.halyardhealth.com/infection-p...</td>\n",
       "      <td>NaN</td>\n",
       "      <td>NaN</td>\n",
       "    </tr>\n",
       "    <tr>\n",
       "      <th>170</th>\n",
       "      <td>Halyard Health</td>\n",
       "      <td>Facial &amp; Respiratory Protection</td>\n",
       "      <td>Masks &amp; Respirators</td>\n",
       "      <td>Surgical Mask</td>\n",
       "      <td>48201</td>\n",
       "      <td>Color:Blue, PFE (.1):≥ 97%, Brand:HALYARD*, St...</td>\n",
       "      <td>https://products.halyardhealth.com/infection-p...</td>\n",
       "      <td>NaN</td>\n",
       "      <td>NaN</td>\n",
       "    </tr>\n",
       "    <tr>\n",
       "      <th>171</th>\n",
       "      <td>Halyard Health</td>\n",
       "      <td>Facial &amp; Respiratory Protection</td>\n",
       "      <td>Masks &amp; Respirators</td>\n",
       "      <td>THE FRIENDLY* Surgical Mask</td>\n",
       "      <td>59928</td>\n",
       "      <td>, Brand:HALYARD*, Color:White, Name:THE FRIEND...</td>\n",
       "      <td>https://products.halyardhealth.com/infection-p...</td>\n",
       "      <td>NaN</td>\n",
       "      <td>NaN</td>\n",
       "    </tr>\n",
       "    <tr>\n",
       "      <th>172</th>\n",
       "      <td>Halyard Health</td>\n",
       "      <td>Facial &amp; Respiratory Protection</td>\n",
       "      <td>Masks &amp; Respirators</td>\n",
       "      <td>Fog-Free Surgical Mask</td>\n",
       "      <td>49310</td>\n",
       "      <td>Color:White, BFE (3):≥ 98%, Brand:HALYARD*, St...</td>\n",
       "      <td>https://products.halyardhealth.com/infection-p...</td>\n",
       "      <td>NaN</td>\n",
       "      <td>NaN</td>\n",
       "    </tr>\n",
       "    <tr>\n",
       "      <th>173</th>\n",
       "      <td>Halyard Health</td>\n",
       "      <td>Facial &amp; Respiratory Protection</td>\n",
       "      <td>Masks &amp; Respirators</td>\n",
       "      <td>Fog-Free Surgical Mask</td>\n",
       "      <td>49214</td>\n",
       "      <td>Color:Blue, BFE (3):≥ 98%, Brand:HALYARD*, Ste...</td>\n",
       "      <td>https://products.halyardhealth.com/infection-p...</td>\n",
       "      <td>NaN</td>\n",
       "      <td>NaN</td>\n",
       "    </tr>\n",
       "    <tr>\n",
       "      <th>174</th>\n",
       "      <td>Halyard Health</td>\n",
       "      <td>Facial &amp; Respiratory Protection</td>\n",
       "      <td>Masks &amp; Respirators</td>\n",
       "      <td>High Filtration Surgical Mask</td>\n",
       "      <td>47650</td>\n",
       "      <td>Fog Resistance:Fog-Free with Foam Strip, Brand...</td>\n",
       "      <td>https://products.halyardhealth.com/infection-p...</td>\n",
       "      <td>NaN</td>\n",
       "      <td>NaN</td>\n",
       "    </tr>\n",
       "    <tr>\n",
       "      <th>175</th>\n",
       "      <td>Halyard Health</td>\n",
       "      <td>Facial &amp; Respiratory Protection</td>\n",
       "      <td>Masks &amp; Respirators</td>\n",
       "      <td>High Filtration Surgical Mask</td>\n",
       "      <td>47625</td>\n",
       "      <td>Fog Resistance:N/A, Brand:HALYARD*, UNSPSC Cla...</td>\n",
       "      <td>https://products.halyardhealth.com/infection-p...</td>\n",
       "      <td>NaN</td>\n",
       "      <td>NaN</td>\n",
       "    </tr>\n",
       "    <tr>\n",
       "      <th>176</th>\n",
       "      <td>Halyard Health</td>\n",
       "      <td>Facial &amp; Respiratory Protection</td>\n",
       "      <td>Masks &amp; Respirators</td>\n",
       "      <td>HALYARD* Anti-Fog Surgical Mask</td>\n",
       "      <td>49235</td>\n",
       "      <td>Fog Resistance:Anti-Fog with Film Strip, Brand...</td>\n",
       "      <td>https://products.halyardhealth.com/infection-p...</td>\n",
       "      <td>NaN</td>\n",
       "      <td>NaN</td>\n",
       "    </tr>\n",
       "    <tr>\n",
       "      <th>177</th>\n",
       "      <td>Halyard Health</td>\n",
       "      <td>Facial &amp; Respiratory Protection</td>\n",
       "      <td>Masks &amp; Respirators</td>\n",
       "      <td>HALYARD* Anti-Fog Surgical Mask</td>\n",
       "      <td>49215</td>\n",
       "      <td>Fog Resistance:Anti-Fog with Adhesive on Clear...</td>\n",
       "      <td>https://products.halyardhealth.com/infection-p...</td>\n",
       "      <td>NaN</td>\n",
       "      <td>NaN</td>\n",
       "    </tr>\n",
       "    <tr>\n",
       "      <th>178</th>\n",
       "      <td>Halyard Health</td>\n",
       "      <td>Facial &amp; Respiratory Protection</td>\n",
       "      <td>Masks &amp; Respirators</td>\n",
       "      <td>SOFT TOUCH* II Surgical Mask, Horizontal Ties,...</td>\n",
       "      <td>47500</td>\n",
       "      <td>, Brand:HALYARD*, UNSPSC Classification:421316...</td>\n",
       "      <td>https://products.halyardhealth.com/infection-p...</td>\n",
       "      <td>NaN</td>\n",
       "      <td>NaN</td>\n",
       "    </tr>\n",
       "    <tr>\n",
       "      <th>179</th>\n",
       "      <td>Halyard Health</td>\n",
       "      <td>Facial &amp; Respiratory Protection</td>\n",
       "      <td>Masks &amp; Respirators</td>\n",
       "      <td>THE LITE ONE* Surgical Mask</td>\n",
       "      <td>48105</td>\n",
       "      <td>Color:Green, Brand:THE LITE ONE*, UNSPSC Class...</td>\n",
       "      <td>https://products.halyardhealth.com/infection-p...</td>\n",
       "      <td>NaN</td>\n",
       "      <td>NaN</td>\n",
       "    </tr>\n",
       "    <tr>\n",
       "      <th>180</th>\n",
       "      <td>Halyard Health</td>\n",
       "      <td>Facial &amp; Respiratory Protection</td>\n",
       "      <td>Masks &amp; Respirators</td>\n",
       "      <td>THE LITE ONE* Surgical Mask</td>\n",
       "      <td>62367</td>\n",
       "      <td>Color:White, Brand:THE LITE ONE*, UNSPSC Class...</td>\n",
       "      <td>https://products.halyardhealth.com/infection-p...</td>\n",
       "      <td>NaN</td>\n",
       "      <td>NaN</td>\n",
       "    </tr>\n",
       "    <tr>\n",
       "      <th>181</th>\n",
       "      <td>Halyard Health</td>\n",
       "      <td>Facial &amp; Respiratory Protection</td>\n",
       "      <td>Masks &amp; Respirators</td>\n",
       "      <td>THE LITE ONE* Surgical Mask</td>\n",
       "      <td>48100</td>\n",
       "      <td>Color:Blue, Brand:THE LITE ONE*, UNSPSC Classi...</td>\n",
       "      <td>https://products.halyardhealth.com/infection-p...</td>\n",
       "      <td>NaN</td>\n",
       "      <td>NaN</td>\n",
       "    </tr>\n",
       "    <tr>\n",
       "      <th>182</th>\n",
       "      <td>Halyard Health</td>\n",
       "      <td>Facial &amp; Respiratory Protection</td>\n",
       "      <td>Masks &amp; Respirators</td>\n",
       "      <td>N95 Particulate Filter Respirator and Surgical...</td>\n",
       "      <td>62126</td>\n",
       "      <td>Size:Regular, Brand:HALYARD*, UNSPSC Classific...</td>\n",
       "      <td>https://products.halyardhealth.com/infection-p...</td>\n",
       "      <td>NaN</td>\n",
       "      <td>NaN</td>\n",
       "    </tr>\n",
       "    <tr>\n",
       "      <th>183</th>\n",
       "      <td>Halyard Health</td>\n",
       "      <td>Facial &amp; Respiratory Protection</td>\n",
       "      <td>Masks &amp; Respirators</td>\n",
       "      <td>N95 Particulate Filter Respirator and Surgical...</td>\n",
       "      <td>62355</td>\n",
       "      <td>Size:Small, Brand:HALYARD*, UNSPSC Classificat...</td>\n",
       "      <td>https://products.halyardhealth.com/infection-p...</td>\n",
       "      <td>NaN</td>\n",
       "      <td>NaN</td>\n",
       "    </tr>\n",
       "    <tr>\n",
       "      <th>184</th>\n",
       "      <td>Halyard Health</td>\n",
       "      <td>Facial &amp; Respiratory Protection</td>\n",
       "      <td>Masks &amp; Respirators</td>\n",
       "      <td>FLUIDSHIELD* N95 Particulate Filter Respirator...</td>\n",
       "      <td>46828</td>\n",
       "      <td>SAFETY SEAL*:No, Size:Small, Packaging:Individ...</td>\n",
       "      <td>https://products.halyardhealth.com/infection-p...</td>\n",
       "      <td>NaN</td>\n",
       "      <td>NaN</td>\n",
       "    </tr>\n",
       "    <tr>\n",
       "      <th>185</th>\n",
       "      <td>Halyard Health</td>\n",
       "      <td>Facial &amp; Respiratory Protection</td>\n",
       "      <td>Masks &amp; Respirators</td>\n",
       "      <td>FLUIDSHIELD* N95 Particulate Filter Respirator...</td>\n",
       "      <td>46728</td>\n",
       "      <td>SAFETY SEAL*:No, Size:Regular, Packaging:Indiv...</td>\n",
       "      <td>https://products.halyardhealth.com/infection-p...</td>\n",
       "      <td>NaN</td>\n",
       "      <td>NaN</td>\n",
       "    </tr>\n",
       "    <tr>\n",
       "      <th>186</th>\n",
       "      <td>Halyard Health</td>\n",
       "      <td>Facial &amp; Respiratory Protection</td>\n",
       "      <td>Masks &amp; Respirators</td>\n",
       "      <td>FLUIDSHIELD* N95 Particulate Filter Respirator...</td>\n",
       "      <td>46827</td>\n",
       "      <td>SAFETY SEAL*:No, Size:Small, UK SKU:P4682715, ...</td>\n",
       "      <td>https://products.halyardhealth.com/infection-p...</td>\n",
       "      <td>NaN</td>\n",
       "      <td>NaN</td>\n",
       "    </tr>\n",
       "    <tr>\n",
       "      <th>187</th>\n",
       "      <td>Halyard Health</td>\n",
       "      <td>Facial &amp; Respiratory Protection</td>\n",
       "      <td>Masks &amp; Respirators</td>\n",
       "      <td>FLUIDSHIELD* N95 Particulate Filter Respirator...</td>\n",
       "      <td>46727</td>\n",
       "      <td>SAFETY SEAL*:No, Size:Regular, UK SKU:P4672717...</td>\n",
       "      <td>https://products.halyardhealth.com/infection-p...</td>\n",
       "      <td>NaN</td>\n",
       "      <td>NaN</td>\n",
       "    </tr>\n",
       "    <tr>\n",
       "      <th>188</th>\n",
       "      <td>Halyard Health</td>\n",
       "      <td>Facial &amp; Respiratory Protection</td>\n",
       "      <td>Masks &amp; Respirators</td>\n",
       "      <td>FLUIDSHIELD* N95 Particulate Filter Respirator...</td>\n",
       "      <td>46867</td>\n",
       "      <td>SAFETY SEAL*:Yes, Size:Small, Packaging:N/A, D...</td>\n",
       "      <td>https://products.halyardhealth.com/infection-p...</td>\n",
       "      <td>NaN</td>\n",
       "      <td>NaN</td>\n",
       "    </tr>\n",
       "    <tr>\n",
       "      <th>189</th>\n",
       "      <td>Halyard Health</td>\n",
       "      <td>Facial &amp; Respiratory Protection</td>\n",
       "      <td>Masks &amp; Respirators</td>\n",
       "      <td>FLUIDSHIELD* N95 Particulate Filter Respirator...</td>\n",
       "      <td>46767</td>\n",
       "      <td>SAFETY SEAL*:Yes, Size:Regular, Packaging:N/A,...</td>\n",
       "      <td>https://products.halyardhealth.com/infection-p...</td>\n",
       "      <td>NaN</td>\n",
       "      <td>NaN</td>\n",
       "    </tr>\n",
       "    <tr>\n",
       "      <th>190</th>\n",
       "      <td>Halyard Health</td>\n",
       "      <td>Facial &amp; Respiratory Protection</td>\n",
       "      <td>Masks &amp; Respirators</td>\n",
       "      <td>HALYARD* Duckbill Surgical Mask</td>\n",
       "      <td>37525</td>\n",
       "      <td>Color:Green, Brand:HALYARD*, UNSPSC Classifica...</td>\n",
       "      <td>https://products.halyardhealth.com/infection-p...</td>\n",
       "      <td>NaN</td>\n",
       "      <td>NaN</td>\n",
       "    </tr>\n",
       "    <tr>\n",
       "      <th>191</th>\n",
       "      <td>Halyard Health</td>\n",
       "      <td>Facial &amp; Respiratory Protection</td>\n",
       "      <td>Masks &amp; Respirators</td>\n",
       "      <td>HALYARD* Duckbill Surgical Mask</td>\n",
       "      <td>48220</td>\n",
       "      <td>Color:Blue, Brand:HALYARD*, UNSPSC Classificat...</td>\n",
       "      <td>https://products.halyardhealth.com/infection-p...</td>\n",
       "      <td>NaN</td>\n",
       "      <td>NaN</td>\n",
       "    </tr>\n",
       "    <tr>\n",
       "      <th>192</th>\n",
       "      <td>Halyard Health</td>\n",
       "      <td>Facial &amp; Respiratory Protection</td>\n",
       "      <td>Masks &amp; Respirators</td>\n",
       "      <td>HALYARD* Duckbill Fog-Free Surgical Mask</td>\n",
       "      <td>49216</td>\n",
       "      <td>, Brand:HALYARD*, UNSPSC Classification:421316...</td>\n",
       "      <td>https://products.halyardhealth.com/infection-p...</td>\n",
       "      <td>NaN</td>\n",
       "      <td>NaN</td>\n",
       "    </tr>\n",
       "    <tr>\n",
       "      <th>193</th>\n",
       "      <td>Halyard Health</td>\n",
       "      <td>Facial &amp; Respiratory Protection</td>\n",
       "      <td>Masks &amp; Respirators</td>\n",
       "      <td>Child's Face Mask, Disney(R), Ages 4-12</td>\n",
       "      <td>32856</td>\n",
       "      <td>, Brand:HALYARD*, UNSPSC Classification:421316...</td>\n",
       "      <td>https://products.halyardhealth.com/infection-p...</td>\n",
       "      <td>NaN</td>\n",
       "      <td>NaN</td>\n",
       "    </tr>\n",
       "    <tr>\n",
       "      <th>194</th>\n",
       "      <td>Halyard Health</td>\n",
       "      <td>Facial &amp; Respiratory Protection</td>\n",
       "      <td>Protective Eyewear &amp; Face Shields</td>\n",
       "      <td>HALYARD* Face Shield</td>\n",
       "      <td>41204</td>\n",
       "      <td>Face Shield Type:Full-Length Clear Visor, 9.5 ...</td>\n",
       "      <td>https://products.halyardhealth.com/infection-p...</td>\n",
       "      <td>NaN</td>\n",
       "      <td>NaN</td>\n",
       "    </tr>\n",
       "    <tr>\n",
       "      <th>195</th>\n",
       "      <td>Halyard Health</td>\n",
       "      <td>Facial &amp; Respiratory Protection</td>\n",
       "      <td>Protective Eyewear &amp; Face Shields</td>\n",
       "      <td>HALYARD* Face Shield</td>\n",
       "      <td>41205</td>\n",
       "      <td>Face Shield Type:Three-Quarter Length Clear Vi...</td>\n",
       "      <td>https://products.halyardhealth.com/infection-p...</td>\n",
       "      <td>NaN</td>\n",
       "      <td>NaN</td>\n",
       "    </tr>\n",
       "    <tr>\n",
       "      <th>196</th>\n",
       "      <td>Halyard Health</td>\n",
       "      <td>Facial &amp; Respiratory Protection</td>\n",
       "      <td>Protective Eyewear &amp; Face Shields</td>\n",
       "      <td>SAFEVIEW* Eyewear Assembled Glasses, Assorted ...</td>\n",
       "      <td>SV50A</td>\n",
       "      <td>, Brand:SAFEVIEW*, UNSPSC Classification:42131...</td>\n",
       "      <td>https://products.halyardhealth.com/infection-p...</td>\n",
       "      <td>NaN</td>\n",
       "      <td>NaN</td>\n",
       "    </tr>\n",
       "    <tr>\n",
       "      <th>197</th>\n",
       "      <td>Halyard Health</td>\n",
       "      <td>Facial &amp; Respiratory Protection</td>\n",
       "      <td>Protective Eyewear &amp; Face Shields</td>\n",
       "      <td>SAFEVIEW* Eyewear Frames, Assorted Colors</td>\n",
       "      <td>SV100F</td>\n",
       "      <td>, Brand:SAFEVIEW*, UNSPSC Classification:42131...</td>\n",
       "      <td>https://products.halyardhealth.com/infection-p...</td>\n",
       "      <td>NaN</td>\n",
       "      <td>NaN</td>\n",
       "    </tr>\n",
       "    <tr>\n",
       "      <th>198</th>\n",
       "      <td>Halyard Health</td>\n",
       "      <td>Facial &amp; Respiratory Protection</td>\n",
       "      <td>Protective Eyewear &amp; Face Shields</td>\n",
       "      <td>SAFEVIEW* Eyewear Replacement Lenses</td>\n",
       "      <td>SV250L</td>\n",
       "      <td>, Brand:SAFEVIEW*, UNSPSC Classification:42131...</td>\n",
       "      <td>https://products.halyardhealth.com/infection-p...</td>\n",
       "      <td>NaN</td>\n",
       "      <td>NaN</td>\n",
       "    </tr>\n",
       "    <tr>\n",
       "      <th>199</th>\n",
       "      <td>Halyard Health</td>\n",
       "      <td>Facial &amp; Respiratory Protection</td>\n",
       "      <td>Protective Eyewear &amp; Face Shields</td>\n",
       "      <td>FLUIDSHIELD* Level 2 Expanded Chamber Surgical...</td>\n",
       "      <td>39124</td>\n",
       "      <td>, Brand:FLUIDSHIELD*, Sterile:No, Color:Blue a...</td>\n",
       "      <td>https://products.halyardhealth.com/infection-p...</td>\n",
       "      <td>NaN</td>\n",
       "      <td>NaN</td>\n",
       "    </tr>\n",
       "    <tr>\n",
       "      <th>200</th>\n",
       "      <td>Halyard Health</td>\n",
       "      <td>Facial &amp; Respiratory Protection</td>\n",
       "      <td>Qualitative Fit Test &amp; Accessories</td>\n",
       "      <td>FLUIDSHIELD* Ported N95 Particulate Filter Res...</td>\n",
       "      <td>99181</td>\n",
       "      <td>SAFETY SEAL*:No, Size:Small, Brand:FLUIDSHIELD...</td>\n",
       "      <td>https://products.halyardhealth.com/infection-p...</td>\n",
       "      <td>NaN</td>\n",
       "      <td>NaN</td>\n",
       "    </tr>\n",
       "    <tr>\n",
       "      <th>201</th>\n",
       "      <td>Halyard Health</td>\n",
       "      <td>Facial &amp; Respiratory Protection</td>\n",
       "      <td>Qualitative Fit Test &amp; Accessories</td>\n",
       "      <td>FLUIDSHIELD* Ported N95 Particulate Filter Res...</td>\n",
       "      <td>99175</td>\n",
       "      <td>SAFETY SEAL*:No, Size:Regular, Brand:FLUIDSHIE...</td>\n",
       "      <td>https://products.halyardhealth.com/infection-p...</td>\n",
       "      <td>NaN</td>\n",
       "      <td>NaN</td>\n",
       "    </tr>\n",
       "    <tr>\n",
       "      <th>202</th>\n",
       "      <td>Halyard Health</td>\n",
       "      <td>Facial &amp; Respiratory Protection</td>\n",
       "      <td>Qualitative Fit Test &amp; Accessories</td>\n",
       "      <td>FLUIDSHIELD* Ported N95 Particulate Filter Res...</td>\n",
       "      <td>99184</td>\n",
       "      <td>SAFETY SEAL*:Yes, Size:Small, Brand:FLUIDSHIEL...</td>\n",
       "      <td>https://products.halyardhealth.com/infection-p...</td>\n",
       "      <td>NaN</td>\n",
       "      <td>NaN</td>\n",
       "    </tr>\n",
       "    <tr>\n",
       "      <th>203</th>\n",
       "      <td>Halyard Health</td>\n",
       "      <td>Facial &amp; Respiratory Protection</td>\n",
       "      <td>Qualitative Fit Test &amp; Accessories</td>\n",
       "      <td>FLUIDSHIELD* Ported N95 Particulate Filter Res...</td>\n",
       "      <td>99178</td>\n",
       "      <td>SAFETY SEAL*:Yes, Size:Regular, Brand:FLUIDSHI...</td>\n",
       "      <td>https://products.halyardhealth.com/infection-p...</td>\n",
       "      <td>NaN</td>\n",
       "      <td>NaN</td>\n",
       "    </tr>\n",
       "    <tr>\n",
       "      <th>204</th>\n",
       "      <td>Halyard Health</td>\n",
       "      <td>Facial &amp; Respiratory Protection</td>\n",
       "      <td>Qualitative Fit Test &amp; Accessories</td>\n",
       "      <td>Qualitative Fit Test Kit</td>\n",
       "      <td>47950</td>\n",
       "      <td>, Brand:HALYARD*, UNSPSC Classification:421316...</td>\n",
       "      <td>https://products.halyardhealth.com/infection-p...</td>\n",
       "      <td>NaN</td>\n",
       "      <td>NaN</td>\n",
       "    </tr>\n",
       "    <tr>\n",
       "      <th>205</th>\n",
       "      <td>Halyard Health</td>\n",
       "      <td>Facial &amp; Respiratory Protection</td>\n",
       "      <td>Qualitative Fit Test &amp; Accessories</td>\n",
       "      <td>Saccharin Solution</td>\n",
       "      <td>99003</td>\n",
       "      <td>, Brand:HALYARD*, UNSPSC Classification:421316...</td>\n",
       "      <td>https://products.halyardhealth.com/infection-p...</td>\n",
       "      <td>NaN</td>\n",
       "      <td>NaN</td>\n",
       "    </tr>\n",
       "    <tr>\n",
       "      <th>206</th>\n",
       "      <td>Halyard Health</td>\n",
       "      <td>Facial &amp; Respiratory Protection</td>\n",
       "      <td>Qualitative Fit Test &amp; Accessories</td>\n",
       "      <td>Bitrex Solution</td>\n",
       "      <td>99009</td>\n",
       "      <td>, Brand:HALYARD*, UNSPSC Classification:421316...</td>\n",
       "      <td>https://products.halyardhealth.com/infection-p...</td>\n",
       "      <td>NaN</td>\n",
       "      <td>NaN</td>\n",
       "    </tr>\n",
       "    <tr>\n",
       "      <th>207</th>\n",
       "      <td>Halyard Health</td>\n",
       "      <td>Facial &amp; Respiratory Protection</td>\n",
       "      <td>Qualitative Fit Test &amp; Accessories</td>\n",
       "      <td>Nebulizer</td>\n",
       "      <td>99018</td>\n",
       "      <td>, Brand:HALYARD*, UNSPSC Classification:421316...</td>\n",
       "      <td>https://products.halyardhealth.com/infection-p...</td>\n",
       "      <td>NaN</td>\n",
       "      <td>NaN</td>\n",
       "    </tr>\n",
       "    <tr>\n",
       "      <th>208</th>\n",
       "      <td>Halyard Health</td>\n",
       "      <td>Facial &amp; Respiratory Protection</td>\n",
       "      <td>Qualitative Fit Test &amp; Accessories</td>\n",
       "      <td>Hood Assembly</td>\n",
       "      <td>99010</td>\n",
       "      <td>, Brand:HALYARD*, UNSPSC Classification:421316...</td>\n",
       "      <td>https://products.halyardhealth.com/infection-p...</td>\n",
       "      <td>NaN</td>\n",
       "      <td>NaN</td>\n",
       "    </tr>\n",
       "    <tr>\n",
       "      <th>209</th>\n",
       "      <td>Halyard Health</td>\n",
       "      <td>Facial &amp; Respiratory Protection</td>\n",
       "      <td>Qualitative Fit Test &amp; Accessories</td>\n",
       "      <td>Hood Assembly</td>\n",
       "      <td>99015</td>\n",
       "      <td>, Brand:HALYARD*, UNSPSC Classification:421316...</td>\n",
       "      <td>https://products.halyardhealth.com/infection-p...</td>\n",
       "      <td>NaN</td>\n",
       "      <td>NaN</td>\n",
       "    </tr>\n",
       "    <tr>\n",
       "      <th>210</th>\n",
       "      <td>Halyard Health</td>\n",
       "      <td>Protective Apparel</td>\n",
       "      <td>Patient Apparel</td>\n",
       "      <td>Patient Gown</td>\n",
       "      <td>69766</td>\n",
       "      <td>, UNSPSC Classification:42131504, Natural Rubb...</td>\n",
       "      <td>https://products.halyardhealth.com/infection-p...</td>\n",
       "      <td>NaN</td>\n",
       "      <td>NaN</td>\n",
       "    </tr>\n",
       "    <tr>\n",
       "      <th>211</th>\n",
       "      <td>Halyard Health</td>\n",
       "      <td>Protective Apparel</td>\n",
       "      <td>Patient Apparel</td>\n",
       "      <td>Patient Robe</td>\n",
       "      <td>79002</td>\n",
       "      <td>, UNSPSC Classification:42131702, Natural Rubb...</td>\n",
       "      <td>https://products.halyardhealth.com/infection-p...</td>\n",
       "      <td>NaN</td>\n",
       "      <td>NaN</td>\n",
       "    </tr>\n",
       "    <tr>\n",
       "      <th>212</th>\n",
       "      <td>Halyard Health</td>\n",
       "      <td>Protective Apparel</td>\n",
       "      <td>Patient Apparel</td>\n",
       "      <td>Patient Slippers</td>\n",
       "      <td>90947</td>\n",
       "      <td>, UNSPSC Classification:42131507, Natural Rubb...</td>\n",
       "      <td>https://products.halyardhealth.com/infection-p...</td>\n",
       "      <td>NaN</td>\n",
       "      <td>NaN</td>\n",
       "    </tr>\n",
       "    <tr>\n",
       "      <th>213</th>\n",
       "      <td>Halyard Health</td>\n",
       "      <td>Protective Apparel</td>\n",
       "      <td>Patient Apparel</td>\n",
       "      <td>Welcome Pack</td>\n",
       "      <td>90963</td>\n",
       "      <td>, UNSPSC Classification:53102606, Natural Rubb...</td>\n",
       "      <td>https://products.halyardhealth.com/infection-p...</td>\n",
       "      <td>NaN</td>\n",
       "      <td>NaN</td>\n",
       "    </tr>\n",
       "    <tr>\n",
       "      <th>214</th>\n",
       "      <td>Halyard Health</td>\n",
       "      <td>Protective Apparel</td>\n",
       "      <td>Protective Gowns</td>\n",
       "      <td>HALYARD* Tri-Layer AAMI1 Isolation Gown</td>\n",
       "      <td>54100</td>\n",
       "      <td>Size:Large, Color:Yellow, UK SKU:P5410007, Dim...</td>\n",
       "      <td>https://products.halyardhealth.com/infection-p...</td>\n",
       "      <td>NaN</td>\n",
       "      <td>NaN</td>\n",
       "    </tr>\n",
       "    <tr>\n",
       "      <th>215</th>\n",
       "      <td>Halyard Health</td>\n",
       "      <td>Protective Apparel</td>\n",
       "      <td>Protective Gowns</td>\n",
       "      <td>HALYARD* Tri-Layer AAMI1 Isolation Gown</td>\n",
       "      <td>54101</td>\n",
       "      <td>Size:X-Large, Color:Yellow, UK SKU:P5410107, D...</td>\n",
       "      <td>https://products.halyardhealth.com/infection-p...</td>\n",
       "      <td>NaN</td>\n",
       "      <td>NaN</td>\n",
       "    </tr>\n",
       "    <tr>\n",
       "      <th>216</th>\n",
       "      <td>Halyard Health</td>\n",
       "      <td>Protective Apparel</td>\n",
       "      <td>Protective Gowns</td>\n",
       "      <td>HALYARD* Tri-Layer AAMI1 Isolation Gown</td>\n",
       "      <td>54110</td>\n",
       "      <td>Size:Large, Color:Blue, UK SKU:P5411007, Dimen...</td>\n",
       "      <td>https://products.halyardhealth.com/infection-p...</td>\n",
       "      <td>NaN</td>\n",
       "      <td>NaN</td>\n",
       "    </tr>\n",
       "    <tr>\n",
       "      <th>217</th>\n",
       "      <td>Halyard Health</td>\n",
       "      <td>Protective Apparel</td>\n",
       "      <td>Protective Gowns</td>\n",
       "      <td>HALYARD* Tri-Layer AAMI1 Isolation Gown</td>\n",
       "      <td>54111</td>\n",
       "      <td>Size:X-Large, Color:Blue, UK SKU:P5411107, Dim...</td>\n",
       "      <td>https://products.halyardhealth.com/infection-p...</td>\n",
       "      <td>NaN</td>\n",
       "      <td>NaN</td>\n",
       "    </tr>\n",
       "    <tr>\n",
       "      <th>218</th>\n",
       "      <td>Halyard Health</td>\n",
       "      <td>Protective Apparel</td>\n",
       "      <td>Protective Gowns</td>\n",
       "      <td>HALYARD* Laminated Comfort Gown</td>\n",
       "      <td>46946</td>\n",
       "      <td>Size:Large, Chest:27.6 in / 70.1 cm., Length:4...</td>\n",
       "      <td>https://products.halyardhealth.com/infection-p...</td>\n",
       "      <td>NaN</td>\n",
       "      <td>NaN</td>\n",
       "    </tr>\n",
       "    <tr>\n",
       "      <th>219</th>\n",
       "      <td>Halyard Health</td>\n",
       "      <td>Protective Apparel</td>\n",
       "      <td>Protective Gowns</td>\n",
       "      <td>HALYARD* Laminated Comfort Gown</td>\n",
       "      <td>46947</td>\n",
       "      <td>Size:X-Large, Chest:28.5 in. / 72.4 cm., Lengt...</td>\n",
       "      <td>https://products.halyardhealth.com/infection-p...</td>\n",
       "      <td>NaN</td>\n",
       "      <td>NaN</td>\n",
       "    </tr>\n",
       "    <tr>\n",
       "      <th>220</th>\n",
       "      <td>Halyard Health</td>\n",
       "      <td>Protective Apparel</td>\n",
       "      <td>Protective Gowns</td>\n",
       "      <td>HALYARD* Over-the-Head Cover Gown</td>\n",
       "      <td>69105</td>\n",
       "      <td>Size:Universal, Brand:HALYARD*, Name:HALYARD* ...</td>\n",
       "      <td>https://products.halyardhealth.com/infection-p...</td>\n",
       "      <td>NaN</td>\n",
       "      <td>NaN</td>\n",
       "    </tr>\n",
       "    <tr>\n",
       "      <th>221</th>\n",
       "      <td>Halyard Health</td>\n",
       "      <td>Protective Apparel</td>\n",
       "      <td>Protective Gowns</td>\n",
       "      <td>HALYARD* Over-the-Head Cover Gown</td>\n",
       "      <td>69106</td>\n",
       "      <td>Size:X-Large, Brand:HALYARD*, Name:HALYARD* Ov...</td>\n",
       "      <td>https://products.halyardhealth.com/infection-p...</td>\n",
       "      <td>NaN</td>\n",
       "      <td>NaN</td>\n",
       "    </tr>\n",
       "    <tr>\n",
       "      <th>222</th>\n",
       "      <td>Halyard Health</td>\n",
       "      <td>Protective Apparel</td>\n",
       "      <td>Protective Gowns</td>\n",
       "      <td>HALYARD* Tri-Layer AAMI Level 2 Over-the-Head ...</td>\n",
       "      <td>44715</td>\n",
       "      <td>Size:Large, Fabric:Tri-Layer SMS, Color:Yellow...</td>\n",
       "      <td>https://products.halyardhealth.com/infection-p...</td>\n",
       "      <td>NaN</td>\n",
       "      <td>NaN</td>\n",
       "    </tr>\n",
       "    <tr>\n",
       "      <th>223</th>\n",
       "      <td>Halyard Health</td>\n",
       "      <td>Protective Apparel</td>\n",
       "      <td>Protective Gowns</td>\n",
       "      <td>HALYARD* Tri-Layer AAMI Level 2 Over-the-Head ...</td>\n",
       "      <td>44717</td>\n",
       "      <td>Size:X-Large, Fabric:Tri-Layer SMS, Color:Yell...</td>\n",
       "      <td>https://products.halyardhealth.com/infection-p...</td>\n",
       "      <td>NaN</td>\n",
       "      <td>NaN</td>\n",
       "    </tr>\n",
       "    <tr>\n",
       "      <th>224</th>\n",
       "      <td>Halyard Health</td>\n",
       "      <td>Protective Apparel</td>\n",
       "      <td>Protective Gowns</td>\n",
       "      <td>HALYARD* Tri-Layer AAMI Level 2 Over-the-Head ...</td>\n",
       "      <td>44719</td>\n",
       "      <td>Size:XX-Large, Fabric:Tri-Layer SMS, Color:Yel...</td>\n",
       "      <td>https://products.halyardhealth.com/infection-p...</td>\n",
       "      <td>NaN</td>\n",
       "      <td>NaN</td>\n",
       "    </tr>\n",
       "    <tr>\n",
       "      <th>225</th>\n",
       "      <td>Halyard Health</td>\n",
       "      <td>Protective Apparel</td>\n",
       "      <td>Protective Gowns</td>\n",
       "      <td>HALYARD* BASICS* Tri-Layer AAMI2 Over-the-Head...</td>\n",
       "      <td>43007</td>\n",
       "      <td>Size:Universal, Chest:26 in. / 67.0 cm., Lengt...</td>\n",
       "      <td>https://products.halyardhealth.com/infection-p...</td>\n",
       "      <td>NaN</td>\n",
       "      <td>NaN</td>\n",
       "    </tr>\n",
       "    <tr>\n",
       "      <th>226</th>\n",
       "      <td>Halyard Health</td>\n",
       "      <td>Protective Apparel</td>\n",
       "      <td>Protective Gowns</td>\n",
       "      <td>HALYARD* BASICS* Tri-Layer AAMI2 Over-the-Head...</td>\n",
       "      <td>43008</td>\n",
       "      <td>Size:Large, Chest:29.5 in. / 75.0 cm., Length:...</td>\n",
       "      <td>https://products.halyardhealth.com/infection-p...</td>\n",
       "      <td>NaN</td>\n",
       "      <td>NaN</td>\n",
       "    </tr>\n",
       "    <tr>\n",
       "      <th>227</th>\n",
       "      <td>Halyard Health</td>\n",
       "      <td>Protective Apparel</td>\n",
       "      <td>Protective Gowns</td>\n",
       "      <td>HALYARD* BASICS* Tri-Layer AAMI2 Over-the-Head...</td>\n",
       "      <td>43009</td>\n",
       "      <td>Size:X-Large, Chest:32 in. / 82.0 cm, Length:5...</td>\n",
       "      <td>https://products.halyardhealth.com/infection-p...</td>\n",
       "      <td>NaN</td>\n",
       "      <td>NaN</td>\n",
       "    </tr>\n",
       "    <tr>\n",
       "      <th>228</th>\n",
       "      <td>Halyard Health</td>\n",
       "      <td>Protective Apparel</td>\n",
       "      <td>Protective Gowns</td>\n",
       "      <td>HALYARD* Over-the-Head Poly-Coated Fluid Resis...</td>\n",
       "      <td>47003</td>\n",
       "      <td>Size:Universal, Chest:33 in. / 84 cm., Length:...</td>\n",
       "      <td>https://products.halyardhealth.com/infection-p...</td>\n",
       "      <td>NaN</td>\n",
       "      <td>NaN</td>\n",
       "    </tr>\n",
       "    <tr>\n",
       "      <th>229</th>\n",
       "      <td>Halyard Health</td>\n",
       "      <td>Protective Apparel</td>\n",
       "      <td>Protective Gowns</td>\n",
       "      <td>HALYARD* Over-the-Head Poly-Coated Fluid Resis...</td>\n",
       "      <td>47004</td>\n",
       "      <td>Size:X-Large, Chest:34.5 in. / 87.5 cm., Lengt...</td>\n",
       "      <td>https://products.halyardhealth.com/infection-p...</td>\n",
       "      <td>NaN</td>\n",
       "      <td>NaN</td>\n",
       "    </tr>\n",
       "    <tr>\n",
       "      <th>230</th>\n",
       "      <td>Halyard Health</td>\n",
       "      <td>Protective Apparel</td>\n",
       "      <td>Protective Gowns</td>\n",
       "      <td>HALYARD* Medium Weight Tri-Layer Over-the-Head...</td>\n",
       "      <td>32500</td>\n",
       "      <td>Size:Universal, Chest:28.5 in. / 72.5 cm., Sle...</td>\n",
       "      <td>https://products.halyardhealth.com/infection-p...</td>\n",
       "      <td>NaN</td>\n",
       "      <td>NaN</td>\n",
       "    </tr>\n",
       "    <tr>\n",
       "      <th>231</th>\n",
       "      <td>Halyard Health</td>\n",
       "      <td>Protective Apparel</td>\n",
       "      <td>Protective Gowns</td>\n",
       "      <td>HALYARD* Medium Weight Tri-Layer Over-the-Head...</td>\n",
       "      <td>32501</td>\n",
       "      <td>Size:X-Large, Chest:30 in. / 76 cm., Sleeve Le...</td>\n",
       "      <td>https://products.halyardhealth.com/infection-p...</td>\n",
       "      <td>NaN</td>\n",
       "      <td>NaN</td>\n",
       "    </tr>\n",
       "    <tr>\n",
       "      <th>232</th>\n",
       "      <td>Halyard Health</td>\n",
       "      <td>Protective Apparel</td>\n",
       "      <td>Protective Gowns</td>\n",
       "      <td>HALYARD* Light Weight Tri-Layer Over-the-Head ...</td>\n",
       "      <td>32502</td>\n",
       "      <td>Size:Universal, Chest:28.5 in. / 72.5 cm., Len...</td>\n",
       "      <td>https://products.halyardhealth.com/infection-p...</td>\n",
       "      <td>NaN</td>\n",
       "      <td>NaN</td>\n",
       "    </tr>\n",
       "    <tr>\n",
       "      <th>233</th>\n",
       "      <td>Halyard Health</td>\n",
       "      <td>Protective Apparel</td>\n",
       "      <td>Protective Gowns</td>\n",
       "      <td>HALYARD* Light Weight Tri-Layer Over-the-Head ...</td>\n",
       "      <td>32503</td>\n",
       "      <td>Size:X-Large, Chest:30 in. / 76 cm., Length:48...</td>\n",
       "      <td>https://products.halyardhealth.com/infection-p...</td>\n",
       "      <td>NaN</td>\n",
       "      <td>NaN</td>\n",
       "    </tr>\n",
       "    <tr>\n",
       "      <th>234</th>\n",
       "      <td>Halyard Health</td>\n",
       "      <td>Protective Apparel</td>\n",
       "      <td>Protective Gowns</td>\n",
       "      <td>HALYARD* Poly-Coated Fluid Resistant Gown</td>\n",
       "      <td>47001</td>\n",
       "      <td>Size:Universal, Chest:27.5 in. / 70 cm., Sleev...</td>\n",
       "      <td>https://products.halyardhealth.com/infection-p...</td>\n",
       "      <td>NaN</td>\n",
       "      <td>NaN</td>\n",
       "    </tr>\n",
       "    <tr>\n",
       "      <th>235</th>\n",
       "      <td>Halyard Health</td>\n",
       "      <td>Protective Apparel</td>\n",
       "      <td>Protective Gowns</td>\n",
       "      <td>HALYARD* Poly-Coated Fluid Resistant Gown</td>\n",
       "      <td>47002</td>\n",
       "      <td>Size:X-Large, Chest:29 in. / 74 cm., Sleeve Le...</td>\n",
       "      <td>https://products.halyardhealth.com/infection-p...</td>\n",
       "      <td>NaN</td>\n",
       "      <td>NaN</td>\n",
       "    </tr>\n",
       "    <tr>\n",
       "      <th>236</th>\n",
       "      <td>Halyard Health</td>\n",
       "      <td>Protective Apparel</td>\n",
       "      <td>Protective Gowns</td>\n",
       "      <td>Procedure Gown for use with Chemotherapy Drugs</td>\n",
       "      <td>69606</td>\n",
       "      <td>Size:Universal, Chest:28 in. / 71.1 cm., Lengt...</td>\n",
       "      <td>https://products.halyardhealth.com/infection-p...</td>\n",
       "      <td>NaN</td>\n",
       "      <td>NaN</td>\n",
       "    </tr>\n",
       "    <tr>\n",
       "      <th>237</th>\n",
       "      <td>Halyard Health</td>\n",
       "      <td>Protective Apparel</td>\n",
       "      <td>Protective Gowns</td>\n",
       "      <td>Procedure Gown for use with Chemotherapy Drugs</td>\n",
       "      <td>37284</td>\n",
       "      <td>Size:XX-Large, Chest:33 in. / 84 cm., Length:4...</td>\n",
       "      <td>https://products.halyardhealth.com/infection-p...</td>\n",
       "      <td>NaN</td>\n",
       "      <td>NaN</td>\n",
       "    </tr>\n",
       "    <tr>\n",
       "      <th>238</th>\n",
       "      <td>Halyard Health</td>\n",
       "      <td>Protective Apparel</td>\n",
       "      <td>Protective Gowns</td>\n",
       "      <td>HALYARD* Tri-Layer AAMI2 Gown</td>\n",
       "      <td>35460</td>\n",
       "      <td>Size:Large, Color:Yellow, Cuff End:Elastic, Di...</td>\n",
       "      <td>https://products.halyardhealth.com/infection-p...</td>\n",
       "      <td>NaN</td>\n",
       "      <td>NaN</td>\n",
       "    </tr>\n",
       "    <tr>\n",
       "      <th>239</th>\n",
       "      <td>Halyard Health</td>\n",
       "      <td>Protective Apparel</td>\n",
       "      <td>Protective Gowns</td>\n",
       "      <td>HALYARD* Tri-Layer AAMI2 Gown</td>\n",
       "      <td>69979</td>\n",
       "      <td>Size:Large, Color:Yellow, UK SKU:P6997987, Cuf...</td>\n",
       "      <td>https://products.halyardhealth.com/infection-p...</td>\n",
       "      <td>NaN</td>\n",
       "      <td>NaN</td>\n",
       "    </tr>\n",
       "    <tr>\n",
       "      <th>240</th>\n",
       "      <td>Halyard Health</td>\n",
       "      <td>Protective Apparel</td>\n",
       "      <td>Protective Gowns</td>\n",
       "      <td>HALYARD* Tri-Layer AAMI2 Gown</td>\n",
       "      <td>69981</td>\n",
       "      <td>Size:Universal, Color:Blue, UK SKU:P6998137, C...</td>\n",
       "      <td>https://products.halyardhealth.com/infection-p...</td>\n",
       "      <td>NaN</td>\n",
       "      <td>NaN</td>\n",
       "    </tr>\n",
       "    <tr>\n",
       "      <th>241</th>\n",
       "      <td>Halyard Health</td>\n",
       "      <td>Protective Apparel</td>\n",
       "      <td>Protective Gowns</td>\n",
       "      <td>HALYARD* Tri-Layer AAMI2 Gown</td>\n",
       "      <td>69986</td>\n",
       "      <td>Size:Universal, Color:Yellow, Cuff End:Elastic...</td>\n",
       "      <td>https://products.halyardhealth.com/infection-p...</td>\n",
       "      <td>NaN</td>\n",
       "      <td>NaN</td>\n",
       "    </tr>\n",
       "    <tr>\n",
       "      <th>242</th>\n",
       "      <td>Halyard Health</td>\n",
       "      <td>Protective Apparel</td>\n",
       "      <td>Protective Gowns</td>\n",
       "      <td>HALYARD* Tri-Layer AAMI2 Gown</td>\n",
       "      <td>69987</td>\n",
       "      <td>Size:X-Large, Color:Blue, UK SKU:P6998707, Cuf...</td>\n",
       "      <td>https://products.halyardhealth.com/infection-p...</td>\n",
       "      <td>NaN</td>\n",
       "      <td>NaN</td>\n",
       "    </tr>\n",
       "    <tr>\n",
       "      <th>243</th>\n",
       "      <td>Halyard Health</td>\n",
       "      <td>Protective Apparel</td>\n",
       "      <td>Protective Gowns</td>\n",
       "      <td>HALYARD* Tri-Layer AAMI2 Gown</td>\n",
       "      <td>69988</td>\n",
       "      <td>Size:X-Large, Color:Yellow, UK SKU:P6998827, C...</td>\n",
       "      <td>https://products.halyardhealth.com/infection-p...</td>\n",
       "      <td>NaN</td>\n",
       "      <td>NaN</td>\n",
       "    </tr>\n",
       "    <tr>\n",
       "      <th>244</th>\n",
       "      <td>Halyard Health</td>\n",
       "      <td>Protective Apparel</td>\n",
       "      <td>Protective Gowns</td>\n",
       "      <td>HALYARD* Tri-Layer AAMI2 Gown</td>\n",
       "      <td>69971</td>\n",
       "      <td>Size:X-Large, Color:Blue, Cuff End:Elastic, Di...</td>\n",
       "      <td>https://products.halyardhealth.com/infection-p...</td>\n",
       "      <td>NaN</td>\n",
       "      <td>NaN</td>\n",
       "    </tr>\n",
       "    <tr>\n",
       "      <th>245</th>\n",
       "      <td>Halyard Health</td>\n",
       "      <td>Protective Apparel</td>\n",
       "      <td>Protective Gowns</td>\n",
       "      <td>HALYARD* Tri-Layer AAMI2 Gown</td>\n",
       "      <td>37660</td>\n",
       "      <td>Size:Large, Color:Yellow, Cuff End:Thumb Hooks...</td>\n",
       "      <td>https://products.halyardhealth.com/infection-p...</td>\n",
       "      <td>NaN</td>\n",
       "      <td>NaN</td>\n",
       "    </tr>\n",
       "    <tr>\n",
       "      <th>246</th>\n",
       "      <td>Halyard Health</td>\n",
       "      <td>Protective Apparel</td>\n",
       "      <td>Protective Gowns</td>\n",
       "      <td>HALYARD* Tri-Layer AAMI2 Gown</td>\n",
       "      <td>37661</td>\n",
       "      <td>Size:X-Large, Color:Yellow, Cuff End:Thumb Hoo...</td>\n",
       "      <td>https://products.halyardhealth.com/infection-p...</td>\n",
       "      <td>NaN</td>\n",
       "      <td>NaN</td>\n",
       "    </tr>\n",
       "    <tr>\n",
       "      <th>247</th>\n",
       "      <td>Halyard Health</td>\n",
       "      <td>Protective Apparel</td>\n",
       "      <td>Protective Gowns</td>\n",
       "      <td>HALYARD* BASICS* Tri-Layer Over-the-Head Isola...</td>\n",
       "      <td>43148</td>\n",
       "      <td>Size:Universal, Fabric:Tri-Layer Fabric, Color...</td>\n",
       "      <td>https://products.halyardhealth.com/infection-p...</td>\n",
       "      <td>NaN</td>\n",
       "      <td>NaN</td>\n",
       "    </tr>\n",
       "    <tr>\n",
       "      <th>248</th>\n",
       "      <td>Halyard Health</td>\n",
       "      <td>Protective Apparel</td>\n",
       "      <td>Protective Gowns</td>\n",
       "      <td>HALYARD* BASICS* Tri-Layer Over-the-Head Isola...</td>\n",
       "      <td>43149</td>\n",
       "      <td>Size:X-Large, Fabric:Tri-Layer Fabric, Color:Y...</td>\n",
       "      <td>https://products.halyardhealth.com/infection-p...</td>\n",
       "      <td>NaN</td>\n",
       "      <td>NaN</td>\n",
       "    </tr>\n",
       "    <tr>\n",
       "      <th>249</th>\n",
       "      <td>Halyard Health</td>\n",
       "      <td>Protective Apparel</td>\n",
       "      <td>Protective Gowns</td>\n",
       "      <td>HALYARD* Tri-Layer AAMI Level 2 Over-the-Head ...</td>\n",
       "      <td>43146</td>\n",
       "      <td>Size:Large, Fabric:Tri-Layer Fabric, Color:Yel...</td>\n",
       "      <td>https://products.halyardhealth.com/infection-p...</td>\n",
       "      <td>NaN</td>\n",
       "      <td>NaN</td>\n",
       "    </tr>\n",
       "    <tr>\n",
       "      <th>250</th>\n",
       "      <td>Halyard Health</td>\n",
       "      <td>Protective Apparel</td>\n",
       "      <td>Protective Gowns</td>\n",
       "      <td>HALYARD* Tri-Layer AAMI Level 2 Over-the-Head ...</td>\n",
       "      <td>43147</td>\n",
       "      <td>Size:X-Large, Fabric:Tri-Layer Fabric, Color:Y...</td>\n",
       "      <td>https://products.halyardhealth.com/infection-p...</td>\n",
       "      <td>NaN</td>\n",
       "      <td>NaN</td>\n",
       "    </tr>\n",
       "    <tr>\n",
       "      <th>251</th>\n",
       "      <td>Halyard Health</td>\n",
       "      <td>Protective Apparel</td>\n",
       "      <td>Protective Gowns</td>\n",
       "      <td>HALYARD* Tri-Layer AAMI3 Isolation Gown</td>\n",
       "      <td>54310</td>\n",
       "      <td>Size:Large, Color:Blue, UK SKU:P5431007, Dimen...</td>\n",
       "      <td>https://products.halyardhealth.com/infection-p...</td>\n",
       "      <td>NaN</td>\n",
       "      <td>NaN</td>\n",
       "    </tr>\n",
       "    <tr>\n",
       "      <th>252</th>\n",
       "      <td>Halyard Health</td>\n",
       "      <td>Protective Apparel</td>\n",
       "      <td>Protective Gowns</td>\n",
       "      <td>HALYARD* Tri-Layer AAMI3 Isolation Gown</td>\n",
       "      <td>54311</td>\n",
       "      <td>Size:X-Large, Color:Blue, UK SKU:P5431107, Dim...</td>\n",
       "      <td>https://products.halyardhealth.com/infection-p...</td>\n",
       "      <td>NaN</td>\n",
       "      <td>NaN</td>\n",
       "    </tr>\n",
       "    <tr>\n",
       "      <th>253</th>\n",
       "      <td>Halyard Health</td>\n",
       "      <td>Protective Apparel</td>\n",
       "      <td>Protective Gowns</td>\n",
       "      <td>HALYARD* Spunbond Isolation Gown</td>\n",
       "      <td>69124</td>\n",
       "      <td>Size:Universal, Color:Yellow, UK SKU:P6912407,...</td>\n",
       "      <td>https://products.halyardhealth.com/infection-p...</td>\n",
       "      <td>NaN</td>\n",
       "      <td>NaN</td>\n",
       "    </tr>\n",
       "    <tr>\n",
       "      <th>254</th>\n",
       "      <td>Halyard Health</td>\n",
       "      <td>Protective Apparel</td>\n",
       "      <td>Protective Gowns</td>\n",
       "      <td>HALYARD* Spunbond Isolation Gown</td>\n",
       "      <td>69125</td>\n",
       "      <td>Size:X-Large, Color:Yellow, UK SKU:P6912507, D...</td>\n",
       "      <td>https://products.halyardhealth.com/infection-p...</td>\n",
       "      <td>NaN</td>\n",
       "      <td>NaN</td>\n",
       "    </tr>\n",
       "    <tr>\n",
       "      <th>255</th>\n",
       "      <td>Halyard Health</td>\n",
       "      <td>Protective Apparel</td>\n",
       "      <td>Protective Gowns</td>\n",
       "      <td>HALYARD* Spunbond Isolation Gown</td>\n",
       "      <td>69127</td>\n",
       "      <td>Size:Universal, Color:Blue, Dimensions (in., C...</td>\n",
       "      <td>https://products.halyardhealth.com/infection-p...</td>\n",
       "      <td>NaN</td>\n",
       "      <td>NaN</td>\n",
       "    </tr>\n",
       "    <tr>\n",
       "      <th>256</th>\n",
       "      <td>Halyard Health</td>\n",
       "      <td>Protective Apparel</td>\n",
       "      <td>Protective Gowns</td>\n",
       "      <td>HALYARD* Spunbond Isolation Gown</td>\n",
       "      <td>69129</td>\n",
       "      <td>Size:X-Large, Color:Blue, Dimensions (in., Che...</td>\n",
       "      <td>https://products.halyardhealth.com/infection-p...</td>\n",
       "      <td>NaN</td>\n",
       "      <td>NaN</td>\n",
       "    </tr>\n",
       "    <tr>\n",
       "      <th>257</th>\n",
       "      <td>Halyard Health</td>\n",
       "      <td>Protective Apparel</td>\n",
       "      <td>Protective Gowns</td>\n",
       "      <td>Impervious Open Back Gown</td>\n",
       "      <td>69455</td>\n",
       "      <td>, UNSPSC Classification:42131612, Name:Impervi...</td>\n",
       "      <td>https://products.halyardhealth.com/infection-p...</td>\n",
       "      <td>NaN</td>\n",
       "      <td>NaN</td>\n",
       "    </tr>\n",
       "    <tr>\n",
       "      <th>258</th>\n",
       "      <td>Halyard Health</td>\n",
       "      <td>Protective Apparel</td>\n",
       "      <td>Protective Gowns</td>\n",
       "      <td>Impervious Gown in Dispenser Box</td>\n",
       "      <td>69316</td>\n",
       "      <td>Size:X-Large, Dimensions (in., Chest Width / L...</td>\n",
       "      <td>https://products.halyardhealth.com/infection-p...</td>\n",
       "      <td>NaN</td>\n",
       "      <td>NaN</td>\n",
       "    </tr>\n",
       "    <tr>\n",
       "      <th>259</th>\n",
       "      <td>Halyard Health</td>\n",
       "      <td>Protective Apparel</td>\n",
       "      <td>Protective Gowns</td>\n",
       "      <td>Impervious Gown in Dispenser Box</td>\n",
       "      <td>69490</td>\n",
       "      <td>Size:Universal, Dimensions (in., Chest Width /...</td>\n",
       "      <td>https://products.halyardhealth.com/infection-p...</td>\n",
       "      <td>NaN</td>\n",
       "      <td>NaN</td>\n",
       "    </tr>\n",
       "    <tr>\n",
       "      <th>260</th>\n",
       "      <td>Halyard Health</td>\n",
       "      <td>Protective Apparel</td>\n",
       "      <td>Protective Gowns</td>\n",
       "      <td>Procedure Gown with Knit Cuffs</td>\n",
       "      <td>69025</td>\n",
       "      <td>Size:Universal, Expected Exposure to Fluids or...</td>\n",
       "      <td>https://products.halyardhealth.com/infection-p...</td>\n",
       "      <td>NaN</td>\n",
       "      <td>NaN</td>\n",
       "    </tr>\n",
       "    <tr>\n",
       "      <th>261</th>\n",
       "      <td>Halyard Health</td>\n",
       "      <td>Protective Apparel</td>\n",
       "      <td>Protective Gowns</td>\n",
       "      <td>Procedure Gown with Knit Cuffs</td>\n",
       "      <td>69028</td>\n",
       "      <td>Size:X-Large, Expected Exposure to Fluids or C...</td>\n",
       "      <td>https://products.halyardhealth.com/infection-p...</td>\n",
       "      <td>NaN</td>\n",
       "      <td>NaN</td>\n",
       "    </tr>\n",
       "    <tr>\n",
       "      <th>262</th>\n",
       "      <td>Halyard Health</td>\n",
       "      <td>Protective Apparel</td>\n",
       "      <td>Protective Gowns</td>\n",
       "      <td>Impervious Comfort Gown</td>\n",
       "      <td>69600</td>\n",
       "      <td>Size:Universal, Cuff End:Knit, UK SKU:P6960057...</td>\n",
       "      <td>https://products.halyardhealth.com/infection-p...</td>\n",
       "      <td>NaN</td>\n",
       "      <td>NaN</td>\n",
       "    </tr>\n",
       "    <tr>\n",
       "      <th>263</th>\n",
       "      <td>Halyard Health</td>\n",
       "      <td>Protective Apparel</td>\n",
       "      <td>Protective Gowns</td>\n",
       "      <td>Impervious Comfort Gown</td>\n",
       "      <td>69601</td>\n",
       "      <td>Size:XX-Large, Cuff End:Knit, UK SKU:P6960157,...</td>\n",
       "      <td>https://products.halyardhealth.com/infection-p...</td>\n",
       "      <td>NaN</td>\n",
       "      <td>NaN</td>\n",
       "    </tr>\n",
       "    <tr>\n",
       "      <th>264</th>\n",
       "      <td>Halyard Health</td>\n",
       "      <td>Protective Apparel</td>\n",
       "      <td>Protective Gowns</td>\n",
       "      <td>Impervious Comfort Gown</td>\n",
       "      <td>69602</td>\n",
       "      <td>Size:Universal, Cuff End:Thumb Hooks, UK SKU:P...</td>\n",
       "      <td>https://products.halyardhealth.com/infection-p...</td>\n",
       "      <td>NaN</td>\n",
       "      <td>NaN</td>\n",
       "    </tr>\n",
       "    <tr>\n",
       "      <th>265</th>\n",
       "      <td>Halyard Health</td>\n",
       "      <td>Protective Apparel</td>\n",
       "      <td>Protective Gowns</td>\n",
       "      <td>Impervious Comfort Gown</td>\n",
       "      <td>69603</td>\n",
       "      <td>Size:XX-Large, Cuff End:Thumb Hooks, UK SKU:P6...</td>\n",
       "      <td>https://products.halyardhealth.com/infection-p...</td>\n",
       "      <td>NaN</td>\n",
       "      <td>NaN</td>\n",
       "    </tr>\n",
       "    <tr>\n",
       "      <th>266</th>\n",
       "      <td>Halyard Health</td>\n",
       "      <td>Protective Apparel</td>\n",
       "      <td>Protective Gowns</td>\n",
       "      <td>HALYARD BASICS* Tri-Layer AAMI2 Isolation Gown</td>\n",
       "      <td>13961</td>\n",
       "      <td>Size:X-Large, Dimensions (in., Chest Width / L...</td>\n",
       "      <td>https://products.halyardhealth.com/infection-p...</td>\n",
       "      <td>NaN</td>\n",
       "      <td>NaN</td>\n",
       "    </tr>\n",
       "    <tr>\n",
       "      <th>267</th>\n",
       "      <td>Halyard Health</td>\n",
       "      <td>Protective Apparel</td>\n",
       "      <td>Protective Gowns</td>\n",
       "      <td>HALYARD BASICS* Tri-Layer AAMI2 Isolation Gown</td>\n",
       "      <td>13962</td>\n",
       "      <td>Size:Universal, Dimensions (in., Chest Width /...</td>\n",
       "      <td>https://products.halyardhealth.com/infection-p...</td>\n",
       "      <td>NaN</td>\n",
       "      <td>NaN</td>\n",
       "    </tr>\n",
       "    <tr>\n",
       "      <th>268</th>\n",
       "      <td>Halyard Health</td>\n",
       "      <td>Protective Apparel</td>\n",
       "      <td>Protective Gowns</td>\n",
       "      <td>HALYARD* Tri-Layer Over-the-Head Isolation Gowns</td>\n",
       "      <td>29516</td>\n",
       "      <td>Size:XX-Large, Color:Yellow, Dimensions (in., ...</td>\n",
       "      <td>https://products.halyardhealth.com/infection-p...</td>\n",
       "      <td>NaN</td>\n",
       "      <td>NaN</td>\n",
       "    </tr>\n",
       "    <tr>\n",
       "      <th>269</th>\n",
       "      <td>Halyard Health</td>\n",
       "      <td>Protective Apparel</td>\n",
       "      <td>Protective Gowns</td>\n",
       "      <td>HALYARD* Tri-Layer Over-the-Head Isolation Gowns</td>\n",
       "      <td>29549</td>\n",
       "      <td>Size:Universal, Color:Yellow, Dimensions (in.,...</td>\n",
       "      <td>https://products.halyardhealth.com/infection-p...</td>\n",
       "      <td>NaN</td>\n",
       "      <td>NaN</td>\n",
       "    </tr>\n",
       "    <tr>\n",
       "      <th>270</th>\n",
       "      <td>Halyard Health</td>\n",
       "      <td>Protective Apparel</td>\n",
       "      <td>Protective Gowns</td>\n",
       "      <td>HALYARD* Tri-Layer Over-the-Head Isolation Gowns</td>\n",
       "      <td>32572</td>\n",
       "      <td>Size:XX-Large, Color:Yellow, Dimensions (in., ...</td>\n",
       "      <td>https://products.halyardhealth.com/infection-p...</td>\n",
       "      <td>NaN</td>\n",
       "      <td>NaN</td>\n",
       "    </tr>\n",
       "    <tr>\n",
       "      <th>271</th>\n",
       "      <td>Halyard Health</td>\n",
       "      <td>Protective Apparel</td>\n",
       "      <td>Protective Gowns</td>\n",
       "      <td>HALYARD* Tri-Layer Over-the-Head Isolation Gowns</td>\n",
       "      <td>32574</td>\n",
       "      <td>Size:Universal, Color:Yellow, Dimensions (in.,...</td>\n",
       "      <td>https://products.halyardhealth.com/infection-p...</td>\n",
       "      <td>NaN</td>\n",
       "      <td>NaN</td>\n",
       "    </tr>\n",
       "    <tr>\n",
       "      <th>272</th>\n",
       "      <td>Halyard Health</td>\n",
       "      <td>Protective Apparel</td>\n",
       "      <td>Protective Gowns</td>\n",
       "      <td>HALYARD* CHEMO360* Procedure Gown Tested for U...</td>\n",
       "      <td>47346</td>\n",
       "      <td>Size:Universal, Chest:28 in. / 71 cm., Length:...</td>\n",
       "      <td>https://products.halyardhealth.com/infection-p...</td>\n",
       "      <td>NaN</td>\n",
       "      <td>NaN</td>\n",
       "    </tr>\n",
       "    <tr>\n",
       "      <th>273</th>\n",
       "      <td>Halyard Health</td>\n",
       "      <td>Protective Apparel</td>\n",
       "      <td>Protective Gowns</td>\n",
       "      <td>HALYARD* CHEMO360* Procedure Gown Tested for U...</td>\n",
       "      <td>47347</td>\n",
       "      <td>Size:XX-Large, Chest:33.5 in. / 85 cm., Length...</td>\n",
       "      <td>https://products.halyardhealth.com/infection-p...</td>\n",
       "      <td>NaN</td>\n",
       "      <td>NaN</td>\n",
       "    </tr>\n",
       "    <tr>\n",
       "      <th>274</th>\n",
       "      <td>Halyard Health</td>\n",
       "      <td>Protective Apparel</td>\n",
       "      <td>Headwear</td>\n",
       "      <td>Surgical Hood</td>\n",
       "      <td>69110</td>\n",
       "      <td>, UNSPSC Classification:42131604, Sterile:No, ...</td>\n",
       "      <td>https://products.halyardhealth.com/infection-p...</td>\n",
       "      <td>NaN</td>\n",
       "      <td>NaN</td>\n",
       "    </tr>\n",
       "    <tr>\n",
       "      <th>275</th>\n",
       "      <td>Halyard Health</td>\n",
       "      <td>Protective Apparel</td>\n",
       "      <td>Headwear</td>\n",
       "      <td>HALYARD* Tri-Layer Bouffant Caps</td>\n",
       "      <td>69083</td>\n",
       "      <td>Size:Large  24 in., Color:White, Fabric:3-Laye...</td>\n",
       "      <td>https://products.halyardhealth.com/infection-p...</td>\n",
       "      <td>NaN</td>\n",
       "      <td>NaN</td>\n",
       "    </tr>\n",
       "    <tr>\n",
       "      <th>276</th>\n",
       "      <td>Halyard Health</td>\n",
       "      <td>Protective Apparel</td>\n",
       "      <td>Headwear</td>\n",
       "      <td>HALYARD* Tri-Layer Bouffant Caps</td>\n",
       "      <td>69086</td>\n",
       "      <td>Size:X-Large 27 in., Color:White, Fabric:3-Lay...</td>\n",
       "      <td>https://products.halyardhealth.com/infection-p...</td>\n",
       "      <td>NaN</td>\n",
       "      <td>NaN</td>\n",
       "    </tr>\n",
       "    <tr>\n",
       "      <th>277</th>\n",
       "      <td>Halyard Health</td>\n",
       "      <td>Protective Apparel</td>\n",
       "      <td>Headwear</td>\n",
       "      <td>HALYARD* Tri-Layer Bouffant Caps</td>\n",
       "      <td>69088</td>\n",
       "      <td>Size:Large  24 in., Color:Blue, Fabric:3-Layer...</td>\n",
       "      <td>https://products.halyardhealth.com/infection-p...</td>\n",
       "      <td>NaN</td>\n",
       "      <td>NaN</td>\n",
       "    </tr>\n",
       "    <tr>\n",
       "      <th>278</th>\n",
       "      <td>Halyard Health</td>\n",
       "      <td>Protective Apparel</td>\n",
       "      <td>Headwear</td>\n",
       "      <td>Surgical Cap</td>\n",
       "      <td>69240</td>\n",
       "      <td>Fabric:4-Ply Tissue with Polyester Reinforceme...</td>\n",
       "      <td>https://products.halyardhealth.com/infection-p...</td>\n",
       "      <td>NaN</td>\n",
       "      <td>NaN</td>\n",
       "    </tr>\n",
       "    <tr>\n",
       "      <th>279</th>\n",
       "      <td>Halyard Health</td>\n",
       "      <td>Protective Apparel</td>\n",
       "      <td>Headwear</td>\n",
       "      <td>Surgical Cap</td>\n",
       "      <td>69520</td>\n",
       "      <td>Fabric:3-Layer SMS on Sides, Spunbond on Top, ...</td>\n",
       "      <td>https://products.halyardhealth.com/infection-p...</td>\n",
       "      <td>NaN</td>\n",
       "      <td>NaN</td>\n",
       "    </tr>\n",
       "    <tr>\n",
       "      <th>280</th>\n",
       "      <td>Halyard Health</td>\n",
       "      <td>Protective Apparel</td>\n",
       "      <td>Headwear</td>\n",
       "      <td>HALYARD* Bloodborne Pathogen Protection Hood</td>\n",
       "      <td>44648</td>\n",
       "      <td>, Brand:HALYARD*, Name:HALYARD* Bloodborne Pat...</td>\n",
       "      <td>https://products.halyardhealth.com/infection-p...</td>\n",
       "      <td>NaN</td>\n",
       "      <td>NaN</td>\n",
       "    </tr>\n",
       "    <tr>\n",
       "      <th>281</th>\n",
       "      <td>Halyard Health</td>\n",
       "      <td>Protective Apparel</td>\n",
       "      <td>Headwear</td>\n",
       "      <td>HALYARD* Spunbond Bouffant Caps</td>\n",
       "      <td>69801</td>\n",
       "      <td>Size:Large, Color:Blue, Brand:HALYARD*, Steril...</td>\n",
       "      <td>https://products.halyardhealth.com/infection-p...</td>\n",
       "      <td>NaN</td>\n",
       "      <td>NaN</td>\n",
       "    </tr>\n",
       "    <tr>\n",
       "      <th>282</th>\n",
       "      <td>Halyard Health</td>\n",
       "      <td>Protective Apparel</td>\n",
       "      <td>Headwear</td>\n",
       "      <td>HALYARD* Spunbond Bouffant Caps</td>\n",
       "      <td>69802</td>\n",
       "      <td>Size:Large, Color:Blue, Brand:HALYARD*, Steril...</td>\n",
       "      <td>https://products.halyardhealth.com/infection-p...</td>\n",
       "      <td>NaN</td>\n",
       "      <td>NaN</td>\n",
       "    </tr>\n",
       "    <tr>\n",
       "      <th>283</th>\n",
       "      <td>Halyard Health</td>\n",
       "      <td>Protective Apparel</td>\n",
       "      <td>Headwear</td>\n",
       "      <td>HALYARD* Spunbond Bouffant Caps</td>\n",
       "      <td>69803</td>\n",
       "      <td>Size:X-Large, Color:Blue, Brand:HALYARD*, Ster...</td>\n",
       "      <td>https://products.halyardhealth.com/infection-p...</td>\n",
       "      <td>NaN</td>\n",
       "      <td>NaN</td>\n",
       "    </tr>\n",
       "    <tr>\n",
       "      <th>284</th>\n",
       "      <td>Halyard Health</td>\n",
       "      <td>Protective Apparel</td>\n",
       "      <td>Headwear</td>\n",
       "      <td>HALYARD* Spunbond Bouffant Caps</td>\n",
       "      <td>47323</td>\n",
       "      <td>Size:X-Large, Color:Red, Brand:HALYARD*, Steri...</td>\n",
       "      <td>https://products.halyardhealth.com/infection-p...</td>\n",
       "      <td>NaN</td>\n",
       "      <td>NaN</td>\n",
       "    </tr>\n",
       "    <tr>\n",
       "      <th>285</th>\n",
       "      <td>Halyard Health</td>\n",
       "      <td>Protective Apparel</td>\n",
       "      <td>Headwear</td>\n",
       "      <td>HALYARD* Spunbond Bouffant Caps</td>\n",
       "      <td>47322</td>\n",
       "      <td>Size:Large, Color:Red, Brand:HALYARD*, Sterile...</td>\n",
       "      <td>https://products.halyardhealth.com/infection-p...</td>\n",
       "      <td>NaN</td>\n",
       "      <td>NaN</td>\n",
       "    </tr>\n",
       "    <tr>\n",
       "      <th>286</th>\n",
       "      <td>Halyard Health</td>\n",
       "      <td>Protective Apparel</td>\n",
       "      <td>Headwear</td>\n",
       "      <td>HALYARD* COVER MAX* Surgical Cap</td>\n",
       "      <td>47318</td>\n",
       "      <td>Size:Universal, Expected Exposure to Fluids or...</td>\n",
       "      <td>https://products.halyardhealth.com/infection-p...</td>\n",
       "      <td>NaN</td>\n",
       "      <td>NaN</td>\n",
       "    </tr>\n",
       "    <tr>\n",
       "      <th>287</th>\n",
       "      <td>Halyard Health</td>\n",
       "      <td>Protective Apparel</td>\n",
       "      <td>Headwear</td>\n",
       "      <td>HALYARD* COVER MAX* Surgical Cap with CAPTURE ...</td>\n",
       "      <td>47317</td>\n",
       "      <td>Size:Universal, Expected Exposure to Fluids or...</td>\n",
       "      <td>https://products.halyardhealth.com/infection-p...</td>\n",
       "      <td>NaN</td>\n",
       "      <td>NaN</td>\n",
       "    </tr>\n",
       "    <tr>\n",
       "      <th>288</th>\n",
       "      <td>Halyard Health</td>\n",
       "      <td>Protective Apparel</td>\n",
       "      <td>Footwear</td>\n",
       "      <td>Heavy-Duty Shoe Cover</td>\n",
       "      <td>69551</td>\n",
       "      <td>, UNSPSC Classification:42131609, Sterile:No, ...</td>\n",
       "      <td>https://products.halyardhealth.com/infection-p...</td>\n",
       "      <td>NaN</td>\n",
       "      <td>NaN</td>\n",
       "    </tr>\n",
       "    <tr>\n",
       "      <th>289</th>\n",
       "      <td>Halyard Health</td>\n",
       "      <td>Protective Apparel</td>\n",
       "      <td>Footwear</td>\n",
       "      <td>HALYARD BASICS* Shoe Cover</td>\n",
       "      <td>69114</td>\n",
       "      <td>Size:Universal, Brand:HALYARD BASICS*, UNSPSC ...</td>\n",
       "      <td>https://products.halyardhealth.com/infection-p...</td>\n",
       "      <td>NaN</td>\n",
       "      <td>NaN</td>\n",
       "    </tr>\n",
       "    <tr>\n",
       "      <th>290</th>\n",
       "      <td>Halyard Health</td>\n",
       "      <td>Protective Apparel</td>\n",
       "      <td>Footwear</td>\n",
       "      <td>HALYARD BASICS* Shoe Cover</td>\n",
       "      <td>69121</td>\n",
       "      <td>Size:X-Large, Brand:HALYARD BASICS*, UNSPSC Cl...</td>\n",
       "      <td>https://products.halyardhealth.com/infection-p...</td>\n",
       "      <td>NaN</td>\n",
       "      <td>NaN</td>\n",
       "    </tr>\n",
       "    <tr>\n",
       "      <th>291</th>\n",
       "      <td>Halyard Health</td>\n",
       "      <td>Protective Apparel</td>\n",
       "      <td>Footwear</td>\n",
       "      <td>X-TRA TRACTION* Shoe Cover</td>\n",
       "      <td>69254</td>\n",
       "      <td>Size:X-Large, Brand:X-TRA TRACTION*, UNSPSC Cl...</td>\n",
       "      <td>https://products.halyardhealth.com/infection-p...</td>\n",
       "      <td>NaN</td>\n",
       "      <td>NaN</td>\n",
       "    </tr>\n",
       "    <tr>\n",
       "      <th>292</th>\n",
       "      <td>Halyard Health</td>\n",
       "      <td>Protective Apparel</td>\n",
       "      <td>Footwear</td>\n",
       "      <td>X-TRA TRACTION* Shoe Cover</td>\n",
       "      <td>69252</td>\n",
       "      <td>Size:Universal, Brand:X-TRA TRACTION*, UNSPSC ...</td>\n",
       "      <td>https://products.halyardhealth.com/infection-p...</td>\n",
       "      <td>NaN</td>\n",
       "      <td>NaN</td>\n",
       "    </tr>\n",
       "    <tr>\n",
       "      <th>293</th>\n",
       "      <td>Halyard Health</td>\n",
       "      <td>Protective Apparel</td>\n",
       "      <td>Footwear</td>\n",
       "      <td>HALYARD* ANKLE GUARD* Shoe Cover</td>\n",
       "      <td>69353</td>\n",
       "      <td>Size:X-Large, Brand:HALYARD*, UNSPSC Classific...</td>\n",
       "      <td>https://products.halyardhealth.com/infection-p...</td>\n",
       "      <td>NaN</td>\n",
       "      <td>NaN</td>\n",
       "    </tr>\n",
       "    <tr>\n",
       "      <th>294</th>\n",
       "      <td>Halyard Health</td>\n",
       "      <td>Protective Apparel</td>\n",
       "      <td>Footwear</td>\n",
       "      <td>HALYARD* ANKLE GUARD* Shoe Cover</td>\n",
       "      <td>69253</td>\n",
       "      <td>Size:Universal, Brand:HALYARD*, UNSPSC Classif...</td>\n",
       "      <td>https://products.halyardhealth.com/infection-p...</td>\n",
       "      <td>NaN</td>\n",
       "      <td>NaN</td>\n",
       "    </tr>\n",
       "    <tr>\n",
       "      <th>295</th>\n",
       "      <td>Halyard Health</td>\n",
       "      <td>Protective Apparel</td>\n",
       "      <td>Footwear</td>\n",
       "      <td>HI GUARD* Full Coverage Boot</td>\n",
       "      <td>69571</td>\n",
       "      <td>Size:Universal, Type of Coverage:Regular Full ...</td>\n",
       "      <td>https://products.halyardhealth.com/infection-p...</td>\n",
       "      <td>NaN</td>\n",
       "      <td>NaN</td>\n",
       "    </tr>\n",
       "    <tr>\n",
       "      <th>296</th>\n",
       "      <td>Halyard Health</td>\n",
       "      <td>Protective Apparel</td>\n",
       "      <td>Footwear</td>\n",
       "      <td>HI GUARD* Full Coverage Boot</td>\n",
       "      <td>69671</td>\n",
       "      <td>Size:X-Large, Type of Coverage:Regular Full Co...</td>\n",
       "      <td>https://products.halyardhealth.com/infection-p...</td>\n",
       "      <td>NaN</td>\n",
       "      <td>NaN</td>\n",
       "    </tr>\n",
       "    <tr>\n",
       "      <th>297</th>\n",
       "      <td>Halyard Health</td>\n",
       "      <td>Protective Apparel</td>\n",
       "      <td>Footwear</td>\n",
       "      <td>HI GUARD* Full Coverage Boot</td>\n",
       "      <td>69572</td>\n",
       "      <td>Size:Universal, Type of Coverage:Ultra Full Co...</td>\n",
       "      <td>https://products.halyardhealth.com/infection-p...</td>\n",
       "      <td>NaN</td>\n",
       "      <td>NaN</td>\n",
       "    </tr>\n",
       "    <tr>\n",
       "      <th>298</th>\n",
       "      <td>Halyard Health</td>\n",
       "      <td>Protective Apparel</td>\n",
       "      <td>Footwear</td>\n",
       "      <td>HI GUARD* Full Coverage Boot</td>\n",
       "      <td>69672</td>\n",
       "      <td>Size:X-Large, Type of Coverage:Ultra Full Cove...</td>\n",
       "      <td>https://products.halyardhealth.com/infection-p...</td>\n",
       "      <td>NaN</td>\n",
       "      <td>NaN</td>\n",
       "    </tr>\n",
       "    <tr>\n",
       "      <th>299</th>\n",
       "      <td>Halyard Health</td>\n",
       "      <td>Protective Apparel</td>\n",
       "      <td>Lab Coats &amp; Lab Jackets</td>\n",
       "      <td>HALYARD* BASIC* Lab Coat with Traditional Coll...</td>\n",
       "      <td>10120</td>\n",
       "      <td>Size:Small, Chest:57.15 cm., Front Length:95.3...</td>\n",
       "      <td>https://products.halyardhealth.com/infection-p...</td>\n",
       "      <td>NaN</td>\n",
       "      <td>NaN</td>\n",
       "    </tr>\n",
       "    <tr>\n",
       "      <th>300</th>\n",
       "      <td>Halyard Health</td>\n",
       "      <td>Protective Apparel</td>\n",
       "      <td>Lab Coats &amp; Lab Jackets</td>\n",
       "      <td>HALYARD* BASIC* Lab Coat with Traditional Coll...</td>\n",
       "      <td>10121</td>\n",
       "      <td>Size:Medium, Chest:60.35 cm., Front Length:106...</td>\n",
       "      <td>https://products.halyardhealth.com/infection-p...</td>\n",
       "      <td>NaN</td>\n",
       "      <td>NaN</td>\n",
       "    </tr>\n",
       "    <tr>\n",
       "      <th>301</th>\n",
       "      <td>Halyard Health</td>\n",
       "      <td>Protective Apparel</td>\n",
       "      <td>Lab Coats &amp; Lab Jackets</td>\n",
       "      <td>HALYARD* BASIC* Lab Coat with Traditional Coll...</td>\n",
       "      <td>10122</td>\n",
       "      <td>Size:Large, Chest:67.75 cm., Front Length:107....</td>\n",
       "      <td>https://products.halyardhealth.com/infection-p...</td>\n",
       "      <td>NaN</td>\n",
       "      <td>NaN</td>\n",
       "    </tr>\n",
       "    <tr>\n",
       "      <th>302</th>\n",
       "      <td>Halyard Health</td>\n",
       "      <td>Protective Apparel</td>\n",
       "      <td>Lab Coats &amp; Lab Jackets</td>\n",
       "      <td>HALYARD* BASIC* Lab Coat with Traditional Coll...</td>\n",
       "      <td>10123</td>\n",
       "      <td>Size:X-Large, Chest:73.05 cm., Front Length:10...</td>\n",
       "      <td>https://products.halyardhealth.com/infection-p...</td>\n",
       "      <td>NaN</td>\n",
       "      <td>NaN</td>\n",
       "    </tr>\n",
       "    <tr>\n",
       "      <th>303</th>\n",
       "      <td>Halyard Health</td>\n",
       "      <td>Protective Apparel</td>\n",
       "      <td>Lab Coats &amp; Lab Jackets</td>\n",
       "      <td>HALYARD* BASIC* Lab Coat with Traditional Coll...</td>\n",
       "      <td>10124</td>\n",
       "      <td>Size:XX-Large, Chest:81.45 cm., Front Length:1...</td>\n",
       "      <td>https://products.halyardhealth.com/infection-p...</td>\n",
       "      <td>NaN</td>\n",
       "      <td>NaN</td>\n",
       "    </tr>\n",
       "    <tr>\n",
       "      <th>304</th>\n",
       "      <td>Halyard Health</td>\n",
       "      <td>Protective Apparel</td>\n",
       "      <td>Lab Coats &amp; Lab Jackets</td>\n",
       "      <td>HALYARD* BASIC* Lab Coat with Traditional Coll...</td>\n",
       "      <td>10157</td>\n",
       "      <td>Size:XXX-Large, Chest:91.5 cm., Front Length:1...</td>\n",
       "      <td>https://products.halyardhealth.com/infection-p...</td>\n",
       "      <td>NaN</td>\n",
       "      <td>NaN</td>\n",
       "    </tr>\n",
       "    <tr>\n",
       "      <th>305</th>\n",
       "      <td>Halyard Health</td>\n",
       "      <td>Protective Apparel</td>\n",
       "      <td>Lab Coats &amp; Lab Jackets</td>\n",
       "      <td>HALYARD* BASIC* Plus Lab Coat with Knit Collar...</td>\n",
       "      <td>10020</td>\n",
       "      <td>Size:Small, Color:White, Chest:54.2 cm., Front...</td>\n",
       "      <td>https://products.halyardhealth.com/infection-p...</td>\n",
       "      <td>NaN</td>\n",
       "      <td>NaN</td>\n",
       "    </tr>\n",
       "    <tr>\n",
       "      <th>306</th>\n",
       "      <td>Halyard Health</td>\n",
       "      <td>Protective Apparel</td>\n",
       "      <td>Lab Coats &amp; Lab Jackets</td>\n",
       "      <td>Universal Precautions Lab Coat</td>\n",
       "      <td>10040</td>\n",
       "      <td>Size:Small, Color:White, Chest:54.2 cm., Front...</td>\n",
       "      <td>https://products.halyardhealth.com/infection-p...</td>\n",
       "      <td>NaN</td>\n",
       "      <td>NaN</td>\n",
       "    </tr>\n",
       "    <tr>\n",
       "      <th>307</th>\n",
       "      <td>Halyard Health</td>\n",
       "      <td>Protective Apparel</td>\n",
       "      <td>Lab Coats &amp; Lab Jackets</td>\n",
       "      <td>Professional Lab Jacket</td>\n",
       "      <td>10067</td>\n",
       "      <td>Size:Medium, Chest:60.75 cm., UK SKU:P1006757,...</td>\n",
       "      <td>https://products.halyardhealth.com/infection-p...</td>\n",
       "      <td>NaN</td>\n",
       "      <td>NaN</td>\n",
       "    </tr>\n",
       "    <tr>\n",
       "      <th>308</th>\n",
       "      <td>Halyard Health</td>\n",
       "      <td>Protective Apparel</td>\n",
       "      <td>Lab Coats &amp; Lab Jackets</td>\n",
       "      <td>Professional Lab Jacket</td>\n",
       "      <td>10078</td>\n",
       "      <td>Size:Large, Chest:68.4 cm., UK SKU:P1007857, B...</td>\n",
       "      <td>https://products.halyardhealth.com/infection-p...</td>\n",
       "      <td>NaN</td>\n",
       "      <td>NaN</td>\n",
       "    </tr>\n",
       "    <tr>\n",
       "      <th>309</th>\n",
       "      <td>Halyard Health</td>\n",
       "      <td>Protective Apparel</td>\n",
       "      <td>Lab Coats &amp; Lab Jackets</td>\n",
       "      <td>Professional Lab Jacket</td>\n",
       "      <td>10087</td>\n",
       "      <td>Size:X-Large, Chest:73.35 cm., UK SKU:P1008757...</td>\n",
       "      <td>https://products.halyardhealth.com/infection-p...</td>\n",
       "      <td>NaN</td>\n",
       "      <td>NaN</td>\n",
       "    </tr>\n",
       "    <tr>\n",
       "      <th>310</th>\n",
       "      <td>Halyard Health</td>\n",
       "      <td>Protective Apparel</td>\n",
       "      <td>Lab Coats &amp; Lab Jackets</td>\n",
       "      <td>Universal Precautions Lab Jacket</td>\n",
       "      <td>10069</td>\n",
       "      <td>Size:Small, Chest:54.2 cm., Back Length:105.4 ...</td>\n",
       "      <td>https://products.halyardhealth.com/infection-p...</td>\n",
       "      <td>NaN</td>\n",
       "      <td>NaN</td>\n",
       "    </tr>\n",
       "    <tr>\n",
       "      <th>311</th>\n",
       "      <td>Halyard Health</td>\n",
       "      <td>Protective Apparel</td>\n",
       "      <td>Lab Coats &amp; Lab Jackets</td>\n",
       "      <td>Universal Precautions Lab Jacket</td>\n",
       "      <td>10071</td>\n",
       "      <td>Size:Medium, Chest:60.75 cm., UK SKU:P1007157,...</td>\n",
       "      <td>https://products.halyardhealth.com/infection-p...</td>\n",
       "      <td>NaN</td>\n",
       "      <td>NaN</td>\n",
       "    </tr>\n",
       "    <tr>\n",
       "      <th>312</th>\n",
       "      <td>Halyard Health</td>\n",
       "      <td>Protective Apparel</td>\n",
       "      <td>Lab Coats &amp; Lab Jackets</td>\n",
       "      <td>Universal Precautions Lab Jacket</td>\n",
       "      <td>10072</td>\n",
       "      <td>Size:Large, Chest:68.24 cm., Back Length:77.5 ...</td>\n",
       "      <td>https://products.halyardhealth.com/infection-p...</td>\n",
       "      <td>NaN</td>\n",
       "      <td>NaN</td>\n",
       "    </tr>\n",
       "    <tr>\n",
       "      <th>313</th>\n",
       "      <td>Halyard Health</td>\n",
       "      <td>Protective Apparel</td>\n",
       "      <td>Lab Coats &amp; Lab Jackets</td>\n",
       "      <td>Universal Precautions Lab Jacket</td>\n",
       "      <td>10073</td>\n",
       "      <td>Size:X-Large, Chest:72.35 cm., Back Length:118...</td>\n",
       "      <td>https://products.halyardhealth.com/infection-p...</td>\n",
       "      <td>NaN</td>\n",
       "      <td>NaN</td>\n",
       "    </tr>\n",
       "    <tr>\n",
       "      <th>314</th>\n",
       "      <td>Halyard Health</td>\n",
       "      <td>Protective Apparel</td>\n",
       "      <td>Lab Coats &amp; Lab Jackets</td>\n",
       "      <td>HALYARD* Spunbond Lab Coat</td>\n",
       "      <td>10231</td>\n",
       "      <td>Size:Small, Length:104 cm., Sleeve Length:76 c...</td>\n",
       "      <td>https://products.halyardhealth.com/infection-p...</td>\n",
       "      <td>NaN</td>\n",
       "      <td>NaN</td>\n",
       "    </tr>\n",
       "    <tr>\n",
       "      <th>315</th>\n",
       "      <td>Halyard Health</td>\n",
       "      <td>Protective Apparel</td>\n",
       "      <td>Lab Coats &amp; Lab Jackets</td>\n",
       "      <td>HALYARD* Spunbond Lab Coat</td>\n",
       "      <td>10232</td>\n",
       "      <td>Size:Medium, Length:107 cm., Sleeve Length:82 ...</td>\n",
       "      <td>https://products.halyardhealth.com/infection-p...</td>\n",
       "      <td>NaN</td>\n",
       "      <td>NaN</td>\n",
       "    </tr>\n",
       "    <tr>\n",
       "      <th>316</th>\n",
       "      <td>Halyard Health</td>\n",
       "      <td>Protective Apparel</td>\n",
       "      <td>Lab Coats &amp; Lab Jackets</td>\n",
       "      <td>HALYARD* Spunbond Lab Coat</td>\n",
       "      <td>10233</td>\n",
       "      <td>Size:Large, Length:110 cm., Sleeve Length:90 c...</td>\n",
       "      <td>https://products.halyardhealth.com/infection-p...</td>\n",
       "      <td>NaN</td>\n",
       "      <td>NaN</td>\n",
       "    </tr>\n",
       "    <tr>\n",
       "      <th>317</th>\n",
       "      <td>Halyard Health</td>\n",
       "      <td>Protective Apparel</td>\n",
       "      <td>Lab Coats &amp; Lab Jackets</td>\n",
       "      <td>HALYARD* Spunbond Lab Coat</td>\n",
       "      <td>10234</td>\n",
       "      <td>Size:X-Large, Length:113 cm., Sleeve Length:93...</td>\n",
       "      <td>https://products.halyardhealth.com/infection-p...</td>\n",
       "      <td>NaN</td>\n",
       "      <td>NaN</td>\n",
       "    </tr>\n",
       "    <tr>\n",
       "      <th>318</th>\n",
       "      <td>Halyard Health</td>\n",
       "      <td>Protective Apparel</td>\n",
       "      <td>Lab Coats &amp; Lab Jackets</td>\n",
       "      <td>HALYARD* Spunbond Lab Coat</td>\n",
       "      <td>10235</td>\n",
       "      <td>Size:XX-Large, Length:117 cm., Sleeve Length:9...</td>\n",
       "      <td>https://products.halyardhealth.com/infection-p...</td>\n",
       "      <td>NaN</td>\n",
       "      <td>NaN</td>\n",
       "    </tr>\n",
       "    <tr>\n",
       "      <th>319</th>\n",
       "      <td>Halyard Health</td>\n",
       "      <td>Protective Apparel</td>\n",
       "      <td>Lab Coats &amp; Lab Jackets</td>\n",
       "      <td>HALYARD* Medium Weight SMS Lab Jacket</td>\n",
       "      <td>10334</td>\n",
       "      <td>Size:Small, Length:68 cm., Sleeve Length:86 cm...</td>\n",
       "      <td>https://products.halyardhealth.com/infection-p...</td>\n",
       "      <td>NaN</td>\n",
       "      <td>NaN</td>\n",
       "    </tr>\n",
       "    <tr>\n",
       "      <th>320</th>\n",
       "      <td>Halyard Health</td>\n",
       "      <td>Protective Apparel</td>\n",
       "      <td>Lab Coats &amp; Lab Jackets</td>\n",
       "      <td>HALYARD* Medium Weight SMS Lab Jacket</td>\n",
       "      <td>10335</td>\n",
       "      <td>Size:Medium, Length:72 cm., Sleeve Length:89 c...</td>\n",
       "      <td>https://products.halyardhealth.com/infection-p...</td>\n",
       "      <td>NaN</td>\n",
       "      <td>NaN</td>\n",
       "    </tr>\n",
       "    <tr>\n",
       "      <th>321</th>\n",
       "      <td>Halyard Health</td>\n",
       "      <td>Protective Apparel</td>\n",
       "      <td>Lab Coats &amp; Lab Jackets</td>\n",
       "      <td>HALYARD* Medium Weight SMS Lab Jacket</td>\n",
       "      <td>10336</td>\n",
       "      <td>Size:Large, Length:78 cm., Sleeve Length:91.5 ...</td>\n",
       "      <td>https://products.halyardhealth.com/infection-p...</td>\n",
       "      <td>NaN</td>\n",
       "      <td>NaN</td>\n",
       "    </tr>\n",
       "    <tr>\n",
       "      <th>322</th>\n",
       "      <td>Halyard Health</td>\n",
       "      <td>Protective Apparel</td>\n",
       "      <td>Lab Coats &amp; Lab Jackets</td>\n",
       "      <td>HALYARD* Medium Weight SMS Lab Jacket</td>\n",
       "      <td>10337</td>\n",
       "      <td>Size:X-Large, Length:88 cm., Sleeve Length:100...</td>\n",
       "      <td>https://products.halyardhealth.com/infection-p...</td>\n",
       "      <td>NaN</td>\n",
       "      <td>NaN</td>\n",
       "    </tr>\n",
       "    <tr>\n",
       "      <th>323</th>\n",
       "      <td>Halyard Health</td>\n",
       "      <td>Protective Apparel</td>\n",
       "      <td>Lab Coats &amp; Lab Jackets</td>\n",
       "      <td>HALYARD* Medium Weight SMS Lab Jacket</td>\n",
       "      <td>10338</td>\n",
       "      <td>Size:XX-Large, Length:94 cm., Sleeve Length:11...</td>\n",
       "      <td>https://products.halyardhealth.com/infection-p...</td>\n",
       "      <td>NaN</td>\n",
       "      <td>NaN</td>\n",
       "    </tr>\n",
       "    <tr>\n",
       "      <th>324</th>\n",
       "      <td>Halyard Health</td>\n",
       "      <td>Protective Apparel</td>\n",
       "      <td>Coveralls</td>\n",
       "      <td>Protective Coverall</td>\n",
       "      <td>75631</td>\n",
       "      <td>Size:Large, Chest:66.05 cm., Back Length:170.2...</td>\n",
       "      <td>https://products.halyardhealth.com/infection-p...</td>\n",
       "      <td>NaN</td>\n",
       "      <td>NaN</td>\n",
       "    </tr>\n",
       "    <tr>\n",
       "      <th>325</th>\n",
       "      <td>Halyard Health</td>\n",
       "      <td>Protective Apparel</td>\n",
       "      <td>Coveralls</td>\n",
       "      <td>Protective Coverall</td>\n",
       "      <td>75641</td>\n",
       "      <td>Size:X-Large, Chest:67.95 cm., Back Length:172...</td>\n",
       "      <td>https://products.halyardhealth.com/infection-p...</td>\n",
       "      <td>NaN</td>\n",
       "      <td>NaN</td>\n",
       "    </tr>\n",
       "    <tr>\n",
       "      <th>326</th>\n",
       "      <td>Halyard Health</td>\n",
       "      <td>Protective Apparel</td>\n",
       "      <td>Coveralls</td>\n",
       "      <td>Protective Coverall</td>\n",
       "      <td>75651</td>\n",
       "      <td>Size:XX-Large, Chest:71.1 cm., Back Length:174...</td>\n",
       "      <td>https://products.halyardhealth.com/infection-p...</td>\n",
       "      <td>NaN</td>\n",
       "      <td>NaN</td>\n",
       "    </tr>\n",
       "    <tr>\n",
       "      <th>327</th>\n",
       "      <td>Halyard Health</td>\n",
       "      <td>Protective Apparel</td>\n",
       "      <td>Coveralls</td>\n",
       "      <td>Extra Protection Coverall with Elastic Cuffs</td>\n",
       "      <td>10075</td>\n",
       "      <td>Size:Large, Chest:65.4 cm., Front Length:167.6...</td>\n",
       "      <td>https://products.halyardhealth.com/infection-p...</td>\n",
       "      <td>NaN</td>\n",
       "      <td>NaN</td>\n",
       "    </tr>\n",
       "    <tr>\n",
       "      <th>328</th>\n",
       "      <td>Halyard Health</td>\n",
       "      <td>Protective Apparel</td>\n",
       "      <td>Coveralls</td>\n",
       "      <td>Extra Protection Coverall with Elastic Cuffs</td>\n",
       "      <td>10096</td>\n",
       "      <td>Size:XXX-Large, Chest:76 cm., Front Length:190...</td>\n",
       "      <td>https://products.halyardhealth.com/infection-p...</td>\n",
       "      <td>NaN</td>\n",
       "      <td>NaN</td>\n",
       "    </tr>\n",
       "    <tr>\n",
       "      <th>329</th>\n",
       "      <td>Halyard Health</td>\n",
       "      <td>Protective Apparel</td>\n",
       "      <td>Coveralls</td>\n",
       "      <td>Extra Protection Coverall with Elastic Cuffs</td>\n",
       "      <td>10085</td>\n",
       "      <td>Size:X-Large, Chest:68.6 cm., Front Length:170...</td>\n",
       "      <td>https://products.halyardhealth.com/infection-p...</td>\n",
       "      <td>NaN</td>\n",
       "      <td>NaN</td>\n",
       "    </tr>\n",
       "    <tr>\n",
       "      <th>330</th>\n",
       "      <td>Halyard Health</td>\n",
       "      <td>Protective Apparel</td>\n",
       "      <td>Coveralls</td>\n",
       "      <td>Extra Protection Coverall with Elastic Cuffs</td>\n",
       "      <td>10095</td>\n",
       "      <td>Size:XX-Large, Chest:73.05 cm., Front Length:1...</td>\n",
       "      <td>https://products.halyardhealth.com/infection-p...</td>\n",
       "      <td>NaN</td>\n",
       "      <td>NaN</td>\n",
       "    </tr>\n",
       "    <tr>\n",
       "      <th>331</th>\n",
       "      <td>Halyard Health</td>\n",
       "      <td>Protective Apparel</td>\n",
       "      <td>Aprons</td>\n",
       "      <td>General Purpose Apron</td>\n",
       "      <td>69350</td>\n",
       "      <td>, Brand:HALYARD*, UNSPSC Classification:421316...</td>\n",
       "      <td>https://products.halyardhealth.com/infection-p...</td>\n",
       "      <td>NaN</td>\n",
       "      <td>NaN</td>\n",
       "    </tr>\n",
       "    <tr>\n",
       "      <th>332</th>\n",
       "      <td>Halyard Health</td>\n",
       "      <td>Protective Apparel</td>\n",
       "      <td>Scrub Pants &amp; Scrub Shirts</td>\n",
       "      <td>Scrub Pants</td>\n",
       "      <td>69711</td>\n",
       "      <td>Size:Medium, Front Length:109.3 cm., UK SKU:P6...</td>\n",
       "      <td>https://products.halyardhealth.com/infection-p...</td>\n",
       "      <td>NaN</td>\n",
       "      <td>NaN</td>\n",
       "    </tr>\n",
       "    <tr>\n",
       "      <th>333</th>\n",
       "      <td>Halyard Health</td>\n",
       "      <td>Protective Apparel</td>\n",
       "      <td>Scrub Pants &amp; Scrub Shirts</td>\n",
       "      <td>Scrub Pants</td>\n",
       "      <td>69712</td>\n",
       "      <td>Size:Large, Front Length:115.5 cm., UK SKU:P69...</td>\n",
       "      <td>https://products.halyardhealth.com/infection-p...</td>\n",
       "      <td>NaN</td>\n",
       "      <td>NaN</td>\n",
       "    </tr>\n",
       "    <tr>\n",
       "      <th>334</th>\n",
       "      <td>Halyard Health</td>\n",
       "      <td>Protective Apparel</td>\n",
       "      <td>Scrub Pants &amp; Scrub Shirts</td>\n",
       "      <td>Scrub Pants</td>\n",
       "      <td>69713</td>\n",
       "      <td>Size:X-Large, Front Length:119.9 cm., UK SKU:P...</td>\n",
       "      <td>https://products.halyardhealth.com/infection-p...</td>\n",
       "      <td>NaN</td>\n",
       "      <td>NaN</td>\n",
       "    </tr>\n",
       "    <tr>\n",
       "      <th>335</th>\n",
       "      <td>Halyard Health</td>\n",
       "      <td>Protective Apparel</td>\n",
       "      <td>Scrub Pants &amp; Scrub Shirts</td>\n",
       "      <td>Scrub Pants</td>\n",
       "      <td>69714</td>\n",
       "      <td>Size:XX-Large, Front Length:124.4 cm., UK SKU:...</td>\n",
       "      <td>https://products.halyardhealth.com/infection-p...</td>\n",
       "      <td>NaN</td>\n",
       "      <td>NaN</td>\n",
       "    </tr>\n",
       "    <tr>\n",
       "      <th>336</th>\n",
       "      <td>Halyard Health</td>\n",
       "      <td>Protective Apparel</td>\n",
       "      <td>Scrub Pants &amp; Scrub Shirts</td>\n",
       "      <td>Scrub Shirt</td>\n",
       "      <td>69701</td>\n",
       "      <td>Size:Medium, Front Length:71.1 cm., UK SKU:P69...</td>\n",
       "      <td>https://products.halyardhealth.com/infection-p...</td>\n",
       "      <td>NaN</td>\n",
       "      <td>NaN</td>\n",
       "    </tr>\n",
       "    <tr>\n",
       "      <th>337</th>\n",
       "      <td>Halyard Health</td>\n",
       "      <td>Protective Apparel</td>\n",
       "      <td>Scrub Pants &amp; Scrub Shirts</td>\n",
       "      <td>Scrub Shirt</td>\n",
       "      <td>69702</td>\n",
       "      <td>Size:Large, Front Length:71.1 cm., UK SKU:P697...</td>\n",
       "      <td>https://products.halyardhealth.com/infection-p...</td>\n",
       "      <td>NaN</td>\n",
       "      <td>NaN</td>\n",
       "    </tr>\n",
       "    <tr>\n",
       "      <th>338</th>\n",
       "      <td>Halyard Health</td>\n",
       "      <td>Protective Apparel</td>\n",
       "      <td>Scrub Pants &amp; Scrub Shirts</td>\n",
       "      <td>Scrub Shirt</td>\n",
       "      <td>69703</td>\n",
       "      <td>Size:X-Large, Front Length:77.5 cm., UK SKU:P6...</td>\n",
       "      <td>https://products.halyardhealth.com/infection-p...</td>\n",
       "      <td>NaN</td>\n",
       "      <td>NaN</td>\n",
       "    </tr>\n",
       "    <tr>\n",
       "      <th>339</th>\n",
       "      <td>Halyard Health</td>\n",
       "      <td>Protective Apparel</td>\n",
       "      <td>Scrub Pants &amp; Scrub Shirts</td>\n",
       "      <td>Scrub Shirt</td>\n",
       "      <td>69704</td>\n",
       "      <td>Size:XX-Large, Front Length:75.6 cm., UK SKU:P...</td>\n",
       "      <td>https://products.halyardhealth.com/infection-p...</td>\n",
       "      <td>NaN</td>\n",
       "      <td>NaN</td>\n",
       "    </tr>\n",
       "  </tbody>\n",
       "</table>\n",
       "</div>"
      ],
      "text/plain": [
       "                mfg                            group                           sub-group                                       product_line product_number  \\\n",
       "0    Halyard Health              Medical Exam Gloves                             Nitrile                  STERLING ZERO* Nitrile Exam Glove          47459   \n",
       "1    Halyard Health              Medical Exam Gloves                             Nitrile                  STERLING ZERO* Nitrile Exam Glove          47460   \n",
       "2    Halyard Health              Medical Exam Gloves                             Nitrile                  STERLING ZERO* Nitrile Exam Glove          47461   \n",
       "3    Halyard Health              Medical Exam Gloves                             Nitrile                  STERLING ZERO* Nitrile Exam Glove          47462   \n",
       "4    Halyard Health              Medical Exam Gloves                             Nitrile                  STERLING ZERO* Nitrile Exam Glove          47463   \n",
       "5    Halyard Health              Medical Exam Gloves                             Nitrile                    PURPLE NITRILE-XTRA* Exam Glove          14259   \n",
       "6    Halyard Health              Medical Exam Gloves                             Nitrile                     PURPLE NITRILE* MAX Exam Glove          44992   \n",
       "7    Halyard Health              Medical Exam Gloves                             Nitrile                     PURPLE NITRILE* MAX Exam Glove          44993   \n",
       "8    Halyard Health              Medical Exam Gloves                             Nitrile                     PURPLE NITRILE* MAX Exam Glove          44994   \n",
       "9    Halyard Health              Medical Exam Gloves                             Nitrile                     PURPLE NITRILE* MAX Exam Glove          44995   \n",
       "10   Halyard Health              Medical Exam Gloves                             Nitrile                       LAVENDER* Nitrile Exam Glove          52816   \n",
       "11   Halyard Health              Medical Exam Gloves                             Nitrile                       LAVENDER* Nitrile Exam Glove          52817   \n",
       "12   Halyard Health              Medical Exam Gloves                             Nitrile                       LAVENDER* Nitrile Exam Glove          52818   \n",
       "13   Halyard Health              Medical Exam Gloves                             Nitrile                       LAVENDER* Nitrile Exam Glove          52819   \n",
       "14   Halyard Health              Medical Exam Gloves                             Nitrile                       LAVENDER* Nitrile Exam Glove          52820   \n",
       "15   Halyard Health              Medical Exam Gloves                             Nitrile           HALYARD* BLACK-FIRE* Nitrile Exam Gloves          44755   \n",
       "16   Halyard Health              Medical Exam Gloves                             Nitrile           HALYARD* BLACK-FIRE* Nitrile Exam Gloves          44756   \n",
       "17   Halyard Health              Medical Exam Gloves                             Nitrile           HALYARD* BLACK-FIRE* Nitrile Exam Gloves          44757   \n",
       "18   Halyard Health              Medical Exam Gloves                             Nitrile           HALYARD* BLACK-FIRE* Nitrile Exam Gloves          44758   \n",
       "19   Halyard Health              Medical Exam Gloves                             Nitrile           HALYARD* BLACK-FIRE* Nitrile Exam Gloves          44759   \n",
       "20   Halyard Health              Medical Exam Gloves                             Nitrile              HALYARD* AQUASOFT* Nitrile Exam Glove          43932   \n",
       "21   Halyard Health              Medical Exam Gloves                             Nitrile              HALYARD* AQUASOFT* Nitrile Exam Glove          43933   \n",
       "22   Halyard Health              Medical Exam Gloves                             Nitrile              HALYARD* AQUASOFT* Nitrile Exam Glove          43934   \n",
       "23   Halyard Health              Medical Exam Gloves                             Nitrile              HALYARD* AQUASOFT* Nitrile Exam Glove          43935   \n",
       "24   Halyard Health              Medical Exam Gloves                             Nitrile              HALYARD* AQUASOFT* Nitrile Exam Glove          43936   \n",
       "25   Halyard Health              Medical Exam Gloves                             Nitrile                          STERLING-XTRA* Exam Glove          33022   \n",
       "26   Halyard Health              Medical Exam Gloves                             Nitrile               PINK UNDERGUARD* Nitrile Exam Gloves          47452   \n",
       "27   Halyard Health              Medical Exam Gloves                             Nitrile               PINK UNDERGUARD* Nitrile Exam Gloves          47453   \n",
       "28   Halyard Health              Medical Exam Gloves                             Nitrile               PINK UNDERGUARD* Nitrile Exam Gloves          47454   \n",
       "29   Halyard Health              Medical Exam Gloves                             Nitrile               PINK UNDERGUARD* Nitrile Exam Gloves          47455   \n",
       "30   Halyard Health              Medical Exam Gloves                             Nitrile               PINK UNDERGUARD* Nitrile Exam Gloves          47456   \n",
       "31   Halyard Health              Medical Exam Gloves                             Nitrile                      STERLING* Nitrile Exam Glove           55095   \n",
       "32   Halyard Health              Medical Exam Gloves                             Nitrile                  HALYARD* BLUE NITRILE* Exam Glove          53100   \n",
       "33   Halyard Health              Medical Exam Gloves                             Nitrile                  HALYARD* BLUE NITRILE* Exam Glove          53101   \n",
       "34   Halyard Health              Medical Exam Gloves                             Nitrile                  HALYARD* BLUE NITRILE* Exam Glove          53102   \n",
       "35   Halyard Health              Medical Exam Gloves                             Nitrile                  HALYARD* BLUE NITRILE* Exam Glove          53103   \n",
       "36   Halyard Health              Medical Exam Gloves                             Nitrile                  HALYARD* BLUE NITRILE* Exam Glove          53104   \n",
       "37   Halyard Health              Medical Exam Gloves                             Nitrile                  PURPLE NITRILE* Dental Exam Glove          53430   \n",
       "38   Halyard Health              Medical Exam Gloves                             Nitrile                  PURPLE NITRILE* Dental Exam Glove          53431   \n",
       "39   Halyard Health              Medical Exam Gloves                             Nitrile                  PURPLE NITRILE* Dental Exam Glove          53432   \n",
       "40   Halyard Health              Medical Exam Gloves                             Nitrile                  PURPLE NITRILE* Dental Exam Glove          53433   \n",
       "41   Halyard Health              Medical Exam Gloves                             Nitrile                  PURPLE NITRILE* Dental Exam Glove          53434   \n",
       "42   Halyard Health              Medical Exam Gloves                             Nitrile                   STERLING SG* Nitrile Exam Glove           41662   \n",
       "43   Halyard Health              Medical Exam Gloves                             Nitrile                   STERLING SG* Nitrile Exam Glove           41660   \n",
       "44   Halyard Health              Medical Exam Gloves                             Nitrile                   STERLING SG* Nitrile Exam Glove           41659   \n",
       "45   Halyard Health              Medical Exam Gloves                             Nitrile                   STERLING SG* Nitrile Exam Glove           41658   \n",
       "46   Halyard Health              Medical Exam Gloves                             Nitrile                   STERLING SG* Nitrile Exam Glove           41657   \n",
       "47   Halyard Health              Medical Exam Gloves                               Vinyl                         Synthetic Vinyl Exam Glove          55030   \n",
       "48   Halyard Health              Medical Exam Gloves                               Vinyl                         Synthetic Vinyl Exam Glove          55031   \n",
       "49   Halyard Health              Medical Exam Gloves                               Vinyl                         Synthetic Vinyl Exam Glove          55032   \n",
       "50   Halyard Health              Medical Exam Gloves                               Vinyl                         Synthetic Vinyl Exam Glove          55033   \n",
       "51   Halyard Health              Medical Exam Gloves                               Vinyl                         Synthetic Vinyl Exam Glove          55034   \n",
       "52   Halyard Health              Medical Exam Gloves                               Vinyl                         Synthetic Vinyl Exam Glove          50031   \n",
       "53   Halyard Health              Medical Exam Gloves                               Vinyl                         Synthetic Vinyl Exam Glove          50032   \n",
       "54   Halyard Health              Medical Exam Gloves                               Vinyl                         Synthetic Vinyl Exam Glove          50033   \n",
       "55   Halyard Health              Medical Exam Gloves                               Vinyl                         Synthetic Vinyl Exam Glove          50034   \n",
       "56   Halyard Health              Medical Exam Gloves                         Chloroprene                      FLEXAPRENE* GREEN Exam Gloves          44792   \n",
       "57   Halyard Health              Medical Exam Gloves                         Chloroprene                      FLEXAPRENE* GREEN Exam Gloves          44793   \n",
       "58   Halyard Health              Medical Exam Gloves                         Chloroprene                      FLEXAPRENE* GREEN Exam Gloves          44794   \n",
       "59   Halyard Health              Medical Exam Gloves                         Chloroprene                      FLEXAPRENE* GREEN Exam Gloves          44795   \n",
       "60   Halyard Health              Medical Exam Gloves                         Chloroprene                      FLEXAPRENE* GREEN Exam Gloves          44796   \n",
       "61   Halyard Health                     Patient Care                        Cold Therapy                                 Instant Cold Packs          59681   \n",
       "62   Halyard Health                     Patient Care                        Cold Therapy                                 Instant Cold Packs          59688   \n",
       "63   Halyard Health                     Patient Care                        Cold Therapy                          Bilateral Facial Ice Pack          33101   \n",
       "64   Halyard Health                     Patient Care                        Cold Therapy                                STAY-DRY* Ice Packs          33495   \n",
       "65   Halyard Health                     Patient Care                        Cold Therapy                                STAY-DRY* Ice Packs          33500   \n",
       "66   Halyard Health                     Patient Care                        Cold Therapy                                 Standard Ice Packs          33510   \n",
       "67   Halyard Health                     Patient Care                        Cold Therapy                            SOFT 'N COLD* Ice Packs          33625   \n",
       "68   Halyard Health                     Patient Care                        Cold Therapy                            SOFT 'N COLD* Ice Packs          33630   \n",
       "69   Halyard Health                     Patient Care                        Cold Therapy                              SECURE-ALL* Ice Packs          33595   \n",
       "70   Halyard Health                     Patient Care                        Cold Therapy                              SECURE-ALL* Ice Packs          33600   \n",
       "71   Halyard Health                     Patient Care                        Cold Therapy                                  Perineal Ice Pack          33201   \n",
       "72   Halyard Health                     Patient Care                        Cold Therapy                    JUMBO-PLUS* Replacement Bladder          33725   \n",
       "73   Halyard Health                     Patient Care                        Cold Therapy                 JUMBO-PLUS* Ice Pack, Dual Chamber          33724   \n",
       "74   Halyard Health                     Patient Care                        Cold Therapy                              Eyecare EENT Ice Pack          33150   \n",
       "75   Halyard Health                     Patient Care                          IV Therapy                             Antecubital IV Support          29920   \n",
       "76   Halyard Health                     Patient Care                          IV Therapy  HAND-AID* Arterial Replacement Straps, Pad & S...          29985   \n",
       "77   Halyard Health                     Patient Care                          IV Therapy                   HAND-AID* Arterial Wrist Support          29980   \n",
       "78   Halyard Health                     Patient Care                          IV Therapy                   HAND-AID* Arterial Wrist Support          29990   \n",
       "79   Halyard Health                     Patient Care                          IV Therapy                         HAND-AID* IV Wrist Support          29900   \n",
       "80   Halyard Health                     Patient Care                          IV Therapy                         HAND-AID* IV Wrist Support          29970   \n",
       "81   Halyard Health                     Patient Care                          IV Therapy                                         IV Support          29965   \n",
       "82   Halyard Health                     Patient Care                          IV Therapy                                         IV Support          29967   \n",
       "83   Halyard Health                     Patient Care                         Infant Care                                        Baby Beanie          10594   \n",
       "84   Halyard Health                     Patient Care                         Infant Care                       Fetal Monitor Security Strap          37250   \n",
       "85   Halyard Health                     Patient Care                         Infant Care   Fetal Monitor Security Strap, Buttonhole Closure          37221   \n",
       "86   Halyard Health                     Patient Care                         Infant Care                                       Infant Shirt          10595   \n",
       "87   Halyard Health                     Patient Care                         Infant Care                                  Receiving Blanket          62110   \n",
       "88   Halyard Health                     Patient Care                         Infant Care                            Soft Circumcision Strap          37500   \n",
       "89   Halyard Health                     Patient Care                      Patient Linens                                         Exam Sheet          67793   \n",
       "90   Halyard Health                     Patient Care                      Patient Linens                                     Flat Top Sheet          67963   \n",
       "91   Halyard Health                     Patient Care                      Patient Linens                                         Half Sheet          67773   \n",
       "92   Halyard Health                     Patient Care                      Patient Linens                                         Pillowcase          67803   \n",
       "93   Halyard Health                     Patient Care                      Patient Linens                                    Stretcher Sheet          67103   \n",
       "94   Halyard Health                     Patient Care                      Patient Linens                                    Stretcher Sheet          67783   \n",
       "95   Halyard Health                     Patient Care              Telemetry Unit Pouches                               Telemetry Unit Pouch          71825   \n",
       "96   Halyard Health                     Patient Care              Telemetry Unit Pouches                    CLEARVIEW* Telemetry Unit Pouch          71900   \n",
       "97   Halyard Health                     Patient Care              Telemetry Unit Pouches                Telemetry Unit Pouch, Hook and Loop          71800   \n",
       "98   Halyard Health  Facial & Respiratory Protection                 Masks & Respirators  FLUIDSHIELD* Level 1 Fog-Free Procedure Mask w...          41802   \n",
       "99   Halyard Health  Facial & Respiratory Protection                 Masks & Respirators  HALYARD* Blue Level 1 Surgical Mask with Horiz...          47570   \n",
       "100  Halyard Health  Facial & Respiratory Protection                 Masks & Respirators  HALYARD* Aqua Level 3 Anti-fog Procedure Mask ...          47569   \n",
       "101  Halyard Health  Facial & Respiratory Protection                 Masks & Respirators  HALYARD* Level 1 Surgical Mask with Expanded C...          47571   \n",
       "102  Halyard Health  Facial & Respiratory Protection                 Masks & Respirators  HALYARD* Blue Level 2 Procedure Mask with Earl...          47573   \n",
       "103  Halyard Health  Facial & Respiratory Protection                 Masks & Respirators  HALYARD* Level 1 Procedure Mask with Longer Ea...          47576   \n",
       "104  Halyard Health  Facial & Respiratory Protection                 Masks & Respirators  HALYARD* Level 1 Procedure Mask with Longer Ea...          47577   \n",
       "105  Halyard Health  Facial & Respiratory Protection                 Masks & Respirators               HALYARD* Aqua Level 3 Surgical Mask           47574   \n",
       "106  Halyard Health  Facial & Respiratory Protection                 Masks & Respirators               HALYARD* Aqua Level 3 Surgical Mask           47575   \n",
       "107  Halyard Health  Facial & Respiratory Protection                 Masks & Respirators                     HALYARD* Level 1 Sugical Mask           47572   \n",
       "108  Halyard Health  Facial & Respiratory Protection                 Masks & Respirators                     HALYARD* Level 1 Sugical Mask           47578   \n",
       "109  Halyard Health  Facial & Respiratory Protection                 Masks & Respirators                    HALYARD* Level 1 Procedure Mask          47566   \n",
       "110  Halyard Health  Facial & Respiratory Protection                 Masks & Respirators                    HALYARD* Level 1 Procedure Mask          47567   \n",
       "111  Halyard Health  Facial & Respiratory Protection                 Masks & Respirators                    HALYARD* Level 1 Procedure Mask          47568   \n",
       "112  Halyard Health  Facial & Respiratory Protection                 Masks & Respirators  FLUIDSHIELD* Level 1 Anti-Fog Surgical Mask wi...          39125   \n",
       "113  Halyard Health  Facial & Respiratory Protection                 Masks & Respirators  FLUIDSHIELD* Level 1 Surgical Mask with SO SOF...          39117   \n",
       "114  Halyard Health  Facial & Respiratory Protection                 Masks & Respirators  FLUIDSHIELD* Level 1 Surgical Mask with SO SOF...          39118   \n",
       "115  Halyard Health  Facial & Respiratory Protection                 Masks & Respirators  FLUIDSHIELD* Level 2 Expanded Chamber Surgical...          39123   \n",
       "116  Halyard Health  Facial & Respiratory Protection                 Masks & Respirators  FLUIDSHIELD* Level 3 Fog-Free Procedure Mask w...          47137   \n",
       "117  Halyard Health  Facial & Respiratory Protection                 Masks & Respirators  FLUIDSHIELD* Level 3 Fog-Free Procedure Mask, ...          47298   \n",
       "118  Halyard Health  Facial & Respiratory Protection                 Masks & Respirators  FLUIDSHIELD* Level 3 Fog-Free Procedure Mask, ...          00146   \n",
       "119  Halyard Health  Facial & Respiratory Protection                 Masks & Respirators  FLUIDSHIELD* Level 3 Fog-Free Procedure Mask, ...          47147   \n",
       "120  Halyard Health  Facial & Respiratory Protection                 Masks & Respirators  FLUIDSHIELD* Level 3 Fog-Free Procedure Mask, ...          47149   \n",
       "121  Halyard Health  Facial & Respiratory Protection                 Masks & Respirators  FLUIDSHIELD* Level 3 Fog-Free Procedure Mask, ...          28800   \n",
       "122  Halyard Health  Facial & Respiratory Protection                 Masks & Respirators       FLUIDSHIELD* Level 3 Fog-Free Procedure Mask          28797   \n",
       "123  Halyard Health  Facial & Respiratory Protection                 Masks & Respirators       FLUIDSHIELD* Level 3 Fog-Free Procedure Mask          00148   \n",
       "124  Halyard Health  Facial & Respiratory Protection                 Masks & Respirators       FLUIDSHIELD* Level 3 Fog-Free Procedure Mask          47297   \n",
       "125  Halyard Health  Facial & Respiratory Protection                 Masks & Respirators       FLUIDSHIELD* Level 3 Fog-Free Procedure Mask          47107   \n",
       "126  Halyard Health  Facial & Respiratory Protection                 Masks & Respirators  FLUIDSHIELD* Level 2 Fog-Free Procedure Mask, ...          28821   \n",
       "127  Halyard Health  Facial & Respiratory Protection                 Masks & Respirators  FLUIDSHIELD* Level 2 Fog-Free Procedure Mask, ...          62116   \n",
       "128  Halyard Health  Facial & Respiratory Protection                 Masks & Respirators                FLUIDSHIELD* Level 2 Procedure Mask          28810   \n",
       "129  Halyard Health  Facial & Respiratory Protection                 Masks & Respirators                FLUIDSHIELD* Level 2 Procedure Mask          62115   \n",
       "130  Halyard Health  Facial & Respiratory Protection                 Masks & Respirators             Standard Cone Mask with Headband, Blue          00152   \n",
       "131  Halyard Health  Facial & Respiratory Protection                 Masks & Respirators              Pouch Style Mask with SO SOFT* Lining          47717   \n",
       "132  Halyard Health  Facial & Respiratory Protection                 Masks & Respirators              Pouch Style Mask with SO SOFT* Lining          47700   \n",
       "133  Halyard Health  Facial & Respiratory Protection                 Masks & Respirators                         PFR P1 Filtering Half Mask          62354   \n",
       "134  Halyard Health  Facial & Respiratory Protection                 Masks & Respirators                FLUIDSHIELD* Level 1 Procedure Mask          25867   \n",
       "135  Halyard Health  Facial & Respiratory Protection                 Masks & Respirators                FLUIDSHIELD* Level 1 Procedure Mask          25868   \n",
       "136  Halyard Health  Facial & Respiratory Protection                 Masks & Respirators                FLUIDSHIELD* Level 1 Procedure Mask          25869   \n",
       "137  Halyard Health  Facial & Respiratory Protection                 Masks & Respirators                            Fog-Free Procedure Mask          62362   \n",
       "138  Halyard Health  Facial & Respiratory Protection                 Masks & Respirators                            Fog-Free Procedure Mask          62363   \n",
       "139  Halyard Health  Facial & Respiratory Protection                 Masks & Respirators                                     Procedure Mask          47090   \n",
       "140  Halyard Health  Facial & Respiratory Protection                 Masks & Respirators                                     Procedure Mask          47085   \n",
       "141  Halyard Health  Facial & Respiratory Protection                 Masks & Respirators                                     Procedure Mask          47117   \n",
       "142  Halyard Health  Facial & Respiratory Protection                 Masks & Respirators                                     Procedure Mask          47095   \n",
       "143  Halyard Health  Facial & Respiratory Protection                 Masks & Respirators                                     Procedure Mask          47295   \n",
       "144  Halyard Health  Facial & Respiratory Protection                 Masks & Respirators                                     Procedure Mask          47080   \n",
       "145  Halyard Health  Facial & Respiratory Protection                 Masks & Respirators                                     Procedure Mask          49700   \n",
       "146  Halyard Health  Facial & Respiratory Protection                 Masks & Respirators                                     Procedure Mask          47119   \n",
       "147  Halyard Health  Facial & Respiratory Protection                 Masks & Respirators                       THE LITE ONE* Procedure Mask          62356   \n",
       "148  Halyard Health  Facial & Respiratory Protection                 Masks & Respirators                       THE LITE ONE* Procedure Mask          62357   \n",
       "149  Halyard Health  Facial & Respiratory Protection                 Masks & Respirators  FLUIDSHIELD* Level 3 Fog-Free Surgical Mask wi...          48247   \n",
       "150  Halyard Health  Facial & Respiratory Protection                 Masks & Respirators  FLUIDSHIELD* Level 3 Fog-Free Surgical Mask wi...          48237   \n",
       "151  Halyard Health  Facial & Respiratory Protection                 Masks & Respirators        FLUIDSHIELD* Level 3 Fog-Free Surgical Mask          28820   \n",
       "152  Halyard Health  Facial & Respiratory Protection                 Masks & Respirators        FLUIDSHIELD* Level 3 Fog-Free Surgical Mask          48297   \n",
       "153  Halyard Health  Facial & Respiratory Protection                 Masks & Respirators        FLUIDSHIELD* Level 3 Fog-Free Surgical Mask          48208   \n",
       "154  Halyard Health  Facial & Respiratory Protection                 Masks & Respirators        FLUIDSHIELD* Level 3 Fog-Free Surgical Mask          48207   \n",
       "155  Halyard Health  Facial & Respiratory Protection                 Masks & Respirators  FLUIDSHIELD* Level 3 Fog-Free Surgical Mask, W...          48248   \n",
       "156  Halyard Health  Facial & Respiratory Protection                 Masks & Respirators  FLUIDSHIELD* Level 3 Fog-Free Surgical Mask, W...          28804   \n",
       "157  Halyard Health  Facial & Respiratory Protection                 Masks & Respirators  FLUIDSHIELD* Level 3 Duckbill Surgical Mask wi...          49216   \n",
       "158  Halyard Health  Facial & Respiratory Protection                 Masks & Respirators  FLUIDSHIELD* Level 3 Duckbill Surgical Mask wi...          37525   \n",
       "159  Halyard Health  Facial & Respiratory Protection                 Masks & Respirators  FLUIDSHIELD* Level 3 Duckbill Surgical Mask wi...          48220   \n",
       "160  Halyard Health  Facial & Respiratory Protection                 Masks & Respirators  FLUIDSHIELD* Level 2 Fog-Free Surgical Mask, W...          28809   \n",
       "161  Halyard Health  Facial & Respiratory Protection                 Masks & Respirators  FLUIDSHIELD* Level 2 Fog-Free Surgical Mask, W...          62114   \n",
       "162  Halyard Health  Facial & Respiratory Protection                 Masks & Respirators        FLUIDSHIELD* Level 2 Fog-Free Surgical Mask          28808   \n",
       "163  Halyard Health  Facial & Respiratory Protection                 Masks & Respirators        FLUIDSHIELD* Level 2 Fog-Free Surgical Mask          62113   \n",
       "164  Halyard Health  Facial & Respiratory Protection                 Masks & Respirators  FLUIDSHIELD* Level 1 Fog-Free Surgical Mask wi...          28806   \n",
       "165  Halyard Health  Facial & Respiratory Protection                 Masks & Respirators  FLUIDSHIELD* Level 1 Surgical Mask with SO SOF...          41805   \n",
       "166  Halyard Health  Facial & Respiratory Protection                 Masks & Respirators                                      Surgical Mask          49701   \n",
       "167  Halyard Health  Facial & Respiratory Protection                 Masks & Respirators                                      Surgical Mask          48210   \n",
       "168  Halyard Health  Facial & Respiratory Protection                 Masks & Respirators                                      Surgical Mask          48296   \n",
       "169  Halyard Health  Facial & Respiratory Protection                 Masks & Respirators                                      Surgical Mask          48390   \n",
       "170  Halyard Health  Facial & Respiratory Protection                 Masks & Respirators                                      Surgical Mask          48201   \n",
       "171  Halyard Health  Facial & Respiratory Protection                 Masks & Respirators                        THE FRIENDLY* Surgical Mask          59928   \n",
       "172  Halyard Health  Facial & Respiratory Protection                 Masks & Respirators                             Fog-Free Surgical Mask          49310   \n",
       "173  Halyard Health  Facial & Respiratory Protection                 Masks & Respirators                             Fog-Free Surgical Mask          49214   \n",
       "174  Halyard Health  Facial & Respiratory Protection                 Masks & Respirators                      High Filtration Surgical Mask          47650   \n",
       "175  Halyard Health  Facial & Respiratory Protection                 Masks & Respirators                      High Filtration Surgical Mask          47625   \n",
       "176  Halyard Health  Facial & Respiratory Protection                 Masks & Respirators                    HALYARD* Anti-Fog Surgical Mask          49235   \n",
       "177  Halyard Health  Facial & Respiratory Protection                 Masks & Respirators                    HALYARD* Anti-Fog Surgical Mask          49215   \n",
       "178  Halyard Health  Facial & Respiratory Protection                 Masks & Respirators  SOFT TOUCH* II Surgical Mask, Horizontal Ties,...          47500   \n",
       "179  Halyard Health  Facial & Respiratory Protection                 Masks & Respirators                        THE LITE ONE* Surgical Mask          48105   \n",
       "180  Halyard Health  Facial & Respiratory Protection                 Masks & Respirators                        THE LITE ONE* Surgical Mask          62367   \n",
       "181  Halyard Health  Facial & Respiratory Protection                 Masks & Respirators                        THE LITE ONE* Surgical Mask          48100   \n",
       "182  Halyard Health  Facial & Respiratory Protection                 Masks & Respirators  N95 Particulate Filter Respirator and Surgical...          62126   \n",
       "183  Halyard Health  Facial & Respiratory Protection                 Masks & Respirators  N95 Particulate Filter Respirator and Surgical...          62355   \n",
       "184  Halyard Health  Facial & Respiratory Protection                 Masks & Respirators  FLUIDSHIELD* N95 Particulate Filter Respirator...          46828   \n",
       "185  Halyard Health  Facial & Respiratory Protection                 Masks & Respirators  FLUIDSHIELD* N95 Particulate Filter Respirator...          46728   \n",
       "186  Halyard Health  Facial & Respiratory Protection                 Masks & Respirators  FLUIDSHIELD* N95 Particulate Filter Respirator...          46827   \n",
       "187  Halyard Health  Facial & Respiratory Protection                 Masks & Respirators  FLUIDSHIELD* N95 Particulate Filter Respirator...          46727   \n",
       "188  Halyard Health  Facial & Respiratory Protection                 Masks & Respirators  FLUIDSHIELD* N95 Particulate Filter Respirator...          46867   \n",
       "189  Halyard Health  Facial & Respiratory Protection                 Masks & Respirators  FLUIDSHIELD* N95 Particulate Filter Respirator...          46767   \n",
       "190  Halyard Health  Facial & Respiratory Protection                 Masks & Respirators                    HALYARD* Duckbill Surgical Mask          37525   \n",
       "191  Halyard Health  Facial & Respiratory Protection                 Masks & Respirators                    HALYARD* Duckbill Surgical Mask          48220   \n",
       "192  Halyard Health  Facial & Respiratory Protection                 Masks & Respirators           HALYARD* Duckbill Fog-Free Surgical Mask          49216   \n",
       "193  Halyard Health  Facial & Respiratory Protection                 Masks & Respirators            Child's Face Mask, Disney(R), Ages 4-12          32856   \n",
       "194  Halyard Health  Facial & Respiratory Protection   Protective Eyewear & Face Shields                               HALYARD* Face Shield          41204   \n",
       "195  Halyard Health  Facial & Respiratory Protection   Protective Eyewear & Face Shields                               HALYARD* Face Shield          41205   \n",
       "196  Halyard Health  Facial & Respiratory Protection   Protective Eyewear & Face Shields  SAFEVIEW* Eyewear Assembled Glasses, Assorted ...          SV50A   \n",
       "197  Halyard Health  Facial & Respiratory Protection   Protective Eyewear & Face Shields          SAFEVIEW* Eyewear Frames, Assorted Colors         SV100F   \n",
       "198  Halyard Health  Facial & Respiratory Protection   Protective Eyewear & Face Shields               SAFEVIEW* Eyewear Replacement Lenses         SV250L   \n",
       "199  Halyard Health  Facial & Respiratory Protection   Protective Eyewear & Face Shields  FLUIDSHIELD* Level 2 Expanded Chamber Surgical...          39124   \n",
       "200  Halyard Health  Facial & Respiratory Protection  Qualitative Fit Test & Accessories  FLUIDSHIELD* Ported N95 Particulate Filter Res...          99181   \n",
       "201  Halyard Health  Facial & Respiratory Protection  Qualitative Fit Test & Accessories  FLUIDSHIELD* Ported N95 Particulate Filter Res...          99175   \n",
       "202  Halyard Health  Facial & Respiratory Protection  Qualitative Fit Test & Accessories  FLUIDSHIELD* Ported N95 Particulate Filter Res...          99184   \n",
       "203  Halyard Health  Facial & Respiratory Protection  Qualitative Fit Test & Accessories  FLUIDSHIELD* Ported N95 Particulate Filter Res...          99178   \n",
       "204  Halyard Health  Facial & Respiratory Protection  Qualitative Fit Test & Accessories                           Qualitative Fit Test Kit          47950   \n",
       "205  Halyard Health  Facial & Respiratory Protection  Qualitative Fit Test & Accessories                                 Saccharin Solution          99003   \n",
       "206  Halyard Health  Facial & Respiratory Protection  Qualitative Fit Test & Accessories                                    Bitrex Solution          99009   \n",
       "207  Halyard Health  Facial & Respiratory Protection  Qualitative Fit Test & Accessories                                          Nebulizer          99018   \n",
       "208  Halyard Health  Facial & Respiratory Protection  Qualitative Fit Test & Accessories                                      Hood Assembly          99010   \n",
       "209  Halyard Health  Facial & Respiratory Protection  Qualitative Fit Test & Accessories                                      Hood Assembly          99015   \n",
       "210  Halyard Health               Protective Apparel                     Patient Apparel                                       Patient Gown          69766   \n",
       "211  Halyard Health               Protective Apparel                     Patient Apparel                                       Patient Robe          79002   \n",
       "212  Halyard Health               Protective Apparel                     Patient Apparel                                   Patient Slippers          90947   \n",
       "213  Halyard Health               Protective Apparel                     Patient Apparel                                       Welcome Pack          90963   \n",
       "214  Halyard Health               Protective Apparel                    Protective Gowns            HALYARD* Tri-Layer AAMI1 Isolation Gown          54100   \n",
       "215  Halyard Health               Protective Apparel                    Protective Gowns            HALYARD* Tri-Layer AAMI1 Isolation Gown          54101   \n",
       "216  Halyard Health               Protective Apparel                    Protective Gowns            HALYARD* Tri-Layer AAMI1 Isolation Gown          54110   \n",
       "217  Halyard Health               Protective Apparel                    Protective Gowns            HALYARD* Tri-Layer AAMI1 Isolation Gown          54111   \n",
       "218  Halyard Health               Protective Apparel                    Protective Gowns                    HALYARD* Laminated Comfort Gown          46946   \n",
       "219  Halyard Health               Protective Apparel                    Protective Gowns                    HALYARD* Laminated Comfort Gown          46947   \n",
       "220  Halyard Health               Protective Apparel                    Protective Gowns                  HALYARD* Over-the-Head Cover Gown          69105   \n",
       "221  Halyard Health               Protective Apparel                    Protective Gowns                  HALYARD* Over-the-Head Cover Gown          69106   \n",
       "222  Halyard Health               Protective Apparel                    Protective Gowns  HALYARD* Tri-Layer AAMI Level 2 Over-the-Head ...          44715   \n",
       "223  Halyard Health               Protective Apparel                    Protective Gowns  HALYARD* Tri-Layer AAMI Level 2 Over-the-Head ...          44717   \n",
       "224  Halyard Health               Protective Apparel                    Protective Gowns  HALYARD* Tri-Layer AAMI Level 2 Over-the-Head ...          44719   \n",
       "225  Halyard Health               Protective Apparel                    Protective Gowns  HALYARD* BASICS* Tri-Layer AAMI2 Over-the-Head...          43007   \n",
       "226  Halyard Health               Protective Apparel                    Protective Gowns  HALYARD* BASICS* Tri-Layer AAMI2 Over-the-Head...          43008   \n",
       "227  Halyard Health               Protective Apparel                    Protective Gowns  HALYARD* BASICS* Tri-Layer AAMI2 Over-the-Head...          43009   \n",
       "228  Halyard Health               Protective Apparel                    Protective Gowns  HALYARD* Over-the-Head Poly-Coated Fluid Resis...          47003   \n",
       "229  Halyard Health               Protective Apparel                    Protective Gowns  HALYARD* Over-the-Head Poly-Coated Fluid Resis...          47004   \n",
       "230  Halyard Health               Protective Apparel                    Protective Gowns  HALYARD* Medium Weight Tri-Layer Over-the-Head...          32500   \n",
       "231  Halyard Health               Protective Apparel                    Protective Gowns  HALYARD* Medium Weight Tri-Layer Over-the-Head...          32501   \n",
       "232  Halyard Health               Protective Apparel                    Protective Gowns  HALYARD* Light Weight Tri-Layer Over-the-Head ...          32502   \n",
       "233  Halyard Health               Protective Apparel                    Protective Gowns  HALYARD* Light Weight Tri-Layer Over-the-Head ...          32503   \n",
       "234  Halyard Health               Protective Apparel                    Protective Gowns          HALYARD* Poly-Coated Fluid Resistant Gown          47001   \n",
       "235  Halyard Health               Protective Apparel                    Protective Gowns          HALYARD* Poly-Coated Fluid Resistant Gown          47002   \n",
       "236  Halyard Health               Protective Apparel                    Protective Gowns     Procedure Gown for use with Chemotherapy Drugs          69606   \n",
       "237  Halyard Health               Protective Apparel                    Protective Gowns     Procedure Gown for use with Chemotherapy Drugs          37284   \n",
       "238  Halyard Health               Protective Apparel                    Protective Gowns                      HALYARD* Tri-Layer AAMI2 Gown          35460   \n",
       "239  Halyard Health               Protective Apparel                    Protective Gowns                      HALYARD* Tri-Layer AAMI2 Gown          69979   \n",
       "240  Halyard Health               Protective Apparel                    Protective Gowns                      HALYARD* Tri-Layer AAMI2 Gown          69981   \n",
       "241  Halyard Health               Protective Apparel                    Protective Gowns                      HALYARD* Tri-Layer AAMI2 Gown          69986   \n",
       "242  Halyard Health               Protective Apparel                    Protective Gowns                      HALYARD* Tri-Layer AAMI2 Gown          69987   \n",
       "243  Halyard Health               Protective Apparel                    Protective Gowns                      HALYARD* Tri-Layer AAMI2 Gown          69988   \n",
       "244  Halyard Health               Protective Apparel                    Protective Gowns                      HALYARD* Tri-Layer AAMI2 Gown          69971   \n",
       "245  Halyard Health               Protective Apparel                    Protective Gowns                      HALYARD* Tri-Layer AAMI2 Gown          37660   \n",
       "246  Halyard Health               Protective Apparel                    Protective Gowns                      HALYARD* Tri-Layer AAMI2 Gown          37661   \n",
       "247  Halyard Health               Protective Apparel                    Protective Gowns  HALYARD* BASICS* Tri-Layer Over-the-Head Isola...          43148   \n",
       "248  Halyard Health               Protective Apparel                    Protective Gowns  HALYARD* BASICS* Tri-Layer Over-the-Head Isola...          43149   \n",
       "249  Halyard Health               Protective Apparel                    Protective Gowns  HALYARD* Tri-Layer AAMI Level 2 Over-the-Head ...          43146   \n",
       "250  Halyard Health               Protective Apparel                    Protective Gowns  HALYARD* Tri-Layer AAMI Level 2 Over-the-Head ...          43147   \n",
       "251  Halyard Health               Protective Apparel                    Protective Gowns            HALYARD* Tri-Layer AAMI3 Isolation Gown          54310   \n",
       "252  Halyard Health               Protective Apparel                    Protective Gowns            HALYARD* Tri-Layer AAMI3 Isolation Gown          54311   \n",
       "253  Halyard Health               Protective Apparel                    Protective Gowns                   HALYARD* Spunbond Isolation Gown          69124   \n",
       "254  Halyard Health               Protective Apparel                    Protective Gowns                   HALYARD* Spunbond Isolation Gown          69125   \n",
       "255  Halyard Health               Protective Apparel                    Protective Gowns                   HALYARD* Spunbond Isolation Gown          69127   \n",
       "256  Halyard Health               Protective Apparel                    Protective Gowns                   HALYARD* Spunbond Isolation Gown          69129   \n",
       "257  Halyard Health               Protective Apparel                    Protective Gowns                          Impervious Open Back Gown          69455   \n",
       "258  Halyard Health               Protective Apparel                    Protective Gowns                   Impervious Gown in Dispenser Box          69316   \n",
       "259  Halyard Health               Protective Apparel                    Protective Gowns                   Impervious Gown in Dispenser Box          69490   \n",
       "260  Halyard Health               Protective Apparel                    Protective Gowns                     Procedure Gown with Knit Cuffs          69025   \n",
       "261  Halyard Health               Protective Apparel                    Protective Gowns                     Procedure Gown with Knit Cuffs          69028   \n",
       "262  Halyard Health               Protective Apparel                    Protective Gowns                            Impervious Comfort Gown          69600   \n",
       "263  Halyard Health               Protective Apparel                    Protective Gowns                            Impervious Comfort Gown          69601   \n",
       "264  Halyard Health               Protective Apparel                    Protective Gowns                            Impervious Comfort Gown          69602   \n",
       "265  Halyard Health               Protective Apparel                    Protective Gowns                            Impervious Comfort Gown          69603   \n",
       "266  Halyard Health               Protective Apparel                    Protective Gowns     HALYARD BASICS* Tri-Layer AAMI2 Isolation Gown          13961   \n",
       "267  Halyard Health               Protective Apparel                    Protective Gowns     HALYARD BASICS* Tri-Layer AAMI2 Isolation Gown          13962   \n",
       "268  Halyard Health               Protective Apparel                    Protective Gowns   HALYARD* Tri-Layer Over-the-Head Isolation Gowns          29516   \n",
       "269  Halyard Health               Protective Apparel                    Protective Gowns   HALYARD* Tri-Layer Over-the-Head Isolation Gowns          29549   \n",
       "270  Halyard Health               Protective Apparel                    Protective Gowns   HALYARD* Tri-Layer Over-the-Head Isolation Gowns          32572   \n",
       "271  Halyard Health               Protective Apparel                    Protective Gowns   HALYARD* Tri-Layer Over-the-Head Isolation Gowns          32574   \n",
       "272  Halyard Health               Protective Apparel                    Protective Gowns  HALYARD* CHEMO360* Procedure Gown Tested for U...          47346   \n",
       "273  Halyard Health               Protective Apparel                    Protective Gowns  HALYARD* CHEMO360* Procedure Gown Tested for U...          47347   \n",
       "274  Halyard Health               Protective Apparel                            Headwear                                      Surgical Hood          69110   \n",
       "275  Halyard Health               Protective Apparel                            Headwear                   HALYARD* Tri-Layer Bouffant Caps          69083   \n",
       "276  Halyard Health               Protective Apparel                            Headwear                   HALYARD* Tri-Layer Bouffant Caps          69086   \n",
       "277  Halyard Health               Protective Apparel                            Headwear                   HALYARD* Tri-Layer Bouffant Caps          69088   \n",
       "278  Halyard Health               Protective Apparel                            Headwear                                       Surgical Cap          69240   \n",
       "279  Halyard Health               Protective Apparel                            Headwear                                       Surgical Cap          69520   \n",
       "280  Halyard Health               Protective Apparel                            Headwear       HALYARD* Bloodborne Pathogen Protection Hood          44648   \n",
       "281  Halyard Health               Protective Apparel                            Headwear                    HALYARD* Spunbond Bouffant Caps          69801   \n",
       "282  Halyard Health               Protective Apparel                            Headwear                    HALYARD* Spunbond Bouffant Caps          69802   \n",
       "283  Halyard Health               Protective Apparel                            Headwear                    HALYARD* Spunbond Bouffant Caps          69803   \n",
       "284  Halyard Health               Protective Apparel                            Headwear                    HALYARD* Spunbond Bouffant Caps          47323   \n",
       "285  Halyard Health               Protective Apparel                            Headwear                    HALYARD* Spunbond Bouffant Caps          47322   \n",
       "286  Halyard Health               Protective Apparel                            Headwear                   HALYARD* COVER MAX* Surgical Cap          47318   \n",
       "287  Halyard Health               Protective Apparel                            Headwear  HALYARD* COVER MAX* Surgical Cap with CAPTURE ...          47317   \n",
       "288  Halyard Health               Protective Apparel                            Footwear                              Heavy-Duty Shoe Cover          69551   \n",
       "289  Halyard Health               Protective Apparel                            Footwear                         HALYARD BASICS* Shoe Cover          69114   \n",
       "290  Halyard Health               Protective Apparel                            Footwear                         HALYARD BASICS* Shoe Cover          69121   \n",
       "291  Halyard Health               Protective Apparel                            Footwear                         X-TRA TRACTION* Shoe Cover          69254   \n",
       "292  Halyard Health               Protective Apparel                            Footwear                         X-TRA TRACTION* Shoe Cover          69252   \n",
       "293  Halyard Health               Protective Apparel                            Footwear                   HALYARD* ANKLE GUARD* Shoe Cover          69353   \n",
       "294  Halyard Health               Protective Apparel                            Footwear                   HALYARD* ANKLE GUARD* Shoe Cover          69253   \n",
       "295  Halyard Health               Protective Apparel                            Footwear                       HI GUARD* Full Coverage Boot          69571   \n",
       "296  Halyard Health               Protective Apparel                            Footwear                       HI GUARD* Full Coverage Boot          69671   \n",
       "297  Halyard Health               Protective Apparel                            Footwear                       HI GUARD* Full Coverage Boot          69572   \n",
       "298  Halyard Health               Protective Apparel                            Footwear                       HI GUARD* Full Coverage Boot          69672   \n",
       "299  Halyard Health               Protective Apparel             Lab Coats & Lab Jackets  HALYARD* BASIC* Lab Coat with Traditional Coll...          10120   \n",
       "300  Halyard Health               Protective Apparel             Lab Coats & Lab Jackets  HALYARD* BASIC* Lab Coat with Traditional Coll...          10121   \n",
       "301  Halyard Health               Protective Apparel             Lab Coats & Lab Jackets  HALYARD* BASIC* Lab Coat with Traditional Coll...          10122   \n",
       "302  Halyard Health               Protective Apparel             Lab Coats & Lab Jackets  HALYARD* BASIC* Lab Coat with Traditional Coll...          10123   \n",
       "303  Halyard Health               Protective Apparel             Lab Coats & Lab Jackets  HALYARD* BASIC* Lab Coat with Traditional Coll...          10124   \n",
       "304  Halyard Health               Protective Apparel             Lab Coats & Lab Jackets  HALYARD* BASIC* Lab Coat with Traditional Coll...          10157   \n",
       "305  Halyard Health               Protective Apparel             Lab Coats & Lab Jackets  HALYARD* BASIC* Plus Lab Coat with Knit Collar...          10020   \n",
       "306  Halyard Health               Protective Apparel             Lab Coats & Lab Jackets                     Universal Precautions Lab Coat          10040   \n",
       "307  Halyard Health               Protective Apparel             Lab Coats & Lab Jackets                            Professional Lab Jacket          10067   \n",
       "308  Halyard Health               Protective Apparel             Lab Coats & Lab Jackets                            Professional Lab Jacket          10078   \n",
       "309  Halyard Health               Protective Apparel             Lab Coats & Lab Jackets                            Professional Lab Jacket          10087   \n",
       "310  Halyard Health               Protective Apparel             Lab Coats & Lab Jackets                   Universal Precautions Lab Jacket          10069   \n",
       "311  Halyard Health               Protective Apparel             Lab Coats & Lab Jackets                   Universal Precautions Lab Jacket          10071   \n",
       "312  Halyard Health               Protective Apparel             Lab Coats & Lab Jackets                   Universal Precautions Lab Jacket          10072   \n",
       "313  Halyard Health               Protective Apparel             Lab Coats & Lab Jackets                   Universal Precautions Lab Jacket          10073   \n",
       "314  Halyard Health               Protective Apparel             Lab Coats & Lab Jackets                         HALYARD* Spunbond Lab Coat          10231   \n",
       "315  Halyard Health               Protective Apparel             Lab Coats & Lab Jackets                         HALYARD* Spunbond Lab Coat          10232   \n",
       "316  Halyard Health               Protective Apparel             Lab Coats & Lab Jackets                         HALYARD* Spunbond Lab Coat          10233   \n",
       "317  Halyard Health               Protective Apparel             Lab Coats & Lab Jackets                         HALYARD* Spunbond Lab Coat          10234   \n",
       "318  Halyard Health               Protective Apparel             Lab Coats & Lab Jackets                         HALYARD* Spunbond Lab Coat          10235   \n",
       "319  Halyard Health               Protective Apparel             Lab Coats & Lab Jackets              HALYARD* Medium Weight SMS Lab Jacket          10334   \n",
       "320  Halyard Health               Protective Apparel             Lab Coats & Lab Jackets              HALYARD* Medium Weight SMS Lab Jacket          10335   \n",
       "321  Halyard Health               Protective Apparel             Lab Coats & Lab Jackets              HALYARD* Medium Weight SMS Lab Jacket          10336   \n",
       "322  Halyard Health               Protective Apparel             Lab Coats & Lab Jackets              HALYARD* Medium Weight SMS Lab Jacket          10337   \n",
       "323  Halyard Health               Protective Apparel             Lab Coats & Lab Jackets              HALYARD* Medium Weight SMS Lab Jacket          10338   \n",
       "324  Halyard Health               Protective Apparel                           Coveralls                                Protective Coverall          75631   \n",
       "325  Halyard Health               Protective Apparel                           Coveralls                                Protective Coverall          75641   \n",
       "326  Halyard Health               Protective Apparel                           Coveralls                                Protective Coverall          75651   \n",
       "327  Halyard Health               Protective Apparel                           Coveralls       Extra Protection Coverall with Elastic Cuffs          10075   \n",
       "328  Halyard Health               Protective Apparel                           Coveralls       Extra Protection Coverall with Elastic Cuffs          10096   \n",
       "329  Halyard Health               Protective Apparel                           Coveralls       Extra Protection Coverall with Elastic Cuffs          10085   \n",
       "330  Halyard Health               Protective Apparel                           Coveralls       Extra Protection Coverall with Elastic Cuffs          10095   \n",
       "331  Halyard Health               Protective Apparel                              Aprons                              General Purpose Apron          69350   \n",
       "332  Halyard Health               Protective Apparel          Scrub Pants & Scrub Shirts                                        Scrub Pants          69711   \n",
       "333  Halyard Health               Protective Apparel          Scrub Pants & Scrub Shirts                                        Scrub Pants          69712   \n",
       "334  Halyard Health               Protective Apparel          Scrub Pants & Scrub Shirts                                        Scrub Pants          69713   \n",
       "335  Halyard Health               Protective Apparel          Scrub Pants & Scrub Shirts                                        Scrub Pants          69714   \n",
       "336  Halyard Health               Protective Apparel          Scrub Pants & Scrub Shirts                                        Scrub Shirt          69701   \n",
       "337  Halyard Health               Protective Apparel          Scrub Pants & Scrub Shirts                                        Scrub Shirt          69702   \n",
       "338  Halyard Health               Protective Apparel          Scrub Pants & Scrub Shirts                                        Scrub Shirt          69703   \n",
       "339  Halyard Health               Protective Apparel          Scrub Pants & Scrub Shirts                                        Scrub Shirt          69704   \n",
       "\n",
       "                                           description                                                url      box_gtin     case_gtin  \n",
       "0    Size:X-Small, Brand:STERLING ZERO*, Color:Ster...  https://products.halyardhealth.com/infection-p...           NaN           NaN  \n",
       "1    Size:Small, Brand:STERLING ZERO*, Color:Sterli...  https://products.halyardhealth.com/infection-p...           NaN           NaN  \n",
       "2    Size:Medium, Brand:STERLING ZERO*, Color:Sterl...  https://products.halyardhealth.com/infection-p...           NaN           NaN  \n",
       "3    Size:Large, Brand:STERLING ZERO*, Color:Sterli...  https://products.halyardhealth.com/infection-p...           NaN           NaN  \n",
       "4    Size:X-Large, Brand:STERLING ZERO*, Color:Ster...  https://products.halyardhealth.com/infection-p...           NaN           NaN  \n",
       "5    Size:X-Small, Fit Type:Paired, Sterile:Yes, Cu...  https://products.halyardhealth.com/infection-p...           NaN           NaN  \n",
       "6    Size:Small, Brand:PURPLE NITRILE*, Brand:HALYA...  https://products.halyardhealth.com/infection-p...  820170072610  820170072627  \n",
       "7    Size:Medium, Brand:PURPLE NITRILE*, Brand:HALY...  https://products.halyardhealth.com/infection-p...  820170072634  820170072641  \n",
       "8    Size:Large, Brand:PURPLE NITRILE*, Brand:HALYA...  https://products.halyardhealth.com/infection-p...  820170072658  820170072665  \n",
       "9    Size:X-Large, Brand:PURPLE NITRILE*, Brand:HAL...  https://products.halyardhealth.com/infection-p...  820170072672           NaN  \n",
       "10   Size:X-Small, Brand:LAVENDER NITRILE*, Color:L...  https://products.halyardhealth.com/infection-p...  820170072931           NaN  \n",
       "11   Size:Small, Brand:LAVENDER NITRILE*, Color:Lav...  https://products.halyardhealth.com/infection-p...  680651528179           NaN  \n",
       "12   Size:Medium, Brand:LAVENDER NITRILE*, Color:La...  https://products.halyardhealth.com/infection-p...  820170072986           NaN  \n",
       "13   Size:Large, Brand:LAVENDER NITRILE*, Color:Lav...  https://products.halyardhealth.com/infection-p...  036000528190           NaN  \n",
       "14   Size:X-Large, Brand:LAVENDER NITRILE*, Color:L...  https://products.halyardhealth.com/infection-p...  820170073020           NaN  \n",
       "15   Size:X-Small, Brand:HALYARD*, Brand:HALYARD*, ...  https://products.halyardhealth.com/infection-p...  820170072412  820170072429  \n",
       "16   Size:Small, Brand:HALYARD*, Brand:HALYARD*, UN...  https://products.halyardhealth.com/infection-p...  820170072436  820170072443  \n",
       "17   Size:Medium, Brand:HALYARD*, Brand:HALYARD*, U...  https://products.halyardhealth.com/infection-p...  820170072450  820170072467  \n",
       "18   Size:Large, Brand:HALYARD*, Brand:HALYARD*, UN...  https://products.halyardhealth.com/infection-p...  820170072474  820170072481  \n",
       "19   Size:X-Large, Brand:HALYARD*, Brand:HALYARD*, ...  https://products.halyardhealth.com/infection-p...  820170072498  820170072504  \n",
       "20   Size:X-Small, Brand:HALYARD*, UNSPSC Classific...  https://products.halyardhealth.com/infection-p...  820170072313  713049532974  \n",
       "21   Size:Small, Brand:HALYARD*, UNSPSC Classificat...  https://products.halyardhealth.com/infection-p...  820170072344  713049532981  \n",
       "22   Size:Medium, Brand:HALYARD*, UNSPSC Classifica...  https://products.halyardhealth.com/infection-p...  696394833661  713049532998  \n",
       "23   Size:Large, Brand:HALYARD*, UNSPSC Classificat...  https://products.halyardhealth.com/infection-p...  820170072375  713049533001  \n",
       "24   Size:X-Large, Brand:HALYARD*, UNSPSC Classific...  https://products.halyardhealth.com/infection-p...  820170072399  713049533018  \n",
       "25   Size:X-Small, Cuff:Beaded Cuff, Fit Type:Paire...  https://products.halyardhealth.com/infection-p...  820170071910           NaN  \n",
       "26   Size:X-Small, Color:Pink, Dispenser:Single Per...  https://products.halyardhealth.com/infection-p...           NaN           NaN  \n",
       "27   Size:Small, Color:Pink, Dispenser:Single Perfo...  https://products.halyardhealth.com/infection-p...           NaN           NaN  \n",
       "28   Size:Medium, Color:Pink, Dispenser:Single Perf...  https://products.halyardhealth.com/infection-p...           NaN           NaN  \n",
       "29   Size:Large, Color:Pink, Dispenser:Single Perfo...  https://products.halyardhealth.com/infection-p...           NaN           NaN  \n",
       "30   Size:X-Large, Color:Pink, Dispenser:Single Per...  https://products.halyardhealth.com/infection-p...           NaN           NaN  \n",
       "31   Size:Small, Cleared for Use with Chemotherapy ...  https://products.halyardhealth.com/infection-p...  820170073754  820170073761  \n",
       "32   Size:X-Small, Brand:HALYARD*, Brand:HALYARD*, ...  https://products.halyardhealth.com/infection-p...  820170073815           NaN  \n",
       "33   Size:Small, Brand:HALYARD*, Brand:HALYARD*, UN...  https://products.halyardhealth.com/infection-p...  820170073839           NaN  \n",
       "34   Size:Medium, Brand:HALYARD*, Brand:HALYARD*, U...  https://products.halyardhealth.com/infection-p...  820170073853           NaN  \n",
       "35   Size:Large, Brand:HALYARD*, Brand:HALYARD*, UN...  https://products.halyardhealth.com/infection-p...  820170073884           NaN  \n",
       "36   Size:X-Large, Brand:HALYARD*, Brand:HALYARD*, ...  https://products.halyardhealth.com/infection-p...  820170073891           NaN  \n",
       "37   Size:X-Small, Brand:PURPLE NITRILE*, UNSPSC Cl...  https://products.halyardhealth.com/infection-p...  820170073297           NaN  \n",
       "38   Size:Small, Brand:PURPLE NITRILE*, UNSPSC Clas...  https://products.halyardhealth.com/infection-p...  820170073310           NaN  \n",
       "39   Size:Medium, Brand:PURPLE NITRILE*, UNSPSC Cla...  https://products.halyardhealth.com/infection-p...  820170073334           NaN  \n",
       "40   Size:Large, Brand:PURPLE NITRILE*, UNSPSC Clas...  https://products.halyardhealth.com/infection-p...  820170073358           NaN  \n",
       "41   Size:X-Large, Brand:PURPLE NITRILE*, UNSPSC Cl...  https://products.halyardhealth.com/infection-p...  820170073372           NaN  \n",
       "42   Size:X-Large, Glove Length:9.5 in., Fit Type:A...  https://products.halyardhealth.com/infection-p...  820170072306           NaN  \n",
       "43   Size:Large, Glove Length:9.5 in., Fit Type:Amb...  https://products.halyardhealth.com/infection-p...  820170072276           NaN  \n",
       "44   Size:Medium, Glove Length:9.5 in., Fit Type:Am...  https://products.halyardhealth.com/infection-p...  820170072252           NaN  \n",
       "45   Size:Small, Glove Length:9.5 in., Fit Type:Amb...  https://products.halyardhealth.com/infection-p...  820170072238           NaN  \n",
       "46   Size:X-Small, Glove Length:9.5 in., Fit Type:A...  https://products.halyardhealth.com/infection-p...  820170072214           NaN  \n",
       "47   Size:X-Small, Color:Clear, UNSPSC Classificati...  https://products.halyardhealth.com/infection-p...  820170073396           NaN  \n",
       "48   Size:Small, Color:Clear, UNSPSC Classification...  https://products.halyardhealth.com/infection-p...  820170073419           NaN  \n",
       "49   Size:Medium, Color:Clear, UNSPSC Classificatio...  https://products.halyardhealth.com/infection-p...  820170073433           NaN  \n",
       "50   Size:Large, Color:Clear, UNSPSC Classification...  https://products.halyardhealth.com/infection-p...  036000550337           NaN  \n",
       "51   Size:X-Large, Color:Clear, UNSPSC Classificati...  https://products.halyardhealth.com/infection-p...  820170073471           NaN  \n",
       "52   Size:Small, Color:White, UNSPSC Classification...  https://products.halyardhealth.com/infection-p...  820170072696  713049530505  \n",
       "53   Size:Medium, Color:White, UNSPSC Classificatio...  https://products.halyardhealth.com/infection-p...  820170072719           NaN  \n",
       "54   Size:Large, Color:White, UNSPSC Classification...  https://products.halyardhealth.com/infection-p...  820170072733           NaN  \n",
       "55   Size:X-Large, Color:White, UNSPSC Classificati...  https://products.halyardhealth.com/infection-p...  820170072757           NaN  \n",
       "56   Size:X-Small, Color:Green, Dispenser:SMARTPULL...  https://products.halyardhealth.com/infection-p...  820140029224  820170072528  \n",
       "57   Size:Small, Color:Green, Dispenser:SMARTPULL*,...  https://products.halyardhealth.com/infection-p...  820140029231  820170072542  \n",
       "58   Size:Medium, Color:Green, Dispenser:SMARTPULL*...  https://products.halyardhealth.com/infection-p...  820170072559  820170072566  \n",
       "59   Size:Large, Color:Green, Dispenser:SMARTPULL*,...  https://products.halyardhealth.com/infection-p...  820140029255  820170072580  \n",
       "60   Size:X-Large, Color:Green, Dispenser:SMARTPULL...  https://products.halyardhealth.com/infection-p...  820170072597  820170072603  \n",
       "61   Size:Small, Length (in.):4, Width (in.):10, UN...  https://products.halyardhealth.com/infection-p...           NaN           NaN  \n",
       "62   Size:Large, Length (in.):6.25, Width (in.):8.5...  https://products.halyardhealth.com/infection-p...           NaN           NaN  \n",
       "63   , UNSPSC Classification:42142101, Sterile:No, ...  https://products.halyardhealth.com/infection-p...           NaN           NaN  \n",
       "64   Size:Small, Length (in.):5, UK SKU:P3349507, W...  https://products.halyardhealth.com/infection-p...           NaN           NaN  \n",
       "65   Size:Large, Length (in.):6.5, UK SKU:P3350001,...  https://products.halyardhealth.com/infection-p...           NaN           NaN  \n",
       "66   , UNSPSC Classification:42142101, Natural Rubb...  https://products.halyardhealth.com/infection-p...           NaN           NaN  \n",
       "67   Size:Small, Length (in.):4.5, Width (in.):10.5...  https://products.halyardhealth.com/infection-p...           NaN           NaN  \n",
       "68   Size:Large, Length (in.):6.25, Width (in.):9.5...  https://products.halyardhealth.com/infection-p...           NaN           NaN  \n",
       "69   Size:Small, Length (in.):5.5, UK SKU:P3359507,...  https://products.halyardhealth.com/infection-p...           NaN           NaN  \n",
       "70   Size:Large, Length (in.):6, UK SKU:P3360007, W...  https://products.halyardhealth.com/infection-p...           NaN           NaN  \n",
       "71   , UNSPSC Classification:42142101, Natural Rubb...  https://products.halyardhealth.com/infection-p...           NaN           NaN  \n",
       "72   , UNSPSC Classification:42142101, Natural Rubb...  https://products.halyardhealth.com/infection-p...           NaN           NaN  \n",
       "73   , UNSPSC Classification:42142101, Natural Rubb...  https://products.halyardhealth.com/infection-p...           NaN           NaN  \n",
       "74   , UNSPSC Classification:42142101, Sterile:No, ...  https://products.halyardhealth.com/infection-p...           NaN           NaN  \n",
       "75   , UNSPSC Classification:42143609, Sterile:No, ...  https://products.halyardhealth.com/infection-p...           NaN           NaN  \n",
       "76   , UNSPSC Classification:42143609, Natural Rubb...  https://products.halyardhealth.com/infection-p...           NaN           NaN  \n",
       "77   Size:Adult, Length (in.):9, UK SKU:P2998007, W...  https://products.halyardhealth.com/infection-p...           NaN           NaN  \n",
       "78   Size:Pediatric, Length (in.):6.5, Width (in.):...  https://products.halyardhealth.com/infection-p...           NaN           NaN  \n",
       "79   Packaging:Pouch, Size:Adult, UK SKU:P2990007, ...  https://products.halyardhealth.com/infection-p...           NaN           NaN  \n",
       "80   Packaging:Poly Bag, Size:Pediatric, UK SKU:P29...  https://products.halyardhealth.com/infection-p...           NaN           NaN  \n",
       "81   Size:Neonatal, Length (in.):3.5, UK SKU:P29965...  https://products.halyardhealth.com/infection-p...           NaN           NaN  \n",
       "82   Size:Infant/Child, Length (in.):6.25, UK SKU:P...  https://products.halyardhealth.com/infection-p...           NaN           NaN  \n",
       "83   , UNSPSC Classification:42131512, Natural Rubb...  https://products.halyardhealth.com/infection-p...           NaN           NaN  \n",
       "84   , Natural Rubber Latex-Free:No, Name:Fetal Mon...  https://products.halyardhealth.com/infection-p...           NaN           NaN  \n",
       "85   , UNSPSC Classification:42143609, Natural Rubb...  https://products.halyardhealth.com/infection-p...           NaN           NaN  \n",
       "86   , UNSPSC Classification:42131512, Natural Rubb...  https://products.halyardhealth.com/infection-p...           NaN           NaN  \n",
       "87   , UNSPSC Classification:42131512, Natural Rubb...  https://products.halyardhealth.com/infection-p...           NaN           NaN  \n",
       "88   , UNSPSC Classification:42143609, Natural Rubb...  https://products.halyardhealth.com/infection-p...           NaN           NaN  \n",
       "89   , UNSPSC Classification:42132105, Natural Rubb...  https://products.halyardhealth.com/infection-p...           NaN           NaN  \n",
       "90   , UNSPSC Classification:42132105, Natural Rubb...  https://products.halyardhealth.com/infection-p...           NaN           NaN  \n",
       "91   , UNSPSC Classification:42132105, Natural Rubb...  https://products.halyardhealth.com/infection-p...           NaN           NaN  \n",
       "92   , UNSPSC Classification:42192102, Natural Rubb...  https://products.halyardhealth.com/infection-p...           NaN           NaN  \n",
       "93   Width (in.):96, UNSPSC Classification:42132105...  https://products.halyardhealth.com/infection-p...           NaN           NaN  \n",
       "94   Width (in.):84, UNSPSC Classification:42132105...  https://products.halyardhealth.com/infection-p...           NaN           NaN  \n",
       "95   , UNSPSC Classification:42181719, Natural Rubb...  https://products.halyardhealth.com/infection-p...           NaN           NaN  \n",
       "96   , UNSPSC Classification:42181719, Natural Rubb...  https://products.halyardhealth.com/infection-p...           NaN           NaN  \n",
       "97   , UNSPSC Classification:42181719, Natural Rubb...  https://products.halyardhealth.com/infection-p...           NaN           NaN  \n",
       "98   Style:Pleat, SPLASH RESISTANCE (80,120,160):80...  https://products.halyardhealth.com/infection-p...           NaN           NaN  \n",
       "99   Color:Blue, Brand:HALYARD*, Sterile:No, Level ...  https://products.halyardhealth.com/infection-p...           NaN           NaN  \n",
       "100  Color:Blue, Brand:HALYARD*, Sterile:No, Level ...  https://products.halyardhealth.com/infection-p...           NaN           NaN  \n",
       "101  Color:Blue, Brand:HALYARD*, Sterile:No, Level ...  https://products.halyardhealth.com/infection-p...           NaN           NaN  \n",
       "102  Color:Blue, Brand:HALYARD*, Sterile:No, Level ...  https://products.halyardhealth.com/infection-p...           NaN           NaN  \n",
       "103  Color:Yellow, Brand:HALYARD*, Sterile:No, Leve...  https://products.halyardhealth.com/infection-p...           NaN           NaN  \n",
       "104  Color:Blue, Brand:HALYARD*, Sterile:No, Level ...  https://products.halyardhealth.com/infection-p...           NaN           NaN  \n",
       "105  Fog Resistance:N/A, Brand:HALYARD*, Sterile:No...  https://products.halyardhealth.com/infection-p...           NaN           NaN  \n",
       "106  Fog Resistance:Fog-Free with Foam Strip, Brand...  https://products.halyardhealth.com/infection-p...           NaN           NaN  \n",
       "107  Color:Blue, Brand:HALYARD*, Sterile:No, Level ...  https://products.halyardhealth.com/infection-p...           NaN           NaN  \n",
       "108  Color:White, Brand:HALYARD*, Sterile:No, Level...  https://products.halyardhealth.com/infection-p...           NaN           NaN  \n",
       "109  Color:White, Brand:HALYARD*, Sterile:No, Level...  https://products.halyardhealth.com/infection-p...           NaN           NaN  \n",
       "110  Color:Yellow, Brand:HALYARD*, Sterile:No, Leve...  https://products.halyardhealth.com/infection-p...           NaN           NaN  \n",
       "111  Color:Blue, Brand:HALYARD*, Sterile:No, Level ...  https://products.halyardhealth.com/infection-p...           NaN           NaN  \n",
       "112  Color:Green, STRIKE THROUGH ASTM (80,120,160):...  https://products.halyardhealth.com/infection-p...           NaN           NaN  \n",
       "113  FLUIDSHIELD* :Yes, SO SOFT* Lining:Yes, Protec...  https://products.halyardhealth.com/infection-p...           NaN           NaN  \n",
       "114  FLUIDSHIELD* :Yes, SO SOFT* Lining:Yes, Protec...  https://products.halyardhealth.com/infection-p...           NaN           NaN  \n",
       "115  , Brand:FLUIDSHIELD*, Sterile:No, Color:Blue a...  https://products.halyardhealth.com/infection-p...           NaN           NaN  \n",
       "116  , Brand:FLUIDSHIELD* Level 3, UNSPSC Classific...  https://products.halyardhealth.com/infection-p...           NaN           NaN  \n",
       "117  Color:White with Pink & Blue Teddy Bears, Bran...  https://products.halyardhealth.com/infection-p...           NaN           NaN  \n",
       "118  Color:Blue, Brand:FLUIDSHIELD* Level 3, UNSPSC...  https://products.halyardhealth.com/infection-p...           NaN           NaN  \n",
       "119  Color:Orange, Brand:FLUIDSHIELD* Level 3, UNSP...  https://products.halyardhealth.com/infection-p...           NaN           NaN  \n",
       "120  Color:Green, Brand:FLUIDSHIELD* Level 3, UNSPS...  https://products.halyardhealth.com/infection-p...           NaN           NaN  \n",
       "121  Color:Orange, Brand:FLUIDSHIELD* Level 3, UNSP...  https://products.halyardhealth.com/infection-p...           NaN           NaN  \n",
       "122  Color:Orange, SO SOFT* Lining:No, UK SKU:P2879...  https://products.halyardhealth.com/infection-p...           NaN           NaN  \n",
       "123  Color:Blue, SO SOFT* Lining:Yes, Fog Resistanc...  https://products.halyardhealth.com/infection-p...           NaN           NaN  \n",
       "124  Color:White with Pink & Blue Teddy Bears, SO S...  https://products.halyardhealth.com/infection-p...           NaN           NaN  \n",
       "125  Color:Orange, SO SOFT* Lining:Yes, UK SKU:P471...  https://products.halyardhealth.com/infection-p...           NaN           NaN  \n",
       "126  Level of Protection:Level 2, FLUIDSHIELD* :N/A...  https://products.halyardhealth.com/infection-p...           NaN           NaN  \n",
       "127  , Brand:FLUIDSHIELD* Level 2, UNSPSC Classific...  https://products.halyardhealth.com/infection-p...           NaN           NaN  \n",
       "128  PFE (.1):99.1%, BFE (3):99.9%, UK SKU:P2881002...  https://products.halyardhealth.com/infection-p...           NaN           NaN  \n",
       "129  PFE (.1):≥ 98%, BFE (3):≥ 98%, Brand:FLUIDSHIE...  https://products.halyardhealth.com/infection-p...           NaN           NaN  \n",
       "130  , Brand:HALYARD*, UNSPSC Classification:421316...  https://products.halyardhealth.com/infection-p...           NaN           NaN  \n",
       "131  Color:Yellow, Brand:HALYARD*, UNSPSC Classific...  https://products.halyardhealth.com/infection-p...           NaN           NaN  \n",
       "132  Color:Blue, Brand:HALYARD*, UNSPSC Classificat...  https://products.halyardhealth.com/infection-p...           NaN           NaN  \n",
       "133  , Brand:HALYARD*, UNSPSC Classification:421316...  https://products.halyardhealth.com/infection-p...           NaN           NaN  \n",
       "134  Level of Protection:Level 1, Color:Yellow, UK ...  https://products.halyardhealth.com/infection-p...           NaN           NaN  \n",
       "135  Level of Protection:Level 1, Color:Lavender, S...  https://products.halyardhealth.com/infection-p...           NaN           NaN  \n",
       "136  Level of Protection:Level 1, Color:Blue, UK SK...  https://products.halyardhealth.com/infection-p...           NaN           NaN  \n",
       "137  Color:Blue, SO SOFT* Lining:No, UK SKU:P623621...  https://products.halyardhealth.com/infection-p...           NaN           NaN  \n",
       "138  , Brand:HALYARD*, Sterile:No, Name:Fog-Free Pr...  https://products.halyardhealth.com/infection-p...           NaN           NaN  \n",
       "139  Color:White, SO SOFT* Lining:No, UK SKU:P47090...  https://products.halyardhealth.com/infection-p...           NaN           NaN  \n",
       "140  Color:Green, SO SOFT* Lining:No, UK SKU:P47085...  https://products.halyardhealth.com/infection-p...           NaN           NaN  \n",
       "141  Color:Tissue Yellow, SO SOFT* Lining:No, UK SK...  https://products.halyardhealth.com/infection-p...           NaN           NaN  \n",
       "142  Color:Pink, SO SOFT* Lining:No, UK SKU:P470950...  https://products.halyardhealth.com/infection-p...           NaN           NaN  \n",
       "143  Color:White with Pink & Blue Teddy Bears, SO S...  https://products.halyardhealth.com/infection-p...           NaN           NaN  \n",
       "144  Color:Tissue Blue, SO SOFT* Lining:No, UK SKU:...  https://products.halyardhealth.com/infection-p...           NaN           NaN  \n",
       "145  Color:Blue, SO SOFT* Lining:No, UK SKU:P497000...  https://products.halyardhealth.com/infection-p...           NaN           NaN  \n",
       "146  Color:Yellow, SO SOFT* Lining:No, PFE (.1):≥ 9...  https://products.halyardhealth.com/infection-p...           NaN           NaN  \n",
       "147  Color:Blue, Brand:THE LITE ONE*, UNSPSC Classi...  https://products.halyardhealth.com/infection-p...           NaN           NaN  \n",
       "148  Color:Green, Brand:THE LITE ONE*, UNSPSC Class...  https://products.halyardhealth.com/infection-p...           NaN           NaN  \n",
       "149  , Brand:FLUIDSHIELD* Level 3, Color:Orange, Le...  https://products.halyardhealth.com/infection-p...           NaN           NaN  \n",
       "150  , Brand:FLUIDSHIELD* Level 3, UNSPSC Classific...  https://products.halyardhealth.com/infection-p...           NaN           NaN  \n",
       "151  Color:Orange, SO SOFT* Lining:No, UK SKU:P2882...  https://products.halyardhealth.com/infection-p...           NaN           NaN  \n",
       "152  Color:White with Pink & Blue Teddy Bears, SO S...  https://products.halyardhealth.com/infection-p...           NaN           NaN  \n",
       "153  Color:Orange, SO SOFT* Lining:Yes, UK SKU:P482...  https://products.halyardhealth.com/infection-p...           NaN           NaN  \n",
       "154  Color:Orange, SO SOFT* Lining:Yes, UK SKU:P482...  https://products.halyardhealth.com/infection-p...           NaN           NaN  \n",
       "155  Protection Visor Type:Wraparound Visor, PFE (....  https://products.halyardhealth.com/infection-p...           NaN           NaN  \n",
       "156  Protection Visor Type:Wraparound Visor, PFE (....  https://products.halyardhealth.com/infection-p...           NaN           NaN  \n",
       "157  , Brand:HALYARD*, UNSPSC Classification:421316...  https://products.halyardhealth.com/infection-p...           NaN           NaN  \n",
       "158  Color:Green, Brand:HALYARD*, UNSPSC Classifica...  https://products.halyardhealth.com/infection-p...           NaN           NaN  \n",
       "159  Color:Blue, Brand:HALYARD*, UNSPSC Classificat...  https://products.halyardhealth.com/infection-p...           NaN           NaN  \n",
       "160  FLUIDSHIELD* :N/A, DELTA P:4.5, UK SKU:P288090...  https://products.halyardhealth.com/infection-p...           NaN           NaN  \n",
       "161  FLUIDSHIELD* :N/A, BFE (3):≥ 98%, UK SKU:P6211...  https://products.halyardhealth.com/infection-p...           NaN           NaN  \n",
       "162  PFE (.1):99.1%, BFE (3):99.9%, UK SKU:P2880802...  https://products.halyardhealth.com/infection-p...           NaN           NaN  \n",
       "163  PFE (.1):≥ 98%, BFE (3):≥ 98%, Brand:FLUIDSHIE...  https://products.halyardhealth.com/infection-p...           NaN           NaN  \n",
       "164  Level of Protection:Level 1, Color:Green, UK S...  https://products.halyardhealth.com/infection-p...           NaN           NaN  \n",
       "165  FLUIDSHIELD* :N/A, SPLASH RESISTANCE (80,120,1...  https://products.halyardhealth.com/infection-p...           NaN           NaN  \n",
       "166  Color:Blue, PFE (.1):≥ 97%, Brand:HALYARD*, St...  https://products.halyardhealth.com/infection-p...           NaN           NaN  \n",
       "167  Color:Blue with Heart Symbol, PFE (.1):≥ 98%, ...  https://products.halyardhealth.com/infection-p...           NaN           NaN  \n",
       "168  Color:White with Pink & Blue Teddy Bears, PFE ...  https://products.halyardhealth.com/infection-p...           NaN           NaN  \n",
       "169  Color:White, PFE (.1):≥ 97%, Brand:HALYARD*, S...  https://products.halyardhealth.com/infection-p...           NaN           NaN  \n",
       "170  Color:Blue, PFE (.1):≥ 97%, Brand:HALYARD*, St...  https://products.halyardhealth.com/infection-p...           NaN           NaN  \n",
       "171  , Brand:HALYARD*, Color:White, Name:THE FRIEND...  https://products.halyardhealth.com/infection-p...           NaN           NaN  \n",
       "172  Color:White, BFE (3):≥ 98%, Brand:HALYARD*, St...  https://products.halyardhealth.com/infection-p...           NaN           NaN  \n",
       "173  Color:Blue, BFE (3):≥ 98%, Brand:HALYARD*, Ste...  https://products.halyardhealth.com/infection-p...           NaN           NaN  \n",
       "174  Fog Resistance:Fog-Free with Foam Strip, Brand...  https://products.halyardhealth.com/infection-p...           NaN           NaN  \n",
       "175  Fog Resistance:N/A, Brand:HALYARD*, UNSPSC Cla...  https://products.halyardhealth.com/infection-p...           NaN           NaN  \n",
       "176  Fog Resistance:Anti-Fog with Film Strip, Brand...  https://products.halyardhealth.com/infection-p...           NaN           NaN  \n",
       "177  Fog Resistance:Anti-Fog with Adhesive on Clear...  https://products.halyardhealth.com/infection-p...           NaN           NaN  \n",
       "178  , Brand:HALYARD*, UNSPSC Classification:421316...  https://products.halyardhealth.com/infection-p...           NaN           NaN  \n",
       "179  Color:Green, Brand:THE LITE ONE*, UNSPSC Class...  https://products.halyardhealth.com/infection-p...           NaN           NaN  \n",
       "180  Color:White, Brand:THE LITE ONE*, UNSPSC Class...  https://products.halyardhealth.com/infection-p...           NaN           NaN  \n",
       "181  Color:Blue, Brand:THE LITE ONE*, UNSPSC Classi...  https://products.halyardhealth.com/infection-p...           NaN           NaN  \n",
       "182  Size:Regular, Brand:HALYARD*, UNSPSC Classific...  https://products.halyardhealth.com/infection-p...           NaN           NaN  \n",
       "183  Size:Small, Brand:HALYARD*, UNSPSC Classificat...  https://products.halyardhealth.com/infection-p...           NaN           NaN  \n",
       "184  SAFETY SEAL*:No, Size:Small, Packaging:Individ...  https://products.halyardhealth.com/infection-p...           NaN           NaN  \n",
       "185  SAFETY SEAL*:No, Size:Regular, Packaging:Indiv...  https://products.halyardhealth.com/infection-p...           NaN           NaN  \n",
       "186  SAFETY SEAL*:No, Size:Small, UK SKU:P4682715, ...  https://products.halyardhealth.com/infection-p...           NaN           NaN  \n",
       "187  SAFETY SEAL*:No, Size:Regular, UK SKU:P4672717...  https://products.halyardhealth.com/infection-p...           NaN           NaN  \n",
       "188  SAFETY SEAL*:Yes, Size:Small, Packaging:N/A, D...  https://products.halyardhealth.com/infection-p...           NaN           NaN  \n",
       "189  SAFETY SEAL*:Yes, Size:Regular, Packaging:N/A,...  https://products.halyardhealth.com/infection-p...           NaN           NaN  \n",
       "190  Color:Green, Brand:HALYARD*, UNSPSC Classifica...  https://products.halyardhealth.com/infection-p...           NaN           NaN  \n",
       "191  Color:Blue, Brand:HALYARD*, UNSPSC Classificat...  https://products.halyardhealth.com/infection-p...           NaN           NaN  \n",
       "192  , Brand:HALYARD*, UNSPSC Classification:421316...  https://products.halyardhealth.com/infection-p...           NaN           NaN  \n",
       "193  , Brand:HALYARD*, UNSPSC Classification:421316...  https://products.halyardhealth.com/infection-p...           NaN           NaN  \n",
       "194  Face Shield Type:Full-Length Clear Visor, 9.5 ...  https://products.halyardhealth.com/infection-p...           NaN           NaN  \n",
       "195  Face Shield Type:Three-Quarter Length Clear Vi...  https://products.halyardhealth.com/infection-p...           NaN           NaN  \n",
       "196  , Brand:SAFEVIEW*, UNSPSC Classification:42131...  https://products.halyardhealth.com/infection-p...           NaN           NaN  \n",
       "197  , Brand:SAFEVIEW*, UNSPSC Classification:42131...  https://products.halyardhealth.com/infection-p...           NaN           NaN  \n",
       "198  , Brand:SAFEVIEW*, UNSPSC Classification:42131...  https://products.halyardhealth.com/infection-p...           NaN           NaN  \n",
       "199  , Brand:FLUIDSHIELD*, Sterile:No, Color:Blue a...  https://products.halyardhealth.com/infection-p...           NaN           NaN  \n",
       "200  SAFETY SEAL*:No, Size:Small, Brand:FLUIDSHIELD...  https://products.halyardhealth.com/infection-p...           NaN           NaN  \n",
       "201  SAFETY SEAL*:No, Size:Regular, Brand:FLUIDSHIE...  https://products.halyardhealth.com/infection-p...           NaN           NaN  \n",
       "202  SAFETY SEAL*:Yes, Size:Small, Brand:FLUIDSHIEL...  https://products.halyardhealth.com/infection-p...           NaN           NaN  \n",
       "203  SAFETY SEAL*:Yes, Size:Regular, Brand:FLUIDSHI...  https://products.halyardhealth.com/infection-p...           NaN           NaN  \n",
       "204  , Brand:HALYARD*, UNSPSC Classification:421316...  https://products.halyardhealth.com/infection-p...           NaN           NaN  \n",
       "205  , Brand:HALYARD*, UNSPSC Classification:421316...  https://products.halyardhealth.com/infection-p...           NaN           NaN  \n",
       "206  , Brand:HALYARD*, UNSPSC Classification:421316...  https://products.halyardhealth.com/infection-p...           NaN           NaN  \n",
       "207  , Brand:HALYARD*, UNSPSC Classification:421316...  https://products.halyardhealth.com/infection-p...           NaN           NaN  \n",
       "208  , Brand:HALYARD*, UNSPSC Classification:421316...  https://products.halyardhealth.com/infection-p...           NaN           NaN  \n",
       "209  , Brand:HALYARD*, UNSPSC Classification:421316...  https://products.halyardhealth.com/infection-p...           NaN           NaN  \n",
       "210  , UNSPSC Classification:42131504, Natural Rubb...  https://products.halyardhealth.com/infection-p...           NaN           NaN  \n",
       "211  , UNSPSC Classification:42131702, Natural Rubb...  https://products.halyardhealth.com/infection-p...           NaN           NaN  \n",
       "212  , UNSPSC Classification:42131507, Natural Rubb...  https://products.halyardhealth.com/infection-p...           NaN           NaN  \n",
       "213  , UNSPSC Classification:53102606, Natural Rubb...  https://products.halyardhealth.com/infection-p...           NaN           NaN  \n",
       "214  Size:Large, Color:Yellow, UK SKU:P5410007, Dim...  https://products.halyardhealth.com/infection-p...           NaN           NaN  \n",
       "215  Size:X-Large, Color:Yellow, UK SKU:P5410107, D...  https://products.halyardhealth.com/infection-p...           NaN           NaN  \n",
       "216  Size:Large, Color:Blue, UK SKU:P5411007, Dimen...  https://products.halyardhealth.com/infection-p...           NaN           NaN  \n",
       "217  Size:X-Large, Color:Blue, UK SKU:P5411107, Dim...  https://products.halyardhealth.com/infection-p...           NaN           NaN  \n",
       "218  Size:Large, Chest:27.6 in / 70.1 cm., Length:4...  https://products.halyardhealth.com/infection-p...           NaN           NaN  \n",
       "219  Size:X-Large, Chest:28.5 in. / 72.4 cm., Lengt...  https://products.halyardhealth.com/infection-p...           NaN           NaN  \n",
       "220  Size:Universal, Brand:HALYARD*, Name:HALYARD* ...  https://products.halyardhealth.com/infection-p...           NaN           NaN  \n",
       "221  Size:X-Large, Brand:HALYARD*, Name:HALYARD* Ov...  https://products.halyardhealth.com/infection-p...           NaN           NaN  \n",
       "222  Size:Large, Fabric:Tri-Layer SMS, Color:Yellow...  https://products.halyardhealth.com/infection-p...           NaN           NaN  \n",
       "223  Size:X-Large, Fabric:Tri-Layer SMS, Color:Yell...  https://products.halyardhealth.com/infection-p...           NaN           NaN  \n",
       "224  Size:XX-Large, Fabric:Tri-Layer SMS, Color:Yel...  https://products.halyardhealth.com/infection-p...           NaN           NaN  \n",
       "225  Size:Universal, Chest:26 in. / 67.0 cm., Lengt...  https://products.halyardhealth.com/infection-p...           NaN           NaN  \n",
       "226  Size:Large, Chest:29.5 in. / 75.0 cm., Length:...  https://products.halyardhealth.com/infection-p...           NaN           NaN  \n",
       "227  Size:X-Large, Chest:32 in. / 82.0 cm, Length:5...  https://products.halyardhealth.com/infection-p...           NaN           NaN  \n",
       "228  Size:Universal, Chest:33 in. / 84 cm., Length:...  https://products.halyardhealth.com/infection-p...           NaN           NaN  \n",
       "229  Size:X-Large, Chest:34.5 in. / 87.5 cm., Lengt...  https://products.halyardhealth.com/infection-p...           NaN           NaN  \n",
       "230  Size:Universal, Chest:28.5 in. / 72.5 cm., Sle...  https://products.halyardhealth.com/infection-p...           NaN           NaN  \n",
       "231  Size:X-Large, Chest:30 in. / 76 cm., Sleeve Le...  https://products.halyardhealth.com/infection-p...           NaN           NaN  \n",
       "232  Size:Universal, Chest:28.5 in. / 72.5 cm., Len...  https://products.halyardhealth.com/infection-p...           NaN           NaN  \n",
       "233  Size:X-Large, Chest:30 in. / 76 cm., Length:48...  https://products.halyardhealth.com/infection-p...           NaN           NaN  \n",
       "234  Size:Universal, Chest:27.5 in. / 70 cm., Sleev...  https://products.halyardhealth.com/infection-p...           NaN           NaN  \n",
       "235  Size:X-Large, Chest:29 in. / 74 cm., Sleeve Le...  https://products.halyardhealth.com/infection-p...           NaN           NaN  \n",
       "236  Size:Universal, Chest:28 in. / 71.1 cm., Lengt...  https://products.halyardhealth.com/infection-p...           NaN           NaN  \n",
       "237  Size:XX-Large, Chest:33 in. / 84 cm., Length:4...  https://products.halyardhealth.com/infection-p...           NaN           NaN  \n",
       "238  Size:Large, Color:Yellow, Cuff End:Elastic, Di...  https://products.halyardhealth.com/infection-p...           NaN           NaN  \n",
       "239  Size:Large, Color:Yellow, UK SKU:P6997987, Cuf...  https://products.halyardhealth.com/infection-p...           NaN           NaN  \n",
       "240  Size:Universal, Color:Blue, UK SKU:P6998137, C...  https://products.halyardhealth.com/infection-p...           NaN           NaN  \n",
       "241  Size:Universal, Color:Yellow, Cuff End:Elastic...  https://products.halyardhealth.com/infection-p...           NaN           NaN  \n",
       "242  Size:X-Large, Color:Blue, UK SKU:P6998707, Cuf...  https://products.halyardhealth.com/infection-p...           NaN           NaN  \n",
       "243  Size:X-Large, Color:Yellow, UK SKU:P6998827, C...  https://products.halyardhealth.com/infection-p...           NaN           NaN  \n",
       "244  Size:X-Large, Color:Blue, Cuff End:Elastic, Di...  https://products.halyardhealth.com/infection-p...           NaN           NaN  \n",
       "245  Size:Large, Color:Yellow, Cuff End:Thumb Hooks...  https://products.halyardhealth.com/infection-p...           NaN           NaN  \n",
       "246  Size:X-Large, Color:Yellow, Cuff End:Thumb Hoo...  https://products.halyardhealth.com/infection-p...           NaN           NaN  \n",
       "247  Size:Universal, Fabric:Tri-Layer Fabric, Color...  https://products.halyardhealth.com/infection-p...           NaN           NaN  \n",
       "248  Size:X-Large, Fabric:Tri-Layer Fabric, Color:Y...  https://products.halyardhealth.com/infection-p...           NaN           NaN  \n",
       "249  Size:Large, Fabric:Tri-Layer Fabric, Color:Yel...  https://products.halyardhealth.com/infection-p...           NaN           NaN  \n",
       "250  Size:X-Large, Fabric:Tri-Layer Fabric, Color:Y...  https://products.halyardhealth.com/infection-p...           NaN           NaN  \n",
       "251  Size:Large, Color:Blue, UK SKU:P5431007, Dimen...  https://products.halyardhealth.com/infection-p...           NaN           NaN  \n",
       "252  Size:X-Large, Color:Blue, UK SKU:P5431107, Dim...  https://products.halyardhealth.com/infection-p...           NaN           NaN  \n",
       "253  Size:Universal, Color:Yellow, UK SKU:P6912407,...  https://products.halyardhealth.com/infection-p...           NaN           NaN  \n",
       "254  Size:X-Large, Color:Yellow, UK SKU:P6912507, D...  https://products.halyardhealth.com/infection-p...           NaN           NaN  \n",
       "255  Size:Universal, Color:Blue, Dimensions (in., C...  https://products.halyardhealth.com/infection-p...           NaN           NaN  \n",
       "256  Size:X-Large, Color:Blue, Dimensions (in., Che...  https://products.halyardhealth.com/infection-p...           NaN           NaN  \n",
       "257  , UNSPSC Classification:42131612, Name:Impervi...  https://products.halyardhealth.com/infection-p...           NaN           NaN  \n",
       "258  Size:X-Large, Dimensions (in., Chest Width / L...  https://products.halyardhealth.com/infection-p...           NaN           NaN  \n",
       "259  Size:Universal, Dimensions (in., Chest Width /...  https://products.halyardhealth.com/infection-p...           NaN           NaN  \n",
       "260  Size:Universal, Expected Exposure to Fluids or...  https://products.halyardhealth.com/infection-p...           NaN           NaN  \n",
       "261  Size:X-Large, Expected Exposure to Fluids or C...  https://products.halyardhealth.com/infection-p...           NaN           NaN  \n",
       "262  Size:Universal, Cuff End:Knit, UK SKU:P6960057...  https://products.halyardhealth.com/infection-p...           NaN           NaN  \n",
       "263  Size:XX-Large, Cuff End:Knit, UK SKU:P6960157,...  https://products.halyardhealth.com/infection-p...           NaN           NaN  \n",
       "264  Size:Universal, Cuff End:Thumb Hooks, UK SKU:P...  https://products.halyardhealth.com/infection-p...           NaN           NaN  \n",
       "265  Size:XX-Large, Cuff End:Thumb Hooks, UK SKU:P6...  https://products.halyardhealth.com/infection-p...           NaN           NaN  \n",
       "266  Size:X-Large, Dimensions (in., Chest Width / L...  https://products.halyardhealth.com/infection-p...           NaN           NaN  \n",
       "267  Size:Universal, Dimensions (in., Chest Width /...  https://products.halyardhealth.com/infection-p...           NaN           NaN  \n",
       "268  Size:XX-Large, Color:Yellow, Dimensions (in., ...  https://products.halyardhealth.com/infection-p...           NaN           NaN  \n",
       "269  Size:Universal, Color:Yellow, Dimensions (in.,...  https://products.halyardhealth.com/infection-p...           NaN           NaN  \n",
       "270  Size:XX-Large, Color:Yellow, Dimensions (in., ...  https://products.halyardhealth.com/infection-p...           NaN           NaN  \n",
       "271  Size:Universal, Color:Yellow, Dimensions (in.,...  https://products.halyardhealth.com/infection-p...           NaN           NaN  \n",
       "272  Size:Universal, Chest:28 in. / 71 cm., Length:...  https://products.halyardhealth.com/infection-p...           NaN           NaN  \n",
       "273  Size:XX-Large, Chest:33.5 in. / 85 cm., Length...  https://products.halyardhealth.com/infection-p...           NaN           NaN  \n",
       "274  , UNSPSC Classification:42131604, Sterile:No, ...  https://products.halyardhealth.com/infection-p...           NaN           NaN  \n",
       "275  Size:Large  24 in., Color:White, Fabric:3-Laye...  https://products.halyardhealth.com/infection-p...           NaN           NaN  \n",
       "276  Size:X-Large 27 in., Color:White, Fabric:3-Lay...  https://products.halyardhealth.com/infection-p...           NaN           NaN  \n",
       "277  Size:Large  24 in., Color:Blue, Fabric:3-Layer...  https://products.halyardhealth.com/infection-p...           NaN           NaN  \n",
       "278  Fabric:4-Ply Tissue with Polyester Reinforceme...  https://products.halyardhealth.com/infection-p...           NaN           NaN  \n",
       "279  Fabric:3-Layer SMS on Sides, Spunbond on Top, ...  https://products.halyardhealth.com/infection-p...           NaN           NaN  \n",
       "280  , Brand:HALYARD*, Name:HALYARD* Bloodborne Pat...  https://products.halyardhealth.com/infection-p...           NaN           NaN  \n",
       "281  Size:Large, Color:Blue, Brand:HALYARD*, Steril...  https://products.halyardhealth.com/infection-p...           NaN           NaN  \n",
       "282  Size:Large, Color:Blue, Brand:HALYARD*, Steril...  https://products.halyardhealth.com/infection-p...           NaN           NaN  \n",
       "283  Size:X-Large, Color:Blue, Brand:HALYARD*, Ster...  https://products.halyardhealth.com/infection-p...           NaN           NaN  \n",
       "284  Size:X-Large, Color:Red, Brand:HALYARD*, Steri...  https://products.halyardhealth.com/infection-p...           NaN           NaN  \n",
       "285  Size:Large, Color:Red, Brand:HALYARD*, Sterile...  https://products.halyardhealth.com/infection-p...           NaN           NaN  \n",
       "286  Size:Universal, Expected Exposure to Fluids or...  https://products.halyardhealth.com/infection-p...           NaN           NaN  \n",
       "287  Size:Universal, Expected Exposure to Fluids or...  https://products.halyardhealth.com/infection-p...           NaN           NaN  \n",
       "288  , UNSPSC Classification:42131609, Sterile:No, ...  https://products.halyardhealth.com/infection-p...           NaN           NaN  \n",
       "289  Size:Universal, Brand:HALYARD BASICS*, UNSPSC ...  https://products.halyardhealth.com/infection-p...           NaN           NaN  \n",
       "290  Size:X-Large, Brand:HALYARD BASICS*, UNSPSC Cl...  https://products.halyardhealth.com/infection-p...           NaN           NaN  \n",
       "291  Size:X-Large, Brand:X-TRA TRACTION*, UNSPSC Cl...  https://products.halyardhealth.com/infection-p...           NaN           NaN  \n",
       "292  Size:Universal, Brand:X-TRA TRACTION*, UNSPSC ...  https://products.halyardhealth.com/infection-p...           NaN           NaN  \n",
       "293  Size:X-Large, Brand:HALYARD*, UNSPSC Classific...  https://products.halyardhealth.com/infection-p...           NaN           NaN  \n",
       "294  Size:Universal, Brand:HALYARD*, UNSPSC Classif...  https://products.halyardhealth.com/infection-p...           NaN           NaN  \n",
       "295  Size:Universal, Type of Coverage:Regular Full ...  https://products.halyardhealth.com/infection-p...           NaN           NaN  \n",
       "296  Size:X-Large, Type of Coverage:Regular Full Co...  https://products.halyardhealth.com/infection-p...           NaN           NaN  \n",
       "297  Size:Universal, Type of Coverage:Ultra Full Co...  https://products.halyardhealth.com/infection-p...           NaN           NaN  \n",
       "298  Size:X-Large, Type of Coverage:Ultra Full Cove...  https://products.halyardhealth.com/infection-p...           NaN           NaN  \n",
       "299  Size:Small, Chest:57.15 cm., Front Length:95.3...  https://products.halyardhealth.com/infection-p...           NaN           NaN  \n",
       "300  Size:Medium, Chest:60.35 cm., Front Length:106...  https://products.halyardhealth.com/infection-p...           NaN           NaN  \n",
       "301  Size:Large, Chest:67.75 cm., Front Length:107....  https://products.halyardhealth.com/infection-p...           NaN           NaN  \n",
       "302  Size:X-Large, Chest:73.05 cm., Front Length:10...  https://products.halyardhealth.com/infection-p...           NaN           NaN  \n",
       "303  Size:XX-Large, Chest:81.45 cm., Front Length:1...  https://products.halyardhealth.com/infection-p...           NaN           NaN  \n",
       "304  Size:XXX-Large, Chest:91.5 cm., Front Length:1...  https://products.halyardhealth.com/infection-p...           NaN           NaN  \n",
       "305  Size:Small, Color:White, Chest:54.2 cm., Front...  https://products.halyardhealth.com/infection-p...           NaN           NaN  \n",
       "306  Size:Small, Color:White, Chest:54.2 cm., Front...  https://products.halyardhealth.com/infection-p...           NaN           NaN  \n",
       "307  Size:Medium, Chest:60.75 cm., UK SKU:P1006757,...  https://products.halyardhealth.com/infection-p...           NaN           NaN  \n",
       "308  Size:Large, Chest:68.4 cm., UK SKU:P1007857, B...  https://products.halyardhealth.com/infection-p...           NaN           NaN  \n",
       "309  Size:X-Large, Chest:73.35 cm., UK SKU:P1008757...  https://products.halyardhealth.com/infection-p...           NaN           NaN  \n",
       "310  Size:Small, Chest:54.2 cm., Back Length:105.4 ...  https://products.halyardhealth.com/infection-p...           NaN           NaN  \n",
       "311  Size:Medium, Chest:60.75 cm., UK SKU:P1007157,...  https://products.halyardhealth.com/infection-p...           NaN           NaN  \n",
       "312  Size:Large, Chest:68.24 cm., Back Length:77.5 ...  https://products.halyardhealth.com/infection-p...           NaN           NaN  \n",
       "313  Size:X-Large, Chest:72.35 cm., Back Length:118...  https://products.halyardhealth.com/infection-p...           NaN           NaN  \n",
       "314  Size:Small, Length:104 cm., Sleeve Length:76 c...  https://products.halyardhealth.com/infection-p...           NaN           NaN  \n",
       "315  Size:Medium, Length:107 cm., Sleeve Length:82 ...  https://products.halyardhealth.com/infection-p...           NaN           NaN  \n",
       "316  Size:Large, Length:110 cm., Sleeve Length:90 c...  https://products.halyardhealth.com/infection-p...           NaN           NaN  \n",
       "317  Size:X-Large, Length:113 cm., Sleeve Length:93...  https://products.halyardhealth.com/infection-p...           NaN           NaN  \n",
       "318  Size:XX-Large, Length:117 cm., Sleeve Length:9...  https://products.halyardhealth.com/infection-p...           NaN           NaN  \n",
       "319  Size:Small, Length:68 cm., Sleeve Length:86 cm...  https://products.halyardhealth.com/infection-p...           NaN           NaN  \n",
       "320  Size:Medium, Length:72 cm., Sleeve Length:89 c...  https://products.halyardhealth.com/infection-p...           NaN           NaN  \n",
       "321  Size:Large, Length:78 cm., Sleeve Length:91.5 ...  https://products.halyardhealth.com/infection-p...           NaN           NaN  \n",
       "322  Size:X-Large, Length:88 cm., Sleeve Length:100...  https://products.halyardhealth.com/infection-p...           NaN           NaN  \n",
       "323  Size:XX-Large, Length:94 cm., Sleeve Length:11...  https://products.halyardhealth.com/infection-p...           NaN           NaN  \n",
       "324  Size:Large, Chest:66.05 cm., Back Length:170.2...  https://products.halyardhealth.com/infection-p...           NaN           NaN  \n",
       "325  Size:X-Large, Chest:67.95 cm., Back Length:172...  https://products.halyardhealth.com/infection-p...           NaN           NaN  \n",
       "326  Size:XX-Large, Chest:71.1 cm., Back Length:174...  https://products.halyardhealth.com/infection-p...           NaN           NaN  \n",
       "327  Size:Large, Chest:65.4 cm., Front Length:167.6...  https://products.halyardhealth.com/infection-p...           NaN           NaN  \n",
       "328  Size:XXX-Large, Chest:76 cm., Front Length:190...  https://products.halyardhealth.com/infection-p...           NaN           NaN  \n",
       "329  Size:X-Large, Chest:68.6 cm., Front Length:170...  https://products.halyardhealth.com/infection-p...           NaN           NaN  \n",
       "330  Size:XX-Large, Chest:73.05 cm., Front Length:1...  https://products.halyardhealth.com/infection-p...           NaN           NaN  \n",
       "331  , Brand:HALYARD*, UNSPSC Classification:421316...  https://products.halyardhealth.com/infection-p...           NaN           NaN  \n",
       "332  Size:Medium, Front Length:109.3 cm., UK SKU:P6...  https://products.halyardhealth.com/infection-p...           NaN           NaN  \n",
       "333  Size:Large, Front Length:115.5 cm., UK SKU:P69...  https://products.halyardhealth.com/infection-p...           NaN           NaN  \n",
       "334  Size:X-Large, Front Length:119.9 cm., UK SKU:P...  https://products.halyardhealth.com/infection-p...           NaN           NaN  \n",
       "335  Size:XX-Large, Front Length:124.4 cm., UK SKU:...  https://products.halyardhealth.com/infection-p...           NaN           NaN  \n",
       "336  Size:Medium, Front Length:71.1 cm., UK SKU:P69...  https://products.halyardhealth.com/infection-p...           NaN           NaN  \n",
       "337  Size:Large, Front Length:71.1 cm., UK SKU:P697...  https://products.halyardhealth.com/infection-p...           NaN           NaN  \n",
       "338  Size:X-Large, Front Length:77.5 cm., UK SKU:P6...  https://products.halyardhealth.com/infection-p...           NaN           NaN  \n",
       "339  Size:XX-Large, Front Length:75.6 cm., UK SKU:P...  https://products.halyardhealth.com/infection-p...           NaN           NaN  "
      ]
     },
     "execution_count": 109,
     "metadata": {},
     "output_type": "execute_result"
    }
   ],
   "source": [
    "df_total2"
   ]
  },
  {
   "cell_type": "code",
   "execution_count": 111,
   "metadata": {},
   "outputs": [],
   "source": [
    "upcs2 = upcs2[~upcs2.product_number.isin(df_total2.product_number)]"
   ]
  },
  {
   "cell_type": "code",
   "execution_count": 112,
   "metadata": {},
   "outputs": [],
   "source": [
    "upcs2['group'] = 'Medical Exam Gloves'"
   ]
  },
  {
   "cell_type": "code",
   "execution_count": 114,
   "metadata": {},
   "outputs": [],
   "source": [
    "upcs2 = upcs2.rename(columns={'style':'product_line'})"
   ]
  },
  {
   "cell_type": "code",
   "execution_count": 116,
   "metadata": {},
   "outputs": [],
   "source": [
    "upcs2['sub-group'] = 'Nitrile'"
   ]
  },
  {
   "cell_type": "code",
   "execution_count": 117,
   "metadata": {},
   "outputs": [],
   "source": [
    "upcs2 = upcs2[df_total2.columns]"
   ]
  },
  {
   "cell_type": "code",
   "execution_count": 120,
   "metadata": {},
   "outputs": [],
   "source": [
    "df_total2 = upcs2.append(df_total2)"
   ]
  },
  {
   "cell_type": "code",
   "execution_count": 123,
   "metadata": {},
   "outputs": [],
   "source": [
    "df_total2 = df_total2.reset_index(drop=True)"
   ]
  },
  {
   "cell_type": "code",
   "execution_count": 128,
   "metadata": {},
   "outputs": [],
   "source": [
    "df_total2.iloc[211].description = df_total2.iloc[211].description.replace('\\n', '')"
   ]
  },
  {
   "cell_type": "code",
   "execution_count": 129,
   "metadata": {},
   "outputs": [],
   "source": [
    "df_total2.to_csv('output/df_total_gtin.csv', index=False)"
   ]
  }
 ],
 "metadata": {
  "kernelspec": {
   "display_name": "Python 3",
   "language": "python",
   "name": "python3"
  },
  "language_info": {
   "codemirror_mode": {
    "name": "ipython",
    "version": 3
   },
   "file_extension": ".py",
   "mimetype": "text/x-python",
   "name": "python",
   "nbconvert_exporter": "python",
   "pygments_lexer": "ipython3",
   "version": "3.7.9"
  }
 },
 "nbformat": 4,
 "nbformat_minor": 4
}
