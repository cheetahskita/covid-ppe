{
 "cells": [
  {
   "cell_type": "code",
   "execution_count": 1,
   "metadata": {},
   "outputs": [],
   "source": [
    "import pandas as pd"
   ]
  },
  {
   "cell_type": "code",
   "execution_count": 17,
   "metadata": {},
   "outputs": [],
   "source": [
    "template = pd.read_csv('tcesr-template.csv').dropna()"
   ]
  },
  {
   "cell_type": "code",
   "execution_count": 18,
   "metadata": {},
   "outputs": [
    {
     "data": {
      "text/html": [
       "<div>\n",
       "<style scoped>\n",
       "    .dataframe tbody tr th:only-of-type {\n",
       "        vertical-align: middle;\n",
       "    }\n",
       "\n",
       "    .dataframe tbody tr th {\n",
       "        vertical-align: top;\n",
       "    }\n",
       "\n",
       "    .dataframe thead th {\n",
       "        text-align: right;\n",
       "    }\n",
       "</style>\n",
       "<table border=\"1\" class=\"dataframe\">\n",
       "  <thead>\n",
       "    <tr style=\"text-align: right;\">\n",
       "      <th></th>\n",
       "      <th>Product name</th>\n",
       "      <th>GTIN</th>\n",
       "      <th>Manufacturer</th>\n",
       "      <th>Intended markets</th>\n",
       "      <th>Country of Origin</th>\n",
       "      <th>Schema.org Type</th>\n",
       "      <th>Description (Free text)</th>\n",
       "      <th>Product Website</th>\n",
       "      <th>Data source URL</th>\n",
       "      <th>gs1:Brand</th>\n",
       "      <th>gs1:pip</th>\n",
       "      <th>gs1:itemCertification</th>\n",
       "      <th>gs1:equivalentProduct</th>\n",
       "      <th>gs1: isWearableItemDisposable</th>\n",
       "      <th>scema.org mpn</th>\n",
       "    </tr>\n",
       "  </thead>\n",
       "  <tbody>\n",
       "    <tr>\n",
       "      <th>0</th>\n",
       "      <td>3M Health Care Particulate Respirator and Surg...</td>\n",
       "      <td>5.070000e+13</td>\n",
       "      <td>3M</td>\n",
       "      <td>US</td>\n",
       "      <td>US</td>\n",
       "      <td>Product</td>\n",
       "      <td>Details\\nSmall-sized health care respirator an...</td>\n",
       "      <td>https://www.3m.com/</td>\n",
       "      <td>https://www.3m.com/3M/en_US/company-us/all-3m-...</td>\n",
       "      <td>3M</td>\n",
       "      <td>https://www.3m.com/3M/en_US/company-us/all-3m-...</td>\n",
       "      <td>N95 &amp; FDA Cleared</td>\n",
       "      <td>2 08 85380 02928 5</td>\n",
       "      <td>Yes</td>\n",
       "      <td>7.007061e+10</td>\n",
       "    </tr>\n",
       "  </tbody>\n",
       "</table>\n",
       "</div>"
      ],
      "text/plain": [
       "                                        Product name          GTIN  \\\n",
       "0  3M Health Care Particulate Respirator and Surg...  5.070000e+13   \n",
       "\n",
       "  Manufacturer Intended markets Country of Origin Schema.org Type  \\\n",
       "0           3M               US                US         Product   \n",
       "\n",
       "                             Description (Free text)      Product Website  \\\n",
       "0  Details\\nSmall-sized health care respirator an...  https://www.3m.com/   \n",
       "\n",
       "                                     Data source URL gs1:Brand  \\\n",
       "0  https://www.3m.com/3M/en_US/company-us/all-3m-...        3M   \n",
       "\n",
       "                                             gs1:pip gs1:itemCertification  \\\n",
       "0  https://www.3m.com/3M/en_US/company-us/all-3m-...     N95 & FDA Cleared   \n",
       "\n",
       "  gs1:equivalentProduct gs1: isWearableItemDisposable  scema.org mpn  \n",
       "0    2 08 85380 02928 5                           Yes   7.007061e+10  "
      ]
     },
     "execution_count": 18,
     "metadata": {},
     "output_type": "execute_result"
    }
   ],
   "source": [
    "template.head()"
   ]
  }
 ],
 "metadata": {
  "kernelspec": {
   "display_name": "Python 3",
   "language": "python",
   "name": "python3"
  },
  "language_info": {
   "codemirror_mode": {
    "name": "ipython",
    "version": 3
   },
   "file_extension": ".py",
   "mimetype": "text/x-python",
   "name": "python",
   "nbconvert_exporter": "python",
   "pygments_lexer": "ipython3",
   "version": "3.7.9"
  }
 },
 "nbformat": 4,
 "nbformat_minor": 4
}
